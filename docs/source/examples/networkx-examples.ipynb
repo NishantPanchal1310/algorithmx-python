{
 "cells": [
  {
   "cell_type": "markdown",
   "metadata": {},
   "source": [
    "# NetworkX Examples"
   ]
  },
  {
   "cell_type": "markdown",
   "metadata": {},
   "source": [
    "Let's begin by creating a directed graph with random edge weights."
   ]
  },
  {
   "cell_type": "code",
   "execution_count": 1,
   "metadata": {},
   "outputs": [
    {
     "data": {
      "application/vnd.jupyter.widget-view+json": {
       "model_id": "a2c3e1d9728f448786d82d966d887cb1",
       "version_major": 2,
       "version_minor": 0
      },
      "text/plain": [
       "JupyterClient(events=['{\"type\": \"update\", \"queue\": \"default\", \"data\": {\"attributes\": {\"nodes\": {\"0\": {\"visible…"
      ]
     },
     "metadata": {},
     "output_type": "display_data"
    }
   ],
   "source": [
    "import algorithmx\n",
    "import networkx as nx\n",
    "from random import randint\n",
    "\n",
    "canvas = algorithmx.jupyter_canvas()\n",
    "\n",
    "# Create a directed graph\n",
    "G = nx.circular_ladder_graph(5).to_directed()\n",
    "# Randomize edge weights\n",
    "nx.set_edge_attributes(G, {e: {'weight': randint(1, 9)} for e in G.edges})\n",
    "\n",
    "# Add nodes\n",
    "canvas.nodes(G.nodes).add()\n",
    "\n",
    "# Add directed edges with weight labels\n",
    "canvas.edges(G.edges).add().directed(True) \\\n",
    "    .label().text(lambda e: G.edges[e]['weight'])\n",
    "\n",
    "canvas"
   ]
  },
  {
   "cell_type": "markdown",
   "metadata": {},
   "source": [
    "Next, we can use NetworkX run a breadth-first search, and AlgorithmX to animate it."
   ]
  },
  {
   "cell_type": "code",
   "execution_count": 2,
   "metadata": {
    "scrolled": false
   },
   "outputs": [
    {
     "data": {
      "application/vnd.jupyter.widget-view+json": {
       "model_id": "7c6f7487e2c847238ad9a6104f388290",
       "version_major": 2,
       "version_minor": 0
      },
      "text/plain": [
       "JupyterClient(events=['{\"type\": \"update\", \"queue\": \"default\", \"data\": {\"attributes\": {\"size\": [500, 400]}, \"an…"
      ]
     },
     "metadata": {},
     "output_type": "display_data"
    }
   ],
   "source": [
    "canvas = algorithmx.jupyter_canvas(buttons=True)\n",
    "canvas.size((500, 400))\n",
    "\n",
    "# Generate a 'caveman' graph with 3 cliques of size 4\n",
    "G = nx.connected_caveman_graph(3, 4)\n",
    "\n",
    "# Add nodes and edges\n",
    "canvas.nodes(G.nodes).add()\n",
    "canvas.edges(G.edges).add()\n",
    "canvas.pause(1)\n",
    "\n",
    "# Traverse the graph using breadth-first search\n",
    "bfs = nx.edge_bfs(G, 0)\n",
    "\n",
    "# Animate traversal\n",
    "source = None\n",
    "for e in bfs:\n",
    "    if e[0] != source:\n",
    "        # Make the new source large\n",
    "        canvas.node(e[0]).size('1.25x').color('purple')\n",
    "        # Make the previous source small again\n",
    "        if source is not None:\n",
    "            canvas.node(source).size('0.8x')\n",
    "        # Update source node\n",
    "        source = e[0]\n",
    "        canvas.pause(0.5)\n",
    "    \n",
    "    # Traverse edges\n",
    "    canvas.edge(e).traverse().color('pink')\n",
    "    canvas.pause(0.5)\n",
    "\n",
    "# Make the remaining source small again\n",
    "canvas.node(source).size('0.8x')\n",
    "\n",
    "canvas"
   ]
  },
  {
   "cell_type": "markdown",
   "metadata": {},
   "source": [
    "For our final visualization, let's find the shortest path on a random graph using Dijkstra's algorithm."
   ]
  },
  {
   "cell_type": "code",
   "execution_count": 3,
   "metadata": {},
   "outputs": [
    {
     "data": {
      "application/vnd.jupyter.widget-view+json": {
       "model_id": "1110fe5b679a4881bd00f789f807603c",
       "version_major": 2,
       "version_minor": 0
      },
      "text/plain": [
       "JupyterClient(events=['{\"type\": \"update\", \"queue\": \"default\", \"data\": {\"attributes\": {\"size\": [500, 400]}, \"an…"
      ]
     },
     "metadata": {},
     "output_type": "display_data"
    }
   ],
   "source": [
    "import random\n",
    "random.seed(436)\n",
    "\n",
    "canvas = algorithmx.jupyter_canvas(buttons=True)\n",
    "canvas.size((500, 400))\n",
    "\n",
    "# Generate random graph with random edge weights\n",
    "G = nx.newman_watts_strogatz_graph(16, 2, 0.4, seed=537)\n",
    "nx.set_edge_attributes(G, {e: randint(1, 20) for e in G.edges}, 'weight')\n",
    "\n",
    "# Add nodes and edges with weight labels\n",
    "canvas.nodes(G.nodes).add()\n",
    "canvas.edges(G.edges).add().label().text(lambda e: G.edges[e]['weight'])\n",
    "canvas.pause(1)\n",
    "\n",
    "# Select source and target\n",
    "source = 0\n",
    "target = 8\n",
    "canvas.node(source).color('green').highlight().size('1.25x')\n",
    "canvas.node(target).color('red').highlight().size('1.25x')\n",
    "canvas.pause(1.5)\n",
    "\n",
    "# Run Dijkstra's shortest path algorithm\n",
    "path = nx.dijkstra_path(G, source, target)\n",
    "\n",
    "# Animate the algorithm\n",
    "path_length = 0\n",
    "for i in range(len(path) - 1):\n",
    "    u, v = path[i], path[i + 1]\n",
    "    \n",
    "    # Update path length\n",
    "    path_length += G[u][v]['weight']\n",
    "    \n",
    "    # Traverse edge\n",
    "    canvas.edge((u, v)).traverse().color('blue')\n",
    "    canvas.pause(0.4)\n",
    "    \n",
    "    # Make the next node blue, unless it's the target\n",
    "    if v != target:\n",
    "        canvas.node(v).color('blue')\n",
    "    \n",
    "    # Add a label to indicate current path length\n",
    "    canvas.node(v).label('path').add().color('blue').text(path_length)\n",
    "    canvas.pause(0.4)\n",
    "\n",
    "canvas"
   ]
  }
 ],
 "metadata": {
  "kernelspec": {
   "display_name": "Python 3",
   "language": "python",
   "name": "python3"
  },
  "language_info": {
   "codemirror_mode": {
    "name": "ipython",
    "version": 3
   },
   "file_extension": ".py",
   "mimetype": "text/x-python",
   "name": "python",
   "nbconvert_exporter": "python",
   "pygments_lexer": "ipython3",
   "version": "3.6.7"
  },
  "widgets": {
   "application/vnd.jupyter.widget-state+json": {
    "state": {
     "1110fe5b679a4881bd00f789f807603c": {
      "model_module": "algorithmx-jupyter",
      "model_module_version": "^2.0.0",
      "model_name": "AlgorithmxModel",
      "state": {
       "_model_module_version": "^2.0.0",
       "_view_module_version": "^2.0.0",
       "events": [
        "{\"type\": \"update\", \"queue\": \"default\", \"data\": {\"attributes\": {\"size\": [500, 400]}, \"animation\": {}}}",
        "{\"type\": \"update\", \"queue\": \"default\", \"data\": {\"attributes\": {\"nodes\": {\"0\": {\"visible\": true}, \"1\": {\"visible\": true}, \"2\": {\"visible\": true}, \"3\": {\"visible\": true}, \"4\": {\"visible\": true}, \"5\": {\"visible\": true}, \"6\": {\"visible\": true}, \"7\": {\"visible\": true}, \"8\": {\"visible\": true}, \"9\": {\"visible\": true}, \"10\": {\"visible\": true}, \"11\": {\"visible\": true}, \"12\": {\"visible\": true}, \"13\": {\"visible\": true}, \"14\": {\"visible\": true}, \"15\": {\"visible\": true}}}, \"animation\": {}}}",
        "{\"type\": \"update\", \"queue\": \"default\", \"data\": {\"attributes\": {\"edges\": {\"0-1\": {\"visible\": true, \"source\": \"0\", \"target\": \"1\"}, \"0-15\": {\"visible\": true, \"source\": \"0\", \"target\": \"15\"}, \"1-2\": {\"visible\": true, \"source\": \"1\", \"target\": \"2\"}, \"1-14\": {\"visible\": true, \"source\": \"1\", \"target\": \"14\"}, \"1-5\": {\"visible\": true, \"source\": \"1\", \"target\": \"5\"}, \"2-3\": {\"visible\": true, \"source\": \"2\", \"target\": \"3\"}, \"3-4\": {\"visible\": true, \"source\": \"3\", \"target\": \"4\"}, \"4-5\": {\"visible\": true, \"source\": \"4\", \"target\": \"5\"}, \"5-6\": {\"visible\": true, \"source\": \"5\", \"target\": \"6\"}, \"6-7\": {\"visible\": true, \"source\": \"6\", \"target\": \"7\"}, \"10-6\": {\"visible\": true, \"source\": \"6\", \"target\": \"10\"}, \"7-8\": {\"visible\": true, \"source\": \"7\", \"target\": \"8\"}, \"8-9\": {\"visible\": true, \"source\": \"8\", \"target\": \"9\"}, \"10-9\": {\"visible\": true, \"source\": \"9\", \"target\": \"10\"}, \"13-9\": {\"visible\": true, \"source\": \"9\", \"target\": \"13\"}, \"10-11\": {\"visible\": true, \"source\": \"10\", \"target\": \"11\"}, \"11-12\": {\"visible\": true, \"source\": \"11\", \"target\": \"12\"}, \"12-13\": {\"visible\": true, \"source\": \"12\", \"target\": \"13\"}, \"13-14\": {\"visible\": true, \"source\": \"13\", \"target\": \"14\"}, \"14-15\": {\"visible\": true, \"source\": \"14\", \"target\": \"15\"}}}, \"animation\": {}}}",
        "{\"type\": \"update\", \"queue\": \"default\", \"data\": {\"attributes\": {\"edges\": {\"0-1\": {\"labels\": {\"weight\": {\"text\": 13}}}, \"0-15\": {\"labels\": {\"weight\": {\"text\": 16}}}, \"1-2\": {\"labels\": {\"weight\": {\"text\": 13}}}, \"1-14\": {\"labels\": {\"weight\": {\"text\": 8}}}, \"1-5\": {\"labels\": {\"weight\": {\"text\": 6}}}, \"2-3\": {\"labels\": {\"weight\": {\"text\": 12}}}, \"3-4\": {\"labels\": {\"weight\": {\"text\": 8}}}, \"4-5\": {\"labels\": {\"weight\": {\"text\": 18}}}, \"5-6\": {\"labels\": {\"weight\": {\"text\": 4}}}, \"6-7\": {\"labels\": {\"weight\": {\"text\": 12}}}, \"10-6\": {\"labels\": {\"weight\": {\"text\": 19}}}, \"7-8\": {\"labels\": {\"weight\": {\"text\": 4}}}, \"8-9\": {\"labels\": {\"weight\": {\"text\": 2}}}, \"10-9\": {\"labels\": {\"weight\": {\"text\": 15}}}, \"13-9\": {\"labels\": {\"weight\": {\"text\": 20}}}, \"10-11\": {\"labels\": {\"weight\": {\"text\": 2}}}, \"11-12\": {\"labels\": {\"weight\": {\"text\": 2}}}, \"12-13\": {\"labels\": {\"weight\": {\"text\": 17}}}, \"13-14\": {\"labels\": {\"weight\": {\"text\": 1}}}, \"14-15\": {\"labels\": {\"weight\": {\"text\": 17}}}}}, \"animation\": {\"**\": {\"duration\": 0}}}}",
        "{\"type\": \"pause\", \"queue\": \"default\", \"data\": {\"duration\": 1}}",
        "{\"type\": \"update\", \"queue\": \"default\", \"data\": {\"attributes\": {\"nodes\": {\"0\": {\"color\": \"green\"}}}, \"animation\": {}}}",
        "{\"type\": \"highlight\", \"queue\": \"default\", \"data\": {\"attributes\": {\"nodes\": {\"0\": {\"size\": \"1.25x\"}}}, \"animation\": {}}}",
        "{\"type\": \"update\", \"queue\": \"default\", \"data\": {\"attributes\": {\"nodes\": {\"8\": {\"color\": \"red\"}}}, \"animation\": {}}}",
        "{\"type\": \"highlight\", \"queue\": \"default\", \"data\": {\"attributes\": {\"nodes\": {\"8\": {\"size\": \"1.25x\"}}}, \"animation\": {}}}",
        "{\"type\": \"pause\", \"queue\": \"default\", \"data\": {\"duration\": 1.5}}",
        "{\"type\": \"update\", \"queue\": \"default\", \"data\": {\"attributes\": {\"edges\": {\"0-1\": {\"color\": \"blue\"}}}, \"animation\": {\"edges\": {\"0-1\": {\"**\": {\"type\": \"traverse\", \"data\": {\"source\": \"0\"}}}}}}}",
        "{\"type\": \"pause\", \"queue\": \"default\", \"data\": {\"duration\": 0.4}}",
        "{\"type\": \"update\", \"queue\": \"default\", \"data\": {\"attributes\": {\"nodes\": {\"1\": {\"color\": \"blue\"}}}, \"animation\": {}}}",
        "{\"type\": \"update\", \"queue\": \"default\", \"data\": {\"attributes\": {\"nodes\": {\"1\": {\"labels\": {\"path\": {\"visible\": true}}}}}, \"animation\": {}}}",
        "{\"type\": \"update\", \"queue\": \"default\", \"data\": {\"attributes\": {\"nodes\": {\"1\": {\"labels\": {\"path\": {\"color\": \"blue\"}}}}}, \"animation\": {\"**\": {\"duration\": 0}}}}",
        "{\"type\": \"update\", \"queue\": \"default\", \"data\": {\"attributes\": {\"nodes\": {\"1\": {\"labels\": {\"path\": {\"text\": 13}}}}}, \"animation\": {\"**\": {\"duration\": 0}}}}",
        "{\"type\": \"pause\", \"queue\": \"default\", \"data\": {\"duration\": 0.4}}",
        "{\"type\": \"update\", \"queue\": \"default\", \"data\": {\"attributes\": {\"edges\": {\"1-5\": {\"color\": \"blue\"}}}, \"animation\": {\"edges\": {\"1-5\": {\"**\": {\"type\": \"traverse\", \"data\": {\"source\": \"1\"}}}}}}}",
        "{\"type\": \"pause\", \"queue\": \"default\", \"data\": {\"duration\": 0.4}}",
        "{\"type\": \"update\", \"queue\": \"default\", \"data\": {\"attributes\": {\"nodes\": {\"5\": {\"color\": \"blue\"}}}, \"animation\": {}}}",
        "{\"type\": \"update\", \"queue\": \"default\", \"data\": {\"attributes\": {\"nodes\": {\"5\": {\"labels\": {\"path\": {\"visible\": true}}}}}, \"animation\": {}}}",
        "{\"type\": \"update\", \"queue\": \"default\", \"data\": {\"attributes\": {\"nodes\": {\"5\": {\"labels\": {\"path\": {\"color\": \"blue\"}}}}}, \"animation\": {\"**\": {\"duration\": 0}}}}",
        "{\"type\": \"update\", \"queue\": \"default\", \"data\": {\"attributes\": {\"nodes\": {\"5\": {\"labels\": {\"path\": {\"text\": 19}}}}}, \"animation\": {\"**\": {\"duration\": 0}}}}",
        "{\"type\": \"pause\", \"queue\": \"default\", \"data\": {\"duration\": 0.4}}",
        "{\"type\": \"update\", \"queue\": \"default\", \"data\": {\"attributes\": {\"edges\": {\"5-6\": {\"color\": \"blue\"}}}, \"animation\": {\"edges\": {\"5-6\": {\"**\": {\"type\": \"traverse\", \"data\": {\"source\": \"5\"}}}}}}}",
        "{\"type\": \"pause\", \"queue\": \"default\", \"data\": {\"duration\": 0.4}}",
        "{\"type\": \"update\", \"queue\": \"default\", \"data\": {\"attributes\": {\"nodes\": {\"6\": {\"color\": \"blue\"}}}, \"animation\": {}}}",
        "{\"type\": \"update\", \"queue\": \"default\", \"data\": {\"attributes\": {\"nodes\": {\"6\": {\"labels\": {\"path\": {\"visible\": true}}}}}, \"animation\": {}}}",
        "{\"type\": \"update\", \"queue\": \"default\", \"data\": {\"attributes\": {\"nodes\": {\"6\": {\"labels\": {\"path\": {\"color\": \"blue\"}}}}}, \"animation\": {\"**\": {\"duration\": 0}}}}",
        "{\"type\": \"update\", \"queue\": \"default\", \"data\": {\"attributes\": {\"nodes\": {\"6\": {\"labels\": {\"path\": {\"text\": 23}}}}}, \"animation\": {\"**\": {\"duration\": 0}}}}",
        "{\"type\": \"pause\", \"queue\": \"default\", \"data\": {\"duration\": 0.4}}",
        "{\"type\": \"update\", \"queue\": \"default\", \"data\": {\"attributes\": {\"edges\": {\"6-7\": {\"color\": \"blue\"}}}, \"animation\": {\"edges\": {\"6-7\": {\"**\": {\"type\": \"traverse\", \"data\": {\"source\": \"6\"}}}}}}}",
        "{\"type\": \"pause\", \"queue\": \"default\", \"data\": {\"duration\": 0.4}}",
        "{\"type\": \"update\", \"queue\": \"default\", \"data\": {\"attributes\": {\"nodes\": {\"7\": {\"color\": \"blue\"}}}, \"animation\": {}}}",
        "{\"type\": \"update\", \"queue\": \"default\", \"data\": {\"attributes\": {\"nodes\": {\"7\": {\"labels\": {\"path\": {\"visible\": true}}}}}, \"animation\": {}}}",
        "{\"type\": \"update\", \"queue\": \"default\", \"data\": {\"attributes\": {\"nodes\": {\"7\": {\"labels\": {\"path\": {\"color\": \"blue\"}}}}}, \"animation\": {\"**\": {\"duration\": 0}}}}",
        "{\"type\": \"update\", \"queue\": \"default\", \"data\": {\"attributes\": {\"nodes\": {\"7\": {\"labels\": {\"path\": {\"text\": 35}}}}}, \"animation\": {\"**\": {\"duration\": 0}}}}",
        "{\"type\": \"pause\", \"queue\": \"default\", \"data\": {\"duration\": 0.4}}",
        "{\"type\": \"update\", \"queue\": \"default\", \"data\": {\"attributes\": {\"edges\": {\"7-8\": {\"color\": \"blue\"}}}, \"animation\": {\"edges\": {\"7-8\": {\"**\": {\"type\": \"traverse\", \"data\": {\"source\": \"7\"}}}}}}}",
        "{\"type\": \"pause\", \"queue\": \"default\", \"data\": {\"duration\": 0.4}}",
        "{\"type\": \"update\", \"queue\": \"default\", \"data\": {\"attributes\": {\"nodes\": {\"8\": {\"labels\": {\"path\": {\"visible\": true}}}}}, \"animation\": {}}}",
        "{\"type\": \"update\", \"queue\": \"default\", \"data\": {\"attributes\": {\"nodes\": {\"8\": {\"labels\": {\"path\": {\"color\": \"blue\"}}}}}, \"animation\": {\"**\": {\"duration\": 0}}}}",
        "{\"type\": \"update\", \"queue\": \"default\", \"data\": {\"attributes\": {\"nodes\": {\"8\": {\"labels\": {\"path\": {\"text\": 39}}}}}, \"animation\": {\"**\": {\"duration\": 0}}}}",
        "{\"type\": \"pause\", \"queue\": \"default\", \"data\": {\"duration\": 0.4}}"
       ],
       "layout": "IPY_MODEL_5f6a6579a8b440838cf2266f6df10eb0",
       "show_buttons": true
      }
     },
     "29e57dc7ce2e45b89d6429a8ca292225": {
      "model_module": "@jupyter-widgets/base",
      "model_module_version": "1.1.0",
      "model_name": "LayoutModel",
      "state": {}
     },
     "4d8901dd397d4884ab402cf0a8753f51": {
      "model_module": "@jupyter-widgets/base",
      "model_module_version": "1.1.0",
      "model_name": "LayoutModel",
      "state": {}
     },
     "5f6a6579a8b440838cf2266f6df10eb0": {
      "model_module": "@jupyter-widgets/base",
      "model_module_version": "1.1.0",
      "model_name": "LayoutModel",
      "state": {}
     },
     "7c6f7487e2c847238ad9a6104f388290": {
      "model_module": "algorithmx-jupyter",
      "model_module_version": "^2.0.0",
      "model_name": "AlgorithmxModel",
      "state": {
       "_model_module_version": "^2.0.0",
       "_view_module_version": "^2.0.0",
       "events": [
        "{\"type\": \"update\", \"queue\": \"default\", \"data\": {\"attributes\": {\"size\": [500, 400]}, \"animation\": {}}}",
        "{\"type\": \"update\", \"queue\": \"default\", \"data\": {\"attributes\": {\"nodes\": {\"0\": {\"visible\": true}, \"1\": {\"visible\": true}, \"2\": {\"visible\": true}, \"3\": {\"visible\": true}, \"4\": {\"visible\": true}, \"5\": {\"visible\": true}, \"6\": {\"visible\": true}, \"7\": {\"visible\": true}, \"8\": {\"visible\": true}, \"9\": {\"visible\": true}, \"10\": {\"visible\": true}, \"11\": {\"visible\": true}}}, \"animation\": {}}}",
        "{\"type\": \"update\", \"queue\": \"default\", \"data\": {\"attributes\": {\"edges\": {\"0-2\": {\"visible\": true, \"source\": \"0\", \"target\": \"2\"}, \"0-3\": {\"visible\": true, \"source\": \"0\", \"target\": \"3\"}, \"0-11\": {\"visible\": true, \"source\": \"0\", \"target\": \"11\"}, \"1-2\": {\"visible\": true, \"source\": \"1\", \"target\": \"2\"}, \"1-3\": {\"visible\": true, \"source\": \"1\", \"target\": \"3\"}, \"2-3\": {\"visible\": true, \"source\": \"2\", \"target\": \"3\"}, \"3-4\": {\"visible\": true, \"source\": \"3\", \"target\": \"4\"}, \"4-6\": {\"visible\": true, \"source\": \"4\", \"target\": \"6\"}, \"4-7\": {\"visible\": true, \"source\": \"4\", \"target\": \"7\"}, \"5-6\": {\"visible\": true, \"source\": \"5\", \"target\": \"6\"}, \"5-7\": {\"visible\": true, \"source\": \"5\", \"target\": \"7\"}, \"6-7\": {\"visible\": true, \"source\": \"6\", \"target\": \"7\"}, \"7-8\": {\"visible\": true, \"source\": \"7\", \"target\": \"8\"}, \"10-8\": {\"visible\": true, \"source\": \"8\", \"target\": \"10\"}, \"11-8\": {\"visible\": true, \"source\": \"8\", \"target\": \"11\"}, \"10-9\": {\"visible\": true, \"source\": \"9\", \"target\": \"10\"}, \"11-9\": {\"visible\": true, \"source\": \"9\", \"target\": \"11\"}, \"10-11\": {\"visible\": true, \"source\": \"10\", \"target\": \"11\"}}}, \"animation\": {}}}",
        "{\"type\": \"pause\", \"queue\": \"default\", \"data\": {\"duration\": 1}}",
        "{\"type\": \"update\", \"queue\": \"default\", \"data\": {\"attributes\": {\"nodes\": {\"0\": {\"size\": \"1.25x\"}}}, \"animation\": {}}}",
        "{\"type\": \"update\", \"queue\": \"default\", \"data\": {\"attributes\": {\"nodes\": {\"0\": {\"color\": \"purple\"}}}, \"animation\": {}}}",
        "{\"type\": \"pause\", \"queue\": \"default\", \"data\": {\"duration\": 0.5}}",
        "{\"type\": \"update\", \"queue\": \"default\", \"data\": {\"attributes\": {\"edges\": {\"0-2\": {\"color\": \"pink\"}}}, \"animation\": {\"edges\": {\"0-2\": {\"**\": {\"type\": \"traverse\", \"data\": {\"source\": \"0\"}}}}}}}",
        "{\"type\": \"pause\", \"queue\": \"default\", \"data\": {\"duration\": 0.5}}",
        "{\"type\": \"update\", \"queue\": \"default\", \"data\": {\"attributes\": {\"edges\": {\"0-3\": {\"color\": \"pink\"}}}, \"animation\": {\"edges\": {\"0-3\": {\"**\": {\"type\": \"traverse\", \"data\": {\"source\": \"0\"}}}}}}}",
        "{\"type\": \"pause\", \"queue\": \"default\", \"data\": {\"duration\": 0.5}}",
        "{\"type\": \"update\", \"queue\": \"default\", \"data\": {\"attributes\": {\"edges\": {\"0-11\": {\"color\": \"pink\"}}}, \"animation\": {\"edges\": {\"0-11\": {\"**\": {\"type\": \"traverse\", \"data\": {\"source\": \"0\"}}}}}}}",
        "{\"type\": \"pause\", \"queue\": \"default\", \"data\": {\"duration\": 0.5}}",
        "{\"type\": \"update\", \"queue\": \"default\", \"data\": {\"attributes\": {\"nodes\": {\"2\": {\"size\": \"1.25x\"}}}, \"animation\": {}}}",
        "{\"type\": \"update\", \"queue\": \"default\", \"data\": {\"attributes\": {\"nodes\": {\"2\": {\"color\": \"purple\"}}}, \"animation\": {}}}",
        "{\"type\": \"update\", \"queue\": \"default\", \"data\": {\"attributes\": {\"nodes\": {\"0\": {\"size\": \"0.8x\"}}}, \"animation\": {}}}",
        "{\"type\": \"pause\", \"queue\": \"default\", \"data\": {\"duration\": 0.5}}",
        "{\"type\": \"update\", \"queue\": \"default\", \"data\": {\"attributes\": {\"edges\": {\"1-2\": {\"color\": \"pink\"}}}, \"animation\": {\"edges\": {\"1-2\": {\"**\": {\"type\": \"traverse\", \"data\": {\"source\": \"2\"}}}}}}}",
        "{\"type\": \"pause\", \"queue\": \"default\", \"data\": {\"duration\": 0.5}}",
        "{\"type\": \"update\", \"queue\": \"default\", \"data\": {\"attributes\": {\"edges\": {\"2-3\": {\"color\": \"pink\"}}}, \"animation\": {\"edges\": {\"2-3\": {\"**\": {\"type\": \"traverse\", \"data\": {\"source\": \"2\"}}}}}}}",
        "{\"type\": \"pause\", \"queue\": \"default\", \"data\": {\"duration\": 0.5}}",
        "{\"type\": \"update\", \"queue\": \"default\", \"data\": {\"attributes\": {\"nodes\": {\"3\": {\"size\": \"1.25x\"}}}, \"animation\": {}}}",
        "{\"type\": \"update\", \"queue\": \"default\", \"data\": {\"attributes\": {\"nodes\": {\"3\": {\"color\": \"purple\"}}}, \"animation\": {}}}",
        "{\"type\": \"update\", \"queue\": \"default\", \"data\": {\"attributes\": {\"nodes\": {\"2\": {\"size\": \"0.8x\"}}}, \"animation\": {}}}",
        "{\"type\": \"pause\", \"queue\": \"default\", \"data\": {\"duration\": 0.5}}",
        "{\"type\": \"update\", \"queue\": \"default\", \"data\": {\"attributes\": {\"edges\": {\"1-3\": {\"color\": \"pink\"}}}, \"animation\": {\"edges\": {\"1-3\": {\"**\": {\"type\": \"traverse\", \"data\": {\"source\": \"3\"}}}}}}}",
        "{\"type\": \"pause\", \"queue\": \"default\", \"data\": {\"duration\": 0.5}}",
        "{\"type\": \"update\", \"queue\": \"default\", \"data\": {\"attributes\": {\"edges\": {\"3-4\": {\"color\": \"pink\"}}}, \"animation\": {\"edges\": {\"3-4\": {\"**\": {\"type\": \"traverse\", \"data\": {\"source\": \"3\"}}}}}}}",
        "{\"type\": \"pause\", \"queue\": \"default\", \"data\": {\"duration\": 0.5}}",
        "{\"type\": \"update\", \"queue\": \"default\", \"data\": {\"attributes\": {\"nodes\": {\"11\": {\"size\": \"1.25x\"}}}, \"animation\": {}}}",
        "{\"type\": \"update\", \"queue\": \"default\", \"data\": {\"attributes\": {\"nodes\": {\"11\": {\"color\": \"purple\"}}}, \"animation\": {}}}",
        "{\"type\": \"update\", \"queue\": \"default\", \"data\": {\"attributes\": {\"nodes\": {\"3\": {\"size\": \"0.8x\"}}}, \"animation\": {}}}",
        "{\"type\": \"pause\", \"queue\": \"default\", \"data\": {\"duration\": 0.5}}",
        "{\"type\": \"update\", \"queue\": \"default\", \"data\": {\"attributes\": {\"edges\": {\"11-8\": {\"color\": \"pink\"}}}, \"animation\": {\"edges\": {\"11-8\": {\"**\": {\"type\": \"traverse\", \"data\": {\"source\": \"11\"}}}}}}}",
        "{\"type\": \"pause\", \"queue\": \"default\", \"data\": {\"duration\": 0.5}}",
        "{\"type\": \"update\", \"queue\": \"default\", \"data\": {\"attributes\": {\"edges\": {\"11-9\": {\"color\": \"pink\"}}}, \"animation\": {\"edges\": {\"11-9\": {\"**\": {\"type\": \"traverse\", \"data\": {\"source\": \"11\"}}}}}}}",
        "{\"type\": \"pause\", \"queue\": \"default\", \"data\": {\"duration\": 0.5}}",
        "{\"type\": \"update\", \"queue\": \"default\", \"data\": {\"attributes\": {\"edges\": {\"10-11\": {\"color\": \"pink\"}}}, \"animation\": {\"edges\": {\"10-11\": {\"**\": {\"type\": \"traverse\", \"data\": {\"source\": \"11\"}}}}}}}",
        "{\"type\": \"pause\", \"queue\": \"default\", \"data\": {\"duration\": 0.5}}",
        "{\"type\": \"update\", \"queue\": \"default\", \"data\": {\"attributes\": {\"nodes\": {\"4\": {\"size\": \"1.25x\"}}}, \"animation\": {}}}",
        "{\"type\": \"update\", \"queue\": \"default\", \"data\": {\"attributes\": {\"nodes\": {\"4\": {\"color\": \"purple\"}}}, \"animation\": {}}}",
        "{\"type\": \"update\", \"queue\": \"default\", \"data\": {\"attributes\": {\"nodes\": {\"11\": {\"size\": \"0.8x\"}}}, \"animation\": {}}}",
        "{\"type\": \"pause\", \"queue\": \"default\", \"data\": {\"duration\": 0.5}}",
        "{\"type\": \"update\", \"queue\": \"default\", \"data\": {\"attributes\": {\"edges\": {\"4-6\": {\"color\": \"pink\"}}}, \"animation\": {\"edges\": {\"4-6\": {\"**\": {\"type\": \"traverse\", \"data\": {\"source\": \"4\"}}}}}}}",
        "{\"type\": \"pause\", \"queue\": \"default\", \"data\": {\"duration\": 0.5}}",
        "{\"type\": \"update\", \"queue\": \"default\", \"data\": {\"attributes\": {\"edges\": {\"4-7\": {\"color\": \"pink\"}}}, \"animation\": {\"edges\": {\"4-7\": {\"**\": {\"type\": \"traverse\", \"data\": {\"source\": \"4\"}}}}}}}",
        "{\"type\": \"pause\", \"queue\": \"default\", \"data\": {\"duration\": 0.5}}",
        "{\"type\": \"update\", \"queue\": \"default\", \"data\": {\"attributes\": {\"nodes\": {\"8\": {\"size\": \"1.25x\"}}}, \"animation\": {}}}",
        "{\"type\": \"update\", \"queue\": \"default\", \"data\": {\"attributes\": {\"nodes\": {\"8\": {\"color\": \"purple\"}}}, \"animation\": {}}}",
        "{\"type\": \"update\", \"queue\": \"default\", \"data\": {\"attributes\": {\"nodes\": {\"4\": {\"size\": \"0.8x\"}}}, \"animation\": {}}}",
        "{\"type\": \"pause\", \"queue\": \"default\", \"data\": {\"duration\": 0.5}}",
        "{\"type\": \"update\", \"queue\": \"default\", \"data\": {\"attributes\": {\"edges\": {\"10-8\": {\"color\": \"pink\"}}}, \"animation\": {\"edges\": {\"10-8\": {\"**\": {\"type\": \"traverse\", \"data\": {\"source\": \"8\"}}}}}}}",
        "{\"type\": \"pause\", \"queue\": \"default\", \"data\": {\"duration\": 0.5}}",
        "{\"type\": \"update\", \"queue\": \"default\", \"data\": {\"attributes\": {\"edges\": {\"7-8\": {\"color\": \"pink\"}}}, \"animation\": {\"edges\": {\"7-8\": {\"**\": {\"type\": \"traverse\", \"data\": {\"source\": \"8\"}}}}}}}",
        "{\"type\": \"pause\", \"queue\": \"default\", \"data\": {\"duration\": 0.5}}",
        "{\"type\": \"update\", \"queue\": \"default\", \"data\": {\"attributes\": {\"nodes\": {\"9\": {\"size\": \"1.25x\"}}}, \"animation\": {}}}",
        "{\"type\": \"update\", \"queue\": \"default\", \"data\": {\"attributes\": {\"nodes\": {\"9\": {\"color\": \"purple\"}}}, \"animation\": {}}}",
        "{\"type\": \"update\", \"queue\": \"default\", \"data\": {\"attributes\": {\"nodes\": {\"8\": {\"size\": \"0.8x\"}}}, \"animation\": {}}}",
        "{\"type\": \"pause\", \"queue\": \"default\", \"data\": {\"duration\": 0.5}}",
        "{\"type\": \"update\", \"queue\": \"default\", \"data\": {\"attributes\": {\"edges\": {\"10-9\": {\"color\": \"pink\"}}}, \"animation\": {\"edges\": {\"10-9\": {\"**\": {\"type\": \"traverse\", \"data\": {\"source\": \"9\"}}}}}}}",
        "{\"type\": \"pause\", \"queue\": \"default\", \"data\": {\"duration\": 0.5}}",
        "{\"type\": \"update\", \"queue\": \"default\", \"data\": {\"attributes\": {\"nodes\": {\"6\": {\"size\": \"1.25x\"}}}, \"animation\": {}}}",
        "{\"type\": \"update\", \"queue\": \"default\", \"data\": {\"attributes\": {\"nodes\": {\"6\": {\"color\": \"purple\"}}}, \"animation\": {}}}",
        "{\"type\": \"update\", \"queue\": \"default\", \"data\": {\"attributes\": {\"nodes\": {\"9\": {\"size\": \"0.8x\"}}}, \"animation\": {}}}",
        "{\"type\": \"pause\", \"queue\": \"default\", \"data\": {\"duration\": 0.5}}",
        "{\"type\": \"update\", \"queue\": \"default\", \"data\": {\"attributes\": {\"edges\": {\"5-6\": {\"color\": \"pink\"}}}, \"animation\": {\"edges\": {\"5-6\": {\"**\": {\"type\": \"traverse\", \"data\": {\"source\": \"6\"}}}}}}}",
        "{\"type\": \"pause\", \"queue\": \"default\", \"data\": {\"duration\": 0.5}}",
        "{\"type\": \"update\", \"queue\": \"default\", \"data\": {\"attributes\": {\"edges\": {\"6-7\": {\"color\": \"pink\"}}}, \"animation\": {\"edges\": {\"6-7\": {\"**\": {\"type\": \"traverse\", \"data\": {\"source\": \"6\"}}}}}}}",
        "{\"type\": \"pause\", \"queue\": \"default\", \"data\": {\"duration\": 0.5}}",
        "{\"type\": \"update\", \"queue\": \"default\", \"data\": {\"attributes\": {\"nodes\": {\"7\": {\"size\": \"1.25x\"}}}, \"animation\": {}}}",
        "{\"type\": \"update\", \"queue\": \"default\", \"data\": {\"attributes\": {\"nodes\": {\"7\": {\"color\": \"purple\"}}}, \"animation\": {}}}",
        "{\"type\": \"update\", \"queue\": \"default\", \"data\": {\"attributes\": {\"nodes\": {\"6\": {\"size\": \"0.8x\"}}}, \"animation\": {}}}",
        "{\"type\": \"pause\", \"queue\": \"default\", \"data\": {\"duration\": 0.5}}",
        "{\"type\": \"update\", \"queue\": \"default\", \"data\": {\"attributes\": {\"edges\": {\"5-7\": {\"color\": \"pink\"}}}, \"animation\": {\"edges\": {\"5-7\": {\"**\": {\"type\": \"traverse\", \"data\": {\"source\": \"7\"}}}}}}}",
        "{\"type\": \"pause\", \"queue\": \"default\", \"data\": {\"duration\": 0.5}}",
        "{\"type\": \"update\", \"queue\": \"default\", \"data\": {\"attributes\": {\"nodes\": {\"7\": {\"size\": \"0.8x\"}}}, \"animation\": {}}}"
       ],
       "layout": "IPY_MODEL_4d8901dd397d4884ab402cf0a8753f51",
       "show_buttons": true
      }
     },
     "a2c3e1d9728f448786d82d966d887cb1": {
      "model_module": "algorithmx-jupyter",
      "model_module_version": "^2.0.0",
      "model_name": "AlgorithmxModel",
      "state": {
       "_model_module_version": "^2.0.0",
       "_view_module_version": "^2.0.0",
       "events": [
        "{\"type\": \"update\", \"queue\": \"default\", \"data\": {\"attributes\": {\"nodes\": {\"0\": {\"visible\": true}, \"1\": {\"visible\": true}, \"2\": {\"visible\": true}, \"3\": {\"visible\": true}, \"4\": {\"visible\": true}, \"5\": {\"visible\": true}, \"6\": {\"visible\": true}, \"7\": {\"visible\": true}, \"8\": {\"visible\": true}, \"9\": {\"visible\": true}}}, \"animation\": {}}}",
        "{\"type\": \"update\", \"queue\": \"default\", \"data\": {\"attributes\": {\"edges\": {\"0-1\": {\"visible\": true, \"source\": \"1\", \"target\": \"0\"}, \"0-5\": {\"visible\": true, \"source\": \"5\", \"target\": \"0\"}, \"0-4\": {\"visible\": true, \"source\": \"4\", \"target\": \"0\"}, \"1-2\": {\"visible\": true, \"source\": \"2\", \"target\": \"1\"}, \"1-6\": {\"visible\": true, \"source\": \"6\", \"target\": \"1\"}, \"2-3\": {\"visible\": true, \"source\": \"3\", \"target\": \"2\"}, \"2-7\": {\"visible\": true, \"source\": \"7\", \"target\": \"2\"}, \"3-4\": {\"visible\": true, \"source\": \"4\", \"target\": \"3\"}, \"3-8\": {\"visible\": true, \"source\": \"8\", \"target\": \"3\"}, \"4-9\": {\"visible\": true, \"source\": \"9\", \"target\": \"4\"}, \"5-6\": {\"visible\": true, \"source\": \"6\", \"target\": \"5\"}, \"5-9\": {\"visible\": true, \"source\": \"9\", \"target\": \"5\"}, \"6-7\": {\"visible\": true, \"source\": \"7\", \"target\": \"6\"}, \"7-8\": {\"visible\": true, \"source\": \"8\", \"target\": \"7\"}, \"8-9\": {\"visible\": true, \"source\": \"9\", \"target\": \"8\"}}}, \"animation\": {}}}",
        "{\"type\": \"update\", \"queue\": \"default\", \"data\": {\"attributes\": {\"edges\": {\"0-1\": {\"directed\": true}, \"0-5\": {\"directed\": true}, \"0-4\": {\"directed\": true}, \"1-2\": {\"directed\": true}, \"1-6\": {\"directed\": true}, \"2-3\": {\"directed\": true}, \"2-7\": {\"directed\": true}, \"3-4\": {\"directed\": true}, \"3-8\": {\"directed\": true}, \"4-9\": {\"directed\": true}, \"5-6\": {\"directed\": true}, \"5-9\": {\"directed\": true}, \"6-7\": {\"directed\": true}, \"7-8\": {\"directed\": true}, \"8-9\": {\"directed\": true}}}, \"animation\": {\"**\": {\"duration\": 0}}}}",
        "{\"type\": \"update\", \"queue\": \"default\", \"data\": {\"attributes\": {\"edges\": {\"0-1\": {\"labels\": {\"weight\": {\"text\": 5}}}, \"0-5\": {\"labels\": {\"weight\": {\"text\": 3}}}, \"0-4\": {\"labels\": {\"weight\": {\"text\": 5}}}, \"1-2\": {\"labels\": {\"weight\": {\"text\": 6}}}, \"1-6\": {\"labels\": {\"weight\": {\"text\": 6}}}, \"2-3\": {\"labels\": {\"weight\": {\"text\": 8}}}, \"2-7\": {\"labels\": {\"weight\": {\"text\": 7}}}, \"3-4\": {\"labels\": {\"weight\": {\"text\": 3}}}, \"3-8\": {\"labels\": {\"weight\": {\"text\": 8}}}, \"4-9\": {\"labels\": {\"weight\": {\"text\": 2}}}, \"5-6\": {\"labels\": {\"weight\": {\"text\": 6}}}, \"5-9\": {\"labels\": {\"weight\": {\"text\": 5}}}, \"6-7\": {\"labels\": {\"weight\": {\"text\": 5}}}, \"7-8\": {\"labels\": {\"weight\": {\"text\": 8}}}, \"8-9\": {\"labels\": {\"weight\": {\"text\": 5}}}}}, \"animation\": {\"**\": {\"duration\": 0}}}}"
       ],
       "layout": "IPY_MODEL_29e57dc7ce2e45b89d6429a8ca292225"
      }
     }
    },
    "version_major": 2,
    "version_minor": 0
   }
  }
 },
 "nbformat": 4,
 "nbformat_minor": 2
}
