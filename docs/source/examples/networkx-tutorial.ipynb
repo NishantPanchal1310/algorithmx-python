{
 "cells": [
  {
   "cell_type": "markdown",
   "metadata": {},
   "source": [
    "# NetworkX Tutorial"
   ]
  },
  {
   "cell_type": "markdown",
   "metadata": {},
   "source": [
    "In this tutorial we will take a look at ways of combining the analysis tools provided by <a href=\"https://networkx.github.io/documentation/stable/index.html\">NetworkX</a> with the visualization capailities of AlgorithmX."
   ]
  },
  {
   "cell_type": "markdown",
   "metadata": {},
   "source": [
    "## Simple Graph"
   ]
  },
  {
   "cell_type": "markdown",
   "metadata": {},
   "source": [
    "Let's start by creating a simple NetworkX graph. We will use 'add_path' to quickly add both nodes and edges."
   ]
  },
  {
   "cell_type": "code",
   "execution_count": 1,
   "metadata": {},
   "outputs": [
    {
     "name": "stdout",
     "output_type": "stream",
     "text": [
      "Nodes: [1, 2, 3, 4, 5]\n",
      "Edges: [(1, 2), (2, 3), (2, 4), (2, 5)]\n"
     ]
    }
   ],
   "source": [
    "import networkx as nx\n",
    "\n",
    "G = nx.Graph()\n",
    "\n",
    "G.add_path([1, 2, 3])\n",
    "G.add_path([4, 2, 5])\n",
    "\n",
    "print('Nodes:', G.nodes)\n",
    "print('Edges:', G.edges)"
   ]
  },
  {
   "cell_type": "markdown",
   "metadata": {},
   "source": [
    "Now that we have all the data we need, we are ready to give it to AlgorithmX. We'll start by creating a `widget`, which will render our graph. Next, we will obtain a `canvas` interface for manipulating the widget's graphics, which we will finally use to add the nodes and edges of our NetworkX graph."
   ]
  },
  {
   "cell_type": "code",
   "execution_count": 2,
   "metadata": {},
   "outputs": [
    {
     "data": {
      "application/vnd.jupyter.widget-view+json": {
       "model_id": "fbaef0f0e64748a393aa12b04db3d660",
       "version_major": 2,
       "version_minor": 0
      },
      "text/plain": [
       "JupyterClient(events=['{\"type\": \"update\", \"queue\": \"default\", \"data\": {\"attributes\": {\"nodes\": {\"1\": {\"visible…"
      ]
     },
     "metadata": {},
     "output_type": "display_data"
    }
   ],
   "source": [
    "import algorithmx\n",
    "\n",
    "canvas = algorithmx.jupyter_canvas()\n",
    "\n",
    "canvas.nodes(G.nodes).add()\n",
    "canvas.edges(G.edges).add()\n",
    "\n",
    "canvas"
   ]
  },
  {
   "cell_type": "markdown",
   "metadata": {},
   "source": [
    "So we have our simple graph, but we think it could look a little more interesting. Let's define a custom style for our nodes, and also give each one a different color. We can take advantage of the fact that nearly any argument in AlgorithmX can be passed as a lambda function, making our code much more concise."
   ]
  },
  {
   "cell_type": "code",
   "execution_count": 3,
   "metadata": {},
   "outputs": [
    {
     "data": {
      "application/vnd.jupyter.widget-view+json": {
       "model_id": "b0892713ca0c451d9f7d3fb85167c3bb",
       "version_major": 2,
       "version_minor": 0
      },
      "text/plain": [
       "JupyterClient(events=['{\"type\": \"update\", \"queue\": \"default\", \"data\": {\"attributes\": {\"nodes\": {\"1\": {\"visible…"
      ]
     },
     "metadata": {},
     "output_type": "display_data"
    }
   ],
   "source": [
    "canvas = algorithmx.jupyter_canvas()\n",
    "\n",
    "node_style = {\n",
    "    'shape': 'rect',\n",
    "    'size': (20, 12)\n",
    "}\n",
    "node_colors = {1: 'red', 2: 'green', 3: 'blue', 4: 'orange', 5: 'purple'}\n",
    "\n",
    "canvas.nodes(G.nodes).add() \\\n",
    "    .set(node_style) \\\n",
    "    .color(lambda n: node_colors[n])\n",
    "\n",
    "canvas.edges(G.edges).add()\n",
    "\n",
    "canvas"
   ]
  },
  {
   "cell_type": "markdown",
   "metadata": {},
   "source": [
    "## Random Weighted Directed Graph"
   ]
  },
  {
   "cell_type": "markdown",
   "metadata": {},
   "source": [
    "NetworkX provides a range of functions for generating graphs, which you can read about <a href=\"https://networkx.github.io/documentation/stable/reference/generators.html\">here</a>. For generating a random graph, we will use the basic `gnp_random_graph` function. By providing a seed, we can ensure that we get the same graph every time (otherwise there is no guarantee of it being connected!)."
   ]
  },
  {
   "cell_type": "code",
   "execution_count": 4,
   "metadata": {},
   "outputs": [
    {
     "data": {
      "application/vnd.jupyter.widget-view+json": {
       "model_id": "0961d6b5cd014deea1b0671ac1e9ac56",
       "version_major": 2,
       "version_minor": 0
      },
      "text/plain": [
       "JupyterClient(events=['{\"type\": \"update\", \"queue\": \"default\", \"data\": {\"attributes\": {\"nodes\": {\"0\": {\"visible…"
      ]
     },
     "metadata": {},
     "output_type": "display_data"
    }
   ],
   "source": [
    "G = nx.gnp_random_graph(10, 0.3, 138)\n",
    "\n",
    "canvas = algorithmx.jupyter_canvas()\n",
    "canvas.nodes(G.nodes).add()\n",
    "canvas.edges(G.edges).add()\n",
    "\n",
    "canvas"
   ]
  },
  {
   "cell_type": "markdown",
   "metadata": {},
   "source": [
    "Making the graph directed is easy - all we have to do is call `G.to_directed()`, and then tell AlgorithmX that the edges should be rendered with an arrow."
   ]
  },
  {
   "cell_type": "code",
   "execution_count": 5,
   "metadata": {},
   "outputs": [
    {
     "data": {
      "application/vnd.jupyter.widget-view+json": {
       "model_id": "f14ddc005ff7493aad5bcb2bc46e9c50",
       "version_major": 2,
       "version_minor": 0
      },
      "text/plain": [
       "JupyterClient(events=['{\"type\": \"update\", \"queue\": \"default\", \"data\": {\"attributes\": {\"nodes\": {\"0\": {\"visible…"
      ]
     },
     "metadata": {},
     "output_type": "display_data"
    }
   ],
   "source": [
    "G.to_directed()\n",
    "\n",
    "canvas = algorithmx.jupyter_canvas()\n",
    "canvas.nodes(G.nodes).add()\n",
    "canvas.edges(G.edges).add().directed(True)\n",
    "\n",
    "canvas"
   ]
  },
  {
   "cell_type": "markdown",
   "metadata": {},
   "source": [
    "To make the edges weighted, we will first need to configure a `weight` attribute for each edge in our NetworkX graph. Since our graph is random, we'll make our edge weights random as well. For this we will use the `set_edge_attributes` function with a dictionary comprehension."
   ]
  },
  {
   "cell_type": "code",
   "execution_count": 6,
   "metadata": {},
   "outputs": [],
   "source": [
    "from random import randint\n",
    "nx.set_edge_attributes(G, {e: {'weight': randint(1, 10)} for e in G.edges})"
   ]
  },
  {
   "cell_type": "markdown",
   "metadata": {},
   "source": [
    "Then, we can display the weight by adding a label to each edge. All the data we need is already contained in our NetworkX graph, and we can retreive it with a convenient lambda fuction."
   ]
  },
  {
   "cell_type": "code",
   "execution_count": 7,
   "metadata": {
    "scrolled": true
   },
   "outputs": [
    {
     "data": {
      "application/vnd.jupyter.widget-view+json": {
       "model_id": "941fe0dd30ce473fb6821ae3c32174cd",
       "version_major": 2,
       "version_minor": 0
      },
      "text/plain": [
       "JupyterClient(events=['{\"type\": \"update\", \"queue\": \"default\", \"data\": {\"attributes\": {\"nodes\": {\"0\": {\"visible…"
      ]
     },
     "metadata": {},
     "output_type": "display_data"
    }
   ],
   "source": [
    "canvas = algorithmx.jupyter_canvas()\n",
    "\n",
    "canvas.nodes(G.nodes).add()\n",
    "\n",
    "canvas.edges(G.edges).add() \\\n",
    "    .directed(True) \\\n",
    "    .label().add() \\\n",
    "        .text(lambda e: G.edges[e]['weight'])\n",
    "\n",
    "canvas"
   ]
  },
  {
   "cell_type": "markdown",
   "metadata": {},
   "source": [
    "## Detailed Graph"
   ]
  },
  {
   "cell_type": "markdown",
   "metadata": {},
   "source": [
    "Now we are going to create a graph that displays a range of interesting properties. Let's begin by generating a random weighted graph, as before."
   ]
  },
  {
   "cell_type": "code",
   "execution_count": 8,
   "metadata": {},
   "outputs": [],
   "source": [
    "G = nx.gnp_random_graph(10, 0.3, 201)\n",
    "nx.set_edge_attributes(G, {e: {'weight': randint(1, 10)} for e in G.edges})"
   ]
  },
  {
   "cell_type": "markdown",
   "metadata": {},
   "source": [
    "Next, we will use NetworkX to calculate the graph's <a href=\"https://networkx.github.io/documentation/stable/reference/algorithms/generated/networkx.algorithms.coloring.greedy_color.html#networkx.algorithms.coloring.greedy_color\">coloring</a> and <a hre=\"https://networkx.github.io/documentation/stable/reference/algorithms/generated/networkx.algorithms.centrality.edge_betweenness_centrality.html#networkx.algorithms.centrality.edge_betweenness_centrality\">edge centrality</a>."
   ]
  },
  {
   "cell_type": "code",
   "execution_count": 9,
   "metadata": {},
   "outputs": [],
   "source": [
    "coloring = nx.greedy_color(G)\n",
    "centrality = nx.edge_betweenness_centrality(G, weight='weight', normalized=True)"
   ]
  },
  {
   "cell_type": "markdown",
   "metadata": {},
   "source": [
    "We can now begin displaying the graph. First, we will add the nodes and assign them a color based on their calculated priority. We happen to know that any graph requires at most 4 different colors, and so we prepare these beforehand."
   ]
  },
  {
   "cell_type": "code",
   "execution_count": 10,
   "metadata": {},
   "outputs": [
    {
     "name": "stdout",
     "output_type": "stream",
     "text": [
      "{4: 0, 2: 1, 3: 2, 0: 1, 1: 2, 6: 0, 8: 1, 7: 2, 9: 2, 5: 0}\n"
     ]
    }
   ],
   "source": [
    "canvas = algorithmx.jupyter_canvas()\n",
    "\n",
    "color_priority = {0: 'red', 1: 'orange', 2: 'yellow', 3: 'green'}\n",
    "\n",
    "canvas.nodes(G.nodes).add() \\\n",
    "    .color(lambda n: color_priority[coloring[n]])\n",
    "\n",
    "print(coloring)"
   ]
  },
  {
   "cell_type": "markdown",
   "metadata": {},
   "source": [
    "Afterwards, we will add the edges. Each one will have two labels; one to display it's weight, and another to display it's calculated centrality."
   ]
  },
  {
   "cell_type": "code",
   "execution_count": 11,
   "metadata": {},
   "outputs": [
    {
     "name": "stdout",
     "output_type": "stream",
     "text": [
      "{(0, 1): '0.24', (0, 3): '0.33', (0, 4): '0.07', (1, 4): '0.05', (1, 8): '0.18', (2, 3): '0.16', (2, 4): '0.23', (2, 5): '0.20', (2, 6): '0.02', (2, 7): '0.15', (3, 4): '0.00', (3, 6): '0.19', (4, 8): '0.09', (4, 9): '0.09', (6, 7): '0.05', (8, 9): '0.11'}\n"
     ]
    }
   ],
   "source": [
    "edge_graphics = canvas.edges(G.edges).add()\n",
    "\n",
    "formatted_centrality = {k: '{0:.2f}'.format(v) for k, v in centrality.items()}\n",
    "\n",
    "edge_graphics.label().add() \\\n",
    "    .text(lambda e: G.edges[e]['weight']) \\\n",
    "\n",
    "edge_graphics.label('centrality').add() \\\n",
    "    .color('blue') \\\n",
    "    .text(lambda e: formatted_centrality[e])\n",
    "\n",
    "print(formatted_centrality)"
   ]
  },
  {
   "cell_type": "markdown",
   "metadata": {},
   "source": [
    "Finally, we can see the whole graph."
   ]
  },
  {
   "cell_type": "code",
   "execution_count": 12,
   "metadata": {
    "scrolled": false
   },
   "outputs": [
    {
     "data": {
      "application/vnd.jupyter.widget-view+json": {
       "model_id": "c49aca93ee264470959e485f5da043c1",
       "version_major": 2,
       "version_minor": 0
      },
      "text/plain": [
       "JupyterClient(events=['{\"type\": \"update\", \"queue\": \"default\", \"data\": {\"attributes\": {\"nodes\": {\"0\": {\"visible…"
      ]
     },
     "metadata": {},
     "output_type": "display_data"
    }
   ],
   "source": [
    "canvas"
   ]
  }
 ],
 "metadata": {
  "kernelspec": {
   "display_name": "Python 3",
   "language": "python",
   "name": "python3"
  },
  "language_info": {
   "codemirror_mode": {
    "name": "ipython",
    "version": 3
   },
   "file_extension": ".py",
   "mimetype": "text/x-python",
   "name": "python",
   "nbconvert_exporter": "python",
   "pygments_lexer": "ipython3",
   "version": "3.6.7"
  },
  "widgets": {
   "application/vnd.jupyter.widget-state+json": {
    "state": {
     "0961d6b5cd014deea1b0671ac1e9ac56": {
      "model_module": "algorithmx-jupyter",
      "model_module_version": "^2.0.0",
      "model_name": "AlgorithmxModel",
      "state": {
       "_model_module_version": "^2.0.0",
       "_view_module_version": "^2.0.0",
       "events": [
        "{\"type\": \"update\", \"queue\": \"default\", \"data\": {\"attributes\": {\"nodes\": {\"0\": {\"visible\": true}, \"1\": {\"visible\": true}, \"2\": {\"visible\": true}, \"3\": {\"visible\": true}, \"4\": {\"visible\": true}, \"5\": {\"visible\": true}, \"6\": {\"visible\": true}, \"7\": {\"visible\": true}, \"8\": {\"visible\": true}, \"9\": {\"visible\": true}}}, \"animation\": {}}}",
        "{\"type\": \"update\", \"queue\": \"default\", \"data\": {\"attributes\": {\"edges\": {\"0-1\": {\"visible\": true, \"source\": \"0\", \"target\": \"1\"}, \"0-4\": {\"visible\": true, \"source\": \"0\", \"target\": \"4\"}, \"0-6\": {\"visible\": true, \"source\": \"0\", \"target\": \"6\"}, \"0-7\": {\"visible\": true, \"source\": \"0\", \"target\": \"7\"}, \"1-9\": {\"visible\": true, \"source\": \"1\", \"target\": \"9\"}, \"2-3\": {\"visible\": true, \"source\": \"2\", \"target\": \"3\"}, \"2-5\": {\"visible\": true, \"source\": \"2\", \"target\": \"5\"}, \"2-8\": {\"visible\": true, \"source\": \"2\", \"target\": \"8\"}, \"2-9\": {\"visible\": true, \"source\": \"2\", \"target\": \"9\"}, \"3-4\": {\"visible\": true, \"source\": \"3\", \"target\": \"4\"}, \"3-6\": {\"visible\": true, \"source\": \"3\", \"target\": \"6\"}, \"6-7\": {\"visible\": true, \"source\": \"6\", \"target\": \"7\"}, \"7-8\": {\"visible\": true, \"source\": \"7\", \"target\": \"8\"}, \"7-9\": {\"visible\": true, \"source\": \"7\", \"target\": \"9\"}}}, \"animation\": {}}}"
       ],
       "layout": "IPY_MODEL_2bdc1efd3e344738b04300a1f2ba1c5b"
      }
     },
     "2bdc1efd3e344738b04300a1f2ba1c5b": {
      "model_module": "@jupyter-widgets/base",
      "model_module_version": "1.1.0",
      "model_name": "LayoutModel",
      "state": {}
     },
     "3e994da9f1d143b0931dd6e0fc7a7c61": {
      "model_module": "@jupyter-widgets/base",
      "model_module_version": "1.1.0",
      "model_name": "LayoutModel",
      "state": {}
     },
     "941fe0dd30ce473fb6821ae3c32174cd": {
      "model_module": "algorithmx-jupyter",
      "model_module_version": "^2.0.0",
      "model_name": "AlgorithmxModel",
      "state": {
       "_model_module_version": "^2.0.0",
       "_view_module_version": "^2.0.0",
       "events": [
        "{\"type\": \"update\", \"queue\": \"default\", \"data\": {\"attributes\": {\"nodes\": {\"0\": {\"visible\": true}, \"1\": {\"visible\": true}, \"2\": {\"visible\": true}, \"3\": {\"visible\": true}, \"4\": {\"visible\": true}, \"5\": {\"visible\": true}, \"6\": {\"visible\": true}, \"7\": {\"visible\": true}, \"8\": {\"visible\": true}, \"9\": {\"visible\": true}}}, \"animation\": {}}}",
        "{\"type\": \"update\", \"queue\": \"default\", \"data\": {\"attributes\": {\"edges\": {\"0-1\": {\"visible\": true, \"source\": \"0\", \"target\": \"1\"}, \"0-4\": {\"visible\": true, \"source\": \"0\", \"target\": \"4\"}, \"0-6\": {\"visible\": true, \"source\": \"0\", \"target\": \"6\"}, \"0-7\": {\"visible\": true, \"source\": \"0\", \"target\": \"7\"}, \"1-9\": {\"visible\": true, \"source\": \"1\", \"target\": \"9\"}, \"2-3\": {\"visible\": true, \"source\": \"2\", \"target\": \"3\"}, \"2-5\": {\"visible\": true, \"source\": \"2\", \"target\": \"5\"}, \"2-8\": {\"visible\": true, \"source\": \"2\", \"target\": \"8\"}, \"2-9\": {\"visible\": true, \"source\": \"2\", \"target\": \"9\"}, \"3-4\": {\"visible\": true, \"source\": \"3\", \"target\": \"4\"}, \"3-6\": {\"visible\": true, \"source\": \"3\", \"target\": \"6\"}, \"6-7\": {\"visible\": true, \"source\": \"6\", \"target\": \"7\"}, \"7-8\": {\"visible\": true, \"source\": \"7\", \"target\": \"8\"}, \"7-9\": {\"visible\": true, \"source\": \"7\", \"target\": \"9\"}}}, \"animation\": {}}}",
        "{\"type\": \"update\", \"queue\": \"default\", \"data\": {\"attributes\": {\"edges\": {\"0-1\": {\"directed\": true}, \"0-4\": {\"directed\": true}, \"0-6\": {\"directed\": true}, \"0-7\": {\"directed\": true}, \"1-9\": {\"directed\": true}, \"2-3\": {\"directed\": true}, \"2-5\": {\"directed\": true}, \"2-8\": {\"directed\": true}, \"2-9\": {\"directed\": true}, \"3-4\": {\"directed\": true}, \"3-6\": {\"directed\": true}, \"6-7\": {\"directed\": true}, \"7-8\": {\"directed\": true}, \"7-9\": {\"directed\": true}}}, \"animation\": {\"**\": {\"duration\": 0}}}}",
        "{\"type\": \"update\", \"queue\": \"default\", \"data\": {\"attributes\": {\"edges\": {\"0-1\": {\"labels\": {\"weight\": {\"visible\": true}}}, \"0-4\": {\"labels\": {\"weight\": {\"visible\": true}}}, \"0-6\": {\"labels\": {\"weight\": {\"visible\": true}}}, \"0-7\": {\"labels\": {\"weight\": {\"visible\": true}}}, \"1-9\": {\"labels\": {\"weight\": {\"visible\": true}}}, \"2-3\": {\"labels\": {\"weight\": {\"visible\": true}}}, \"2-5\": {\"labels\": {\"weight\": {\"visible\": true}}}, \"2-8\": {\"labels\": {\"weight\": {\"visible\": true}}}, \"2-9\": {\"labels\": {\"weight\": {\"visible\": true}}}, \"3-4\": {\"labels\": {\"weight\": {\"visible\": true}}}, \"3-6\": {\"labels\": {\"weight\": {\"visible\": true}}}, \"6-7\": {\"labels\": {\"weight\": {\"visible\": true}}}, \"7-8\": {\"labels\": {\"weight\": {\"visible\": true}}}, \"7-9\": {\"labels\": {\"weight\": {\"visible\": true}}}}}, \"animation\": {\"**\": {\"duration\": 0}}}}",
        "{\"type\": \"update\", \"queue\": \"default\", \"data\": {\"attributes\": {\"edges\": {\"0-1\": {\"labels\": {\"weight\": {\"text\": 1}}}, \"0-4\": {\"labels\": {\"weight\": {\"text\": 8}}}, \"0-6\": {\"labels\": {\"weight\": {\"text\": 7}}}, \"0-7\": {\"labels\": {\"weight\": {\"text\": 6}}}, \"1-9\": {\"labels\": {\"weight\": {\"text\": 5}}}, \"2-3\": {\"labels\": {\"weight\": {\"text\": 8}}}, \"2-5\": {\"labels\": {\"weight\": {\"text\": 6}}}, \"2-8\": {\"labels\": {\"weight\": {\"text\": 7}}}, \"2-9\": {\"labels\": {\"weight\": {\"text\": 4}}}, \"3-4\": {\"labels\": {\"weight\": {\"text\": 5}}}, \"3-6\": {\"labels\": {\"weight\": {\"text\": 9}}}, \"6-7\": {\"labels\": {\"weight\": {\"text\": 8}}}, \"7-8\": {\"labels\": {\"weight\": {\"text\": 7}}}, \"7-9\": {\"labels\": {\"weight\": {\"text\": 1}}}}}, \"animation\": {\"**\": {\"duration\": 0}}}}"
       ],
       "layout": "IPY_MODEL_a37b51010b9f46b6bd7de8247a2492d9"
      }
     },
     "9c592820c0604931a021f9e5ae792bd6": {
      "model_module": "@jupyter-widgets/base",
      "model_module_version": "1.1.0",
      "model_name": "LayoutModel",
      "state": {}
     },
     "a37b51010b9f46b6bd7de8247a2492d9": {
      "model_module": "@jupyter-widgets/base",
      "model_module_version": "1.1.0",
      "model_name": "LayoutModel",
      "state": {}
     },
     "ad6ae1c190eb4214a9ca8dcc0a37d406": {
      "model_module": "@jupyter-widgets/base",
      "model_module_version": "1.1.0",
      "model_name": "LayoutModel",
      "state": {}
     },
     "b0892713ca0c451d9f7d3fb85167c3bb": {
      "model_module": "algorithmx-jupyter",
      "model_module_version": "^2.0.0",
      "model_name": "AlgorithmxModel",
      "state": {
       "_model_module_version": "^2.0.0",
       "_view_module_version": "^2.0.0",
       "events": [
        "{\"type\": \"update\", \"queue\": \"default\", \"data\": {\"attributes\": {\"nodes\": {\"1\": {\"visible\": true}, \"2\": {\"visible\": true}, \"3\": {\"visible\": true}, \"4\": {\"visible\": true}, \"5\": {\"visible\": true}}}, \"animation\": {}}}",
        "{\"type\": \"update\", \"queue\": \"default\", \"data\": {\"attributes\": {\"nodes\": {\"1\": {\"shape\": \"rect\", \"size\": [20, 12]}, \"2\": {\"shape\": \"rect\", \"size\": [20, 12]}, \"3\": {\"shape\": \"rect\", \"size\": [20, 12]}, \"4\": {\"shape\": \"rect\", \"size\": [20, 12]}, \"5\": {\"shape\": \"rect\", \"size\": [20, 12]}}}, \"animation\": {\"**\": {\"duration\": 0}}}}",
        "{\"type\": \"update\", \"queue\": \"default\", \"data\": {\"attributes\": {\"nodes\": {\"1\": {\"color\": \"red\"}, \"2\": {\"color\": \"green\"}, \"3\": {\"color\": \"blue\"}, \"4\": {\"color\": \"orange\"}, \"5\": {\"color\": \"purple\"}}}, \"animation\": {\"**\": {\"duration\": 0}}}}",
        "{\"type\": \"update\", \"queue\": \"default\", \"data\": {\"attributes\": {\"edges\": {\"1-2\": {\"visible\": true, \"source\": \"1\", \"target\": \"2\"}, \"2-3\": {\"visible\": true, \"source\": \"2\", \"target\": \"3\"}, \"2-4\": {\"visible\": true, \"source\": \"2\", \"target\": \"4\"}, \"2-5\": {\"visible\": true, \"source\": \"2\", \"target\": \"5\"}}}, \"animation\": {}}}"
       ],
       "layout": "IPY_MODEL_9c592820c0604931a021f9e5ae792bd6"
      }
     },
     "c49aca93ee264470959e485f5da043c1": {
      "model_module": "algorithmx-jupyter",
      "model_module_version": "^2.0.0",
      "model_name": "AlgorithmxModel",
      "state": {
       "_model_module_version": "^2.0.0",
       "_view_module_version": "^2.0.0",
       "events": [
        "{\"type\": \"update\", \"queue\": \"default\", \"data\": {\"attributes\": {\"nodes\": {\"0\": {\"visible\": true}, \"1\": {\"visible\": true}, \"2\": {\"visible\": true}, \"3\": {\"visible\": true}, \"4\": {\"visible\": true}, \"5\": {\"visible\": true}, \"6\": {\"visible\": true}, \"7\": {\"visible\": true}, \"8\": {\"visible\": true}, \"9\": {\"visible\": true}}}, \"animation\": {}}}",
        "{\"type\": \"update\", \"queue\": \"default\", \"data\": {\"attributes\": {\"nodes\": {\"0\": {\"color\": \"orange\"}, \"1\": {\"color\": \"yellow\"}, \"2\": {\"color\": \"orange\"}, \"3\": {\"color\": \"yellow\"}, \"4\": {\"color\": \"red\"}, \"5\": {\"color\": \"red\"}, \"6\": {\"color\": \"red\"}, \"7\": {\"color\": \"yellow\"}, \"8\": {\"color\": \"orange\"}, \"9\": {\"color\": \"yellow\"}}}, \"animation\": {\"**\": {\"duration\": 0}}}}",
        "{\"type\": \"update\", \"queue\": \"default\", \"data\": {\"attributes\": {\"edges\": {\"0-1\": {\"visible\": true, \"source\": \"0\", \"target\": \"1\"}, \"0-3\": {\"visible\": true, \"source\": \"0\", \"target\": \"3\"}, \"0-4\": {\"visible\": true, \"source\": \"0\", \"target\": \"4\"}, \"1-4\": {\"visible\": true, \"source\": \"1\", \"target\": \"4\"}, \"1-8\": {\"visible\": true, \"source\": \"1\", \"target\": \"8\"}, \"2-3\": {\"visible\": true, \"source\": \"2\", \"target\": \"3\"}, \"2-4\": {\"visible\": true, \"source\": \"2\", \"target\": \"4\"}, \"2-5\": {\"visible\": true, \"source\": \"2\", \"target\": \"5\"}, \"2-6\": {\"visible\": true, \"source\": \"2\", \"target\": \"6\"}, \"2-7\": {\"visible\": true, \"source\": \"2\", \"target\": \"7\"}, \"3-4\": {\"visible\": true, \"source\": \"3\", \"target\": \"4\"}, \"3-6\": {\"visible\": true, \"source\": \"3\", \"target\": \"6\"}, \"4-8\": {\"visible\": true, \"source\": \"4\", \"target\": \"8\"}, \"4-9\": {\"visible\": true, \"source\": \"4\", \"target\": \"9\"}, \"6-7\": {\"visible\": true, \"source\": \"6\", \"target\": \"7\"}, \"8-9\": {\"visible\": true, \"source\": \"8\", \"target\": \"9\"}}}, \"animation\": {}}}",
        "{\"type\": \"update\", \"queue\": \"default\", \"data\": {\"attributes\": {\"edges\": {\"0-1\": {\"labels\": {\"weight\": {\"visible\": true}}}, \"0-3\": {\"labels\": {\"weight\": {\"visible\": true}}}, \"0-4\": {\"labels\": {\"weight\": {\"visible\": true}}}, \"1-4\": {\"labels\": {\"weight\": {\"visible\": true}}}, \"1-8\": {\"labels\": {\"weight\": {\"visible\": true}}}, \"2-3\": {\"labels\": {\"weight\": {\"visible\": true}}}, \"2-4\": {\"labels\": {\"weight\": {\"visible\": true}}}, \"2-5\": {\"labels\": {\"weight\": {\"visible\": true}}}, \"2-6\": {\"labels\": {\"weight\": {\"visible\": true}}}, \"2-7\": {\"labels\": {\"weight\": {\"visible\": true}}}, \"3-4\": {\"labels\": {\"weight\": {\"visible\": true}}}, \"3-6\": {\"labels\": {\"weight\": {\"visible\": true}}}, \"4-8\": {\"labels\": {\"weight\": {\"visible\": true}}}, \"4-9\": {\"labels\": {\"weight\": {\"visible\": true}}}, \"6-7\": {\"labels\": {\"weight\": {\"visible\": true}}}, \"8-9\": {\"labels\": {\"weight\": {\"visible\": true}}}}}, \"animation\": {\"**\": {\"duration\": 0}}}}",
        "{\"type\": \"update\", \"queue\": \"default\", \"data\": {\"attributes\": {\"edges\": {\"0-1\": {\"labels\": {\"weight\": {\"text\": 2}}}, \"0-3\": {\"labels\": {\"weight\": {\"text\": 3}}}, \"0-4\": {\"labels\": {\"weight\": {\"text\": 5}}}, \"1-4\": {\"labels\": {\"weight\": {\"text\": 5}}}, \"1-8\": {\"labels\": {\"weight\": {\"text\": 7}}}, \"2-3\": {\"labels\": {\"weight\": {\"text\": 6}}}, \"2-4\": {\"labels\": {\"weight\": {\"text\": 6}}}, \"2-5\": {\"labels\": {\"weight\": {\"text\": 6}}}, \"2-6\": {\"labels\": {\"weight\": {\"text\": 10}}}, \"2-7\": {\"labels\": {\"weight\": {\"text\": 7}}}, \"3-4\": {\"labels\": {\"weight\": {\"text\": 9}}}, \"3-6\": {\"labels\": {\"weight\": {\"text\": 4}}}, \"4-8\": {\"labels\": {\"weight\": {\"text\": 10}}}, \"4-9\": {\"labels\": {\"weight\": {\"text\": 10}}}, \"6-7\": {\"labels\": {\"weight\": {\"text\": 9}}}, \"8-9\": {\"labels\": {\"weight\": {\"text\": 1}}}}}, \"animation\": {\"**\": {\"duration\": 0}}}}",
        "{\"type\": \"update\", \"queue\": \"default\", \"data\": {\"attributes\": {\"edges\": {\"0-1\": {\"labels\": {\"centrality\": {\"visible\": true}}}, \"0-3\": {\"labels\": {\"centrality\": {\"visible\": true}}}, \"0-4\": {\"labels\": {\"centrality\": {\"visible\": true}}}, \"1-4\": {\"labels\": {\"centrality\": {\"visible\": true}}}, \"1-8\": {\"labels\": {\"centrality\": {\"visible\": true}}}, \"2-3\": {\"labels\": {\"centrality\": {\"visible\": true}}}, \"2-4\": {\"labels\": {\"centrality\": {\"visible\": true}}}, \"2-5\": {\"labels\": {\"centrality\": {\"visible\": true}}}, \"2-6\": {\"labels\": {\"centrality\": {\"visible\": true}}}, \"2-7\": {\"labels\": {\"centrality\": {\"visible\": true}}}, \"3-4\": {\"labels\": {\"centrality\": {\"visible\": true}}}, \"3-6\": {\"labels\": {\"centrality\": {\"visible\": true}}}, \"4-8\": {\"labels\": {\"centrality\": {\"visible\": true}}}, \"4-9\": {\"labels\": {\"centrality\": {\"visible\": true}}}, \"6-7\": {\"labels\": {\"centrality\": {\"visible\": true}}}, \"8-9\": {\"labels\": {\"centrality\": {\"visible\": true}}}}}, \"animation\": {\"**\": {\"duration\": 0}}}}",
        "{\"type\": \"update\", \"queue\": \"default\", \"data\": {\"attributes\": {\"edges\": {\"0-1\": {\"labels\": {\"centrality\": {\"color\": \"blue\"}}}, \"0-3\": {\"labels\": {\"centrality\": {\"color\": \"blue\"}}}, \"0-4\": {\"labels\": {\"centrality\": {\"color\": \"blue\"}}}, \"1-4\": {\"labels\": {\"centrality\": {\"color\": \"blue\"}}}, \"1-8\": {\"labels\": {\"centrality\": {\"color\": \"blue\"}}}, \"2-3\": {\"labels\": {\"centrality\": {\"color\": \"blue\"}}}, \"2-4\": {\"labels\": {\"centrality\": {\"color\": \"blue\"}}}, \"2-5\": {\"labels\": {\"centrality\": {\"color\": \"blue\"}}}, \"2-6\": {\"labels\": {\"centrality\": {\"color\": \"blue\"}}}, \"2-7\": {\"labels\": {\"centrality\": {\"color\": \"blue\"}}}, \"3-4\": {\"labels\": {\"centrality\": {\"color\": \"blue\"}}}, \"3-6\": {\"labels\": {\"centrality\": {\"color\": \"blue\"}}}, \"4-8\": {\"labels\": {\"centrality\": {\"color\": \"blue\"}}}, \"4-9\": {\"labels\": {\"centrality\": {\"color\": \"blue\"}}}, \"6-7\": {\"labels\": {\"centrality\": {\"color\": \"blue\"}}}, \"8-9\": {\"labels\": {\"centrality\": {\"color\": \"blue\"}}}}}, \"animation\": {\"**\": {\"duration\": 0}}}}",
        "{\"type\": \"update\", \"queue\": \"default\", \"data\": {\"attributes\": {\"edges\": {\"0-1\": {\"labels\": {\"centrality\": {\"text\": \"0.24\"}}}, \"0-3\": {\"labels\": {\"centrality\": {\"text\": \"0.33\"}}}, \"0-4\": {\"labels\": {\"centrality\": {\"text\": \"0.07\"}}}, \"1-4\": {\"labels\": {\"centrality\": {\"text\": \"0.05\"}}}, \"1-8\": {\"labels\": {\"centrality\": {\"text\": \"0.18\"}}}, \"2-3\": {\"labels\": {\"centrality\": {\"text\": \"0.16\"}}}, \"2-4\": {\"labels\": {\"centrality\": {\"text\": \"0.23\"}}}, \"2-5\": {\"labels\": {\"centrality\": {\"text\": \"0.20\"}}}, \"2-6\": {\"labels\": {\"centrality\": {\"text\": \"0.02\"}}}, \"2-7\": {\"labels\": {\"centrality\": {\"text\": \"0.15\"}}}, \"3-4\": {\"labels\": {\"centrality\": {\"text\": \"0.00\"}}}, \"3-6\": {\"labels\": {\"centrality\": {\"text\": \"0.19\"}}}, \"4-8\": {\"labels\": {\"centrality\": {\"text\": \"0.09\"}}}, \"4-9\": {\"labels\": {\"centrality\": {\"text\": \"0.09\"}}}, \"6-7\": {\"labels\": {\"centrality\": {\"text\": \"0.05\"}}}, \"8-9\": {\"labels\": {\"centrality\": {\"text\": \"0.11\"}}}}}, \"animation\": {\"**\": {\"duration\": 0}}}}"
       ],
       "layout": "IPY_MODEL_f21d498299284d8180fe23b79702bd7b"
      }
     },
     "f14ddc005ff7493aad5bcb2bc46e9c50": {
      "model_module": "algorithmx-jupyter",
      "model_module_version": "^2.0.0",
      "model_name": "AlgorithmxModel",
      "state": {
       "_model_module_version": "^2.0.0",
       "_view_module_version": "^2.0.0",
       "events": [
        "{\"type\": \"update\", \"queue\": \"default\", \"data\": {\"attributes\": {\"nodes\": {\"0\": {\"visible\": true}, \"1\": {\"visible\": true}, \"2\": {\"visible\": true}, \"3\": {\"visible\": true}, \"4\": {\"visible\": true}, \"5\": {\"visible\": true}, \"6\": {\"visible\": true}, \"7\": {\"visible\": true}, \"8\": {\"visible\": true}, \"9\": {\"visible\": true}}}, \"animation\": {}}}",
        "{\"type\": \"update\", \"queue\": \"default\", \"data\": {\"attributes\": {\"edges\": {\"0-1\": {\"visible\": true, \"source\": \"0\", \"target\": \"1\"}, \"0-4\": {\"visible\": true, \"source\": \"0\", \"target\": \"4\"}, \"0-6\": {\"visible\": true, \"source\": \"0\", \"target\": \"6\"}, \"0-7\": {\"visible\": true, \"source\": \"0\", \"target\": \"7\"}, \"1-9\": {\"visible\": true, \"source\": \"1\", \"target\": \"9\"}, \"2-3\": {\"visible\": true, \"source\": \"2\", \"target\": \"3\"}, \"2-5\": {\"visible\": true, \"source\": \"2\", \"target\": \"5\"}, \"2-8\": {\"visible\": true, \"source\": \"2\", \"target\": \"8\"}, \"2-9\": {\"visible\": true, \"source\": \"2\", \"target\": \"9\"}, \"3-4\": {\"visible\": true, \"source\": \"3\", \"target\": \"4\"}, \"3-6\": {\"visible\": true, \"source\": \"3\", \"target\": \"6\"}, \"6-7\": {\"visible\": true, \"source\": \"6\", \"target\": \"7\"}, \"7-8\": {\"visible\": true, \"source\": \"7\", \"target\": \"8\"}, \"7-9\": {\"visible\": true, \"source\": \"7\", \"target\": \"9\"}}}, \"animation\": {}}}",
        "{\"type\": \"update\", \"queue\": \"default\", \"data\": {\"attributes\": {\"edges\": {\"0-1\": {\"directed\": true}, \"0-4\": {\"directed\": true}, \"0-6\": {\"directed\": true}, \"0-7\": {\"directed\": true}, \"1-9\": {\"directed\": true}, \"2-3\": {\"directed\": true}, \"2-5\": {\"directed\": true}, \"2-8\": {\"directed\": true}, \"2-9\": {\"directed\": true}, \"3-4\": {\"directed\": true}, \"3-6\": {\"directed\": true}, \"6-7\": {\"directed\": true}, \"7-8\": {\"directed\": true}, \"7-9\": {\"directed\": true}}}, \"animation\": {\"**\": {\"duration\": 0}}}}"
       ],
       "layout": "IPY_MODEL_3e994da9f1d143b0931dd6e0fc7a7c61"
      }
     },
     "f21d498299284d8180fe23b79702bd7b": {
      "model_module": "@jupyter-widgets/base",
      "model_module_version": "1.1.0",
      "model_name": "LayoutModel",
      "state": {}
     },
     "fbaef0f0e64748a393aa12b04db3d660": {
      "model_module": "algorithmx-jupyter",
      "model_module_version": "^2.0.0",
      "model_name": "AlgorithmxModel",
      "state": {
       "_model_module_version": "^2.0.0",
       "_view_module_version": "^2.0.0",
       "events": [
        "{\"type\": \"update\", \"queue\": \"default\", \"data\": {\"attributes\": {\"nodes\": {\"1\": {\"visible\": true}, \"2\": {\"visible\": true}, \"3\": {\"visible\": true}, \"4\": {\"visible\": true}, \"5\": {\"visible\": true}}}, \"animation\": {}}}",
        "{\"type\": \"update\", \"queue\": \"default\", \"data\": {\"attributes\": {\"edges\": {\"1-2\": {\"visible\": true, \"source\": \"1\", \"target\": \"2\"}, \"2-3\": {\"visible\": true, \"source\": \"2\", \"target\": \"3\"}, \"2-4\": {\"visible\": true, \"source\": \"2\", \"target\": \"4\"}, \"2-5\": {\"visible\": true, \"source\": \"2\", \"target\": \"5\"}}}, \"animation\": {}}}"
       ],
       "layout": "IPY_MODEL_ad6ae1c190eb4214a9ca8dcc0a37d406"
      }
     }
    },
    "version_major": 2,
    "version_minor": 0
   }
  }
 },
 "nbformat": 4,
 "nbformat_minor": 2
}
