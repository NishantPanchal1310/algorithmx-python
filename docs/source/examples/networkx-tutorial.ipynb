{
 "cells": [
  {
   "cell_type": "markdown",
   "metadata": {},
   "source": [
    "# NetworkX Tutorial"
   ]
  },
  {
   "cell_type": "markdown",
   "metadata": {},
   "source": [
    "In this tutorial we will take a look at ways of combining the analysis tools provided by NetworkX with the visualization capailities of AlgorithmX."
   ]
  },
  {
   "cell_type": "markdown",
   "metadata": {},
   "source": [
    "## Simple Graph"
   ]
  },
  {
   "cell_type": "markdown",
   "metadata": {},
   "source": [
    "Let's start by creating a simple NetworkX graph. We will use `add_path` to quickly add both nodes and edges."
   ]
  },
  {
   "cell_type": "code",
   "execution_count": 1,
   "metadata": {},
   "outputs": [
    {
     "name": "stdout",
     "output_type": "stream",
     "text": [
      "Nodes: [1, 2, 3, 4, 5]\n",
      "Edges: [(1, 2), (2, 3), (2, 4), (2, 5)]\n"
     ]
    }
   ],
   "source": [
    "import networkx as nx\n",
    "\n",
    "G = nx.Graph()\n",
    "\n",
    "G.add_path([1, 2, 3])\n",
    "G.add_path([4, 2, 5])\n",
    "\n",
    "print('Nodes:', G.nodes)\n",
    "print('Edges:', G.edges)"
   ]
  },
  {
   "cell_type": "markdown",
   "metadata": {},
   "source": [
    "Now that we have all the data we need, we can create an AlgorithmX canvas to display our nodes and edges."
   ]
  },
  {
   "cell_type": "code",
   "execution_count": 2,
   "metadata": {},
   "outputs": [
    {
     "data": {
      "application/vnd.jupyter.widget-view+json": {
       "model_id": "1183b76182c543ef891b45383a63467b",
       "version_major": 2,
       "version_minor": 0
      },
      "text/plain": [
       "JupyterClient(events=['{\"type\": \"update\", \"queue\": \"default\", \"data\": {\"attributes\": {\"nodes\": {\"1\": {\"visible…"
      ]
     },
     "metadata": {},
     "output_type": "display_data"
    }
   ],
   "source": [
    "import algorithmx\n",
    "\n",
    "canvas = algorithmx.jupyter_canvas()\n",
    "\n",
    "canvas.nodes(G.nodes).add()\n",
    "canvas.edges(G.edges).add()\n",
    "\n",
    "canvas"
   ]
  },
  {
   "cell_type": "markdown",
   "metadata": {},
   "source": [
    "So we have our simple graph, but we think it could look a little more interesting. Let's define a custom style for our nodes, and also give each one a different color. We can take advantage of the fact that nearly any argument in AlgorithmX can be passed as a lambda function, making our code much more concise."
   ]
  },
  {
   "cell_type": "code",
   "execution_count": 3,
   "metadata": {
    "scrolled": true
   },
   "outputs": [
    {
     "data": {
      "application/vnd.jupyter.widget-view+json": {
       "model_id": "0aacfe60a7af4ac1b0ee3afff0562cc2",
       "version_major": 2,
       "version_minor": 0
      },
      "text/plain": [
       "JupyterClient(events=['{\"type\": \"update\", \"queue\": \"default\", \"data\": {\"attributes\": {\"nodes\": {\"1\": {\"visible…"
      ]
     },
     "metadata": {},
     "output_type": "display_data"
    }
   ],
   "source": [
    "canvas = algorithmx.jupyter_canvas()\n",
    "\n",
    "node_style = {\n",
    "    'shape': 'rect',\n",
    "    'size': (20, 12)\n",
    "}\n",
    "node_colors = {1: 'red', 2: 'green', 3: 'blue', 4: 'orange', 5: 'purple'}\n",
    "\n",
    "canvas.nodes(G.nodes).add() \\\n",
    "    .set(node_style) \\\n",
    "    .color(lambda n: node_colors[n])\n",
    "\n",
    "canvas.edges(G.edges).add()\n",
    "\n",
    "canvas"
   ]
  },
  {
   "cell_type": "markdown",
   "metadata": {},
   "source": [
    "Making the graph directed is easy - all we have to do is call `G.to_directed()`, and then tell AlgorithmX that the edges should be rendered with an arrow."
   ]
  },
  {
   "cell_type": "markdown",
   "metadata": {},
   "source": [
    "## Weighted and Directed Graphs"
   ]
  },
  {
   "cell_type": "markdown",
   "metadata": {},
   "source": [
    "To create a directed graph, all we need to do is use a NetworkX `DiGraph`, and tell AlgrithmX that edges should be rendered with an arrow."
   ]
  },
  {
   "cell_type": "code",
   "execution_count": 4,
   "metadata": {},
   "outputs": [
    {
     "data": {
      "application/vnd.jupyter.widget-view+json": {
       "model_id": "d2c59accc6994e4b97236555d9ef1408",
       "version_major": 2,
       "version_minor": 0
      },
      "text/plain": [
       "JupyterClient(events=['{\"type\": \"update\", \"queue\": \"default\", \"data\": {\"attributes\": {\"nodes\": {\"1\": {\"visible…"
      ]
     },
     "metadata": {},
     "output_type": "display_data"
    }
   ],
   "source": [
    "G = nx.DiGraph()\n",
    "\n",
    "G.add_nodes_from([1, 2, 3])\n",
    "G.add_edges_from([(1, 2), (2, 3), (3, 1)])\n",
    "\n",
    "canvas = algorithmx.jupyter_canvas()\n",
    "\n",
    "canvas.nodes(G.nodes).add()\n",
    "canvas.edges(G.edges).add().directed(True)\n",
    "\n",
    "canvas"
   ]
  },
  {
   "cell_type": "markdown",
   "metadata": {},
   "source": [
    "To create wighted graph, we will first ensure that our NetworkX edges have a 'weight' attribute. Then, we will add a label to each edge displaying the attribute."
   ]
  },
  {
   "cell_type": "code",
   "execution_count": 5,
   "metadata": {
    "scrolled": false
   },
   "outputs": [
    {
     "data": {
      "application/vnd.jupyter.widget-view+json": {
       "model_id": "dfb2a9c495524d28b59597c78bfa264a",
       "version_major": 2,
       "version_minor": 0
      },
      "text/plain": [
       "JupyterClient(events=['{\"type\": \"update\", \"queue\": \"default\", \"data\": {\"attributes\": {\"nodes\": {\"1\": {\"visible…"
      ]
     },
     "metadata": {},
     "output_type": "display_data"
    }
   ],
   "source": [
    "G = nx.Graph()\n",
    "\n",
    "G.add_nodes_from([1, 2, 3])\n",
    "G.add_weighted_edges_from([(1, 2, 0.4), (2, 3, 0.2), (3, 1, 0.3)])\n",
    "\n",
    "canvas = algorithmx.jupyter_canvas()\n",
    "\n",
    "canvas.nodes(G.nodes).add()\n",
    "canvas.edges(G.edges).add() \\\n",
    "    .label().add() \\\n",
    "        .text(lambda e: G.edges[e]['weight'])\n",
    "\n",
    "canvas"
   ]
  },
  {
   "cell_type": "markdown",
   "metadata": {},
   "source": [
    "Finally, AlgorithmX provides a uility to simplify this process."
   ]
  },
  {
   "cell_type": "code",
   "execution_count": 6,
   "metadata": {
    "scrolled": true
   },
   "outputs": [
    {
     "data": {
      "application/vnd.jupyter.widget-view+json": {
       "model_id": "57ab9f1791ab4bbcbd0e6abb1d0abf52",
       "version_major": 2,
       "version_minor": 0
      },
      "text/plain": [
       "JupyterClient(events=['{\"type\": \"update\", \"queue\": \"default\", \"data\": {\"attributes\": {\"nodes\": {\"1\": {\"visible…"
      ]
     },
     "metadata": {},
     "output_type": "display_data"
    }
   ],
   "source": [
    "from algorithmx.networkx import add_graph\n",
    "\n",
    "G = nx.DiGraph()\n",
    "\n",
    "G.add_nodes_from([1, 2, 3])\n",
    "G.add_weighted_edges_from([(1, 2, 0.4), (2, 3, 0.2), (3, 1, 0.3)])\n",
    "\n",
    "canvas = algorithmx.jupyter_canvas()\n",
    "\n",
    "add_graph(canvas, G)"
   ]
  },
  {
   "cell_type": "markdown",
   "metadata": {},
   "source": [
    "## Random Graph"
   ]
  },
  {
   "cell_type": "markdown",
   "metadata": {},
   "source": [
    "NetworkX provides a range of functions for generating graphs. For generating a random graph, we will use the basic `gnp_random_graph` function. By providing a seed, we can ensure that we get the same graph every time (otherwise there is no guarantee of it being connected!)."
   ]
  },
  {
   "cell_type": "code",
   "execution_count": 7,
   "metadata": {},
   "outputs": [
    {
     "data": {
      "application/vnd.jupyter.widget-view+json": {
       "model_id": "3ecb439902a24d888afa952e897656f1",
       "version_major": 2,
       "version_minor": 0
      },
      "text/plain": [
       "JupyterClient(events=['{\"type\": \"update\", \"queue\": \"default\", \"data\": {\"attributes\": {\"nodes\": {\"0\": {\"visible…"
      ]
     },
     "metadata": {},
     "output_type": "display_data"
    }
   ],
   "source": [
    "G = nx.gnp_random_graph(10, 0.3, 138)\n",
    "\n",
    "canvas = algorithmx.jupyter_canvas()\n",
    "canvas.nodes(G.nodes).add()\n",
    "canvas.edges(G.edges).add()\n",
    "\n",
    "canvas"
   ]
  },
  {
   "cell_type": "markdown",
   "metadata": {},
   "source": [
    "To make the graph directed, we will simply use `G.to_directed`. To make the graph weighted, we will need to configure a `weight` attribute for each edge. Since our graph is random, we'll make our edge weights random as well. For this we will use the `set_edge_attributes` function."
   ]
  },
  {
   "cell_type": "code",
   "execution_count": 8,
   "metadata": {},
   "outputs": [],
   "source": [
    "from random import randint\n",
    "\n",
    "G = G.to_directed()\n",
    "nx.set_edge_attributes(G, {e: {'weight': randint(1, 10)} for e in G.edges})"
   ]
  },
  {
   "cell_type": "markdown",
   "metadata": {},
   "source": [
    "We can now display the graph using the utility from before."
   ]
  },
  {
   "cell_type": "code",
   "execution_count": 9,
   "metadata": {
    "scrolled": true
   },
   "outputs": [
    {
     "data": {
      "application/vnd.jupyter.widget-view+json": {
       "model_id": "5b4169d9418341febc4ad77658261eb8",
       "version_major": 2,
       "version_minor": 0
      },
      "text/plain": [
       "JupyterClient(events=['{\"type\": \"update\", \"queue\": \"default\", \"data\": {\"attributes\": {\"nodes\": {\"0\": {\"visible…"
      ]
     },
     "metadata": {},
     "output_type": "display_data"
    }
   ],
   "source": [
    "canvas = algorithmx.jupyter_canvas()\n",
    "add_graph(canvas, G)"
   ]
  },
  {
   "cell_type": "markdown",
   "metadata": {},
   "source": [
    "## Detailed Graph"
   ]
  },
  {
   "cell_type": "markdown",
   "metadata": {},
   "source": [
    "Now we are going to create a graph that displays a range of interesting properties. Let's begin by generating a random weighted graph, as before."
   ]
  },
  {
   "cell_type": "code",
   "execution_count": 10,
   "metadata": {},
   "outputs": [],
   "source": [
    "G = nx.gnp_random_graph(10, 0.3, 201)\n",
    "nx.set_edge_attributes(G, {e: {'weight': randint(1, 10)} for e in G.edges})"
   ]
  },
  {
   "cell_type": "markdown",
   "metadata": {},
   "source": [
    "Next, we will use NetworkX to calculate the graph's <a href=\"https://networkx.github.io/documentation/stable/reference/algorithms/generated/networkx.algorithms.coloring.greedy_color.html#networkx.algorithms.coloring.greedy_color\">coloring</a> and <a hre=\"https://networkx.github.io/documentation/stable/reference/algorithms/generated/networkx.algorithms.centrality.edge_betweenness_centrality.html#networkx.algorithms.centrality.edge_betweenness_centrality\">edge centrality</a>."
   ]
  },
  {
   "cell_type": "code",
   "execution_count": 11,
   "metadata": {},
   "outputs": [],
   "source": [
    "coloring = nx.greedy_color(G)\n",
    "centrality = nx.edge_betweenness_centrality(G, weight='weight', normalized=True)"
   ]
  },
  {
   "cell_type": "markdown",
   "metadata": {},
   "source": [
    "We can now begin displaying the graph. First, we will add the nodes and assign them a color based on their calculated priority. We happen to know that any graph requires at most 4 different colors, and so we prepare these beforehand."
   ]
  },
  {
   "cell_type": "code",
   "execution_count": 12,
   "metadata": {},
   "outputs": [
    {
     "name": "stdout",
     "output_type": "stream",
     "text": [
      "{4: 0, 2: 1, 3: 2, 0: 1, 1: 2, 6: 0, 8: 1, 7: 2, 9: 2, 5: 0}\n"
     ]
    }
   ],
   "source": [
    "canvas = algorithmx.jupyter_canvas()\n",
    "\n",
    "color_priority = {0: 'red', 1: 'orange', 2: 'yellow', 3: 'green'}\n",
    "\n",
    "canvas.nodes(G.nodes).add() \\\n",
    "    .color(lambda n: color_priority[coloring[n]])\n",
    "\n",
    "print(coloring)"
   ]
  },
  {
   "cell_type": "markdown",
   "metadata": {},
   "source": [
    "Afterwards, we will add the edges. Each one will have two labels; one to display it's weight, and another to display it's calculated centrality."
   ]
  },
  {
   "cell_type": "code",
   "execution_count": 13,
   "metadata": {},
   "outputs": [
    {
     "name": "stdout",
     "output_type": "stream",
     "text": [
      "{(0, 1): '0.20', (0, 3): '0.00', (0, 4): '0.27', (1, 4): '0.00', (1, 8): '0.09', (2, 3): '0.03', (2, 4): '0.44', (2, 5): '0.20', (2, 6): '0.21', (2, 7): '0.20', (3, 4): '0.11', (3, 6): '0.06', (4, 8): '0.27', (4, 9): '0.00', (6, 7): '0.00', (8, 9): '0.20'}\n"
     ]
    }
   ],
   "source": [
    "init_edges = canvas.edges(G.edges).add()\n",
    "\n",
    "formatted_centrality = {k: '{0:.2f}'.format(v) for k, v in centrality.items()}\n",
    "\n",
    "init_edges.label().add() \\\n",
    "    .text(lambda e: G.edges[e]['weight']) \\\n",
    "\n",
    "init_edges.label('centrality').add() \\\n",
    "    .color('blue') \\\n",
    "    .text(lambda e: formatted_centrality[e])\n",
    "\n",
    "print(formatted_centrality)"
   ]
  },
  {
   "cell_type": "markdown",
   "metadata": {},
   "source": [
    "Finally, we can see the whole graph."
   ]
  },
  {
   "cell_type": "code",
   "execution_count": 14,
   "metadata": {
    "scrolled": false
   },
   "outputs": [
    {
     "data": {
      "application/vnd.jupyter.widget-view+json": {
       "model_id": "86dda55870a24380927b9fddc35713dd",
       "version_major": 2,
       "version_minor": 0
      },
      "text/plain": [
       "JupyterClient(events=['{\"type\": \"update\", \"queue\": \"default\", \"data\": {\"attributes\": {\"nodes\": {\"0\": {\"visible…"
      ]
     },
     "metadata": {},
     "output_type": "display_data"
    }
   ],
   "source": [
    "canvas"
   ]
  }
 ],
 "metadata": {
  "kernelspec": {
   "display_name": "Python 3",
   "language": "python",
   "name": "python3"
  },
  "language_info": {
   "codemirror_mode": {
    "name": "ipython",
    "version": 3
   },
   "file_extension": ".py",
   "mimetype": "text/x-python",
   "name": "python",
   "nbconvert_exporter": "python",
   "pygments_lexer": "ipython3",
   "version": "3.6.8"
  },
  "widgets": {
   "application/vnd.jupyter.widget-state+json": {
    "state": {
     "001fb08d4f5a493a8b1504971be8505f": {
      "model_module": "@jupyter-widgets/base",
      "model_module_version": "1.1.0",
      "model_name": "LayoutModel",
      "state": {}
     },
     "011b0019b2524df496c7587228b1665f": {
      "model_module": "algorithmx-jupyter",
      "model_module_version": "^2.0.0",
      "model_name": "AlgorithmxModel",
      "state": {
       "_model_module_version": "^2.0.0",
       "_view_module_version": "^2.0.0",
       "events": [
        "{\"type\": \"update\", \"queue\": \"default\", \"data\": {\"attributes\": {\"nodes\": {\"0\": {\"visible\": true}, \"1\": {\"visible\": true}, \"2\": {\"visible\": true}, \"3\": {\"visible\": true}, \"4\": {\"visible\": true}, \"5\": {\"visible\": true}, \"6\": {\"visible\": true}, \"7\": {\"visible\": true}, \"8\": {\"visible\": true}, \"9\": {\"visible\": true}}}, \"animation\": {}}}",
        "{\"type\": \"update\", \"queue\": \"default\", \"data\": {\"attributes\": {\"edges\": {\"0-1\": {\"visible\": true, \"source\": \"1\", \"target\": \"0\"}, \"0-4\": {\"visible\": true, \"source\": \"4\", \"target\": \"0\"}, \"0-6\": {\"visible\": true, \"source\": \"6\", \"target\": \"0\"}, \"0-7\": {\"visible\": true, \"source\": \"7\", \"target\": \"0\"}, \"1-9\": {\"visible\": true, \"source\": \"9\", \"target\": \"1\"}, \"2-3\": {\"visible\": true, \"source\": \"3\", \"target\": \"2\"}, \"2-5\": {\"visible\": true, \"source\": \"5\", \"target\": \"2\"}, \"2-8\": {\"visible\": true, \"source\": \"8\", \"target\": \"2\"}, \"2-9\": {\"visible\": true, \"source\": \"9\", \"target\": \"2\"}, \"3-4\": {\"visible\": true, \"source\": \"4\", \"target\": \"3\"}, \"3-6\": {\"visible\": true, \"source\": \"6\", \"target\": \"3\"}, \"6-7\": {\"visible\": true, \"source\": \"7\", \"target\": \"6\"}, \"7-8\": {\"visible\": true, \"source\": \"8\", \"target\": \"7\"}, \"7-9\": {\"visible\": true, \"source\": \"9\", \"target\": \"7\"}}}, \"animation\": {}}}",
        "{\"type\": \"update\", \"queue\": \"default\", \"data\": {\"attributes\": {\"edges\": {\"0-1\": {\"directed\": true}, \"0-4\": {\"directed\": true}, \"0-6\": {\"directed\": true}, \"0-7\": {\"directed\": true}, \"1-9\": {\"directed\": true}, \"2-3\": {\"directed\": true}, \"2-5\": {\"directed\": true}, \"2-8\": {\"directed\": true}, \"2-9\": {\"directed\": true}, \"3-4\": {\"directed\": true}, \"3-6\": {\"directed\": true}, \"6-7\": {\"directed\": true}, \"7-8\": {\"directed\": true}, \"7-9\": {\"directed\": true}}}, \"animation\": {\"**\": {\"duration\": 0}}}}",
        "{\"type\": \"update\", \"queue\": \"default\", \"data\": {\"attributes\": {\"edges\": {\"0-1\": {\"labels\": {\"weight\": {\"visible\": true}}}, \"0-4\": {\"labels\": {\"weight\": {\"visible\": true}}}, \"0-6\": {\"labels\": {\"weight\": {\"visible\": true}}}, \"0-7\": {\"labels\": {\"weight\": {\"visible\": true}}}, \"1-9\": {\"labels\": {\"weight\": {\"visible\": true}}}, \"2-3\": {\"labels\": {\"weight\": {\"visible\": true}}}, \"2-5\": {\"labels\": {\"weight\": {\"visible\": true}}}, \"2-8\": {\"labels\": {\"weight\": {\"visible\": true}}}, \"2-9\": {\"labels\": {\"weight\": {\"visible\": true}}}, \"3-4\": {\"labels\": {\"weight\": {\"visible\": true}}}, \"3-6\": {\"labels\": {\"weight\": {\"visible\": true}}}, \"6-7\": {\"labels\": {\"weight\": {\"visible\": true}}}, \"7-8\": {\"labels\": {\"weight\": {\"visible\": true}}}, \"7-9\": {\"labels\": {\"weight\": {\"visible\": true}}}}}, \"animation\": {\"**\": {\"duration\": 0}}}}",
        "{\"type\": \"update\", \"queue\": \"default\", \"data\": {\"attributes\": {\"edges\": {\"0-1\": {\"labels\": {\"weight\": {\"text\": 4}}}, \"0-4\": {\"labels\": {\"weight\": {\"text\": 4}}}, \"0-6\": {\"labels\": {\"weight\": {\"text\": 9}}}, \"0-7\": {\"labels\": {\"weight\": {\"text\": 4}}}, \"1-9\": {\"labels\": {\"weight\": {\"text\": 3}}}, \"2-3\": {\"labels\": {\"weight\": {\"text\": 1}}}, \"2-5\": {\"labels\": {\"weight\": {\"text\": 2}}}, \"2-8\": {\"labels\": {\"weight\": {\"text\": 9}}}, \"2-9\": {\"labels\": {\"weight\": {\"text\": 8}}}, \"3-4\": {\"labels\": {\"weight\": {\"text\": 5}}}, \"3-6\": {\"labels\": {\"weight\": {\"text\": 4}}}, \"6-7\": {\"labels\": {\"weight\": {\"text\": 3}}}, \"7-8\": {\"labels\": {\"weight\": {\"text\": 6}}}, \"7-9\": {\"labels\": {\"weight\": {\"text\": 6}}}}}, \"animation\": {\"**\": {\"duration\": 0}}}}"
       ],
       "layout": "IPY_MODEL_e09d8bdaf1f0472e8952e61a6e47ff4e"
      }
     },
     "02b6f0f66edc44deb264d06dd8864bce": {
      "model_module": "algorithmx-jupyter",
      "model_module_version": "^2.0.0",
      "model_name": "AlgorithmxModel",
      "state": {
       "_model_module_version": "^2.0.0",
       "_view_module_version": "^2.0.0",
       "events": [
        "{\"type\": \"update\", \"queue\": \"default\", \"data\": {\"attributes\": {\"nodes\": {\"0\": {\"visible\": true}, \"1\": {\"visible\": true}, \"2\": {\"visible\": true}, \"3\": {\"visible\": true}, \"4\": {\"visible\": true}, \"5\": {\"visible\": true}, \"6\": {\"visible\": true}, \"7\": {\"visible\": true}, \"8\": {\"visible\": true}, \"9\": {\"visible\": true}}}, \"animation\": {}}}",
        "{\"type\": \"update\", \"queue\": \"default\", \"data\": {\"attributes\": {\"edges\": {\"0-1\": {\"visible\": true, \"source\": \"1\", \"target\": \"0\"}, \"0-4\": {\"visible\": true, \"source\": \"4\", \"target\": \"0\"}, \"0-6\": {\"visible\": true, \"source\": \"6\", \"target\": \"0\"}, \"0-7\": {\"visible\": true, \"source\": \"7\", \"target\": \"0\"}, \"1-9\": {\"visible\": true, \"source\": \"9\", \"target\": \"1\"}, \"2-3\": {\"visible\": true, \"source\": \"3\", \"target\": \"2\"}, \"2-5\": {\"visible\": true, \"source\": \"5\", \"target\": \"2\"}, \"2-8\": {\"visible\": true, \"source\": \"8\", \"target\": \"2\"}, \"2-9\": {\"visible\": true, \"source\": \"9\", \"target\": \"2\"}, \"3-4\": {\"visible\": true, \"source\": \"4\", \"target\": \"3\"}, \"3-6\": {\"visible\": true, \"source\": \"6\", \"target\": \"3\"}, \"6-7\": {\"visible\": true, \"source\": \"7\", \"target\": \"6\"}, \"7-8\": {\"visible\": true, \"source\": \"8\", \"target\": \"7\"}, \"7-9\": {\"visible\": true, \"source\": \"9\", \"target\": \"7\"}}}, \"animation\": {}}}",
        "{\"type\": \"update\", \"queue\": \"default\", \"data\": {\"attributes\": {\"edges\": {\"0-1\": {\"directed\": true}, \"0-4\": {\"directed\": true}, \"0-6\": {\"directed\": true}, \"0-7\": {\"directed\": true}, \"1-9\": {\"directed\": true}, \"2-3\": {\"directed\": true}, \"2-5\": {\"directed\": true}, \"2-8\": {\"directed\": true}, \"2-9\": {\"directed\": true}, \"3-4\": {\"directed\": true}, \"3-6\": {\"directed\": true}, \"6-7\": {\"directed\": true}, \"7-8\": {\"directed\": true}, \"7-9\": {\"directed\": true}}}, \"animation\": {\"**\": {\"duration\": 0}}}}",
        "{\"type\": \"update\", \"queue\": \"default\", \"data\": {\"attributes\": {\"edges\": {\"0-1\": {\"labels\": {\"weight\": {\"visible\": true}}}, \"0-4\": {\"labels\": {\"weight\": {\"visible\": true}}}, \"0-6\": {\"labels\": {\"weight\": {\"visible\": true}}}, \"0-7\": {\"labels\": {\"weight\": {\"visible\": true}}}, \"1-9\": {\"labels\": {\"weight\": {\"visible\": true}}}, \"2-3\": {\"labels\": {\"weight\": {\"visible\": true}}}, \"2-5\": {\"labels\": {\"weight\": {\"visible\": true}}}, \"2-8\": {\"labels\": {\"weight\": {\"visible\": true}}}, \"2-9\": {\"labels\": {\"weight\": {\"visible\": true}}}, \"3-4\": {\"labels\": {\"weight\": {\"visible\": true}}}, \"3-6\": {\"labels\": {\"weight\": {\"visible\": true}}}, \"6-7\": {\"labels\": {\"weight\": {\"visible\": true}}}, \"7-8\": {\"labels\": {\"weight\": {\"visible\": true}}}, \"7-9\": {\"labels\": {\"weight\": {\"visible\": true}}}}}, \"animation\": {\"**\": {\"duration\": 0}}}}",
        "{\"type\": \"update\", \"queue\": \"default\", \"data\": {\"attributes\": {\"edges\": {\"0-1\": {\"labels\": {\"weight\": {\"text\": 10}}}, \"0-4\": {\"labels\": {\"weight\": {\"text\": 10}}}, \"0-6\": {\"labels\": {\"weight\": {\"text\": 10}}}, \"0-7\": {\"labels\": {\"weight\": {\"text\": 4}}}, \"1-9\": {\"labels\": {\"weight\": {\"text\": 8}}}, \"2-3\": {\"labels\": {\"weight\": {\"text\": 3}}}, \"2-5\": {\"labels\": {\"weight\": {\"text\": 4}}}, \"2-8\": {\"labels\": {\"weight\": {\"text\": 6}}}, \"2-9\": {\"labels\": {\"weight\": {\"text\": 2}}}, \"3-4\": {\"labels\": {\"weight\": {\"text\": 5}}}, \"3-6\": {\"labels\": {\"weight\": {\"text\": 2}}}, \"6-7\": {\"labels\": {\"weight\": {\"text\": 7}}}, \"7-8\": {\"labels\": {\"weight\": {\"text\": 8}}}, \"7-9\": {\"labels\": {\"weight\": {\"text\": 3}}}}}, \"animation\": {\"**\": {\"duration\": 0}}}}"
       ],
       "layout": "IPY_MODEL_246c489e65e94b699a86567b3fbd280c"
      }
     },
     "038817050ac84f24b093034d9992e4be": {
      "model_module": "@jupyter-widgets/base",
      "model_module_version": "1.1.0",
      "model_name": "LayoutModel",
      "state": {}
     },
     "04558b5bfbd14c34905ac7fb589c3c16": {
      "model_module": "algorithmx-jupyter",
      "model_module_version": "^2.0.0",
      "model_name": "AlgorithmxModel",
      "state": {
       "_model_module_version": "^2.0.0",
       "_view_module_version": "^2.0.0",
       "events": [
        "{\"type\": \"update\", \"queue\": \"default\", \"data\": {\"attributes\": {\"nodes\": {\"1\": {\"visible\": true}, \"2\": {\"visible\": true}, \"3\": {\"visible\": true}}}, \"animation\": {}}}",
        "{\"type\": \"update\", \"queue\": \"default\", \"data\": {\"attributes\": {\"edges\": {\"1-2\": {\"visible\": true, \"source\": \"1\", \"target\": \"2\"}, \"2-3\": {\"visible\": true, \"source\": \"2\", \"target\": \"3\"}, \"1-3\": {\"visible\": true, \"source\": \"3\", \"target\": \"1\"}}}, \"animation\": {}}}",
        "{\"type\": \"update\", \"queue\": \"default\", \"data\": {\"attributes\": {\"edges\": {\"1-2\": {\"directed\": true}, \"2-3\": {\"directed\": true}, \"1-3\": {\"directed\": true}}}, \"animation\": {\"**\": {\"duration\": 0}}}}"
       ],
       "layout": "IPY_MODEL_001fb08d4f5a493a8b1504971be8505f"
      }
     },
     "050445f7e3dc45bc84dd2ce78694e320": {
      "model_module": "@jupyter-widgets/base",
      "model_module_version": "1.1.0",
      "model_name": "LayoutModel",
      "state": {}
     },
     "060776937e2645b7a559981a2e2b3058": {
      "model_module": "@jupyter-widgets/base",
      "model_module_version": "1.1.0",
      "model_name": "LayoutModel",
      "state": {}
     },
     "0844d813bb29486ab0395c55d7c678f3": {
      "model_module": "@jupyter-widgets/base",
      "model_module_version": "1.1.0",
      "model_name": "LayoutModel",
      "state": {}
     },
     "08e9955bf440432687a863c4ac8dcfc3": {
      "model_module": "algorithmx-jupyter",
      "model_module_version": "^2.0.0",
      "model_name": "AlgorithmxModel",
      "state": {
       "_model_module_version": "^2.0.0",
       "_view_module_version": "^2.0.0",
       "events": [
        "{\"type\": \"update\", \"queue\": \"default\", \"data\": {\"attributes\": {\"nodes\": {\"1\": {\"visible\": true}, \"2\": {\"visible\": true}, \"3\": {\"visible\": true}, \"4\": {\"visible\": true}, \"5\": {\"visible\": true}}}, \"animation\": {}}}",
        "{\"type\": \"update\", \"queue\": \"default\", \"data\": {\"attributes\": {\"edges\": {\"1-2\": {\"visible\": true, \"source\": \"1\", \"target\": \"2\"}, \"2-3\": {\"visible\": true, \"source\": \"2\", \"target\": \"3\"}, \"2-4\": {\"visible\": true, \"source\": \"2\", \"target\": \"4\"}, \"2-5\": {\"visible\": true, \"source\": \"2\", \"target\": \"5\"}}}, \"animation\": {}}}"
       ],
       "layout": "IPY_MODEL_060776937e2645b7a559981a2e2b3058"
      }
     },
     "0961d6b5cd014deea1b0671ac1e9ac56": {
      "model_module": "algorithmx-jupyter",
      "model_module_version": "^2.0.0",
      "model_name": "AlgorithmxModel",
      "state": {
       "_model_module_version": "^2.0.0",
       "_view_module_version": "^2.0.0",
       "events": [
        "{\"type\": \"update\", \"queue\": \"default\", \"data\": {\"attributes\": {\"nodes\": {\"0\": {\"visible\": true}, \"1\": {\"visible\": true}, \"2\": {\"visible\": true}, \"3\": {\"visible\": true}, \"4\": {\"visible\": true}, \"5\": {\"visible\": true}, \"6\": {\"visible\": true}, \"7\": {\"visible\": true}, \"8\": {\"visible\": true}, \"9\": {\"visible\": true}}}, \"animation\": {}}}",
        "{\"type\": \"update\", \"queue\": \"default\", \"data\": {\"attributes\": {\"edges\": {\"0-1\": {\"visible\": true, \"source\": \"0\", \"target\": \"1\"}, \"0-4\": {\"visible\": true, \"source\": \"0\", \"target\": \"4\"}, \"0-6\": {\"visible\": true, \"source\": \"0\", \"target\": \"6\"}, \"0-7\": {\"visible\": true, \"source\": \"0\", \"target\": \"7\"}, \"1-9\": {\"visible\": true, \"source\": \"1\", \"target\": \"9\"}, \"2-3\": {\"visible\": true, \"source\": \"2\", \"target\": \"3\"}, \"2-5\": {\"visible\": true, \"source\": \"2\", \"target\": \"5\"}, \"2-8\": {\"visible\": true, \"source\": \"2\", \"target\": \"8\"}, \"2-9\": {\"visible\": true, \"source\": \"2\", \"target\": \"9\"}, \"3-4\": {\"visible\": true, \"source\": \"3\", \"target\": \"4\"}, \"3-6\": {\"visible\": true, \"source\": \"3\", \"target\": \"6\"}, \"6-7\": {\"visible\": true, \"source\": \"6\", \"target\": \"7\"}, \"7-8\": {\"visible\": true, \"source\": \"7\", \"target\": \"8\"}, \"7-9\": {\"visible\": true, \"source\": \"7\", \"target\": \"9\"}}}, \"animation\": {}}}"
       ],
       "layout": "IPY_MODEL_2bdc1efd3e344738b04300a1f2ba1c5b"
      }
     },
     "0aacfe60a7af4ac1b0ee3afff0562cc2": {
      "model_module": "algorithmx-jupyter",
      "model_module_version": "^2.0.0",
      "model_name": "AlgorithmxModel",
      "state": {
       "_model_module_version": "^2.0.0",
       "_view_module_version": "^2.0.0",
       "events": [
        "{\"type\": \"update\", \"queue\": \"default\", \"data\": {\"attributes\": {\"nodes\": {\"1\": {\"visible\": true}, \"2\": {\"visible\": true}, \"3\": {\"visible\": true}, \"4\": {\"visible\": true}, \"5\": {\"visible\": true}}}, \"animation\": {}}}",
        "{\"type\": \"update\", \"queue\": \"default\", \"data\": {\"attributes\": {\"nodes\": {\"1\": {\"shape\": \"rect\", \"size\": [20, 12]}, \"2\": {\"shape\": \"rect\", \"size\": [20, 12]}, \"3\": {\"shape\": \"rect\", \"size\": [20, 12]}, \"4\": {\"shape\": \"rect\", \"size\": [20, 12]}, \"5\": {\"shape\": \"rect\", \"size\": [20, 12]}}}, \"animation\": {\"**\": {\"duration\": 0}}}}",
        "{\"type\": \"update\", \"queue\": \"default\", \"data\": {\"attributes\": {\"nodes\": {\"1\": {\"color\": \"red\"}, \"2\": {\"color\": \"green\"}, \"3\": {\"color\": \"blue\"}, \"4\": {\"color\": \"orange\"}, \"5\": {\"color\": \"purple\"}}}, \"animation\": {\"**\": {\"duration\": 0}}}}",
        "{\"type\": \"update\", \"queue\": \"default\", \"data\": {\"attributes\": {\"edges\": {\"1-2\": {\"visible\": true, \"source\": \"1\", \"target\": \"2\"}, \"2-3\": {\"visible\": true, \"source\": \"2\", \"target\": \"3\"}, \"2-4\": {\"visible\": true, \"source\": \"2\", \"target\": \"4\"}, \"2-5\": {\"visible\": true, \"source\": \"2\", \"target\": \"5\"}}}, \"animation\": {}}}"
       ],
       "layout": "IPY_MODEL_038817050ac84f24b093034d9992e4be"
      }
     },
     "1023ed1d950740768c6d6cf66bb1cebd": {
      "model_module": "@jupyter-widgets/base",
      "model_module_version": "1.1.0",
      "model_name": "LayoutModel",
      "state": {}
     },
     "1183b76182c543ef891b45383a63467b": {
      "model_module": "algorithmx-jupyter",
      "model_module_version": "^2.0.0",
      "model_name": "AlgorithmxModel",
      "state": {
       "_model_module_version": "^2.0.0",
       "_view_module_version": "^2.0.0",
       "events": [
        "{\"type\": \"update\", \"queue\": \"default\", \"data\": {\"attributes\": {\"nodes\": {\"1\": {\"visible\": true}, \"2\": {\"visible\": true}, \"3\": {\"visible\": true}, \"4\": {\"visible\": true}, \"5\": {\"visible\": true}}}, \"animation\": {}}}",
        "{\"type\": \"update\", \"queue\": \"default\", \"data\": {\"attributes\": {\"edges\": {\"1-2\": {\"visible\": true, \"source\": \"1\", \"target\": \"2\"}, \"2-3\": {\"visible\": true, \"source\": \"2\", \"target\": \"3\"}, \"2-4\": {\"visible\": true, \"source\": \"2\", \"target\": \"4\"}, \"2-5\": {\"visible\": true, \"source\": \"2\", \"target\": \"5\"}}}, \"animation\": {}}}"
       ],
       "layout": "IPY_MODEL_aebd96343f63410e992fffc4bb1c0160"
      }
     },
     "1575f55841ed494db44be04a50eba01a": {
      "model_module": "@jupyter-widgets/base",
      "model_module_version": "1.1.0",
      "model_name": "LayoutModel",
      "state": {}
     },
     "1a1057c2e9064a9cae7c5b92cc393d8c": {
      "model_module": "@jupyter-widgets/base",
      "model_module_version": "1.1.0",
      "model_name": "LayoutModel",
      "state": {}
     },
     "1b140d645d364c70868473e0147535a9": {
      "model_module": "@jupyter-widgets/base",
      "model_module_version": "1.1.0",
      "model_name": "LayoutModel",
      "state": {}
     },
     "1d0a6d2d8683450b853798c0e998d798": {
      "model_module": "@jupyter-widgets/base",
      "model_module_version": "1.1.0",
      "model_name": "LayoutModel",
      "state": {}
     },
     "224773cd8dba45e6913c84ef9d106abc": {
      "model_module": "@jupyter-widgets/base",
      "model_module_version": "1.1.0",
      "model_name": "LayoutModel",
      "state": {}
     },
     "246c489e65e94b699a86567b3fbd280c": {
      "model_module": "@jupyter-widgets/base",
      "model_module_version": "1.1.0",
      "model_name": "LayoutModel",
      "state": {}
     },
     "24c7c6bbbea84255968b195cdb6c9bd4": {
      "model_module": "@jupyter-widgets/base",
      "model_module_version": "1.1.0",
      "model_name": "LayoutModel",
      "state": {}
     },
     "24cebc3cfa6a45e49d8c3ea5e0398393": {
      "model_module": "algorithmx-jupyter",
      "model_module_version": "^2.0.0",
      "model_name": "AlgorithmxModel",
      "state": {
       "_model_module_version": "^2.0.0",
       "_view_module_version": "^2.0.0",
       "events": [
        "{\"type\": \"update\", \"queue\": \"default\", \"data\": {\"attributes\": {\"nodes\": {\"1\": {\"visible\": true}, \"2\": {\"visible\": true}, \"3\": {\"visible\": true}}}, \"animation\": {}}}",
        "{\"type\": \"update\", \"queue\": \"default\", \"data\": {\"attributes\": {\"edges\": {\"1-2\": {\"visible\": true, \"source\": \"1\", \"target\": \"2\"}, \"2-3\": {\"visible\": true, \"source\": \"2\", \"target\": \"3\"}, \"1-3\": {\"visible\": true, \"source\": \"3\", \"target\": \"1\"}}}, \"animation\": {}}}",
        "{\"type\": \"update\", \"queue\": \"default\", \"data\": {\"attributes\": {\"edges\": {\"1-2\": {\"directed\": true}, \"2-3\": {\"directed\": true}, \"1-3\": {\"directed\": true}}}, \"animation\": {\"**\": {\"duration\": 0}}}}"
       ],
       "layout": "IPY_MODEL_1b140d645d364c70868473e0147535a9"
      }
     },
     "24ee11cce8ce4ae39255da660fffda82": {
      "model_module": "@jupyter-widgets/base",
      "model_module_version": "1.1.0",
      "model_name": "LayoutModel",
      "state": {}
     },
     "24fca28516e343f88cbc272a32a34c62": {
      "model_module": "algorithmx-jupyter",
      "model_module_version": "^2.0.0",
      "model_name": "AlgorithmxModel",
      "state": {
       "_model_module_version": "^2.0.0",
       "_view_module_version": "^2.0.0",
       "events": [
        "{\"type\": \"update\", \"queue\": \"default\", \"data\": {\"attributes\": {\"nodes\": {\"1\": {\"visible\": true}, \"2\": {\"visible\": true}, \"3\": {\"visible\": true}, \"4\": {\"visible\": true}, \"5\": {\"visible\": true}}}, \"animation\": {}}}",
        "{\"type\": \"update\", \"queue\": \"default\", \"data\": {\"attributes\": {\"nodes\": {\"1\": {\"shape\": \"rect\", \"size\": [20, 12]}, \"2\": {\"shape\": \"rect\", \"size\": [20, 12]}, \"3\": {\"shape\": \"rect\", \"size\": [20, 12]}, \"4\": {\"shape\": \"rect\", \"size\": [20, 12]}, \"5\": {\"shape\": \"rect\", \"size\": [20, 12]}}}, \"animation\": {\"**\": {\"duration\": 0}}}}",
        "{\"type\": \"update\", \"queue\": \"default\", \"data\": {\"attributes\": {\"nodes\": {\"1\": {\"color\": \"red\"}, \"2\": {\"color\": \"green\"}, \"3\": {\"color\": \"blue\"}, \"4\": {\"color\": \"orange\"}, \"5\": {\"color\": \"purple\"}}}, \"animation\": {\"**\": {\"duration\": 0}}}}",
        "{\"type\": \"update\", \"queue\": \"default\", \"data\": {\"attributes\": {\"edges\": {\"1-2\": {\"visible\": true, \"source\": \"1\", \"target\": \"2\"}, \"2-3\": {\"visible\": true, \"source\": \"2\", \"target\": \"3\"}, \"2-4\": {\"visible\": true, \"source\": \"2\", \"target\": \"4\"}, \"2-5\": {\"visible\": true, \"source\": \"2\", \"target\": \"5\"}}}, \"animation\": {}}}"
       ],
       "layout": "IPY_MODEL_1d0a6d2d8683450b853798c0e998d798"
      }
     },
     "254bca159dc5446ebd6db136cd4acc4e": {
      "model_module": "algorithmx-jupyter",
      "model_module_version": "^2.0.0",
      "model_name": "AlgorithmxModel",
      "state": {
       "_model_module_version": "^2.0.0",
       "_view_module_version": "^2.0.0",
       "events": [
        "{\"type\": \"update\", \"queue\": \"default\", \"data\": {\"attributes\": {\"nodes\": {\"1\": {\"visible\": true}, \"2\": {\"visible\": true}, \"3\": {\"visible\": true}}}, \"animation\": {}}}",
        "{\"type\": \"update\", \"queue\": \"default\", \"data\": {\"attributes\": {\"edges\": {\"1-2\": {\"visible\": true, \"source\": \"1\", \"target\": \"2\"}, \"2-3\": {\"visible\": true, \"source\": \"2\", \"target\": \"3\"}, \"1-3\": {\"visible\": true, \"source\": \"3\", \"target\": \"1\"}}}, \"animation\": {}}}",
        "{\"type\": \"update\", \"queue\": \"default\", \"data\": {\"attributes\": {\"edges\": {\"1-2\": {\"directed\": true}, \"2-3\": {\"directed\": true}, \"1-3\": {\"directed\": true}}}, \"animation\": {\"**\": {\"duration\": 0}}}}"
       ],
       "layout": "IPY_MODEL_c4ca313a6481418783df344b55abbc4a"
      }
     },
     "26cd5e87d94849d4b22f2c4699764b39": {
      "model_module": "algorithmx-jupyter",
      "model_module_version": "^2.0.0",
      "model_name": "AlgorithmxModel",
      "state": {
       "_model_module_version": "^2.0.0",
       "_view_module_version": "^2.0.0",
       "events": [
        "{\"type\": \"update\", \"queue\": \"default\", \"data\": {\"attributes\": {\"nodes\": {\"1\": {\"visible\": true}, \"2\": {\"visible\": true}, \"3\": {\"visible\": true}}}, \"animation\": {}}}",
        "{\"type\": \"update\", \"queue\": \"default\", \"data\": {\"attributes\": {\"edges\": {\"1-2\": {\"visible\": true, \"source\": \"1\", \"target\": \"2\"}, \"1-3\": {\"visible\": true, \"source\": \"1\", \"target\": \"3\"}, \"2-3\": {\"visible\": true, \"source\": \"2\", \"target\": \"3\"}}}, \"animation\": {}}}",
        "{\"type\": \"update\", \"queue\": \"default\", \"data\": {\"attributes\": {\"edges\": {\"1-2\": {\"labels\": {\"weight\": {\"visible\": true}}}, \"1-3\": {\"labels\": {\"weight\": {\"visible\": true}}}, \"2-3\": {\"labels\": {\"weight\": {\"visible\": true}}}}}, \"animation\": {\"**\": {\"duration\": 0}}}}",
        "{\"type\": \"update\", \"queue\": \"default\", \"data\": {\"attributes\": {\"edges\": {\"1-2\": {\"labels\": {\"weight\": {\"text\": 0.4}}}, \"1-3\": {\"labels\": {\"weight\": {\"text\": 0.3}}}, \"2-3\": {\"labels\": {\"weight\": {\"text\": 0.2}}}}}, \"animation\": {\"**\": {\"duration\": 0}}}}"
       ],
       "layout": "IPY_MODEL_c0bccd148f694477a7c597a69e12f5b4"
      }
     },
     "2bdc1efd3e344738b04300a1f2ba1c5b": {
      "model_module": "@jupyter-widgets/base",
      "model_module_version": "1.1.0",
      "model_name": "LayoutModel",
      "state": {}
     },
     "2d1adab402d245099a8c4771dee63a07": {
      "model_module": "@jupyter-widgets/base",
      "model_module_version": "1.1.0",
      "model_name": "LayoutModel",
      "state": {}
     },
     "3e994da9f1d143b0931dd6e0fc7a7c61": {
      "model_module": "@jupyter-widgets/base",
      "model_module_version": "1.1.0",
      "model_name": "LayoutModel",
      "state": {}
     },
     "3ecb439902a24d888afa952e897656f1": {
      "model_module": "algorithmx-jupyter",
      "model_module_version": "^2.0.0",
      "model_name": "AlgorithmxModel",
      "state": {
       "_model_module_version": "^2.0.0",
       "_view_module_version": "^2.0.0",
       "events": [
        "{\"type\": \"update\", \"queue\": \"default\", \"data\": {\"attributes\": {\"nodes\": {\"0\": {\"visible\": true}, \"1\": {\"visible\": true}, \"2\": {\"visible\": true}, \"3\": {\"visible\": true}, \"4\": {\"visible\": true}, \"5\": {\"visible\": true}, \"6\": {\"visible\": true}, \"7\": {\"visible\": true}, \"8\": {\"visible\": true}, \"9\": {\"visible\": true}}}, \"animation\": {}}}",
        "{\"type\": \"update\", \"queue\": \"default\", \"data\": {\"attributes\": {\"edges\": {\"0-1\": {\"visible\": true, \"source\": \"0\", \"target\": \"1\"}, \"0-4\": {\"visible\": true, \"source\": \"0\", \"target\": \"4\"}, \"0-6\": {\"visible\": true, \"source\": \"0\", \"target\": \"6\"}, \"0-7\": {\"visible\": true, \"source\": \"0\", \"target\": \"7\"}, \"1-9\": {\"visible\": true, \"source\": \"1\", \"target\": \"9\"}, \"2-3\": {\"visible\": true, \"source\": \"2\", \"target\": \"3\"}, \"2-5\": {\"visible\": true, \"source\": \"2\", \"target\": \"5\"}, \"2-8\": {\"visible\": true, \"source\": \"2\", \"target\": \"8\"}, \"2-9\": {\"visible\": true, \"source\": \"2\", \"target\": \"9\"}, \"3-4\": {\"visible\": true, \"source\": \"3\", \"target\": \"4\"}, \"3-6\": {\"visible\": true, \"source\": \"3\", \"target\": \"6\"}, \"6-7\": {\"visible\": true, \"source\": \"6\", \"target\": \"7\"}, \"7-8\": {\"visible\": true, \"source\": \"7\", \"target\": \"8\"}, \"7-9\": {\"visible\": true, \"source\": \"7\", \"target\": \"9\"}}}, \"animation\": {}}}"
       ],
       "layout": "IPY_MODEL_224773cd8dba45e6913c84ef9d106abc"
      }
     },
     "49d2a7aaae6f49318091461db2536152": {
      "model_module": "@jupyter-widgets/base",
      "model_module_version": "1.1.0",
      "model_name": "LayoutModel",
      "state": {}
     },
     "4a07e2d1d66b47e69906d0ad5c39889f": {
      "model_module": "@jupyter-widgets/base",
      "model_module_version": "1.1.0",
      "model_name": "LayoutModel",
      "state": {}
     },
     "4b8a0bddd8674ee0b73bbe6bd704ffc9": {
      "model_module": "algorithmx-jupyter",
      "model_module_version": "^2.0.0",
      "model_name": "AlgorithmxModel",
      "state": {
       "_model_module_version": "^2.0.0",
       "_view_module_version": "^2.0.0",
       "events": [
        "{\"type\": \"update\", \"queue\": \"default\", \"data\": {\"attributes\": {\"nodes\": {\"1\": {\"visible\": true}, \"2\": {\"visible\": true}, \"3\": {\"visible\": true}, \"4\": {\"visible\": true}, \"5\": {\"visible\": true}}}, \"animation\": {}}}",
        "{\"type\": \"update\", \"queue\": \"default\", \"data\": {\"attributes\": {\"nodes\": {\"1\": {\"shape\": \"rect\", \"size\": [20, 12]}, \"2\": {\"shape\": \"rect\", \"size\": [20, 12]}, \"3\": {\"shape\": \"rect\", \"size\": [20, 12]}, \"4\": {\"shape\": \"rect\", \"size\": [20, 12]}, \"5\": {\"shape\": \"rect\", \"size\": [20, 12]}}}, \"animation\": {\"**\": {\"duration\": 0}}}}",
        "{\"type\": \"update\", \"queue\": \"default\", \"data\": {\"attributes\": {\"nodes\": {\"1\": {\"color\": \"red\"}, \"2\": {\"color\": \"green\"}, \"3\": {\"color\": \"blue\"}, \"4\": {\"color\": \"orange\"}, \"5\": {\"color\": \"purple\"}}}, \"animation\": {\"**\": {\"duration\": 0}}}}",
        "{\"type\": \"update\", \"queue\": \"default\", \"data\": {\"attributes\": {\"edges\": {\"1-2\": {\"visible\": true, \"source\": \"1\", \"target\": \"2\"}, \"2-3\": {\"visible\": true, \"source\": \"2\", \"target\": \"3\"}, \"2-4\": {\"visible\": true, \"source\": \"2\", \"target\": \"4\"}, \"2-5\": {\"visible\": true, \"source\": \"2\", \"target\": \"5\"}}}, \"animation\": {}}}"
       ],
       "layout": "IPY_MODEL_5f5c3d3ab0a940769bdac49f920875e2"
      }
     },
     "55cb3a22136745ecb5ca23fbc3ff9004": {
      "model_module": "@jupyter-widgets/base",
      "model_module_version": "1.1.0",
      "model_name": "LayoutModel",
      "state": {}
     },
     "57ab9f1791ab4bbcbd0e6abb1d0abf52": {
      "model_module": "algorithmx-jupyter",
      "model_module_version": "^2.0.0",
      "model_name": "AlgorithmxModel",
      "state": {
       "_model_module_version": "^2.0.0",
       "_view_module_version": "^2.0.0",
       "events": [
        "{\"type\": \"update\", \"queue\": \"default\", \"data\": {\"attributes\": {\"nodes\": {\"1\": {\"visible\": true}, \"2\": {\"visible\": true}, \"3\": {\"visible\": true}}}, \"animation\": {}}}",
        "{\"type\": \"update\", \"queue\": \"default\", \"data\": {\"attributes\": {\"edges\": {\"1-2\": {\"visible\": true, \"source\": \"1\", \"target\": \"2\"}, \"2-3\": {\"visible\": true, \"source\": \"2\", \"target\": \"3\"}, \"1-3\": {\"visible\": true, \"source\": \"3\", \"target\": \"1\"}}}, \"animation\": {}}}",
        "{\"type\": \"update\", \"queue\": \"default\", \"data\": {\"attributes\": {\"edges\": {\"1-2\": {\"directed\": true}, \"2-3\": {\"directed\": true}, \"1-3\": {\"directed\": true}}}, \"animation\": {\"**\": {\"duration\": 0}}}}",
        "{\"type\": \"update\", \"queue\": \"default\", \"data\": {\"attributes\": {\"edges\": {\"1-2\": {\"labels\": {\"weight\": {\"visible\": true}}}, \"2-3\": {\"labels\": {\"weight\": {\"visible\": true}}}, \"1-3\": {\"labels\": {\"weight\": {\"visible\": true}}}}}, \"animation\": {\"**\": {\"duration\": 0}}}}",
        "{\"type\": \"update\", \"queue\": \"default\", \"data\": {\"attributes\": {\"edges\": {\"1-2\": {\"labels\": {\"weight\": {\"text\": 0.4}}}, \"2-3\": {\"labels\": {\"weight\": {\"text\": 0.2}}}, \"1-3\": {\"labels\": {\"weight\": {\"text\": 0.3}}}}}, \"animation\": {\"**\": {\"duration\": 0}}}}"
       ],
       "layout": "IPY_MODEL_86acdf023b104d2b939e3bc58fb5c204"
      }
     },
     "5b4169d9418341febc4ad77658261eb8": {
      "model_module": "algorithmx-jupyter",
      "model_module_version": "^2.0.0",
      "model_name": "AlgorithmxModel",
      "state": {
       "_model_module_version": "^2.0.0",
       "_view_module_version": "^2.0.0",
       "events": [
        "{\"type\": \"update\", \"queue\": \"default\", \"data\": {\"attributes\": {\"nodes\": {\"0\": {\"visible\": true}, \"1\": {\"visible\": true}, \"2\": {\"visible\": true}, \"3\": {\"visible\": true}, \"4\": {\"visible\": true}, \"5\": {\"visible\": true}, \"6\": {\"visible\": true}, \"7\": {\"visible\": true}, \"8\": {\"visible\": true}, \"9\": {\"visible\": true}}}, \"animation\": {}}}",
        "{\"type\": \"update\", \"queue\": \"default\", \"data\": {\"attributes\": {\"edges\": {\"0-1\": {\"visible\": true, \"source\": \"1\", \"target\": \"0\"}, \"0-4\": {\"visible\": true, \"source\": \"4\", \"target\": \"0\"}, \"0-6\": {\"visible\": true, \"source\": \"6\", \"target\": \"0\"}, \"0-7\": {\"visible\": true, \"source\": \"7\", \"target\": \"0\"}, \"1-9\": {\"visible\": true, \"source\": \"9\", \"target\": \"1\"}, \"2-3\": {\"visible\": true, \"source\": \"3\", \"target\": \"2\"}, \"2-5\": {\"visible\": true, \"source\": \"5\", \"target\": \"2\"}, \"2-8\": {\"visible\": true, \"source\": \"8\", \"target\": \"2\"}, \"2-9\": {\"visible\": true, \"source\": \"9\", \"target\": \"2\"}, \"3-4\": {\"visible\": true, \"source\": \"4\", \"target\": \"3\"}, \"3-6\": {\"visible\": true, \"source\": \"6\", \"target\": \"3\"}, \"6-7\": {\"visible\": true, \"source\": \"7\", \"target\": \"6\"}, \"7-8\": {\"visible\": true, \"source\": \"8\", \"target\": \"7\"}, \"7-9\": {\"visible\": true, \"source\": \"9\", \"target\": \"7\"}}}, \"animation\": {}}}",
        "{\"type\": \"update\", \"queue\": \"default\", \"data\": {\"attributes\": {\"edges\": {\"0-1\": {\"directed\": true}, \"0-4\": {\"directed\": true}, \"0-6\": {\"directed\": true}, \"0-7\": {\"directed\": true}, \"1-9\": {\"directed\": true}, \"2-3\": {\"directed\": true}, \"2-5\": {\"directed\": true}, \"2-8\": {\"directed\": true}, \"2-9\": {\"directed\": true}, \"3-4\": {\"directed\": true}, \"3-6\": {\"directed\": true}, \"6-7\": {\"directed\": true}, \"7-8\": {\"directed\": true}, \"7-9\": {\"directed\": true}}}, \"animation\": {\"**\": {\"duration\": 0}}}}",
        "{\"type\": \"update\", \"queue\": \"default\", \"data\": {\"attributes\": {\"edges\": {\"0-1\": {\"labels\": {\"weight\": {\"visible\": true}}}, \"0-4\": {\"labels\": {\"weight\": {\"visible\": true}}}, \"0-6\": {\"labels\": {\"weight\": {\"visible\": true}}}, \"0-7\": {\"labels\": {\"weight\": {\"visible\": true}}}, \"1-9\": {\"labels\": {\"weight\": {\"visible\": true}}}, \"2-3\": {\"labels\": {\"weight\": {\"visible\": true}}}, \"2-5\": {\"labels\": {\"weight\": {\"visible\": true}}}, \"2-8\": {\"labels\": {\"weight\": {\"visible\": true}}}, \"2-9\": {\"labels\": {\"weight\": {\"visible\": true}}}, \"3-4\": {\"labels\": {\"weight\": {\"visible\": true}}}, \"3-6\": {\"labels\": {\"weight\": {\"visible\": true}}}, \"6-7\": {\"labels\": {\"weight\": {\"visible\": true}}}, \"7-8\": {\"labels\": {\"weight\": {\"visible\": true}}}, \"7-9\": {\"labels\": {\"weight\": {\"visible\": true}}}}}, \"animation\": {\"**\": {\"duration\": 0}}}}",
        "{\"type\": \"update\", \"queue\": \"default\", \"data\": {\"attributes\": {\"edges\": {\"0-1\": {\"labels\": {\"weight\": {\"text\": 4}}}, \"0-4\": {\"labels\": {\"weight\": {\"text\": 3}}}, \"0-6\": {\"labels\": {\"weight\": {\"text\": 1}}}, \"0-7\": {\"labels\": {\"weight\": {\"text\": 7}}}, \"1-9\": {\"labels\": {\"weight\": {\"text\": 4}}}, \"2-3\": {\"labels\": {\"weight\": {\"text\": 6}}}, \"2-5\": {\"labels\": {\"weight\": {\"text\": 4}}}, \"2-8\": {\"labels\": {\"weight\": {\"text\": 7}}}, \"2-9\": {\"labels\": {\"weight\": {\"text\": 2}}}, \"3-4\": {\"labels\": {\"weight\": {\"text\": 1}}}, \"3-6\": {\"labels\": {\"weight\": {\"text\": 3}}}, \"6-7\": {\"labels\": {\"weight\": {\"text\": 10}}}, \"7-8\": {\"labels\": {\"weight\": {\"text\": 4}}}, \"7-9\": {\"labels\": {\"weight\": {\"text\": 8}}}}}, \"animation\": {\"**\": {\"duration\": 0}}}}"
       ],
       "layout": "IPY_MODEL_b8e29f08d222497ab022549200732148"
      }
     },
     "5f5c3d3ab0a940769bdac49f920875e2": {
      "model_module": "@jupyter-widgets/base",
      "model_module_version": "1.1.0",
      "model_name": "LayoutModel",
      "state": {}
     },
     "60d7e458dea64d02b36a0e0cf9194b8d": {
      "model_module": "algorithmx-jupyter",
      "model_module_version": "^2.0.0",
      "model_name": "AlgorithmxModel",
      "state": {
       "_model_module_version": "^2.0.0",
       "_view_module_version": "^2.0.0",
       "events": [
        "{\"type\": \"update\", \"queue\": \"default\", \"data\": {\"attributes\": {\"nodes\": {\"0\": {\"visible\": true}, \"1\": {\"visible\": true}, \"2\": {\"visible\": true}, \"3\": {\"visible\": true}, \"4\": {\"visible\": true}, \"5\": {\"visible\": true}, \"6\": {\"visible\": true}, \"7\": {\"visible\": true}, \"8\": {\"visible\": true}, \"9\": {\"visible\": true}}}, \"animation\": {}}}",
        "{\"type\": \"update\", \"queue\": \"default\", \"data\": {\"attributes\": {\"edges\": {\"0-1\": {\"visible\": true, \"source\": \"0\", \"target\": \"1\"}, \"0-4\": {\"visible\": true, \"source\": \"0\", \"target\": \"4\"}, \"0-6\": {\"visible\": true, \"source\": \"0\", \"target\": \"6\"}, \"0-7\": {\"visible\": true, \"source\": \"0\", \"target\": \"7\"}, \"1-9\": {\"visible\": true, \"source\": \"1\", \"target\": \"9\"}, \"2-3\": {\"visible\": true, \"source\": \"2\", \"target\": \"3\"}, \"2-5\": {\"visible\": true, \"source\": \"2\", \"target\": \"5\"}, \"2-8\": {\"visible\": true, \"source\": \"2\", \"target\": \"8\"}, \"2-9\": {\"visible\": true, \"source\": \"2\", \"target\": \"9\"}, \"3-4\": {\"visible\": true, \"source\": \"3\", \"target\": \"4\"}, \"3-6\": {\"visible\": true, \"source\": \"3\", \"target\": \"6\"}, \"6-7\": {\"visible\": true, \"source\": \"6\", \"target\": \"7\"}, \"7-8\": {\"visible\": true, \"source\": \"7\", \"target\": \"8\"}, \"7-9\": {\"visible\": true, \"source\": \"7\", \"target\": \"9\"}}}, \"animation\": {}}}"
       ],
       "layout": "IPY_MODEL_f7d7914a1ea344c6b79d951853a6671c"
      }
     },
     "65405a7f9c404253952464c5f0af8cb2": {
      "model_module": "algorithmx-jupyter",
      "model_module_version": "^2.0.0",
      "model_name": "AlgorithmxModel",
      "state": {
       "_model_module_version": "^2.0.0",
       "_view_module_version": "^2.0.0",
       "events": [
        "{\"type\": \"update\", \"queue\": \"default\", \"data\": {\"attributes\": {\"nodes\": {\"0\": {\"visible\": true}, \"1\": {\"visible\": true}, \"2\": {\"visible\": true}, \"3\": {\"visible\": true}, \"4\": {\"visible\": true}, \"5\": {\"visible\": true}, \"6\": {\"visible\": true}, \"7\": {\"visible\": true}, \"8\": {\"visible\": true}, \"9\": {\"visible\": true}}}, \"animation\": {}}}",
        "{\"type\": \"update\", \"queue\": \"default\", \"data\": {\"attributes\": {\"edges\": {\"0-1\": {\"visible\": true, \"source\": \"0\", \"target\": \"1\"}, \"0-4\": {\"visible\": true, \"source\": \"0\", \"target\": \"4\"}, \"0-6\": {\"visible\": true, \"source\": \"0\", \"target\": \"6\"}, \"0-7\": {\"visible\": true, \"source\": \"0\", \"target\": \"7\"}, \"1-9\": {\"visible\": true, \"source\": \"1\", \"target\": \"9\"}, \"2-3\": {\"visible\": true, \"source\": \"2\", \"target\": \"3\"}, \"2-5\": {\"visible\": true, \"source\": \"2\", \"target\": \"5\"}, \"2-8\": {\"visible\": true, \"source\": \"2\", \"target\": \"8\"}, \"2-9\": {\"visible\": true, \"source\": \"2\", \"target\": \"9\"}, \"3-4\": {\"visible\": true, \"source\": \"3\", \"target\": \"4\"}, \"3-6\": {\"visible\": true, \"source\": \"3\", \"target\": \"6\"}, \"6-7\": {\"visible\": true, \"source\": \"6\", \"target\": \"7\"}, \"7-8\": {\"visible\": true, \"source\": \"7\", \"target\": \"8\"}, \"7-9\": {\"visible\": true, \"source\": \"7\", \"target\": \"9\"}}}, \"animation\": {}}}"
       ],
       "layout": "IPY_MODEL_55cb3a22136745ecb5ca23fbc3ff9004"
      }
     },
     "6c1c135091574d89af1dd83caf9e6cf2": {
      "model_module": "@jupyter-widgets/base",
      "model_module_version": "1.1.0",
      "model_name": "LayoutModel",
      "state": {}
     },
     "6ef7cd42937b4ba181a22a35673ed07a": {
      "model_module": "@jupyter-widgets/base",
      "model_module_version": "1.1.0",
      "model_name": "LayoutModel",
      "state": {}
     },
     "705017cd162140698a791a5fb15cfa27": {
      "model_module": "algorithmx-jupyter",
      "model_module_version": "^2.0.0",
      "model_name": "AlgorithmxModel",
      "state": {
       "_model_module_version": "^2.0.0",
       "_view_module_version": "^2.0.0",
       "events": [
        "{\"type\": \"update\", \"queue\": \"default\", \"data\": {\"attributes\": {\"nodes\": {\"1\": {\"visible\": true}, \"2\": {\"visible\": true}, \"3\": {\"visible\": true}, \"4\": {\"visible\": true}, \"5\": {\"visible\": true}}}, \"animation\": {}}}",
        "{\"type\": \"update\", \"queue\": \"default\", \"data\": {\"attributes\": {\"edges\": {\"1-2\": {\"visible\": true, \"source\": \"1\", \"target\": \"2\"}, \"2-3\": {\"visible\": true, \"source\": \"2\", \"target\": \"3\"}, \"2-4\": {\"visible\": true, \"source\": \"2\", \"target\": \"4\"}, \"2-5\": {\"visible\": true, \"source\": \"2\", \"target\": \"5\"}}}, \"animation\": {}}}"
       ],
       "layout": "IPY_MODEL_2d1adab402d245099a8c4771dee63a07"
      }
     },
     "73beac9435eb466d94fa51b25507fd10": {
      "model_module": "algorithmx-jupyter",
      "model_module_version": "^2.0.0",
      "model_name": "AlgorithmxModel",
      "state": {
       "_model_module_version": "^2.0.0",
       "_view_module_version": "^2.0.0",
       "events": [
        "{\"type\": \"update\", \"queue\": \"default\", \"data\": {\"attributes\": {\"nodes\": {\"0\": {\"visible\": true}, \"1\": {\"visible\": true}, \"2\": {\"visible\": true}, \"3\": {\"visible\": true}, \"4\": {\"visible\": true}, \"5\": {\"visible\": true}, \"6\": {\"visible\": true}, \"7\": {\"visible\": true}, \"8\": {\"visible\": true}, \"9\": {\"visible\": true}}}, \"animation\": {}}}",
        "{\"type\": \"update\", \"queue\": \"default\", \"data\": {\"attributes\": {\"nodes\": {\"0\": {\"color\": \"orange\"}, \"1\": {\"color\": \"yellow\"}, \"2\": {\"color\": \"orange\"}, \"3\": {\"color\": \"yellow\"}, \"4\": {\"color\": \"red\"}, \"5\": {\"color\": \"red\"}, \"6\": {\"color\": \"red\"}, \"7\": {\"color\": \"yellow\"}, \"8\": {\"color\": \"orange\"}, \"9\": {\"color\": \"yellow\"}}}, \"animation\": {\"**\": {\"duration\": 0}}}}",
        "{\"type\": \"update\", \"queue\": \"default\", \"data\": {\"attributes\": {\"edges\": {\"0-1\": {\"visible\": true, \"source\": \"0\", \"target\": \"1\"}, \"0-3\": {\"visible\": true, \"source\": \"0\", \"target\": \"3\"}, \"0-4\": {\"visible\": true, \"source\": \"0\", \"target\": \"4\"}, \"1-4\": {\"visible\": true, \"source\": \"1\", \"target\": \"4\"}, \"1-8\": {\"visible\": true, \"source\": \"1\", \"target\": \"8\"}, \"2-3\": {\"visible\": true, \"source\": \"2\", \"target\": \"3\"}, \"2-4\": {\"visible\": true, \"source\": \"2\", \"target\": \"4\"}, \"2-5\": {\"visible\": true, \"source\": \"2\", \"target\": \"5\"}, \"2-6\": {\"visible\": true, \"source\": \"2\", \"target\": \"6\"}, \"2-7\": {\"visible\": true, \"source\": \"2\", \"target\": \"7\"}, \"3-4\": {\"visible\": true, \"source\": \"3\", \"target\": \"4\"}, \"3-6\": {\"visible\": true, \"source\": \"3\", \"target\": \"6\"}, \"4-8\": {\"visible\": true, \"source\": \"4\", \"target\": \"8\"}, \"4-9\": {\"visible\": true, \"source\": \"4\", \"target\": \"9\"}, \"6-7\": {\"visible\": true, \"source\": \"6\", \"target\": \"7\"}, \"8-9\": {\"visible\": true, \"source\": \"8\", \"target\": \"9\"}}}, \"animation\": {}}}",
        "{\"type\": \"update\", \"queue\": \"default\", \"data\": {\"attributes\": {\"edges\": {\"0-1\": {\"labels\": {\"weight\": {\"visible\": true}}}, \"0-3\": {\"labels\": {\"weight\": {\"visible\": true}}}, \"0-4\": {\"labels\": {\"weight\": {\"visible\": true}}}, \"1-4\": {\"labels\": {\"weight\": {\"visible\": true}}}, \"1-8\": {\"labels\": {\"weight\": {\"visible\": true}}}, \"2-3\": {\"labels\": {\"weight\": {\"visible\": true}}}, \"2-4\": {\"labels\": {\"weight\": {\"visible\": true}}}, \"2-5\": {\"labels\": {\"weight\": {\"visible\": true}}}, \"2-6\": {\"labels\": {\"weight\": {\"visible\": true}}}, \"2-7\": {\"labels\": {\"weight\": {\"visible\": true}}}, \"3-4\": {\"labels\": {\"weight\": {\"visible\": true}}}, \"3-6\": {\"labels\": {\"weight\": {\"visible\": true}}}, \"4-8\": {\"labels\": {\"weight\": {\"visible\": true}}}, \"4-9\": {\"labels\": {\"weight\": {\"visible\": true}}}, \"6-7\": {\"labels\": {\"weight\": {\"visible\": true}}}, \"8-9\": {\"labels\": {\"weight\": {\"visible\": true}}}}}, \"animation\": {\"**\": {\"duration\": 0}}}}",
        "{\"type\": \"update\", \"queue\": \"default\", \"data\": {\"attributes\": {\"edges\": {\"0-1\": {\"labels\": {\"weight\": {\"text\": 2}}}, \"0-3\": {\"labels\": {\"weight\": {\"text\": 6}}}, \"0-4\": {\"labels\": {\"weight\": {\"text\": 9}}}, \"1-4\": {\"labels\": {\"weight\": {\"text\": 8}}}, \"1-8\": {\"labels\": {\"weight\": {\"text\": 4}}}, \"2-3\": {\"labels\": {\"weight\": {\"text\": 9}}}, \"2-4\": {\"labels\": {\"weight\": {\"text\": 2}}}, \"2-5\": {\"labels\": {\"weight\": {\"text\": 4}}}, \"2-6\": {\"labels\": {\"weight\": {\"text\": 4}}}, \"2-7\": {\"labels\": {\"weight\": {\"text\": 5}}}, \"3-4\": {\"labels\": {\"weight\": {\"text\": 10}}}, \"3-6\": {\"labels\": {\"weight\": {\"text\": 10}}}, \"4-8\": {\"labels\": {\"weight\": {\"text\": 3}}}, \"4-9\": {\"labels\": {\"weight\": {\"text\": 3}}}, \"6-7\": {\"labels\": {\"weight\": {\"text\": 4}}}, \"8-9\": {\"labels\": {\"weight\": {\"text\": 1}}}}}, \"animation\": {\"**\": {\"duration\": 0}}}}",
        "{\"type\": \"update\", \"queue\": \"default\", \"data\": {\"attributes\": {\"edges\": {\"0-1\": {\"labels\": {\"centrality\": {\"visible\": true}}}, \"0-3\": {\"labels\": {\"centrality\": {\"visible\": true}}}, \"0-4\": {\"labels\": {\"centrality\": {\"visible\": true}}}, \"1-4\": {\"labels\": {\"centrality\": {\"visible\": true}}}, \"1-8\": {\"labels\": {\"centrality\": {\"visible\": true}}}, \"2-3\": {\"labels\": {\"centrality\": {\"visible\": true}}}, \"2-4\": {\"labels\": {\"centrality\": {\"visible\": true}}}, \"2-5\": {\"labels\": {\"centrality\": {\"visible\": true}}}, \"2-6\": {\"labels\": {\"centrality\": {\"visible\": true}}}, \"2-7\": {\"labels\": {\"centrality\": {\"visible\": true}}}, \"3-4\": {\"labels\": {\"centrality\": {\"visible\": true}}}, \"3-6\": {\"labels\": {\"centrality\": {\"visible\": true}}}, \"4-8\": {\"labels\": {\"centrality\": {\"visible\": true}}}, \"4-9\": {\"labels\": {\"centrality\": {\"visible\": true}}}, \"6-7\": {\"labels\": {\"centrality\": {\"visible\": true}}}, \"8-9\": {\"labels\": {\"centrality\": {\"visible\": true}}}}}, \"animation\": {\"**\": {\"duration\": 0}}}}",
        "{\"type\": \"update\", \"queue\": \"default\", \"data\": {\"attributes\": {\"edges\": {\"0-1\": {\"labels\": {\"centrality\": {\"color\": \"blue\"}}}, \"0-3\": {\"labels\": {\"centrality\": {\"color\": \"blue\"}}}, \"0-4\": {\"labels\": {\"centrality\": {\"color\": \"blue\"}}}, \"1-4\": {\"labels\": {\"centrality\": {\"color\": \"blue\"}}}, \"1-8\": {\"labels\": {\"centrality\": {\"color\": \"blue\"}}}, \"2-3\": {\"labels\": {\"centrality\": {\"color\": \"blue\"}}}, \"2-4\": {\"labels\": {\"centrality\": {\"color\": \"blue\"}}}, \"2-5\": {\"labels\": {\"centrality\": {\"color\": \"blue\"}}}, \"2-6\": {\"labels\": {\"centrality\": {\"color\": \"blue\"}}}, \"2-7\": {\"labels\": {\"centrality\": {\"color\": \"blue\"}}}, \"3-4\": {\"labels\": {\"centrality\": {\"color\": \"blue\"}}}, \"3-6\": {\"labels\": {\"centrality\": {\"color\": \"blue\"}}}, \"4-8\": {\"labels\": {\"centrality\": {\"color\": \"blue\"}}}, \"4-9\": {\"labels\": {\"centrality\": {\"color\": \"blue\"}}}, \"6-7\": {\"labels\": {\"centrality\": {\"color\": \"blue\"}}}, \"8-9\": {\"labels\": {\"centrality\": {\"color\": \"blue\"}}}}}, \"animation\": {\"**\": {\"duration\": 0}}}}",
        "{\"type\": \"update\", \"queue\": \"default\", \"data\": {\"attributes\": {\"edges\": {\"0-1\": {\"labels\": {\"centrality\": {\"text\": \"0.18\"}}}, \"0-3\": {\"labels\": {\"centrality\": {\"text\": \"0.08\"}}}, \"0-4\": {\"labels\": {\"centrality\": {\"text\": \"0.06\"}}}, \"1-4\": {\"labels\": {\"centrality\": {\"text\": \"0.00\"}}}, \"1-8\": {\"labels\": {\"centrality\": {\"text\": \"0.29\"}}}, \"2-3\": {\"labels\": {\"centrality\": {\"text\": \"0.06\"}}}, \"2-4\": {\"labels\": {\"centrality\": {\"text\": \"0.44\"}}}, \"2-5\": {\"labels\": {\"centrality\": {\"text\": \"0.20\"}}}, \"2-6\": {\"labels\": {\"centrality\": {\"text\": \"0.16\"}}}, \"2-7\": {\"labels\": {\"centrality\": {\"text\": \"0.17\"}}}, \"3-4\": {\"labels\": {\"centrality\": {\"text\": \"0.03\"}}}, \"3-6\": {\"labels\": {\"centrality\": {\"text\": \"0.03\"}}}, \"4-8\": {\"labels\": {\"centrality\": {\"text\": \"0.28\"}}}, \"4-9\": {\"labels\": {\"centrality\": {\"text\": \"0.12\"}}}, \"6-7\": {\"labels\": {\"centrality\": {\"text\": \"0.03\"}}}, \"8-9\": {\"labels\": {\"centrality\": {\"text\": \"0.08\"}}}}}, \"animation\": {\"**\": {\"duration\": 0}}}}"
       ],
       "layout": "IPY_MODEL_49d2a7aaae6f49318091461db2536152"
      }
     },
     "75fd31c414d849d0b1c3abba1d121265": {
      "model_module": "algorithmx-jupyter",
      "model_module_version": "^2.0.0",
      "model_name": "AlgorithmxModel",
      "state": {
       "_model_module_version": "^2.0.0",
       "_view_module_version": "^2.0.0",
       "events": [
        "{\"type\": \"update\", \"queue\": \"default\", \"data\": {\"attributes\": {\"nodes\": {\"1\": {\"visible\": true}, \"2\": {\"visible\": true}, \"3\": {\"visible\": true}, \"4\": {\"visible\": true}, \"5\": {\"visible\": true}}}, \"animation\": {}}}",
        "{\"type\": \"update\", \"queue\": \"default\", \"data\": {\"attributes\": {\"edges\": {\"1-2\": {\"visible\": true, \"source\": \"1\", \"target\": \"2\"}, \"2-3\": {\"visible\": true, \"source\": \"2\", \"target\": \"3\"}, \"2-4\": {\"visible\": true, \"source\": \"2\", \"target\": \"4\"}, \"2-5\": {\"visible\": true, \"source\": \"2\", \"target\": \"5\"}}}, \"animation\": {}}}"
       ],
       "layout": "IPY_MODEL_c364d46de4d1413e9f03d84d68833069"
      }
     },
     "77d9fc70d74a48a0ace2b692635dba14": {
      "model_module": "algorithmx-jupyter",
      "model_module_version": "^2.0.0",
      "model_name": "AlgorithmxModel",
      "state": {
       "_model_module_version": "^2.0.0",
       "_view_module_version": "^2.0.0",
       "events": [
        "{\"type\": \"update\", \"queue\": \"default\", \"data\": {\"attributes\": {\"nodes\": {\"1\": {\"visible\": true}, \"2\": {\"visible\": true}, \"3\": {\"visible\": true}}}, \"animation\": {}}}",
        "{\"type\": \"update\", \"queue\": \"default\", \"data\": {\"attributes\": {\"edges\": {\"1-2\": {\"visible\": true, \"source\": \"1\", \"target\": \"2\"}, \"1-3\": {\"visible\": true, \"source\": \"1\", \"target\": \"3\"}, \"2-3\": {\"visible\": true, \"source\": \"2\", \"target\": \"3\"}}}, \"animation\": {}}}",
        "{\"type\": \"update\", \"queue\": \"default\", \"data\": {\"attributes\": {\"edges\": {\"1-2\": {\"labels\": {\"weight\": {\"visible\": true}}}, \"1-3\": {\"labels\": {\"weight\": {\"visible\": true}}}, \"2-3\": {\"labels\": {\"weight\": {\"visible\": true}}}}}, \"animation\": {\"**\": {\"duration\": 0}}}}",
        "{\"type\": \"update\", \"queue\": \"default\", \"data\": {\"attributes\": {\"edges\": {\"1-2\": {\"labels\": {\"weight\": {\"text\": 0.4}}}, \"1-3\": {\"labels\": {\"weight\": {\"text\": 0.3}}}, \"2-3\": {\"labels\": {\"weight\": {\"text\": 0.2}}}}}, \"animation\": {\"**\": {\"duration\": 0}}}}"
       ],
       "layout": "IPY_MODEL_ba0acfce6c994b798a1f8b56f40e592d"
      }
     },
     "7c98bb910e7a4620aac177569af9ade2": {
      "model_module": "algorithmx-jupyter",
      "model_module_version": "^2.0.0",
      "model_name": "AlgorithmxModel",
      "state": {
       "_model_module_version": "^2.0.0",
       "_view_module_version": "^2.0.0",
       "events": [
        "{\"type\": \"update\", \"queue\": \"default\", \"data\": {\"attributes\": {\"nodes\": {\"0\": {\"visible\": true}, \"1\": {\"visible\": true}, \"2\": {\"visible\": true}, \"3\": {\"visible\": true}, \"4\": {\"visible\": true}, \"5\": {\"visible\": true}, \"6\": {\"visible\": true}, \"7\": {\"visible\": true}, \"8\": {\"visible\": true}, \"9\": {\"visible\": true}}}, \"animation\": {}}}",
        "{\"type\": \"update\", \"queue\": \"default\", \"data\": {\"attributes\": {\"edges\": {\"0-1\": {\"visible\": true, \"source\": \"0\", \"target\": \"1\"}, \"0-4\": {\"visible\": true, \"source\": \"0\", \"target\": \"4\"}, \"0-6\": {\"visible\": true, \"source\": \"0\", \"target\": \"6\"}, \"0-7\": {\"visible\": true, \"source\": \"0\", \"target\": \"7\"}, \"1-9\": {\"visible\": true, \"source\": \"1\", \"target\": \"9\"}, \"2-3\": {\"visible\": true, \"source\": \"2\", \"target\": \"3\"}, \"2-5\": {\"visible\": true, \"source\": \"2\", \"target\": \"5\"}, \"2-8\": {\"visible\": true, \"source\": \"2\", \"target\": \"8\"}, \"2-9\": {\"visible\": true, \"source\": \"2\", \"target\": \"9\"}, \"3-4\": {\"visible\": true, \"source\": \"3\", \"target\": \"4\"}, \"3-6\": {\"visible\": true, \"source\": \"3\", \"target\": \"6\"}, \"6-7\": {\"visible\": true, \"source\": \"6\", \"target\": \"7\"}, \"7-8\": {\"visible\": true, \"source\": \"7\", \"target\": \"8\"}, \"7-9\": {\"visible\": true, \"source\": \"7\", \"target\": \"9\"}}}, \"animation\": {}}}"
       ],
       "layout": "IPY_MODEL_1575f55841ed494db44be04a50eba01a"
      }
     },
     "8067eb717c834a8b9760a9ecd46ceb70": {
      "model_module": "algorithmx-jupyter",
      "model_module_version": "^2.0.0",
      "model_name": "AlgorithmxModel",
      "state": {
       "_model_module_version": "^2.0.0",
       "_view_module_version": "^2.0.0",
       "events": [
        "{\"type\": \"update\", \"queue\": \"default\", \"data\": {\"attributes\": {\"nodes\": {\"0\": {\"visible\": true}, \"1\": {\"visible\": true}, \"2\": {\"visible\": true}, \"3\": {\"visible\": true}, \"4\": {\"visible\": true}, \"5\": {\"visible\": true}, \"6\": {\"visible\": true}, \"7\": {\"visible\": true}, \"8\": {\"visible\": true}, \"9\": {\"visible\": true}}}, \"animation\": {}}}",
        "{\"type\": \"update\", \"queue\": \"default\", \"data\": {\"attributes\": {\"nodes\": {\"0\": {\"color\": \"orange\"}, \"1\": {\"color\": \"yellow\"}, \"2\": {\"color\": \"orange\"}, \"3\": {\"color\": \"yellow\"}, \"4\": {\"color\": \"red\"}, \"5\": {\"color\": \"red\"}, \"6\": {\"color\": \"red\"}, \"7\": {\"color\": \"yellow\"}, \"8\": {\"color\": \"orange\"}, \"9\": {\"color\": \"yellow\"}}}, \"animation\": {\"**\": {\"duration\": 0}}}}",
        "{\"type\": \"update\", \"queue\": \"default\", \"data\": {\"attributes\": {\"edges\": {\"0-1\": {\"visible\": true, \"source\": \"0\", \"target\": \"1\"}, \"0-3\": {\"visible\": true, \"source\": \"0\", \"target\": \"3\"}, \"0-4\": {\"visible\": true, \"source\": \"0\", \"target\": \"4\"}, \"1-4\": {\"visible\": true, \"source\": \"1\", \"target\": \"4\"}, \"1-8\": {\"visible\": true, \"source\": \"1\", \"target\": \"8\"}, \"2-3\": {\"visible\": true, \"source\": \"2\", \"target\": \"3\"}, \"2-4\": {\"visible\": true, \"source\": \"2\", \"target\": \"4\"}, \"2-5\": {\"visible\": true, \"source\": \"2\", \"target\": \"5\"}, \"2-6\": {\"visible\": true, \"source\": \"2\", \"target\": \"6\"}, \"2-7\": {\"visible\": true, \"source\": \"2\", \"target\": \"7\"}, \"3-4\": {\"visible\": true, \"source\": \"3\", \"target\": \"4\"}, \"3-6\": {\"visible\": true, \"source\": \"3\", \"target\": \"6\"}, \"4-8\": {\"visible\": true, \"source\": \"4\", \"target\": \"8\"}, \"4-9\": {\"visible\": true, \"source\": \"4\", \"target\": \"9\"}, \"6-7\": {\"visible\": true, \"source\": \"6\", \"target\": \"7\"}, \"8-9\": {\"visible\": true, \"source\": \"8\", \"target\": \"9\"}}}, \"animation\": {}}}",
        "{\"type\": \"update\", \"queue\": \"default\", \"data\": {\"attributes\": {\"edges\": {\"0-1\": {\"labels\": {\"weight\": {\"visible\": true}}}, \"0-3\": {\"labels\": {\"weight\": {\"visible\": true}}}, \"0-4\": {\"labels\": {\"weight\": {\"visible\": true}}}, \"1-4\": {\"labels\": {\"weight\": {\"visible\": true}}}, \"1-8\": {\"labels\": {\"weight\": {\"visible\": true}}}, \"2-3\": {\"labels\": {\"weight\": {\"visible\": true}}}, \"2-4\": {\"labels\": {\"weight\": {\"visible\": true}}}, \"2-5\": {\"labels\": {\"weight\": {\"visible\": true}}}, \"2-6\": {\"labels\": {\"weight\": {\"visible\": true}}}, \"2-7\": {\"labels\": {\"weight\": {\"visible\": true}}}, \"3-4\": {\"labels\": {\"weight\": {\"visible\": true}}}, \"3-6\": {\"labels\": {\"weight\": {\"visible\": true}}}, \"4-8\": {\"labels\": {\"weight\": {\"visible\": true}}}, \"4-9\": {\"labels\": {\"weight\": {\"visible\": true}}}, \"6-7\": {\"labels\": {\"weight\": {\"visible\": true}}}, \"8-9\": {\"labels\": {\"weight\": {\"visible\": true}}}}}, \"animation\": {\"**\": {\"duration\": 0}}}}",
        "{\"type\": \"update\", \"queue\": \"default\", \"data\": {\"attributes\": {\"edges\": {\"0-1\": {\"labels\": {\"weight\": {\"text\": 10}}}, \"0-3\": {\"labels\": {\"weight\": {\"text\": 5}}}, \"0-4\": {\"labels\": {\"weight\": {\"text\": 7}}}, \"1-4\": {\"labels\": {\"weight\": {\"text\": 7}}}, \"1-8\": {\"labels\": {\"weight\": {\"text\": 10}}}, \"2-3\": {\"labels\": {\"weight\": {\"text\": 2}}}, \"2-4\": {\"labels\": {\"weight\": {\"text\": 7}}}, \"2-5\": {\"labels\": {\"weight\": {\"text\": 9}}}, \"2-6\": {\"labels\": {\"weight\": {\"text\": 4}}}, \"2-7\": {\"labels\": {\"weight\": {\"text\": 5}}}, \"3-4\": {\"labels\": {\"weight\": {\"text\": 2}}}, \"3-6\": {\"labels\": {\"weight\": {\"text\": 5}}}, \"4-8\": {\"labels\": {\"weight\": {\"text\": 9}}}, \"4-9\": {\"labels\": {\"weight\": {\"text\": 9}}}, \"6-7\": {\"labels\": {\"weight\": {\"text\": 10}}}, \"8-9\": {\"labels\": {\"weight\": {\"text\": 8}}}}}, \"animation\": {\"**\": {\"duration\": 0}}}}",
        "{\"type\": \"update\", \"queue\": \"default\", \"data\": {\"attributes\": {\"edges\": {\"0-1\": {\"labels\": {\"centrality\": {\"visible\": true}}}, \"0-3\": {\"labels\": {\"centrality\": {\"visible\": true}}}, \"0-4\": {\"labels\": {\"centrality\": {\"visible\": true}}}, \"1-4\": {\"labels\": {\"centrality\": {\"visible\": true}}}, \"1-8\": {\"labels\": {\"centrality\": {\"visible\": true}}}, \"2-3\": {\"labels\": {\"centrality\": {\"visible\": true}}}, \"2-4\": {\"labels\": {\"centrality\": {\"visible\": true}}}, \"2-5\": {\"labels\": {\"centrality\": {\"visible\": true}}}, \"2-6\": {\"labels\": {\"centrality\": {\"visible\": true}}}, \"2-7\": {\"labels\": {\"centrality\": {\"visible\": true}}}, \"3-4\": {\"labels\": {\"centrality\": {\"visible\": true}}}, \"3-6\": {\"labels\": {\"centrality\": {\"visible\": true}}}, \"4-8\": {\"labels\": {\"centrality\": {\"visible\": true}}}, \"4-9\": {\"labels\": {\"centrality\": {\"visible\": true}}}, \"6-7\": {\"labels\": {\"centrality\": {\"visible\": true}}}, \"8-9\": {\"labels\": {\"centrality\": {\"visible\": true}}}}}, \"animation\": {\"**\": {\"duration\": 0}}}}",
        "{\"type\": \"update\", \"queue\": \"default\", \"data\": {\"attributes\": {\"edges\": {\"0-1\": {\"labels\": {\"centrality\": {\"color\": \"blue\"}}}, \"0-3\": {\"labels\": {\"centrality\": {\"color\": \"blue\"}}}, \"0-4\": {\"labels\": {\"centrality\": {\"color\": \"blue\"}}}, \"1-4\": {\"labels\": {\"centrality\": {\"color\": \"blue\"}}}, \"1-8\": {\"labels\": {\"centrality\": {\"color\": \"blue\"}}}, \"2-3\": {\"labels\": {\"centrality\": {\"color\": \"blue\"}}}, \"2-4\": {\"labels\": {\"centrality\": {\"color\": \"blue\"}}}, \"2-5\": {\"labels\": {\"centrality\": {\"color\": \"blue\"}}}, \"2-6\": {\"labels\": {\"centrality\": {\"color\": \"blue\"}}}, \"2-7\": {\"labels\": {\"centrality\": {\"color\": \"blue\"}}}, \"3-4\": {\"labels\": {\"centrality\": {\"color\": \"blue\"}}}, \"3-6\": {\"labels\": {\"centrality\": {\"color\": \"blue\"}}}, \"4-8\": {\"labels\": {\"centrality\": {\"color\": \"blue\"}}}, \"4-9\": {\"labels\": {\"centrality\": {\"color\": \"blue\"}}}, \"6-7\": {\"labels\": {\"centrality\": {\"color\": \"blue\"}}}, \"8-9\": {\"labels\": {\"centrality\": {\"color\": \"blue\"}}}}}, \"animation\": {\"**\": {\"duration\": 0}}}}",
        "{\"type\": \"update\", \"queue\": \"default\", \"data\": {\"attributes\": {\"edges\": {\"0-1\": {\"labels\": {\"centrality\": {\"text\": \"0.02\"}}}, \"0-3\": {\"labels\": {\"centrality\": {\"text\": \"0.14\"}}}, \"0-4\": {\"labels\": {\"centrality\": {\"text\": \"0.03\"}}}, \"1-4\": {\"labels\": {\"centrality\": {\"text\": \"0.16\"}}}, \"1-8\": {\"labels\": {\"centrality\": {\"text\": \"0.02\"}}}, \"2-3\": {\"labels\": {\"centrality\": {\"text\": \"0.40\"}}}, \"2-4\": {\"labels\": {\"centrality\": {\"text\": \"0.00\"}}}, \"2-5\": {\"labels\": {\"centrality\": {\"text\": \"0.20\"}}}, \"2-6\": {\"labels\": {\"centrality\": {\"text\": \"0.07\"}}}, \"2-7\": {\"labels\": {\"centrality\": {\"text\": \"0.20\"}}}, \"3-4\": {\"labels\": {\"centrality\": {\"text\": \"0.48\"}}}, \"3-6\": {\"labels\": {\"centrality\": {\"text\": \"0.13\"}}}, \"4-8\": {\"labels\": {\"centrality\": {\"text\": \"0.16\"}}}, \"4-9\": {\"labels\": {\"centrality\": {\"text\": \"0.18\"}}}, \"6-7\": {\"labels\": {\"centrality\": {\"text\": \"0.00\"}}}, \"8-9\": {\"labels\": {\"centrality\": {\"text\": \"0.02\"}}}}}, \"animation\": {\"**\": {\"duration\": 0}}}}"
       ],
       "layout": "IPY_MODEL_6c1c135091574d89af1dd83caf9e6cf2"
      }
     },
     "83212ea7969e4a63bc476e9efaaa2809": {
      "model_module": "algorithmx-jupyter",
      "model_module_version": "^2.0.0",
      "model_name": "AlgorithmxModel",
      "state": {
       "_model_module_version": "^2.0.0",
       "_view_module_version": "^2.0.0",
       "events": [
        "{\"type\": \"update\", \"queue\": \"default\", \"data\": {\"attributes\": {\"nodes\": {\"0\": {\"visible\": true}, \"1\": {\"visible\": true}, \"2\": {\"visible\": true}, \"3\": {\"visible\": true}, \"4\": {\"visible\": true}, \"5\": {\"visible\": true}, \"6\": {\"visible\": true}, \"7\": {\"visible\": true}, \"8\": {\"visible\": true}, \"9\": {\"visible\": true}}}, \"animation\": {}}}",
        "{\"type\": \"update\", \"queue\": \"default\", \"data\": {\"attributes\": {\"edges\": {\"0-1\": {\"visible\": true, \"source\": \"1\", \"target\": \"0\"}, \"0-4\": {\"visible\": true, \"source\": \"4\", \"target\": \"0\"}, \"0-6\": {\"visible\": true, \"source\": \"6\", \"target\": \"0\"}, \"0-7\": {\"visible\": true, \"source\": \"7\", \"target\": \"0\"}, \"1-9\": {\"visible\": true, \"source\": \"9\", \"target\": \"1\"}, \"2-3\": {\"visible\": true, \"source\": \"3\", \"target\": \"2\"}, \"2-5\": {\"visible\": true, \"source\": \"5\", \"target\": \"2\"}, \"2-8\": {\"visible\": true, \"source\": \"8\", \"target\": \"2\"}, \"2-9\": {\"visible\": true, \"source\": \"9\", \"target\": \"2\"}, \"3-4\": {\"visible\": true, \"source\": \"4\", \"target\": \"3\"}, \"3-6\": {\"visible\": true, \"source\": \"6\", \"target\": \"3\"}, \"6-7\": {\"visible\": true, \"source\": \"7\", \"target\": \"6\"}, \"7-8\": {\"visible\": true, \"source\": \"8\", \"target\": \"7\"}, \"7-9\": {\"visible\": true, \"source\": \"9\", \"target\": \"7\"}}}, \"animation\": {}}}",
        "{\"type\": \"update\", \"queue\": \"default\", \"data\": {\"attributes\": {\"edges\": {\"0-1\": {\"directed\": true}, \"0-4\": {\"directed\": true}, \"0-6\": {\"directed\": true}, \"0-7\": {\"directed\": true}, \"1-9\": {\"directed\": true}, \"2-3\": {\"directed\": true}, \"2-5\": {\"directed\": true}, \"2-8\": {\"directed\": true}, \"2-9\": {\"directed\": true}, \"3-4\": {\"directed\": true}, \"3-6\": {\"directed\": true}, \"6-7\": {\"directed\": true}, \"7-8\": {\"directed\": true}, \"7-9\": {\"directed\": true}}}, \"animation\": {\"**\": {\"duration\": 0}}}}",
        "{\"type\": \"update\", \"queue\": \"default\", \"data\": {\"attributes\": {\"edges\": {\"0-1\": {\"labels\": {\"weight\": {\"visible\": true}}}, \"0-4\": {\"labels\": {\"weight\": {\"visible\": true}}}, \"0-6\": {\"labels\": {\"weight\": {\"visible\": true}}}, \"0-7\": {\"labels\": {\"weight\": {\"visible\": true}}}, \"1-9\": {\"labels\": {\"weight\": {\"visible\": true}}}, \"2-3\": {\"labels\": {\"weight\": {\"visible\": true}}}, \"2-5\": {\"labels\": {\"weight\": {\"visible\": true}}}, \"2-8\": {\"labels\": {\"weight\": {\"visible\": true}}}, \"2-9\": {\"labels\": {\"weight\": {\"visible\": true}}}, \"3-4\": {\"labels\": {\"weight\": {\"visible\": true}}}, \"3-6\": {\"labels\": {\"weight\": {\"visible\": true}}}, \"6-7\": {\"labels\": {\"weight\": {\"visible\": true}}}, \"7-8\": {\"labels\": {\"weight\": {\"visible\": true}}}, \"7-9\": {\"labels\": {\"weight\": {\"visible\": true}}}}}, \"animation\": {\"**\": {\"duration\": 0}}}}",
        "{\"type\": \"update\", \"queue\": \"default\", \"data\": {\"attributes\": {\"edges\": {\"0-1\": {\"labels\": {\"weight\": {\"text\": 3}}}, \"0-4\": {\"labels\": {\"weight\": {\"text\": 2}}}, \"0-6\": {\"labels\": {\"weight\": {\"text\": 7}}}, \"0-7\": {\"labels\": {\"weight\": {\"text\": 1}}}, \"1-9\": {\"labels\": {\"weight\": {\"text\": 9}}}, \"2-3\": {\"labels\": {\"weight\": {\"text\": 7}}}, \"2-5\": {\"labels\": {\"weight\": {\"text\": 2}}}, \"2-8\": {\"labels\": {\"weight\": {\"text\": 9}}}, \"2-9\": {\"labels\": {\"weight\": {\"text\": 6}}}, \"3-4\": {\"labels\": {\"weight\": {\"text\": 10}}}, \"3-6\": {\"labels\": {\"weight\": {\"text\": 7}}}, \"6-7\": {\"labels\": {\"weight\": {\"text\": 1}}}, \"7-8\": {\"labels\": {\"weight\": {\"text\": 3}}}, \"7-9\": {\"labels\": {\"weight\": {\"text\": 10}}}}}, \"animation\": {\"**\": {\"duration\": 0}}}}"
       ],
       "layout": "IPY_MODEL_df8f4bc52acf4654a6f3d9f8a888815a"
      }
     },
     "86acdf023b104d2b939e3bc58fb5c204": {
      "model_module": "@jupyter-widgets/base",
      "model_module_version": "1.1.0",
      "model_name": "LayoutModel",
      "state": {}
     },
     "86dda55870a24380927b9fddc35713dd": {
      "model_module": "algorithmx-jupyter",
      "model_module_version": "^2.0.0",
      "model_name": "AlgorithmxModel",
      "state": {
       "_model_module_version": "^2.0.0",
       "_view_module_version": "^2.0.0",
       "events": [
        "{\"type\": \"update\", \"queue\": \"default\", \"data\": {\"attributes\": {\"nodes\": {\"0\": {\"visible\": true}, \"1\": {\"visible\": true}, \"2\": {\"visible\": true}, \"3\": {\"visible\": true}, \"4\": {\"visible\": true}, \"5\": {\"visible\": true}, \"6\": {\"visible\": true}, \"7\": {\"visible\": true}, \"8\": {\"visible\": true}, \"9\": {\"visible\": true}}}, \"animation\": {}}}",
        "{\"type\": \"update\", \"queue\": \"default\", \"data\": {\"attributes\": {\"nodes\": {\"0\": {\"color\": \"orange\"}, \"1\": {\"color\": \"yellow\"}, \"2\": {\"color\": \"orange\"}, \"3\": {\"color\": \"yellow\"}, \"4\": {\"color\": \"red\"}, \"5\": {\"color\": \"red\"}, \"6\": {\"color\": \"red\"}, \"7\": {\"color\": \"yellow\"}, \"8\": {\"color\": \"orange\"}, \"9\": {\"color\": \"yellow\"}}}, \"animation\": {\"**\": {\"duration\": 0}}}}",
        "{\"type\": \"update\", \"queue\": \"default\", \"data\": {\"attributes\": {\"edges\": {\"0-1\": {\"visible\": true, \"source\": \"0\", \"target\": \"1\"}, \"0-3\": {\"visible\": true, \"source\": \"0\", \"target\": \"3\"}, \"0-4\": {\"visible\": true, \"source\": \"0\", \"target\": \"4\"}, \"1-4\": {\"visible\": true, \"source\": \"1\", \"target\": \"4\"}, \"1-8\": {\"visible\": true, \"source\": \"1\", \"target\": \"8\"}, \"2-3\": {\"visible\": true, \"source\": \"2\", \"target\": \"3\"}, \"2-4\": {\"visible\": true, \"source\": \"2\", \"target\": \"4\"}, \"2-5\": {\"visible\": true, \"source\": \"2\", \"target\": \"5\"}, \"2-6\": {\"visible\": true, \"source\": \"2\", \"target\": \"6\"}, \"2-7\": {\"visible\": true, \"source\": \"2\", \"target\": \"7\"}, \"3-4\": {\"visible\": true, \"source\": \"3\", \"target\": \"4\"}, \"3-6\": {\"visible\": true, \"source\": \"3\", \"target\": \"6\"}, \"4-8\": {\"visible\": true, \"source\": \"4\", \"target\": \"8\"}, \"4-9\": {\"visible\": true, \"source\": \"4\", \"target\": \"9\"}, \"6-7\": {\"visible\": true, \"source\": \"6\", \"target\": \"7\"}, \"8-9\": {\"visible\": true, \"source\": \"8\", \"target\": \"9\"}}}, \"animation\": {}}}",
        "{\"type\": \"update\", \"queue\": \"default\", \"data\": {\"attributes\": {\"edges\": {\"0-1\": {\"labels\": {\"weight\": {\"visible\": true}}}, \"0-3\": {\"labels\": {\"weight\": {\"visible\": true}}}, \"0-4\": {\"labels\": {\"weight\": {\"visible\": true}}}, \"1-4\": {\"labels\": {\"weight\": {\"visible\": true}}}, \"1-8\": {\"labels\": {\"weight\": {\"visible\": true}}}, \"2-3\": {\"labels\": {\"weight\": {\"visible\": true}}}, \"2-4\": {\"labels\": {\"weight\": {\"visible\": true}}}, \"2-5\": {\"labels\": {\"weight\": {\"visible\": true}}}, \"2-6\": {\"labels\": {\"weight\": {\"visible\": true}}}, \"2-7\": {\"labels\": {\"weight\": {\"visible\": true}}}, \"3-4\": {\"labels\": {\"weight\": {\"visible\": true}}}, \"3-6\": {\"labels\": {\"weight\": {\"visible\": true}}}, \"4-8\": {\"labels\": {\"weight\": {\"visible\": true}}}, \"4-9\": {\"labels\": {\"weight\": {\"visible\": true}}}, \"6-7\": {\"labels\": {\"weight\": {\"visible\": true}}}, \"8-9\": {\"labels\": {\"weight\": {\"visible\": true}}}}}, \"animation\": {\"**\": {\"duration\": 0}}}}",
        "{\"type\": \"update\", \"queue\": \"default\", \"data\": {\"attributes\": {\"edges\": {\"0-1\": {\"labels\": {\"weight\": {\"text\": 2}}}, \"0-3\": {\"labels\": {\"weight\": {\"text\": 6}}}, \"0-4\": {\"labels\": {\"weight\": {\"text\": 1}}}, \"1-4\": {\"labels\": {\"weight\": {\"text\": 6}}}, \"1-8\": {\"labels\": {\"weight\": {\"text\": 6}}}, \"2-3\": {\"labels\": {\"weight\": {\"text\": 9}}}, \"2-4\": {\"labels\": {\"weight\": {\"text\": 8}}}, \"2-5\": {\"labels\": {\"weight\": {\"text\": 8}}}, \"2-6\": {\"labels\": {\"weight\": {\"text\": 1}}}, \"2-7\": {\"labels\": {\"weight\": {\"text\": 7}}}, \"3-4\": {\"labels\": {\"weight\": {\"text\": 4}}}, \"3-6\": {\"labels\": {\"weight\": {\"text\": 8}}}, \"4-8\": {\"labels\": {\"weight\": {\"text\": 8}}}, \"4-9\": {\"labels\": {\"weight\": {\"text\": 10}}}, \"6-7\": {\"labels\": {\"weight\": {\"text\": 9}}}, \"8-9\": {\"labels\": {\"weight\": {\"text\": 1}}}}}, \"animation\": {\"**\": {\"duration\": 0}}}}",
        "{\"type\": \"update\", \"queue\": \"default\", \"data\": {\"attributes\": {\"edges\": {\"0-1\": {\"labels\": {\"centrality\": {\"visible\": true}}}, \"0-3\": {\"labels\": {\"centrality\": {\"visible\": true}}}, \"0-4\": {\"labels\": {\"centrality\": {\"visible\": true}}}, \"1-4\": {\"labels\": {\"centrality\": {\"visible\": true}}}, \"1-8\": {\"labels\": {\"centrality\": {\"visible\": true}}}, \"2-3\": {\"labels\": {\"centrality\": {\"visible\": true}}}, \"2-4\": {\"labels\": {\"centrality\": {\"visible\": true}}}, \"2-5\": {\"labels\": {\"centrality\": {\"visible\": true}}}, \"2-6\": {\"labels\": {\"centrality\": {\"visible\": true}}}, \"2-7\": {\"labels\": {\"centrality\": {\"visible\": true}}}, \"3-4\": {\"labels\": {\"centrality\": {\"visible\": true}}}, \"3-6\": {\"labels\": {\"centrality\": {\"visible\": true}}}, \"4-8\": {\"labels\": {\"centrality\": {\"visible\": true}}}, \"4-9\": {\"labels\": {\"centrality\": {\"visible\": true}}}, \"6-7\": {\"labels\": {\"centrality\": {\"visible\": true}}}, \"8-9\": {\"labels\": {\"centrality\": {\"visible\": true}}}}}, \"animation\": {\"**\": {\"duration\": 0}}}}",
        "{\"type\": \"update\", \"queue\": \"default\", \"data\": {\"attributes\": {\"edges\": {\"0-1\": {\"labels\": {\"centrality\": {\"color\": \"blue\"}}}, \"0-3\": {\"labels\": {\"centrality\": {\"color\": \"blue\"}}}, \"0-4\": {\"labels\": {\"centrality\": {\"color\": \"blue\"}}}, \"1-4\": {\"labels\": {\"centrality\": {\"color\": \"blue\"}}}, \"1-8\": {\"labels\": {\"centrality\": {\"color\": \"blue\"}}}, \"2-3\": {\"labels\": {\"centrality\": {\"color\": \"blue\"}}}, \"2-4\": {\"labels\": {\"centrality\": {\"color\": \"blue\"}}}, \"2-5\": {\"labels\": {\"centrality\": {\"color\": \"blue\"}}}, \"2-6\": {\"labels\": {\"centrality\": {\"color\": \"blue\"}}}, \"2-7\": {\"labels\": {\"centrality\": {\"color\": \"blue\"}}}, \"3-4\": {\"labels\": {\"centrality\": {\"color\": \"blue\"}}}, \"3-6\": {\"labels\": {\"centrality\": {\"color\": \"blue\"}}}, \"4-8\": {\"labels\": {\"centrality\": {\"color\": \"blue\"}}}, \"4-9\": {\"labels\": {\"centrality\": {\"color\": \"blue\"}}}, \"6-7\": {\"labels\": {\"centrality\": {\"color\": \"blue\"}}}, \"8-9\": {\"labels\": {\"centrality\": {\"color\": \"blue\"}}}}}, \"animation\": {\"**\": {\"duration\": 0}}}}",
        "{\"type\": \"update\", \"queue\": \"default\", \"data\": {\"attributes\": {\"edges\": {\"0-1\": {\"labels\": {\"centrality\": {\"text\": \"0.20\"}}}, \"0-3\": {\"labels\": {\"centrality\": {\"text\": \"0.00\"}}}, \"0-4\": {\"labels\": {\"centrality\": {\"text\": \"0.27\"}}}, \"1-4\": {\"labels\": {\"centrality\": {\"text\": \"0.00\"}}}, \"1-8\": {\"labels\": {\"centrality\": {\"text\": \"0.09\"}}}, \"2-3\": {\"labels\": {\"centrality\": {\"text\": \"0.03\"}}}, \"2-4\": {\"labels\": {\"centrality\": {\"text\": \"0.44\"}}}, \"2-5\": {\"labels\": {\"centrality\": {\"text\": \"0.20\"}}}, \"2-6\": {\"labels\": {\"centrality\": {\"text\": \"0.21\"}}}, \"2-7\": {\"labels\": {\"centrality\": {\"text\": \"0.20\"}}}, \"3-4\": {\"labels\": {\"centrality\": {\"text\": \"0.11\"}}}, \"3-6\": {\"labels\": {\"centrality\": {\"text\": \"0.06\"}}}, \"4-8\": {\"labels\": {\"centrality\": {\"text\": \"0.27\"}}}, \"4-9\": {\"labels\": {\"centrality\": {\"text\": \"0.00\"}}}, \"6-7\": {\"labels\": {\"centrality\": {\"text\": \"0.00\"}}}, \"8-9\": {\"labels\": {\"centrality\": {\"text\": \"0.20\"}}}}}, \"animation\": {\"**\": {\"duration\": 0}}}}"
       ],
       "layout": "IPY_MODEL_ce9d1e95d6af42c0bf43ed415e38675e"
      }
     },
     "8718d253545344f384e2321875a04901": {
      "model_module": "@jupyter-widgets/base",
      "model_module_version": "1.1.0",
      "model_name": "LayoutModel",
      "state": {}
     },
     "89ffcf76de3e40098182903982f074ca": {
      "model_module": "algorithmx-jupyter",
      "model_module_version": "^2.0.0",
      "model_name": "AlgorithmxModel",
      "state": {
       "_model_module_version": "^2.0.0",
       "_view_module_version": "^2.0.0",
       "events": [
        "{\"type\": \"update\", \"queue\": \"default\", \"data\": {\"attributes\": {\"nodes\": {\"1\": {\"visible\": true}, \"2\": {\"visible\": true}, \"3\": {\"visible\": true}}}, \"animation\": {}}}",
        "{\"type\": \"update\", \"queue\": \"default\", \"data\": {\"attributes\": {\"edges\": {\"1-2\": {\"visible\": true, \"source\": \"1\", \"target\": \"2\"}, \"1-3\": {\"visible\": true, \"source\": \"1\", \"target\": \"3\"}, \"2-3\": {\"visible\": true, \"source\": \"2\", \"target\": \"3\"}}}, \"animation\": {}}}",
        "{\"type\": \"update\", \"queue\": \"default\", \"data\": {\"attributes\": {\"edges\": {\"1-2\": {\"labels\": {\"weight\": {\"visible\": true}}}, \"1-3\": {\"labels\": {\"weight\": {\"visible\": true}}}, \"2-3\": {\"labels\": {\"weight\": {\"visible\": true}}}}}, \"animation\": {\"**\": {\"duration\": 0}}}}",
        "{\"type\": \"update\", \"queue\": \"default\", \"data\": {\"attributes\": {\"edges\": {\"1-2\": {\"labels\": {\"weight\": {\"text\": 0.4}}}, \"1-3\": {\"labels\": {\"weight\": {\"text\": 0.3}}}, \"2-3\": {\"labels\": {\"weight\": {\"text\": 0.2}}}}}, \"animation\": {\"**\": {\"duration\": 0}}}}"
       ],
       "layout": "IPY_MODEL_babc6c88fc2843c69dc1362780dbe670"
      }
     },
     "8ddea72c80d44e569d5e5c7563fe6460": {
      "model_module": "algorithmx-jupyter",
      "model_module_version": "^2.0.0",
      "model_name": "AlgorithmxModel",
      "state": {
       "_model_module_version": "^2.0.0",
       "_view_module_version": "^2.0.0",
       "events": [
        "{\"type\": \"update\", \"queue\": \"default\", \"data\": {\"attributes\": {\"nodes\": {\"1\": {\"visible\": true}, \"2\": {\"visible\": true}, \"3\": {\"visible\": true}}}, \"animation\": {}}}",
        "{\"type\": \"update\", \"queue\": \"default\", \"data\": {\"attributes\": {\"edges\": {\"1-2\": {\"visible\": true, \"source\": \"1\", \"target\": \"2\"}, \"2-3\": {\"visible\": true, \"source\": \"2\", \"target\": \"3\"}, \"1-3\": {\"visible\": true, \"source\": \"3\", \"target\": \"1\"}}}, \"animation\": {}}}",
        "{\"type\": \"update\", \"queue\": \"default\", \"data\": {\"attributes\": {\"edges\": {\"1-2\": {\"directed\": true}, \"2-3\": {\"directed\": true}, \"1-3\": {\"directed\": true}}}, \"animation\": {\"**\": {\"duration\": 0}}}}"
       ],
       "layout": "IPY_MODEL_0844d813bb29486ab0395c55d7c678f3"
      }
     },
     "8fe3e56766d44e929b7a1f63cfc7be58": {
      "model_module": "algorithmx-jupyter",
      "model_module_version": "^2.0.0",
      "model_name": "AlgorithmxModel",
      "state": {
       "_model_module_version": "^2.0.0",
       "_view_module_version": "^2.0.0",
       "events": [
        "{\"type\": \"update\", \"queue\": \"default\", \"data\": {\"attributes\": {\"nodes\": {\"1\": {\"visible\": true}, \"2\": {\"visible\": true}, \"3\": {\"visible\": true}, \"4\": {\"visible\": true}, \"5\": {\"visible\": true}}}, \"animation\": {}}}",
        "{\"type\": \"update\", \"queue\": \"default\", \"data\": {\"attributes\": {\"edges\": {\"1-2\": {\"visible\": true, \"source\": \"1\", \"target\": \"2\"}, \"2-3\": {\"visible\": true, \"source\": \"2\", \"target\": \"3\"}, \"2-4\": {\"visible\": true, \"source\": \"2\", \"target\": \"4\"}, \"2-5\": {\"visible\": true, \"source\": \"2\", \"target\": \"5\"}}}, \"animation\": {}}}"
       ],
       "layout": "IPY_MODEL_a40a5242701747e1b0c21222673d063b"
      }
     },
     "941fe0dd30ce473fb6821ae3c32174cd": {
      "model_module": "algorithmx-jupyter",
      "model_module_version": "^2.0.0",
      "model_name": "AlgorithmxModel",
      "state": {
       "_model_module_version": "^2.0.0",
       "_view_module_version": "^2.0.0",
       "events": [
        "{\"type\": \"update\", \"queue\": \"default\", \"data\": {\"attributes\": {\"nodes\": {\"0\": {\"visible\": true}, \"1\": {\"visible\": true}, \"2\": {\"visible\": true}, \"3\": {\"visible\": true}, \"4\": {\"visible\": true}, \"5\": {\"visible\": true}, \"6\": {\"visible\": true}, \"7\": {\"visible\": true}, \"8\": {\"visible\": true}, \"9\": {\"visible\": true}}}, \"animation\": {}}}",
        "{\"type\": \"update\", \"queue\": \"default\", \"data\": {\"attributes\": {\"edges\": {\"0-1\": {\"visible\": true, \"source\": \"0\", \"target\": \"1\"}, \"0-4\": {\"visible\": true, \"source\": \"0\", \"target\": \"4\"}, \"0-6\": {\"visible\": true, \"source\": \"0\", \"target\": \"6\"}, \"0-7\": {\"visible\": true, \"source\": \"0\", \"target\": \"7\"}, \"1-9\": {\"visible\": true, \"source\": \"1\", \"target\": \"9\"}, \"2-3\": {\"visible\": true, \"source\": \"2\", \"target\": \"3\"}, \"2-5\": {\"visible\": true, \"source\": \"2\", \"target\": \"5\"}, \"2-8\": {\"visible\": true, \"source\": \"2\", \"target\": \"8\"}, \"2-9\": {\"visible\": true, \"source\": \"2\", \"target\": \"9\"}, \"3-4\": {\"visible\": true, \"source\": \"3\", \"target\": \"4\"}, \"3-6\": {\"visible\": true, \"source\": \"3\", \"target\": \"6\"}, \"6-7\": {\"visible\": true, \"source\": \"6\", \"target\": \"7\"}, \"7-8\": {\"visible\": true, \"source\": \"7\", \"target\": \"8\"}, \"7-9\": {\"visible\": true, \"source\": \"7\", \"target\": \"9\"}}}, \"animation\": {}}}",
        "{\"type\": \"update\", \"queue\": \"default\", \"data\": {\"attributes\": {\"edges\": {\"0-1\": {\"directed\": true}, \"0-4\": {\"directed\": true}, \"0-6\": {\"directed\": true}, \"0-7\": {\"directed\": true}, \"1-9\": {\"directed\": true}, \"2-3\": {\"directed\": true}, \"2-5\": {\"directed\": true}, \"2-8\": {\"directed\": true}, \"2-9\": {\"directed\": true}, \"3-4\": {\"directed\": true}, \"3-6\": {\"directed\": true}, \"6-7\": {\"directed\": true}, \"7-8\": {\"directed\": true}, \"7-9\": {\"directed\": true}}}, \"animation\": {\"**\": {\"duration\": 0}}}}",
        "{\"type\": \"update\", \"queue\": \"default\", \"data\": {\"attributes\": {\"edges\": {\"0-1\": {\"labels\": {\"weight\": {\"visible\": true}}}, \"0-4\": {\"labels\": {\"weight\": {\"visible\": true}}}, \"0-6\": {\"labels\": {\"weight\": {\"visible\": true}}}, \"0-7\": {\"labels\": {\"weight\": {\"visible\": true}}}, \"1-9\": {\"labels\": {\"weight\": {\"visible\": true}}}, \"2-3\": {\"labels\": {\"weight\": {\"visible\": true}}}, \"2-5\": {\"labels\": {\"weight\": {\"visible\": true}}}, \"2-8\": {\"labels\": {\"weight\": {\"visible\": true}}}, \"2-9\": {\"labels\": {\"weight\": {\"visible\": true}}}, \"3-4\": {\"labels\": {\"weight\": {\"visible\": true}}}, \"3-6\": {\"labels\": {\"weight\": {\"visible\": true}}}, \"6-7\": {\"labels\": {\"weight\": {\"visible\": true}}}, \"7-8\": {\"labels\": {\"weight\": {\"visible\": true}}}, \"7-9\": {\"labels\": {\"weight\": {\"visible\": true}}}}}, \"animation\": {\"**\": {\"duration\": 0}}}}",
        "{\"type\": \"update\", \"queue\": \"default\", \"data\": {\"attributes\": {\"edges\": {\"0-1\": {\"labels\": {\"weight\": {\"text\": 1}}}, \"0-4\": {\"labels\": {\"weight\": {\"text\": 8}}}, \"0-6\": {\"labels\": {\"weight\": {\"text\": 7}}}, \"0-7\": {\"labels\": {\"weight\": {\"text\": 6}}}, \"1-9\": {\"labels\": {\"weight\": {\"text\": 5}}}, \"2-3\": {\"labels\": {\"weight\": {\"text\": 8}}}, \"2-5\": {\"labels\": {\"weight\": {\"text\": 6}}}, \"2-8\": {\"labels\": {\"weight\": {\"text\": 7}}}, \"2-9\": {\"labels\": {\"weight\": {\"text\": 4}}}, \"3-4\": {\"labels\": {\"weight\": {\"text\": 5}}}, \"3-6\": {\"labels\": {\"weight\": {\"text\": 9}}}, \"6-7\": {\"labels\": {\"weight\": {\"text\": 8}}}, \"7-8\": {\"labels\": {\"weight\": {\"text\": 7}}}, \"7-9\": {\"labels\": {\"weight\": {\"text\": 1}}}}}, \"animation\": {\"**\": {\"duration\": 0}}}}"
       ],
       "layout": "IPY_MODEL_a37b51010b9f46b6bd7de8247a2492d9"
      }
     },
     "9c592820c0604931a021f9e5ae792bd6": {
      "model_module": "@jupyter-widgets/base",
      "model_module_version": "1.1.0",
      "model_name": "LayoutModel",
      "state": {}
     },
     "9fb7b115977d4893a3ea91a14f01ed48": {
      "model_module": "algorithmx-jupyter",
      "model_module_version": "^2.0.0",
      "model_name": "AlgorithmxModel",
      "state": {
       "_model_module_version": "^2.0.0",
       "_view_module_version": "^2.0.0",
       "events": [
        "{\"type\": \"update\", \"queue\": \"default\", \"data\": {\"attributes\": {\"nodes\": {\"1\": {\"visible\": true}, \"2\": {\"visible\": true}, \"3\": {\"visible\": true}}}, \"animation\": {}}}",
        "{\"type\": \"update\", \"queue\": \"default\", \"data\": {\"attributes\": {\"edges\": {\"1-2\": {\"visible\": true, \"source\": \"1\", \"target\": \"2\"}, \"2-3\": {\"visible\": true, \"source\": \"2\", \"target\": \"3\"}, \"1-3\": {\"visible\": true, \"source\": \"3\", \"target\": \"1\"}}}, \"animation\": {}}}",
        "{\"type\": \"update\", \"queue\": \"default\", \"data\": {\"attributes\": {\"edges\": {\"1-2\": {\"directed\": true}, \"2-3\": {\"directed\": true}, \"1-3\": {\"directed\": true}}}, \"animation\": {\"**\": {\"duration\": 0}}}}",
        "{\"type\": \"update\", \"queue\": \"default\", \"data\": {\"attributes\": {\"edges\": {\"1-2\": {\"labels\": {\"weight\": {\"visible\": true}}}, \"2-3\": {\"labels\": {\"weight\": {\"visible\": true}}}, \"1-3\": {\"labels\": {\"weight\": {\"visible\": true}}}}}, \"animation\": {\"**\": {\"duration\": 0}}}}",
        "{\"type\": \"update\", \"queue\": \"default\", \"data\": {\"attributes\": {\"edges\": {\"1-2\": {\"labels\": {\"weight\": {\"text\": 0.4}}}, \"2-3\": {\"labels\": {\"weight\": {\"text\": 0.2}}}, \"1-3\": {\"labels\": {\"weight\": {\"text\": 0.3}}}}}, \"animation\": {\"**\": {\"duration\": 0}}}}"
       ],
       "layout": "IPY_MODEL_24c7c6bbbea84255968b195cdb6c9bd4"
      }
     },
     "a15e02b26d4844f6acb8a9253a4fcdc7": {
      "model_module": "algorithmx-jupyter",
      "model_module_version": "^2.0.0",
      "model_name": "AlgorithmxModel",
      "state": {
       "_model_module_version": "^2.0.0",
       "_view_module_version": "^2.0.0",
       "events": [
        "{\"type\": \"update\", \"queue\": \"default\", \"data\": {\"attributes\": {\"nodes\": {\"1\": {\"visible\": true}, \"2\": {\"visible\": true}, \"3\": {\"visible\": true}}}, \"animation\": {}}}",
        "{\"type\": \"update\", \"queue\": \"default\", \"data\": {\"attributes\": {\"edges\": {\"1-2\": {\"visible\": true, \"source\": \"1\", \"target\": \"2\"}, \"1-3\": {\"visible\": true, \"source\": \"1\", \"target\": \"3\"}, \"2-3\": {\"visible\": true, \"source\": \"2\", \"target\": \"3\"}}}, \"animation\": {}}}",
        "{\"type\": \"update\", \"queue\": \"default\", \"data\": {\"attributes\": {\"edges\": {\"1-2\": {\"labels\": {\"weight\": {\"visible\": true}}}, \"1-3\": {\"labels\": {\"weight\": {\"visible\": true}}}, \"2-3\": {\"labels\": {\"weight\": {\"visible\": true}}}}}, \"animation\": {\"**\": {\"duration\": 0}}}}",
        "{\"type\": \"update\", \"queue\": \"default\", \"data\": {\"attributes\": {\"edges\": {\"1-2\": {\"labels\": {\"weight\": {\"text\": 0.4}}}, \"1-3\": {\"labels\": {\"weight\": {\"text\": 0.3}}}, \"2-3\": {\"labels\": {\"weight\": {\"text\": 0.2}}}}}, \"animation\": {\"**\": {\"duration\": 0}}}}"
       ],
       "layout": "IPY_MODEL_8718d253545344f384e2321875a04901"
      }
     },
     "a37b51010b9f46b6bd7de8247a2492d9": {
      "model_module": "@jupyter-widgets/base",
      "model_module_version": "1.1.0",
      "model_name": "LayoutModel",
      "state": {}
     },
     "a40a5242701747e1b0c21222673d063b": {
      "model_module": "@jupyter-widgets/base",
      "model_module_version": "1.1.0",
      "model_name": "LayoutModel",
      "state": {}
     },
     "ad6ae1c190eb4214a9ca8dcc0a37d406": {
      "model_module": "@jupyter-widgets/base",
      "model_module_version": "1.1.0",
      "model_name": "LayoutModel",
      "state": {}
     },
     "aebd96343f63410e992fffc4bb1c0160": {
      "model_module": "@jupyter-widgets/base",
      "model_module_version": "1.1.0",
      "model_name": "LayoutModel",
      "state": {}
     },
     "aee5befd721a4edcbb12c449b3cac699": {
      "model_module": "@jupyter-widgets/base",
      "model_module_version": "1.1.0",
      "model_name": "LayoutModel",
      "state": {}
     },
     "b0892713ca0c451d9f7d3fb85167c3bb": {
      "model_module": "algorithmx-jupyter",
      "model_module_version": "^2.0.0",
      "model_name": "AlgorithmxModel",
      "state": {
       "_model_module_version": "^2.0.0",
       "_view_module_version": "^2.0.0",
       "events": [
        "{\"type\": \"update\", \"queue\": \"default\", \"data\": {\"attributes\": {\"nodes\": {\"1\": {\"visible\": true}, \"2\": {\"visible\": true}, \"3\": {\"visible\": true}, \"4\": {\"visible\": true}, \"5\": {\"visible\": true}}}, \"animation\": {}}}",
        "{\"type\": \"update\", \"queue\": \"default\", \"data\": {\"attributes\": {\"nodes\": {\"1\": {\"shape\": \"rect\", \"size\": [20, 12]}, \"2\": {\"shape\": \"rect\", \"size\": [20, 12]}, \"3\": {\"shape\": \"rect\", \"size\": [20, 12]}, \"4\": {\"shape\": \"rect\", \"size\": [20, 12]}, \"5\": {\"shape\": \"rect\", \"size\": [20, 12]}}}, \"animation\": {\"**\": {\"duration\": 0}}}}",
        "{\"type\": \"update\", \"queue\": \"default\", \"data\": {\"attributes\": {\"nodes\": {\"1\": {\"color\": \"red\"}, \"2\": {\"color\": \"green\"}, \"3\": {\"color\": \"blue\"}, \"4\": {\"color\": \"orange\"}, \"5\": {\"color\": \"purple\"}}}, \"animation\": {\"**\": {\"duration\": 0}}}}",
        "{\"type\": \"update\", \"queue\": \"default\", \"data\": {\"attributes\": {\"edges\": {\"1-2\": {\"visible\": true, \"source\": \"1\", \"target\": \"2\"}, \"2-3\": {\"visible\": true, \"source\": \"2\", \"target\": \"3\"}, \"2-4\": {\"visible\": true, \"source\": \"2\", \"target\": \"4\"}, \"2-5\": {\"visible\": true, \"source\": \"2\", \"target\": \"5\"}}}, \"animation\": {}}}"
       ],
       "layout": "IPY_MODEL_9c592820c0604931a021f9e5ae792bd6"
      }
     },
     "b8e29f08d222497ab022549200732148": {
      "model_module": "@jupyter-widgets/base",
      "model_module_version": "1.1.0",
      "model_name": "LayoutModel",
      "state": {}
     },
     "ba0acfce6c994b798a1f8b56f40e592d": {
      "model_module": "@jupyter-widgets/base",
      "model_module_version": "1.1.0",
      "model_name": "LayoutModel",
      "state": {}
     },
     "babc6c88fc2843c69dc1362780dbe670": {
      "model_module": "@jupyter-widgets/base",
      "model_module_version": "1.1.0",
      "model_name": "LayoutModel",
      "state": {}
     },
     "be453f02e5924e56a9c869095df84165": {
      "model_module": "algorithmx-jupyter",
      "model_module_version": "^2.0.0",
      "model_name": "AlgorithmxModel",
      "state": {
       "_model_module_version": "^2.0.0",
       "_view_module_version": "^2.0.0",
       "events": [
        "{\"type\": \"update\", \"queue\": \"default\", \"data\": {\"attributes\": {\"nodes\": {\"1\": {\"visible\": true}, \"2\": {\"visible\": true}, \"3\": {\"visible\": true}}}, \"animation\": {}}}",
        "{\"type\": \"update\", \"queue\": \"default\", \"data\": {\"attributes\": {\"edges\": {\"1-2\": {\"visible\": true, \"source\": \"1\", \"target\": \"2\"}, \"2-3\": {\"visible\": true, \"source\": \"2\", \"target\": \"3\"}, \"1-3\": {\"visible\": true, \"source\": \"3\", \"target\": \"1\"}}}, \"animation\": {}}}",
        "{\"type\": \"update\", \"queue\": \"default\", \"data\": {\"attributes\": {\"edges\": {\"1-2\": {\"directed\": true}, \"2-3\": {\"directed\": true}, \"1-3\": {\"directed\": true}}}, \"animation\": {\"**\": {\"duration\": 0}}}}",
        "{\"type\": \"update\", \"queue\": \"default\", \"data\": {\"attributes\": {\"edges\": {\"1-2\": {\"labels\": {\"weight\": {\"visible\": true}}}, \"2-3\": {\"labels\": {\"weight\": {\"visible\": true}}}, \"1-3\": {\"labels\": {\"weight\": {\"visible\": true}}}}}, \"animation\": {\"**\": {\"duration\": 0}}}}",
        "{\"type\": \"update\", \"queue\": \"default\", \"data\": {\"attributes\": {\"edges\": {\"1-2\": {\"labels\": {\"weight\": {\"text\": 0.4}}}, \"2-3\": {\"labels\": {\"weight\": {\"text\": 0.2}}}, \"1-3\": {\"labels\": {\"weight\": {\"text\": 0.3}}}}}, \"animation\": {\"**\": {\"duration\": 0}}}}"
       ],
       "layout": "IPY_MODEL_6ef7cd42937b4ba181a22a35673ed07a"
      }
     },
     "be69a568f2594823a3a548340db2c60b": {
      "model_module": "algorithmx-jupyter",
      "model_module_version": "^2.0.0",
      "model_name": "AlgorithmxModel",
      "state": {
       "_model_module_version": "^2.0.0",
       "_view_module_version": "^2.0.0",
       "events": [
        "{\"type\": \"update\", \"queue\": \"default\", \"data\": {\"attributes\": {\"nodes\": {\"0\": {\"visible\": true}, \"1\": {\"visible\": true}, \"2\": {\"visible\": true}, \"3\": {\"visible\": true}, \"4\": {\"visible\": true}, \"5\": {\"visible\": true}, \"6\": {\"visible\": true}, \"7\": {\"visible\": true}, \"8\": {\"visible\": true}, \"9\": {\"visible\": true}}}, \"animation\": {}}}",
        "{\"type\": \"update\", \"queue\": \"default\", \"data\": {\"attributes\": {\"edges\": {\"0-1\": {\"visible\": true, \"source\": \"1\", \"target\": \"0\"}, \"0-4\": {\"visible\": true, \"source\": \"4\", \"target\": \"0\"}, \"0-6\": {\"visible\": true, \"source\": \"6\", \"target\": \"0\"}, \"0-7\": {\"visible\": true, \"source\": \"7\", \"target\": \"0\"}, \"1-9\": {\"visible\": true, \"source\": \"9\", \"target\": \"1\"}, \"2-3\": {\"visible\": true, \"source\": \"3\", \"target\": \"2\"}, \"2-5\": {\"visible\": true, \"source\": \"5\", \"target\": \"2\"}, \"2-8\": {\"visible\": true, \"source\": \"8\", \"target\": \"2\"}, \"2-9\": {\"visible\": true, \"source\": \"9\", \"target\": \"2\"}, \"3-4\": {\"visible\": true, \"source\": \"4\", \"target\": \"3\"}, \"3-6\": {\"visible\": true, \"source\": \"6\", \"target\": \"3\"}, \"6-7\": {\"visible\": true, \"source\": \"7\", \"target\": \"6\"}, \"7-8\": {\"visible\": true, \"source\": \"8\", \"target\": \"7\"}, \"7-9\": {\"visible\": true, \"source\": \"9\", \"target\": \"7\"}}}, \"animation\": {}}}",
        "{\"type\": \"update\", \"queue\": \"default\", \"data\": {\"attributes\": {\"edges\": {\"0-1\": {\"directed\": true}, \"0-4\": {\"directed\": true}, \"0-6\": {\"directed\": true}, \"0-7\": {\"directed\": true}, \"1-9\": {\"directed\": true}, \"2-3\": {\"directed\": true}, \"2-5\": {\"directed\": true}, \"2-8\": {\"directed\": true}, \"2-9\": {\"directed\": true}, \"3-4\": {\"directed\": true}, \"3-6\": {\"directed\": true}, \"6-7\": {\"directed\": true}, \"7-8\": {\"directed\": true}, \"7-9\": {\"directed\": true}}}, \"animation\": {\"**\": {\"duration\": 0}}}}",
        "{\"type\": \"update\", \"queue\": \"default\", \"data\": {\"attributes\": {\"edges\": {\"0-1\": {\"labels\": {\"weight\": {\"visible\": true}}}, \"0-4\": {\"labels\": {\"weight\": {\"visible\": true}}}, \"0-6\": {\"labels\": {\"weight\": {\"visible\": true}}}, \"0-7\": {\"labels\": {\"weight\": {\"visible\": true}}}, \"1-9\": {\"labels\": {\"weight\": {\"visible\": true}}}, \"2-3\": {\"labels\": {\"weight\": {\"visible\": true}}}, \"2-5\": {\"labels\": {\"weight\": {\"visible\": true}}}, \"2-8\": {\"labels\": {\"weight\": {\"visible\": true}}}, \"2-9\": {\"labels\": {\"weight\": {\"visible\": true}}}, \"3-4\": {\"labels\": {\"weight\": {\"visible\": true}}}, \"3-6\": {\"labels\": {\"weight\": {\"visible\": true}}}, \"6-7\": {\"labels\": {\"weight\": {\"visible\": true}}}, \"7-8\": {\"labels\": {\"weight\": {\"visible\": true}}}, \"7-9\": {\"labels\": {\"weight\": {\"visible\": true}}}}}, \"animation\": {\"**\": {\"duration\": 0}}}}",
        "{\"type\": \"update\", \"queue\": \"default\", \"data\": {\"attributes\": {\"edges\": {\"0-1\": {\"labels\": {\"weight\": {\"text\": 2}}}, \"0-4\": {\"labels\": {\"weight\": {\"text\": 9}}}, \"0-6\": {\"labels\": {\"weight\": {\"text\": 2}}}, \"0-7\": {\"labels\": {\"weight\": {\"text\": 10}}}, \"1-9\": {\"labels\": {\"weight\": {\"text\": 5}}}, \"2-3\": {\"labels\": {\"weight\": {\"text\": 2}}}, \"2-5\": {\"labels\": {\"weight\": {\"text\": 7}}}, \"2-8\": {\"labels\": {\"weight\": {\"text\": 6}}}, \"2-9\": {\"labels\": {\"weight\": {\"text\": 4}}}, \"3-4\": {\"labels\": {\"weight\": {\"text\": 3}}}, \"3-6\": {\"labels\": {\"weight\": {\"text\": 1}}}, \"6-7\": {\"labels\": {\"weight\": {\"text\": 4}}}, \"7-8\": {\"labels\": {\"weight\": {\"text\": 7}}}, \"7-9\": {\"labels\": {\"weight\": {\"text\": 7}}}}}, \"animation\": {\"**\": {\"duration\": 0}}}}"
       ],
       "layout": "IPY_MODEL_f75f9512a2884094b562d124f828bf18"
      }
     },
     "c0bccd148f694477a7c597a69e12f5b4": {
      "model_module": "@jupyter-widgets/base",
      "model_module_version": "1.1.0",
      "model_name": "LayoutModel",
      "state": {}
     },
     "c0d4a36373784d8ca0e3db2a16d5eff1": {
      "model_module": "algorithmx-jupyter",
      "model_module_version": "^2.0.0",
      "model_name": "AlgorithmxModel",
      "state": {
       "_model_module_version": "^2.0.0",
       "_view_module_version": "^2.0.0",
       "events": [
        "{\"type\": \"update\", \"queue\": \"default\", \"data\": {\"attributes\": {\"nodes\": {\"1\": {\"visible\": true}, \"2\": {\"visible\": true}, \"3\": {\"visible\": true}}}, \"animation\": {}}}",
        "{\"type\": \"update\", \"queue\": \"default\", \"data\": {\"attributes\": {\"edges\": {\"1-2\": {\"visible\": true, \"source\": \"1\", \"target\": \"2\"}, \"2-3\": {\"visible\": true, \"source\": \"2\", \"target\": \"3\"}, \"1-3\": {\"visible\": true, \"source\": \"3\", \"target\": \"1\"}}}, \"animation\": {}}}",
        "{\"type\": \"update\", \"queue\": \"default\", \"data\": {\"attributes\": {\"edges\": {\"1-2\": {\"directed\": true}, \"2-3\": {\"directed\": true}, \"1-3\": {\"directed\": true}}}, \"animation\": {\"**\": {\"duration\": 0}}}}",
        "{\"type\": \"update\", \"queue\": \"default\", \"data\": {\"attributes\": {\"edges\": {\"1-2\": {\"labels\": {\"weight\": {\"visible\": true}}}, \"2-3\": {\"labels\": {\"weight\": {\"visible\": true}}}, \"1-3\": {\"labels\": {\"weight\": {\"visible\": true}}}}}, \"animation\": {\"**\": {\"duration\": 0}}}}",
        "{\"type\": \"update\", \"queue\": \"default\", \"data\": {\"attributes\": {\"edges\": {\"1-2\": {\"labels\": {\"weight\": {\"text\": 0.4}}}, \"2-3\": {\"labels\": {\"weight\": {\"text\": 0.2}}}, \"1-3\": {\"labels\": {\"weight\": {\"text\": 0.3}}}}}, \"animation\": {\"**\": {\"duration\": 0}}}}"
       ],
       "layout": "IPY_MODEL_1a1057c2e9064a9cae7c5b92cc393d8c"
      }
     },
     "c364d46de4d1413e9f03d84d68833069": {
      "model_module": "@jupyter-widgets/base",
      "model_module_version": "1.1.0",
      "model_name": "LayoutModel",
      "state": {}
     },
     "c49aca93ee264470959e485f5da043c1": {
      "model_module": "algorithmx-jupyter",
      "model_module_version": "^2.0.0",
      "model_name": "AlgorithmxModel",
      "state": {
       "_model_module_version": "^2.0.0",
       "_view_module_version": "^2.0.0",
       "events": [
        "{\"type\": \"update\", \"queue\": \"default\", \"data\": {\"attributes\": {\"nodes\": {\"0\": {\"visible\": true}, \"1\": {\"visible\": true}, \"2\": {\"visible\": true}, \"3\": {\"visible\": true}, \"4\": {\"visible\": true}, \"5\": {\"visible\": true}, \"6\": {\"visible\": true}, \"7\": {\"visible\": true}, \"8\": {\"visible\": true}, \"9\": {\"visible\": true}}}, \"animation\": {}}}",
        "{\"type\": \"update\", \"queue\": \"default\", \"data\": {\"attributes\": {\"nodes\": {\"0\": {\"color\": \"orange\"}, \"1\": {\"color\": \"yellow\"}, \"2\": {\"color\": \"orange\"}, \"3\": {\"color\": \"yellow\"}, \"4\": {\"color\": \"red\"}, \"5\": {\"color\": \"red\"}, \"6\": {\"color\": \"red\"}, \"7\": {\"color\": \"yellow\"}, \"8\": {\"color\": \"orange\"}, \"9\": {\"color\": \"yellow\"}}}, \"animation\": {\"**\": {\"duration\": 0}}}}",
        "{\"type\": \"update\", \"queue\": \"default\", \"data\": {\"attributes\": {\"edges\": {\"0-1\": {\"visible\": true, \"source\": \"0\", \"target\": \"1\"}, \"0-3\": {\"visible\": true, \"source\": \"0\", \"target\": \"3\"}, \"0-4\": {\"visible\": true, \"source\": \"0\", \"target\": \"4\"}, \"1-4\": {\"visible\": true, \"source\": \"1\", \"target\": \"4\"}, \"1-8\": {\"visible\": true, \"source\": \"1\", \"target\": \"8\"}, \"2-3\": {\"visible\": true, \"source\": \"2\", \"target\": \"3\"}, \"2-4\": {\"visible\": true, \"source\": \"2\", \"target\": \"4\"}, \"2-5\": {\"visible\": true, \"source\": \"2\", \"target\": \"5\"}, \"2-6\": {\"visible\": true, \"source\": \"2\", \"target\": \"6\"}, \"2-7\": {\"visible\": true, \"source\": \"2\", \"target\": \"7\"}, \"3-4\": {\"visible\": true, \"source\": \"3\", \"target\": \"4\"}, \"3-6\": {\"visible\": true, \"source\": \"3\", \"target\": \"6\"}, \"4-8\": {\"visible\": true, \"source\": \"4\", \"target\": \"8\"}, \"4-9\": {\"visible\": true, \"source\": \"4\", \"target\": \"9\"}, \"6-7\": {\"visible\": true, \"source\": \"6\", \"target\": \"7\"}, \"8-9\": {\"visible\": true, \"source\": \"8\", \"target\": \"9\"}}}, \"animation\": {}}}",
        "{\"type\": \"update\", \"queue\": \"default\", \"data\": {\"attributes\": {\"edges\": {\"0-1\": {\"labels\": {\"weight\": {\"visible\": true}}}, \"0-3\": {\"labels\": {\"weight\": {\"visible\": true}}}, \"0-4\": {\"labels\": {\"weight\": {\"visible\": true}}}, \"1-4\": {\"labels\": {\"weight\": {\"visible\": true}}}, \"1-8\": {\"labels\": {\"weight\": {\"visible\": true}}}, \"2-3\": {\"labels\": {\"weight\": {\"visible\": true}}}, \"2-4\": {\"labels\": {\"weight\": {\"visible\": true}}}, \"2-5\": {\"labels\": {\"weight\": {\"visible\": true}}}, \"2-6\": {\"labels\": {\"weight\": {\"visible\": true}}}, \"2-7\": {\"labels\": {\"weight\": {\"visible\": true}}}, \"3-4\": {\"labels\": {\"weight\": {\"visible\": true}}}, \"3-6\": {\"labels\": {\"weight\": {\"visible\": true}}}, \"4-8\": {\"labels\": {\"weight\": {\"visible\": true}}}, \"4-9\": {\"labels\": {\"weight\": {\"visible\": true}}}, \"6-7\": {\"labels\": {\"weight\": {\"visible\": true}}}, \"8-9\": {\"labels\": {\"weight\": {\"visible\": true}}}}}, \"animation\": {\"**\": {\"duration\": 0}}}}",
        "{\"type\": \"update\", \"queue\": \"default\", \"data\": {\"attributes\": {\"edges\": {\"0-1\": {\"labels\": {\"weight\": {\"text\": 2}}}, \"0-3\": {\"labels\": {\"weight\": {\"text\": 3}}}, \"0-4\": {\"labels\": {\"weight\": {\"text\": 5}}}, \"1-4\": {\"labels\": {\"weight\": {\"text\": 5}}}, \"1-8\": {\"labels\": {\"weight\": {\"text\": 7}}}, \"2-3\": {\"labels\": {\"weight\": {\"text\": 6}}}, \"2-4\": {\"labels\": {\"weight\": {\"text\": 6}}}, \"2-5\": {\"labels\": {\"weight\": {\"text\": 6}}}, \"2-6\": {\"labels\": {\"weight\": {\"text\": 10}}}, \"2-7\": {\"labels\": {\"weight\": {\"text\": 7}}}, \"3-4\": {\"labels\": {\"weight\": {\"text\": 9}}}, \"3-6\": {\"labels\": {\"weight\": {\"text\": 4}}}, \"4-8\": {\"labels\": {\"weight\": {\"text\": 10}}}, \"4-9\": {\"labels\": {\"weight\": {\"text\": 10}}}, \"6-7\": {\"labels\": {\"weight\": {\"text\": 9}}}, \"8-9\": {\"labels\": {\"weight\": {\"text\": 1}}}}}, \"animation\": {\"**\": {\"duration\": 0}}}}",
        "{\"type\": \"update\", \"queue\": \"default\", \"data\": {\"attributes\": {\"edges\": {\"0-1\": {\"labels\": {\"centrality\": {\"visible\": true}}}, \"0-3\": {\"labels\": {\"centrality\": {\"visible\": true}}}, \"0-4\": {\"labels\": {\"centrality\": {\"visible\": true}}}, \"1-4\": {\"labels\": {\"centrality\": {\"visible\": true}}}, \"1-8\": {\"labels\": {\"centrality\": {\"visible\": true}}}, \"2-3\": {\"labels\": {\"centrality\": {\"visible\": true}}}, \"2-4\": {\"labels\": {\"centrality\": {\"visible\": true}}}, \"2-5\": {\"labels\": {\"centrality\": {\"visible\": true}}}, \"2-6\": {\"labels\": {\"centrality\": {\"visible\": true}}}, \"2-7\": {\"labels\": {\"centrality\": {\"visible\": true}}}, \"3-4\": {\"labels\": {\"centrality\": {\"visible\": true}}}, \"3-6\": {\"labels\": {\"centrality\": {\"visible\": true}}}, \"4-8\": {\"labels\": {\"centrality\": {\"visible\": true}}}, \"4-9\": {\"labels\": {\"centrality\": {\"visible\": true}}}, \"6-7\": {\"labels\": {\"centrality\": {\"visible\": true}}}, \"8-9\": {\"labels\": {\"centrality\": {\"visible\": true}}}}}, \"animation\": {\"**\": {\"duration\": 0}}}}",
        "{\"type\": \"update\", \"queue\": \"default\", \"data\": {\"attributes\": {\"edges\": {\"0-1\": {\"labels\": {\"centrality\": {\"color\": \"blue\"}}}, \"0-3\": {\"labels\": {\"centrality\": {\"color\": \"blue\"}}}, \"0-4\": {\"labels\": {\"centrality\": {\"color\": \"blue\"}}}, \"1-4\": {\"labels\": {\"centrality\": {\"color\": \"blue\"}}}, \"1-8\": {\"labels\": {\"centrality\": {\"color\": \"blue\"}}}, \"2-3\": {\"labels\": {\"centrality\": {\"color\": \"blue\"}}}, \"2-4\": {\"labels\": {\"centrality\": {\"color\": \"blue\"}}}, \"2-5\": {\"labels\": {\"centrality\": {\"color\": \"blue\"}}}, \"2-6\": {\"labels\": {\"centrality\": {\"color\": \"blue\"}}}, \"2-7\": {\"labels\": {\"centrality\": {\"color\": \"blue\"}}}, \"3-4\": {\"labels\": {\"centrality\": {\"color\": \"blue\"}}}, \"3-6\": {\"labels\": {\"centrality\": {\"color\": \"blue\"}}}, \"4-8\": {\"labels\": {\"centrality\": {\"color\": \"blue\"}}}, \"4-9\": {\"labels\": {\"centrality\": {\"color\": \"blue\"}}}, \"6-7\": {\"labels\": {\"centrality\": {\"color\": \"blue\"}}}, \"8-9\": {\"labels\": {\"centrality\": {\"color\": \"blue\"}}}}}, \"animation\": {\"**\": {\"duration\": 0}}}}",
        "{\"type\": \"update\", \"queue\": \"default\", \"data\": {\"attributes\": {\"edges\": {\"0-1\": {\"labels\": {\"centrality\": {\"text\": \"0.24\"}}}, \"0-3\": {\"labels\": {\"centrality\": {\"text\": \"0.33\"}}}, \"0-4\": {\"labels\": {\"centrality\": {\"text\": \"0.07\"}}}, \"1-4\": {\"labels\": {\"centrality\": {\"text\": \"0.05\"}}}, \"1-8\": {\"labels\": {\"centrality\": {\"text\": \"0.18\"}}}, \"2-3\": {\"labels\": {\"centrality\": {\"text\": \"0.16\"}}}, \"2-4\": {\"labels\": {\"centrality\": {\"text\": \"0.23\"}}}, \"2-5\": {\"labels\": {\"centrality\": {\"text\": \"0.20\"}}}, \"2-6\": {\"labels\": {\"centrality\": {\"text\": \"0.02\"}}}, \"2-7\": {\"labels\": {\"centrality\": {\"text\": \"0.15\"}}}, \"3-4\": {\"labels\": {\"centrality\": {\"text\": \"0.00\"}}}, \"3-6\": {\"labels\": {\"centrality\": {\"text\": \"0.19\"}}}, \"4-8\": {\"labels\": {\"centrality\": {\"text\": \"0.09\"}}}, \"4-9\": {\"labels\": {\"centrality\": {\"text\": \"0.09\"}}}, \"6-7\": {\"labels\": {\"centrality\": {\"text\": \"0.05\"}}}, \"8-9\": {\"labels\": {\"centrality\": {\"text\": \"0.11\"}}}}}, \"animation\": {\"**\": {\"duration\": 0}}}}"
       ],
       "layout": "IPY_MODEL_f21d498299284d8180fe23b79702bd7b"
      }
     },
     "c4ca313a6481418783df344b55abbc4a": {
      "model_module": "@jupyter-widgets/base",
      "model_module_version": "1.1.0",
      "model_name": "LayoutModel",
      "state": {}
     },
     "c5ffdf3056be4b2485e66c090af77ca1": {
      "model_module": "@jupyter-widgets/base",
      "model_module_version": "1.1.0",
      "model_name": "LayoutModel",
      "state": {}
     },
     "ca43ff6e418d4605a7b13a3b23956b47": {
      "model_module": "algorithmx-jupyter",
      "model_module_version": "^2.0.0",
      "model_name": "AlgorithmxModel",
      "state": {
       "_model_module_version": "^2.0.0",
       "_view_module_version": "^2.0.0",
       "events": [
        "{\"type\": \"update\", \"queue\": \"default\", \"data\": {\"attributes\": {\"nodes\": {\"0\": {\"visible\": true}, \"1\": {\"visible\": true}, \"2\": {\"visible\": true}, \"3\": {\"visible\": true}, \"4\": {\"visible\": true}, \"5\": {\"visible\": true}, \"6\": {\"visible\": true}, \"7\": {\"visible\": true}, \"8\": {\"visible\": true}, \"9\": {\"visible\": true}}}, \"animation\": {}}}",
        "{\"type\": \"update\", \"queue\": \"default\", \"data\": {\"attributes\": {\"nodes\": {\"0\": {\"color\": \"orange\"}, \"1\": {\"color\": \"yellow\"}, \"2\": {\"color\": \"orange\"}, \"3\": {\"color\": \"yellow\"}, \"4\": {\"color\": \"red\"}, \"5\": {\"color\": \"red\"}, \"6\": {\"color\": \"red\"}, \"7\": {\"color\": \"yellow\"}, \"8\": {\"color\": \"orange\"}, \"9\": {\"color\": \"yellow\"}}}, \"animation\": {\"**\": {\"duration\": 0}}}}",
        "{\"type\": \"update\", \"queue\": \"default\", \"data\": {\"attributes\": {\"edges\": {\"0-1\": {\"visible\": true, \"source\": \"0\", \"target\": \"1\"}, \"0-3\": {\"visible\": true, \"source\": \"0\", \"target\": \"3\"}, \"0-4\": {\"visible\": true, \"source\": \"0\", \"target\": \"4\"}, \"1-4\": {\"visible\": true, \"source\": \"1\", \"target\": \"4\"}, \"1-8\": {\"visible\": true, \"source\": \"1\", \"target\": \"8\"}, \"2-3\": {\"visible\": true, \"source\": \"2\", \"target\": \"3\"}, \"2-4\": {\"visible\": true, \"source\": \"2\", \"target\": \"4\"}, \"2-5\": {\"visible\": true, \"source\": \"2\", \"target\": \"5\"}, \"2-6\": {\"visible\": true, \"source\": \"2\", \"target\": \"6\"}, \"2-7\": {\"visible\": true, \"source\": \"2\", \"target\": \"7\"}, \"3-4\": {\"visible\": true, \"source\": \"3\", \"target\": \"4\"}, \"3-6\": {\"visible\": true, \"source\": \"3\", \"target\": \"6\"}, \"4-8\": {\"visible\": true, \"source\": \"4\", \"target\": \"8\"}, \"4-9\": {\"visible\": true, \"source\": \"4\", \"target\": \"9\"}, \"6-7\": {\"visible\": true, \"source\": \"6\", \"target\": \"7\"}, \"8-9\": {\"visible\": true, \"source\": \"8\", \"target\": \"9\"}}}, \"animation\": {}}}",
        "{\"type\": \"update\", \"queue\": \"default\", \"data\": {\"attributes\": {\"edges\": {\"0-1\": {\"labels\": {\"weight\": {\"visible\": true}}}, \"0-3\": {\"labels\": {\"weight\": {\"visible\": true}}}, \"0-4\": {\"labels\": {\"weight\": {\"visible\": true}}}, \"1-4\": {\"labels\": {\"weight\": {\"visible\": true}}}, \"1-8\": {\"labels\": {\"weight\": {\"visible\": true}}}, \"2-3\": {\"labels\": {\"weight\": {\"visible\": true}}}, \"2-4\": {\"labels\": {\"weight\": {\"visible\": true}}}, \"2-5\": {\"labels\": {\"weight\": {\"visible\": true}}}, \"2-6\": {\"labels\": {\"weight\": {\"visible\": true}}}, \"2-7\": {\"labels\": {\"weight\": {\"visible\": true}}}, \"3-4\": {\"labels\": {\"weight\": {\"visible\": true}}}, \"3-6\": {\"labels\": {\"weight\": {\"visible\": true}}}, \"4-8\": {\"labels\": {\"weight\": {\"visible\": true}}}, \"4-9\": {\"labels\": {\"weight\": {\"visible\": true}}}, \"6-7\": {\"labels\": {\"weight\": {\"visible\": true}}}, \"8-9\": {\"labels\": {\"weight\": {\"visible\": true}}}}}, \"animation\": {\"**\": {\"duration\": 0}}}}",
        "{\"type\": \"update\", \"queue\": \"default\", \"data\": {\"attributes\": {\"edges\": {\"0-1\": {\"labels\": {\"weight\": {\"text\": 2}}}, \"0-3\": {\"labels\": {\"weight\": {\"text\": 2}}}, \"0-4\": {\"labels\": {\"weight\": {\"text\": 4}}}, \"1-4\": {\"labels\": {\"weight\": {\"text\": 1}}}, \"1-8\": {\"labels\": {\"weight\": {\"text\": 9}}}, \"2-3\": {\"labels\": {\"weight\": {\"text\": 5}}}, \"2-4\": {\"labels\": {\"weight\": {\"text\": 2}}}, \"2-5\": {\"labels\": {\"weight\": {\"text\": 7}}}, \"2-6\": {\"labels\": {\"weight\": {\"text\": 7}}}, \"2-7\": {\"labels\": {\"weight\": {\"text\": 1}}}, \"3-4\": {\"labels\": {\"weight\": {\"text\": 6}}}, \"3-6\": {\"labels\": {\"weight\": {\"text\": 5}}}, \"4-8\": {\"labels\": {\"weight\": {\"text\": 5}}}, \"4-9\": {\"labels\": {\"weight\": {\"text\": 2}}}, \"6-7\": {\"labels\": {\"weight\": {\"text\": 5}}}, \"8-9\": {\"labels\": {\"weight\": {\"text\": 10}}}}}, \"animation\": {\"**\": {\"duration\": 0}}}}",
        "{\"type\": \"update\", \"queue\": \"default\", \"data\": {\"attributes\": {\"edges\": {\"0-1\": {\"labels\": {\"centrality\": {\"visible\": true}}}, \"0-3\": {\"labels\": {\"centrality\": {\"visible\": true}}}, \"0-4\": {\"labels\": {\"centrality\": {\"visible\": true}}}, \"1-4\": {\"labels\": {\"centrality\": {\"visible\": true}}}, \"1-8\": {\"labels\": {\"centrality\": {\"visible\": true}}}, \"2-3\": {\"labels\": {\"centrality\": {\"visible\": true}}}, \"2-4\": {\"labels\": {\"centrality\": {\"visible\": true}}}, \"2-5\": {\"labels\": {\"centrality\": {\"visible\": true}}}, \"2-6\": {\"labels\": {\"centrality\": {\"visible\": true}}}, \"2-7\": {\"labels\": {\"centrality\": {\"visible\": true}}}, \"3-4\": {\"labels\": {\"centrality\": {\"visible\": true}}}, \"3-6\": {\"labels\": {\"centrality\": {\"visible\": true}}}, \"4-8\": {\"labels\": {\"centrality\": {\"visible\": true}}}, \"4-9\": {\"labels\": {\"centrality\": {\"visible\": true}}}, \"6-7\": {\"labels\": {\"centrality\": {\"visible\": true}}}, \"8-9\": {\"labels\": {\"centrality\": {\"visible\": true}}}}}, \"animation\": {\"**\": {\"duration\": 0}}}}",
        "{\"type\": \"update\", \"queue\": \"default\", \"data\": {\"attributes\": {\"edges\": {\"0-1\": {\"labels\": {\"centrality\": {\"color\": \"blue\"}}}, \"0-3\": {\"labels\": {\"centrality\": {\"color\": \"blue\"}}}, \"0-4\": {\"labels\": {\"centrality\": {\"color\": \"blue\"}}}, \"1-4\": {\"labels\": {\"centrality\": {\"color\": \"blue\"}}}, \"1-8\": {\"labels\": {\"centrality\": {\"color\": \"blue\"}}}, \"2-3\": {\"labels\": {\"centrality\": {\"color\": \"blue\"}}}, \"2-4\": {\"labels\": {\"centrality\": {\"color\": \"blue\"}}}, \"2-5\": {\"labels\": {\"centrality\": {\"color\": \"blue\"}}}, \"2-6\": {\"labels\": {\"centrality\": {\"color\": \"blue\"}}}, \"2-7\": {\"labels\": {\"centrality\": {\"color\": \"blue\"}}}, \"3-4\": {\"labels\": {\"centrality\": {\"color\": \"blue\"}}}, \"3-6\": {\"labels\": {\"centrality\": {\"color\": \"blue\"}}}, \"4-8\": {\"labels\": {\"centrality\": {\"color\": \"blue\"}}}, \"4-9\": {\"labels\": {\"centrality\": {\"color\": \"blue\"}}}, \"6-7\": {\"labels\": {\"centrality\": {\"color\": \"blue\"}}}, \"8-9\": {\"labels\": {\"centrality\": {\"color\": \"blue\"}}}}}, \"animation\": {\"**\": {\"duration\": 0}}}}",
        "{\"type\": \"update\", \"queue\": \"default\", \"data\": {\"attributes\": {\"edges\": {\"0-1\": {\"labels\": {\"centrality\": {\"text\": \"0.26\"}}}, \"0-3\": {\"labels\": {\"centrality\": {\"text\": \"0.14\"}}}, \"0-4\": {\"labels\": {\"centrality\": {\"text\": \"0.00\"}}}, \"1-4\": {\"labels\": {\"centrality\": {\"text\": \"0.34\"}}}, \"1-8\": {\"labels\": {\"centrality\": {\"text\": \"0.00\"}}}, \"2-3\": {\"labels\": {\"centrality\": {\"text\": \"0.07\"}}}, \"2-4\": {\"labels\": {\"centrality\": {\"text\": \"0.41\"}}}, \"2-5\": {\"labels\": {\"centrality\": {\"text\": \"0.20\"}}}, \"2-6\": {\"labels\": {\"centrality\": {\"text\": \"0.00\"}}}, \"2-7\": {\"labels\": {\"centrality\": {\"text\": \"0.30\"}}}, \"3-4\": {\"labels\": {\"centrality\": {\"text\": \"0.00\"}}}, \"3-6\": {\"labels\": {\"centrality\": {\"text\": \"0.06\"}}}, \"4-8\": {\"labels\": {\"centrality\": {\"text\": \"0.20\"}}}, \"4-9\": {\"labels\": {\"centrality\": {\"text\": \"0.20\"}}}, \"6-7\": {\"labels\": {\"centrality\": {\"text\": \"0.14\"}}}, \"8-9\": {\"labels\": {\"centrality\": {\"text\": \"0.00\"}}}}}, \"animation\": {\"**\": {\"duration\": 0}}}}"
       ],
       "layout": "IPY_MODEL_aee5befd721a4edcbb12c449b3cac699"
      }
     },
     "ce9d1e95d6af42c0bf43ed415e38675e": {
      "model_module": "@jupyter-widgets/base",
      "model_module_version": "1.1.0",
      "model_name": "LayoutModel",
      "state": {}
     },
     "d2c59accc6994e4b97236555d9ef1408": {
      "model_module": "algorithmx-jupyter",
      "model_module_version": "^2.0.0",
      "model_name": "AlgorithmxModel",
      "state": {
       "_model_module_version": "^2.0.0",
       "_view_module_version": "^2.0.0",
       "events": [
        "{\"type\": \"update\", \"queue\": \"default\", \"data\": {\"attributes\": {\"nodes\": {\"1\": {\"visible\": true}, \"2\": {\"visible\": true}, \"3\": {\"visible\": true}}}, \"animation\": {}}}",
        "{\"type\": \"update\", \"queue\": \"default\", \"data\": {\"attributes\": {\"edges\": {\"1-2\": {\"visible\": true, \"source\": \"1\", \"target\": \"2\"}, \"2-3\": {\"visible\": true, \"source\": \"2\", \"target\": \"3\"}, \"1-3\": {\"visible\": true, \"source\": \"3\", \"target\": \"1\"}}}, \"animation\": {}}}",
        "{\"type\": \"update\", \"queue\": \"default\", \"data\": {\"attributes\": {\"edges\": {\"1-2\": {\"directed\": true}, \"2-3\": {\"directed\": true}, \"1-3\": {\"directed\": true}}}, \"animation\": {\"**\": {\"duration\": 0}}}}"
       ],
       "layout": "IPY_MODEL_f57fcdb7144a4159ac7635f65422b62f"
      }
     },
     "db78b771d6104b40a98a85fc33b2da34": {
      "model_module": "algorithmx-jupyter",
      "model_module_version": "^2.0.0",
      "model_name": "AlgorithmxModel",
      "state": {
       "_model_module_version": "^2.0.0",
       "_view_module_version": "^2.0.0",
       "events": [
        "{\"type\": \"update\", \"queue\": \"default\", \"data\": {\"attributes\": {\"nodes\": {\"1\": {\"visible\": true}, \"2\": {\"visible\": true}, \"3\": {\"visible\": true}}}, \"animation\": {}}}",
        "{\"type\": \"update\", \"queue\": \"default\", \"data\": {\"attributes\": {\"edges\": {\"1-2\": {\"visible\": true, \"source\": \"1\", \"target\": \"2\"}, \"2-3\": {\"visible\": true, \"source\": \"2\", \"target\": \"3\"}, \"1-3\": {\"visible\": true, \"source\": \"3\", \"target\": \"1\"}}}, \"animation\": {}}}",
        "{\"type\": \"update\", \"queue\": \"default\", \"data\": {\"attributes\": {\"edges\": {\"1-2\": {\"directed\": true}, \"2-3\": {\"directed\": true}, \"1-3\": {\"directed\": true}}}, \"animation\": {\"**\": {\"duration\": 0}}}}",
        "{\"type\": \"update\", \"queue\": \"default\", \"data\": {\"attributes\": {\"edges\": {\"1-2\": {\"labels\": {\"weight\": {\"visible\": true}}}, \"2-3\": {\"labels\": {\"weight\": {\"visible\": true}}}, \"1-3\": {\"labels\": {\"weight\": {\"visible\": true}}}}}, \"animation\": {\"**\": {\"duration\": 0}}}}",
        "{\"type\": \"update\", \"queue\": \"default\", \"data\": {\"attributes\": {\"edges\": {\"1-2\": {\"labels\": {\"weight\": {\"text\": 0.4}}}, \"2-3\": {\"labels\": {\"weight\": {\"text\": 0.2}}}, \"1-3\": {\"labels\": {\"weight\": {\"text\": 0.3}}}}}, \"animation\": {\"**\": {\"duration\": 0}}}}"
       ],
       "layout": "IPY_MODEL_1023ed1d950740768c6d6cf66bb1cebd"
      }
     },
     "df8f4bc52acf4654a6f3d9f8a888815a": {
      "model_module": "@jupyter-widgets/base",
      "model_module_version": "1.1.0",
      "model_name": "LayoutModel",
      "state": {}
     },
     "dfb2a9c495524d28b59597c78bfa264a": {
      "model_module": "algorithmx-jupyter",
      "model_module_version": "^2.0.0",
      "model_name": "AlgorithmxModel",
      "state": {
       "_model_module_version": "^2.0.0",
       "_view_module_version": "^2.0.0",
       "events": [
        "{\"type\": \"update\", \"queue\": \"default\", \"data\": {\"attributes\": {\"nodes\": {\"1\": {\"visible\": true}, \"2\": {\"visible\": true}, \"3\": {\"visible\": true}}}, \"animation\": {}}}",
        "{\"type\": \"update\", \"queue\": \"default\", \"data\": {\"attributes\": {\"edges\": {\"1-2\": {\"visible\": true, \"source\": \"1\", \"target\": \"2\"}, \"1-3\": {\"visible\": true, \"source\": \"1\", \"target\": \"3\"}, \"2-3\": {\"visible\": true, \"source\": \"2\", \"target\": \"3\"}}}, \"animation\": {}}}",
        "{\"type\": \"update\", \"queue\": \"default\", \"data\": {\"attributes\": {\"edges\": {\"1-2\": {\"labels\": {\"weight\": {\"visible\": true}}}, \"1-3\": {\"labels\": {\"weight\": {\"visible\": true}}}, \"2-3\": {\"labels\": {\"weight\": {\"visible\": true}}}}}, \"animation\": {\"**\": {\"duration\": 0}}}}",
        "{\"type\": \"update\", \"queue\": \"default\", \"data\": {\"attributes\": {\"edges\": {\"1-2\": {\"labels\": {\"weight\": {\"text\": 0.4}}}, \"1-3\": {\"labels\": {\"weight\": {\"text\": 0.3}}}, \"2-3\": {\"labels\": {\"weight\": {\"text\": 0.2}}}}}, \"animation\": {\"**\": {\"duration\": 0}}}}"
       ],
       "layout": "IPY_MODEL_c5ffdf3056be4b2485e66c090af77ca1"
      }
     },
     "e09d8bdaf1f0472e8952e61a6e47ff4e": {
      "model_module": "@jupyter-widgets/base",
      "model_module_version": "1.1.0",
      "model_name": "LayoutModel",
      "state": {}
     },
     "e5b1b54bd81a4662a9cfbaa8eeb386ae": {
      "model_module": "@jupyter-widgets/base",
      "model_module_version": "1.1.0",
      "model_name": "LayoutModel",
      "state": {}
     },
     "e924db03279847a2ab1db715252ee0f1": {
      "model_module": "algorithmx-jupyter",
      "model_module_version": "^2.0.0",
      "model_name": "AlgorithmxModel",
      "state": {
       "_model_module_version": "^2.0.0",
       "_view_module_version": "^2.0.0",
       "events": [
        "{\"type\": \"update\", \"queue\": \"default\", \"data\": {\"attributes\": {\"nodes\": {\"1\": {\"visible\": true}, \"2\": {\"visible\": true}, \"3\": {\"visible\": true}, \"4\": {\"visible\": true}, \"5\": {\"visible\": true}}}, \"animation\": {}}}",
        "{\"type\": \"update\", \"queue\": \"default\", \"data\": {\"attributes\": {\"nodes\": {\"1\": {\"shape\": \"rect\", \"size\": [20, 12]}, \"2\": {\"shape\": \"rect\", \"size\": [20, 12]}, \"3\": {\"shape\": \"rect\", \"size\": [20, 12]}, \"4\": {\"shape\": \"rect\", \"size\": [20, 12]}, \"5\": {\"shape\": \"rect\", \"size\": [20, 12]}}}, \"animation\": {\"**\": {\"duration\": 0}}}}",
        "{\"type\": \"update\", \"queue\": \"default\", \"data\": {\"attributes\": {\"nodes\": {\"1\": {\"color\": \"red\"}, \"2\": {\"color\": \"green\"}, \"3\": {\"color\": \"blue\"}, \"4\": {\"color\": \"orange\"}, \"5\": {\"color\": \"purple\"}}}, \"animation\": {\"**\": {\"duration\": 0}}}}",
        "{\"type\": \"update\", \"queue\": \"default\", \"data\": {\"attributes\": {\"edges\": {\"1-2\": {\"visible\": true, \"source\": \"1\", \"target\": \"2\"}, \"2-3\": {\"visible\": true, \"source\": \"2\", \"target\": \"3\"}, \"2-4\": {\"visible\": true, \"source\": \"2\", \"target\": \"4\"}, \"2-5\": {\"visible\": true, \"source\": \"2\", \"target\": \"5\"}}}, \"animation\": {}}}"
       ],
       "layout": "IPY_MODEL_4a07e2d1d66b47e69906d0ad5c39889f"
      }
     },
     "e973f1e3bd514d86ae7b018b61f65a1c": {
      "model_module": "algorithmx-jupyter",
      "model_module_version": "^2.0.0",
      "model_name": "AlgorithmxModel",
      "state": {
       "_model_module_version": "^2.0.0",
       "_view_module_version": "^2.0.0",
       "events": [
        "{\"type\": \"update\", \"queue\": \"default\", \"data\": {\"attributes\": {\"nodes\": {\"1\": {\"visible\": true}, \"2\": {\"visible\": true}, \"3\": {\"visible\": true}, \"4\": {\"visible\": true}, \"5\": {\"visible\": true}}}, \"animation\": {}}}",
        "{\"type\": \"update\", \"queue\": \"default\", \"data\": {\"attributes\": {\"nodes\": {\"1\": {\"shape\": \"rect\", \"size\": [20, 12]}, \"2\": {\"shape\": \"rect\", \"size\": [20, 12]}, \"3\": {\"shape\": \"rect\", \"size\": [20, 12]}, \"4\": {\"shape\": \"rect\", \"size\": [20, 12]}, \"5\": {\"shape\": \"rect\", \"size\": [20, 12]}}}, \"animation\": {\"**\": {\"duration\": 0}}}}",
        "{\"type\": \"update\", \"queue\": \"default\", \"data\": {\"attributes\": {\"nodes\": {\"1\": {\"color\": \"red\"}, \"2\": {\"color\": \"green\"}, \"3\": {\"color\": \"blue\"}, \"4\": {\"color\": \"orange\"}, \"5\": {\"color\": \"purple\"}}}, \"animation\": {\"**\": {\"duration\": 0}}}}",
        "{\"type\": \"update\", \"queue\": \"default\", \"data\": {\"attributes\": {\"edges\": {\"1-2\": {\"visible\": true, \"source\": \"1\", \"target\": \"2\"}, \"2-3\": {\"visible\": true, \"source\": \"2\", \"target\": \"3\"}, \"2-4\": {\"visible\": true, \"source\": \"2\", \"target\": \"4\"}, \"2-5\": {\"visible\": true, \"source\": \"2\", \"target\": \"5\"}}}, \"animation\": {}}}"
       ],
       "layout": "IPY_MODEL_e5b1b54bd81a4662a9cfbaa8eeb386ae"
      }
     },
     "ed58341c955b4b6ab15be00e17d97471": {
      "model_module": "algorithmx-jupyter",
      "model_module_version": "^2.0.0",
      "model_name": "AlgorithmxModel",
      "state": {
       "_model_module_version": "^2.0.0",
       "_view_module_version": "^2.0.0",
       "events": [
        "{\"type\": \"update\", \"queue\": \"default\", \"data\": {\"attributes\": {\"nodes\": {\"0\": {\"visible\": true}, \"1\": {\"visible\": true}, \"2\": {\"visible\": true}, \"3\": {\"visible\": true}, \"4\": {\"visible\": true}, \"5\": {\"visible\": true}, \"6\": {\"visible\": true}, \"7\": {\"visible\": true}, \"8\": {\"visible\": true}, \"9\": {\"visible\": true}}}, \"animation\": {}}}",
        "{\"type\": \"update\", \"queue\": \"default\", \"data\": {\"attributes\": {\"nodes\": {\"0\": {\"color\": \"orange\"}, \"1\": {\"color\": \"yellow\"}, \"2\": {\"color\": \"orange\"}, \"3\": {\"color\": \"yellow\"}, \"4\": {\"color\": \"red\"}, \"5\": {\"color\": \"red\"}, \"6\": {\"color\": \"red\"}, \"7\": {\"color\": \"yellow\"}, \"8\": {\"color\": \"orange\"}, \"9\": {\"color\": \"yellow\"}}}, \"animation\": {\"**\": {\"duration\": 0}}}}",
        "{\"type\": \"update\", \"queue\": \"default\", \"data\": {\"attributes\": {\"edges\": {\"0-1\": {\"visible\": true, \"source\": \"0\", \"target\": \"1\"}, \"0-3\": {\"visible\": true, \"source\": \"0\", \"target\": \"3\"}, \"0-4\": {\"visible\": true, \"source\": \"0\", \"target\": \"4\"}, \"1-4\": {\"visible\": true, \"source\": \"1\", \"target\": \"4\"}, \"1-8\": {\"visible\": true, \"source\": \"1\", \"target\": \"8\"}, \"2-3\": {\"visible\": true, \"source\": \"2\", \"target\": \"3\"}, \"2-4\": {\"visible\": true, \"source\": \"2\", \"target\": \"4\"}, \"2-5\": {\"visible\": true, \"source\": \"2\", \"target\": \"5\"}, \"2-6\": {\"visible\": true, \"source\": \"2\", \"target\": \"6\"}, \"2-7\": {\"visible\": true, \"source\": \"2\", \"target\": \"7\"}, \"3-4\": {\"visible\": true, \"source\": \"3\", \"target\": \"4\"}, \"3-6\": {\"visible\": true, \"source\": \"3\", \"target\": \"6\"}, \"4-8\": {\"visible\": true, \"source\": \"4\", \"target\": \"8\"}, \"4-9\": {\"visible\": true, \"source\": \"4\", \"target\": \"9\"}, \"6-7\": {\"visible\": true, \"source\": \"6\", \"target\": \"7\"}, \"8-9\": {\"visible\": true, \"source\": \"8\", \"target\": \"9\"}}}, \"animation\": {}}}",
        "{\"type\": \"update\", \"queue\": \"default\", \"data\": {\"attributes\": {\"edges\": {\"0-1\": {\"labels\": {\"weight\": {\"visible\": true}}}, \"0-3\": {\"labels\": {\"weight\": {\"visible\": true}}}, \"0-4\": {\"labels\": {\"weight\": {\"visible\": true}}}, \"1-4\": {\"labels\": {\"weight\": {\"visible\": true}}}, \"1-8\": {\"labels\": {\"weight\": {\"visible\": true}}}, \"2-3\": {\"labels\": {\"weight\": {\"visible\": true}}}, \"2-4\": {\"labels\": {\"weight\": {\"visible\": true}}}, \"2-5\": {\"labels\": {\"weight\": {\"visible\": true}}}, \"2-6\": {\"labels\": {\"weight\": {\"visible\": true}}}, \"2-7\": {\"labels\": {\"weight\": {\"visible\": true}}}, \"3-4\": {\"labels\": {\"weight\": {\"visible\": true}}}, \"3-6\": {\"labels\": {\"weight\": {\"visible\": true}}}, \"4-8\": {\"labels\": {\"weight\": {\"visible\": true}}}, \"4-9\": {\"labels\": {\"weight\": {\"visible\": true}}}, \"6-7\": {\"labels\": {\"weight\": {\"visible\": true}}}, \"8-9\": {\"labels\": {\"weight\": {\"visible\": true}}}}}, \"animation\": {\"**\": {\"duration\": 0}}}}",
        "{\"type\": \"update\", \"queue\": \"default\", \"data\": {\"attributes\": {\"edges\": {\"0-1\": {\"labels\": {\"weight\": {\"text\": 1}}}, \"0-3\": {\"labels\": {\"weight\": {\"text\": 5}}}, \"0-4\": {\"labels\": {\"weight\": {\"text\": 8}}}, \"1-4\": {\"labels\": {\"weight\": {\"text\": 9}}}, \"1-8\": {\"labels\": {\"weight\": {\"text\": 2}}}, \"2-3\": {\"labels\": {\"weight\": {\"text\": 7}}}, \"2-4\": {\"labels\": {\"weight\": {\"text\": 4}}}, \"2-5\": {\"labels\": {\"weight\": {\"text\": 6}}}, \"2-6\": {\"labels\": {\"weight\": {\"text\": 6}}}, \"2-7\": {\"labels\": {\"weight\": {\"text\": 9}}}, \"3-4\": {\"labels\": {\"weight\": {\"text\": 8}}}, \"3-6\": {\"labels\": {\"weight\": {\"text\": 3}}}, \"4-8\": {\"labels\": {\"weight\": {\"text\": 6}}}, \"4-9\": {\"labels\": {\"weight\": {\"text\": 7}}}, \"6-7\": {\"labels\": {\"weight\": {\"text\": 5}}}, \"8-9\": {\"labels\": {\"weight\": {\"text\": 8}}}}}, \"animation\": {\"**\": {\"duration\": 0}}}}",
        "{\"type\": \"update\", \"queue\": \"default\", \"data\": {\"attributes\": {\"edges\": {\"0-1\": {\"labels\": {\"centrality\": {\"visible\": true}}}, \"0-3\": {\"labels\": {\"centrality\": {\"visible\": true}}}, \"0-4\": {\"labels\": {\"centrality\": {\"visible\": true}}}, \"1-4\": {\"labels\": {\"centrality\": {\"visible\": true}}}, \"1-8\": {\"labels\": {\"centrality\": {\"visible\": true}}}, \"2-3\": {\"labels\": {\"centrality\": {\"visible\": true}}}, \"2-4\": {\"labels\": {\"centrality\": {\"visible\": true}}}, \"2-5\": {\"labels\": {\"centrality\": {\"visible\": true}}}, \"2-6\": {\"labels\": {\"centrality\": {\"visible\": true}}}, \"2-7\": {\"labels\": {\"centrality\": {\"visible\": true}}}, \"3-4\": {\"labels\": {\"centrality\": {\"visible\": true}}}, \"3-6\": {\"labels\": {\"centrality\": {\"visible\": true}}}, \"4-8\": {\"labels\": {\"centrality\": {\"visible\": true}}}, \"4-9\": {\"labels\": {\"centrality\": {\"visible\": true}}}, \"6-7\": {\"labels\": {\"centrality\": {\"visible\": true}}}, \"8-9\": {\"labels\": {\"centrality\": {\"visible\": true}}}}}, \"animation\": {\"**\": {\"duration\": 0}}}}",
        "{\"type\": \"update\", \"queue\": \"default\", \"data\": {\"attributes\": {\"edges\": {\"0-1\": {\"labels\": {\"centrality\": {\"color\": \"blue\"}}}, \"0-3\": {\"labels\": {\"centrality\": {\"color\": \"blue\"}}}, \"0-4\": {\"labels\": {\"centrality\": {\"color\": \"blue\"}}}, \"1-4\": {\"labels\": {\"centrality\": {\"color\": \"blue\"}}}, \"1-8\": {\"labels\": {\"centrality\": {\"color\": \"blue\"}}}, \"2-3\": {\"labels\": {\"centrality\": {\"color\": \"blue\"}}}, \"2-4\": {\"labels\": {\"centrality\": {\"color\": \"blue\"}}}, \"2-5\": {\"labels\": {\"centrality\": {\"color\": \"blue\"}}}, \"2-6\": {\"labels\": {\"centrality\": {\"color\": \"blue\"}}}, \"2-7\": {\"labels\": {\"centrality\": {\"color\": \"blue\"}}}, \"3-4\": {\"labels\": {\"centrality\": {\"color\": \"blue\"}}}, \"3-6\": {\"labels\": {\"centrality\": {\"color\": \"blue\"}}}, \"4-8\": {\"labels\": {\"centrality\": {\"color\": \"blue\"}}}, \"4-9\": {\"labels\": {\"centrality\": {\"color\": \"blue\"}}}, \"6-7\": {\"labels\": {\"centrality\": {\"color\": \"blue\"}}}, \"8-9\": {\"labels\": {\"centrality\": {\"color\": \"blue\"}}}}}, \"animation\": {\"**\": {\"duration\": 0}}}}",
        "{\"type\": \"update\", \"queue\": \"default\", \"data\": {\"attributes\": {\"edges\": {\"0-1\": {\"labels\": {\"centrality\": {\"text\": \"0.20\"}}}, \"0-3\": {\"labels\": {\"centrality\": {\"text\": \"0.22\"}}}, \"0-4\": {\"labels\": {\"centrality\": {\"text\": \"0.04\"}}}, \"1-4\": {\"labels\": {\"centrality\": {\"text\": \"0.00\"}}}, \"1-8\": {\"labels\": {\"centrality\": {\"text\": \"0.22\"}}}, \"2-3\": {\"labels\": {\"centrality\": {\"text\": \"0.07\"}}}, \"2-4\": {\"labels\": {\"centrality\": {\"text\": \"0.29\"}}}, \"2-5\": {\"labels\": {\"centrality\": {\"text\": \"0.20\"}}}, \"2-6\": {\"labels\": {\"centrality\": {\"text\": \"0.09\"}}}, \"2-7\": {\"labels\": {\"centrality\": {\"text\": \"0.09\"}}}, \"3-4\": {\"labels\": {\"centrality\": {\"text\": \"0.04\"}}}, \"3-6\": {\"labels\": {\"centrality\": {\"text\": \"0.18\"}}}, \"4-8\": {\"labels\": {\"centrality\": {\"text\": \"0.13\"}}}, \"4-9\": {\"labels\": {\"centrality\": {\"text\": \"0.13\"}}}, \"6-7\": {\"labels\": {\"centrality\": {\"text\": \"0.11\"}}}, \"8-9\": {\"labels\": {\"centrality\": {\"text\": \"0.07\"}}}}}, \"animation\": {\"**\": {\"duration\": 0}}}}"
       ],
       "layout": "IPY_MODEL_24ee11cce8ce4ae39255da660fffda82"
      }
     },
     "f14ddc005ff7493aad5bcb2bc46e9c50": {
      "model_module": "algorithmx-jupyter",
      "model_module_version": "^2.0.0",
      "model_name": "AlgorithmxModel",
      "state": {
       "_model_module_version": "^2.0.0",
       "_view_module_version": "^2.0.0",
       "events": [
        "{\"type\": \"update\", \"queue\": \"default\", \"data\": {\"attributes\": {\"nodes\": {\"0\": {\"visible\": true}, \"1\": {\"visible\": true}, \"2\": {\"visible\": true}, \"3\": {\"visible\": true}, \"4\": {\"visible\": true}, \"5\": {\"visible\": true}, \"6\": {\"visible\": true}, \"7\": {\"visible\": true}, \"8\": {\"visible\": true}, \"9\": {\"visible\": true}}}, \"animation\": {}}}",
        "{\"type\": \"update\", \"queue\": \"default\", \"data\": {\"attributes\": {\"edges\": {\"0-1\": {\"visible\": true, \"source\": \"0\", \"target\": \"1\"}, \"0-4\": {\"visible\": true, \"source\": \"0\", \"target\": \"4\"}, \"0-6\": {\"visible\": true, \"source\": \"0\", \"target\": \"6\"}, \"0-7\": {\"visible\": true, \"source\": \"0\", \"target\": \"7\"}, \"1-9\": {\"visible\": true, \"source\": \"1\", \"target\": \"9\"}, \"2-3\": {\"visible\": true, \"source\": \"2\", \"target\": \"3\"}, \"2-5\": {\"visible\": true, \"source\": \"2\", \"target\": \"5\"}, \"2-8\": {\"visible\": true, \"source\": \"2\", \"target\": \"8\"}, \"2-9\": {\"visible\": true, \"source\": \"2\", \"target\": \"9\"}, \"3-4\": {\"visible\": true, \"source\": \"3\", \"target\": \"4\"}, \"3-6\": {\"visible\": true, \"source\": \"3\", \"target\": \"6\"}, \"6-7\": {\"visible\": true, \"source\": \"6\", \"target\": \"7\"}, \"7-8\": {\"visible\": true, \"source\": \"7\", \"target\": \"8\"}, \"7-9\": {\"visible\": true, \"source\": \"7\", \"target\": \"9\"}}}, \"animation\": {}}}",
        "{\"type\": \"update\", \"queue\": \"default\", \"data\": {\"attributes\": {\"edges\": {\"0-1\": {\"directed\": true}, \"0-4\": {\"directed\": true}, \"0-6\": {\"directed\": true}, \"0-7\": {\"directed\": true}, \"1-9\": {\"directed\": true}, \"2-3\": {\"directed\": true}, \"2-5\": {\"directed\": true}, \"2-8\": {\"directed\": true}, \"2-9\": {\"directed\": true}, \"3-4\": {\"directed\": true}, \"3-6\": {\"directed\": true}, \"6-7\": {\"directed\": true}, \"7-8\": {\"directed\": true}, \"7-9\": {\"directed\": true}}}, \"animation\": {\"**\": {\"duration\": 0}}}}"
       ],
       "layout": "IPY_MODEL_3e994da9f1d143b0931dd6e0fc7a7c61"
      }
     },
     "f21d498299284d8180fe23b79702bd7b": {
      "model_module": "@jupyter-widgets/base",
      "model_module_version": "1.1.0",
      "model_name": "LayoutModel",
      "state": {}
     },
     "f57fcdb7144a4159ac7635f65422b62f": {
      "model_module": "@jupyter-widgets/base",
      "model_module_version": "1.1.0",
      "model_name": "LayoutModel",
      "state": {}
     },
     "f75f9512a2884094b562d124f828bf18": {
      "model_module": "@jupyter-widgets/base",
      "model_module_version": "1.1.0",
      "model_name": "LayoutModel",
      "state": {}
     },
     "f7d7914a1ea344c6b79d951853a6671c": {
      "model_module": "@jupyter-widgets/base",
      "model_module_version": "1.1.0",
      "model_name": "LayoutModel",
      "state": {}
     },
     "fa26d55ca8b94c92ad6b504dc2f362fe": {
      "model_module": "algorithmx-jupyter",
      "model_module_version": "^2.0.0",
      "model_name": "AlgorithmxModel",
      "state": {
       "_model_module_version": "^2.0.0",
       "_view_module_version": "^2.0.0",
       "events": [
        "{\"type\": \"update\", \"queue\": \"default\", \"data\": {\"attributes\": {\"nodes\": {\"0\": {\"visible\": true}, \"1\": {\"visible\": true}, \"2\": {\"visible\": true}, \"3\": {\"visible\": true}, \"4\": {\"visible\": true}, \"5\": {\"visible\": true}, \"6\": {\"visible\": true}, \"7\": {\"visible\": true}, \"8\": {\"visible\": true}, \"9\": {\"visible\": true}}}, \"animation\": {}}}",
        "{\"type\": \"update\", \"queue\": \"default\", \"data\": {\"attributes\": {\"edges\": {\"0-1\": {\"visible\": true, \"source\": \"0\", \"target\": \"1\"}, \"0-4\": {\"visible\": true, \"source\": \"0\", \"target\": \"4\"}, \"0-6\": {\"visible\": true, \"source\": \"0\", \"target\": \"6\"}, \"0-7\": {\"visible\": true, \"source\": \"0\", \"target\": \"7\"}, \"1-9\": {\"visible\": true, \"source\": \"1\", \"target\": \"9\"}, \"2-3\": {\"visible\": true, \"source\": \"2\", \"target\": \"3\"}, \"2-5\": {\"visible\": true, \"source\": \"2\", \"target\": \"5\"}, \"2-8\": {\"visible\": true, \"source\": \"2\", \"target\": \"8\"}, \"2-9\": {\"visible\": true, \"source\": \"2\", \"target\": \"9\"}, \"3-4\": {\"visible\": true, \"source\": \"3\", \"target\": \"4\"}, \"3-6\": {\"visible\": true, \"source\": \"3\", \"target\": \"6\"}, \"6-7\": {\"visible\": true, \"source\": \"6\", \"target\": \"7\"}, \"7-8\": {\"visible\": true, \"source\": \"7\", \"target\": \"8\"}, \"7-9\": {\"visible\": true, \"source\": \"7\", \"target\": \"9\"}}}, \"animation\": {}}}"
       ],
       "layout": "IPY_MODEL_050445f7e3dc45bc84dd2ce78694e320"
      }
     },
     "fbaef0f0e64748a393aa12b04db3d660": {
      "model_module": "algorithmx-jupyter",
      "model_module_version": "^2.0.0",
      "model_name": "AlgorithmxModel",
      "state": {
       "_model_module_version": "^2.0.0",
       "_view_module_version": "^2.0.0",
       "events": [
        "{\"type\": \"update\", \"queue\": \"default\", \"data\": {\"attributes\": {\"nodes\": {\"1\": {\"visible\": true}, \"2\": {\"visible\": true}, \"3\": {\"visible\": true}, \"4\": {\"visible\": true}, \"5\": {\"visible\": true}}}, \"animation\": {}}}",
        "{\"type\": \"update\", \"queue\": \"default\", \"data\": {\"attributes\": {\"edges\": {\"1-2\": {\"visible\": true, \"source\": \"1\", \"target\": \"2\"}, \"2-3\": {\"visible\": true, \"source\": \"2\", \"target\": \"3\"}, \"2-4\": {\"visible\": true, \"source\": \"2\", \"target\": \"4\"}, \"2-5\": {\"visible\": true, \"source\": \"2\", \"target\": \"5\"}}}, \"animation\": {}}}"
       ],
       "layout": "IPY_MODEL_ad6ae1c190eb4214a9ca8dcc0a37d406"
      }
     }
    },
    "version_major": 2,
    "version_minor": 0
   }
  }
 },
 "nbformat": 4,
 "nbformat_minor": 2
}
