{
 "cells": [
  {
   "cell_type": "markdown",
   "metadata": {},
   "source": [
    "# Basic Examples"
   ]
  },
  {
   "cell_type": "markdown",
   "metadata": {},
   "source": [
    "Let's import the library and create a simple network. You can hold down `ctrl`/`cmd` to zoom in."
   ]
  },
  {
   "cell_type": "code",
   "execution_count": 1,
   "metadata": {
    "scrolled": true
   },
   "outputs": [
    {
     "data": {
      "application/vnd.jupyter.widget-view+json": {
       "model_id": "c298f32e1210435baac8817c0bc52a37",
       "version_major": 2,
       "version_minor": 0
      },
      "text/plain": [
       "JupyterClient(events=['{\"type\": \"update\", \"queue\": \"default\", \"data\": {\"attributes\": {\"size\": [300, 200]}, \"an…"
      ]
     },
     "metadata": {},
     "output_type": "display_data"
    }
   ],
   "source": [
    "import algorithmx\n",
    "\n",
    "canvas = algorithmx.jupyter_canvas()\n",
    "canvas.size((300, 200))\n",
    "\n",
    "canvas.nodes([1, 2]).add()\n",
    "canvas.edge((1, 2)).add()\n",
    "\n",
    "canvas"
   ]
  },
  {
   "cell_type": "markdown",
   "metadata": {},
   "source": [
    "That's nice, but now we would like to animate it. Let's also add some buttons so that we can easily start/stop/restart our animation."
   ]
  },
  {
   "cell_type": "code",
   "execution_count": 2,
   "metadata": {
    "scrolled": true
   },
   "outputs": [
    {
     "data": {
      "application/vnd.jupyter.widget-view+json": {
       "model_id": "1ccfc0d993094c03aff7952123caf1ec",
       "version_major": 2,
       "version_minor": 0
      },
      "text/plain": [
       "JupyterClient(events=['{\"type\": \"update\", \"queue\": \"default\", \"data\": {\"attributes\": {\"size\": [300, 200]}, \"an…"
      ]
     },
     "metadata": {},
     "output_type": "display_data"
    }
   ],
   "source": [
    "canvas = algorithmx.jupyter_canvas(buttons=True)\n",
    "canvas.size((300, 200))\n",
    "\n",
    "canvas.nodes([1, 2]).add()\n",
    "canvas.edge((1, 2)).add()\n",
    "\n",
    "canvas.pause(0.5)\n",
    "\n",
    "canvas.node(1).highlight().size('1.25x').pause(0.5)\n",
    "canvas.edge((1, 2)).traverse().color('blue')\n",
    "\n",
    "canvas"
   ]
  },
  {
   "cell_type": "markdown",
   "metadata": {},
   "source": [
    "Finally, lets apply all of this to a larger graph."
   ]
  },
  {
   "cell_type": "code",
   "execution_count": 3,
   "metadata": {
    "scrolled": false
   },
   "outputs": [
    {
     "data": {
      "application/vnd.jupyter.widget-view+json": {
       "model_id": "05c8c3751b3a4253b5d0ac96f7e0d709",
       "version_major": 2,
       "version_minor": 0
      },
      "text/plain": [
       "JupyterClient(events=['{\"type\": \"update\", \"queue\": \"default\", \"data\": {\"attributes\": {\"nodes\": {\"1\": {\"visible…"
      ]
     },
     "metadata": {},
     "output_type": "display_data"
    }
   ],
   "source": [
    "canvas = algorithmx.jupyter_canvas(buttons=True)\n",
    "\n",
    "canvas.nodes(range(1, 8)).add()\n",
    "canvas.edges([(i, i+1) for i in range(1, 7)]\n",
    "           + [(1, 3), (2, 4), (2, 7)]).add()\n",
    "\n",
    "for i in range(1, 8):\n",
    "    canvas.pause(0.5)\n",
    "    canvas.node(i).color('green').highlight().size('1.25x')\n",
    "    \n",
    "    if i < 8:\n",
    "        canvas.pause(0.5)\n",
    "        canvas.edge((i, i+1)).traverse().color('green')\n",
    "\n",
    "canvas"
   ]
  }
 ],
 "metadata": {
  "kernelspec": {
   "display_name": "Python 3",
   "language": "python",
   "name": "python3"
  },
  "language_info": {
   "codemirror_mode": {
    "name": "ipython",
    "version": 3
   },
   "file_extension": ".py",
   "mimetype": "text/x-python",
   "name": "python",
   "nbconvert_exporter": "python",
   "pygments_lexer": "ipython3",
   "version": "3.6.8"
  },
  "widgets": {
   "application/vnd.jupyter.widget-state+json": {
    "state": {
     "000c180221584eafad8d343c602931b4": {
      "model_module": "@jupyter-widgets/base",
      "model_module_version": "1.1.0",
      "model_name": "LayoutModel",
      "state": {}
     },
     "05c8c3751b3a4253b5d0ac96f7e0d709": {
      "model_module": "algorithmx-jupyter",
      "model_module_version": "^2.0.0",
      "model_name": "AlgorithmxModel",
      "state": {
       "_model_module_version": "^2.0.0",
       "_view_module_version": "^2.0.0",
       "events": [
        "{\"type\": \"update\", \"queue\": \"default\", \"data\": {\"attributes\": {\"nodes\": {\"1\": {\"visible\": true}, \"2\": {\"visible\": true}, \"3\": {\"visible\": true}, \"4\": {\"visible\": true}, \"5\": {\"visible\": true}, \"6\": {\"visible\": true}, \"7\": {\"visible\": true}}}, \"animation\": {}}}",
        "{\"type\": \"update\", \"queue\": \"default\", \"data\": {\"attributes\": {\"edges\": {\"1-2\": {\"visible\": true, \"source\": \"1\", \"target\": \"2\"}, \"2-3\": {\"visible\": true, \"source\": \"2\", \"target\": \"3\"}, \"3-4\": {\"visible\": true, \"source\": \"3\", \"target\": \"4\"}, \"4-5\": {\"visible\": true, \"source\": \"4\", \"target\": \"5\"}, \"5-6\": {\"visible\": true, \"source\": \"5\", \"target\": \"6\"}, \"6-7\": {\"visible\": true, \"source\": \"6\", \"target\": \"7\"}, \"1-3\": {\"visible\": true, \"source\": \"1\", \"target\": \"3\"}, \"2-4\": {\"visible\": true, \"source\": \"2\", \"target\": \"4\"}, \"2-7\": {\"visible\": true, \"source\": \"2\", \"target\": \"7\"}}}, \"animation\": {}}}",
        "{\"type\": \"pause\", \"queue\": \"default\", \"data\": {\"duration\": 0.5}}",
        "{\"type\": \"update\", \"queue\": \"default\", \"data\": {\"attributes\": {\"nodes\": {\"1\": {\"color\": \"green\"}}}, \"animation\": {}}}",
        "{\"type\": \"highlight\", \"queue\": \"default\", \"data\": {\"attributes\": {\"nodes\": {\"1\": {\"size\": \"1.25x\"}}}, \"animation\": {}}}",
        "{\"type\": \"pause\", \"queue\": \"default\", \"data\": {\"duration\": 0.5}}",
        "{\"type\": \"update\", \"queue\": \"default\", \"data\": {\"attributes\": {\"edges\": {\"1-2\": {\"color\": \"green\"}}}, \"animation\": {\"edges\": {\"1-2\": {\"**\": {\"type\": \"traverse\", \"data\": {\"source\": \"1\"}}}}}}}",
        "{\"type\": \"pause\", \"queue\": \"default\", \"data\": {\"duration\": 0.5}}",
        "{\"type\": \"update\", \"queue\": \"default\", \"data\": {\"attributes\": {\"nodes\": {\"2\": {\"color\": \"green\"}}}, \"animation\": {}}}",
        "{\"type\": \"highlight\", \"queue\": \"default\", \"data\": {\"attributes\": {\"nodes\": {\"2\": {\"size\": \"1.25x\"}}}, \"animation\": {}}}",
        "{\"type\": \"pause\", \"queue\": \"default\", \"data\": {\"duration\": 0.5}}",
        "{\"type\": \"update\", \"queue\": \"default\", \"data\": {\"attributes\": {\"edges\": {\"2-3\": {\"color\": \"green\"}}}, \"animation\": {\"edges\": {\"2-3\": {\"**\": {\"type\": \"traverse\", \"data\": {\"source\": \"2\"}}}}}}}",
        "{\"type\": \"pause\", \"queue\": \"default\", \"data\": {\"duration\": 0.5}}",
        "{\"type\": \"update\", \"queue\": \"default\", \"data\": {\"attributes\": {\"nodes\": {\"3\": {\"color\": \"green\"}}}, \"animation\": {}}}",
        "{\"type\": \"highlight\", \"queue\": \"default\", \"data\": {\"attributes\": {\"nodes\": {\"3\": {\"size\": \"1.25x\"}}}, \"animation\": {}}}",
        "{\"type\": \"pause\", \"queue\": \"default\", \"data\": {\"duration\": 0.5}}",
        "{\"type\": \"update\", \"queue\": \"default\", \"data\": {\"attributes\": {\"edges\": {\"3-4\": {\"color\": \"green\"}}}, \"animation\": {\"edges\": {\"3-4\": {\"**\": {\"type\": \"traverse\", \"data\": {\"source\": \"3\"}}}}}}}",
        "{\"type\": \"pause\", \"queue\": \"default\", \"data\": {\"duration\": 0.5}}",
        "{\"type\": \"update\", \"queue\": \"default\", \"data\": {\"attributes\": {\"nodes\": {\"4\": {\"color\": \"green\"}}}, \"animation\": {}}}",
        "{\"type\": \"highlight\", \"queue\": \"default\", \"data\": {\"attributes\": {\"nodes\": {\"4\": {\"size\": \"1.25x\"}}}, \"animation\": {}}}",
        "{\"type\": \"pause\", \"queue\": \"default\", \"data\": {\"duration\": 0.5}}",
        "{\"type\": \"update\", \"queue\": \"default\", \"data\": {\"attributes\": {\"edges\": {\"4-5\": {\"color\": \"green\"}}}, \"animation\": {\"edges\": {\"4-5\": {\"**\": {\"type\": \"traverse\", \"data\": {\"source\": \"4\"}}}}}}}",
        "{\"type\": \"pause\", \"queue\": \"default\", \"data\": {\"duration\": 0.5}}",
        "{\"type\": \"update\", \"queue\": \"default\", \"data\": {\"attributes\": {\"nodes\": {\"5\": {\"color\": \"green\"}}}, \"animation\": {}}}",
        "{\"type\": \"highlight\", \"queue\": \"default\", \"data\": {\"attributes\": {\"nodes\": {\"5\": {\"size\": \"1.25x\"}}}, \"animation\": {}}}",
        "{\"type\": \"pause\", \"queue\": \"default\", \"data\": {\"duration\": 0.5}}",
        "{\"type\": \"update\", \"queue\": \"default\", \"data\": {\"attributes\": {\"edges\": {\"5-6\": {\"color\": \"green\"}}}, \"animation\": {\"edges\": {\"5-6\": {\"**\": {\"type\": \"traverse\", \"data\": {\"source\": \"5\"}}}}}}}",
        "{\"type\": \"pause\", \"queue\": \"default\", \"data\": {\"duration\": 0.5}}",
        "{\"type\": \"update\", \"queue\": \"default\", \"data\": {\"attributes\": {\"nodes\": {\"6\": {\"color\": \"green\"}}}, \"animation\": {}}}",
        "{\"type\": \"highlight\", \"queue\": \"default\", \"data\": {\"attributes\": {\"nodes\": {\"6\": {\"size\": \"1.25x\"}}}, \"animation\": {}}}",
        "{\"type\": \"pause\", \"queue\": \"default\", \"data\": {\"duration\": 0.5}}",
        "{\"type\": \"update\", \"queue\": \"default\", \"data\": {\"attributes\": {\"edges\": {\"6-7\": {\"color\": \"green\"}}}, \"animation\": {\"edges\": {\"6-7\": {\"**\": {\"type\": \"traverse\", \"data\": {\"source\": \"6\"}}}}}}}",
        "{\"type\": \"pause\", \"queue\": \"default\", \"data\": {\"duration\": 0.5}}",
        "{\"type\": \"update\", \"queue\": \"default\", \"data\": {\"attributes\": {\"nodes\": {\"7\": {\"color\": \"green\"}}}, \"animation\": {}}}",
        "{\"type\": \"highlight\", \"queue\": \"default\", \"data\": {\"attributes\": {\"nodes\": {\"7\": {\"size\": \"1.25x\"}}}, \"animation\": {}}}",
        "{\"type\": \"pause\", \"queue\": \"default\", \"data\": {\"duration\": 0.5}}",
        "{\"type\": \"update\", \"queue\": \"default\", \"data\": {\"attributes\": {\"edges\": {\"7-8\": {\"color\": \"green\"}}}, \"animation\": {\"edges\": {\"7-8\": {\"**\": {\"type\": \"traverse\", \"data\": {\"source\": \"7\"}}}}}}}"
       ],
       "layout": "IPY_MODEL_b2f3e98be83447d4ac5569e1e2129a01",
       "show_buttons": true
      }
     },
     "15f7ac161f1b47a6ab17277101697d37": {
      "model_module": "@jupyter-widgets/base",
      "model_module_version": "1.1.0",
      "model_name": "LayoutModel",
      "state": {}
     },
     "1ccfc0d993094c03aff7952123caf1ec": {
      "model_module": "algorithmx-jupyter",
      "model_module_version": "^2.0.0",
      "model_name": "AlgorithmxModel",
      "state": {
       "_model_module_version": "^2.0.0",
       "_view_module_version": "^2.0.0",
       "events": [
        "{\"type\": \"update\", \"queue\": \"default\", \"data\": {\"attributes\": {\"size\": [300, 200]}, \"animation\": {}}}",
        "{\"type\": \"update\", \"queue\": \"default\", \"data\": {\"attributes\": {\"nodes\": {\"1\": {\"visible\": true}, \"2\": {\"visible\": true}}}, \"animation\": {}}}",
        "{\"type\": \"update\", \"queue\": \"default\", \"data\": {\"attributes\": {\"edges\": {\"1-2\": {\"visible\": true, \"source\": \"1\", \"target\": \"2\"}}}, \"animation\": {}}}",
        "{\"type\": \"pause\", \"queue\": \"default\", \"data\": {\"duration\": 0.5}}",
        "{\"type\": \"highlight\", \"queue\": \"default\", \"data\": {\"attributes\": {\"nodes\": {\"1\": {\"size\": \"1.25x\"}}}, \"animation\": {}}}",
        "{\"type\": \"pause\", \"queue\": \"default\", \"data\": {\"duration\": 0.5}}",
        "{\"type\": \"update\", \"queue\": \"default\", \"data\": {\"attributes\": {\"edges\": {\"1-2\": {\"color\": \"blue\"}}}, \"animation\": {\"edges\": {\"1-2\": {\"**\": {\"type\": \"traverse\", \"data\": {\"source\": \"1\"}}}}}}}"
       ],
       "layout": "IPY_MODEL_000c180221584eafad8d343c602931b4",
       "show_buttons": true
      }
     },
     "3d3b3baa21644054956157ce1ae531a5": {
      "model_module": "algorithmx-jupyter",
      "model_module_version": "^2.0.0",
      "model_name": "AlgorithmxModel",
      "state": {
       "_model_module_version": "^2.0.0",
       "_view_module_version": "^2.0.0",
       "events": [
        "{\"type\": \"update\", \"queue\": \"default\", \"data\": {\"attributes\": {\"size\": [300, 200]}, \"animation\": {}}}",
        "{\"type\": \"update\", \"queue\": \"default\", \"data\": {\"attributes\": {\"nodes\": {\"1\": {\"visible\": true}, \"2\": {\"visible\": true}}}, \"animation\": {}}}",
        "{\"type\": \"update\", \"queue\": \"default\", \"data\": {\"attributes\": {\"edges\": {\"1-2\": {\"visible\": true, \"source\": \"1\", \"target\": \"2\"}}}, \"animation\": {}}}",
        "{\"type\": \"pause\", \"queue\": \"default\", \"data\": {\"duration\": 0.5}}",
        "{\"type\": \"highlight\", \"queue\": \"default\", \"data\": {\"attributes\": {\"nodes\": {\"1\": {\"size\": \"1.25x\"}}}, \"animation\": {}}}",
        "{\"type\": \"pause\", \"queue\": \"default\", \"data\": {\"duration\": 0.5}}",
        "{\"type\": \"update\", \"queue\": \"default\", \"data\": {\"attributes\": {\"edges\": {\"1-2\": {\"color\": \"blue\"}}}, \"animation\": {\"edges\": {\"1-2\": {\"**\": {\"type\": \"traverse\", \"data\": {\"source\": \"1\"}}}}}}}"
       ],
       "layout": "IPY_MODEL_a171db688a63452081bd4370c1e1a088",
       "show_buttons": true
      }
     },
     "4e01ee0f9568460a9b6f76bf73d5ecb8": {
      "model_module": "@jupyter-widgets/base",
      "model_module_version": "1.1.0",
      "model_name": "LayoutModel",
      "state": {}
     },
     "539c7a385963431c97cd57e0ee89d8d8": {
      "model_module": "@jupyter-widgets/base",
      "model_module_version": "1.1.0",
      "model_name": "LayoutModel",
      "state": {}
     },
     "622d6d3640124f07a6c9b50c7a9a6dff": {
      "model_module": "algorithmx-jupyter",
      "model_module_version": "^2.0.0",
      "model_name": "AlgorithmxModel",
      "state": {
       "_model_module_version": "^2.0.0",
       "_view_module_version": "^2.0.0",
       "events": [
        "{\"type\": \"update\", \"queue\": \"default\", \"data\": {\"attributes\": {\"size\": [300, 200]}, \"animation\": {}}}",
        "{\"type\": \"update\", \"queue\": \"default\", \"data\": {\"attributes\": {\"nodes\": {\"1\": {\"visible\": true}, \"2\": {\"visible\": true}}}, \"animation\": {}}}",
        "{\"type\": \"update\", \"queue\": \"default\", \"data\": {\"attributes\": {\"edges\": {\"1-2\": {\"visible\": true, \"source\": \"1\", \"target\": \"2\"}}}, \"animation\": {}}}",
        "{\"type\": \"pause\", \"queue\": \"default\", \"data\": {\"duration\": 0.5}}",
        "{\"type\": \"highlight\", \"queue\": \"default\", \"data\": {\"attributes\": {\"nodes\": {\"1\": {\"size\": \"1.25x\"}}}, \"animation\": {}}}",
        "{\"type\": \"pause\", \"queue\": \"default\", \"data\": {\"duration\": 0.5}}",
        "{\"type\": \"update\", \"queue\": \"default\", \"data\": {\"attributes\": {\"edges\": {\"1-2\": {\"color\": \"blue\"}}}, \"animation\": {\"edges\": {\"1-2\": {\"**\": {\"type\": \"traverse\", \"data\": {\"source\": \"1\"}}}}}}}"
       ],
       "layout": "IPY_MODEL_7ef3db076df049d5bd0d2882457819f4",
       "show_buttons": true
      }
     },
     "6d702cf0a0bc4a85b51f8ed05488ebd6": {
      "model_module": "algorithmx-jupyter",
      "model_module_version": "^2.0.0",
      "model_name": "AlgorithmxModel",
      "state": {
       "_model_module_version": "^2.0.0",
       "_view_module_version": "^2.0.0",
       "events": [
        "{\"type\": \"update\", \"queue\": \"default\", \"data\": {\"attributes\": {\"nodes\": {\"1\": {\"visible\": true}, \"2\": {\"visible\": true}, \"3\": {\"visible\": true}, \"4\": {\"visible\": true}, \"5\": {\"visible\": true}, \"6\": {\"visible\": true}, \"7\": {\"visible\": true}}}, \"animation\": {}}}",
        "{\"type\": \"update\", \"queue\": \"default\", \"data\": {\"attributes\": {\"edges\": {\"1-2\": {\"visible\": true, \"source\": \"1\", \"target\": \"2\"}, \"2-3\": {\"visible\": true, \"source\": \"2\", \"target\": \"3\"}, \"3-4\": {\"visible\": true, \"source\": \"3\", \"target\": \"4\"}, \"4-5\": {\"visible\": true, \"source\": \"4\", \"target\": \"5\"}, \"5-6\": {\"visible\": true, \"source\": \"5\", \"target\": \"6\"}, \"6-7\": {\"visible\": true, \"source\": \"6\", \"target\": \"7\"}, \"1-3\": {\"visible\": true, \"source\": \"1\", \"target\": \"3\"}, \"2-4\": {\"visible\": true, \"source\": \"2\", \"target\": \"4\"}, \"2-7\": {\"visible\": true, \"source\": \"2\", \"target\": \"7\"}}}, \"animation\": {}}}",
        "{\"type\": \"pause\", \"queue\": \"default\", \"data\": {\"duration\": 0.5}}",
        "{\"type\": \"update\", \"queue\": \"default\", \"data\": {\"attributes\": {\"nodes\": {\"1\": {\"color\": \"green\"}}}, \"animation\": {}}}",
        "{\"type\": \"highlight\", \"queue\": \"default\", \"data\": {\"attributes\": {\"nodes\": {\"1\": {\"size\": \"1.25x\"}}}, \"animation\": {}}}",
        "{\"type\": \"pause\", \"queue\": \"default\", \"data\": {\"duration\": 0.5}}",
        "{\"type\": \"update\", \"queue\": \"default\", \"data\": {\"attributes\": {\"edges\": {\"1-2\": {\"color\": \"green\"}}}, \"animation\": {\"edges\": {\"1-2\": {\"**\": {\"type\": \"traverse\", \"data\": {\"source\": \"1\"}}}}}}}",
        "{\"type\": \"pause\", \"queue\": \"default\", \"data\": {\"duration\": 0.5}}",
        "{\"type\": \"update\", \"queue\": \"default\", \"data\": {\"attributes\": {\"nodes\": {\"2\": {\"color\": \"green\"}}}, \"animation\": {}}}",
        "{\"type\": \"highlight\", \"queue\": \"default\", \"data\": {\"attributes\": {\"nodes\": {\"2\": {\"size\": \"1.25x\"}}}, \"animation\": {}}}",
        "{\"type\": \"pause\", \"queue\": \"default\", \"data\": {\"duration\": 0.5}}",
        "{\"type\": \"update\", \"queue\": \"default\", \"data\": {\"attributes\": {\"edges\": {\"2-3\": {\"color\": \"green\"}}}, \"animation\": {\"edges\": {\"2-3\": {\"**\": {\"type\": \"traverse\", \"data\": {\"source\": \"2\"}}}}}}}",
        "{\"type\": \"pause\", \"queue\": \"default\", \"data\": {\"duration\": 0.5}}",
        "{\"type\": \"update\", \"queue\": \"default\", \"data\": {\"attributes\": {\"nodes\": {\"3\": {\"color\": \"green\"}}}, \"animation\": {}}}",
        "{\"type\": \"highlight\", \"queue\": \"default\", \"data\": {\"attributes\": {\"nodes\": {\"3\": {\"size\": \"1.25x\"}}}, \"animation\": {}}}",
        "{\"type\": \"pause\", \"queue\": \"default\", \"data\": {\"duration\": 0.5}}",
        "{\"type\": \"update\", \"queue\": \"default\", \"data\": {\"attributes\": {\"edges\": {\"3-4\": {\"color\": \"green\"}}}, \"animation\": {\"edges\": {\"3-4\": {\"**\": {\"type\": \"traverse\", \"data\": {\"source\": \"3\"}}}}}}}",
        "{\"type\": \"pause\", \"queue\": \"default\", \"data\": {\"duration\": 0.5}}",
        "{\"type\": \"update\", \"queue\": \"default\", \"data\": {\"attributes\": {\"nodes\": {\"4\": {\"color\": \"green\"}}}, \"animation\": {}}}",
        "{\"type\": \"highlight\", \"queue\": \"default\", \"data\": {\"attributes\": {\"nodes\": {\"4\": {\"size\": \"1.25x\"}}}, \"animation\": {}}}",
        "{\"type\": \"pause\", \"queue\": \"default\", \"data\": {\"duration\": 0.5}}",
        "{\"type\": \"update\", \"queue\": \"default\", \"data\": {\"attributes\": {\"edges\": {\"4-5\": {\"color\": \"green\"}}}, \"animation\": {\"edges\": {\"4-5\": {\"**\": {\"type\": \"traverse\", \"data\": {\"source\": \"4\"}}}}}}}",
        "{\"type\": \"pause\", \"queue\": \"default\", \"data\": {\"duration\": 0.5}}",
        "{\"type\": \"update\", \"queue\": \"default\", \"data\": {\"attributes\": {\"nodes\": {\"5\": {\"color\": \"green\"}}}, \"animation\": {}}}",
        "{\"type\": \"highlight\", \"queue\": \"default\", \"data\": {\"attributes\": {\"nodes\": {\"5\": {\"size\": \"1.25x\"}}}, \"animation\": {}}}",
        "{\"type\": \"pause\", \"queue\": \"default\", \"data\": {\"duration\": 0.5}}",
        "{\"type\": \"update\", \"queue\": \"default\", \"data\": {\"attributes\": {\"edges\": {\"5-6\": {\"color\": \"green\"}}}, \"animation\": {\"edges\": {\"5-6\": {\"**\": {\"type\": \"traverse\", \"data\": {\"source\": \"5\"}}}}}}}",
        "{\"type\": \"pause\", \"queue\": \"default\", \"data\": {\"duration\": 0.5}}",
        "{\"type\": \"update\", \"queue\": \"default\", \"data\": {\"attributes\": {\"nodes\": {\"6\": {\"color\": \"green\"}}}, \"animation\": {}}}",
        "{\"type\": \"highlight\", \"queue\": \"default\", \"data\": {\"attributes\": {\"nodes\": {\"6\": {\"size\": \"1.25x\"}}}, \"animation\": {}}}",
        "{\"type\": \"pause\", \"queue\": \"default\", \"data\": {\"duration\": 0.5}}",
        "{\"type\": \"update\", \"queue\": \"default\", \"data\": {\"attributes\": {\"edges\": {\"6-7\": {\"color\": \"green\"}}}, \"animation\": {\"edges\": {\"6-7\": {\"**\": {\"type\": \"traverse\", \"data\": {\"source\": \"6\"}}}}}}}",
        "{\"type\": \"pause\", \"queue\": \"default\", \"data\": {\"duration\": 0.5}}",
        "{\"type\": \"update\", \"queue\": \"default\", \"data\": {\"attributes\": {\"nodes\": {\"7\": {\"color\": \"green\"}}}, \"animation\": {}}}",
        "{\"type\": \"highlight\", \"queue\": \"default\", \"data\": {\"attributes\": {\"nodes\": {\"7\": {\"size\": \"1.25x\"}}}, \"animation\": {}}}",
        "{\"type\": \"pause\", \"queue\": \"default\", \"data\": {\"duration\": 0.5}}",
        "{\"type\": \"update\", \"queue\": \"default\", \"data\": {\"attributes\": {\"edges\": {\"7-8\": {\"color\": \"green\"}}}, \"animation\": {\"edges\": {\"7-8\": {\"**\": {\"type\": \"traverse\", \"data\": {\"source\": \"7\"}}}}}}}"
       ],
       "layout": "IPY_MODEL_15f7ac161f1b47a6ab17277101697d37",
       "show_buttons": true
      }
     },
     "7ef3db076df049d5bd0d2882457819f4": {
      "model_module": "@jupyter-widgets/base",
      "model_module_version": "1.1.0",
      "model_name": "LayoutModel",
      "state": {}
     },
     "7fe0b39321c24272b20961b35c6b8105": {
      "model_module": "@jupyter-widgets/base",
      "model_module_version": "1.1.0",
      "model_name": "LayoutModel",
      "state": {}
     },
     "92fedf352f32470a9ac6964f57a40bb7": {
      "model_module": "@jupyter-widgets/base",
      "model_module_version": "1.1.0",
      "model_name": "LayoutModel",
      "state": {}
     },
     "a171db688a63452081bd4370c1e1a088": {
      "model_module": "@jupyter-widgets/base",
      "model_module_version": "1.1.0",
      "model_name": "LayoutModel",
      "state": {}
     },
     "b2f3e98be83447d4ac5569e1e2129a01": {
      "model_module": "@jupyter-widgets/base",
      "model_module_version": "1.1.0",
      "model_name": "LayoutModel",
      "state": {}
     },
     "c298f32e1210435baac8817c0bc52a37": {
      "model_module": "algorithmx-jupyter",
      "model_module_version": "^2.0.0",
      "model_name": "AlgorithmxModel",
      "state": {
       "_model_module_version": "^2.0.0",
       "_view_module_version": "^2.0.0",
       "events": [
        "{\"type\": \"update\", \"queue\": \"default\", \"data\": {\"attributes\": {\"size\": [300, 200]}, \"animation\": {}}}",
        "{\"type\": \"update\", \"queue\": \"default\", \"data\": {\"attributes\": {\"nodes\": {\"1\": {\"visible\": true}, \"2\": {\"visible\": true}}}, \"animation\": {}}}",
        "{\"type\": \"update\", \"queue\": \"default\", \"data\": {\"attributes\": {\"edges\": {\"1-2\": {\"visible\": true, \"source\": \"1\", \"target\": \"2\"}}}, \"animation\": {}}}"
       ],
       "layout": "IPY_MODEL_4e01ee0f9568460a9b6f76bf73d5ecb8"
      }
     },
     "d7320c8630754ffba4db333c0191d038": {
      "model_module": "algorithmx-jupyter",
      "model_module_version": "^2.0.0",
      "model_name": "AlgorithmxModel",
      "state": {
       "_model_module_version": "^2.0.0",
       "_view_module_version": "^2.0.0",
       "events": [
        "{\"type\": \"update\", \"queue\": \"default\", \"data\": {\"attributes\": {\"size\": [300, 200]}, \"animation\": {}}}",
        "{\"type\": \"update\", \"queue\": \"default\", \"data\": {\"attributes\": {\"nodes\": {\"1\": {\"visible\": true}, \"2\": {\"visible\": true}}}, \"animation\": {}}}",
        "{\"type\": \"update\", \"queue\": \"default\", \"data\": {\"attributes\": {\"edges\": {\"1-2\": {\"visible\": true, \"source\": \"1\", \"target\": \"2\"}}}, \"animation\": {}}}"
       ],
       "layout": "IPY_MODEL_92fedf352f32470a9ac6964f57a40bb7"
      }
     },
     "e2b4eb09ad044ec6860cd250b42ae346": {
      "model_module": "algorithmx-jupyter",
      "model_module_version": "^2.0.0",
      "model_name": "AlgorithmxModel",
      "state": {
       "_model_module_version": "^2.0.0",
       "_view_module_version": "^2.0.0",
       "events": [
        "{\"type\": \"update\", \"queue\": \"default\", \"data\": {\"attributes\": {\"size\": [300, 200]}, \"animation\": {}}}",
        "{\"type\": \"update\", \"queue\": \"default\", \"data\": {\"attributes\": {\"nodes\": {\"1\": {\"visible\": true}, \"2\": {\"visible\": true}}}, \"animation\": {}}}",
        "{\"type\": \"update\", \"queue\": \"default\", \"data\": {\"attributes\": {\"edges\": {\"1-2\": {\"visible\": true, \"source\": \"1\", \"target\": \"2\"}}}, \"animation\": {}}}"
       ],
       "layout": "IPY_MODEL_7fe0b39321c24272b20961b35c6b8105"
      }
     },
     "e4a76a60e8524548b147197606f2da86": {
      "model_module": "algorithmx-jupyter",
      "model_module_version": "^2.0.0",
      "model_name": "AlgorithmxModel",
      "state": {
       "_model_module_version": "^2.0.0",
       "_view_module_version": "^2.0.0",
       "events": [
        "{\"type\": \"update\", \"queue\": \"default\", \"data\": {\"attributes\": {\"nodes\": {\"1\": {\"visible\": true}, \"2\": {\"visible\": true}, \"3\": {\"visible\": true}, \"4\": {\"visible\": true}, \"5\": {\"visible\": true}, \"6\": {\"visible\": true}, \"7\": {\"visible\": true}}}, \"animation\": {}}}",
        "{\"type\": \"update\", \"queue\": \"default\", \"data\": {\"attributes\": {\"edges\": {\"1-2\": {\"visible\": true, \"source\": \"1\", \"target\": \"2\"}, \"2-3\": {\"visible\": true, \"source\": \"2\", \"target\": \"3\"}, \"3-4\": {\"visible\": true, \"source\": \"3\", \"target\": \"4\"}, \"4-5\": {\"visible\": true, \"source\": \"4\", \"target\": \"5\"}, \"5-6\": {\"visible\": true, \"source\": \"5\", \"target\": \"6\"}, \"6-7\": {\"visible\": true, \"source\": \"6\", \"target\": \"7\"}, \"1-3\": {\"visible\": true, \"source\": \"1\", \"target\": \"3\"}, \"2-4\": {\"visible\": true, \"source\": \"2\", \"target\": \"4\"}, \"2-7\": {\"visible\": true, \"source\": \"2\", \"target\": \"7\"}}}, \"animation\": {}}}",
        "{\"type\": \"pause\", \"queue\": \"default\", \"data\": {\"duration\": 0.5}}",
        "{\"type\": \"update\", \"queue\": \"default\", \"data\": {\"attributes\": {\"nodes\": {\"1\": {\"color\": \"green\"}}}, \"animation\": {}}}",
        "{\"type\": \"highlight\", \"queue\": \"default\", \"data\": {\"attributes\": {\"nodes\": {\"1\": {\"size\": \"1.25x\"}}}, \"animation\": {}}}",
        "{\"type\": \"pause\", \"queue\": \"default\", \"data\": {\"duration\": 0.5}}",
        "{\"type\": \"update\", \"queue\": \"default\", \"data\": {\"attributes\": {\"edges\": {\"1-2\": {\"color\": \"green\"}}}, \"animation\": {\"edges\": {\"1-2\": {\"**\": {\"type\": \"traverse\", \"data\": {\"source\": \"1\"}}}}}}}",
        "{\"type\": \"pause\", \"queue\": \"default\", \"data\": {\"duration\": 0.5}}",
        "{\"type\": \"update\", \"queue\": \"default\", \"data\": {\"attributes\": {\"nodes\": {\"2\": {\"color\": \"green\"}}}, \"animation\": {}}}",
        "{\"type\": \"highlight\", \"queue\": \"default\", \"data\": {\"attributes\": {\"nodes\": {\"2\": {\"size\": \"1.25x\"}}}, \"animation\": {}}}",
        "{\"type\": \"pause\", \"queue\": \"default\", \"data\": {\"duration\": 0.5}}",
        "{\"type\": \"update\", \"queue\": \"default\", \"data\": {\"attributes\": {\"edges\": {\"2-3\": {\"color\": \"green\"}}}, \"animation\": {\"edges\": {\"2-3\": {\"**\": {\"type\": \"traverse\", \"data\": {\"source\": \"2\"}}}}}}}",
        "{\"type\": \"pause\", \"queue\": \"default\", \"data\": {\"duration\": 0.5}}",
        "{\"type\": \"update\", \"queue\": \"default\", \"data\": {\"attributes\": {\"nodes\": {\"3\": {\"color\": \"green\"}}}, \"animation\": {}}}",
        "{\"type\": \"highlight\", \"queue\": \"default\", \"data\": {\"attributes\": {\"nodes\": {\"3\": {\"size\": \"1.25x\"}}}, \"animation\": {}}}",
        "{\"type\": \"pause\", \"queue\": \"default\", \"data\": {\"duration\": 0.5}}",
        "{\"type\": \"update\", \"queue\": \"default\", \"data\": {\"attributes\": {\"edges\": {\"3-4\": {\"color\": \"green\"}}}, \"animation\": {\"edges\": {\"3-4\": {\"**\": {\"type\": \"traverse\", \"data\": {\"source\": \"3\"}}}}}}}",
        "{\"type\": \"pause\", \"queue\": \"default\", \"data\": {\"duration\": 0.5}}",
        "{\"type\": \"update\", \"queue\": \"default\", \"data\": {\"attributes\": {\"nodes\": {\"4\": {\"color\": \"green\"}}}, \"animation\": {}}}",
        "{\"type\": \"highlight\", \"queue\": \"default\", \"data\": {\"attributes\": {\"nodes\": {\"4\": {\"size\": \"1.25x\"}}}, \"animation\": {}}}",
        "{\"type\": \"pause\", \"queue\": \"default\", \"data\": {\"duration\": 0.5}}",
        "{\"type\": \"update\", \"queue\": \"default\", \"data\": {\"attributes\": {\"edges\": {\"4-5\": {\"color\": \"green\"}}}, \"animation\": {\"edges\": {\"4-5\": {\"**\": {\"type\": \"traverse\", \"data\": {\"source\": \"4\"}}}}}}}",
        "{\"type\": \"pause\", \"queue\": \"default\", \"data\": {\"duration\": 0.5}}",
        "{\"type\": \"update\", \"queue\": \"default\", \"data\": {\"attributes\": {\"nodes\": {\"5\": {\"color\": \"green\"}}}, \"animation\": {}}}",
        "{\"type\": \"highlight\", \"queue\": \"default\", \"data\": {\"attributes\": {\"nodes\": {\"5\": {\"size\": \"1.25x\"}}}, \"animation\": {}}}",
        "{\"type\": \"pause\", \"queue\": \"default\", \"data\": {\"duration\": 0.5}}",
        "{\"type\": \"update\", \"queue\": \"default\", \"data\": {\"attributes\": {\"edges\": {\"5-6\": {\"color\": \"green\"}}}, \"animation\": {\"edges\": {\"5-6\": {\"**\": {\"type\": \"traverse\", \"data\": {\"source\": \"5\"}}}}}}}",
        "{\"type\": \"pause\", \"queue\": \"default\", \"data\": {\"duration\": 0.5}}",
        "{\"type\": \"update\", \"queue\": \"default\", \"data\": {\"attributes\": {\"nodes\": {\"6\": {\"color\": \"green\"}}}, \"animation\": {}}}",
        "{\"type\": \"highlight\", \"queue\": \"default\", \"data\": {\"attributes\": {\"nodes\": {\"6\": {\"size\": \"1.25x\"}}}, \"animation\": {}}}",
        "{\"type\": \"pause\", \"queue\": \"default\", \"data\": {\"duration\": 0.5}}",
        "{\"type\": \"update\", \"queue\": \"default\", \"data\": {\"attributes\": {\"edges\": {\"6-7\": {\"color\": \"green\"}}}, \"animation\": {\"edges\": {\"6-7\": {\"**\": {\"type\": \"traverse\", \"data\": {\"source\": \"6\"}}}}}}}",
        "{\"type\": \"pause\", \"queue\": \"default\", \"data\": {\"duration\": 0.5}}",
        "{\"type\": \"update\", \"queue\": \"default\", \"data\": {\"attributes\": {\"nodes\": {\"7\": {\"color\": \"green\"}}}, \"animation\": {}}}",
        "{\"type\": \"highlight\", \"queue\": \"default\", \"data\": {\"attributes\": {\"nodes\": {\"7\": {\"size\": \"1.25x\"}}}, \"animation\": {}}}",
        "{\"type\": \"pause\", \"queue\": \"default\", \"data\": {\"duration\": 0.5}}",
        "{\"type\": \"update\", \"queue\": \"default\", \"data\": {\"attributes\": {\"edges\": {\"7-8\": {\"color\": \"green\"}}}, \"animation\": {\"edges\": {\"7-8\": {\"**\": {\"type\": \"traverse\", \"data\": {\"source\": \"7\"}}}}}}}"
       ],
       "layout": "IPY_MODEL_539c7a385963431c97cd57e0ee89d8d8",
       "show_buttons": true
      }
     }
    },
    "version_major": 2,
    "version_minor": 0
   }
  }
 },
 "nbformat": 4,
 "nbformat_minor": 2
}
