{
 "cells": [
  {
   "cell_type": "markdown",
   "metadata": {},
   "source": [
    "# Basic Examples"
   ]
  },
  {
   "cell_type": "markdown",
   "metadata": {},
   "source": [
    "Let's import the library and create a simple network. You can hold down `ctrl`/`cmd` to zoom in."
   ]
  },
  {
   "cell_type": "code",
   "execution_count": 1,
   "metadata": {
    "scrolled": true
   },
   "outputs": [
    {
     "data": {
      "application/vnd.jupyter.widget-view+json": {
       "model_id": "a40589eea410456ca864e0b7b7630c21",
       "version_major": 2,
       "version_minor": 0
      },
      "text/plain": [
       "JupyterWidget()"
      ]
     },
     "metadata": {},
     "output_type": "display_data"
    }
   ],
   "source": [
    "import algorithmx\n",
    "\n",
    "widget = algorithmx.jupyter_widget()\n",
    "canvas = widget.canvas().size((300, 200))\n",
    "\n",
    "canvas.nodes([1, 2]).add()\n",
    "canvas.edge((1, 2)).add()\n",
    "\n",
    "widget"
   ]
  },
  {
   "cell_type": "markdown",
   "metadata": {},
   "source": [
    "That's nice, but now we would like to animate it. Let's also add some buttons so that we can easily start/stop/restart our animation."
   ]
  },
  {
   "cell_type": "code",
   "execution_count": 2,
   "metadata": {
    "scrolled": true
   },
   "outputs": [
    {
     "data": {
      "application/vnd.jupyter.widget-view+json": {
       "model_id": "18d25ca0a7ee4aca8e4a7f116d51e90a",
       "version_major": 2,
       "version_minor": 0
      },
      "text/plain": [
       "JupyterWidget()"
      ]
     },
     "metadata": {},
     "output_type": "display_data"
    }
   ],
   "source": [
    "widget = algorithmx.jupyter_widget(buttons=True)\n",
    "canvas = widget.canvas().size((300, 200))\n",
    "\n",
    "canvas.nodes([1, 2]).add()\n",
    "canvas.edge((1, 2)).add()\n",
    "\n",
    "canvas.pause(0.5)\n",
    "\n",
    "canvas.node(1).highlight(1.0).size('1.25x').pause(0.5)\n",
    "canvas.edge((1, 2)).traverse().color('blue')\n",
    "\n",
    "widget"
   ]
  },
  {
   "cell_type": "markdown",
   "metadata": {},
   "source": [
    "Finally, lets apply all of this to a larger graph."
   ]
  },
  {
   "cell_type": "code",
   "execution_count": 3,
   "metadata": {
    "scrolled": false
   },
   "outputs": [
    {
     "data": {
      "application/vnd.jupyter.widget-view+json": {
       "model_id": "7ecccb25a6c54b84b06a395e9a62818b",
       "version_major": 2,
       "version_minor": 0
      },
      "text/plain": [
       "JupyterWidget()"
      ]
     },
     "metadata": {},
     "output_type": "display_data"
    }
   ],
   "source": [
    "widget = algorithmx.jupyter_widget(buttons=True)\n",
    "canvas = widget.canvas()\n",
    "\n",
    "canvas.nodes(range(1, 8)).add()\n",
    "canvas.edges([(i, i+1) for i in range(1, 7)]\n",
    "           + [(1, 3), (2, 4), (2, 7)]).add()\n",
    "\n",
    "for i in range(1, 8):\n",
    "    canvas.pause(0.5)\n",
    "    canvas.node(i).color('green').highlight(0.7).size('1.25x')\n",
    "    if i < 8:\n",
    "        canvas.pause(0.5)\n",
    "        canvas.edge((i, i+1)).traverse().color('green')\n",
    "\n",
    "widget"
   ]
  }
 ],
 "metadata": {
  "kernelspec": {
   "display_name": "Python 3",
   "language": "python",
   "name": "python3"
  },
  "language_info": {
   "codemirror_mode": {
    "name": "ipython",
    "version": 3
   },
   "file_extension": ".py",
   "mimetype": "text/x-python",
   "name": "python",
   "nbconvert_exporter": "python",
   "pygments_lexer": "ipython3",
   "version": "3.6.7"
  },
  "widgets": {
   "application/vnd.jupyter.widget-state+json": {
    "state": {
     "012e26874b0e418f964d0bf6675778a5": {
      "model_module": "@jupyter-widgets/controls",
      "model_module_version": "1.4.0",
      "model_name": "ButtonStyleModel",
      "state": {}
     },
     "02564e778fb849e2ad3ebddacb986c59": {
      "model_module": "algorithmx-jupyter",
      "model_module_version": "latest",
      "model_name": "CanvasModel",
      "state": {
       "_dispatch_events": [
        "{\"type\": \"update\", \"queue\": \"default\", \"data\": {\"attributes\": {\"size\": [300, 200]}, \"animation\": {}}}",
        "{\"type\": \"update\", \"queue\": \"default\", \"data\": {\"attributes\": {\"nodes\": {\"1\": {\"visible\": true}, \"2\": {\"visible\": true}}}, \"animation\": {}}}",
        "{\"type\": \"update\", \"queue\": \"default\", \"data\": {\"attributes\": {\"edges\": {\"1-2\": {\"visible\": true, \"source\": \"1\", \"target\": \"2\"}}}, \"animation\": {}}}"
       ],
       "_model_module_version": "latest",
       "_show_buttons": false,
       "_view_module_version": "latest",
       "_view_name": "CanvasView",
       "layout": "IPY_MODEL_953001385c4b49b497aa3f61c8642270"
      }
     },
     "02ee74ad1db64c61b69cfa9ab704b133": {
      "model_module": "@jupyter-widgets/base",
      "model_module_version": "1.1.0",
      "model_name": "LayoutModel",
      "state": {}
     },
     "03c66f866b864aceb9ccba568ec50502": {
      "model_module": "@jupyter-widgets/base",
      "model_module_version": "1.1.0",
      "model_name": "LayoutModel",
      "state": {}
     },
     "0478f61ca9354450b9d8fcdca2438fab": {
      "model_module": "@jupyter-widgets/base",
      "model_module_version": "1.1.0",
      "model_name": "LayoutModel",
      "state": {}
     },
     "04a8f66248794cdeb27806157196e31f": {
      "model_module": "@jupyter-widgets/controls",
      "model_module_version": "1.4.0",
      "model_name": "ButtonStyleModel",
      "state": {}
     },
     "051bcc6fa6ea43bfb63f5e1773b7bca0": {
      "model_module": "@jupyter-widgets/base",
      "model_module_version": "1.1.0",
      "model_name": "LayoutModel",
      "state": {}
     },
     "054222bc835048f2bb0634868172d333": {
      "model_module": "@jupyter-widgets/base",
      "model_module_version": "1.1.0",
      "model_name": "LayoutModel",
      "state": {}
     },
     "06f0d8d49ee54b299174bb2510e65068": {
      "model_module": "algorithmx-jupyter",
      "model_module_version": "^1.0.0",
      "model_name": "CanvasModel",
      "state": {
       "_dispatch_events": [
        "{\"type\": \"update\", \"queue\": \"default\", \"data\": {\"attributes\": {\"size\": [300, 200]}, \"animation\": {\"duration\": 0}}}",
        "{\"type\": \"update\", \"queue\": \"default\", \"data\": {\"attributes\": {\"nodes\": {\"1\": {\"visible\": true}, \"2\": {\"visible\": true}}}, \"animation\": {}}}",
        "{\"type\": \"update\", \"queue\": \"default\", \"data\": {\"attributes\": {\"edges\": {\"1-2\": {\"visible\": true, \"source\": \"1\", \"target\": \"2\"}}}, \"animation\": {}}}",
        "{\"type\": \"pause\", \"queue\": \"default\", \"data\": {\"duration\": 0.5}}",
        "{\"type\": \"highlight\", \"queue\": \"default\", \"data\": {\"attributes\": {\"nodes\": {\"1\": {\"size\": \"1.5x\"}}}, \"animation\": {\"linger\": 1.0}}}",
        "{\"type\": \"pause\", \"queue\": \"default\", \"data\": {\"duration\": 0.5}}",
        "{\"type\": \"update\", \"queue\": \"default\", \"data\": {\"attributes\": {\"edges\": {\"1-2\": {\"color\": \"blue\"}}}, \"animation\": {\"type\": \"traverse\"}}}"
       ],
       "_model_module_version": "^1.0.0",
       "_show_buttons": true,
       "_view_module_version": "^1.0.0",
       "_view_name": "CanvasView",
       "layout": "IPY_MODEL_a835e3020e6848cc84154e41e962cad5"
      }
     },
     "073e78f5b0f54cdfb022f9e1e03951fa": {
      "model_module": "algorithmx-jupyter",
      "model_module_version": "^1.0.0",
      "model_name": "CanvasModel",
      "state": {
       "_dispatch_events": [
        "{\"type\": \"update\", \"queue\": \"default\", \"data\": {\"attributes\": {\"edgelengths\": \"individual\"}, \"animation\": {}}}",
        "{\"type\": \"update\", \"queue\": \"default\", \"data\": {\"attributes\": {\"nodes\": {\"center\": {\"visible\": true}}}, \"animation\": {}}}",
        "{\"type\": \"update\", \"queue\": \"default\", \"data\": {\"attributes\": {\"nodes\": {\"center\": {\"shape\": \"rect\"}}}, \"animation\": {\"duration\": 0}}}",
        "{\"type\": \"update\", \"queue\": \"default\", \"data\": {\"attributes\": {\"nodes\": {\"center\": {\"size\": [90, 50]}}}, \"animation\": {\"duration\": 0}}}",
        "{\"type\": \"update\", \"queue\": \"default\", \"data\": {\"attributes\": {\"nodes\": {\"center\": {\"labels\": {\"text\": {\"visible\": true}}}}}, \"animation\": {\"duration\": 0}}}",
        "{\"type\": \"update\", \"queue\": \"default\", \"data\": {\"attributes\": {\"nodes\": {\"center\": {\"labels\": {\"text\": {\"radius\": 0}}}}}, \"animation\": {\"duration\": 0}}}",
        "{\"type\": \"update\", \"queue\": \"default\", \"data\": {\"attributes\": {\"nodes\": {\"center\": {\"labels\": {\"text\": {\"size\": 12}}}}}, \"animation\": {\"duration\": 0}}}",
        "{\"type\": \"update\", \"queue\": \"default\", \"data\": {\"attributes\": {\"nodes\": {\"center\": {\"labels\": {\"text\": {\"align\": \"middle-left\"}}}}}, \"animation\": {\"duration\": 0}}}",
        "{\"type\": \"update\", \"queue\": \"default\", \"data\": {\"attributes\": {\"nodes\": {\"center\": {\"labels\": {\"text\": {\"pos\": [\"-0.5x\", 0]}}}}}, \"animation\": {\"duration\": 0}}}",
        "{\"type\": \"update\", \"queue\": \"default\", \"data\": {\"attributes\": {\"nodes\": {\"center\": {\"labels\": {\"text\": {\"color\": \"white\"}}}}}, \"animation\": {\"duration\": 0}}}",
        "{\"type\": \"update\", \"queue\": \"default\", \"data\": {\"attributes\": {\"nodes\": {\"center\": {\"labels\": {\"text\": {\"size\": 13}}}}}, \"animation\": {\"duration\": 0}}}",
        "{\"type\": \"update\", \"queue\": \"default\", \"data\": {\"attributes\": {\"nodes\": {\"center\": {\"labels\": {\"text\": {\"text\": \"A library for network\\nvisualization and\\nalgorithm simulation\"}}}}}, \"animation\": {\"duration\": 0}}}",
        "{\"type\": \"update\", \"queue\": \"default\", \"data\": {\"attributes\": {\"nodes\": {\"center\": {\"labels\": {\"value\": {\"align\": \"top-middle\"}}}}}, \"animation\": {\"duration\": 0}}}",
        "{\"type\": \"update\", \"queue\": \"default\", \"data\": {\"attributes\": {\"nodes\": {\"center\": {\"labels\": {\"value\": {\"rotate\": true}}}}}, \"animation\": {\"duration\": 0}}}",
        "{\"type\": \"update\", \"queue\": \"default\", \"data\": {\"attributes\": {\"nodes\": {\"center\": {\"labels\": {\"value\": {\"angle\": 0}}}}}, \"animation\": {\"duration\": 0}}}",
        "{\"type\": \"update\", \"queue\": \"default\", \"data\": {\"attributes\": {\"nodes\": {\"center\": {\"labels\": {\"value\": {\"pos\": [\"-0.8x\", 0]}}}}}, \"animation\": {\"duration\": 0}}}",
        "{\"type\": \"update\", \"queue\": \"default\", \"data\": {\"attributes\": {\"nodes\": {\"center\": {\"labels\": {\"value\": {\"size\": 15}}}}}, \"animation\": {\"duration\": 0}}}",
        "{\"type\": \"update\", \"queue\": \"default\", \"data\": {\"attributes\": {\"nodes\": {\"center\": {\"labels\": {\"value\": {\"text\": \"AlgorithmX\"}}}}}, \"animation\": {\"duration\": 0}}}",
        "{\"type\": \"update\", \"queue\": \"default\", \"data\": {\"attributes\": {\"nodes\": {\"r.1\": {\"visible\": true}, \"r.2\": {\"visible\": true}, \"r.3\": {\"visible\": true}, \"r.4\": {\"visible\": true}, \"r.5\": {\"visible\": true}, \"r.6\": {\"visible\": true}}}, \"animation\": {}}}",
        "{\"type\": \"update\", \"queue\": \"default\", \"data\": {\"attributes\": {\"nodes\": {\"r.1\": {\"labels\": {\"value\": {\"text\": 1}}}}}, \"animation\": {}}}",
        "{\"type\": \"update\", \"queue\": \"default\", \"data\": {\"attributes\": {\"edges\": {\"center-r.1\": {\"visible\": true, \"source\": \"r.1\", \"target\": \"center\"}}}, \"animation\": {}}}",
        "{\"type\": \"update\", \"queue\": \"default\", \"data\": {\"attributes\": {\"edges\": {\"center-r.1\": {\"length\": 130}}}, \"animation\": {\"duration\": 0}}}",
        "{\"type\": \"update\", \"queue\": \"default\", \"data\": {\"attributes\": {\"edges\": {\"center-r.1\": {\"directed\": true}}}, \"animation\": {\"duration\": 0}}}",
        "{\"type\": \"update\", \"queue\": \"default\", \"data\": {\"attributes\": {\"edges\": {\"r.1-r.2\": {\"visible\": true, \"source\": \"r.1\", \"target\": \"r.2\"}}}, \"animation\": {}}}",
        "{\"type\": \"update\", \"queue\": \"default\", \"data\": {\"attributes\": {\"edges\": {\"r.1-r.2\": {\"length\": 120}}}, \"animation\": {\"duration\": 0}}}",
        "{\"type\": \"update\", \"queue\": \"default\", \"data\": {\"attributes\": {\"nodes\": {\"r.2\": {\"labels\": {\"value\": {\"text\": 2}}}}}, \"animation\": {}}}",
        "{\"type\": \"update\", \"queue\": \"default\", \"data\": {\"attributes\": {\"edges\": {\"center-r.2\": {\"visible\": true, \"source\": \"r.2\", \"target\": \"center\"}}}, \"animation\": {}}}",
        "{\"type\": \"update\", \"queue\": \"default\", \"data\": {\"attributes\": {\"edges\": {\"center-r.2\": {\"length\": 130}}}, \"animation\": {\"duration\": 0}}}",
        "{\"type\": \"update\", \"queue\": \"default\", \"data\": {\"attributes\": {\"edges\": {\"center-r.2\": {\"directed\": true}}}, \"animation\": {\"duration\": 0}}}",
        "{\"type\": \"update\", \"queue\": \"default\", \"data\": {\"attributes\": {\"edges\": {\"r.2-r.3\": {\"visible\": true, \"source\": \"r.2\", \"target\": \"r.3\"}}}, \"animation\": {}}}",
        "{\"type\": \"update\", \"queue\": \"default\", \"data\": {\"attributes\": {\"edges\": {\"r.2-r.3\": {\"length\": 120}}}, \"animation\": {\"duration\": 0}}}",
        "{\"type\": \"update\", \"queue\": \"default\", \"data\": {\"attributes\": {\"nodes\": {\"r.3\": {\"labels\": {\"value\": {\"text\": 3}}}}}, \"animation\": {}}}",
        "{\"type\": \"update\", \"queue\": \"default\", \"data\": {\"attributes\": {\"edges\": {\"center-r.3\": {\"visible\": true, \"source\": \"r.3\", \"target\": \"center\"}}}, \"animation\": {}}}",
        "{\"type\": \"update\", \"queue\": \"default\", \"data\": {\"attributes\": {\"edges\": {\"center-r.3\": {\"length\": 130}}}, \"animation\": {\"duration\": 0}}}",
        "{\"type\": \"update\", \"queue\": \"default\", \"data\": {\"attributes\": {\"edges\": {\"center-r.3\": {\"directed\": true}}}, \"animation\": {\"duration\": 0}}}",
        "{\"type\": \"update\", \"queue\": \"default\", \"data\": {\"attributes\": {\"edges\": {\"r.3-r.4\": {\"visible\": true, \"source\": \"r.3\", \"target\": \"r.4\"}}}, \"animation\": {}}}",
        "{\"type\": \"update\", \"queue\": \"default\", \"data\": {\"attributes\": {\"edges\": {\"r.3-r.4\": {\"length\": 120}}}, \"animation\": {\"duration\": 0}}}",
        "{\"type\": \"update\", \"queue\": \"default\", \"data\": {\"attributes\": {\"nodes\": {\"r.4\": {\"labels\": {\"value\": {\"text\": 4}}}}}, \"animation\": {}}}",
        "{\"type\": \"update\", \"queue\": \"default\", \"data\": {\"attributes\": {\"edges\": {\"center-r.4\": {\"visible\": true, \"source\": \"r.4\", \"target\": \"center\"}}}, \"animation\": {}}}",
        "{\"type\": \"update\", \"queue\": \"default\", \"data\": {\"attributes\": {\"edges\": {\"center-r.4\": {\"length\": 130}}}, \"animation\": {\"duration\": 0}}}",
        "{\"type\": \"update\", \"queue\": \"default\", \"data\": {\"attributes\": {\"edges\": {\"center-r.4\": {\"directed\": true}}}, \"animation\": {\"duration\": 0}}}",
        "{\"type\": \"update\", \"queue\": \"default\", \"data\": {\"attributes\": {\"edges\": {\"r.4-r.5\": {\"visible\": true, \"source\": \"r.4\", \"target\": \"r.5\"}}}, \"animation\": {}}}",
        "{\"type\": \"update\", \"queue\": \"default\", \"data\": {\"attributes\": {\"edges\": {\"r.4-r.5\": {\"length\": 120}}}, \"animation\": {\"duration\": 0}}}",
        "{\"type\": \"update\", \"queue\": \"default\", \"data\": {\"attributes\": {\"nodes\": {\"r.5\": {\"labels\": {\"value\": {\"text\": 5}}}}}, \"animation\": {}}}",
        "{\"type\": \"update\", \"queue\": \"default\", \"data\": {\"attributes\": {\"edges\": {\"center-r.5\": {\"visible\": true, \"source\": \"r.5\", \"target\": \"center\"}}}, \"animation\": {}}}",
        "{\"type\": \"update\", \"queue\": \"default\", \"data\": {\"attributes\": {\"edges\": {\"center-r.5\": {\"length\": 130}}}, \"animation\": {\"duration\": 0}}}",
        "{\"type\": \"update\", \"queue\": \"default\", \"data\": {\"attributes\": {\"edges\": {\"center-r.5\": {\"directed\": true}}}, \"animation\": {\"duration\": 0}}}",
        "{\"type\": \"update\", \"queue\": \"default\", \"data\": {\"attributes\": {\"edges\": {\"r.5-r.6\": {\"visible\": true, \"source\": \"r.5\", \"target\": \"r.6\"}}}, \"animation\": {}}}",
        "{\"type\": \"update\", \"queue\": \"default\", \"data\": {\"attributes\": {\"edges\": {\"r.5-r.6\": {\"length\": 120}}}, \"animation\": {\"duration\": 0}}}",
        "{\"type\": \"update\", \"queue\": \"default\", \"data\": {\"attributes\": {\"nodes\": {\"r.6\": {\"labels\": {\"value\": {\"text\": 6}}}}}, \"animation\": {}}}",
        "{\"type\": \"update\", \"queue\": \"default\", \"data\": {\"attributes\": {\"edges\": {\"center-r.6\": {\"visible\": true, \"source\": \"r.6\", \"target\": \"center\"}}}, \"animation\": {}}}",
        "{\"type\": \"update\", \"queue\": \"default\", \"data\": {\"attributes\": {\"edges\": {\"center-r.6\": {\"length\": 130}}}, \"animation\": {\"duration\": 0}}}",
        "{\"type\": \"update\", \"queue\": \"default\", \"data\": {\"attributes\": {\"edges\": {\"center-r.6\": {\"directed\": true}}}, \"animation\": {\"duration\": 0}}}",
        "{\"type\": \"update\", \"queue\": \"default\", \"data\": {\"attributes\": {\"edges\": {\"r.1-r.6\": {\"visible\": true, \"source\": \"r.6\", \"target\": \"r.1\"}}}, \"animation\": {}}}",
        "{\"type\": \"update\", \"queue\": \"default\", \"data\": {\"attributes\": {\"edges\": {\"r.1-r.6\": {\"length\": 120}}}, \"animation\": {\"duration\": 0}}}",
        "{\"type\": \"update\", \"queue\": \"default\", \"data\": {\"attributes\": {\"nodes\": {\"r.1\": {\"color\": \"red\"}}}, \"animation\": {}}}",
        "{\"type\": \"update\", \"queue\": \"default\", \"data\": {\"attributes\": {\"nodes\": {\"r.2\": {\"color\": \"blue\"}}}, \"animation\": {}}}",
        "{\"type\": \"update\", \"queue\": \"default\", \"data\": {\"attributes\": {\"nodes\": {\"r.3\": {\"color\": \"green\"}}}, \"animation\": {}}}",
        "{\"type\": \"update\", \"queue\": \"default\", \"data\": {\"attributes\": {\"nodes\": {\"r.4\": {\"color\": \"orange\"}}}, \"animation\": {}}}",
        "{\"type\": \"update\", \"queue\": \"default\", \"data\": {\"attributes\": {\"nodes\": {\"r.5\": {\"color\": \"green\"}}}, \"animation\": {}}}",
        "{\"type\": \"update\", \"queue\": \"default\", \"data\": {\"attributes\": {\"nodes\": {\"r.6\": {\"color\": \"blue\"}}}, \"animation\": {}}}",
        "{\"type\": \"update\", \"queue\": \"default\", \"data\": {\"attributes\": {\"edges\": {\"r.6-r.6-1\": {\"visible\": true, \"source\": \"r.6\", \"target\": \"r.6\"}, \"r.6-r.6-2\": {\"visible\": true, \"source\": \"r.6\", \"target\": \"r.6\"}}}, \"animation\": {}}}",
        "{\"type\": \"update\", \"queue\": \"default\", \"data\": {\"attributes\": {\"nodes\": {\"D3\": {\"visible\": true}}}, \"animation\": {}}}",
        "{\"type\": \"update\", \"queue\": \"default\", \"data\": {\"attributes\": {\"nodes\": {\"D3\": {\"size\": 40}}}, \"animation\": {\"duration\": 0}}}",
        "{\"type\": \"update\", \"queue\": \"default\", \"data\": {\"attributes\": {\"nodes\": {\"D3\": {\"labels\": {\"value\": {\"text\": \"Rendered\\nwith D3\"}}}}}, \"animation\": {\"duration\": 0}}}",
        "{\"type\": \"update\", \"queue\": \"default\", \"data\": {\"attributes\": {\"edges\": {\"D3-r.1-1\": {\"visible\": true, \"source\": \"r.1\", \"target\": \"D3\"}, \"D3-r.1-2\": {\"visible\": true, \"source\": \"r.1\", \"target\": \"D3\"}, \"D3-r.1-3\": {\"visible\": true, \"source\": \"r.1\", \"target\": \"D3\"}, \"D3-r.1-4\": {\"visible\": true, \"source\": \"r.1\", \"target\": \"D3\"}, \"D3-r.1-5\": {\"visible\": true, \"source\": \"r.1\", \"target\": \"D3\"}}}, \"animation\": {}}}",
        "{\"type\": \"update\", \"queue\": \"default\", \"data\": {\"attributes\": {\"edges\": {\"D3-r.1-1\": {\"length\": 100}, \"D3-r.1-2\": {\"length\": 100}, \"D3-r.1-3\": {\"length\": 100}, \"D3-r.1-4\": {\"length\": 100}, \"D3-r.1-5\": {\"length\": 100}}}, \"animation\": {\"duration\": 0}}}",
        "{\"type\": \"update\", \"queue\": \"default\", \"data\": {\"attributes\": {\"nodes\": {\"cola\": {\"visible\": true}}}, \"animation\": {}}}",
        "{\"type\": \"update\", \"queue\": \"default\", \"data\": {\"attributes\": {\"nodes\": {\"cola\": {\"shape\": \"rect\"}}}, \"animation\": {\"duration\": 0}}}",
        "{\"type\": \"update\", \"queue\": \"default\", \"data\": {\"attributes\": {\"nodes\": {\"cola\": {\"size\": [40, 25]}}}, \"animation\": {\"duration\": 0}}}",
        "{\"type\": \"update\", \"queue\": \"default\", \"data\": {\"attributes\": {\"nodes\": {\"cola\": {\"labels\": {\"value\": {\"text\": \"Layout by\\nWebCola\"}}}}}, \"animation\": {\"duration\": 0}}}",
        "{\"type\": \"update\", \"queue\": \"default\", \"data\": {\"attributes\": {\"edges\": {\"cola-r.4\": {\"visible\": true, \"source\": \"r.4\", \"target\": \"cola\"}}}, \"animation\": {}}}",
        "{\"type\": \"update\", \"queue\": \"default\", \"data\": {\"attributes\": {\"edges\": {\"cola-r.4\": {\"path\": [[-5, 10], [5, -10]]}}}, \"animation\": {\"duration\": 0}}}",
        "{\"type\": \"update\", \"queue\": \"default\", \"data\": {\"attributes\": {\"edges\": {\"cola-r.4\": {\"length\": 100}}}, \"animation\": {\"duration\": 0}}}",
        "{\"type\": \"update\", \"queue\": \"default\", \"data\": {\"attributes\": {\"edges\": {\"cola-r.4\": {\"flip\": false}}}, \"animation\": {\"duration\": 0}}}",
        "{\"type\": \"update\", \"queue\": \"default\", \"data\": {\"attributes\": {\"nodes\": {\"clock\": {\"visible\": true}}}, \"animation\": {}}}",
        "{\"type\": \"update\", \"queue\": \"default\", \"data\": {\"attributes\": {\"nodes\": {\"clock\": {\"size\": 25}}}, \"animation\": {\"duration\": 0}}}",
        "{\"type\": \"update\", \"queue\": \"default\", \"data\": {\"attributes\": {\"nodes\": {\"clock\": {\"labels\": {\"value\": {\"text\": \"\\ud83d\\udd53\"}}}}}, \"animation\": {\"duration\": 0}}}",
        "{\"type\": \"update\", \"queue\": \"default\", \"data\": {\"attributes\": {\"nodes\": {\"clock\": {\"labels\": {\"value\": {\"size\": 18}}}}}, \"animation\": {\"duration\": 0}}}",
        "{\"type\": \"update\", \"queue\": \"default\", \"data\": {\"attributes\": {\"nodes\": {\"clock\": {\"labels\": {\"value\": {\"pos\": [0, -3]}}}}}, \"animation\": {\"duration\": 0}}}",
        "{\"type\": \"update\", \"queue\": \"default\", \"data\": {\"attributes\": {\"nodes\": {\"clock\": {\"labels\": {\"1\": {\"visible\": true}}}}}, \"animation\": {}}}",
        "{\"type\": \"update\", \"queue\": \"default\", \"data\": {\"attributes\": {\"nodes\": {\"clock\": {\"labels\": {\"1\": {\"radius\": \"r+5\"}}}}}, \"animation\": {\"duration\": 0}}}",
        "{\"type\": \"update\", \"queue\": \"default\", \"data\": {\"attributes\": {\"nodes\": {\"clock\": {\"labels\": {\"1\": {\"angle\": 60}}}}}, \"animation\": {\"duration\": 0}}}",
        "{\"type\": \"update\", \"queue\": \"default\", \"data\": {\"attributes\": {\"nodes\": {\"clock\": {\"labels\": {\"1\": {\"size\": 11}}}}}, \"animation\": {\"duration\": 0}}}",
        "{\"type\": \"update\", \"queue\": \"default\", \"data\": {\"attributes\": {\"nodes\": {\"clock\": {\"labels\": {\"1\": {\"rotate\": true}}}}}, \"animation\": {\"duration\": 0}}}",
        "{\"type\": \"update\", \"queue\": \"default\", \"data\": {\"attributes\": {\"nodes\": {\"clock\": {\"labels\": {\"2\": {\"visible\": true}}}}}, \"animation\": {}}}",
        "{\"type\": \"update\", \"queue\": \"default\", \"data\": {\"attributes\": {\"nodes\": {\"clock\": {\"labels\": {\"2\": {\"radius\": \"r+5\"}}}}}, \"animation\": {\"duration\": 0}}}",
        "{\"type\": \"update\", \"queue\": \"default\", \"data\": {\"attributes\": {\"nodes\": {\"clock\": {\"labels\": {\"2\": {\"angle\": 30}}}}}, \"animation\": {\"duration\": 0}}}",
        "{\"type\": \"update\", \"queue\": \"default\", \"data\": {\"attributes\": {\"nodes\": {\"clock\": {\"labels\": {\"2\": {\"size\": 11}}}}}, \"animation\": {\"duration\": 0}}}",
        "{\"type\": \"update\", \"queue\": \"default\", \"data\": {\"attributes\": {\"nodes\": {\"clock\": {\"labels\": {\"2\": {\"rotate\": true}}}}}, \"animation\": {\"duration\": 0}}}",
        "{\"type\": \"update\", \"queue\": \"default\", \"data\": {\"attributes\": {\"nodes\": {\"clock\": {\"labels\": {\"3\": {\"visible\": true}}}}}, \"animation\": {}}}",
        "{\"type\": \"update\", \"queue\": \"default\", \"data\": {\"attributes\": {\"nodes\": {\"clock\": {\"labels\": {\"3\": {\"radius\": \"r+5\"}}}}}, \"animation\": {\"duration\": 0}}}",
        "{\"type\": \"update\", \"queue\": \"default\", \"data\": {\"attributes\": {\"nodes\": {\"clock\": {\"labels\": {\"3\": {\"angle\": 0}}}}}, \"animation\": {\"duration\": 0}}}",
        "{\"type\": \"update\", \"queue\": \"default\", \"data\": {\"attributes\": {\"nodes\": {\"clock\": {\"labels\": {\"3\": {\"size\": 11}}}}}, \"animation\": {\"duration\": 0}}}",
        "{\"type\": \"update\", \"queue\": \"default\", \"data\": {\"attributes\": {\"nodes\": {\"clock\": {\"labels\": {\"3\": {\"rotate\": true}}}}}, \"animation\": {\"duration\": 0}}}",
        "{\"type\": \"update\", \"queue\": \"default\", \"data\": {\"attributes\": {\"nodes\": {\"clock\": {\"labels\": {\"4\": {\"visible\": true}}}}}, \"animation\": {}}}",
        "{\"type\": \"update\", \"queue\": \"default\", \"data\": {\"attributes\": {\"nodes\": {\"clock\": {\"labels\": {\"4\": {\"radius\": \"r+5\"}}}}}, \"animation\": {\"duration\": 0}}}",
        "{\"type\": \"update\", \"queue\": \"default\", \"data\": {\"attributes\": {\"nodes\": {\"clock\": {\"labels\": {\"4\": {\"angle\": -30}}}}}, \"animation\": {\"duration\": 0}}}",
        "{\"type\": \"update\", \"queue\": \"default\", \"data\": {\"attributes\": {\"nodes\": {\"clock\": {\"labels\": {\"4\": {\"size\": 11}}}}}, \"animation\": {\"duration\": 0}}}",
        "{\"type\": \"update\", \"queue\": \"default\", \"data\": {\"attributes\": {\"nodes\": {\"clock\": {\"labels\": {\"4\": {\"rotate\": true}}}}}, \"animation\": {\"duration\": 0}}}",
        "{\"type\": \"update\", \"queue\": \"default\", \"data\": {\"attributes\": {\"nodes\": {\"clock\": {\"labels\": {\"5\": {\"visible\": true}}}}}, \"animation\": {}}}",
        "{\"type\": \"update\", \"queue\": \"default\", \"data\": {\"attributes\": {\"nodes\": {\"clock\": {\"labels\": {\"5\": {\"radius\": \"r+5\"}}}}}, \"animation\": {\"duration\": 0}}}",
        "{\"type\": \"update\", \"queue\": \"default\", \"data\": {\"attributes\": {\"nodes\": {\"clock\": {\"labels\": {\"5\": {\"angle\": -60}}}}}, \"animation\": {\"duration\": 0}}}",
        "{\"type\": \"update\", \"queue\": \"default\", \"data\": {\"attributes\": {\"nodes\": {\"clock\": {\"labels\": {\"5\": {\"size\": 11}}}}}, \"animation\": {\"duration\": 0}}}",
        "{\"type\": \"update\", \"queue\": \"default\", \"data\": {\"attributes\": {\"nodes\": {\"clock\": {\"labels\": {\"5\": {\"rotate\": true}}}}}, \"animation\": {\"duration\": 0}}}",
        "{\"type\": \"update\", \"queue\": \"default\", \"data\": {\"attributes\": {\"nodes\": {\"clock\": {\"labels\": {\"6\": {\"visible\": true}}}}}, \"animation\": {}}}",
        "{\"type\": \"update\", \"queue\": \"default\", \"data\": {\"attributes\": {\"nodes\": {\"clock\": {\"labels\": {\"6\": {\"radius\": \"r+5\"}}}}}, \"animation\": {\"duration\": 0}}}",
        "{\"type\": \"update\", \"queue\": \"default\", \"data\": {\"attributes\": {\"nodes\": {\"clock\": {\"labels\": {\"6\": {\"angle\": -90}}}}}, \"animation\": {\"duration\": 0}}}",
        "{\"type\": \"update\", \"queue\": \"default\", \"data\": {\"attributes\": {\"nodes\": {\"clock\": {\"labels\": {\"6\": {\"size\": 11}}}}}, \"animation\": {\"duration\": 0}}}",
        "{\"type\": \"update\", \"queue\": \"default\", \"data\": {\"attributes\": {\"nodes\": {\"clock\": {\"labels\": {\"6\": {\"rotate\": true}}}}}, \"animation\": {\"duration\": 0}}}",
        "{\"type\": \"update\", \"queue\": \"default\", \"data\": {\"attributes\": {\"nodes\": {\"clock\": {\"labels\": {\"7\": {\"visible\": true}}}}}, \"animation\": {}}}",
        "{\"type\": \"update\", \"queue\": \"default\", \"data\": {\"attributes\": {\"nodes\": {\"clock\": {\"labels\": {\"7\": {\"radius\": \"r+5\"}}}}}, \"animation\": {\"duration\": 0}}}",
        "{\"type\": \"update\", \"queue\": \"default\", \"data\": {\"attributes\": {\"nodes\": {\"clock\": {\"labels\": {\"7\": {\"angle\": -120}}}}}, \"animation\": {\"duration\": 0}}}",
        "{\"type\": \"update\", \"queue\": \"default\", \"data\": {\"attributes\": {\"nodes\": {\"clock\": {\"labels\": {\"7\": {\"size\": 11}}}}}, \"animation\": {\"duration\": 0}}}",
        "{\"type\": \"update\", \"queue\": \"default\", \"data\": {\"attributes\": {\"nodes\": {\"clock\": {\"labels\": {\"7\": {\"rotate\": true}}}}}, \"animation\": {\"duration\": 0}}}",
        "{\"type\": \"update\", \"queue\": \"default\", \"data\": {\"attributes\": {\"nodes\": {\"clock\": {\"labels\": {\"8\": {\"visible\": true}}}}}, \"animation\": {}}}",
        "{\"type\": \"update\", \"queue\": \"default\", \"data\": {\"attributes\": {\"nodes\": {\"clock\": {\"labels\": {\"8\": {\"radius\": \"r+5\"}}}}}, \"animation\": {\"duration\": 0}}}",
        "{\"type\": \"update\", \"queue\": \"default\", \"data\": {\"attributes\": {\"nodes\": {\"clock\": {\"labels\": {\"8\": {\"angle\": -150}}}}}, \"animation\": {\"duration\": 0}}}",
        "{\"type\": \"update\", \"queue\": \"default\", \"data\": {\"attributes\": {\"nodes\": {\"clock\": {\"labels\": {\"8\": {\"size\": 11}}}}}, \"animation\": {\"duration\": 0}}}",
        "{\"type\": \"update\", \"queue\": \"default\", \"data\": {\"attributes\": {\"nodes\": {\"clock\": {\"labels\": {\"8\": {\"rotate\": true}}}}}, \"animation\": {\"duration\": 0}}}",
        "{\"type\": \"update\", \"queue\": \"default\", \"data\": {\"attributes\": {\"nodes\": {\"clock\": {\"labels\": {\"9\": {\"visible\": true}}}}}, \"animation\": {}}}",
        "{\"type\": \"update\", \"queue\": \"default\", \"data\": {\"attributes\": {\"nodes\": {\"clock\": {\"labels\": {\"9\": {\"radius\": \"r+5\"}}}}}, \"animation\": {\"duration\": 0}}}",
        "{\"type\": \"update\", \"queue\": \"default\", \"data\": {\"attributes\": {\"nodes\": {\"clock\": {\"labels\": {\"9\": {\"angle\": -180}}}}}, \"animation\": {\"duration\": 0}}}",
        "{\"type\": \"update\", \"queue\": \"default\", \"data\": {\"attributes\": {\"nodes\": {\"clock\": {\"labels\": {\"9\": {\"size\": 11}}}}}, \"animation\": {\"duration\": 0}}}",
        "{\"type\": \"update\", \"queue\": \"default\", \"data\": {\"attributes\": {\"nodes\": {\"clock\": {\"labels\": {\"9\": {\"rotate\": true}}}}}, \"animation\": {\"duration\": 0}}}",
        "{\"type\": \"update\", \"queue\": \"default\", \"data\": {\"attributes\": {\"nodes\": {\"clock\": {\"labels\": {\"10\": {\"visible\": true}}}}}, \"animation\": {}}}",
        "{\"type\": \"update\", \"queue\": \"default\", \"data\": {\"attributes\": {\"nodes\": {\"clock\": {\"labels\": {\"10\": {\"radius\": \"r+5\"}}}}}, \"animation\": {\"duration\": 0}}}",
        "{\"type\": \"update\", \"queue\": \"default\", \"data\": {\"attributes\": {\"nodes\": {\"clock\": {\"labels\": {\"10\": {\"angle\": -210}}}}}, \"animation\": {\"duration\": 0}}}",
        "{\"type\": \"update\", \"queue\": \"default\", \"data\": {\"attributes\": {\"nodes\": {\"clock\": {\"labels\": {\"10\": {\"size\": 11}}}}}, \"animation\": {\"duration\": 0}}}",
        "{\"type\": \"update\", \"queue\": \"default\", \"data\": {\"attributes\": {\"nodes\": {\"clock\": {\"labels\": {\"10\": {\"rotate\": true}}}}}, \"animation\": {\"duration\": 0}}}",
        "{\"type\": \"update\", \"queue\": \"default\", \"data\": {\"attributes\": {\"nodes\": {\"clock\": {\"labels\": {\"11\": {\"visible\": true}}}}}, \"animation\": {}}}",
        "{\"type\": \"update\", \"queue\": \"default\", \"data\": {\"attributes\": {\"nodes\": {\"clock\": {\"labels\": {\"11\": {\"radius\": \"r+5\"}}}}}, \"animation\": {\"duration\": 0}}}",
        "{\"type\": \"update\", \"queue\": \"default\", \"data\": {\"attributes\": {\"nodes\": {\"clock\": {\"labels\": {\"11\": {\"angle\": -240}}}}}, \"animation\": {\"duration\": 0}}}",
        "{\"type\": \"update\", \"queue\": \"default\", \"data\": {\"attributes\": {\"nodes\": {\"clock\": {\"labels\": {\"11\": {\"size\": 11}}}}}, \"animation\": {\"duration\": 0}}}",
        "{\"type\": \"update\", \"queue\": \"default\", \"data\": {\"attributes\": {\"nodes\": {\"clock\": {\"labels\": {\"11\": {\"rotate\": true}}}}}, \"animation\": {\"duration\": 0}}}",
        "{\"type\": \"update\", \"queue\": \"default\", \"data\": {\"attributes\": {\"nodes\": {\"clock\": {\"labels\": {\"12\": {\"visible\": true}}}}}, \"animation\": {}}}",
        "{\"type\": \"update\", \"queue\": \"default\", \"data\": {\"attributes\": {\"nodes\": {\"clock\": {\"labels\": {\"12\": {\"radius\": \"r+5\"}}}}}, \"animation\": {\"duration\": 0}}}",
        "{\"type\": \"update\", \"queue\": \"default\", \"data\": {\"attributes\": {\"nodes\": {\"clock\": {\"labels\": {\"12\": {\"angle\": -270}}}}}, \"animation\": {\"duration\": 0}}}",
        "{\"type\": \"update\", \"queue\": \"default\", \"data\": {\"attributes\": {\"nodes\": {\"clock\": {\"labels\": {\"12\": {\"size\": 11}}}}}, \"animation\": {\"duration\": 0}}}",
        "{\"type\": \"update\", \"queue\": \"default\", \"data\": {\"attributes\": {\"nodes\": {\"clock\": {\"labels\": {\"12\": {\"rotate\": true}}}}}, \"animation\": {\"duration\": 0}}}",
        "{\"type\": \"update\", \"queue\": \"default\", \"data\": {\"attributes\": {\"edges\": {\"clock-r.2\": {\"visible\": true, \"source\": \"r.2\", \"target\": \"clock\"}}}, \"animation\": {}}}",
        "{\"type\": \"update\", \"queue\": \"default\", \"data\": {\"attributes\": {\"nodes\": {\"g.1\": {\"visible\": true}, \"g.2\": {\"visible\": true}, \"g.3\": {\"visible\": true}, \"g.4\": {\"visible\": true}, \"g.5\": {\"visible\": true}, \"g.6\": {\"visible\": true}, \"g.8\": {\"visible\": true}, \"g.9\": {\"visible\": true}}}, \"animation\": {}}}",
        "{\"type\": \"update\", \"queue\": \"default\", \"data\": {\"attributes\": {\"nodes\": {\"g.1\": {\"pos\": [-50, -50]}, \"g.2\": {\"pos\": [-50, -50]}, \"g.3\": {\"pos\": [-50, -50]}, \"g.4\": {\"pos\": [-50, -50]}, \"g.5\": {\"pos\": [-50, -50]}, \"g.6\": {\"pos\": [-50, -50]}, \"g.8\": {\"pos\": [-50, -50]}, \"g.9\": {\"pos\": [-50, -50]}}}, \"animation\": {\"duration\": 0}}}",
        "{\"type\": \"update\", \"queue\": \"default\", \"data\": {\"attributes\": {\"nodes\": {\"g.1\": {\"labels\": {\"value\": null}}, \"g.2\": {\"labels\": {\"value\": null}}, \"g.3\": {\"labels\": {\"value\": null}}, \"g.4\": {\"labels\": {\"value\": null}}, \"g.5\": {\"labels\": {\"value\": null}}, \"g.6\": {\"labels\": {\"value\": null}}, \"g.8\": {\"labels\": {\"value\": null}}, \"g.9\": {\"labels\": {\"value\": null}}}}, \"animation\": {\"duration\": 0}}}",
        "{\"type\": \"update\", \"queue\": \"default\", \"data\": {\"attributes\": {\"edges\": {\"g.1-r.5\": {\"visible\": true, \"source\": \"g.1\", \"target\": \"r.5\"}}}, \"animation\": {}}}",
        "{\"type\": \"update\", \"queue\": \"default\", \"data\": {\"attributes\": {\"edges\": {\"g.2-r.4\": {\"visible\": true, \"source\": \"g.2\", \"target\": \"r.4\"}}}, \"animation\": {}}}",
        "{\"type\": \"update\", \"queue\": \"default\", \"data\": {\"attributes\": {\"edges\": {\"g.1-g.2\": {\"visible\": true, \"source\": \"g.1\", \"target\": \"g.2\"}, \"g.1-g.3\": {\"visible\": true, \"source\": \"g.1\", \"target\": \"g.3\"}, \"g.2-g.3\": {\"visible\": true, \"source\": \"g.3\", \"target\": \"g.2\"}, \"g.3-g.4\": {\"visible\": true, \"source\": \"g.3\", \"target\": \"g.4\"}, \"g.2-g.4\": {\"visible\": true, \"source\": \"g.4\", \"target\": \"g.2\"}, \"g.3-g.5\": {\"visible\": true, \"source\": \"g.5\", \"target\": \"g.3\"}, \"g.5-g.6\": {\"visible\": true, \"source\": \"g.6\", \"target\": \"g.5\"}, \"g.4-g.5\": {\"visible\": true, \"source\": \"g.5\", \"target\": \"g.4\"}, \"g.4-g.6\": {\"visible\": true, \"source\": \"g.6\", \"target\": \"g.4\"}, \"g.8-g.9\": {\"visible\": true, \"source\": \"g.8\", \"target\": \"g.9\"}, \"g.1-g.9\": {\"visible\": true, \"source\": \"g.9\", \"target\": \"g.1\"}, \"g.3-g.8\": {\"visible\": true, \"source\": \"g.3\", \"target\": \"g.8\"}, \"g.3-g.9\": {\"visible\": true, \"source\": \"g.3\", \"target\": \"g.9\"}}}, \"animation\": {}}}",
        "{\"type\": \"update\", \"queue\": \"default\", \"data\": {\"attributes\": {\"edges\": {\"g.1-g.2\": {\"labels\": {\"weight\": {\"visible\": true}}}, \"g.1-g.3\": {\"labels\": {\"weight\": {\"visible\": true}}}, \"g.2-g.3\": {\"labels\": {\"weight\": {\"visible\": true}}}, \"g.3-g.4\": {\"labels\": {\"weight\": {\"visible\": true}}}, \"g.2-g.4\": {\"labels\": {\"weight\": {\"visible\": true}}}, \"g.3-g.5\": {\"labels\": {\"weight\": {\"visible\": true}}}, \"g.5-g.6\": {\"labels\": {\"weight\": {\"visible\": true}}}, \"g.4-g.5\": {\"labels\": {\"weight\": {\"visible\": true}}}, \"g.4-g.6\": {\"labels\": {\"weight\": {\"visible\": true}}}, \"g.8-g.9\": {\"labels\": {\"weight\": {\"visible\": true}}}, \"g.1-g.9\": {\"labels\": {\"weight\": {\"visible\": true}}}, \"g.3-g.8\": {\"labels\": {\"weight\": {\"visible\": true}}}, \"g.3-g.9\": {\"labels\": {\"weight\": {\"visible\": true}}}}}, \"animation\": {\"duration\": 0}}}",
        "{\"type\": \"update\", \"queue\": \"default\", \"data\": {\"attributes\": {\"edges\": {\"g.1-g.2\": {\"labels\": {\"weight\": {\"text\": 16}}}, \"g.1-g.3\": {\"labels\": {\"weight\": {\"text\": 11}}}, \"g.2-g.3\": {\"labels\": {\"weight\": {\"text\": 5}}}, \"g.3-g.4\": {\"labels\": {\"weight\": {\"text\": 17}}}, \"g.2-g.4\": {\"labels\": {\"weight\": {\"text\": 13}}}, \"g.3-g.5\": {\"labels\": {\"weight\": {\"text\": 10}}}, \"g.5-g.6\": {\"labels\": {\"weight\": {\"text\": 15}}}, \"g.4-g.5\": {\"labels\": {\"weight\": {\"text\": 8}}}, \"g.4-g.6\": {\"labels\": {\"weight\": {\"text\": 5}}}, \"g.8-g.9\": {\"labels\": {\"weight\": {\"text\": 13}}}, \"g.1-g.9\": {\"labels\": {\"weight\": {\"text\": 9}}}, \"g.3-g.8\": {\"labels\": {\"weight\": {\"text\": 9}}}, \"g.3-g.9\": {\"labels\": {\"weight\": {\"text\": 7}}}}}, \"animation\": {\"duration\": 0}}}",
        "{\"type\": \"update\", \"queue\": \"default\", \"data\": {\"attributes\": {\"nodes\": {\"colorful\": {\"visible\": true}}}, \"animation\": {}}}",
        "{\"type\": \"update\", \"queue\": \"default\", \"data\": {\"attributes\": {\"nodes\": {\"colorful\": {\"shape\": \"rect\"}}}, \"animation\": {\"duration\": 0}}}",
        "{\"type\": \"update\", \"queue\": \"default\", \"data\": {\"attributes\": {\"nodes\": {\"colorful\": {\"size\": [30, 30]}}}, \"animation\": {\"duration\": 0}}}",
        "{\"type\": \"update\", \"queue\": \"default\", \"data\": {\"attributes\": {\"nodes\": {\"colorful\": {\"labels\": {\"value\": null}}}}, \"animation\": {\"duration\": 0}}}",
        "{\"type\": \"update\", \"queue\": \"default\", \"data\": {\"attributes\": {\"nodes\": {\"colorful\": {\"labels\": {\"green\": {\"visible\": true}}}}}, \"animation\": {\"duration\": 0}}}",
        "{\"type\": \"update\", \"queue\": \"default\", \"data\": {\"attributes\": {\"nodes\": {\"colorful\": {\"labels\": {\"green\": {\"radius\": 0}}}}}, \"animation\": {\"duration\": 0}}}",
        "{\"type\": \"update\", \"queue\": \"default\", \"data\": {\"attributes\": {\"nodes\": {\"colorful\": {\"labels\": {\"green\": {\"align\": \"middle\"}}}}}, \"animation\": {\"duration\": 0}}}",
        "{\"type\": \"update\", \"queue\": \"default\", \"data\": {\"attributes\": {\"nodes\": {\"colorful\": {\"labels\": {\"green\": {\"pos\": [0, \"0.5y\"]}}}}}, \"animation\": {\"duration\": 0}}}",
        "{\"type\": \"update\", \"queue\": \"default\", \"data\": {\"attributes\": {\"nodes\": {\"colorful\": {\"labels\": {\"green\": {\"text\": \"green\"}}}}}, \"animation\": {\"duration\": 0}}}",
        "{\"type\": \"update\", \"queue\": \"default\", \"data\": {\"attributes\": {\"nodes\": {\"colorful\": {\"labels\": {\"green\": {\"color\": \"green\"}}}}}, \"animation\": {\"duration\": 0}}}",
        "{\"type\": \"update\", \"queue\": \"default\", \"data\": {\"attributes\": {\"nodes\": {\"colorful\": {\"labels\": {\"yellow\": {\"visible\": true}}}}}, \"animation\": {\"duration\": 0}}}",
        "{\"type\": \"update\", \"queue\": \"default\", \"data\": {\"attributes\": {\"nodes\": {\"colorful\": {\"labels\": {\"yellow\": {\"radius\": 0}}}}}, \"animation\": {\"duration\": 0}}}",
        "{\"type\": \"update\", \"queue\": \"default\", \"data\": {\"attributes\": {\"nodes\": {\"colorful\": {\"labels\": {\"yellow\": {\"align\": \"middle\"}}}}}, \"animation\": {\"duration\": 0}}}",
        "{\"type\": \"update\", \"queue\": \"default\", \"data\": {\"attributes\": {\"nodes\": {\"colorful\": {\"labels\": {\"yellow\": {\"pos\": [0, 0]}}}}}, \"animation\": {\"duration\": 0}}}",
        "{\"type\": \"update\", \"queue\": \"default\", \"data\": {\"attributes\": {\"nodes\": {\"colorful\": {\"labels\": {\"yellow\": {\"text\": \"yellow\"}}}}}, \"animation\": {\"duration\": 0}}}",
        "{\"type\": \"update\", \"queue\": \"default\", \"data\": {\"attributes\": {\"nodes\": {\"colorful\": {\"labels\": {\"yellow\": {\"color\": \"yellow\"}}}}}, \"animation\": {\"duration\": 0}}}",
        "{\"type\": \"update\", \"queue\": \"default\", \"data\": {\"attributes\": {\"nodes\": {\"colorful\": {\"labels\": {\"pink\": {\"visible\": true}}}}}, \"animation\": {\"duration\": 0}}}",
        "{\"type\": \"update\", \"queue\": \"default\", \"data\": {\"attributes\": {\"nodes\": {\"colorful\": {\"labels\": {\"pink\": {\"radius\": 0}}}}}, \"animation\": {\"duration\": 0}}}",
        "{\"type\": \"update\", \"queue\": \"default\", \"data\": {\"attributes\": {\"nodes\": {\"colorful\": {\"labels\": {\"pink\": {\"align\": \"middle\"}}}}}, \"animation\": {\"duration\": 0}}}",
        "{\"type\": \"update\", \"queue\": \"default\", \"data\": {\"attributes\": {\"nodes\": {\"colorful\": {\"labels\": {\"pink\": {\"pos\": [0, \"-0.5y\"]}}}}}, \"animation\": {\"duration\": 0}}}",
        "{\"type\": \"update\", \"queue\": \"default\", \"data\": {\"attributes\": {\"nodes\": {\"colorful\": {\"labels\": {\"pink\": {\"text\": \"pink\"}}}}}, \"animation\": {\"duration\": 0}}}",
        "{\"type\": \"update\", \"queue\": \"default\", \"data\": {\"attributes\": {\"nodes\": {\"colorful\": {\"labels\": {\"pink\": {\"color\": \"pink\"}}}}}, \"animation\": {\"duration\": 0}}}",
        "{\"type\": \"update\", \"queue\": \"default\", \"data\": {\"attributes\": {\"nodes\": {\"colorful\": {\"labels\": {\"top-\\nleft\": {\"visible\": true}}}}}, \"animation\": {\"duration\": 0}}}",
        "{\"type\": \"update\", \"queue\": \"default\", \"data\": {\"attributes\": {\"nodes\": {\"colorful\": {\"labels\": {\"top-\\nleft\": {\"angle\": 135}}}}}, \"animation\": {\"duration\": 0}}}",
        "{\"type\": \"update\", \"queue\": \"default\", \"data\": {\"attributes\": {\"nodes\": {\"colorful\": {\"labels\": {\"top-\\nleft\": {\"rotate\": true}}}}}, \"animation\": {\"duration\": 0}}}",
        "{\"type\": \"update\", \"queue\": \"default\", \"data\": {\"attributes\": {\"nodes\": {\"colorful\": {\"labels\": {\"top-\\nleft\": {\"radius\": \"r+6\"}}}}}, \"animation\": {\"duration\": 0}}}",
        "{\"type\": \"update\", \"queue\": \"default\", \"data\": {\"attributes\": {\"nodes\": {\"colorful\": {\"labels\": {\"top-\\nright\": {\"visible\": true}}}}}, \"animation\": {\"duration\": 0}}}",
        "{\"type\": \"update\", \"queue\": \"default\", \"data\": {\"attributes\": {\"nodes\": {\"colorful\": {\"labels\": {\"top-\\nright\": {\"angle\": 45}}}}}, \"animation\": {\"duration\": 0}}}",
        "{\"type\": \"update\", \"queue\": \"default\", \"data\": {\"attributes\": {\"nodes\": {\"colorful\": {\"labels\": {\"top-\\nright\": {\"rotate\": true}}}}}, \"animation\": {\"duration\": 0}}}",
        "{\"type\": \"update\", \"queue\": \"default\", \"data\": {\"attributes\": {\"nodes\": {\"colorful\": {\"labels\": {\"top-\\nright\": {\"radius\": \"r+6\"}}}}}, \"animation\": {\"duration\": 0}}}",
        "{\"type\": \"update\", \"queue\": \"default\", \"data\": {\"attributes\": {\"nodes\": {\"colorful\": {\"labels\": {\"bottom-\\nright\": {\"visible\": true}}}}}, \"animation\": {\"duration\": 0}}}",
        "{\"type\": \"update\", \"queue\": \"default\", \"data\": {\"attributes\": {\"nodes\": {\"colorful\": {\"labels\": {\"bottom-\\nright\": {\"angle\": -45}}}}}, \"animation\": {\"duration\": 0}}}",
        "{\"type\": \"update\", \"queue\": \"default\", \"data\": {\"attributes\": {\"nodes\": {\"colorful\": {\"labels\": {\"bottom-\\nright\": {\"rotate\": true}}}}}, \"animation\": {\"duration\": 0}}}",
        "{\"type\": \"update\", \"queue\": \"default\", \"data\": {\"attributes\": {\"nodes\": {\"colorful\": {\"labels\": {\"bottom-\\nleft\": {\"visible\": true}}}}}, \"animation\": {\"duration\": 0}}}",
        "{\"type\": \"update\", \"queue\": \"default\", \"data\": {\"attributes\": {\"nodes\": {\"colorful\": {\"labels\": {\"bottom-\\nleft\": {\"angle\": 225}}}}}, \"animation\": {\"duration\": 0}}}",
        "{\"type\": \"update\", \"queue\": \"default\", \"data\": {\"attributes\": {\"nodes\": {\"colorful\": {\"labels\": {\"bottom-\\nleft\": {\"rotate\": true}}}}}, \"animation\": {\"duration\": 0}}}",
        "{\"type\": \"update\", \"queue\": \"default\", \"data\": {\"attributes\": {\"edges\": {\"colorful-r.3\": {\"visible\": true, \"source\": \"r.3\", \"target\": \"colorful\"}}}, \"animation\": {}}}",
        "{\"type\": \"update\", \"queue\": \"default\", \"data\": {\"attributes\": {\"edges\": {\"colorful-r.3\": {\"color\": \"green\"}}}, \"animation\": {\"duration\": 0}}}"
       ],
       "_model_module_version": "^1.0.0",
       "_show_buttons": true,
       "_view_module_version": "^1.0.0",
       "_view_name": "CanvasView",
       "layout": "IPY_MODEL_482add57690544bda79d482cc51f2c87"
      }
     },
     "0931c0e119d24351b05d3cf0805f90d0": {
      "model_module": "@jupyter-widgets/base",
      "model_module_version": "1.1.0",
      "model_name": "LayoutModel",
      "state": {}
     },
     "09983c0d253c44f1aa9e57afbc891300": {
      "model_module": "algorithmx-jupyter",
      "model_module_version": "^1.0.0",
      "model_name": "CanvasModel",
      "state": {
       "_dispatch_events": [
        "{\"type\": \"cancel\", \"queue\": \"None\", \"data\": {\"queues\": null}}",
        "{\"type\": \"update\", \"queue\": \"default\", \"data\": {\"attributes\": null, \"animation\": {}}}",
        "{\"type\": \"update\", \"queue\": \"default\", \"data\": {\"attributes\": {\"size\": [200, 200]}, \"animation\": {\"duration\": 0}}}",
        "{\"type\": \"update\", \"queue\": \"default\", \"data\": {\"attributes\": {\"nodes\": {\"1\": {\"visible\": true}, \"2\": {\"visible\": true}}}, \"animation\": {}}}",
        "{\"type\": \"update\", \"queue\": \"default\", \"data\": {\"attributes\": {\"edges\": {\"1-2\": {\"visible\": true, \"source\": \"1\", \"target\": \"2\"}}}, \"animation\": {}}}",
        "{\"type\": \"pause\", \"queue\": \"default\", \"data\": {\"duration\": 0.5}}",
        "{\"type\": \"highlight\", \"queue\": \"default\", \"data\": {\"attributes\": {\"nodes\": {\"1\": {\"size\": \"1.5x\"}}}, \"animation\": {}}}",
        "{\"type\": \"pause\", \"queue\": \"default\", \"data\": {\"duration\": 0.5}}",
        "{\"type\": \"update\", \"queue\": \"default\", \"data\": {\"attributes\": {\"edges\": {\"1-2\": {\"color\": \"blue\"}}}, \"animation\": {\"type\": \"traverse\"}}}",
        "{\"type\": \"cancel\", \"queue\": \"None\", \"data\": {\"queues\": null}}",
        "{\"type\": \"update\", \"queue\": \"default\", \"data\": {\"attributes\": null, \"animation\": {}}}",
        "{\"type\": \"update\", \"queue\": \"default\", \"data\": {\"attributes\": {\"size\": [200, 200]}, \"animation\": {\"duration\": 0}}}",
        "{\"type\": \"update\", \"queue\": \"default\", \"data\": {\"attributes\": {\"nodes\": {\"1\": {\"visible\": true}, \"2\": {\"visible\": true}}}, \"animation\": {}}}",
        "{\"type\": \"update\", \"queue\": \"default\", \"data\": {\"attributes\": {\"edges\": {\"1-2\": {\"visible\": true, \"source\": \"1\", \"target\": \"2\"}}}, \"animation\": {}}}",
        "{\"type\": \"pause\", \"queue\": \"default\", \"data\": {\"duration\": 0.5}}",
        "{\"type\": \"highlight\", \"queue\": \"default\", \"data\": {\"attributes\": {\"nodes\": {\"1\": {\"size\": \"1.5x\"}}}, \"animation\": {}}}",
        "{\"type\": \"pause\", \"queue\": \"default\", \"data\": {\"duration\": 0.5}}",
        "{\"type\": \"update\", \"queue\": \"default\", \"data\": {\"attributes\": {\"edges\": {\"1-2\": {\"color\": \"blue\"}}}, \"animation\": {\"type\": \"traverse\"}}}",
        "{\"type\": \"cancel\", \"queue\": \"None\", \"data\": {\"queues\": null}}",
        "{\"type\": \"update\", \"queue\": \"default\", \"data\": {\"attributes\": null, \"animation\": {}}}",
        "{\"type\": \"update\", \"queue\": \"default\", \"data\": {\"attributes\": {\"size\": [200, 200]}, \"animation\": {\"duration\": 0}}}",
        "{\"type\": \"update\", \"queue\": \"default\", \"data\": {\"attributes\": {\"nodes\": {\"1\": {\"visible\": true}, \"2\": {\"visible\": true}}}, \"animation\": {}}}",
        "{\"type\": \"update\", \"queue\": \"default\", \"data\": {\"attributes\": {\"edges\": {\"1-2\": {\"visible\": true, \"source\": \"1\", \"target\": \"2\"}}}, \"animation\": {}}}",
        "{\"type\": \"pause\", \"queue\": \"default\", \"data\": {\"duration\": 0.5}}",
        "{\"type\": \"highlight\", \"queue\": \"default\", \"data\": {\"attributes\": {\"nodes\": {\"1\": {\"size\": \"1.5x\"}}}, \"animation\": {}}}",
        "{\"type\": \"pause\", \"queue\": \"default\", \"data\": {\"duration\": 0.5}}",
        "{\"type\": \"update\", \"queue\": \"default\", \"data\": {\"attributes\": {\"edges\": {\"1-2\": {\"color\": \"blue\"}}}, \"animation\": {\"type\": \"traverse\"}}}",
        "{\"type\": \"cancel\", \"queue\": \"None\", \"data\": {\"queues\": null}}",
        "{\"type\": \"update\", \"queue\": \"default\", \"data\": {\"attributes\": null, \"animation\": {}}}",
        "{\"type\": \"update\", \"queue\": \"default\", \"data\": {\"attributes\": {\"size\": [200, 200]}, \"animation\": {\"duration\": 0}}}",
        "{\"type\": \"update\", \"queue\": \"default\", \"data\": {\"attributes\": {\"nodes\": {\"1\": {\"visible\": true}, \"2\": {\"visible\": true}}}, \"animation\": {}}}",
        "{\"type\": \"update\", \"queue\": \"default\", \"data\": {\"attributes\": {\"edges\": {\"1-2\": {\"visible\": true, \"source\": \"1\", \"target\": \"2\"}}}, \"animation\": {}}}",
        "{\"type\": \"pause\", \"queue\": \"default\", \"data\": {\"duration\": 0.5}}",
        "{\"type\": \"highlight\", \"queue\": \"default\", \"data\": {\"attributes\": {\"nodes\": {\"1\": {\"size\": \"1.5x\"}}}, \"animation\": {}}}",
        "{\"type\": \"pause\", \"queue\": \"default\", \"data\": {\"duration\": 0.5}}",
        "{\"type\": \"update\", \"queue\": \"default\", \"data\": {\"attributes\": {\"edges\": {\"1-2\": {\"color\": \"blue\"}}}, \"animation\": {\"type\": \"traverse\"}}}",
        "{\"type\": \"cancel\", \"queue\": \"None\", \"data\": {\"queues\": null}}",
        "{\"type\": \"update\", \"queue\": \"default\", \"data\": {\"attributes\": null, \"animation\": {}}}",
        "{\"type\": \"update\", \"queue\": \"default\", \"data\": {\"attributes\": {\"size\": [200, 200]}, \"animation\": {\"duration\": 0}}}",
        "{\"type\": \"update\", \"queue\": \"default\", \"data\": {\"attributes\": {\"nodes\": {\"1\": {\"visible\": true}, \"2\": {\"visible\": true}}}, \"animation\": {}}}",
        "{\"type\": \"update\", \"queue\": \"default\", \"data\": {\"attributes\": {\"edges\": {\"1-2\": {\"visible\": true, \"source\": \"1\", \"target\": \"2\"}}}, \"animation\": {}}}",
        "{\"type\": \"pause\", \"queue\": \"default\", \"data\": {\"duration\": 0.5}}",
        "{\"type\": \"highlight\", \"queue\": \"default\", \"data\": {\"attributes\": {\"nodes\": {\"1\": {\"size\": \"1.5x\"}}}, \"animation\": {}}}",
        "{\"type\": \"pause\", \"queue\": \"default\", \"data\": {\"duration\": 0.5}}",
        "{\"type\": \"update\", \"queue\": \"default\", \"data\": {\"attributes\": {\"edges\": {\"1-2\": {\"color\": \"blue\"}}}, \"animation\": {\"type\": \"traverse\"}}}",
        "{\"type\": \"cancel\", \"queue\": \"None\", \"data\": {\"queues\": null}}",
        "{\"type\": \"update\", \"queue\": \"default\", \"data\": {\"attributes\": null, \"animation\": {}}}",
        "{\"type\": \"update\", \"queue\": \"default\", \"data\": {\"attributes\": {\"size\": [200, 200]}, \"animation\": {\"duration\": 0}}}",
        "{\"type\": \"update\", \"queue\": \"default\", \"data\": {\"attributes\": {\"nodes\": {\"1\": {\"visible\": true}, \"2\": {\"visible\": true}}}, \"animation\": {}}}",
        "{\"type\": \"update\", \"queue\": \"default\", \"data\": {\"attributes\": {\"edges\": {\"1-2\": {\"visible\": true, \"source\": \"1\", \"target\": \"2\"}}}, \"animation\": {}}}",
        "{\"type\": \"pause\", \"queue\": \"default\", \"data\": {\"duration\": 0.5}}",
        "{\"type\": \"highlight\", \"queue\": \"default\", \"data\": {\"attributes\": {\"nodes\": {\"1\": {\"size\": \"1.5x\"}}}, \"animation\": {}}}",
        "{\"type\": \"pause\", \"queue\": \"default\", \"data\": {\"duration\": 0.5}}",
        "{\"type\": \"update\", \"queue\": \"default\", \"data\": {\"attributes\": {\"edges\": {\"1-2\": {\"color\": \"blue\"}}}, \"animation\": {\"type\": \"traverse\"}}}",
        "{\"type\": \"cancel\", \"queue\": \"None\", \"data\": {\"queues\": null}}",
        "{\"type\": \"update\", \"queue\": \"default\", \"data\": {\"attributes\": null, \"animation\": {}}}",
        "{\"type\": \"update\", \"queue\": \"default\", \"data\": {\"attributes\": {\"size\": [200, 200]}, \"animation\": {\"duration\": 0}}}",
        "{\"type\": \"update\", \"queue\": \"default\", \"data\": {\"attributes\": {\"nodes\": {\"1\": {\"visible\": true}, \"2\": {\"visible\": true}}}, \"animation\": {}}}",
        "{\"type\": \"update\", \"queue\": \"default\", \"data\": {\"attributes\": {\"edges\": {\"1-2\": {\"visible\": true, \"source\": \"1\", \"target\": \"2\"}}}, \"animation\": {}}}",
        "{\"type\": \"pause\", \"queue\": \"default\", \"data\": {\"duration\": 0.5}}",
        "{\"type\": \"highlight\", \"queue\": \"default\", \"data\": {\"attributes\": {\"nodes\": {\"1\": {\"size\": \"1.5x\"}}}, \"animation\": {}}}",
        "{\"type\": \"pause\", \"queue\": \"default\", \"data\": {\"duration\": 0.5}}",
        "{\"type\": \"update\", \"queue\": \"default\", \"data\": {\"attributes\": {\"edges\": {\"1-2\": {\"color\": \"blue\"}}}, \"animation\": {\"type\": \"traverse\"}}}",
        "{\"type\": \"cancel\", \"queue\": \"None\", \"data\": {\"queues\": null}}",
        "{\"type\": \"update\", \"queue\": \"default\", \"data\": {\"attributes\": null, \"animation\": {}}}",
        "{\"type\": \"update\", \"queue\": \"default\", \"data\": {\"attributes\": {\"size\": [200, 200]}, \"animation\": {\"duration\": 0}}}",
        "{\"type\": \"update\", \"queue\": \"default\", \"data\": {\"attributes\": {\"nodes\": {\"1\": {\"visible\": true}, \"2\": {\"visible\": true}}}, \"animation\": {}}}",
        "{\"type\": \"update\", \"queue\": \"default\", \"data\": {\"attributes\": {\"edges\": {\"1-2\": {\"visible\": true, \"source\": \"1\", \"target\": \"2\"}}}, \"animation\": {}}}",
        "{\"type\": \"pause\", \"queue\": \"default\", \"data\": {\"duration\": 0.5}}",
        "{\"type\": \"highlight\", \"queue\": \"default\", \"data\": {\"attributes\": {\"nodes\": {\"1\": {\"size\": \"1.5x\"}}}, \"animation\": {}}}",
        "{\"type\": \"pause\", \"queue\": \"default\", \"data\": {\"duration\": 0.5}}",
        "{\"type\": \"update\", \"queue\": \"default\", \"data\": {\"attributes\": {\"edges\": {\"1-2\": {\"color\": \"blue\"}}}, \"animation\": {\"type\": \"traverse\"}}}",
        "{\"type\": \"cancel\", \"queue\": \"None\", \"data\": {\"queues\": null}}",
        "{\"type\": \"update\", \"queue\": \"default\", \"data\": {\"attributes\": null, \"animation\": {}}}",
        "{\"type\": \"update\", \"queue\": \"default\", \"data\": {\"attributes\": {\"size\": [200, 200]}, \"animation\": {\"duration\": 0}}}",
        "{\"type\": \"update\", \"queue\": \"default\", \"data\": {\"attributes\": {\"nodes\": {\"1\": {\"visible\": true}, \"2\": {\"visible\": true}}}, \"animation\": {}}}",
        "{\"type\": \"update\", \"queue\": \"default\", \"data\": {\"attributes\": {\"edges\": {\"1-2\": {\"visible\": true, \"source\": \"1\", \"target\": \"2\"}}}, \"animation\": {}}}",
        "{\"type\": \"pause\", \"queue\": \"default\", \"data\": {\"duration\": 0.5}}",
        "{\"type\": \"highlight\", \"queue\": \"default\", \"data\": {\"attributes\": {\"nodes\": {\"1\": {\"size\": \"1.5x\"}}}, \"animation\": {}}}",
        "{\"type\": \"pause\", \"queue\": \"default\", \"data\": {\"duration\": 0.5}}",
        "{\"type\": \"update\", \"queue\": \"default\", \"data\": {\"attributes\": {\"edges\": {\"1-2\": {\"color\": \"blue\"}}}, \"animation\": {\"type\": \"traverse\"}}}",
        "{\"type\": \"cancel\", \"queue\": \"None\", \"data\": {\"queues\": null}}",
        "{\"type\": \"update\", \"queue\": \"default\", \"data\": {\"attributes\": null, \"animation\": {}}}",
        "{\"type\": \"update\", \"queue\": \"default\", \"data\": {\"attributes\": {\"size\": [200, 200]}, \"animation\": {\"duration\": 0}}}",
        "{\"type\": \"update\", \"queue\": \"default\", \"data\": {\"attributes\": {\"nodes\": {\"1\": {\"visible\": true}, \"2\": {\"visible\": true}}}, \"animation\": {}}}",
        "{\"type\": \"update\", \"queue\": \"default\", \"data\": {\"attributes\": {\"edges\": {\"1-2\": {\"visible\": true, \"source\": \"1\", \"target\": \"2\"}}}, \"animation\": {}}}",
        "{\"type\": \"pause\", \"queue\": \"default\", \"data\": {\"duration\": 0.5}}",
        "{\"type\": \"highlight\", \"queue\": \"default\", \"data\": {\"attributes\": {\"nodes\": {\"1\": {\"size\": \"1.5x\"}}}, \"animation\": {}}}",
        "{\"type\": \"pause\", \"queue\": \"default\", \"data\": {\"duration\": 0.5}}",
        "{\"type\": \"update\", \"queue\": \"default\", \"data\": {\"attributes\": {\"edges\": {\"1-2\": {\"color\": \"blue\"}}}, \"animation\": {\"type\": \"traverse\"}}}",
        "{\"type\": \"cancel\", \"queue\": \"None\", \"data\": {\"queues\": null}}",
        "{\"type\": \"update\", \"queue\": \"default\", \"data\": {\"attributes\": null, \"animation\": {}}}",
        "{\"type\": \"update\", \"queue\": \"default\", \"data\": {\"attributes\": {\"size\": [200, 200]}, \"animation\": {\"duration\": 0}}}",
        "{\"type\": \"update\", \"queue\": \"default\", \"data\": {\"attributes\": {\"nodes\": {\"1\": {\"visible\": true}, \"2\": {\"visible\": true}}}, \"animation\": {}}}",
        "{\"type\": \"update\", \"queue\": \"default\", \"data\": {\"attributes\": {\"edges\": {\"1-2\": {\"visible\": true, \"source\": \"1\", \"target\": \"2\"}}}, \"animation\": {}}}",
        "{\"type\": \"pause\", \"queue\": \"default\", \"data\": {\"duration\": 0.5}}",
        "{\"type\": \"highlight\", \"queue\": \"default\", \"data\": {\"attributes\": {\"nodes\": {\"1\": {\"size\": \"1.5x\"}}}, \"animation\": {}}}",
        "{\"type\": \"pause\", \"queue\": \"default\", \"data\": {\"duration\": 0.5}}",
        "{\"type\": \"update\", \"queue\": \"default\", \"data\": {\"attributes\": {\"edges\": {\"1-2\": {\"color\": \"blue\"}}}, \"animation\": {\"type\": \"traverse\"}}}",
        "{\"type\": \"cancel\", \"queue\": \"None\", \"data\": {\"queues\": null}}",
        "{\"type\": \"update\", \"queue\": \"default\", \"data\": {\"attributes\": null, \"animation\": {}}}",
        "{\"type\": \"update\", \"queue\": \"default\", \"data\": {\"attributes\": {\"size\": [200, 200]}, \"animation\": {\"duration\": 0}}}",
        "{\"type\": \"update\", \"queue\": \"default\", \"data\": {\"attributes\": {\"nodes\": {\"1\": {\"visible\": true}, \"2\": {\"visible\": true}}}, \"animation\": {}}}",
        "{\"type\": \"update\", \"queue\": \"default\", \"data\": {\"attributes\": {\"edges\": {\"1-2\": {\"visible\": true, \"source\": \"1\", \"target\": \"2\"}}}, \"animation\": {}}}",
        "{\"type\": \"pause\", \"queue\": \"default\", \"data\": {\"duration\": 0.5}}",
        "{\"type\": \"highlight\", \"queue\": \"default\", \"data\": {\"attributes\": {\"nodes\": {\"1\": {\"size\": \"1.5x\"}}}, \"animation\": {}}}",
        "{\"type\": \"pause\", \"queue\": \"default\", \"data\": {\"duration\": 0.5}}",
        "{\"type\": \"update\", \"queue\": \"default\", \"data\": {\"attributes\": {\"edges\": {\"1-2\": {\"color\": \"blue\"}}}, \"animation\": {\"type\": \"traverse\"}}}",
        "{\"type\": \"cancel\", \"queue\": \"None\", \"data\": {\"queues\": null}}",
        "{\"type\": \"update\", \"queue\": \"default\", \"data\": {\"attributes\": null, \"animation\": {}}}",
        "{\"type\": \"update\", \"queue\": \"default\", \"data\": {\"attributes\": {\"size\": [200, 200]}, \"animation\": {\"duration\": 0}}}",
        "{\"type\": \"update\", \"queue\": \"default\", \"data\": {\"attributes\": {\"nodes\": {\"1\": {\"visible\": true}, \"2\": {\"visible\": true}}}, \"animation\": {}}}",
        "{\"type\": \"update\", \"queue\": \"default\", \"data\": {\"attributes\": {\"edges\": {\"1-2\": {\"visible\": true, \"source\": \"1\", \"target\": \"2\"}}}, \"animation\": {}}}",
        "{\"type\": \"pause\", \"queue\": \"default\", \"data\": {\"duration\": 0.5}}",
        "{\"type\": \"highlight\", \"queue\": \"default\", \"data\": {\"attributes\": {\"nodes\": {\"1\": {\"size\": \"1.5x\"}}}, \"animation\": {}}}",
        "{\"type\": \"pause\", \"queue\": \"default\", \"data\": {\"duration\": 0.5}}",
        "{\"type\": \"update\", \"queue\": \"default\", \"data\": {\"attributes\": {\"edges\": {\"1-2\": {\"color\": \"blue\"}}}, \"animation\": {\"type\": \"traverse\"}}}",
        "{\"type\": \"cancel\", \"queue\": \"None\", \"data\": {\"queues\": null}}",
        "{\"type\": \"update\", \"queue\": \"default\", \"data\": {\"attributes\": null, \"animation\": {}}}",
        "{\"type\": \"update\", \"queue\": \"default\", \"data\": {\"attributes\": {\"size\": [200, 200]}, \"animation\": {\"duration\": 0}}}",
        "{\"type\": \"update\", \"queue\": \"default\", \"data\": {\"attributes\": {\"nodes\": {\"1\": {\"visible\": true}, \"2\": {\"visible\": true}}}, \"animation\": {}}}",
        "{\"type\": \"update\", \"queue\": \"default\", \"data\": {\"attributes\": {\"edges\": {\"1-2\": {\"visible\": true, \"source\": \"1\", \"target\": \"2\"}}}, \"animation\": {}}}",
        "{\"type\": \"pause\", \"queue\": \"default\", \"data\": {\"duration\": 0.5}}",
        "{\"type\": \"highlight\", \"queue\": \"default\", \"data\": {\"attributes\": {\"nodes\": {\"1\": {\"size\": \"1.5x\"}}}, \"animation\": {}}}",
        "{\"type\": \"pause\", \"queue\": \"default\", \"data\": {\"duration\": 0.5}}",
        "{\"type\": \"update\", \"queue\": \"default\", \"data\": {\"attributes\": {\"edges\": {\"1-2\": {\"color\": \"blue\"}}}, \"animation\": {\"type\": \"traverse\"}}}",
        "{\"type\": \"cancel\", \"queue\": \"None\", \"data\": {\"queues\": null}}",
        "{\"type\": \"update\", \"queue\": \"default\", \"data\": {\"attributes\": null, \"animation\": {}}}",
        "{\"type\": \"update\", \"queue\": \"default\", \"data\": {\"attributes\": {\"size\": [200, 200]}, \"animation\": {\"duration\": 0}}}",
        "{\"type\": \"update\", \"queue\": \"default\", \"data\": {\"attributes\": {\"nodes\": {\"1\": {\"visible\": true}, \"2\": {\"visible\": true}}}, \"animation\": {}}}",
        "{\"type\": \"update\", \"queue\": \"default\", \"data\": {\"attributes\": {\"edges\": {\"1-2\": {\"visible\": true, \"source\": \"1\", \"target\": \"2\"}}}, \"animation\": {}}}",
        "{\"type\": \"pause\", \"queue\": \"default\", \"data\": {\"duration\": 0.5}}",
        "{\"type\": \"highlight\", \"queue\": \"default\", \"data\": {\"attributes\": {\"nodes\": {\"1\": {\"size\": \"1.5x\"}}}, \"animation\": {}}}",
        "{\"type\": \"pause\", \"queue\": \"default\", \"data\": {\"duration\": 0.5}}",
        "{\"type\": \"update\", \"queue\": \"default\", \"data\": {\"attributes\": {\"edges\": {\"1-2\": {\"color\": \"blue\"}}}, \"animation\": {\"type\": \"traverse\"}}}",
        "{\"type\": \"cancel\", \"queue\": \"None\", \"data\": {\"queues\": null}}",
        "{\"type\": \"update\", \"queue\": \"default\", \"data\": {\"attributes\": null, \"animation\": {}}}",
        "{\"type\": \"update\", \"queue\": \"default\", \"data\": {\"attributes\": {\"size\": [200, 200]}, \"animation\": {\"duration\": 0}}}",
        "{\"type\": \"update\", \"queue\": \"default\", \"data\": {\"attributes\": {\"nodes\": {\"1\": {\"visible\": true}, \"2\": {\"visible\": true}}}, \"animation\": {}}}",
        "{\"type\": \"update\", \"queue\": \"default\", \"data\": {\"attributes\": {\"edges\": {\"1-2\": {\"visible\": true, \"source\": \"1\", \"target\": \"2\"}}}, \"animation\": {}}}",
        "{\"type\": \"pause\", \"queue\": \"default\", \"data\": {\"duration\": 0.5}}",
        "{\"type\": \"highlight\", \"queue\": \"default\", \"data\": {\"attributes\": {\"nodes\": {\"1\": {\"size\": \"1.5x\"}}}, \"animation\": {}}}",
        "{\"type\": \"pause\", \"queue\": \"default\", \"data\": {\"duration\": 0.5}}",
        "{\"type\": \"update\", \"queue\": \"default\", \"data\": {\"attributes\": {\"edges\": {\"1-2\": {\"color\": \"blue\"}}}, \"animation\": {\"type\": \"traverse\"}}}",
        "{\"type\": \"cancel\", \"queue\": \"None\", \"data\": {\"queues\": null}}",
        "{\"type\": \"update\", \"queue\": \"default\", \"data\": {\"attributes\": null, \"animation\": {}}}",
        "{\"type\": \"update\", \"queue\": \"default\", \"data\": {\"attributes\": {\"size\": [200, 200]}, \"animation\": {\"duration\": 0}}}",
        "{\"type\": \"update\", \"queue\": \"default\", \"data\": {\"attributes\": {\"nodes\": {\"1\": {\"visible\": true}, \"2\": {\"visible\": true}}}, \"animation\": {}}}",
        "{\"type\": \"update\", \"queue\": \"default\", \"data\": {\"attributes\": {\"edges\": {\"1-2\": {\"visible\": true, \"source\": \"1\", \"target\": \"2\"}}}, \"animation\": {}}}",
        "{\"type\": \"pause\", \"queue\": \"default\", \"data\": {\"duration\": 0.5}}",
        "{\"type\": \"highlight\", \"queue\": \"default\", \"data\": {\"attributes\": {\"nodes\": {\"1\": {\"size\": \"1.5x\"}}}, \"animation\": {}}}",
        "{\"type\": \"pause\", \"queue\": \"default\", \"data\": {\"duration\": 0.5}}",
        "{\"type\": \"update\", \"queue\": \"default\", \"data\": {\"attributes\": {\"edges\": {\"1-2\": {\"color\": \"blue\"}}}, \"animation\": {\"type\": \"traverse\"}}}",
        "{\"type\": \"cancel\", \"queue\": \"None\", \"data\": {\"queues\": null}}",
        "{\"type\": \"update\", \"queue\": \"default\", \"data\": {\"attributes\": null, \"animation\": {}}}",
        "{\"type\": \"update\", \"queue\": \"default\", \"data\": {\"attributes\": {\"size\": [200, 200]}, \"animation\": {\"duration\": 0}}}",
        "{\"type\": \"update\", \"queue\": \"default\", \"data\": {\"attributes\": {\"nodes\": {\"1\": {\"visible\": true}, \"2\": {\"visible\": true}}}, \"animation\": {}}}",
        "{\"type\": \"update\", \"queue\": \"default\", \"data\": {\"attributes\": {\"edges\": {\"1-2\": {\"visible\": true, \"source\": \"1\", \"target\": \"2\"}}}, \"animation\": {}}}",
        "{\"type\": \"pause\", \"queue\": \"default\", \"data\": {\"duration\": 0.5}}",
        "{\"type\": \"highlight\", \"queue\": \"default\", \"data\": {\"attributes\": {\"nodes\": {\"1\": {\"size\": \"1.5x\"}}}, \"animation\": {}}}",
        "{\"type\": \"pause\", \"queue\": \"default\", \"data\": {\"duration\": 0.5}}",
        "{\"type\": \"update\", \"queue\": \"default\", \"data\": {\"attributes\": {\"edges\": {\"1-2\": {\"color\": \"blue\"}}}, \"animation\": {\"type\": \"traverse\"}}}",
        "{\"type\": \"cancel\", \"queue\": \"None\", \"data\": {\"queues\": null}}",
        "{\"type\": \"update\", \"queue\": \"default\", \"data\": {\"attributes\": null, \"animation\": {}}}",
        "{\"type\": \"update\", \"queue\": \"default\", \"data\": {\"attributes\": {\"size\": [200, 200]}, \"animation\": {\"duration\": 0}}}",
        "{\"type\": \"update\", \"queue\": \"default\", \"data\": {\"attributes\": {\"nodes\": {\"1\": {\"visible\": true}, \"2\": {\"visible\": true}}}, \"animation\": {}}}",
        "{\"type\": \"update\", \"queue\": \"default\", \"data\": {\"attributes\": {\"edges\": {\"1-2\": {\"visible\": true, \"source\": \"1\", \"target\": \"2\"}}}, \"animation\": {}}}",
        "{\"type\": \"pause\", \"queue\": \"default\", \"data\": {\"duration\": 0.5}}",
        "{\"type\": \"highlight\", \"queue\": \"default\", \"data\": {\"attributes\": {\"nodes\": {\"1\": {\"size\": \"1.5x\"}}}, \"animation\": {}}}",
        "{\"type\": \"pause\", \"queue\": \"default\", \"data\": {\"duration\": 0.5}}",
        "{\"type\": \"update\", \"queue\": \"default\", \"data\": {\"attributes\": {\"edges\": {\"1-2\": {\"color\": \"blue\"}}}, \"animation\": {\"type\": \"traverse\"}}}",
        "{\"type\": \"cancel\", \"queue\": \"None\", \"data\": {\"queues\": null}}",
        "{\"type\": \"update\", \"queue\": \"default\", \"data\": {\"attributes\": null, \"animation\": {}}}",
        "{\"type\": \"update\", \"queue\": \"default\", \"data\": {\"attributes\": {\"size\": [200, 200]}, \"animation\": {\"duration\": 0}}}",
        "{\"type\": \"update\", \"queue\": \"default\", \"data\": {\"attributes\": {\"nodes\": {\"1\": {\"visible\": true}, \"2\": {\"visible\": true}}}, \"animation\": {}}}",
        "{\"type\": \"update\", \"queue\": \"default\", \"data\": {\"attributes\": {\"edges\": {\"1-2\": {\"visible\": true, \"source\": \"1\", \"target\": \"2\"}}}, \"animation\": {}}}",
        "{\"type\": \"pause\", \"queue\": \"default\", \"data\": {\"duration\": 0.5}}",
        "{\"type\": \"highlight\", \"queue\": \"default\", \"data\": {\"attributes\": {\"nodes\": {\"1\": {\"size\": \"1.5x\"}}}, \"animation\": {}}}",
        "{\"type\": \"pause\", \"queue\": \"default\", \"data\": {\"duration\": 0.5}}",
        "{\"type\": \"update\", \"queue\": \"default\", \"data\": {\"attributes\": {\"edges\": {\"1-2\": {\"color\": \"blue\"}}}, \"animation\": {\"type\": \"traverse\"}}}",
        "{\"type\": \"cancel\", \"queue\": \"None\", \"data\": {\"queues\": null}}",
        "{\"type\": \"update\", \"queue\": \"default\", \"data\": {\"attributes\": null, \"animation\": {}}}",
        "{\"type\": \"update\", \"queue\": \"default\", \"data\": {\"attributes\": {\"size\": [200, 200]}, \"animation\": {\"duration\": 0}}}",
        "{\"type\": \"update\", \"queue\": \"default\", \"data\": {\"attributes\": {\"nodes\": {\"1\": {\"visible\": true}, \"2\": {\"visible\": true}}}, \"animation\": {}}}",
        "{\"type\": \"update\", \"queue\": \"default\", \"data\": {\"attributes\": {\"edges\": {\"1-2\": {\"visible\": true, \"source\": \"1\", \"target\": \"2\"}}}, \"animation\": {}}}",
        "{\"type\": \"pause\", \"queue\": \"default\", \"data\": {\"duration\": 0.5}}",
        "{\"type\": \"highlight\", \"queue\": \"default\", \"data\": {\"attributes\": {\"nodes\": {\"1\": {\"size\": \"1.5x\"}}}, \"animation\": {}}}",
        "{\"type\": \"pause\", \"queue\": \"default\", \"data\": {\"duration\": 0.5}}",
        "{\"type\": \"update\", \"queue\": \"default\", \"data\": {\"attributes\": {\"edges\": {\"1-2\": {\"color\": \"blue\"}}}, \"animation\": {\"type\": \"traverse\"}}}",
        "{\"type\": \"cancel\", \"queue\": \"None\", \"data\": {\"queues\": null}}",
        "{\"type\": \"update\", \"queue\": \"default\", \"data\": {\"attributes\": null, \"animation\": {}}}",
        "{\"type\": \"update\", \"queue\": \"default\", \"data\": {\"attributes\": {\"size\": [200, 200]}, \"animation\": {\"duration\": 0}}}",
        "{\"type\": \"update\", \"queue\": \"default\", \"data\": {\"attributes\": {\"nodes\": {\"1\": {\"visible\": true}, \"2\": {\"visible\": true}}}, \"animation\": {}}}",
        "{\"type\": \"update\", \"queue\": \"default\", \"data\": {\"attributes\": {\"edges\": {\"1-2\": {\"visible\": true, \"source\": \"1\", \"target\": \"2\"}}}, \"animation\": {}}}",
        "{\"type\": \"pause\", \"queue\": \"default\", \"data\": {\"duration\": 0.5}}",
        "{\"type\": \"highlight\", \"queue\": \"default\", \"data\": {\"attributes\": {\"nodes\": {\"1\": {\"size\": \"1.5x\"}}}, \"animation\": {}}}",
        "{\"type\": \"pause\", \"queue\": \"default\", \"data\": {\"duration\": 0.5}}",
        "{\"type\": \"update\", \"queue\": \"default\", \"data\": {\"attributes\": {\"edges\": {\"1-2\": {\"color\": \"blue\"}}}, \"animation\": {\"type\": \"traverse\"}}}",
        "{\"type\": \"cancel\", \"queue\": \"None\", \"data\": {\"queues\": null}}",
        "{\"type\": \"update\", \"queue\": \"default\", \"data\": {\"attributes\": null, \"animation\": {}}}",
        "{\"type\": \"update\", \"queue\": \"default\", \"data\": {\"attributes\": {\"size\": [200, 200]}, \"animation\": {\"duration\": 0}}}",
        "{\"type\": \"update\", \"queue\": \"default\", \"data\": {\"attributes\": {\"nodes\": {\"1\": {\"visible\": true}, \"2\": {\"visible\": true}}}, \"animation\": {}}}",
        "{\"type\": \"update\", \"queue\": \"default\", \"data\": {\"attributes\": {\"edges\": {\"1-2\": {\"visible\": true, \"source\": \"1\", \"target\": \"2\"}}}, \"animation\": {}}}",
        "{\"type\": \"pause\", \"queue\": \"default\", \"data\": {\"duration\": 0.5}}",
        "{\"type\": \"highlight\", \"queue\": \"default\", \"data\": {\"attributes\": {\"nodes\": {\"1\": {\"size\": \"1.5x\"}}}, \"animation\": {}}}",
        "{\"type\": \"pause\", \"queue\": \"default\", \"data\": {\"duration\": 0.5}}",
        "{\"type\": \"update\", \"queue\": \"default\", \"data\": {\"attributes\": {\"edges\": {\"1-2\": {\"color\": \"blue\"}}}, \"animation\": {\"type\": \"traverse\"}}}",
        "{\"type\": \"cancel\", \"queue\": \"None\", \"data\": {\"queues\": null}}",
        "{\"type\": \"update\", \"queue\": \"default\", \"data\": {\"attributes\": null, \"animation\": {}}}",
        "{\"type\": \"update\", \"queue\": \"default\", \"data\": {\"attributes\": {\"size\": [200, 200]}, \"animation\": {\"duration\": 0}}}",
        "{\"type\": \"update\", \"queue\": \"default\", \"data\": {\"attributes\": {\"nodes\": {\"1\": {\"visible\": true}, \"2\": {\"visible\": true}}}, \"animation\": {}}}",
        "{\"type\": \"update\", \"queue\": \"default\", \"data\": {\"attributes\": {\"edges\": {\"1-2\": {\"visible\": true, \"source\": \"1\", \"target\": \"2\"}}}, \"animation\": {}}}",
        "{\"type\": \"pause\", \"queue\": \"default\", \"data\": {\"duration\": 0.5}}",
        "{\"type\": \"highlight\", \"queue\": \"default\", \"data\": {\"attributes\": {\"nodes\": {\"1\": {\"size\": \"1.5x\"}}}, \"animation\": {}}}",
        "{\"type\": \"pause\", \"queue\": \"default\", \"data\": {\"duration\": 0.5}}",
        "{\"type\": \"update\", \"queue\": \"default\", \"data\": {\"attributes\": {\"edges\": {\"1-2\": {\"color\": \"blue\"}}}, \"animation\": {\"type\": \"traverse\"}}}",
        "{\"type\": \"cancel\", \"queue\": \"None\", \"data\": {\"queues\": null}}",
        "{\"type\": \"update\", \"queue\": \"default\", \"data\": {\"attributes\": null, \"animation\": {}}}",
        "{\"type\": \"update\", \"queue\": \"default\", \"data\": {\"attributes\": {\"size\": [200, 200]}, \"animation\": {\"duration\": 0}}}",
        "{\"type\": \"update\", \"queue\": \"default\", \"data\": {\"attributes\": {\"nodes\": {\"1\": {\"visible\": true}, \"2\": {\"visible\": true}}}, \"animation\": {}}}",
        "{\"type\": \"update\", \"queue\": \"default\", \"data\": {\"attributes\": {\"edges\": {\"1-2\": {\"visible\": true, \"source\": \"1\", \"target\": \"2\"}}}, \"animation\": {}}}",
        "{\"type\": \"pause\", \"queue\": \"default\", \"data\": {\"duration\": 0.5}}",
        "{\"type\": \"highlight\", \"queue\": \"default\", \"data\": {\"attributes\": {\"nodes\": {\"1\": {\"size\": \"1.5x\"}}}, \"animation\": {}}}",
        "{\"type\": \"pause\", \"queue\": \"default\", \"data\": {\"duration\": 0.5}}",
        "{\"type\": \"update\", \"queue\": \"default\", \"data\": {\"attributes\": {\"edges\": {\"1-2\": {\"color\": \"blue\"}}}, \"animation\": {\"type\": \"traverse\"}}}",
        "{\"type\": \"cancel\", \"queue\": \"None\", \"data\": {\"queues\": null}}",
        "{\"type\": \"update\", \"queue\": \"default\", \"data\": {\"attributes\": null, \"animation\": {}}}",
        "{\"type\": \"update\", \"queue\": \"default\", \"data\": {\"attributes\": {\"size\": [200, 200]}, \"animation\": {\"duration\": 0}}}",
        "{\"type\": \"update\", \"queue\": \"default\", \"data\": {\"attributes\": {\"nodes\": {\"1\": {\"visible\": true}, \"2\": {\"visible\": true}}}, \"animation\": {}}}",
        "{\"type\": \"update\", \"queue\": \"default\", \"data\": {\"attributes\": {\"edges\": {\"1-2\": {\"visible\": true, \"source\": \"1\", \"target\": \"2\"}}}, \"animation\": {}}}",
        "{\"type\": \"pause\", \"queue\": \"default\", \"data\": {\"duration\": 0.5}}",
        "{\"type\": \"highlight\", \"queue\": \"default\", \"data\": {\"attributes\": {\"nodes\": {\"1\": {\"size\": \"1.5x\"}}}, \"animation\": {}}}",
        "{\"type\": \"pause\", \"queue\": \"default\", \"data\": {\"duration\": 0.5}}",
        "{\"type\": \"update\", \"queue\": \"default\", \"data\": {\"attributes\": {\"edges\": {\"1-2\": {\"color\": \"blue\"}}}, \"animation\": {\"type\": \"traverse\"}}}"
       ],
       "_model_module_version": "^1.0.0",
       "_view_module_version": "^1.0.0",
       "_view_name": "CanvasView",
       "layout": "IPY_MODEL_8ab4379fdb1843eeb60466c1db5692e5"
      }
     },
     "0a69557b4cf54352904cba473fedd936": {
      "model_module": "@jupyter-widgets/controls",
      "model_module_version": "1.4.0",
      "model_name": "ButtonModel",
      "state": {
       "description": "Replay",
       "layout": "IPY_MODEL_5a91ace74cf0436c8392aae14495f9cf",
       "style": "IPY_MODEL_44be99cde8f74282afe454ace14f346f"
      }
     },
     "0d291b240ce94820aa11ba87b0aa0663": {
      "model_module": "algorithmx-jupyter",
      "model_module_version": "^1.0.0",
      "model_name": "CanvasModel",
      "state": {
       "_dispatch_events": [
        "{\"type\": \"update\", \"queue\": \"default\", \"data\": {\"attributes\": {\"svgattr\": {\"width\": \"100%\"}}, \"animation\": {}}}",
        "{\"type\": \"update\", \"queue\": \"default\", \"data\": {\"attributes\": {\"pan\": [0, 0]}, \"animation\": {}}}",
        "{\"type\": \"update\", \"queue\": \"default\", \"data\": {\"attributes\": {\"nodes\": {\"1\": {\"visible\": true}, \"2\": {\"visible\": true}}}, \"animation\": {}}}",
        "{\"type\": \"update\", \"queue\": \"default\", \"data\": {\"attributes\": {\"edges\": {\"1-2\": {\"visible\": true, \"source\": \"1\", \"target\": \"2\"}}}, \"animation\": {}}}"
       ],
       "_model_module_version": "^1.0.0",
       "_show_buttons": false,
       "_view_module_version": "^1.0.0",
       "_view_name": "CanvasView",
       "layout": "IPY_MODEL_ce28bc0250b44791acbced94d128dcaf"
      }
     },
     "0dd8bd2ef899462aabb5fa21322336fb": {
      "model_module": "@jupyter-widgets/base",
      "model_module_version": "1.1.0",
      "model_name": "LayoutModel",
      "state": {}
     },
     "0e9ed44906ad40859077ca1feb6b3ae4": {
      "model_module": "@jupyter-widgets/base",
      "model_module_version": "1.1.0",
      "model_name": "LayoutModel",
      "state": {}
     },
     "0ef6e2354f2448dfb852163fcaf5b9d5": {
      "model_module": "@jupyter-widgets/base",
      "model_module_version": "1.1.0",
      "model_name": "LayoutModel",
      "state": {}
     },
     "10c2fa05c1f34838be0390cdb52d4ee9": {
      "model_module": "@jupyter-widgets/controls",
      "model_module_version": "1.4.0",
      "model_name": "ButtonModel",
      "state": {
       "description": "Replay",
       "layout": "IPY_MODEL_6b9ed2bc4c094a7f8ba4e16e9af330fe",
       "style": "IPY_MODEL_6f4f2e35d9404e2bb99d3bbab0ab5fd5"
      }
     },
     "11b6d8ad279641e0bfa1983ad6fc0ff0": {
      "model_module": "algorithmx-jupyter",
      "model_module_version": "^1.0.0",
      "model_name": "CanvasModel",
      "state": {
       "_dispatch_events": [
        "{\"type\": \"update\", \"queue\": \"default\", \"data\": {\"attributes\": {\"size\": [300, 200]}, \"animation\": {}}}",
        "{\"type\": \"update\", \"queue\": \"default\", \"data\": {\"attributes\": {\"nodes\": {\"1\": {\"visible\": true}, \"2\": {\"visible\": true}}}, \"animation\": {}}}",
        "{\"type\": \"update\", \"queue\": \"default\", \"data\": {\"attributes\": {\"edges\": {\"1-2\": {\"visible\": true, \"source\": \"1\", \"target\": \"2\"}}}, \"animation\": {}}}"
       ],
       "_model_module_version": "^1.0.0",
       "_show_buttons": false,
       "_view_module_version": "^1.0.0",
       "_view_name": "CanvasView",
       "layout": "IPY_MODEL_3253c924b9c24c7f885eda5364b41b5e"
      }
     },
     "11efb8303fa6457ea5f76b65f5825814": {
      "model_module": "algorithmx-jupyter",
      "model_module_version": "^1.0.0",
      "model_name": "CanvasModel",
      "state": {
       "_dispatch_events": [
        "{\"type\": \"cancel\", \"queue\": \"None\", \"data\": {\"queues\": null}}",
        "{\"type\": \"update\", \"queue\": \"default\", \"data\": {\"attributes\": null, \"animation\": {}}}",
        "{\"type\": \"update\", \"queue\": \"default\", \"data\": {\"attributes\": {\"nodes\": {\"1\": {\"visible\": true}, \"2\": {\"visible\": true}}}, \"animation\": {}}}",
        "{\"type\": \"update\", \"queue\": \"default\", \"data\": {\"attributes\": {\"edges\": {\"1-2\": {\"visible\": true, \"source\": \"1\", \"target\": \"2\"}}}, \"animation\": {}}}",
        "{\"type\": \"pause\", \"queue\": \"default\", \"data\": {\"duration\": 0.5}}",
        "{\"type\": \"highlight\", \"queue\": \"default\", \"data\": {\"attributes\": {\"nodes\": {\"1\": {\"size\": \"1.5x\"}}}, \"animation\": {}}}",
        "{\"type\": \"pause\", \"queue\": \"default\", \"data\": {\"duration\": 0.5}}",
        "{\"type\": \"update\", \"queue\": \"default\", \"data\": {\"attributes\": {\"edges\": {\"1-2\": {\"color\": \"blue\"}}}, \"animation\": {\"type\": \"traverse\"}}}"
       ],
       "_model_module_version": "^1.0.0",
       "_view_module_version": "^1.0.0",
       "_view_name": "CanvasView",
       "layout": "IPY_MODEL_c49764cd28134c91aac75320f38a5bc7"
      }
     },
     "11fceb9ae45e470cb7f3126b406b5980": {
      "model_module": "@jupyter-widgets/controls",
      "model_module_version": "1.4.0",
      "model_name": "ButtonStyleModel",
      "state": {}
     },
     "132aa6432a914776bc30cd51a64d20d6": {
      "model_module": "@jupyter-widgets/base",
      "model_module_version": "1.1.0",
      "model_name": "LayoutModel",
      "state": {}
     },
     "13e7f87e520e413d87ebed738487bbfe": {
      "model_module": "algorithmx-jupyter",
      "model_module_version": "latest",
      "model_name": "CanvasModel",
      "state": {
       "_dispatch_events": [
        "{\"type\": \"update\", \"queue\": \"default\", \"data\": {\"attributes\": {\"size\": [300, 200]}, \"animation\": {}}}",
        "{\"type\": \"update\", \"queue\": \"default\", \"data\": {\"attributes\": {\"nodes\": {\"1\": {\"visible\": true}, \"2\": {\"visible\": true}}}, \"animation\": {}}}",
        "{\"type\": \"update\", \"queue\": \"default\", \"data\": {\"attributes\": {\"edges\": {\"1-2\": {\"visible\": true, \"source\": \"1\", \"target\": \"2\"}}}, \"animation\": {}}}"
       ],
       "_model_module_version": "latest",
       "_show_buttons": false,
       "_view_module_version": "latest",
       "_view_name": "CanvasView",
       "layout": "IPY_MODEL_5b5776ba938c4efb935aef7d70e80036"
      }
     },
     "152938343b504027a1f653329d63d5f1": {
      "model_module": "@jupyter-widgets/controls",
      "model_module_version": "1.4.0",
      "model_name": "ButtonModel",
      "state": {
       "description": "Replay",
       "layout": "IPY_MODEL_557ab6e8ac314de697146d276f2b3df2",
       "style": "IPY_MODEL_dc067884b9df4615a81e5ed1f4e98115"
      }
     },
     "158166fe6c6c423cb247089371fb1435": {
      "model_module": "@jupyter-widgets/base",
      "model_module_version": "1.1.0",
      "model_name": "LayoutModel",
      "state": {}
     },
     "161d36b819864e3897de8d130b760d2f": {
      "model_module": "@jupyter-widgets/base",
      "model_module_version": "1.1.0",
      "model_name": "LayoutModel",
      "state": {}
     },
     "172eb22aacce42839cf8be2cbebcf00b": {
      "model_module": "@jupyter-widgets/controls",
      "model_module_version": "1.4.0",
      "model_name": "ButtonStyleModel",
      "state": {}
     },
     "18d25ca0a7ee4aca8e4a7f116d51e90a": {
      "model_module": "algorithmx-jupyter",
      "model_module_version": "latest",
      "model_name": "CanvasModel",
      "state": {
       "_dispatch_events": [
        "{\"type\": \"update\", \"queue\": \"default\", \"data\": {\"attributes\": {\"size\": [300, 200]}, \"animation\": {}}}",
        "{\"type\": \"update\", \"queue\": \"default\", \"data\": {\"attributes\": {\"nodes\": {\"1\": {\"visible\": true}, \"2\": {\"visible\": true}}}, \"animation\": {}}}",
        "{\"type\": \"update\", \"queue\": \"default\", \"data\": {\"attributes\": {\"edges\": {\"1-2\": {\"visible\": true, \"source\": \"1\", \"target\": \"2\"}}}, \"animation\": {}}}",
        "{\"type\": \"pause\", \"queue\": \"default\", \"data\": {\"duration\": 0.5}}",
        "{\"type\": \"highlight\", \"queue\": \"default\", \"data\": {\"attributes\": {\"nodes\": {\"1\": {\"size\": \"1.25x\"}}}, \"animation\": {\"**\": {\"linger\": 1.0}}}}",
        "{\"type\": \"pause\", \"queue\": \"default\", \"data\": {\"duration\": 0.5}}",
        "{\"type\": \"update\", \"queue\": \"default\", \"data\": {\"attributes\": {\"edges\": {\"1-2\": {\"color\": \"blue\"}}}, \"animation\": {\"edges\": {\"1-2\": {\"**\": {\"type\": \"traverse\", \"data\": {\"source\": \"1\"}}}}}}}"
       ],
       "_model_module_version": "latest",
       "_show_buttons": true,
       "_view_module_version": "latest",
       "_view_name": "CanvasView",
       "layout": "IPY_MODEL_710a200243dd4c53b86ca8431c28aa36"
      }
     },
     "1ba3c5b8ff42455b859cb4d31b45e920": {
      "model_module": "algorithmx-jupyter",
      "model_module_version": "^1.0.0",
      "model_name": "CanvasModel",
      "state": {
       "_dispatch_events": [
        "{\"type\": \"update\", \"queue\": \"default\", \"data\": {\"attributes\": {\"size\": [300, 200]}, \"animation\": {}}}",
        "{\"type\": \"update\", \"queue\": \"default\", \"data\": {\"attributes\": {\"nodes\": {\"1\": {\"visible\": true}, \"2\": {\"visible\": true}}}, \"animation\": {}}}",
        "{\"type\": \"update\", \"queue\": \"default\", \"data\": {\"attributes\": {\"edges\": {\"1-2\": {\"visible\": true, \"source\": \"1\", \"target\": \"2\"}}}, \"animation\": {}}}",
        "{\"type\": \"pause\", \"queue\": \"default\", \"data\": {\"duration\": 0.5}}",
        "{\"type\": \"highlight\", \"queue\": \"default\", \"data\": {\"attributes\": {\"nodes\": {\"1\": {\"size\": \"1.5x\"}}}, \"animation\": {\"linger\": 1.0}}}",
        "{\"type\": \"pause\", \"queue\": \"default\", \"data\": {\"duration\": 0.5}}",
        "{\"type\": \"update\", \"queue\": \"default\", \"data\": {\"attributes\": {\"edges\": {\"1-2\": {\"color\": \"blue\"}}}, \"animation\": {\"type\": \"traverse\"}}}"
       ],
       "_model_module_version": "^1.0.0",
       "_show_buttons": true,
       "_view_module_version": "^1.0.0",
       "_view_name": "CanvasView",
       "layout": "IPY_MODEL_edbf57eaca9f4d749d02c641d64fb9d8"
      }
     },
     "1c380d5b9eba476e937d6a0a03139d58": {
      "model_module": "@jupyter-widgets/base",
      "model_module_version": "1.1.0",
      "model_name": "LayoutModel",
      "state": {}
     },
     "1d3b272e62044c9195eb91c16306ce5c": {
      "model_module": "@jupyter-widgets/base",
      "model_module_version": "1.1.0",
      "model_name": "LayoutModel",
      "state": {}
     },
     "202f2cd999ed4e2b8aae30145bac36e4": {
      "model_module": "@jupyter-widgets/base",
      "model_module_version": "1.1.0",
      "model_name": "LayoutModel",
      "state": {}
     },
     "209bed88718242539ab29bb6b2c3d8e8": {
      "model_module": "@jupyter-widgets/base",
      "model_module_version": "1.1.0",
      "model_name": "LayoutModel",
      "state": {}
     },
     "20f128daed9543fbaa7bb7d93dccf213": {
      "model_module": "algorithmx-jupyter",
      "model_module_version": "^1.0.0",
      "model_name": "CanvasModel",
      "state": {
       "_dispatch_events": [
        "{\"type\": \"update\", \"queue\": \"default\", \"data\": {\"attributes\": {\"nodes\": {\"1\": {\"visible\": true}, \"2\": {\"visible\": true}}}, \"animation\": {}}}",
        "{\"type\": \"update\", \"queue\": \"default\", \"data\": {\"attributes\": {\"edges\": {\"1-2\": {\"visible\": true, \"source\": \"1\", \"target\": \"2\"}}}, \"animation\": {}}}"
       ],
       "_model_module_version": "^1.0.0",
       "_show_buttons": false,
       "_view_module_version": "^1.0.0",
       "_view_name": "CanvasView",
       "layout": "IPY_MODEL_554726cdb2c54844a05693d16a6f87bf"
      }
     },
     "21f708e5ef2342299d7f65d0dc1ff392": {
      "model_module": "algorithmx-jupyter",
      "model_module_version": "^1.0.0",
      "model_name": "CanvasModel",
      "state": {
       "_dispatch_events": [
        "{\"type\": \"update\", \"queue\": \"default\", \"data\": {\"attributes\": {\"edgelengths\": \"individual\"}, \"animation\": {}}}",
        "{\"type\": \"update\", \"queue\": \"default\", \"data\": {\"attributes\": {\"nodes\": {\"center\": {\"visible\": true}}}, \"animation\": {}}}",
        "{\"type\": \"update\", \"queue\": \"default\", \"data\": {\"attributes\": {\"nodes\": {\"center\": {\"shape\": \"rect\"}}}, \"animation\": {\"duration\": 0}}}",
        "{\"type\": \"update\", \"queue\": \"default\", \"data\": {\"attributes\": {\"nodes\": {\"center\": {\"size\": [90, 50]}}}, \"animation\": {\"duration\": 0}}}",
        "{\"type\": \"update\", \"queue\": \"default\", \"data\": {\"attributes\": {\"nodes\": {\"center\": {\"labels\": {\"text\": {\"visible\": true}}}}}, \"animation\": {\"duration\": 0}}}",
        "{\"type\": \"update\", \"queue\": \"default\", \"data\": {\"attributes\": {\"nodes\": {\"center\": {\"labels\": {\"text\": {\"radius\": 0}}}}}, \"animation\": {\"duration\": 0}}}",
        "{\"type\": \"update\", \"queue\": \"default\", \"data\": {\"attributes\": {\"nodes\": {\"center\": {\"labels\": {\"text\": {\"size\": 12}}}}}, \"animation\": {\"duration\": 0}}}",
        "{\"type\": \"update\", \"queue\": \"default\", \"data\": {\"attributes\": {\"nodes\": {\"center\": {\"labels\": {\"text\": {\"align\": \"middle-left\"}}}}}, \"animation\": {\"duration\": 0}}}",
        "{\"type\": \"update\", \"queue\": \"default\", \"data\": {\"attributes\": {\"nodes\": {\"center\": {\"labels\": {\"text\": {\"pos\": [\"-0.5x\", 0]}}}}}, \"animation\": {\"duration\": 0}}}",
        "{\"type\": \"update\", \"queue\": \"default\", \"data\": {\"attributes\": {\"nodes\": {\"center\": {\"labels\": {\"text\": {\"color\": \"white\"}}}}}, \"animation\": {\"duration\": 0}}}",
        "{\"type\": \"update\", \"queue\": \"default\", \"data\": {\"attributes\": {\"nodes\": {\"center\": {\"labels\": {\"text\": {\"size\": 13}}}}}, \"animation\": {\"duration\": 0}}}",
        "{\"type\": \"update\", \"queue\": \"default\", \"data\": {\"attributes\": {\"nodes\": {\"center\": {\"labels\": {\"text\": {\"text\": \"A library for network\\nvisualization and\\nalgorithm simulation\"}}}}}, \"animation\": {\"duration\": 0}}}",
        "{\"type\": \"update\", \"queue\": \"default\", \"data\": {\"attributes\": {\"nodes\": {\"center\": {\"labels\": {\"value\": {\"align\": \"top-middle\"}}}}}, \"animation\": {\"duration\": 0}}}",
        "{\"type\": \"update\", \"queue\": \"default\", \"data\": {\"attributes\": {\"nodes\": {\"center\": {\"labels\": {\"value\": {\"rotate\": true}}}}}, \"animation\": {\"duration\": 0}}}",
        "{\"type\": \"update\", \"queue\": \"default\", \"data\": {\"attributes\": {\"nodes\": {\"center\": {\"labels\": {\"value\": {\"angle\": 0}}}}}, \"animation\": {\"duration\": 0}}}",
        "{\"type\": \"update\", \"queue\": \"default\", \"data\": {\"attributes\": {\"nodes\": {\"center\": {\"labels\": {\"value\": {\"pos\": [\"-0.8x\", 0]}}}}}, \"animation\": {\"duration\": 0}}}",
        "{\"type\": \"update\", \"queue\": \"default\", \"data\": {\"attributes\": {\"nodes\": {\"center\": {\"labels\": {\"value\": {\"size\": 15}}}}}, \"animation\": {\"duration\": 0}}}",
        "{\"type\": \"update\", \"queue\": \"default\", \"data\": {\"attributes\": {\"nodes\": {\"center\": {\"labels\": {\"value\": {\"text\": \"AlgorithmX\"}}}}}, \"animation\": {\"duration\": 0}}}",
        "{\"type\": \"update\", \"queue\": \"default\", \"data\": {\"attributes\": {\"nodes\": {\"r.1\": {\"visible\": true}, \"r.2\": {\"visible\": true}, \"r.3\": {\"visible\": true}, \"r.4\": {\"visible\": true}, \"r.5\": {\"visible\": true}, \"r.6\": {\"visible\": true}}}, \"animation\": {}}}",
        "{\"type\": \"update\", \"queue\": \"default\", \"data\": {\"attributes\": {\"nodes\": {\"r.1\": {\"labels\": {\"value\": {\"text\": 1}}}}}, \"animation\": {}}}",
        "{\"type\": \"update\", \"queue\": \"default\", \"data\": {\"attributes\": {\"edges\": {\"center-r.1\": {\"visible\": true, \"source\": \"r.1\", \"target\": \"center\"}}}, \"animation\": {}}}",
        "{\"type\": \"update\", \"queue\": \"default\", \"data\": {\"attributes\": {\"edges\": {\"center-r.1\": {\"length\": 130}}}, \"animation\": {\"duration\": 0}}}",
        "{\"type\": \"update\", \"queue\": \"default\", \"data\": {\"attributes\": {\"edges\": {\"center-r.1\": {\"directed\": true}}}, \"animation\": {\"duration\": 0}}}",
        "{\"type\": \"update\", \"queue\": \"default\", \"data\": {\"attributes\": {\"edges\": {\"r.1-r.2\": {\"visible\": true, \"source\": \"r.1\", \"target\": \"r.2\"}}}, \"animation\": {}}}",
        "{\"type\": \"update\", \"queue\": \"default\", \"data\": {\"attributes\": {\"edges\": {\"r.1-r.2\": {\"length\": 120}}}, \"animation\": {\"duration\": 0}}}",
        "{\"type\": \"update\", \"queue\": \"default\", \"data\": {\"attributes\": {\"nodes\": {\"r.2\": {\"labels\": {\"value\": {\"text\": 2}}}}}, \"animation\": {}}}",
        "{\"type\": \"update\", \"queue\": \"default\", \"data\": {\"attributes\": {\"edges\": {\"center-r.2\": {\"visible\": true, \"source\": \"r.2\", \"target\": \"center\"}}}, \"animation\": {}}}",
        "{\"type\": \"update\", \"queue\": \"default\", \"data\": {\"attributes\": {\"edges\": {\"center-r.2\": {\"length\": 130}}}, \"animation\": {\"duration\": 0}}}",
        "{\"type\": \"update\", \"queue\": \"default\", \"data\": {\"attributes\": {\"edges\": {\"center-r.2\": {\"directed\": true}}}, \"animation\": {\"duration\": 0}}}",
        "{\"type\": \"update\", \"queue\": \"default\", \"data\": {\"attributes\": {\"edges\": {\"r.2-r.3\": {\"visible\": true, \"source\": \"r.2\", \"target\": \"r.3\"}}}, \"animation\": {}}}",
        "{\"type\": \"update\", \"queue\": \"default\", \"data\": {\"attributes\": {\"edges\": {\"r.2-r.3\": {\"length\": 120}}}, \"animation\": {\"duration\": 0}}}",
        "{\"type\": \"update\", \"queue\": \"default\", \"data\": {\"attributes\": {\"nodes\": {\"r.3\": {\"labels\": {\"value\": {\"text\": 3}}}}}, \"animation\": {}}}",
        "{\"type\": \"update\", \"queue\": \"default\", \"data\": {\"attributes\": {\"edges\": {\"center-r.3\": {\"visible\": true, \"source\": \"r.3\", \"target\": \"center\"}}}, \"animation\": {}}}",
        "{\"type\": \"update\", \"queue\": \"default\", \"data\": {\"attributes\": {\"edges\": {\"center-r.3\": {\"length\": 130}}}, \"animation\": {\"duration\": 0}}}",
        "{\"type\": \"update\", \"queue\": \"default\", \"data\": {\"attributes\": {\"edges\": {\"center-r.3\": {\"directed\": true}}}, \"animation\": {\"duration\": 0}}}",
        "{\"type\": \"update\", \"queue\": \"default\", \"data\": {\"attributes\": {\"edges\": {\"r.3-r.4\": {\"visible\": true, \"source\": \"r.3\", \"target\": \"r.4\"}}}, \"animation\": {}}}",
        "{\"type\": \"update\", \"queue\": \"default\", \"data\": {\"attributes\": {\"edges\": {\"r.3-r.4\": {\"length\": 120}}}, \"animation\": {\"duration\": 0}}}",
        "{\"type\": \"update\", \"queue\": \"default\", \"data\": {\"attributes\": {\"nodes\": {\"r.4\": {\"labels\": {\"value\": {\"text\": 4}}}}}, \"animation\": {}}}",
        "{\"type\": \"update\", \"queue\": \"default\", \"data\": {\"attributes\": {\"edges\": {\"center-r.4\": {\"visible\": true, \"source\": \"r.4\", \"target\": \"center\"}}}, \"animation\": {}}}",
        "{\"type\": \"update\", \"queue\": \"default\", \"data\": {\"attributes\": {\"edges\": {\"center-r.4\": {\"length\": 130}}}, \"animation\": {\"duration\": 0}}}",
        "{\"type\": \"update\", \"queue\": \"default\", \"data\": {\"attributes\": {\"edges\": {\"center-r.4\": {\"directed\": true}}}, \"animation\": {\"duration\": 0}}}",
        "{\"type\": \"update\", \"queue\": \"default\", \"data\": {\"attributes\": {\"edges\": {\"r.4-r.5\": {\"visible\": true, \"source\": \"r.4\", \"target\": \"r.5\"}}}, \"animation\": {}}}",
        "{\"type\": \"update\", \"queue\": \"default\", \"data\": {\"attributes\": {\"edges\": {\"r.4-r.5\": {\"length\": 120}}}, \"animation\": {\"duration\": 0}}}",
        "{\"type\": \"update\", \"queue\": \"default\", \"data\": {\"attributes\": {\"nodes\": {\"r.5\": {\"labels\": {\"value\": {\"text\": 5}}}}}, \"animation\": {}}}",
        "{\"type\": \"update\", \"queue\": \"default\", \"data\": {\"attributes\": {\"edges\": {\"center-r.5\": {\"visible\": true, \"source\": \"r.5\", \"target\": \"center\"}}}, \"animation\": {}}}",
        "{\"type\": \"update\", \"queue\": \"default\", \"data\": {\"attributes\": {\"edges\": {\"center-r.5\": {\"length\": 130}}}, \"animation\": {\"duration\": 0}}}",
        "{\"type\": \"update\", \"queue\": \"default\", \"data\": {\"attributes\": {\"edges\": {\"center-r.5\": {\"directed\": true}}}, \"animation\": {\"duration\": 0}}}",
        "{\"type\": \"update\", \"queue\": \"default\", \"data\": {\"attributes\": {\"edges\": {\"r.5-r.6\": {\"visible\": true, \"source\": \"r.5\", \"target\": \"r.6\"}}}, \"animation\": {}}}",
        "{\"type\": \"update\", \"queue\": \"default\", \"data\": {\"attributes\": {\"edges\": {\"r.5-r.6\": {\"length\": 120}}}, \"animation\": {\"duration\": 0}}}",
        "{\"type\": \"update\", \"queue\": \"default\", \"data\": {\"attributes\": {\"nodes\": {\"r.6\": {\"labels\": {\"value\": {\"text\": 6}}}}}, \"animation\": {}}}",
        "{\"type\": \"update\", \"queue\": \"default\", \"data\": {\"attributes\": {\"edges\": {\"center-r.6\": {\"visible\": true, \"source\": \"r.6\", \"target\": \"center\"}}}, \"animation\": {}}}",
        "{\"type\": \"update\", \"queue\": \"default\", \"data\": {\"attributes\": {\"edges\": {\"center-r.6\": {\"length\": 130}}}, \"animation\": {\"duration\": 0}}}",
        "{\"type\": \"update\", \"queue\": \"default\", \"data\": {\"attributes\": {\"edges\": {\"center-r.6\": {\"directed\": true}}}, \"animation\": {\"duration\": 0}}}",
        "{\"type\": \"update\", \"queue\": \"default\", \"data\": {\"attributes\": {\"edges\": {\"r.1-r.6\": {\"visible\": true, \"source\": \"r.6\", \"target\": \"r.1\"}}}, \"animation\": {}}}",
        "{\"type\": \"update\", \"queue\": \"default\", \"data\": {\"attributes\": {\"edges\": {\"r.1-r.6\": {\"length\": 120}}}, \"animation\": {\"duration\": 0}}}",
        "{\"type\": \"update\", \"queue\": \"default\", \"data\": {\"attributes\": {\"nodes\": {\"r.1\": {\"color\": \"red\"}}}, \"animation\": {}}}",
        "{\"type\": \"update\", \"queue\": \"default\", \"data\": {\"attributes\": {\"nodes\": {\"r.2\": {\"color\": \"blue\"}}}, \"animation\": {}}}",
        "{\"type\": \"update\", \"queue\": \"default\", \"data\": {\"attributes\": {\"nodes\": {\"r.3\": {\"color\": \"green\"}}}, \"animation\": {}}}",
        "{\"type\": \"update\", \"queue\": \"default\", \"data\": {\"attributes\": {\"nodes\": {\"r.4\": {\"color\": \"orange\"}}}, \"animation\": {}}}",
        "{\"type\": \"update\", \"queue\": \"default\", \"data\": {\"attributes\": {\"nodes\": {\"r.5\": {\"color\": \"green\"}}}, \"animation\": {}}}",
        "{\"type\": \"update\", \"queue\": \"default\", \"data\": {\"attributes\": {\"nodes\": {\"r.6\": {\"color\": \"blue\"}}}, \"animation\": {}}}",
        "{\"type\": \"update\", \"queue\": \"default\", \"data\": {\"attributes\": {\"edges\": {\"r.6-r.6-1\": {\"visible\": true, \"source\": \"r.6\", \"target\": \"r.6\"}, \"r.6-r.6-2\": {\"visible\": true, \"source\": \"r.6\", \"target\": \"r.6\"}}}, \"animation\": {}}}",
        "{\"type\": \"update\", \"queue\": \"default\", \"data\": {\"attributes\": {\"nodes\": {\"D3\": {\"visible\": true}}}, \"animation\": {}}}",
        "{\"type\": \"update\", \"queue\": \"default\", \"data\": {\"attributes\": {\"nodes\": {\"D3\": {\"size\": 40}}}, \"animation\": {\"duration\": 0}}}",
        "{\"type\": \"update\", \"queue\": \"default\", \"data\": {\"attributes\": {\"nodes\": {\"D3\": {\"labels\": {\"value\": {\"text\": \"Rendered\\nwith D3\"}}}}}, \"animation\": {\"duration\": 0}}}",
        "{\"type\": \"update\", \"queue\": \"default\", \"data\": {\"attributes\": {\"edges\": {\"D3-r.1-1\": {\"visible\": true, \"source\": \"r.1\", \"target\": \"D3\"}, \"D3-r.1-2\": {\"visible\": true, \"source\": \"r.1\", \"target\": \"D3\"}, \"D3-r.1-3\": {\"visible\": true, \"source\": \"r.1\", \"target\": \"D3\"}, \"D3-r.1-4\": {\"visible\": true, \"source\": \"r.1\", \"target\": \"D3\"}, \"D3-r.1-5\": {\"visible\": true, \"source\": \"r.1\", \"target\": \"D3\"}}}, \"animation\": {}}}",
        "{\"type\": \"update\", \"queue\": \"default\", \"data\": {\"attributes\": {\"edges\": {\"D3-r.1-1\": {\"length\": 100}, \"D3-r.1-2\": {\"length\": 100}, \"D3-r.1-3\": {\"length\": 100}, \"D3-r.1-4\": {\"length\": 100}, \"D3-r.1-5\": {\"length\": 100}}}, \"animation\": {\"duration\": 0}}}",
        "{\"type\": \"update\", \"queue\": \"default\", \"data\": {\"attributes\": {\"nodes\": {\"cola\": {\"visible\": true}}}, \"animation\": {}}}",
        "{\"type\": \"update\", \"queue\": \"default\", \"data\": {\"attributes\": {\"nodes\": {\"cola\": {\"shape\": \"rect\"}}}, \"animation\": {\"duration\": 0}}}",
        "{\"type\": \"update\", \"queue\": \"default\", \"data\": {\"attributes\": {\"nodes\": {\"cola\": {\"size\": [40, 25]}}}, \"animation\": {\"duration\": 0}}}",
        "{\"type\": \"update\", \"queue\": \"default\", \"data\": {\"attributes\": {\"nodes\": {\"cola\": {\"labels\": {\"value\": {\"text\": \"Layout by\\nWebCola\"}}}}}, \"animation\": {\"duration\": 0}}}",
        "{\"type\": \"update\", \"queue\": \"default\", \"data\": {\"attributes\": {\"edges\": {\"cola-r.4\": {\"visible\": true, \"source\": \"r.4\", \"target\": \"cola\"}}}, \"animation\": {}}}",
        "{\"type\": \"update\", \"queue\": \"default\", \"data\": {\"attributes\": {\"edges\": {\"cola-r.4\": {\"path\": [[-5, 10], [5, -10]]}}}, \"animation\": {\"duration\": 0}}}",
        "{\"type\": \"update\", \"queue\": \"default\", \"data\": {\"attributes\": {\"edges\": {\"cola-r.4\": {\"length\": 100}}}, \"animation\": {\"duration\": 0}}}",
        "{\"type\": \"update\", \"queue\": \"default\", \"data\": {\"attributes\": {\"edges\": {\"cola-r.4\": {\"flip\": false}}}, \"animation\": {\"duration\": 0}}}",
        "{\"type\": \"update\", \"queue\": \"default\", \"data\": {\"attributes\": {\"nodes\": {\"clock\": {\"visible\": true}}}, \"animation\": {}}}",
        "{\"type\": \"update\", \"queue\": \"default\", \"data\": {\"attributes\": {\"nodes\": {\"clock\": {\"size\": 25}}}, \"animation\": {\"duration\": 0}}}",
        "{\"type\": \"update\", \"queue\": \"default\", \"data\": {\"attributes\": {\"nodes\": {\"clock\": {\"labels\": {\"value\": {\"text\": \"\\ud83d\\udd53\"}}}}}, \"animation\": {\"duration\": 0}}}",
        "{\"type\": \"update\", \"queue\": \"default\", \"data\": {\"attributes\": {\"nodes\": {\"clock\": {\"labels\": {\"value\": {\"size\": 18}}}}}, \"animation\": {\"duration\": 0}}}",
        "{\"type\": \"update\", \"queue\": \"default\", \"data\": {\"attributes\": {\"nodes\": {\"clock\": {\"labels\": {\"value\": {\"pos\": [0, -3]}}}}}, \"animation\": {\"duration\": 0}}}",
        "{\"type\": \"update\", \"queue\": \"default\", \"data\": {\"attributes\": {\"nodes\": {\"clock\": {\"labels\": {\"1\": {\"visible\": true}}}}}, \"animation\": {}}}",
        "{\"type\": \"update\", \"queue\": \"default\", \"data\": {\"attributes\": {\"nodes\": {\"clock\": {\"labels\": {\"1\": {\"radius\": \"r+5\"}}}}}, \"animation\": {\"duration\": 0}}}",
        "{\"type\": \"update\", \"queue\": \"default\", \"data\": {\"attributes\": {\"nodes\": {\"clock\": {\"labels\": {\"1\": {\"angle\": 60}}}}}, \"animation\": {\"duration\": 0}}}",
        "{\"type\": \"update\", \"queue\": \"default\", \"data\": {\"attributes\": {\"nodes\": {\"clock\": {\"labels\": {\"1\": {\"size\": 11}}}}}, \"animation\": {\"duration\": 0}}}",
        "{\"type\": \"update\", \"queue\": \"default\", \"data\": {\"attributes\": {\"nodes\": {\"clock\": {\"labels\": {\"1\": {\"rotate\": true}}}}}, \"animation\": {\"duration\": 0}}}",
        "{\"type\": \"update\", \"queue\": \"default\", \"data\": {\"attributes\": {\"nodes\": {\"clock\": {\"labels\": {\"2\": {\"visible\": true}}}}}, \"animation\": {}}}",
        "{\"type\": \"update\", \"queue\": \"default\", \"data\": {\"attributes\": {\"nodes\": {\"clock\": {\"labels\": {\"2\": {\"radius\": \"r+5\"}}}}}, \"animation\": {\"duration\": 0}}}",
        "{\"type\": \"update\", \"queue\": \"default\", \"data\": {\"attributes\": {\"nodes\": {\"clock\": {\"labels\": {\"2\": {\"angle\": 30}}}}}, \"animation\": {\"duration\": 0}}}",
        "{\"type\": \"update\", \"queue\": \"default\", \"data\": {\"attributes\": {\"nodes\": {\"clock\": {\"labels\": {\"2\": {\"size\": 11}}}}}, \"animation\": {\"duration\": 0}}}",
        "{\"type\": \"update\", \"queue\": \"default\", \"data\": {\"attributes\": {\"nodes\": {\"clock\": {\"labels\": {\"2\": {\"rotate\": true}}}}}, \"animation\": {\"duration\": 0}}}",
        "{\"type\": \"update\", \"queue\": \"default\", \"data\": {\"attributes\": {\"nodes\": {\"clock\": {\"labels\": {\"3\": {\"visible\": true}}}}}, \"animation\": {}}}",
        "{\"type\": \"update\", \"queue\": \"default\", \"data\": {\"attributes\": {\"nodes\": {\"clock\": {\"labels\": {\"3\": {\"radius\": \"r+5\"}}}}}, \"animation\": {\"duration\": 0}}}",
        "{\"type\": \"update\", \"queue\": \"default\", \"data\": {\"attributes\": {\"nodes\": {\"clock\": {\"labels\": {\"3\": {\"angle\": 0}}}}}, \"animation\": {\"duration\": 0}}}",
        "{\"type\": \"update\", \"queue\": \"default\", \"data\": {\"attributes\": {\"nodes\": {\"clock\": {\"labels\": {\"3\": {\"size\": 11}}}}}, \"animation\": {\"duration\": 0}}}",
        "{\"type\": \"update\", \"queue\": \"default\", \"data\": {\"attributes\": {\"nodes\": {\"clock\": {\"labels\": {\"3\": {\"rotate\": true}}}}}, \"animation\": {\"duration\": 0}}}",
        "{\"type\": \"update\", \"queue\": \"default\", \"data\": {\"attributes\": {\"nodes\": {\"clock\": {\"labels\": {\"4\": {\"visible\": true}}}}}, \"animation\": {}}}",
        "{\"type\": \"update\", \"queue\": \"default\", \"data\": {\"attributes\": {\"nodes\": {\"clock\": {\"labels\": {\"4\": {\"radius\": \"r+5\"}}}}}, \"animation\": {\"duration\": 0}}}",
        "{\"type\": \"update\", \"queue\": \"default\", \"data\": {\"attributes\": {\"nodes\": {\"clock\": {\"labels\": {\"4\": {\"angle\": -30}}}}}, \"animation\": {\"duration\": 0}}}",
        "{\"type\": \"update\", \"queue\": \"default\", \"data\": {\"attributes\": {\"nodes\": {\"clock\": {\"labels\": {\"4\": {\"size\": 11}}}}}, \"animation\": {\"duration\": 0}}}",
        "{\"type\": \"update\", \"queue\": \"default\", \"data\": {\"attributes\": {\"nodes\": {\"clock\": {\"labels\": {\"4\": {\"rotate\": true}}}}}, \"animation\": {\"duration\": 0}}}",
        "{\"type\": \"update\", \"queue\": \"default\", \"data\": {\"attributes\": {\"nodes\": {\"clock\": {\"labels\": {\"5\": {\"visible\": true}}}}}, \"animation\": {}}}",
        "{\"type\": \"update\", \"queue\": \"default\", \"data\": {\"attributes\": {\"nodes\": {\"clock\": {\"labels\": {\"5\": {\"radius\": \"r+5\"}}}}}, \"animation\": {\"duration\": 0}}}",
        "{\"type\": \"update\", \"queue\": \"default\", \"data\": {\"attributes\": {\"nodes\": {\"clock\": {\"labels\": {\"5\": {\"angle\": -60}}}}}, \"animation\": {\"duration\": 0}}}",
        "{\"type\": \"update\", \"queue\": \"default\", \"data\": {\"attributes\": {\"nodes\": {\"clock\": {\"labels\": {\"5\": {\"size\": 11}}}}}, \"animation\": {\"duration\": 0}}}",
        "{\"type\": \"update\", \"queue\": \"default\", \"data\": {\"attributes\": {\"nodes\": {\"clock\": {\"labels\": {\"5\": {\"rotate\": true}}}}}, \"animation\": {\"duration\": 0}}}",
        "{\"type\": \"update\", \"queue\": \"default\", \"data\": {\"attributes\": {\"nodes\": {\"clock\": {\"labels\": {\"6\": {\"visible\": true}}}}}, \"animation\": {}}}",
        "{\"type\": \"update\", \"queue\": \"default\", \"data\": {\"attributes\": {\"nodes\": {\"clock\": {\"labels\": {\"6\": {\"radius\": \"r+5\"}}}}}, \"animation\": {\"duration\": 0}}}",
        "{\"type\": \"update\", \"queue\": \"default\", \"data\": {\"attributes\": {\"nodes\": {\"clock\": {\"labels\": {\"6\": {\"angle\": -90}}}}}, \"animation\": {\"duration\": 0}}}",
        "{\"type\": \"update\", \"queue\": \"default\", \"data\": {\"attributes\": {\"nodes\": {\"clock\": {\"labels\": {\"6\": {\"size\": 11}}}}}, \"animation\": {\"duration\": 0}}}",
        "{\"type\": \"update\", \"queue\": \"default\", \"data\": {\"attributes\": {\"nodes\": {\"clock\": {\"labels\": {\"6\": {\"rotate\": true}}}}}, \"animation\": {\"duration\": 0}}}",
        "{\"type\": \"update\", \"queue\": \"default\", \"data\": {\"attributes\": {\"nodes\": {\"clock\": {\"labels\": {\"7\": {\"visible\": true}}}}}, \"animation\": {}}}",
        "{\"type\": \"update\", \"queue\": \"default\", \"data\": {\"attributes\": {\"nodes\": {\"clock\": {\"labels\": {\"7\": {\"radius\": \"r+5\"}}}}}, \"animation\": {\"duration\": 0}}}",
        "{\"type\": \"update\", \"queue\": \"default\", \"data\": {\"attributes\": {\"nodes\": {\"clock\": {\"labels\": {\"7\": {\"angle\": -120}}}}}, \"animation\": {\"duration\": 0}}}",
        "{\"type\": \"update\", \"queue\": \"default\", \"data\": {\"attributes\": {\"nodes\": {\"clock\": {\"labels\": {\"7\": {\"size\": 11}}}}}, \"animation\": {\"duration\": 0}}}",
        "{\"type\": \"update\", \"queue\": \"default\", \"data\": {\"attributes\": {\"nodes\": {\"clock\": {\"labels\": {\"7\": {\"rotate\": true}}}}}, \"animation\": {\"duration\": 0}}}",
        "{\"type\": \"update\", \"queue\": \"default\", \"data\": {\"attributes\": {\"nodes\": {\"clock\": {\"labels\": {\"8\": {\"visible\": true}}}}}, \"animation\": {}}}",
        "{\"type\": \"update\", \"queue\": \"default\", \"data\": {\"attributes\": {\"nodes\": {\"clock\": {\"labels\": {\"8\": {\"radius\": \"r+5\"}}}}}, \"animation\": {\"duration\": 0}}}",
        "{\"type\": \"update\", \"queue\": \"default\", \"data\": {\"attributes\": {\"nodes\": {\"clock\": {\"labels\": {\"8\": {\"angle\": -150}}}}}, \"animation\": {\"duration\": 0}}}",
        "{\"type\": \"update\", \"queue\": \"default\", \"data\": {\"attributes\": {\"nodes\": {\"clock\": {\"labels\": {\"8\": {\"size\": 11}}}}}, \"animation\": {\"duration\": 0}}}",
        "{\"type\": \"update\", \"queue\": \"default\", \"data\": {\"attributes\": {\"nodes\": {\"clock\": {\"labels\": {\"8\": {\"rotate\": true}}}}}, \"animation\": {\"duration\": 0}}}",
        "{\"type\": \"update\", \"queue\": \"default\", \"data\": {\"attributes\": {\"nodes\": {\"clock\": {\"labels\": {\"9\": {\"visible\": true}}}}}, \"animation\": {}}}",
        "{\"type\": \"update\", \"queue\": \"default\", \"data\": {\"attributes\": {\"nodes\": {\"clock\": {\"labels\": {\"9\": {\"radius\": \"r+5\"}}}}}, \"animation\": {\"duration\": 0}}}",
        "{\"type\": \"update\", \"queue\": \"default\", \"data\": {\"attributes\": {\"nodes\": {\"clock\": {\"labels\": {\"9\": {\"angle\": -180}}}}}, \"animation\": {\"duration\": 0}}}",
        "{\"type\": \"update\", \"queue\": \"default\", \"data\": {\"attributes\": {\"nodes\": {\"clock\": {\"labels\": {\"9\": {\"size\": 11}}}}}, \"animation\": {\"duration\": 0}}}",
        "{\"type\": \"update\", \"queue\": \"default\", \"data\": {\"attributes\": {\"nodes\": {\"clock\": {\"labels\": {\"9\": {\"rotate\": true}}}}}, \"animation\": {\"duration\": 0}}}",
        "{\"type\": \"update\", \"queue\": \"default\", \"data\": {\"attributes\": {\"nodes\": {\"clock\": {\"labels\": {\"10\": {\"visible\": true}}}}}, \"animation\": {}}}",
        "{\"type\": \"update\", \"queue\": \"default\", \"data\": {\"attributes\": {\"nodes\": {\"clock\": {\"labels\": {\"10\": {\"radius\": \"r+5\"}}}}}, \"animation\": {\"duration\": 0}}}",
        "{\"type\": \"update\", \"queue\": \"default\", \"data\": {\"attributes\": {\"nodes\": {\"clock\": {\"labels\": {\"10\": {\"angle\": -210}}}}}, \"animation\": {\"duration\": 0}}}",
        "{\"type\": \"update\", \"queue\": \"default\", \"data\": {\"attributes\": {\"nodes\": {\"clock\": {\"labels\": {\"10\": {\"size\": 11}}}}}, \"animation\": {\"duration\": 0}}}",
        "{\"type\": \"update\", \"queue\": \"default\", \"data\": {\"attributes\": {\"nodes\": {\"clock\": {\"labels\": {\"10\": {\"rotate\": true}}}}}, \"animation\": {\"duration\": 0}}}",
        "{\"type\": \"update\", \"queue\": \"default\", \"data\": {\"attributes\": {\"nodes\": {\"clock\": {\"labels\": {\"11\": {\"visible\": true}}}}}, \"animation\": {}}}",
        "{\"type\": \"update\", \"queue\": \"default\", \"data\": {\"attributes\": {\"nodes\": {\"clock\": {\"labels\": {\"11\": {\"radius\": \"r+5\"}}}}}, \"animation\": {\"duration\": 0}}}",
        "{\"type\": \"update\", \"queue\": \"default\", \"data\": {\"attributes\": {\"nodes\": {\"clock\": {\"labels\": {\"11\": {\"angle\": -240}}}}}, \"animation\": {\"duration\": 0}}}",
        "{\"type\": \"update\", \"queue\": \"default\", \"data\": {\"attributes\": {\"nodes\": {\"clock\": {\"labels\": {\"11\": {\"size\": 11}}}}}, \"animation\": {\"duration\": 0}}}",
        "{\"type\": \"update\", \"queue\": \"default\", \"data\": {\"attributes\": {\"nodes\": {\"clock\": {\"labels\": {\"11\": {\"rotate\": true}}}}}, \"animation\": {\"duration\": 0}}}",
        "{\"type\": \"update\", \"queue\": \"default\", \"data\": {\"attributes\": {\"nodes\": {\"clock\": {\"labels\": {\"12\": {\"visible\": true}}}}}, \"animation\": {}}}",
        "{\"type\": \"update\", \"queue\": \"default\", \"data\": {\"attributes\": {\"nodes\": {\"clock\": {\"labels\": {\"12\": {\"radius\": \"r+5\"}}}}}, \"animation\": {\"duration\": 0}}}",
        "{\"type\": \"update\", \"queue\": \"default\", \"data\": {\"attributes\": {\"nodes\": {\"clock\": {\"labels\": {\"12\": {\"angle\": -270}}}}}, \"animation\": {\"duration\": 0}}}",
        "{\"type\": \"update\", \"queue\": \"default\", \"data\": {\"attributes\": {\"nodes\": {\"clock\": {\"labels\": {\"12\": {\"size\": 11}}}}}, \"animation\": {\"duration\": 0}}}",
        "{\"type\": \"update\", \"queue\": \"default\", \"data\": {\"attributes\": {\"nodes\": {\"clock\": {\"labels\": {\"12\": {\"rotate\": true}}}}}, \"animation\": {\"duration\": 0}}}",
        "{\"type\": \"update\", \"queue\": \"default\", \"data\": {\"attributes\": {\"edges\": {\"clock-r.2\": {\"visible\": true, \"source\": \"r.2\", \"target\": \"clock\"}}}, \"animation\": {}}}",
        "{\"type\": \"update\", \"queue\": \"default\", \"data\": {\"attributes\": {\"nodes\": {\"g.1\": {\"visible\": true}, \"g.2\": {\"visible\": true}, \"g.3\": {\"visible\": true}, \"g.4\": {\"visible\": true}, \"g.5\": {\"visible\": true}, \"g.6\": {\"visible\": true}, \"g.8\": {\"visible\": true}, \"g.9\": {\"visible\": true}}}, \"animation\": {}}}",
        "{\"type\": \"update\", \"queue\": \"default\", \"data\": {\"attributes\": {\"nodes\": {\"g.1\": {\"pos\": [-50, -50]}, \"g.2\": {\"pos\": [-50, -50]}, \"g.3\": {\"pos\": [-50, -50]}, \"g.4\": {\"pos\": [-50, -50]}, \"g.5\": {\"pos\": [-50, -50]}, \"g.6\": {\"pos\": [-50, -50]}, \"g.8\": {\"pos\": [-50, -50]}, \"g.9\": {\"pos\": [-50, -50]}}}, \"animation\": {\"duration\": 0}}}",
        "{\"type\": \"update\", \"queue\": \"default\", \"data\": {\"attributes\": {\"nodes\": {\"g.1\": {\"labels\": {\"value\": null}}, \"g.2\": {\"labels\": {\"value\": null}}, \"g.3\": {\"labels\": {\"value\": null}}, \"g.4\": {\"labels\": {\"value\": null}}, \"g.5\": {\"labels\": {\"value\": null}}, \"g.6\": {\"labels\": {\"value\": null}}, \"g.8\": {\"labels\": {\"value\": null}}, \"g.9\": {\"labels\": {\"value\": null}}}}, \"animation\": {\"duration\": 0}}}",
        "{\"type\": \"update\", \"queue\": \"default\", \"data\": {\"attributes\": {\"edges\": {\"g.1-r.5\": {\"visible\": true, \"source\": \"g.1\", \"target\": \"r.5\"}}}, \"animation\": {}}}",
        "{\"type\": \"update\", \"queue\": \"default\", \"data\": {\"attributes\": {\"edges\": {\"g.2-r.4\": {\"visible\": true, \"source\": \"g.2\", \"target\": \"r.4\"}}}, \"animation\": {}}}",
        "{\"type\": \"update\", \"queue\": \"default\", \"data\": {\"attributes\": {\"edges\": {\"g.1-g.2\": {\"visible\": true, \"source\": \"g.1\", \"target\": \"g.2\"}, \"g.1-g.3\": {\"visible\": true, \"source\": \"g.1\", \"target\": \"g.3\"}, \"g.2-g.3\": {\"visible\": true, \"source\": \"g.3\", \"target\": \"g.2\"}, \"g.3-g.4\": {\"visible\": true, \"source\": \"g.3\", \"target\": \"g.4\"}, \"g.2-g.4\": {\"visible\": true, \"source\": \"g.4\", \"target\": \"g.2\"}, \"g.3-g.5\": {\"visible\": true, \"source\": \"g.5\", \"target\": \"g.3\"}, \"g.5-g.6\": {\"visible\": true, \"source\": \"g.6\", \"target\": \"g.5\"}, \"g.4-g.5\": {\"visible\": true, \"source\": \"g.5\", \"target\": \"g.4\"}, \"g.4-g.6\": {\"visible\": true, \"source\": \"g.6\", \"target\": \"g.4\"}, \"g.8-g.9\": {\"visible\": true, \"source\": \"g.8\", \"target\": \"g.9\"}, \"g.1-g.9\": {\"visible\": true, \"source\": \"g.9\", \"target\": \"g.1\"}, \"g.3-g.8\": {\"visible\": true, \"source\": \"g.3\", \"target\": \"g.8\"}, \"g.3-g.9\": {\"visible\": true, \"source\": \"g.3\", \"target\": \"g.9\"}}}, \"animation\": {}}}",
        "{\"type\": \"update\", \"queue\": \"default\", \"data\": {\"attributes\": {\"edges\": {\"g.1-g.2\": {\"labels\": {\"weight\": {\"visible\": true}}}, \"g.1-g.3\": {\"labels\": {\"weight\": {\"visible\": true}}}, \"g.2-g.3\": {\"labels\": {\"weight\": {\"visible\": true}}}, \"g.3-g.4\": {\"labels\": {\"weight\": {\"visible\": true}}}, \"g.2-g.4\": {\"labels\": {\"weight\": {\"visible\": true}}}, \"g.3-g.5\": {\"labels\": {\"weight\": {\"visible\": true}}}, \"g.5-g.6\": {\"labels\": {\"weight\": {\"visible\": true}}}, \"g.4-g.5\": {\"labels\": {\"weight\": {\"visible\": true}}}, \"g.4-g.6\": {\"labels\": {\"weight\": {\"visible\": true}}}, \"g.8-g.9\": {\"labels\": {\"weight\": {\"visible\": true}}}, \"g.1-g.9\": {\"labels\": {\"weight\": {\"visible\": true}}}, \"g.3-g.8\": {\"labels\": {\"weight\": {\"visible\": true}}}, \"g.3-g.9\": {\"labels\": {\"weight\": {\"visible\": true}}}}}, \"animation\": {\"duration\": 0}}}",
        "{\"type\": \"update\", \"queue\": \"default\", \"data\": {\"attributes\": {\"edges\": {\"g.1-g.2\": {\"labels\": {\"weight\": {\"text\": 14}}}, \"g.1-g.3\": {\"labels\": {\"weight\": {\"text\": 15}}}, \"g.2-g.3\": {\"labels\": {\"weight\": {\"text\": 18}}}, \"g.3-g.4\": {\"labels\": {\"weight\": {\"text\": 6}}}, \"g.2-g.4\": {\"labels\": {\"weight\": {\"text\": 18}}}, \"g.3-g.5\": {\"labels\": {\"weight\": {\"text\": 18}}}, \"g.5-g.6\": {\"labels\": {\"weight\": {\"text\": 10}}}, \"g.4-g.5\": {\"labels\": {\"weight\": {\"text\": 12}}}, \"g.4-g.6\": {\"labels\": {\"weight\": {\"text\": 8}}}, \"g.8-g.9\": {\"labels\": {\"weight\": {\"text\": 8}}}, \"g.1-g.9\": {\"labels\": {\"weight\": {\"text\": 17}}}, \"g.3-g.8\": {\"labels\": {\"weight\": {\"text\": 13}}}, \"g.3-g.9\": {\"labels\": {\"weight\": {\"text\": 5}}}}}, \"animation\": {\"duration\": 0}}}",
        "{\"type\": \"update\", \"queue\": \"default\", \"data\": {\"attributes\": {\"nodes\": {\"colorful\": {\"visible\": true}}}, \"animation\": {}}}",
        "{\"type\": \"update\", \"queue\": \"default\", \"data\": {\"attributes\": {\"nodes\": {\"colorful\": {\"shape\": \"rect\"}}}, \"animation\": {\"duration\": 0}}}",
        "{\"type\": \"update\", \"queue\": \"default\", \"data\": {\"attributes\": {\"nodes\": {\"colorful\": {\"size\": [30, 30]}}}, \"animation\": {\"duration\": 0}}}",
        "{\"type\": \"update\", \"queue\": \"default\", \"data\": {\"attributes\": {\"nodes\": {\"colorful\": {\"labels\": {\"value\": null}}}}, \"animation\": {\"duration\": 0}}}",
        "{\"type\": \"update\", \"queue\": \"default\", \"data\": {\"attributes\": {\"nodes\": {\"colorful\": {\"labels\": {\"green\": {\"visible\": true}}}}}, \"animation\": {\"duration\": 0}}}",
        "{\"type\": \"update\", \"queue\": \"default\", \"data\": {\"attributes\": {\"nodes\": {\"colorful\": {\"labels\": {\"green\": {\"radius\": 0}}}}}, \"animation\": {\"duration\": 0}}}",
        "{\"type\": \"update\", \"queue\": \"default\", \"data\": {\"attributes\": {\"nodes\": {\"colorful\": {\"labels\": {\"green\": {\"align\": \"middle\"}}}}}, \"animation\": {\"duration\": 0}}}",
        "{\"type\": \"update\", \"queue\": \"default\", \"data\": {\"attributes\": {\"nodes\": {\"colorful\": {\"labels\": {\"green\": {\"pos\": [0, \"0.5y\"]}}}}}, \"animation\": {\"duration\": 0}}}",
        "{\"type\": \"update\", \"queue\": \"default\", \"data\": {\"attributes\": {\"nodes\": {\"colorful\": {\"labels\": {\"green\": {\"text\": \"green\"}}}}}, \"animation\": {\"duration\": 0}}}",
        "{\"type\": \"update\", \"queue\": \"default\", \"data\": {\"attributes\": {\"nodes\": {\"colorful\": {\"labels\": {\"green\": {\"color\": \"green\"}}}}}, \"animation\": {\"duration\": 0}}}",
        "{\"type\": \"update\", \"queue\": \"default\", \"data\": {\"attributes\": {\"nodes\": {\"colorful\": {\"labels\": {\"yellow\": {\"visible\": true}}}}}, \"animation\": {\"duration\": 0}}}",
        "{\"type\": \"update\", \"queue\": \"default\", \"data\": {\"attributes\": {\"nodes\": {\"colorful\": {\"labels\": {\"yellow\": {\"radius\": 0}}}}}, \"animation\": {\"duration\": 0}}}",
        "{\"type\": \"update\", \"queue\": \"default\", \"data\": {\"attributes\": {\"nodes\": {\"colorful\": {\"labels\": {\"yellow\": {\"align\": \"middle\"}}}}}, \"animation\": {\"duration\": 0}}}",
        "{\"type\": \"update\", \"queue\": \"default\", \"data\": {\"attributes\": {\"nodes\": {\"colorful\": {\"labels\": {\"yellow\": {\"pos\": [0, 0]}}}}}, \"animation\": {\"duration\": 0}}}",
        "{\"type\": \"update\", \"queue\": \"default\", \"data\": {\"attributes\": {\"nodes\": {\"colorful\": {\"labels\": {\"yellow\": {\"text\": \"yellow\"}}}}}, \"animation\": {\"duration\": 0}}}",
        "{\"type\": \"update\", \"queue\": \"default\", \"data\": {\"attributes\": {\"nodes\": {\"colorful\": {\"labels\": {\"yellow\": {\"color\": \"yellow\"}}}}}, \"animation\": {\"duration\": 0}}}",
        "{\"type\": \"update\", \"queue\": \"default\", \"data\": {\"attributes\": {\"nodes\": {\"colorful\": {\"labels\": {\"pink\": {\"visible\": true}}}}}, \"animation\": {\"duration\": 0}}}",
        "{\"type\": \"update\", \"queue\": \"default\", \"data\": {\"attributes\": {\"nodes\": {\"colorful\": {\"labels\": {\"pink\": {\"radius\": 0}}}}}, \"animation\": {\"duration\": 0}}}",
        "{\"type\": \"update\", \"queue\": \"default\", \"data\": {\"attributes\": {\"nodes\": {\"colorful\": {\"labels\": {\"pink\": {\"align\": \"middle\"}}}}}, \"animation\": {\"duration\": 0}}}",
        "{\"type\": \"update\", \"queue\": \"default\", \"data\": {\"attributes\": {\"nodes\": {\"colorful\": {\"labels\": {\"pink\": {\"pos\": [0, \"-0.5y\"]}}}}}, \"animation\": {\"duration\": 0}}}",
        "{\"type\": \"update\", \"queue\": \"default\", \"data\": {\"attributes\": {\"nodes\": {\"colorful\": {\"labels\": {\"pink\": {\"text\": \"pink\"}}}}}, \"animation\": {\"duration\": 0}}}",
        "{\"type\": \"update\", \"queue\": \"default\", \"data\": {\"attributes\": {\"nodes\": {\"colorful\": {\"labels\": {\"pink\": {\"color\": \"pink\"}}}}}, \"animation\": {\"duration\": 0}}}",
        "{\"type\": \"update\", \"queue\": \"default\", \"data\": {\"attributes\": {\"nodes\": {\"colorful\": {\"labels\": {\"top-\\nleft\": {\"visible\": true}}}}}, \"animation\": {\"duration\": 0}}}",
        "{\"type\": \"update\", \"queue\": \"default\", \"data\": {\"attributes\": {\"nodes\": {\"colorful\": {\"labels\": {\"top-\\nleft\": {\"angle\": 135}}}}}, \"animation\": {\"duration\": 0}}}",
        "{\"type\": \"update\", \"queue\": \"default\", \"data\": {\"attributes\": {\"nodes\": {\"colorful\": {\"labels\": {\"top-\\nleft\": {\"rotate\": true}}}}}, \"animation\": {\"duration\": 0}}}",
        "{\"type\": \"update\", \"queue\": \"default\", \"data\": {\"attributes\": {\"nodes\": {\"colorful\": {\"labels\": {\"top-\\nleft\": {\"radius\": \"r+6\"}}}}}, \"animation\": {\"duration\": 0}}}",
        "{\"type\": \"update\", \"queue\": \"default\", \"data\": {\"attributes\": {\"nodes\": {\"colorful\": {\"labels\": {\"top-\\nright\": {\"visible\": true}}}}}, \"animation\": {\"duration\": 0}}}",
        "{\"type\": \"update\", \"queue\": \"default\", \"data\": {\"attributes\": {\"nodes\": {\"colorful\": {\"labels\": {\"top-\\nright\": {\"angle\": 45}}}}}, \"animation\": {\"duration\": 0}}}",
        "{\"type\": \"update\", \"queue\": \"default\", \"data\": {\"attributes\": {\"nodes\": {\"colorful\": {\"labels\": {\"top-\\nright\": {\"rotate\": true}}}}}, \"animation\": {\"duration\": 0}}}",
        "{\"type\": \"update\", \"queue\": \"default\", \"data\": {\"attributes\": {\"nodes\": {\"colorful\": {\"labels\": {\"top-\\nright\": {\"radius\": \"r+6\"}}}}}, \"animation\": {\"duration\": 0}}}",
        "{\"type\": \"update\", \"queue\": \"default\", \"data\": {\"attributes\": {\"nodes\": {\"colorful\": {\"labels\": {\"bottom-\\nright\": {\"visible\": true}}}}}, \"animation\": {\"duration\": 0}}}",
        "{\"type\": \"update\", \"queue\": \"default\", \"data\": {\"attributes\": {\"nodes\": {\"colorful\": {\"labels\": {\"bottom-\\nright\": {\"angle\": -45}}}}}, \"animation\": {\"duration\": 0}}}",
        "{\"type\": \"update\", \"queue\": \"default\", \"data\": {\"attributes\": {\"nodes\": {\"colorful\": {\"labels\": {\"bottom-\\nright\": {\"rotate\": true}}}}}, \"animation\": {\"duration\": 0}}}",
        "{\"type\": \"update\", \"queue\": \"default\", \"data\": {\"attributes\": {\"nodes\": {\"colorful\": {\"labels\": {\"bottom-\\nleft\": {\"visible\": true}}}}}, \"animation\": {\"duration\": 0}}}",
        "{\"type\": \"update\", \"queue\": \"default\", \"data\": {\"attributes\": {\"nodes\": {\"colorful\": {\"labels\": {\"bottom-\\nleft\": {\"angle\": 225}}}}}, \"animation\": {\"duration\": 0}}}",
        "{\"type\": \"update\", \"queue\": \"default\", \"data\": {\"attributes\": {\"nodes\": {\"colorful\": {\"labels\": {\"bottom-\\nleft\": {\"rotate\": true}}}}}, \"animation\": {\"duration\": 0}}}",
        "{\"type\": \"update\", \"queue\": \"default\", \"data\": {\"attributes\": {\"edges\": {\"colorful-r.3\": {\"visible\": true, \"source\": \"r.3\", \"target\": \"colorful\"}}}, \"animation\": {}}}",
        "{\"type\": \"update\", \"queue\": \"default\", \"data\": {\"attributes\": {\"edges\": {\"colorful-r.3\": {\"color\": \"green\"}}}, \"animation\": {\"duration\": 0}}}"
       ],
       "_model_module_version": "^1.0.0",
       "_show_buttons": true,
       "_view_module_version": "^1.0.0",
       "_view_name": "CanvasView",
       "layout": "IPY_MODEL_d272ff4132e542048132c11aad974560"
      }
     },
     "2224e32652c2452da2b6c7cda9a1bd78": {
      "model_module": "algorithmx-jupyter",
      "model_module_version": "latest",
      "model_name": "CanvasModel",
      "state": {
       "_dispatch_events": [
        "{\"type\": \"update\", \"queue\": \"default\", \"data\": {\"attributes\": {\"size\": [300, 200]}, \"animation\": {}}}",
        "{\"type\": \"update\", \"queue\": \"default\", \"data\": {\"attributes\": {\"nodes\": {\"1\": {\"visible\": true}, \"2\": {\"visible\": true}}}, \"animation\": {}}}",
        "{\"type\": \"update\", \"queue\": \"default\", \"data\": {\"attributes\": {\"edges\": {\"1-2\": {\"visible\": true, \"source\": \"1\", \"target\": \"2\"}}}, \"animation\": {}}}"
       ],
       "_model_module_version": "latest",
       "_show_buttons": false,
       "_view_module_version": "latest",
       "_view_name": "CanvasView",
       "layout": "IPY_MODEL_870204892c66438d8ec19e049ad3bac6"
      }
     },
     "2324653c52a142c5b13423fef26b5c5b": {
      "model_module": "@jupyter-widgets/base",
      "model_module_version": "1.1.0",
      "model_name": "LayoutModel",
      "state": {}
     },
     "249426e02d7648c4b31d06e2d23a5f43": {
      "model_module": "algorithmx-jupyter",
      "model_module_version": "^1.0.0",
      "model_name": "CanvasModel",
      "state": {
       "_dispatch_events": [
        "{\"type\": \"update\", \"queue\": \"default\", \"data\": {\"attributes\": {\"zoomlimit\": [1, 1]}, \"animation\": {}}}",
        "{\"type\": \"update\", \"queue\": \"default\", \"data\": {\"attributes\": {\"nodes\": {\"1\": {\"visible\": true}, \"2\": {\"visible\": true}, \"3\": {\"visible\": true}, \"4\": {\"visible\": true}, \"5\": {\"visible\": true}, \"6\": {\"visible\": true}, \"7\": {\"visible\": true}}}, \"animation\": {}}}",
        "{\"type\": \"update\", \"queue\": \"default\", \"data\": {\"attributes\": {\"edges\": {\"1-2\": {\"visible\": true, \"source\": \"1\", \"target\": \"2\"}, \"2-3\": {\"visible\": true, \"source\": \"2\", \"target\": \"3\"}, \"3-4\": {\"visible\": true, \"source\": \"3\", \"target\": \"4\"}, \"4-5\": {\"visible\": true, \"source\": \"4\", \"target\": \"5\"}, \"5-6\": {\"visible\": true, \"source\": \"5\", \"target\": \"6\"}, \"6-7\": {\"visible\": true, \"source\": \"6\", \"target\": \"7\"}, \"1-3\": {\"visible\": true, \"source\": \"1\", \"target\": \"3\"}, \"2-4\": {\"visible\": true, \"source\": \"2\", \"target\": \"4\"}, \"2-7\": {\"visible\": true, \"source\": \"2\", \"target\": \"7\"}}}, \"animation\": {}}}",
        "{\"type\": \"pause\", \"queue\": \"default\", \"data\": {\"duration\": 0.5}}",
        "{\"type\": \"update\", \"queue\": \"default\", \"data\": {\"attributes\": {\"nodes\": {\"1\": {\"color\": \"green\"}}}, \"animation\": {}}}",
        "{\"type\": \"highlight\", \"queue\": \"default\", \"data\": {\"attributes\": {\"nodes\": {\"1\": {\"size\": \"1.2x\"}}}, \"animation\": {\"linger\": 0.7}}}",
        "{\"type\": \"pause\", \"queue\": \"default\", \"data\": {\"duration\": 0.5}}",
        "{\"type\": \"update\", \"queue\": \"default\", \"data\": {\"attributes\": {\"edges\": {\"1-2\": {\"color\": \"green\"}}}, \"animation\": {\"type\": \"traverse\"}}}",
        "{\"type\": \"pause\", \"queue\": \"default\", \"data\": {\"duration\": 0.5}}",
        "{\"type\": \"update\", \"queue\": \"default\", \"data\": {\"attributes\": {\"nodes\": {\"2\": {\"color\": \"green\"}}}, \"animation\": {}}}",
        "{\"type\": \"highlight\", \"queue\": \"default\", \"data\": {\"attributes\": {\"nodes\": {\"2\": {\"size\": \"1.2x\"}}}, \"animation\": {\"linger\": 0.7}}}",
        "{\"type\": \"pause\", \"queue\": \"default\", \"data\": {\"duration\": 0.5}}",
        "{\"type\": \"update\", \"queue\": \"default\", \"data\": {\"attributes\": {\"edges\": {\"2-3\": {\"color\": \"green\"}}}, \"animation\": {\"type\": \"traverse\"}}}",
        "{\"type\": \"pause\", \"queue\": \"default\", \"data\": {\"duration\": 0.5}}",
        "{\"type\": \"update\", \"queue\": \"default\", \"data\": {\"attributes\": {\"nodes\": {\"3\": {\"color\": \"green\"}}}, \"animation\": {}}}",
        "{\"type\": \"highlight\", \"queue\": \"default\", \"data\": {\"attributes\": {\"nodes\": {\"3\": {\"size\": \"1.2x\"}}}, \"animation\": {\"linger\": 0.7}}}",
        "{\"type\": \"pause\", \"queue\": \"default\", \"data\": {\"duration\": 0.5}}",
        "{\"type\": \"update\", \"queue\": \"default\", \"data\": {\"attributes\": {\"edges\": {\"3-4\": {\"color\": \"green\"}}}, \"animation\": {\"type\": \"traverse\"}}}",
        "{\"type\": \"pause\", \"queue\": \"default\", \"data\": {\"duration\": 0.5}}",
        "{\"type\": \"update\", \"queue\": \"default\", \"data\": {\"attributes\": {\"nodes\": {\"4\": {\"color\": \"green\"}}}, \"animation\": {}}}",
        "{\"type\": \"highlight\", \"queue\": \"default\", \"data\": {\"attributes\": {\"nodes\": {\"4\": {\"size\": \"1.2x\"}}}, \"animation\": {\"linger\": 0.7}}}",
        "{\"type\": \"pause\", \"queue\": \"default\", \"data\": {\"duration\": 0.5}}",
        "{\"type\": \"update\", \"queue\": \"default\", \"data\": {\"attributes\": {\"edges\": {\"4-5\": {\"color\": \"green\"}}}, \"animation\": {\"type\": \"traverse\"}}}",
        "{\"type\": \"pause\", \"queue\": \"default\", \"data\": {\"duration\": 0.5}}",
        "{\"type\": \"update\", \"queue\": \"default\", \"data\": {\"attributes\": {\"nodes\": {\"5\": {\"color\": \"green\"}}}, \"animation\": {}}}",
        "{\"type\": \"highlight\", \"queue\": \"default\", \"data\": {\"attributes\": {\"nodes\": {\"5\": {\"size\": \"1.2x\"}}}, \"animation\": {\"linger\": 0.7}}}",
        "{\"type\": \"pause\", \"queue\": \"default\", \"data\": {\"duration\": 0.5}}",
        "{\"type\": \"update\", \"queue\": \"default\", \"data\": {\"attributes\": {\"edges\": {\"5-6\": {\"color\": \"green\"}}}, \"animation\": {\"type\": \"traverse\"}}}",
        "{\"type\": \"pause\", \"queue\": \"default\", \"data\": {\"duration\": 0.5}}",
        "{\"type\": \"update\", \"queue\": \"default\", \"data\": {\"attributes\": {\"nodes\": {\"6\": {\"color\": \"green\"}}}, \"animation\": {}}}",
        "{\"type\": \"highlight\", \"queue\": \"default\", \"data\": {\"attributes\": {\"nodes\": {\"6\": {\"size\": \"1.2x\"}}}, \"animation\": {\"linger\": 0.7}}}",
        "{\"type\": \"pause\", \"queue\": \"default\", \"data\": {\"duration\": 0.5}}",
        "{\"type\": \"update\", \"queue\": \"default\", \"data\": {\"attributes\": {\"edges\": {\"6-7\": {\"color\": \"green\"}}}, \"animation\": {\"type\": \"traverse\"}}}",
        "{\"type\": \"pause\", \"queue\": \"default\", \"data\": {\"duration\": 0.5}}",
        "{\"type\": \"update\", \"queue\": \"default\", \"data\": {\"attributes\": {\"nodes\": {\"7\": {\"color\": \"green\"}}}, \"animation\": {}}}",
        "{\"type\": \"highlight\", \"queue\": \"default\", \"data\": {\"attributes\": {\"nodes\": {\"7\": {\"size\": \"1.2x\"}}}, \"animation\": {\"linger\": 0.7}}}",
        "{\"type\": \"pause\", \"queue\": \"default\", \"data\": {\"duration\": 0.5}}",
        "{\"type\": \"update\", \"queue\": \"default\", \"data\": {\"attributes\": {\"edges\": {\"7-8\": {\"color\": \"green\"}}}, \"animation\": {\"type\": \"traverse\"}}}"
       ],
       "_model_module_version": "^1.0.0",
       "_show_buttons": true,
       "_view_module_version": "^1.0.0",
       "_view_name": "CanvasView",
       "layout": "IPY_MODEL_bb187e802e8747529027e0aeeeb1cfda"
      }
     },
     "24ed272913ca414b94a315bd03dd90f5": {
      "model_module": "algorithmx-jupyter",
      "model_module_version": "^1.0.0",
      "model_name": "CanvasModel",
      "state": {
       "_model_module_version": "^1.0.0",
       "_show_buttons": false,
       "_view_module_version": "^1.0.0",
       "_view_name": "CanvasView",
       "layout": "IPY_MODEL_e682761b718440c684e4fa65e2f02090"
      }
     },
     "24f281bae4e14b1c8531fe3601786897": {
      "model_module": "algorithmx-jupyter",
      "model_module_version": "^1.0.0",
      "model_name": "CanvasModel",
      "state": {
       "_dispatch_events": [
        "{\"type\": \"update\", \"queue\": \"default\", \"data\": {\"attributes\": {\"size\": [300, 200]}, \"animation\": {}}}",
        "{\"type\": \"update\", \"queue\": \"default\", \"data\": {\"attributes\": {\"nodes\": {\"1\": {\"visible\": true}, \"2\": {\"visible\": true}}}, \"animation\": {}}}",
        "{\"type\": \"update\", \"queue\": \"default\", \"data\": {\"attributes\": {\"edges\": {\"1-2\": {\"visible\": true, \"source\": \"1\", \"target\": \"2\"}}}, \"animation\": {}}}"
       ],
       "_model_module_version": "^1.0.0",
       "_show_buttons": false,
       "_view_module_version": "^1.0.0",
       "_view_name": "CanvasView",
       "layout": "IPY_MODEL_7284b3e32dad4e8c807046ac66e64553"
      }
     },
     "24fdfb99849a48489299f95ca79d8d97": {
      "model_module": "algorithmx-jupyter",
      "model_module_version": "^1.0.0",
      "model_name": "CanvasModel",
      "state": {
       "_dispatch_events": [
        "{\"type\": \"update\", \"queue\": \"default\", \"data\": {\"attributes\": {\"size\": [200, 200]}, \"animation\": {\"duration\": 0}}}",
        "{\"type\": \"update\", \"queue\": \"default\", \"data\": {\"attributes\": {\"nodes\": {\"1\": {\"visible\": true}, \"2\": {\"visible\": true}}}, \"animation\": {}}}",
        "{\"type\": \"update\", \"queue\": \"default\", \"data\": {\"attributes\": {\"edges\": {\"1-2\": {\"visible\": true, \"source\": \"1\", \"target\": \"2\"}}}, \"animation\": {}}}"
       ],
       "_model_module_version": "^1.0.0",
       "_view_module_version": "^1.0.0",
       "_view_name": "CanvasView",
       "layout": "IPY_MODEL_051bcc6fa6ea43bfb63f5e1773b7bca0"
      }
     },
     "26315a58b5864d8888b99bdda455a479": {
      "model_module": "@jupyter-widgets/base",
      "model_module_version": "1.1.0",
      "model_name": "LayoutModel",
      "state": {}
     },
     "27028bc4913346d8b36a69c2d92a922c": {
      "model_module": "@jupyter-widgets/base",
      "model_module_version": "1.1.0",
      "model_name": "LayoutModel",
      "state": {}
     },
     "29b1f137844448abb9f78d50cd9c4ae4": {
      "model_module": "@jupyter-widgets/base",
      "model_module_version": "1.1.0",
      "model_name": "LayoutModel",
      "state": {}
     },
     "29c9941774d94ed482790237afcea5ff": {
      "model_module": "algorithmx-jupyter",
      "model_module_version": "^1.0.0",
      "model_name": "CanvasModel",
      "state": {
       "_dispatch_events": [
        "{\"type\": \"update\", \"queue\": \"default\", \"data\": {\"attributes\": {\"svgattr\": {\"border\": \"red\"}}, \"animation\": {}}}",
        "{\"type\": \"update\", \"queue\": \"default\", \"data\": {\"attributes\": {\"nodes\": {\"1\": {\"visible\": true}, \"2\": {\"visible\": true}}}, \"animation\": {}}}",
        "{\"type\": \"update\", \"queue\": \"default\", \"data\": {\"attributes\": {\"edges\": {\"1-2\": {\"visible\": true, \"source\": \"1\", \"target\": \"2\"}}}, \"animation\": {}}}"
       ],
       "_model_module_version": "^1.0.0",
       "_show_buttons": false,
       "_view_module_version": "^1.0.0",
       "_view_name": "CanvasView",
       "layout": "IPY_MODEL_5b3a9cc076d949cab797fc819e1bd422"
      }
     },
     "2a45847573a14074bf9ab6dd5eec0a14": {
      "model_module": "@jupyter-widgets/base",
      "model_module_version": "1.1.0",
      "model_name": "LayoutModel",
      "state": {}
     },
     "2ca23297cfab41c6bbb388376ff59b56": {
      "model_module": "@jupyter-widgets/base",
      "model_module_version": "1.1.0",
      "model_name": "LayoutModel",
      "state": {}
     },
     "2cb05cc9ce2d49f98ce87e3ab16caa50": {
      "model_module": "algorithmx-jupyter",
      "model_module_version": "^1.0.0",
      "model_name": "CanvasModel",
      "state": {
       "_dispatch_events": [
        "{\"type\": \"update\", \"queue\": \"default\", \"data\": {\"attributes\": {\"nodes\": {\"1\": {\"visible\": true}, \"2\": {\"visible\": true}}}, \"animation\": {}}}",
        "{\"type\": \"update\", \"queue\": \"default\", \"data\": {\"attributes\": {\"edges\": {\"1-2\": {\"visible\": true, \"source\": \"1\", \"target\": \"2\"}}}, \"animation\": {}}}"
       ],
       "_model_module_version": "^1.0.0",
       "_show_buttons": false,
       "_view_module_version": "^1.0.0",
       "_view_name": "CanvasView",
       "layout": "IPY_MODEL_eb2641217e914c62acf499a596fedd3d"
      }
     },
     "2e2775a3d4cc4ba39eb7caff89b774c8": {
      "model_module": "@jupyter-widgets/base",
      "model_module_version": "1.1.0",
      "model_name": "LayoutModel",
      "state": {}
     },
     "2efbfa69244f482fb24fe526b6241c3a": {
      "model_module": "@jupyter-widgets/base",
      "model_module_version": "1.1.0",
      "model_name": "LayoutModel",
      "state": {}
     },
     "2f68f51ba7ea4c34a79dd42ee63e5c10": {
      "model_module": "algorithmx-jupyter",
      "model_module_version": "^1.0.0",
      "model_name": "CanvasModel",
      "state": {
       "_dispatch_events": [
        "{\"type\": \"update\", \"queue\": \"default\", \"data\": {\"attributes\": {\"svgattr\": {\"style\": \"border: 2px solid red\"}}, \"animation\": {}}}",
        "{\"type\": \"update\", \"queue\": \"default\", \"data\": {\"attributes\": {\"nodes\": {\"1\": {\"visible\": true}, \"2\": {\"visible\": true}}}, \"animation\": {}}}",
        "{\"type\": \"update\", \"queue\": \"default\", \"data\": {\"attributes\": {\"edges\": {\"1-2\": {\"visible\": true, \"source\": \"1\", \"target\": \"2\"}}}, \"animation\": {}}}"
       ],
       "_model_module_version": "^1.0.0",
       "_show_buttons": false,
       "_view_module_version": "^1.0.0",
       "_view_name": "CanvasView",
       "layout": "IPY_MODEL_0dd8bd2ef899462aabb5fa21322336fb"
      }
     },
     "2f7298af2ab745de8e16cebb4c1eb030": {
      "model_module": "algorithmx-jupyter",
      "model_module_version": "^1.0.0",
      "model_name": "CanvasModel",
      "state": {
       "_dispatch_events": [
        "{\"type\": \"update\", \"queue\": \"default\", \"data\": {\"attributes\": {\"nodes\": {\"1\": {\"visible\": true}, \"2\": {\"visible\": true}}}, \"animation\": {}}}",
        "{\"type\": \"update\", \"queue\": \"default\", \"data\": {\"attributes\": {\"edges\": {\"1-2\": {\"visible\": true, \"source\": \"1\", \"target\": \"2\"}}}, \"animation\": {}}}"
       ],
       "_model_module_version": "^1.0.0",
       "_show_buttons": false,
       "_view_module_version": "^1.0.0",
       "_view_name": "CanvasView",
       "layout": "IPY_MODEL_29b1f137844448abb9f78d50cd9c4ae4"
      }
     },
     "318a2fdccf964a4eb2ecca3ad4a4503c": {
      "model_module": "algorithmx-jupyter",
      "model_module_version": "^1.0.0",
      "model_name": "CanvasModel",
      "state": {
       "_dispatch_events": [
        "{\"type\": \"cancel\", \"queue\": \"None\", \"data\": {\"queues\": null}}",
        "{\"type\": \"update\", \"queue\": \"default\", \"data\": {\"attributes\": null, \"animation\": {}}}",
        "{\"type\": \"update\", \"queue\": \"default\", \"data\": {\"attributes\": {\"size\": [200, 200]}, \"animation\": {}}}",
        "{\"type\": \"update\", \"queue\": \"default\", \"data\": {\"attributes\": {\"nodes\": {\"1\": {\"visible\": true}, \"2\": {\"visible\": true}}}, \"animation\": {}}}",
        "{\"type\": \"update\", \"queue\": \"default\", \"data\": {\"attributes\": {\"edges\": {\"1-2\": {\"visible\": true, \"source\": \"1\", \"target\": \"2\"}}}, \"animation\": {}}}",
        "{\"type\": \"pause\", \"queue\": \"default\", \"data\": {\"duration\": 0.5}}",
        "{\"type\": \"highlight\", \"queue\": \"default\", \"data\": {\"attributes\": {\"nodes\": {\"1\": {\"size\": \"1.5x\"}}}, \"animation\": {}}}",
        "{\"type\": \"pause\", \"queue\": \"default\", \"data\": {\"duration\": 0.5}}",
        "{\"type\": \"update\", \"queue\": \"default\", \"data\": {\"attributes\": {\"edges\": {\"1-2\": {\"color\": \"blue\"}}}, \"animation\": {\"type\": \"traverse\"}}}"
       ],
       "_model_module_version": "^1.0.0",
       "_view_module_version": "^1.0.0",
       "_view_name": "CanvasView",
       "layout": "IPY_MODEL_161d36b819864e3897de8d130b760d2f"
      }
     },
     "3253c924b9c24c7f885eda5364b41b5e": {
      "model_module": "@jupyter-widgets/base",
      "model_module_version": "1.1.0",
      "model_name": "LayoutModel",
      "state": {}
     },
     "328a73be3e334b9fbed9444938e25f44": {
      "model_module": "algorithmx-jupyter",
      "model_module_version": "latest",
      "model_name": "CanvasModel",
      "state": {
       "_dispatch_events": [
        "{\"type\": \"update\", \"queue\": \"default\", \"data\": {\"attributes\": {\"nodes\": {\"1\": {\"visible\": true}, \"2\": {\"visible\": true}, \"3\": {\"visible\": true}, \"4\": {\"visible\": true}, \"5\": {\"visible\": true}, \"6\": {\"visible\": true}, \"7\": {\"visible\": true}}}, \"animation\": {}}}",
        "{\"type\": \"update\", \"queue\": \"default\", \"data\": {\"attributes\": {\"edges\": {\"1-2\": {\"visible\": true, \"source\": \"1\", \"target\": \"2\"}, \"2-3\": {\"visible\": true, \"source\": \"2\", \"target\": \"3\"}, \"3-4\": {\"visible\": true, \"source\": \"3\", \"target\": \"4\"}, \"4-5\": {\"visible\": true, \"source\": \"4\", \"target\": \"5\"}, \"5-6\": {\"visible\": true, \"source\": \"5\", \"target\": \"6\"}, \"6-7\": {\"visible\": true, \"source\": \"6\", \"target\": \"7\"}, \"1-3\": {\"visible\": true, \"source\": \"1\", \"target\": \"3\"}, \"2-4\": {\"visible\": true, \"source\": \"2\", \"target\": \"4\"}, \"2-7\": {\"visible\": true, \"source\": \"2\", \"target\": \"7\"}}}, \"animation\": {}}}",
        "{\"type\": \"pause\", \"queue\": \"default\", \"data\": {\"duration\": 0.5}}",
        "{\"type\": \"update\", \"queue\": \"default\", \"data\": {\"attributes\": {\"nodes\": {\"1\": {\"color\": \"green\"}}}, \"animation\": {}}}",
        "{\"type\": \"highlight\", \"queue\": \"default\", \"data\": {\"attributes\": {\"nodes\": {\"1\": {\"size\": \"1.25x\"}}}, \"animation\": {\"**\": {\"linger\": 0.7}}}}",
        "{\"type\": \"pause\", \"queue\": \"default\", \"data\": {\"duration\": 0.5}}",
        "{\"type\": \"update\", \"queue\": \"default\", \"data\": {\"attributes\": {\"edges\": {\"1-2\": {\"color\": \"green\"}}}, \"animation\": {\"edges\": {\"1-2\": {\"**\": {\"type\": \"traverse\", \"data\": {\"source\": \"1\"}}}}}}}",
        "{\"type\": \"pause\", \"queue\": \"default\", \"data\": {\"duration\": 0.5}}",
        "{\"type\": \"update\", \"queue\": \"default\", \"data\": {\"attributes\": {\"nodes\": {\"2\": {\"color\": \"green\"}}}, \"animation\": {}}}",
        "{\"type\": \"highlight\", \"queue\": \"default\", \"data\": {\"attributes\": {\"nodes\": {\"2\": {\"size\": \"1.25x\"}}}, \"animation\": {\"**\": {\"linger\": 0.7}}}}",
        "{\"type\": \"pause\", \"queue\": \"default\", \"data\": {\"duration\": 0.5}}",
        "{\"type\": \"update\", \"queue\": \"default\", \"data\": {\"attributes\": {\"edges\": {\"2-3\": {\"color\": \"green\"}}}, \"animation\": {\"edges\": {\"2-3\": {\"**\": {\"type\": \"traverse\", \"data\": {\"source\": \"2\"}}}}}}}",
        "{\"type\": \"pause\", \"queue\": \"default\", \"data\": {\"duration\": 0.5}}",
        "{\"type\": \"update\", \"queue\": \"default\", \"data\": {\"attributes\": {\"nodes\": {\"3\": {\"color\": \"green\"}}}, \"animation\": {}}}",
        "{\"type\": \"highlight\", \"queue\": \"default\", \"data\": {\"attributes\": {\"nodes\": {\"3\": {\"size\": \"1.25x\"}}}, \"animation\": {\"**\": {\"linger\": 0.7}}}}",
        "{\"type\": \"pause\", \"queue\": \"default\", \"data\": {\"duration\": 0.5}}",
        "{\"type\": \"update\", \"queue\": \"default\", \"data\": {\"attributes\": {\"edges\": {\"3-4\": {\"color\": \"green\"}}}, \"animation\": {\"edges\": {\"3-4\": {\"**\": {\"type\": \"traverse\", \"data\": {\"source\": \"3\"}}}}}}}",
        "{\"type\": \"pause\", \"queue\": \"default\", \"data\": {\"duration\": 0.5}}",
        "{\"type\": \"update\", \"queue\": \"default\", \"data\": {\"attributes\": {\"nodes\": {\"4\": {\"color\": \"green\"}}}, \"animation\": {}}}",
        "{\"type\": \"highlight\", \"queue\": \"default\", \"data\": {\"attributes\": {\"nodes\": {\"4\": {\"size\": \"1.25x\"}}}, \"animation\": {\"**\": {\"linger\": 0.7}}}}",
        "{\"type\": \"pause\", \"queue\": \"default\", \"data\": {\"duration\": 0.5}}",
        "{\"type\": \"update\", \"queue\": \"default\", \"data\": {\"attributes\": {\"edges\": {\"4-5\": {\"color\": \"green\"}}}, \"animation\": {\"edges\": {\"4-5\": {\"**\": {\"type\": \"traverse\", \"data\": {\"source\": \"4\"}}}}}}}",
        "{\"type\": \"pause\", \"queue\": \"default\", \"data\": {\"duration\": 0.5}}",
        "{\"type\": \"update\", \"queue\": \"default\", \"data\": {\"attributes\": {\"nodes\": {\"5\": {\"color\": \"green\"}}}, \"animation\": {}}}",
        "{\"type\": \"highlight\", \"queue\": \"default\", \"data\": {\"attributes\": {\"nodes\": {\"5\": {\"size\": \"1.25x\"}}}, \"animation\": {\"**\": {\"linger\": 0.7}}}}",
        "{\"type\": \"pause\", \"queue\": \"default\", \"data\": {\"duration\": 0.5}}",
        "{\"type\": \"update\", \"queue\": \"default\", \"data\": {\"attributes\": {\"edges\": {\"5-6\": {\"color\": \"green\"}}}, \"animation\": {\"edges\": {\"5-6\": {\"**\": {\"type\": \"traverse\", \"data\": {\"source\": \"5\"}}}}}}}",
        "{\"type\": \"pause\", \"queue\": \"default\", \"data\": {\"duration\": 0.5}}",
        "{\"type\": \"update\", \"queue\": \"default\", \"data\": {\"attributes\": {\"nodes\": {\"6\": {\"color\": \"green\"}}}, \"animation\": {}}}",
        "{\"type\": \"highlight\", \"queue\": \"default\", \"data\": {\"attributes\": {\"nodes\": {\"6\": {\"size\": \"1.25x\"}}}, \"animation\": {\"**\": {\"linger\": 0.7}}}}",
        "{\"type\": \"pause\", \"queue\": \"default\", \"data\": {\"duration\": 0.5}}",
        "{\"type\": \"update\", \"queue\": \"default\", \"data\": {\"attributes\": {\"edges\": {\"6-7\": {\"color\": \"green\"}}}, \"animation\": {\"edges\": {\"6-7\": {\"**\": {\"type\": \"traverse\", \"data\": {\"source\": \"6\"}}}}}}}",
        "{\"type\": \"pause\", \"queue\": \"default\", \"data\": {\"duration\": 0.5}}",
        "{\"type\": \"update\", \"queue\": \"default\", \"data\": {\"attributes\": {\"nodes\": {\"7\": {\"color\": \"green\"}}}, \"animation\": {}}}",
        "{\"type\": \"highlight\", \"queue\": \"default\", \"data\": {\"attributes\": {\"nodes\": {\"7\": {\"size\": \"1.25x\"}}}, \"animation\": {\"**\": {\"linger\": 0.7}}}}",
        "{\"type\": \"pause\", \"queue\": \"default\", \"data\": {\"duration\": 0.5}}",
        "{\"type\": \"update\", \"queue\": \"default\", \"data\": {\"attributes\": {\"edges\": {\"7-8\": {\"color\": \"green\"}}}, \"animation\": {\"edges\": {\"7-8\": {\"**\": {\"type\": \"traverse\", \"data\": {\"source\": \"7\"}}}}}}}"
       ],
       "_model_module_version": "latest",
       "_show_buttons": true,
       "_view_module_version": "latest",
       "_view_name": "CanvasView",
       "layout": "IPY_MODEL_054222bc835048f2bb0634868172d333"
      }
     },
     "33f1edfaa65243528673802012d2c6a7": {
      "model_module": "algorithmx-jupyter",
      "model_module_version": "^1.0.0",
      "model_name": "CanvasModel",
      "state": {
       "_dispatch_events": [
        "{\"type\": \"update\", \"queue\": \"default\", \"data\": {\"attributes\": {\"edgelengths\": \"individual\"}, \"animation\": {}}}",
        "{\"type\": \"update\", \"queue\": \"default\", \"data\": {\"attributes\": {\"nodes\": {\"center\": {\"visible\": true}}}, \"animation\": {}}}",
        "{\"type\": \"update\", \"queue\": \"default\", \"data\": {\"attributes\": {\"nodes\": {\"center\": {\"shape\": \"rect\"}}}, \"animation\": {\"duration\": 0}}}",
        "{\"type\": \"update\", \"queue\": \"default\", \"data\": {\"attributes\": {\"nodes\": {\"center\": {\"size\": [90, 50]}}}, \"animation\": {\"duration\": 0}}}",
        "{\"type\": \"update\", \"queue\": \"default\", \"data\": {\"attributes\": {\"nodes\": {\"center\": {\"labels\": {\"text\": {\"visible\": true}}}}}, \"animation\": {\"duration\": 0}}}",
        "{\"type\": \"update\", \"queue\": \"default\", \"data\": {\"attributes\": {\"nodes\": {\"center\": {\"labels\": {\"text\": {\"radius\": 0}}}}}, \"animation\": {\"duration\": 0}}}",
        "{\"type\": \"update\", \"queue\": \"default\", \"data\": {\"attributes\": {\"nodes\": {\"center\": {\"labels\": {\"text\": {\"size\": 12}}}}}, \"animation\": {\"duration\": 0}}}",
        "{\"type\": \"update\", \"queue\": \"default\", \"data\": {\"attributes\": {\"nodes\": {\"center\": {\"labels\": {\"text\": {\"align\": \"middle-left\"}}}}}, \"animation\": {\"duration\": 0}}}",
        "{\"type\": \"update\", \"queue\": \"default\", \"data\": {\"attributes\": {\"nodes\": {\"center\": {\"labels\": {\"text\": {\"pos\": [\"-0.5x\", 0]}}}}}, \"animation\": {\"duration\": 0}}}",
        "{\"type\": \"update\", \"queue\": \"default\", \"data\": {\"attributes\": {\"nodes\": {\"center\": {\"labels\": {\"text\": {\"color\": \"white\"}}}}}, \"animation\": {\"duration\": 0}}}",
        "{\"type\": \"update\", \"queue\": \"default\", \"data\": {\"attributes\": {\"nodes\": {\"center\": {\"labels\": {\"text\": {\"size\": 13}}}}}, \"animation\": {\"duration\": 0}}}",
        "{\"type\": \"update\", \"queue\": \"default\", \"data\": {\"attributes\": {\"nodes\": {\"center\": {\"labels\": {\"text\": {\"text\": \"A library for network\\nvisualization and\\nalgorithm simulation\"}}}}}, \"animation\": {\"duration\": 0}}}",
        "{\"type\": \"update\", \"queue\": \"default\", \"data\": {\"attributes\": {\"nodes\": {\"center\": {\"labels\": {\"value\": {\"align\": \"top-middle\"}}}}}, \"animation\": {\"duration\": 0}}}",
        "{\"type\": \"update\", \"queue\": \"default\", \"data\": {\"attributes\": {\"nodes\": {\"center\": {\"labels\": {\"value\": {\"rotate\": true}}}}}, \"animation\": {\"duration\": 0}}}",
        "{\"type\": \"update\", \"queue\": \"default\", \"data\": {\"attributes\": {\"nodes\": {\"center\": {\"labels\": {\"value\": {\"angle\": 0}}}}}, \"animation\": {\"duration\": 0}}}",
        "{\"type\": \"update\", \"queue\": \"default\", \"data\": {\"attributes\": {\"nodes\": {\"center\": {\"labels\": {\"value\": {\"pos\": [\"-0.8x\", 0]}}}}}, \"animation\": {\"duration\": 0}}}",
        "{\"type\": \"update\", \"queue\": \"default\", \"data\": {\"attributes\": {\"nodes\": {\"center\": {\"labels\": {\"value\": {\"size\": 15}}}}}, \"animation\": {\"duration\": 0}}}",
        "{\"type\": \"update\", \"queue\": \"default\", \"data\": {\"attributes\": {\"nodes\": {\"center\": {\"labels\": {\"value\": {\"text\": \"AlgorithmX\"}}}}}, \"animation\": {\"duration\": 0}}}",
        "{\"type\": \"update\", \"queue\": \"default\", \"data\": {\"attributes\": {\"nodes\": {\"r.1\": {\"visible\": true}, \"r.2\": {\"visible\": true}, \"r.3\": {\"visible\": true}, \"r.4\": {\"visible\": true}, \"r.5\": {\"visible\": true}, \"r.6\": {\"visible\": true}}}, \"animation\": {}}}",
        "{\"type\": \"update\", \"queue\": \"default\", \"data\": {\"attributes\": {\"nodes\": {\"r.1\": {\"labels\": {\"value\": {\"text\": 1}}}}}, \"animation\": {}}}",
        "{\"type\": \"update\", \"queue\": \"default\", \"data\": {\"attributes\": {\"edges\": {\"center-r.1\": {\"visible\": true, \"source\": \"r.1\", \"target\": \"center\"}}}, \"animation\": {}}}",
        "{\"type\": \"update\", \"queue\": \"default\", \"data\": {\"attributes\": {\"edges\": {\"center-r.1\": {\"length\": 130}}}, \"animation\": {\"duration\": 0}}}",
        "{\"type\": \"update\", \"queue\": \"default\", \"data\": {\"attributes\": {\"edges\": {\"center-r.1\": {\"directed\": true}}}, \"animation\": {\"duration\": 0}}}",
        "{\"type\": \"update\", \"queue\": \"default\", \"data\": {\"attributes\": {\"edges\": {\"r.1-r.2\": {\"visible\": true, \"source\": \"r.1\", \"target\": \"r.2\"}}}, \"animation\": {}}}",
        "{\"type\": \"update\", \"queue\": \"default\", \"data\": {\"attributes\": {\"edges\": {\"r.1-r.2\": {\"length\": 120}}}, \"animation\": {\"duration\": 0}}}",
        "{\"type\": \"update\", \"queue\": \"default\", \"data\": {\"attributes\": {\"nodes\": {\"r.2\": {\"labels\": {\"value\": {\"text\": 2}}}}}, \"animation\": {}}}",
        "{\"type\": \"update\", \"queue\": \"default\", \"data\": {\"attributes\": {\"edges\": {\"center-r.2\": {\"visible\": true, \"source\": \"r.2\", \"target\": \"center\"}}}, \"animation\": {}}}",
        "{\"type\": \"update\", \"queue\": \"default\", \"data\": {\"attributes\": {\"edges\": {\"center-r.2\": {\"length\": 130}}}, \"animation\": {\"duration\": 0}}}",
        "{\"type\": \"update\", \"queue\": \"default\", \"data\": {\"attributes\": {\"edges\": {\"center-r.2\": {\"directed\": true}}}, \"animation\": {\"duration\": 0}}}",
        "{\"type\": \"update\", \"queue\": \"default\", \"data\": {\"attributes\": {\"edges\": {\"r.2-r.3\": {\"visible\": true, \"source\": \"r.2\", \"target\": \"r.3\"}}}, \"animation\": {}}}",
        "{\"type\": \"update\", \"queue\": \"default\", \"data\": {\"attributes\": {\"edges\": {\"r.2-r.3\": {\"length\": 120}}}, \"animation\": {\"duration\": 0}}}",
        "{\"type\": \"update\", \"queue\": \"default\", \"data\": {\"attributes\": {\"nodes\": {\"r.3\": {\"labels\": {\"value\": {\"text\": 3}}}}}, \"animation\": {}}}",
        "{\"type\": \"update\", \"queue\": \"default\", \"data\": {\"attributes\": {\"edges\": {\"center-r.3\": {\"visible\": true, \"source\": \"r.3\", \"target\": \"center\"}}}, \"animation\": {}}}",
        "{\"type\": \"update\", \"queue\": \"default\", \"data\": {\"attributes\": {\"edges\": {\"center-r.3\": {\"length\": 130}}}, \"animation\": {\"duration\": 0}}}",
        "{\"type\": \"update\", \"queue\": \"default\", \"data\": {\"attributes\": {\"edges\": {\"center-r.3\": {\"directed\": true}}}, \"animation\": {\"duration\": 0}}}",
        "{\"type\": \"update\", \"queue\": \"default\", \"data\": {\"attributes\": {\"edges\": {\"r.3-r.4\": {\"visible\": true, \"source\": \"r.3\", \"target\": \"r.4\"}}}, \"animation\": {}}}",
        "{\"type\": \"update\", \"queue\": \"default\", \"data\": {\"attributes\": {\"edges\": {\"r.3-r.4\": {\"length\": 120}}}, \"animation\": {\"duration\": 0}}}",
        "{\"type\": \"update\", \"queue\": \"default\", \"data\": {\"attributes\": {\"nodes\": {\"r.4\": {\"labels\": {\"value\": {\"text\": 4}}}}}, \"animation\": {}}}",
        "{\"type\": \"update\", \"queue\": \"default\", \"data\": {\"attributes\": {\"edges\": {\"center-r.4\": {\"visible\": true, \"source\": \"r.4\", \"target\": \"center\"}}}, \"animation\": {}}}",
        "{\"type\": \"update\", \"queue\": \"default\", \"data\": {\"attributes\": {\"edges\": {\"center-r.4\": {\"length\": 130}}}, \"animation\": {\"duration\": 0}}}",
        "{\"type\": \"update\", \"queue\": \"default\", \"data\": {\"attributes\": {\"edges\": {\"center-r.4\": {\"directed\": true}}}, \"animation\": {\"duration\": 0}}}",
        "{\"type\": \"update\", \"queue\": \"default\", \"data\": {\"attributes\": {\"edges\": {\"r.4-r.5\": {\"visible\": true, \"source\": \"r.4\", \"target\": \"r.5\"}}}, \"animation\": {}}}",
        "{\"type\": \"update\", \"queue\": \"default\", \"data\": {\"attributes\": {\"edges\": {\"r.4-r.5\": {\"length\": 120}}}, \"animation\": {\"duration\": 0}}}",
        "{\"type\": \"update\", \"queue\": \"default\", \"data\": {\"attributes\": {\"nodes\": {\"r.5\": {\"labels\": {\"value\": {\"text\": 5}}}}}, \"animation\": {}}}",
        "{\"type\": \"update\", \"queue\": \"default\", \"data\": {\"attributes\": {\"edges\": {\"center-r.5\": {\"visible\": true, \"source\": \"r.5\", \"target\": \"center\"}}}, \"animation\": {}}}",
        "{\"type\": \"update\", \"queue\": \"default\", \"data\": {\"attributes\": {\"edges\": {\"center-r.5\": {\"length\": 130}}}, \"animation\": {\"duration\": 0}}}",
        "{\"type\": \"update\", \"queue\": \"default\", \"data\": {\"attributes\": {\"edges\": {\"center-r.5\": {\"directed\": true}}}, \"animation\": {\"duration\": 0}}}",
        "{\"type\": \"update\", \"queue\": \"default\", \"data\": {\"attributes\": {\"edges\": {\"r.5-r.6\": {\"visible\": true, \"source\": \"r.5\", \"target\": \"r.6\"}}}, \"animation\": {}}}",
        "{\"type\": \"update\", \"queue\": \"default\", \"data\": {\"attributes\": {\"edges\": {\"r.5-r.6\": {\"length\": 120}}}, \"animation\": {\"duration\": 0}}}",
        "{\"type\": \"update\", \"queue\": \"default\", \"data\": {\"attributes\": {\"nodes\": {\"r.6\": {\"labels\": {\"value\": {\"text\": 6}}}}}, \"animation\": {}}}",
        "{\"type\": \"update\", \"queue\": \"default\", \"data\": {\"attributes\": {\"edges\": {\"center-r.6\": {\"visible\": true, \"source\": \"r.6\", \"target\": \"center\"}}}, \"animation\": {}}}",
        "{\"type\": \"update\", \"queue\": \"default\", \"data\": {\"attributes\": {\"edges\": {\"center-r.6\": {\"length\": 130}}}, \"animation\": {\"duration\": 0}}}",
        "{\"type\": \"update\", \"queue\": \"default\", \"data\": {\"attributes\": {\"edges\": {\"center-r.6\": {\"directed\": true}}}, \"animation\": {\"duration\": 0}}}",
        "{\"type\": \"update\", \"queue\": \"default\", \"data\": {\"attributes\": {\"edges\": {\"r.1-r.6\": {\"visible\": true, \"source\": \"r.6\", \"target\": \"r.1\"}}}, \"animation\": {}}}",
        "{\"type\": \"update\", \"queue\": \"default\", \"data\": {\"attributes\": {\"edges\": {\"r.1-r.6\": {\"length\": 120}}}, \"animation\": {\"duration\": 0}}}",
        "{\"type\": \"update\", \"queue\": \"default\", \"data\": {\"attributes\": {\"nodes\": {\"r.1\": {\"color\": \"red\"}}}, \"animation\": {}}}",
        "{\"type\": \"update\", \"queue\": \"default\", \"data\": {\"attributes\": {\"nodes\": {\"r.2\": {\"color\": \"blue\"}}}, \"animation\": {}}}",
        "{\"type\": \"update\", \"queue\": \"default\", \"data\": {\"attributes\": {\"nodes\": {\"r.3\": {\"color\": \"green\"}}}, \"animation\": {}}}",
        "{\"type\": \"update\", \"queue\": \"default\", \"data\": {\"attributes\": {\"nodes\": {\"r.4\": {\"color\": \"orange\"}}}, \"animation\": {}}}",
        "{\"type\": \"update\", \"queue\": \"default\", \"data\": {\"attributes\": {\"nodes\": {\"r.5\": {\"color\": \"green\"}}}, \"animation\": {}}}",
        "{\"type\": \"update\", \"queue\": \"default\", \"data\": {\"attributes\": {\"nodes\": {\"r.6\": {\"color\": \"blue\"}}}, \"animation\": {}}}",
        "{\"type\": \"update\", \"queue\": \"default\", \"data\": {\"attributes\": {\"edges\": {\"r.6-r.6-1\": {\"visible\": true, \"source\": \"r.6\", \"target\": \"r.6\"}, \"r.6-r.6-2\": {\"visible\": true, \"source\": \"r.6\", \"target\": \"r.6\"}}}, \"animation\": {}}}",
        "{\"type\": \"update\", \"queue\": \"default\", \"data\": {\"attributes\": {\"nodes\": {\"D3\": {\"visible\": true}}}, \"animation\": {}}}",
        "{\"type\": \"update\", \"queue\": \"default\", \"data\": {\"attributes\": {\"nodes\": {\"D3\": {\"size\": 40}}}, \"animation\": {\"duration\": 0}}}",
        "{\"type\": \"update\", \"queue\": \"default\", \"data\": {\"attributes\": {\"nodes\": {\"D3\": {\"labels\": {\"value\": {\"text\": \"Rendered\\nwith D3\"}}}}}, \"animation\": {\"duration\": 0}}}",
        "{\"type\": \"update\", \"queue\": \"default\", \"data\": {\"attributes\": {\"edges\": {\"D3-r.1-1\": {\"visible\": true, \"source\": \"r.1\", \"target\": \"D3\"}, \"D3-r.1-2\": {\"visible\": true, \"source\": \"r.1\", \"target\": \"D3\"}, \"D3-r.1-3\": {\"visible\": true, \"source\": \"r.1\", \"target\": \"D3\"}, \"D3-r.1-4\": {\"visible\": true, \"source\": \"r.1\", \"target\": \"D3\"}, \"D3-r.1-5\": {\"visible\": true, \"source\": \"r.1\", \"target\": \"D3\"}}}, \"animation\": {}}}",
        "{\"type\": \"update\", \"queue\": \"default\", \"data\": {\"attributes\": {\"edges\": {\"D3-r.1-1\": {\"length\": 100}, \"D3-r.1-2\": {\"length\": 100}, \"D3-r.1-3\": {\"length\": 100}, \"D3-r.1-4\": {\"length\": 100}, \"D3-r.1-5\": {\"length\": 100}}}, \"animation\": {\"duration\": 0}}}",
        "{\"type\": \"update\", \"queue\": \"default\", \"data\": {\"attributes\": {\"nodes\": {\"cola\": {\"visible\": true}}}, \"animation\": {}}}",
        "{\"type\": \"update\", \"queue\": \"default\", \"data\": {\"attributes\": {\"nodes\": {\"cola\": {\"shape\": \"rect\"}}}, \"animation\": {\"duration\": 0}}}",
        "{\"type\": \"update\", \"queue\": \"default\", \"data\": {\"attributes\": {\"nodes\": {\"cola\": {\"size\": [40, 25]}}}, \"animation\": {\"duration\": 0}}}",
        "{\"type\": \"update\", \"queue\": \"default\", \"data\": {\"attributes\": {\"nodes\": {\"cola\": {\"labels\": {\"value\": {\"text\": \"Layout by\\nWebCola\"}}}}}, \"animation\": {\"duration\": 0}}}",
        "{\"type\": \"update\", \"queue\": \"default\", \"data\": {\"attributes\": {\"edges\": {\"cola-r.4\": {\"visible\": true, \"source\": \"r.4\", \"target\": \"cola\"}}}, \"animation\": {}}}",
        "{\"type\": \"update\", \"queue\": \"default\", \"data\": {\"attributes\": {\"edges\": {\"cola-r.4\": {\"path\": [[-5, 10], [5, -10]]}}}, \"animation\": {\"duration\": 0}}}",
        "{\"type\": \"update\", \"queue\": \"default\", \"data\": {\"attributes\": {\"edges\": {\"cola-r.4\": {\"length\": 100}}}, \"animation\": {\"duration\": 0}}}",
        "{\"type\": \"update\", \"queue\": \"default\", \"data\": {\"attributes\": {\"edges\": {\"cola-r.4\": {\"flip\": false}}}, \"animation\": {\"duration\": 0}}}",
        "{\"type\": \"update\", \"queue\": \"default\", \"data\": {\"attributes\": {\"nodes\": {\"clock\": {\"visible\": true}}}, \"animation\": {}}}",
        "{\"type\": \"update\", \"queue\": \"default\", \"data\": {\"attributes\": {\"nodes\": {\"clock\": {\"size\": 25}}}, \"animation\": {\"duration\": 0}}}",
        "{\"type\": \"update\", \"queue\": \"default\", \"data\": {\"attributes\": {\"nodes\": {\"clock\": {\"labels\": {\"value\": {\"text\": \"\\ud83d\\udd53\"}}}}}, \"animation\": {\"duration\": 0}}}",
        "{\"type\": \"update\", \"queue\": \"default\", \"data\": {\"attributes\": {\"nodes\": {\"clock\": {\"labels\": {\"value\": {\"size\": 18}}}}}, \"animation\": {\"duration\": 0}}}",
        "{\"type\": \"update\", \"queue\": \"default\", \"data\": {\"attributes\": {\"nodes\": {\"clock\": {\"labels\": {\"value\": {\"pos\": [0, -3]}}}}}, \"animation\": {\"duration\": 0}}}",
        "{\"type\": \"update\", \"queue\": \"default\", \"data\": {\"attributes\": {\"nodes\": {\"clock\": {\"labels\": {\"1\": {\"visible\": true}}}}}, \"animation\": {}}}",
        "{\"type\": \"update\", \"queue\": \"default\", \"data\": {\"attributes\": {\"nodes\": {\"clock\": {\"labels\": {\"1\": {\"radius\": \"r+5\"}}}}}, \"animation\": {\"duration\": 0}}}",
        "{\"type\": \"update\", \"queue\": \"default\", \"data\": {\"attributes\": {\"nodes\": {\"clock\": {\"labels\": {\"1\": {\"angle\": 60}}}}}, \"animation\": {\"duration\": 0}}}",
        "{\"type\": \"update\", \"queue\": \"default\", \"data\": {\"attributes\": {\"nodes\": {\"clock\": {\"labels\": {\"1\": {\"size\": 11}}}}}, \"animation\": {\"duration\": 0}}}",
        "{\"type\": \"update\", \"queue\": \"default\", \"data\": {\"attributes\": {\"nodes\": {\"clock\": {\"labels\": {\"1\": {\"rotate\": true}}}}}, \"animation\": {\"duration\": 0}}}",
        "{\"type\": \"update\", \"queue\": \"default\", \"data\": {\"attributes\": {\"nodes\": {\"clock\": {\"labels\": {\"2\": {\"visible\": true}}}}}, \"animation\": {}}}",
        "{\"type\": \"update\", \"queue\": \"default\", \"data\": {\"attributes\": {\"nodes\": {\"clock\": {\"labels\": {\"2\": {\"radius\": \"r+5\"}}}}}, \"animation\": {\"duration\": 0}}}",
        "{\"type\": \"update\", \"queue\": \"default\", \"data\": {\"attributes\": {\"nodes\": {\"clock\": {\"labels\": {\"2\": {\"angle\": 30}}}}}, \"animation\": {\"duration\": 0}}}",
        "{\"type\": \"update\", \"queue\": \"default\", \"data\": {\"attributes\": {\"nodes\": {\"clock\": {\"labels\": {\"2\": {\"size\": 11}}}}}, \"animation\": {\"duration\": 0}}}",
        "{\"type\": \"update\", \"queue\": \"default\", \"data\": {\"attributes\": {\"nodes\": {\"clock\": {\"labels\": {\"2\": {\"rotate\": true}}}}}, \"animation\": {\"duration\": 0}}}",
        "{\"type\": \"update\", \"queue\": \"default\", \"data\": {\"attributes\": {\"nodes\": {\"clock\": {\"labels\": {\"3\": {\"visible\": true}}}}}, \"animation\": {}}}",
        "{\"type\": \"update\", \"queue\": \"default\", \"data\": {\"attributes\": {\"nodes\": {\"clock\": {\"labels\": {\"3\": {\"radius\": \"r+5\"}}}}}, \"animation\": {\"duration\": 0}}}",
        "{\"type\": \"update\", \"queue\": \"default\", \"data\": {\"attributes\": {\"nodes\": {\"clock\": {\"labels\": {\"3\": {\"angle\": 0}}}}}, \"animation\": {\"duration\": 0}}}",
        "{\"type\": \"update\", \"queue\": \"default\", \"data\": {\"attributes\": {\"nodes\": {\"clock\": {\"labels\": {\"3\": {\"size\": 11}}}}}, \"animation\": {\"duration\": 0}}}",
        "{\"type\": \"update\", \"queue\": \"default\", \"data\": {\"attributes\": {\"nodes\": {\"clock\": {\"labels\": {\"3\": {\"rotate\": true}}}}}, \"animation\": {\"duration\": 0}}}",
        "{\"type\": \"update\", \"queue\": \"default\", \"data\": {\"attributes\": {\"nodes\": {\"clock\": {\"labels\": {\"4\": {\"visible\": true}}}}}, \"animation\": {}}}",
        "{\"type\": \"update\", \"queue\": \"default\", \"data\": {\"attributes\": {\"nodes\": {\"clock\": {\"labels\": {\"4\": {\"radius\": \"r+5\"}}}}}, \"animation\": {\"duration\": 0}}}",
        "{\"type\": \"update\", \"queue\": \"default\", \"data\": {\"attributes\": {\"nodes\": {\"clock\": {\"labels\": {\"4\": {\"angle\": -30}}}}}, \"animation\": {\"duration\": 0}}}",
        "{\"type\": \"update\", \"queue\": \"default\", \"data\": {\"attributes\": {\"nodes\": {\"clock\": {\"labels\": {\"4\": {\"size\": 11}}}}}, \"animation\": {\"duration\": 0}}}",
        "{\"type\": \"update\", \"queue\": \"default\", \"data\": {\"attributes\": {\"nodes\": {\"clock\": {\"labels\": {\"4\": {\"rotate\": true}}}}}, \"animation\": {\"duration\": 0}}}",
        "{\"type\": \"update\", \"queue\": \"default\", \"data\": {\"attributes\": {\"nodes\": {\"clock\": {\"labels\": {\"5\": {\"visible\": true}}}}}, \"animation\": {}}}",
        "{\"type\": \"update\", \"queue\": \"default\", \"data\": {\"attributes\": {\"nodes\": {\"clock\": {\"labels\": {\"5\": {\"radius\": \"r+5\"}}}}}, \"animation\": {\"duration\": 0}}}",
        "{\"type\": \"update\", \"queue\": \"default\", \"data\": {\"attributes\": {\"nodes\": {\"clock\": {\"labels\": {\"5\": {\"angle\": -60}}}}}, \"animation\": {\"duration\": 0}}}",
        "{\"type\": \"update\", \"queue\": \"default\", \"data\": {\"attributes\": {\"nodes\": {\"clock\": {\"labels\": {\"5\": {\"size\": 11}}}}}, \"animation\": {\"duration\": 0}}}",
        "{\"type\": \"update\", \"queue\": \"default\", \"data\": {\"attributes\": {\"nodes\": {\"clock\": {\"labels\": {\"5\": {\"rotate\": true}}}}}, \"animation\": {\"duration\": 0}}}",
        "{\"type\": \"update\", \"queue\": \"default\", \"data\": {\"attributes\": {\"nodes\": {\"clock\": {\"labels\": {\"6\": {\"visible\": true}}}}}, \"animation\": {}}}",
        "{\"type\": \"update\", \"queue\": \"default\", \"data\": {\"attributes\": {\"nodes\": {\"clock\": {\"labels\": {\"6\": {\"radius\": \"r+5\"}}}}}, \"animation\": {\"duration\": 0}}}",
        "{\"type\": \"update\", \"queue\": \"default\", \"data\": {\"attributes\": {\"nodes\": {\"clock\": {\"labels\": {\"6\": {\"angle\": -90}}}}}, \"animation\": {\"duration\": 0}}}",
        "{\"type\": \"update\", \"queue\": \"default\", \"data\": {\"attributes\": {\"nodes\": {\"clock\": {\"labels\": {\"6\": {\"size\": 11}}}}}, \"animation\": {\"duration\": 0}}}",
        "{\"type\": \"update\", \"queue\": \"default\", \"data\": {\"attributes\": {\"nodes\": {\"clock\": {\"labels\": {\"6\": {\"rotate\": true}}}}}, \"animation\": {\"duration\": 0}}}",
        "{\"type\": \"update\", \"queue\": \"default\", \"data\": {\"attributes\": {\"nodes\": {\"clock\": {\"labels\": {\"7\": {\"visible\": true}}}}}, \"animation\": {}}}",
        "{\"type\": \"update\", \"queue\": \"default\", \"data\": {\"attributes\": {\"nodes\": {\"clock\": {\"labels\": {\"7\": {\"radius\": \"r+5\"}}}}}, \"animation\": {\"duration\": 0}}}",
        "{\"type\": \"update\", \"queue\": \"default\", \"data\": {\"attributes\": {\"nodes\": {\"clock\": {\"labels\": {\"7\": {\"angle\": -120}}}}}, \"animation\": {\"duration\": 0}}}",
        "{\"type\": \"update\", \"queue\": \"default\", \"data\": {\"attributes\": {\"nodes\": {\"clock\": {\"labels\": {\"7\": {\"size\": 11}}}}}, \"animation\": {\"duration\": 0}}}",
        "{\"type\": \"update\", \"queue\": \"default\", \"data\": {\"attributes\": {\"nodes\": {\"clock\": {\"labels\": {\"7\": {\"rotate\": true}}}}}, \"animation\": {\"duration\": 0}}}",
        "{\"type\": \"update\", \"queue\": \"default\", \"data\": {\"attributes\": {\"nodes\": {\"clock\": {\"labels\": {\"8\": {\"visible\": true}}}}}, \"animation\": {}}}",
        "{\"type\": \"update\", \"queue\": \"default\", \"data\": {\"attributes\": {\"nodes\": {\"clock\": {\"labels\": {\"8\": {\"radius\": \"r+5\"}}}}}, \"animation\": {\"duration\": 0}}}",
        "{\"type\": \"update\", \"queue\": \"default\", \"data\": {\"attributes\": {\"nodes\": {\"clock\": {\"labels\": {\"8\": {\"angle\": -150}}}}}, \"animation\": {\"duration\": 0}}}",
        "{\"type\": \"update\", \"queue\": \"default\", \"data\": {\"attributes\": {\"nodes\": {\"clock\": {\"labels\": {\"8\": {\"size\": 11}}}}}, \"animation\": {\"duration\": 0}}}",
        "{\"type\": \"update\", \"queue\": \"default\", \"data\": {\"attributes\": {\"nodes\": {\"clock\": {\"labels\": {\"8\": {\"rotate\": true}}}}}, \"animation\": {\"duration\": 0}}}",
        "{\"type\": \"update\", \"queue\": \"default\", \"data\": {\"attributes\": {\"nodes\": {\"clock\": {\"labels\": {\"9\": {\"visible\": true}}}}}, \"animation\": {}}}",
        "{\"type\": \"update\", \"queue\": \"default\", \"data\": {\"attributes\": {\"nodes\": {\"clock\": {\"labels\": {\"9\": {\"radius\": \"r+5\"}}}}}, \"animation\": {\"duration\": 0}}}",
        "{\"type\": \"update\", \"queue\": \"default\", \"data\": {\"attributes\": {\"nodes\": {\"clock\": {\"labels\": {\"9\": {\"angle\": -180}}}}}, \"animation\": {\"duration\": 0}}}",
        "{\"type\": \"update\", \"queue\": \"default\", \"data\": {\"attributes\": {\"nodes\": {\"clock\": {\"labels\": {\"9\": {\"size\": 11}}}}}, \"animation\": {\"duration\": 0}}}",
        "{\"type\": \"update\", \"queue\": \"default\", \"data\": {\"attributes\": {\"nodes\": {\"clock\": {\"labels\": {\"9\": {\"rotate\": true}}}}}, \"animation\": {\"duration\": 0}}}",
        "{\"type\": \"update\", \"queue\": \"default\", \"data\": {\"attributes\": {\"nodes\": {\"clock\": {\"labels\": {\"10\": {\"visible\": true}}}}}, \"animation\": {}}}",
        "{\"type\": \"update\", \"queue\": \"default\", \"data\": {\"attributes\": {\"nodes\": {\"clock\": {\"labels\": {\"10\": {\"radius\": \"r+5\"}}}}}, \"animation\": {\"duration\": 0}}}",
        "{\"type\": \"update\", \"queue\": \"default\", \"data\": {\"attributes\": {\"nodes\": {\"clock\": {\"labels\": {\"10\": {\"angle\": -210}}}}}, \"animation\": {\"duration\": 0}}}",
        "{\"type\": \"update\", \"queue\": \"default\", \"data\": {\"attributes\": {\"nodes\": {\"clock\": {\"labels\": {\"10\": {\"size\": 11}}}}}, \"animation\": {\"duration\": 0}}}",
        "{\"type\": \"update\", \"queue\": \"default\", \"data\": {\"attributes\": {\"nodes\": {\"clock\": {\"labels\": {\"10\": {\"rotate\": true}}}}}, \"animation\": {\"duration\": 0}}}",
        "{\"type\": \"update\", \"queue\": \"default\", \"data\": {\"attributes\": {\"nodes\": {\"clock\": {\"labels\": {\"11\": {\"visible\": true}}}}}, \"animation\": {}}}",
        "{\"type\": \"update\", \"queue\": \"default\", \"data\": {\"attributes\": {\"nodes\": {\"clock\": {\"labels\": {\"11\": {\"radius\": \"r+5\"}}}}}, \"animation\": {\"duration\": 0}}}",
        "{\"type\": \"update\", \"queue\": \"default\", \"data\": {\"attributes\": {\"nodes\": {\"clock\": {\"labels\": {\"11\": {\"angle\": -240}}}}}, \"animation\": {\"duration\": 0}}}",
        "{\"type\": \"update\", \"queue\": \"default\", \"data\": {\"attributes\": {\"nodes\": {\"clock\": {\"labels\": {\"11\": {\"size\": 11}}}}}, \"animation\": {\"duration\": 0}}}",
        "{\"type\": \"update\", \"queue\": \"default\", \"data\": {\"attributes\": {\"nodes\": {\"clock\": {\"labels\": {\"11\": {\"rotate\": true}}}}}, \"animation\": {\"duration\": 0}}}",
        "{\"type\": \"update\", \"queue\": \"default\", \"data\": {\"attributes\": {\"nodes\": {\"clock\": {\"labels\": {\"12\": {\"visible\": true}}}}}, \"animation\": {}}}",
        "{\"type\": \"update\", \"queue\": \"default\", \"data\": {\"attributes\": {\"nodes\": {\"clock\": {\"labels\": {\"12\": {\"radius\": \"r+5\"}}}}}, \"animation\": {\"duration\": 0}}}",
        "{\"type\": \"update\", \"queue\": \"default\", \"data\": {\"attributes\": {\"nodes\": {\"clock\": {\"labels\": {\"12\": {\"angle\": -270}}}}}, \"animation\": {\"duration\": 0}}}",
        "{\"type\": \"update\", \"queue\": \"default\", \"data\": {\"attributes\": {\"nodes\": {\"clock\": {\"labels\": {\"12\": {\"size\": 11}}}}}, \"animation\": {\"duration\": 0}}}",
        "{\"type\": \"update\", \"queue\": \"default\", \"data\": {\"attributes\": {\"nodes\": {\"clock\": {\"labels\": {\"12\": {\"rotate\": true}}}}}, \"animation\": {\"duration\": 0}}}",
        "{\"type\": \"update\", \"queue\": \"default\", \"data\": {\"attributes\": {\"edges\": {\"clock-r.2\": {\"visible\": true, \"source\": \"r.2\", \"target\": \"clock\"}}}, \"animation\": {}}}",
        "{\"type\": \"update\", \"queue\": \"default\", \"data\": {\"attributes\": {\"nodes\": {\"g.1\": {\"visible\": true}, \"g.2\": {\"visible\": true}, \"g.3\": {\"visible\": true}, \"g.4\": {\"visible\": true}, \"g.5\": {\"visible\": true}, \"g.6\": {\"visible\": true}, \"g.8\": {\"visible\": true}, \"g.9\": {\"visible\": true}}}, \"animation\": {}}}",
        "{\"type\": \"update\", \"queue\": \"default\", \"data\": {\"attributes\": {\"nodes\": {\"g.1\": {\"pos\": [-50, -50]}, \"g.2\": {\"pos\": [-50, -50]}, \"g.3\": {\"pos\": [-50, -50]}, \"g.4\": {\"pos\": [-50, -50]}, \"g.5\": {\"pos\": [-50, -50]}, \"g.6\": {\"pos\": [-50, -50]}, \"g.8\": {\"pos\": [-50, -50]}, \"g.9\": {\"pos\": [-50, -50]}}}, \"animation\": {\"duration\": 0}}}",
        "{\"type\": \"update\", \"queue\": \"default\", \"data\": {\"attributes\": {\"nodes\": {\"g.1\": {\"labels\": {\"value\": null}}, \"g.2\": {\"labels\": {\"value\": null}}, \"g.3\": {\"labels\": {\"value\": null}}, \"g.4\": {\"labels\": {\"value\": null}}, \"g.5\": {\"labels\": {\"value\": null}}, \"g.6\": {\"labels\": {\"value\": null}}, \"g.8\": {\"labels\": {\"value\": null}}, \"g.9\": {\"labels\": {\"value\": null}}}}, \"animation\": {\"duration\": 0}}}",
        "{\"type\": \"update\", \"queue\": \"default\", \"data\": {\"attributes\": {\"edges\": {\"g.1-r.5\": {\"visible\": true, \"source\": \"g.1\", \"target\": \"r.5\"}}}, \"animation\": {}}}",
        "{\"type\": \"update\", \"queue\": \"default\", \"data\": {\"attributes\": {\"edges\": {\"g.2-r.4\": {\"visible\": true, \"source\": \"g.2\", \"target\": \"r.4\"}}}, \"animation\": {}}}",
        "{\"type\": \"update\", \"queue\": \"default\", \"data\": {\"attributes\": {\"edges\": {\"g.1-g.2\": {\"visible\": true, \"source\": \"g.1\", \"target\": \"g.2\"}, \"g.1-g.3\": {\"visible\": true, \"source\": \"g.1\", \"target\": \"g.3\"}, \"g.2-g.3\": {\"visible\": true, \"source\": \"g.3\", \"target\": \"g.2\"}, \"g.3-g.4\": {\"visible\": true, \"source\": \"g.3\", \"target\": \"g.4\"}, \"g.2-g.4\": {\"visible\": true, \"source\": \"g.4\", \"target\": \"g.2\"}, \"g.3-g.5\": {\"visible\": true, \"source\": \"g.5\", \"target\": \"g.3\"}, \"g.5-g.6\": {\"visible\": true, \"source\": \"g.6\", \"target\": \"g.5\"}, \"g.4-g.5\": {\"visible\": true, \"source\": \"g.5\", \"target\": \"g.4\"}, \"g.4-g.6\": {\"visible\": true, \"source\": \"g.6\", \"target\": \"g.4\"}, \"g.8-g.9\": {\"visible\": true, \"source\": \"g.8\", \"target\": \"g.9\"}, \"g.1-g.9\": {\"visible\": true, \"source\": \"g.9\", \"target\": \"g.1\"}, \"g.3-g.8\": {\"visible\": true, \"source\": \"g.3\", \"target\": \"g.8\"}, \"g.3-g.9\": {\"visible\": true, \"source\": \"g.3\", \"target\": \"g.9\"}}}, \"animation\": {}}}",
        "{\"type\": \"update\", \"queue\": \"default\", \"data\": {\"attributes\": {\"edges\": {\"g.1-g.2\": {\"labels\": {\"weight\": {\"visible\": true}}}, \"g.1-g.3\": {\"labels\": {\"weight\": {\"visible\": true}}}, \"g.2-g.3\": {\"labels\": {\"weight\": {\"visible\": true}}}, \"g.3-g.4\": {\"labels\": {\"weight\": {\"visible\": true}}}, \"g.2-g.4\": {\"labels\": {\"weight\": {\"visible\": true}}}, \"g.3-g.5\": {\"labels\": {\"weight\": {\"visible\": true}}}, \"g.5-g.6\": {\"labels\": {\"weight\": {\"visible\": true}}}, \"g.4-g.5\": {\"labels\": {\"weight\": {\"visible\": true}}}, \"g.4-g.6\": {\"labels\": {\"weight\": {\"visible\": true}}}, \"g.8-g.9\": {\"labels\": {\"weight\": {\"visible\": true}}}, \"g.1-g.9\": {\"labels\": {\"weight\": {\"visible\": true}}}, \"g.3-g.8\": {\"labels\": {\"weight\": {\"visible\": true}}}, \"g.3-g.9\": {\"labels\": {\"weight\": {\"visible\": true}}}}}, \"animation\": {\"duration\": 0}}}",
        "{\"type\": \"update\", \"queue\": \"default\", \"data\": {\"attributes\": {\"edges\": {\"g.1-g.2\": {\"labels\": {\"weight\": {\"text\": 5}}}, \"g.1-g.3\": {\"labels\": {\"weight\": {\"text\": 7}}}, \"g.2-g.3\": {\"labels\": {\"weight\": {\"text\": 10}}}, \"g.3-g.4\": {\"labels\": {\"weight\": {\"text\": 20}}}, \"g.2-g.4\": {\"labels\": {\"weight\": {\"text\": 11}}}, \"g.3-g.5\": {\"labels\": {\"weight\": {\"text\": 20}}}, \"g.5-g.6\": {\"labels\": {\"weight\": {\"text\": 16}}}, \"g.4-g.5\": {\"labels\": {\"weight\": {\"text\": 8}}}, \"g.4-g.6\": {\"labels\": {\"weight\": {\"text\": 12}}}, \"g.8-g.9\": {\"labels\": {\"weight\": {\"text\": 14}}}, \"g.1-g.9\": {\"labels\": {\"weight\": {\"text\": 19}}}, \"g.3-g.8\": {\"labels\": {\"weight\": {\"text\": 8}}}, \"g.3-g.9\": {\"labels\": {\"weight\": {\"text\": 16}}}}}, \"animation\": {\"duration\": 0}}}",
        "{\"type\": \"update\", \"queue\": \"default\", \"data\": {\"attributes\": {\"nodes\": {\"colorful\": {\"visible\": true}}}, \"animation\": {}}}",
        "{\"type\": \"update\", \"queue\": \"default\", \"data\": {\"attributes\": {\"nodes\": {\"colorful\": {\"shape\": \"rect\"}}}, \"animation\": {\"duration\": 0}}}",
        "{\"type\": \"update\", \"queue\": \"default\", \"data\": {\"attributes\": {\"nodes\": {\"colorful\": {\"size\": [30, 30]}}}, \"animation\": {\"duration\": 0}}}",
        "{\"type\": \"update\", \"queue\": \"default\", \"data\": {\"attributes\": {\"nodes\": {\"colorful\": {\"labels\": {\"value\": null}}}}, \"animation\": {\"duration\": 0}}}",
        "{\"type\": \"update\", \"queue\": \"default\", \"data\": {\"attributes\": {\"nodes\": {\"colorful\": {\"labels\": {\"green\": {\"visible\": true}}}}}, \"animation\": {\"duration\": 0}}}",
        "{\"type\": \"update\", \"queue\": \"default\", \"data\": {\"attributes\": {\"nodes\": {\"colorful\": {\"labels\": {\"green\": {\"radius\": 0}}}}}, \"animation\": {\"duration\": 0}}}",
        "{\"type\": \"update\", \"queue\": \"default\", \"data\": {\"attributes\": {\"nodes\": {\"colorful\": {\"labels\": {\"green\": {\"align\": \"middle\"}}}}}, \"animation\": {\"duration\": 0}}}",
        "{\"type\": \"update\", \"queue\": \"default\", \"data\": {\"attributes\": {\"nodes\": {\"colorful\": {\"labels\": {\"green\": {\"pos\": [0, \"0.5y\"]}}}}}, \"animation\": {\"duration\": 0}}}",
        "{\"type\": \"update\", \"queue\": \"default\", \"data\": {\"attributes\": {\"nodes\": {\"colorful\": {\"labels\": {\"green\": {\"text\": \"green\"}}}}}, \"animation\": {\"duration\": 0}}}",
        "{\"type\": \"update\", \"queue\": \"default\", \"data\": {\"attributes\": {\"nodes\": {\"colorful\": {\"labels\": {\"green\": {\"color\": \"green\"}}}}}, \"animation\": {\"duration\": 0}}}",
        "{\"type\": \"update\", \"queue\": \"default\", \"data\": {\"attributes\": {\"nodes\": {\"colorful\": {\"labels\": {\"yellow\": {\"visible\": true}}}}}, \"animation\": {\"duration\": 0}}}",
        "{\"type\": \"update\", \"queue\": \"default\", \"data\": {\"attributes\": {\"nodes\": {\"colorful\": {\"labels\": {\"yellow\": {\"radius\": 0}}}}}, \"animation\": {\"duration\": 0}}}",
        "{\"type\": \"update\", \"queue\": \"default\", \"data\": {\"attributes\": {\"nodes\": {\"colorful\": {\"labels\": {\"yellow\": {\"align\": \"middle\"}}}}}, \"animation\": {\"duration\": 0}}}",
        "{\"type\": \"update\", \"queue\": \"default\", \"data\": {\"attributes\": {\"nodes\": {\"colorful\": {\"labels\": {\"yellow\": {\"pos\": [0, 0]}}}}}, \"animation\": {\"duration\": 0}}}",
        "{\"type\": \"update\", \"queue\": \"default\", \"data\": {\"attributes\": {\"nodes\": {\"colorful\": {\"labels\": {\"yellow\": {\"text\": \"yellow\"}}}}}, \"animation\": {\"duration\": 0}}}",
        "{\"type\": \"update\", \"queue\": \"default\", \"data\": {\"attributes\": {\"nodes\": {\"colorful\": {\"labels\": {\"yellow\": {\"color\": \"yellow\"}}}}}, \"animation\": {\"duration\": 0}}}",
        "{\"type\": \"update\", \"queue\": \"default\", \"data\": {\"attributes\": {\"nodes\": {\"colorful\": {\"labels\": {\"pink\": {\"visible\": true}}}}}, \"animation\": {\"duration\": 0}}}",
        "{\"type\": \"update\", \"queue\": \"default\", \"data\": {\"attributes\": {\"nodes\": {\"colorful\": {\"labels\": {\"pink\": {\"radius\": 0}}}}}, \"animation\": {\"duration\": 0}}}",
        "{\"type\": \"update\", \"queue\": \"default\", \"data\": {\"attributes\": {\"nodes\": {\"colorful\": {\"labels\": {\"pink\": {\"align\": \"middle\"}}}}}, \"animation\": {\"duration\": 0}}}",
        "{\"type\": \"update\", \"queue\": \"default\", \"data\": {\"attributes\": {\"nodes\": {\"colorful\": {\"labels\": {\"pink\": {\"pos\": [0, \"-0.5y\"]}}}}}, \"animation\": {\"duration\": 0}}}",
        "{\"type\": \"update\", \"queue\": \"default\", \"data\": {\"attributes\": {\"nodes\": {\"colorful\": {\"labels\": {\"pink\": {\"text\": \"pink\"}}}}}, \"animation\": {\"duration\": 0}}}",
        "{\"type\": \"update\", \"queue\": \"default\", \"data\": {\"attributes\": {\"nodes\": {\"colorful\": {\"labels\": {\"pink\": {\"color\": \"pink\"}}}}}, \"animation\": {\"duration\": 0}}}",
        "{\"type\": \"update\", \"queue\": \"default\", \"data\": {\"attributes\": {\"nodes\": {\"colorful\": {\"labels\": {\"top-\\nleft\": {\"visible\": true}}}}}, \"animation\": {\"duration\": 0}}}",
        "{\"type\": \"update\", \"queue\": \"default\", \"data\": {\"attributes\": {\"nodes\": {\"colorful\": {\"labels\": {\"top-\\nleft\": {\"angle\": 135}}}}}, \"animation\": {\"duration\": 0}}}",
        "{\"type\": \"update\", \"queue\": \"default\", \"data\": {\"attributes\": {\"nodes\": {\"colorful\": {\"labels\": {\"top-\\nleft\": {\"rotate\": true}}}}}, \"animation\": {\"duration\": 0}}}",
        "{\"type\": \"update\", \"queue\": \"default\", \"data\": {\"attributes\": {\"nodes\": {\"colorful\": {\"labels\": {\"top-\\nleft\": {\"radius\": \"r+6\"}}}}}, \"animation\": {\"duration\": 0}}}",
        "{\"type\": \"update\", \"queue\": \"default\", \"data\": {\"attributes\": {\"nodes\": {\"colorful\": {\"labels\": {\"top-\\nright\": {\"visible\": true}}}}}, \"animation\": {\"duration\": 0}}}",
        "{\"type\": \"update\", \"queue\": \"default\", \"data\": {\"attributes\": {\"nodes\": {\"colorful\": {\"labels\": {\"top-\\nright\": {\"angle\": 45}}}}}, \"animation\": {\"duration\": 0}}}",
        "{\"type\": \"update\", \"queue\": \"default\", \"data\": {\"attributes\": {\"nodes\": {\"colorful\": {\"labels\": {\"top-\\nright\": {\"rotate\": true}}}}}, \"animation\": {\"duration\": 0}}}",
        "{\"type\": \"update\", \"queue\": \"default\", \"data\": {\"attributes\": {\"nodes\": {\"colorful\": {\"labels\": {\"top-\\nright\": {\"radius\": \"r+6\"}}}}}, \"animation\": {\"duration\": 0}}}",
        "{\"type\": \"update\", \"queue\": \"default\", \"data\": {\"attributes\": {\"nodes\": {\"colorful\": {\"labels\": {\"bottom-\\nright\": {\"visible\": true}}}}}, \"animation\": {\"duration\": 0}}}",
        "{\"type\": \"update\", \"queue\": \"default\", \"data\": {\"attributes\": {\"nodes\": {\"colorful\": {\"labels\": {\"bottom-\\nright\": {\"angle\": -45}}}}}, \"animation\": {\"duration\": 0}}}",
        "{\"type\": \"update\", \"queue\": \"default\", \"data\": {\"attributes\": {\"nodes\": {\"colorful\": {\"labels\": {\"bottom-\\nright\": {\"rotate\": true}}}}}, \"animation\": {\"duration\": 0}}}",
        "{\"type\": \"update\", \"queue\": \"default\", \"data\": {\"attributes\": {\"nodes\": {\"colorful\": {\"labels\": {\"bottom-\\nleft\": {\"visible\": true}}}}}, \"animation\": {\"duration\": 0}}}",
        "{\"type\": \"update\", \"queue\": \"default\", \"data\": {\"attributes\": {\"nodes\": {\"colorful\": {\"labels\": {\"bottom-\\nleft\": {\"angle\": 225}}}}}, \"animation\": {\"duration\": 0}}}",
        "{\"type\": \"update\", \"queue\": \"default\", \"data\": {\"attributes\": {\"nodes\": {\"colorful\": {\"labels\": {\"bottom-\\nleft\": {\"rotate\": true}}}}}, \"animation\": {\"duration\": 0}}}",
        "{\"type\": \"update\", \"queue\": \"default\", \"data\": {\"attributes\": {\"edges\": {\"colorful-r.3\": {\"visible\": true, \"source\": \"r.3\", \"target\": \"colorful\"}}}, \"animation\": {}}}",
        "{\"type\": \"update\", \"queue\": \"default\", \"data\": {\"attributes\": {\"edges\": {\"colorful-r.3\": {\"color\": \"green\"}}}, \"animation\": {\"duration\": 0}}}"
       ],
       "_model_module_version": "^1.0.0",
       "_show_buttons": true,
       "_view_module_version": "^1.0.0",
       "_view_name": "CanvasView",
       "layout": "IPY_MODEL_62fb8a63087a443dae94bd62f5a77254"
      }
     },
     "33fda43f170c4854b7e831b6b886bf09": {
      "model_module": "@jupyter-widgets/controls",
      "model_module_version": "1.4.0",
      "model_name": "ButtonModel",
      "state": {
       "description": "Replay",
       "layout": "IPY_MODEL_9f7936b2387b4c9eb6522a15bfc262af",
       "style": "IPY_MODEL_04a8f66248794cdeb27806157196e31f"
      }
     },
     "358c8fd063984da0b00fa36143dfe7ed": {
      "model_module": "algorithmx-jupyter",
      "model_module_version": "^1.0.0",
      "model_name": "CanvasModel",
      "state": {
       "_dispatch_events": [
        "{\"type\": \"update\", \"queue\": \"default\", \"data\": {\"attributes\": {\"nodes\": {\"1\": {\"visible\": true}, \"2\": {\"visible\": true}}}, \"animation\": {}}}",
        "{\"type\": \"update\", \"queue\": \"default\", \"data\": {\"attributes\": {\"edges\": {\"1-2\": {\"visible\": true, \"source\": \"1\", \"target\": \"2\"}}}, \"animation\": {}}}"
       ],
       "_model_module_version": "^1.0.0",
       "_view_module_version": "^1.0.0",
       "_view_name": "CanvasView",
       "layout": "IPY_MODEL_548fbc896ee0403199d95640ceadef10"
      }
     },
     "358ce936e9d74755bf53e53a66db68a7": {
      "model_module": "algorithmx-jupyter",
      "model_module_version": "^1.0.0",
      "model_name": "CanvasModel",
      "state": {
       "_dispatch_events": [
        "{\"type\": \"cancel\", \"queue\": \"None\", \"data\": {\"queues\": null}}",
        "{\"type\": \"update\", \"queue\": \"default\", \"data\": {\"attributes\": null, \"animation\": {}}}",
        "{\"type\": \"update\", \"queue\": \"default\", \"data\": {\"attributes\": {\"size\": [200, 200]}, \"animation\": {\"duration\": 0}}}",
        "{\"type\": \"update\", \"queue\": \"default\", \"data\": {\"attributes\": {\"nodes\": {\"1\": {\"visible\": true}, \"2\": {\"visible\": true}}}, \"animation\": {}}}",
        "{\"type\": \"update\", \"queue\": \"default\", \"data\": {\"attributes\": {\"edges\": {\"1-2\": {\"visible\": true, \"source\": \"1\", \"target\": \"2\"}}}, \"animation\": {}}}",
        "{\"type\": \"pause\", \"queue\": \"default\", \"data\": {\"duration\": 0.5}}",
        "{\"type\": \"highlight\", \"queue\": \"default\", \"data\": {\"attributes\": {\"nodes\": {\"1\": {\"size\": \"1.5x\"}}}, \"animation\": {}}}",
        "{\"type\": \"pause\", \"queue\": \"default\", \"data\": {\"duration\": 0.5}}",
        "{\"type\": \"update\", \"queue\": \"default\", \"data\": {\"attributes\": {\"edges\": {\"1-2\": {\"color\": \"blue\"}}}, \"animation\": {\"type\": \"traverse\"}}}"
       ],
       "_model_module_version": "^1.0.0",
       "_view_module_version": "^1.0.0",
       "_view_name": "CanvasView",
       "layout": "IPY_MODEL_8ec1694f7fc544e486a0206f0f1b35cc"
      }
     },
     "36627abbfa574212b60ae32c2c01dabd": {
      "model_module": "algorithmx-jupyter",
      "model_module_version": "^1.0.0",
      "model_name": "CanvasModel",
      "state": {
       "_dispatch_events": [
        "{\"type\": \"update\", \"queue\": \"default\", \"data\": {\"attributes\": {\"size\": [300, 200]}, \"animation\": {}}}",
        "{\"type\": \"update\", \"queue\": \"default\", \"data\": {\"attributes\": {\"nodes\": {\"1\": {\"visible\": true}, \"2\": {\"visible\": true}}}, \"animation\": {}}}",
        "{\"type\": \"update\", \"queue\": \"default\", \"data\": {\"attributes\": {\"edges\": {\"1-2\": {\"visible\": true, \"source\": \"1\", \"target\": \"2\"}}}, \"animation\": {}}}"
       ],
       "_model_module_version": "^1.0.0",
       "_show_buttons": false,
       "_view_module_version": "^1.0.0",
       "_view_name": "CanvasView",
       "layout": "IPY_MODEL_ae8b06d6f1784e9eaeec8833218428a6"
      }
     },
     "370dbba6edf2424a9406daacdccc532f": {
      "model_module": "@jupyter-widgets/base",
      "model_module_version": "1.1.0",
      "model_name": "LayoutModel",
      "state": {}
     },
     "394b5119ea7444439fad647ba2c3f4cf": {
      "model_module": "@jupyter-widgets/base",
      "model_module_version": "1.1.0",
      "model_name": "LayoutModel",
      "state": {}
     },
     "39e67c49d08f40f8bfa03f3bafb1b691": {
      "model_module": "@jupyter-widgets/base",
      "model_module_version": "1.1.0",
      "model_name": "LayoutModel",
      "state": {}
     },
     "3a43f2efe73d40b18ac04821b64634db": {
      "model_module": "@jupyter-widgets/base",
      "model_module_version": "1.1.0",
      "model_name": "LayoutModel",
      "state": {}
     },
     "3cca710cf4d943d1a7c7dce8049db512": {
      "model_module": "@jupyter-widgets/base",
      "model_module_version": "1.1.0",
      "model_name": "LayoutModel",
      "state": {}
     },
     "3e76d8fce13245b8824db3e3270958c3": {
      "model_module": "algorithmx-jupyter",
      "model_module_version": "^1.0.0",
      "model_name": "CanvasModel",
      "state": {
       "_dispatch_events": [
        "{\"type\": \"update\", \"queue\": \"default\", \"data\": {\"attributes\": {\"nodes\": {\"1\": {\"visible\": true}, \"2\": {\"visible\": true}, \"3\": {\"visible\": true}, \"4\": {\"visible\": true}, \"5\": {\"visible\": true}, \"6\": {\"visible\": true}, \"7\": {\"visible\": true}}}, \"animation\": {}}}",
        "{\"type\": \"update\", \"queue\": \"default\", \"data\": {\"attributes\": {\"edges\": {\"1-2\": {\"visible\": true, \"source\": \"1\", \"target\": \"2\"}, \"2-3\": {\"visible\": true, \"source\": \"2\", \"target\": \"3\"}, \"3-4\": {\"visible\": true, \"source\": \"3\", \"target\": \"4\"}, \"4-5\": {\"visible\": true, \"source\": \"4\", \"target\": \"5\"}, \"5-6\": {\"visible\": true, \"source\": \"5\", \"target\": \"6\"}, \"6-7\": {\"visible\": true, \"source\": \"6\", \"target\": \"7\"}, \"1-3\": {\"visible\": true, \"source\": \"1\", \"target\": \"3\"}, \"2-4\": {\"visible\": true, \"source\": \"2\", \"target\": \"4\"}, \"2-7\": {\"visible\": true, \"source\": \"2\", \"target\": \"7\"}}}, \"animation\": {}}}",
        "{\"type\": \"pause\", \"queue\": \"default\", \"data\": {\"duration\": 0.5}}",
        "{\"type\": \"update\", \"queue\": \"default\", \"data\": {\"attributes\": {\"nodes\": {\"1\": {\"color\": \"green\"}}}, \"animation\": {}}}",
        "{\"type\": \"highlight\", \"queue\": \"default\", \"data\": {\"attributes\": {\"nodes\": {\"1\": {\"size\": \"1.2x\"}}}, \"animation\": {\"linger\": 0.7}}}",
        "{\"type\": \"pause\", \"queue\": \"default\", \"data\": {\"duration\": 0.5}}",
        "{\"type\": \"update\", \"queue\": \"default\", \"data\": {\"attributes\": {\"edges\": {\"1-2\": {\"color\": \"green\"}}}, \"animation\": {\"type\": \"traverse\"}}}",
        "{\"type\": \"pause\", \"queue\": \"default\", \"data\": {\"duration\": 0.5}}",
        "{\"type\": \"update\", \"queue\": \"default\", \"data\": {\"attributes\": {\"nodes\": {\"2\": {\"color\": \"green\"}}}, \"animation\": {}}}",
        "{\"type\": \"highlight\", \"queue\": \"default\", \"data\": {\"attributes\": {\"nodes\": {\"2\": {\"size\": \"1.2x\"}}}, \"animation\": {\"linger\": 0.7}}}",
        "{\"type\": \"pause\", \"queue\": \"default\", \"data\": {\"duration\": 0.5}}",
        "{\"type\": \"update\", \"queue\": \"default\", \"data\": {\"attributes\": {\"edges\": {\"2-3\": {\"color\": \"green\"}}}, \"animation\": {\"type\": \"traverse\"}}}",
        "{\"type\": \"pause\", \"queue\": \"default\", \"data\": {\"duration\": 0.5}}",
        "{\"type\": \"update\", \"queue\": \"default\", \"data\": {\"attributes\": {\"nodes\": {\"3\": {\"color\": \"green\"}}}, \"animation\": {}}}",
        "{\"type\": \"highlight\", \"queue\": \"default\", \"data\": {\"attributes\": {\"nodes\": {\"3\": {\"size\": \"1.2x\"}}}, \"animation\": {\"linger\": 0.7}}}",
        "{\"type\": \"pause\", \"queue\": \"default\", \"data\": {\"duration\": 0.5}}",
        "{\"type\": \"update\", \"queue\": \"default\", \"data\": {\"attributes\": {\"edges\": {\"3-4\": {\"color\": \"green\"}}}, \"animation\": {\"type\": \"traverse\"}}}",
        "{\"type\": \"pause\", \"queue\": \"default\", \"data\": {\"duration\": 0.5}}",
        "{\"type\": \"update\", \"queue\": \"default\", \"data\": {\"attributes\": {\"nodes\": {\"4\": {\"color\": \"green\"}}}, \"animation\": {}}}",
        "{\"type\": \"highlight\", \"queue\": \"default\", \"data\": {\"attributes\": {\"nodes\": {\"4\": {\"size\": \"1.2x\"}}}, \"animation\": {\"linger\": 0.7}}}",
        "{\"type\": \"pause\", \"queue\": \"default\", \"data\": {\"duration\": 0.5}}",
        "{\"type\": \"update\", \"queue\": \"default\", \"data\": {\"attributes\": {\"edges\": {\"4-5\": {\"color\": \"green\"}}}, \"animation\": {\"type\": \"traverse\"}}}",
        "{\"type\": \"pause\", \"queue\": \"default\", \"data\": {\"duration\": 0.5}}",
        "{\"type\": \"update\", \"queue\": \"default\", \"data\": {\"attributes\": {\"nodes\": {\"5\": {\"color\": \"green\"}}}, \"animation\": {}}}",
        "{\"type\": \"highlight\", \"queue\": \"default\", \"data\": {\"attributes\": {\"nodes\": {\"5\": {\"size\": \"1.2x\"}}}, \"animation\": {\"linger\": 0.7}}}",
        "{\"type\": \"pause\", \"queue\": \"default\", \"data\": {\"duration\": 0.5}}",
        "{\"type\": \"update\", \"queue\": \"default\", \"data\": {\"attributes\": {\"edges\": {\"5-6\": {\"color\": \"green\"}}}, \"animation\": {\"type\": \"traverse\"}}}",
        "{\"type\": \"pause\", \"queue\": \"default\", \"data\": {\"duration\": 0.5}}",
        "{\"type\": \"update\", \"queue\": \"default\", \"data\": {\"attributes\": {\"nodes\": {\"6\": {\"color\": \"green\"}}}, \"animation\": {}}}",
        "{\"type\": \"highlight\", \"queue\": \"default\", \"data\": {\"attributes\": {\"nodes\": {\"6\": {\"size\": \"1.2x\"}}}, \"animation\": {\"linger\": 0.7}}}",
        "{\"type\": \"pause\", \"queue\": \"default\", \"data\": {\"duration\": 0.5}}",
        "{\"type\": \"update\", \"queue\": \"default\", \"data\": {\"attributes\": {\"edges\": {\"6-7\": {\"color\": \"green\"}}}, \"animation\": {\"type\": \"traverse\"}}}",
        "{\"type\": \"pause\", \"queue\": \"default\", \"data\": {\"duration\": 0.5}}",
        "{\"type\": \"update\", \"queue\": \"default\", \"data\": {\"attributes\": {\"nodes\": {\"7\": {\"color\": \"green\"}}}, \"animation\": {}}}",
        "{\"type\": \"highlight\", \"queue\": \"default\", \"data\": {\"attributes\": {\"nodes\": {\"7\": {\"size\": \"1.2x\"}}}, \"animation\": {\"linger\": 0.7}}}",
        "{\"type\": \"pause\", \"queue\": \"default\", \"data\": {\"duration\": 0.5}}",
        "{\"type\": \"update\", \"queue\": \"default\", \"data\": {\"attributes\": {\"edges\": {\"7-8\": {\"color\": \"green\"}}}, \"animation\": {\"type\": \"traverse\"}}}"
       ],
       "_model_module_version": "^1.0.0",
       "_show_buttons": true,
       "_view_module_version": "^1.0.0",
       "_view_name": "CanvasView",
       "layout": "IPY_MODEL_5ce841391f7242a9924db068fd85a2df"
      }
     },
     "3f4a8891beb94530809c490a1483f674": {
      "model_module": "algorithmx-jupyter",
      "model_module_version": "^1.0.0",
      "model_name": "CanvasModel",
      "state": {
       "_dispatch_events": [
        "{\"type\": \"update\", \"queue\": \"default\", \"data\": {\"attributes\": {\"size\": [300, 200]}, \"animation\": {}}}",
        "{\"type\": \"update\", \"queue\": \"default\", \"data\": {\"attributes\": {\"nodes\": {\"1\": {\"visible\": true}, \"2\": {\"visible\": true}}}, \"animation\": {}}}",
        "{\"type\": \"update\", \"queue\": \"default\", \"data\": {\"attributes\": {\"edges\": {\"1-2\": {\"visible\": true, \"source\": \"1\", \"target\": \"2\"}}}, \"animation\": {}}}"
       ],
       "_model_module_version": "^1.0.0",
       "_show_buttons": false,
       "_view_module_version": "^1.0.0",
       "_view_name": "CanvasView",
       "layout": "IPY_MODEL_03c66f866b864aceb9ccba568ec50502"
      }
     },
     "438e3c0210d1483485f3c858d83fa3e3": {
      "model_module": "algorithmx-jupyter",
      "model_module_version": "^1.0.0",
      "model_name": "CanvasModel",
      "state": {
       "_dispatch_events": [
        "{\"type\": \"update\", \"queue\": \"default\", \"data\": {\"attributes\": {\"svgattr\": {\"width\": \"100%\"}}, \"animation\": {}}}",
        "{\"type\": \"update\", \"queue\": \"default\", \"data\": {\"attributes\": {\"nodes\": {\"1\": {\"visible\": true}, \"2\": {\"visible\": true}}}, \"animation\": {}}}",
        "{\"type\": \"update\", \"queue\": \"default\", \"data\": {\"attributes\": {\"edges\": {\"1-2\": {\"visible\": true, \"source\": \"1\", \"target\": \"2\"}}}, \"animation\": {}}}"
       ],
       "_model_module_version": "^1.0.0",
       "_show_buttons": false,
       "_view_module_version": "^1.0.0",
       "_view_name": "CanvasView",
       "layout": "IPY_MODEL_d66bb4fbb8e2414282847e89bf13b9bb"
      }
     },
     "44be99cde8f74282afe454ace14f346f": {
      "model_module": "@jupyter-widgets/controls",
      "model_module_version": "1.4.0",
      "model_name": "ButtonStyleModel",
      "state": {}
     },
     "455760061d7b4a7285e3ec569c82404e": {
      "model_module": "@jupyter-widgets/base",
      "model_module_version": "1.1.0",
      "model_name": "LayoutModel",
      "state": {}
     },
     "482add57690544bda79d482cc51f2c87": {
      "model_module": "@jupyter-widgets/base",
      "model_module_version": "1.1.0",
      "model_name": "LayoutModel",
      "state": {}
     },
     "48ba9066ace542bf822e8632f6634394": {
      "model_module": "algorithmx-jupyter",
      "model_module_version": "^1.0.0",
      "model_name": "CanvasModel",
      "state": {
       "_dispatch_events": [
        "{\"type\": \"update\", \"queue\": \"default\", \"data\": {\"attributes\": {\"zoomlimit\": [1, 1]}, \"animation\": {}}}",
        "{\"type\": \"update\", \"queue\": \"default\", \"data\": {\"attributes\": {\"nodes\": {\"1\": {\"visible\": true}, \"2\": {\"visible\": true}, \"3\": {\"visible\": true}, \"4\": {\"visible\": true}, \"5\": {\"visible\": true}, \"6\": {\"visible\": true}, \"7\": {\"visible\": true}}}, \"animation\": {}}}",
        "{\"type\": \"update\", \"queue\": \"default\", \"data\": {\"attributes\": {\"edges\": {\"1-2\": {\"visible\": true, \"source\": \"1\", \"target\": \"2\"}, \"2-3\": {\"visible\": true, \"source\": \"2\", \"target\": \"3\"}, \"3-4\": {\"visible\": true, \"source\": \"3\", \"target\": \"4\"}, \"4-5\": {\"visible\": true, \"source\": \"4\", \"target\": \"5\"}, \"5-6\": {\"visible\": true, \"source\": \"5\", \"target\": \"6\"}, \"6-7\": {\"visible\": true, \"source\": \"6\", \"target\": \"7\"}, \"1-3\": {\"visible\": true, \"source\": \"1\", \"target\": \"3\"}, \"2-4\": {\"visible\": true, \"source\": \"2\", \"target\": \"4\"}, \"2-7\": {\"visible\": true, \"source\": \"2\", \"target\": \"7\"}}}, \"animation\": {}}}",
        "{\"type\": \"pause\", \"queue\": \"default\", \"data\": {\"duration\": 0.5}}",
        "{\"type\": \"update\", \"queue\": \"default\", \"data\": {\"attributes\": {\"nodes\": {\"1\": {\"color\": \"green\"}}}, \"animation\": {}}}",
        "{\"type\": \"highlight\", \"queue\": \"default\", \"data\": {\"attributes\": {\"nodes\": {\"1\": {\"size\": \"1.2x\"}}}, \"animation\": {\"linger\": 0.7}}}",
        "{\"type\": \"pause\", \"queue\": \"default\", \"data\": {\"duration\": 0.5}}",
        "{\"type\": \"update\", \"queue\": \"default\", \"data\": {\"attributes\": {\"edges\": {\"1-2\": {\"color\": \"green\"}}}, \"animation\": {\"type\": \"traverse\"}}}",
        "{\"type\": \"pause\", \"queue\": \"default\", \"data\": {\"duration\": 0.5}}",
        "{\"type\": \"update\", \"queue\": \"default\", \"data\": {\"attributes\": {\"nodes\": {\"2\": {\"color\": \"green\"}}}, \"animation\": {}}}",
        "{\"type\": \"highlight\", \"queue\": \"default\", \"data\": {\"attributes\": {\"nodes\": {\"2\": {\"size\": \"1.2x\"}}}, \"animation\": {\"linger\": 0.7}}}",
        "{\"type\": \"pause\", \"queue\": \"default\", \"data\": {\"duration\": 0.5}}",
        "{\"type\": \"update\", \"queue\": \"default\", \"data\": {\"attributes\": {\"edges\": {\"2-3\": {\"color\": \"green\"}}}, \"animation\": {\"type\": \"traverse\"}}}",
        "{\"type\": \"pause\", \"queue\": \"default\", \"data\": {\"duration\": 0.5}}",
        "{\"type\": \"update\", \"queue\": \"default\", \"data\": {\"attributes\": {\"nodes\": {\"3\": {\"color\": \"green\"}}}, \"animation\": {}}}",
        "{\"type\": \"highlight\", \"queue\": \"default\", \"data\": {\"attributes\": {\"nodes\": {\"3\": {\"size\": \"1.2x\"}}}, \"animation\": {\"linger\": 0.7}}}",
        "{\"type\": \"pause\", \"queue\": \"default\", \"data\": {\"duration\": 0.5}}",
        "{\"type\": \"update\", \"queue\": \"default\", \"data\": {\"attributes\": {\"edges\": {\"3-4\": {\"color\": \"green\"}}}, \"animation\": {\"type\": \"traverse\"}}}",
        "{\"type\": \"pause\", \"queue\": \"default\", \"data\": {\"duration\": 0.5}}",
        "{\"type\": \"update\", \"queue\": \"default\", \"data\": {\"attributes\": {\"nodes\": {\"4\": {\"color\": \"green\"}}}, \"animation\": {}}}",
        "{\"type\": \"highlight\", \"queue\": \"default\", \"data\": {\"attributes\": {\"nodes\": {\"4\": {\"size\": \"1.2x\"}}}, \"animation\": {\"linger\": 0.7}}}",
        "{\"type\": \"pause\", \"queue\": \"default\", \"data\": {\"duration\": 0.5}}",
        "{\"type\": \"update\", \"queue\": \"default\", \"data\": {\"attributes\": {\"edges\": {\"4-5\": {\"color\": \"green\"}}}, \"animation\": {\"type\": \"traverse\"}}}",
        "{\"type\": \"pause\", \"queue\": \"default\", \"data\": {\"duration\": 0.5}}",
        "{\"type\": \"update\", \"queue\": \"default\", \"data\": {\"attributes\": {\"nodes\": {\"5\": {\"color\": \"green\"}}}, \"animation\": {}}}",
        "{\"type\": \"highlight\", \"queue\": \"default\", \"data\": {\"attributes\": {\"nodes\": {\"5\": {\"size\": \"1.2x\"}}}, \"animation\": {\"linger\": 0.7}}}",
        "{\"type\": \"pause\", \"queue\": \"default\", \"data\": {\"duration\": 0.5}}",
        "{\"type\": \"update\", \"queue\": \"default\", \"data\": {\"attributes\": {\"edges\": {\"5-6\": {\"color\": \"green\"}}}, \"animation\": {\"type\": \"traverse\"}}}",
        "{\"type\": \"pause\", \"queue\": \"default\", \"data\": {\"duration\": 0.5}}",
        "{\"type\": \"update\", \"queue\": \"default\", \"data\": {\"attributes\": {\"nodes\": {\"6\": {\"color\": \"green\"}}}, \"animation\": {}}}",
        "{\"type\": \"highlight\", \"queue\": \"default\", \"data\": {\"attributes\": {\"nodes\": {\"6\": {\"size\": \"1.2x\"}}}, \"animation\": {\"linger\": 0.7}}}",
        "{\"type\": \"pause\", \"queue\": \"default\", \"data\": {\"duration\": 0.5}}",
        "{\"type\": \"update\", \"queue\": \"default\", \"data\": {\"attributes\": {\"edges\": {\"6-7\": {\"color\": \"green\"}}}, \"animation\": {\"type\": \"traverse\"}}}",
        "{\"type\": \"pause\", \"queue\": \"default\", \"data\": {\"duration\": 0.5}}",
        "{\"type\": \"update\", \"queue\": \"default\", \"data\": {\"attributes\": {\"nodes\": {\"7\": {\"color\": \"green\"}}}, \"animation\": {}}}",
        "{\"type\": \"highlight\", \"queue\": \"default\", \"data\": {\"attributes\": {\"nodes\": {\"7\": {\"size\": \"1.2x\"}}}, \"animation\": {\"linger\": 0.7}}}",
        "{\"type\": \"pause\", \"queue\": \"default\", \"data\": {\"duration\": 0.5}}",
        "{\"type\": \"update\", \"queue\": \"default\", \"data\": {\"attributes\": {\"edges\": {\"7-8\": {\"color\": \"green\"}}}, \"animation\": {\"type\": \"traverse\"}}}"
       ],
       "_model_module_version": "^1.0.0",
       "_show_buttons": true,
       "_view_module_version": "^1.0.0",
       "_view_name": "CanvasView",
       "layout": "IPY_MODEL_5f693d9e4641426abb0593e4b450f0f1"
      }
     },
     "49a34a386f8a450eb444a9c0d6a55942": {
      "model_module": "algorithmx-jupyter",
      "model_module_version": "^1.0.0",
      "model_name": "CanvasModel",
      "state": {
       "_dispatch_events": [
        "{\"type\": \"cancel\", \"queue\": \"None\", \"data\": {\"queues\": null}}",
        "{\"type\": \"update\", \"queue\": \"default\", \"data\": {\"attributes\": null, \"animation\": {}}}",
        "{\"type\": \"update\", \"queue\": \"default\", \"data\": {\"attributes\": {\"size\": [200, 200]}, \"animation\": {\"duration\": 0}}}",
        "{\"type\": \"update\", \"queue\": \"default\", \"data\": {\"attributes\": {\"nodes\": {\"1\": {\"visible\": true}, \"2\": {\"visible\": true}}}, \"animation\": {}}}",
        "{\"type\": \"update\", \"queue\": \"default\", \"data\": {\"attributes\": {\"edges\": {\"1-2\": {\"visible\": true, \"source\": \"1\", \"target\": \"2\"}}}, \"animation\": {}}}",
        "{\"type\": \"pause\", \"queue\": \"default\", \"data\": {\"duration\": 0.5}}",
        "{\"type\": \"highlight\", \"queue\": \"default\", \"data\": {\"attributes\": {\"nodes\": {\"1\": {\"size\": \"1.5x\"}}}, \"animation\": {}}}",
        "{\"type\": \"pause\", \"queue\": \"default\", \"data\": {\"duration\": 0.5}}",
        "{\"type\": \"update\", \"queue\": \"default\", \"data\": {\"attributes\": {\"edges\": {\"1-2\": {\"color\": \"blue\"}}}, \"animation\": {\"type\": \"traverse\"}}}"
       ],
       "_model_module_version": "^1.0.0",
       "_view_module_version": "^1.0.0",
       "_view_name": "CanvasView",
       "layout": "IPY_MODEL_b73218112fe748f89d88145a81f828e0"
      }
     },
     "4ff6c4e3d24f428b9dcd118490c93223": {
      "model_module": "@jupyter-widgets/base",
      "model_module_version": "1.1.0",
      "model_name": "LayoutModel",
      "state": {}
     },
     "5035c28765d54ddab60a0839c5ecad64": {
      "model_module": "algorithmx-jupyter",
      "model_module_version": "^1.0.0",
      "model_name": "CanvasModel",
      "state": {
       "_dispatch_events": [
        "{\"type\": \"cancel\", \"queue\": \"None\", \"data\": {\"queues\": null}}",
        "{\"type\": \"update\", \"queue\": \"default\", \"data\": {\"attributes\": null, \"animation\": {}}}",
        "{\"type\": \"update\", \"queue\": \"default\", \"data\": {\"attributes\": {\"size\": [200, 200]}, \"animation\": {\"duration\": 0}}}",
        "{\"type\": \"update\", \"queue\": \"default\", \"data\": {\"attributes\": {\"nodes\": {\"1\": {\"visible\": true}, \"2\": {\"visible\": true}}}, \"animation\": {}}}",
        "{\"type\": \"update\", \"queue\": \"default\", \"data\": {\"attributes\": {\"edges\": {\"1-2\": {\"visible\": true, \"source\": \"1\", \"target\": \"2\"}}}, \"animation\": {}}}",
        "{\"type\": \"pause\", \"queue\": \"default\", \"data\": {\"duration\": 0.5}}",
        "{\"type\": \"highlight\", \"queue\": \"default\", \"data\": {\"attributes\": {\"nodes\": {\"1\": {\"size\": \"1.5x\"}}}, \"animation\": {}}}",
        "{\"type\": \"pause\", \"queue\": \"default\", \"data\": {\"duration\": 0.5}}",
        "{\"type\": \"update\", \"queue\": \"default\", \"data\": {\"attributes\": {\"edges\": {\"1-2\": {\"color\": \"blue\"}}}, \"animation\": {\"type\": \"traverse\"}}}"
       ],
       "_model_module_version": "^1.0.0",
       "_view_module_version": "^1.0.0",
       "_view_name": "CanvasView",
       "layout": "IPY_MODEL_d3b1753b03c441f5acd562e24981bad5"
      }
     },
     "503f884a01e945d19ab27bf32ae9cd5d": {
      "model_module": "@jupyter-widgets/base",
      "model_module_version": "1.1.0",
      "model_name": "LayoutModel",
      "state": {}
     },
     "51f181eaefcd4f148414f114b0862c8d": {
      "model_module": "@jupyter-widgets/base",
      "model_module_version": "1.1.0",
      "model_name": "LayoutModel",
      "state": {}
     },
     "5277e740e3bb4765af9a9a5dae8136af": {
      "model_module": "algorithmx-jupyter",
      "model_module_version": "latest",
      "model_name": "CanvasModel",
      "state": {
       "_dispatch_events": [
        "{\"type\": \"update\", \"queue\": \"default\", \"data\": {\"attributes\": {\"nodes\": {\"1\": {\"visible\": true}, \"2\": {\"visible\": true}, \"3\": {\"visible\": true}, \"4\": {\"visible\": true}, \"5\": {\"visible\": true}, \"6\": {\"visible\": true}, \"7\": {\"visible\": true}}}, \"animation\": {}}}",
        "{\"type\": \"update\", \"queue\": \"default\", \"data\": {\"attributes\": {\"edges\": {\"1-2\": {\"visible\": true, \"source\": \"1\", \"target\": \"2\"}, \"2-3\": {\"visible\": true, \"source\": \"2\", \"target\": \"3\"}, \"3-4\": {\"visible\": true, \"source\": \"3\", \"target\": \"4\"}, \"4-5\": {\"visible\": true, \"source\": \"4\", \"target\": \"5\"}, \"5-6\": {\"visible\": true, \"source\": \"5\", \"target\": \"6\"}, \"6-7\": {\"visible\": true, \"source\": \"6\", \"target\": \"7\"}, \"1-3\": {\"visible\": true, \"source\": \"1\", \"target\": \"3\"}, \"2-4\": {\"visible\": true, \"source\": \"2\", \"target\": \"4\"}, \"2-7\": {\"visible\": true, \"source\": \"2\", \"target\": \"7\"}}}, \"animation\": {}}}",
        "{\"type\": \"pause\", \"queue\": \"default\", \"data\": {\"duration\": 0.5}}",
        "{\"type\": \"update\", \"queue\": \"default\", \"data\": {\"attributes\": {\"nodes\": {\"1\": {\"color\": \"green\"}}}, \"animation\": {}}}",
        "{\"type\": \"highlight\", \"queue\": \"default\", \"data\": {\"attributes\": {\"nodes\": {\"1\": {\"size\": \"1.25x\"}}}, \"animation\": {\"**\": {\"linger\": 0.7}}}}",
        "{\"type\": \"pause\", \"queue\": \"default\", \"data\": {\"duration\": 0.5}}",
        "{\"type\": \"update\", \"queue\": \"default\", \"data\": {\"attributes\": {\"edges\": {\"1-2\": {\"color\": \"green\"}}}, \"animation\": {\"**\": {\"type\": \"traverse\", \"data\": {}}}}}",
        "{\"type\": \"pause\", \"queue\": \"default\", \"data\": {\"duration\": 0.5}}",
        "{\"type\": \"update\", \"queue\": \"default\", \"data\": {\"attributes\": {\"nodes\": {\"2\": {\"color\": \"green\"}}}, \"animation\": {}}}",
        "{\"type\": \"highlight\", \"queue\": \"default\", \"data\": {\"attributes\": {\"nodes\": {\"2\": {\"size\": \"1.25x\"}}}, \"animation\": {\"**\": {\"linger\": 0.7}}}}",
        "{\"type\": \"pause\", \"queue\": \"default\", \"data\": {\"duration\": 0.5}}",
        "{\"type\": \"update\", \"queue\": \"default\", \"data\": {\"attributes\": {\"edges\": {\"2-3\": {\"color\": \"green\"}}}, \"animation\": {\"**\": {\"type\": \"traverse\", \"data\": {}}}}}",
        "{\"type\": \"pause\", \"queue\": \"default\", \"data\": {\"duration\": 0.5}}",
        "{\"type\": \"update\", \"queue\": \"default\", \"data\": {\"attributes\": {\"nodes\": {\"3\": {\"color\": \"green\"}}}, \"animation\": {}}}",
        "{\"type\": \"highlight\", \"queue\": \"default\", \"data\": {\"attributes\": {\"nodes\": {\"3\": {\"size\": \"1.25x\"}}}, \"animation\": {\"**\": {\"linger\": 0.7}}}}",
        "{\"type\": \"pause\", \"queue\": \"default\", \"data\": {\"duration\": 0.5}}",
        "{\"type\": \"update\", \"queue\": \"default\", \"data\": {\"attributes\": {\"edges\": {\"3-4\": {\"color\": \"green\"}}}, \"animation\": {\"**\": {\"type\": \"traverse\", \"data\": {}}}}}",
        "{\"type\": \"pause\", \"queue\": \"default\", \"data\": {\"duration\": 0.5}}",
        "{\"type\": \"update\", \"queue\": \"default\", \"data\": {\"attributes\": {\"nodes\": {\"4\": {\"color\": \"green\"}}}, \"animation\": {}}}",
        "{\"type\": \"highlight\", \"queue\": \"default\", \"data\": {\"attributes\": {\"nodes\": {\"4\": {\"size\": \"1.25x\"}}}, \"animation\": {\"**\": {\"linger\": 0.7}}}}",
        "{\"type\": \"pause\", \"queue\": \"default\", \"data\": {\"duration\": 0.5}}",
        "{\"type\": \"update\", \"queue\": \"default\", \"data\": {\"attributes\": {\"edges\": {\"4-5\": {\"color\": \"green\"}}}, \"animation\": {\"**\": {\"type\": \"traverse\", \"data\": {}}}}}",
        "{\"type\": \"pause\", \"queue\": \"default\", \"data\": {\"duration\": 0.5}}",
        "{\"type\": \"update\", \"queue\": \"default\", \"data\": {\"attributes\": {\"nodes\": {\"5\": {\"color\": \"green\"}}}, \"animation\": {}}}",
        "{\"type\": \"highlight\", \"queue\": \"default\", \"data\": {\"attributes\": {\"nodes\": {\"5\": {\"size\": \"1.25x\"}}}, \"animation\": {\"**\": {\"linger\": 0.7}}}}",
        "{\"type\": \"pause\", \"queue\": \"default\", \"data\": {\"duration\": 0.5}}",
        "{\"type\": \"update\", \"queue\": \"default\", \"data\": {\"attributes\": {\"edges\": {\"5-6\": {\"color\": \"green\"}}}, \"animation\": {\"**\": {\"type\": \"traverse\", \"data\": {}}}}}",
        "{\"type\": \"pause\", \"queue\": \"default\", \"data\": {\"duration\": 0.5}}",
        "{\"type\": \"update\", \"queue\": \"default\", \"data\": {\"attributes\": {\"nodes\": {\"6\": {\"color\": \"green\"}}}, \"animation\": {}}}",
        "{\"type\": \"highlight\", \"queue\": \"default\", \"data\": {\"attributes\": {\"nodes\": {\"6\": {\"size\": \"1.25x\"}}}, \"animation\": {\"**\": {\"linger\": 0.7}}}}",
        "{\"type\": \"pause\", \"queue\": \"default\", \"data\": {\"duration\": 0.5}}",
        "{\"type\": \"update\", \"queue\": \"default\", \"data\": {\"attributes\": {\"edges\": {\"6-7\": {\"color\": \"green\"}}}, \"animation\": {\"**\": {\"type\": \"traverse\", \"data\": {}}}}}",
        "{\"type\": \"pause\", \"queue\": \"default\", \"data\": {\"duration\": 0.5}}",
        "{\"type\": \"update\", \"queue\": \"default\", \"data\": {\"attributes\": {\"nodes\": {\"7\": {\"color\": \"green\"}}}, \"animation\": {}}}",
        "{\"type\": \"highlight\", \"queue\": \"default\", \"data\": {\"attributes\": {\"nodes\": {\"7\": {\"size\": \"1.25x\"}}}, \"animation\": {\"**\": {\"linger\": 0.7}}}}",
        "{\"type\": \"pause\", \"queue\": \"default\", \"data\": {\"duration\": 0.5}}",
        "{\"type\": \"update\", \"queue\": \"default\", \"data\": {\"attributes\": {\"edges\": {\"7-8\": {\"color\": \"green\"}}}, \"animation\": {\"**\": {\"type\": \"traverse\", \"data\": {}}}}}"
       ],
       "_model_module_version": "latest",
       "_show_buttons": true,
       "_view_module_version": "latest",
       "_view_name": "CanvasView",
       "layout": "IPY_MODEL_39e67c49d08f40f8bfa03f3bafb1b691"
      }
     },
     "548fbc896ee0403199d95640ceadef10": {
      "model_module": "@jupyter-widgets/base",
      "model_module_version": "1.1.0",
      "model_name": "LayoutModel",
      "state": {}
     },
     "54c162cd6a3c42a7bce7dcd7bf187471": {
      "model_module": "algorithmx-jupyter",
      "model_module_version": "^1.0.0",
      "model_name": "CanvasModel",
      "state": {
       "_dispatch_events": [
        "{\"type\": \"update\", \"queue\": \"default\", \"data\": {\"attributes\": {\"svgattr\": {\"style\": \"overflow: visible\"}}, \"animation\": {}}}",
        "{\"type\": \"update\", \"queue\": \"default\", \"data\": {\"attributes\": {\"nodes\": {\"1\": {\"visible\": true}, \"2\": {\"visible\": true}}}, \"animation\": {}}}",
        "{\"type\": \"update\", \"queue\": \"default\", \"data\": {\"attributes\": {\"edges\": {\"1-2\": {\"visible\": true, \"source\": \"1\", \"target\": \"2\"}}}, \"animation\": {}}}"
       ],
       "_model_module_version": "^1.0.0",
       "_show_buttons": false,
       "_view_module_version": "^1.0.0",
       "_view_name": "CanvasView",
       "layout": "IPY_MODEL_394b5119ea7444439fad647ba2c3f4cf"
      }
     },
     "554726cdb2c54844a05693d16a6f87bf": {
      "model_module": "@jupyter-widgets/base",
      "model_module_version": "1.1.0",
      "model_name": "LayoutModel",
      "state": {}
     },
     "557ab6e8ac314de697146d276f2b3df2": {
      "model_module": "@jupyter-widgets/base",
      "model_module_version": "1.1.0",
      "model_name": "LayoutModel",
      "state": {}
     },
     "55f42ae6c2644971b905aa91ea7dc477": {
      "model_module": "@jupyter-widgets/base",
      "model_module_version": "1.1.0",
      "model_name": "LayoutModel",
      "state": {}
     },
     "562ce79eca054cc49ac8f73d580168a1": {
      "model_module": "@jupyter-widgets/base",
      "model_module_version": "1.1.0",
      "model_name": "LayoutModel",
      "state": {}
     },
     "584338a6d37844b5909d04b21ab0f4a1": {
      "model_module": "@jupyter-widgets/controls",
      "model_module_version": "1.4.0",
      "model_name": "ButtonStyleModel",
      "state": {}
     },
     "586cfb14d10e43f5848dec5310ca5016": {
      "model_module": "algorithmx-jupyter",
      "model_module_version": "^1.0.0",
      "model_name": "CanvasModel",
      "state": {
       "_dispatch_events": [
        "{\"type\": \"update\", \"queue\": \"default\", \"data\": {\"attributes\": {\"size\": [300, 200]}, \"animation\": {}}}",
        "{\"type\": \"update\", \"queue\": \"default\", \"data\": {\"attributes\": {\"nodes\": {\"1\": {\"visible\": true}, \"2\": {\"visible\": true}}}, \"animation\": {}}}",
        "{\"type\": \"update\", \"queue\": \"default\", \"data\": {\"attributes\": {\"edges\": {\"1-2\": {\"visible\": true, \"source\": \"1\", \"target\": \"2\"}}}, \"animation\": {}}}"
       ],
       "_model_module_version": "^1.0.0",
       "_show_buttons": false,
       "_view_module_version": "^1.0.0",
       "_view_name": "CanvasView",
       "layout": "IPY_MODEL_65528b28193246b192cc2b213c65df47"
      }
     },
     "59fd1c76cbc742cf8a481341d2de33f2": {
      "model_module": "@jupyter-widgets/base",
      "model_module_version": "1.1.0",
      "model_name": "LayoutModel",
      "state": {}
     },
     "5a91ace74cf0436c8392aae14495f9cf": {
      "model_module": "@jupyter-widgets/base",
      "model_module_version": "1.1.0",
      "model_name": "LayoutModel",
      "state": {}
     },
     "5b3a9cc076d949cab797fc819e1bd422": {
      "model_module": "@jupyter-widgets/base",
      "model_module_version": "1.1.0",
      "model_name": "LayoutModel",
      "state": {}
     },
     "5b5776ba938c4efb935aef7d70e80036": {
      "model_module": "@jupyter-widgets/base",
      "model_module_version": "1.1.0",
      "model_name": "LayoutModel",
      "state": {}
     },
     "5ce841391f7242a9924db068fd85a2df": {
      "model_module": "@jupyter-widgets/base",
      "model_module_version": "1.1.0",
      "model_name": "LayoutModel",
      "state": {}
     },
     "5e58426b2a204f5e95c9d1c2c6997136": {
      "model_module": "@jupyter-widgets/base",
      "model_module_version": "1.1.0",
      "model_name": "LayoutModel",
      "state": {}
     },
     "5ea365df42b64276b9d88e6a533f1b53": {
      "model_module": "@jupyter-widgets/controls",
      "model_module_version": "1.4.0",
      "model_name": "ButtonModel",
      "state": {
       "description": "Replay",
       "layout": "IPY_MODEL_7891015953be4d7d9292c92af505f989",
       "style": "IPY_MODEL_94313bc9864e4d42834e71c74e5fc172"
      }
     },
     "5f693d9e4641426abb0593e4b450f0f1": {
      "model_module": "@jupyter-widgets/base",
      "model_module_version": "1.1.0",
      "model_name": "LayoutModel",
      "state": {}
     },
     "5fed893322344057a6af67d537207a3f": {
      "model_module": "algorithmx-jupyter",
      "model_module_version": "latest",
      "model_name": "CanvasModel",
      "state": {
       "_dispatch_events": [
        "{\"type\": \"update\", \"queue\": \"default\", \"data\": {\"attributes\": {\"size\": [300, 200]}, \"animation\": {}}}",
        "{\"type\": \"update\", \"queue\": \"default\", \"data\": {\"attributes\": {\"nodes\": {\"1\": {\"visible\": true}, \"2\": {\"visible\": true}}}, \"animation\": {}}}",
        "{\"type\": \"update\", \"queue\": \"default\", \"data\": {\"attributes\": {\"edges\": {\"1-2\": {\"visible\": true, \"source\": \"1\", \"target\": \"2\"}}}, \"animation\": {}}}",
        "{\"type\": \"pause\", \"queue\": \"default\", \"data\": {\"duration\": 0.5}}",
        "{\"type\": \"highlight\", \"queue\": \"default\", \"data\": {\"attributes\": {\"nodes\": {\"1\": {\"size\": \"1.5x\"}}}, \"animation\": {\"**\": {\"linger\": 1.0}}}}",
        "{\"type\": \"pause\", \"queue\": \"default\", \"data\": {\"duration\": 0.5}}",
        "{\"type\": \"update\", \"queue\": \"default\", \"data\": {\"attributes\": {\"edges\": {\"1-2\": {\"color\": \"blue\"}}}, \"animation\": {\"**\": {\"type\": \"traverse\", \"data\": {}}}}}"
       ],
       "_model_module_version": "latest",
       "_show_buttons": true,
       "_view_module_version": "latest",
       "_view_name": "CanvasView",
       "layout": "IPY_MODEL_753e820a3f054f25950c83a9edbdfac0"
      }
     },
     "60a3b48b82574b6baa80ea325ee03b33": {
      "model_module": "algorithmx-jupyter",
      "model_module_version": "^1.0.0",
      "model_name": "CanvasModel",
      "state": {
       "_dispatch_events": [
        "{\"type\": \"update\", \"queue\": \"default\", \"data\": {\"attributes\": {\"size\": [300, 200]}, \"animation\": {\"duration\": 0}}}",
        "{\"type\": \"update\", \"queue\": \"default\", \"data\": {\"attributes\": {\"nodes\": {\"1\": {\"visible\": true}, \"2\": {\"visible\": true}}}, \"animation\": {}}}",
        "{\"type\": \"update\", \"queue\": \"default\", \"data\": {\"attributes\": {\"edges\": {\"1-2\": {\"visible\": true, \"source\": \"1\", \"target\": \"2\"}}}, \"animation\": {}}}",
        "{\"type\": \"pause\", \"queue\": \"default\", \"data\": {\"duration\": 0.5}}",
        "{\"type\": \"highlight\", \"queue\": \"default\", \"data\": {\"attributes\": {\"nodes\": {\"1\": {\"size\": \"1.5x\"}}}, \"animation\": {\"linger\": 1.0}}}",
        "{\"type\": \"pause\", \"queue\": \"default\", \"data\": {\"duration\": 0.5}}",
        "{\"type\": \"update\", \"queue\": \"default\", \"data\": {\"attributes\": {\"edges\": {\"1-2\": {\"color\": \"blue\"}}}, \"animation\": {\"type\": \"traverse\"}}}"
       ],
       "_model_module_version": "^1.0.0",
       "_show_buttons": true,
       "_view_module_version": "^1.0.0",
       "_view_name": "CanvasView",
       "layout": "IPY_MODEL_27028bc4913346d8b36a69c2d92a922c"
      }
     },
     "61c975ec362c4770926570466057364e": {
      "model_module": "algorithmx-jupyter",
      "model_module_version": "^1.0.0",
      "model_name": "CanvasModel",
      "state": {
       "_dispatch_events": [
        "{\"type\": \"update\", \"queue\": \"default\", \"data\": {\"attributes\": {\"nodes\": {\"1\": {\"visible\": true}, \"2\": {\"visible\": true}, \"3\": {\"visible\": true}, \"4\": {\"visible\": true}, \"5\": {\"visible\": true}, \"6\": {\"visible\": true}, \"7\": {\"visible\": true}}}, \"animation\": {}}}",
        "{\"type\": \"update\", \"queue\": \"default\", \"data\": {\"attributes\": {\"edges\": {\"1-2\": {\"visible\": true, \"source\": \"1\", \"target\": \"2\"}, \"2-3\": {\"visible\": true, \"source\": \"2\", \"target\": \"3\"}, \"3-4\": {\"visible\": true, \"source\": \"3\", \"target\": \"4\"}, \"4-5\": {\"visible\": true, \"source\": \"4\", \"target\": \"5\"}, \"5-6\": {\"visible\": true, \"source\": \"5\", \"target\": \"6\"}, \"6-7\": {\"visible\": true, \"source\": \"6\", \"target\": \"7\"}, \"1-3\": {\"visible\": true, \"source\": \"1\", \"target\": \"3\"}, \"2-4\": {\"visible\": true, \"source\": \"2\", \"target\": \"4\"}, \"2-7\": {\"visible\": true, \"source\": \"2\", \"target\": \"7\"}}}, \"animation\": {}}}",
        "{\"type\": \"pause\", \"queue\": \"default\", \"data\": {\"duration\": 0.5}}",
        "{\"type\": \"update\", \"queue\": \"default\", \"data\": {\"attributes\": {\"nodes\": {\"1\": {\"color\": \"green\"}}}, \"animation\": {}}}",
        "{\"type\": \"highlight\", \"queue\": \"default\", \"data\": {\"attributes\": {\"nodes\": {\"1\": {\"size\": \"1.2x\"}}}, \"animation\": {\"linger\": 0.7}}}",
        "{\"type\": \"pause\", \"queue\": \"default\", \"data\": {\"duration\": 0.5}}",
        "{\"type\": \"update\", \"queue\": \"default\", \"data\": {\"attributes\": {\"edges\": {\"1-2\": {\"color\": \"green\"}}}, \"animation\": {\"type\": \"traverse\"}}}",
        "{\"type\": \"pause\", \"queue\": \"default\", \"data\": {\"duration\": 0.5}}",
        "{\"type\": \"update\", \"queue\": \"default\", \"data\": {\"attributes\": {\"nodes\": {\"2\": {\"color\": \"green\"}}}, \"animation\": {}}}",
        "{\"type\": \"highlight\", \"queue\": \"default\", \"data\": {\"attributes\": {\"nodes\": {\"2\": {\"size\": \"1.2x\"}}}, \"animation\": {\"linger\": 0.7}}}",
        "{\"type\": \"pause\", \"queue\": \"default\", \"data\": {\"duration\": 0.5}}",
        "{\"type\": \"update\", \"queue\": \"default\", \"data\": {\"attributes\": {\"edges\": {\"2-3\": {\"color\": \"green\"}}}, \"animation\": {\"type\": \"traverse\"}}}",
        "{\"type\": \"pause\", \"queue\": \"default\", \"data\": {\"duration\": 0.5}}",
        "{\"type\": \"update\", \"queue\": \"default\", \"data\": {\"attributes\": {\"nodes\": {\"3\": {\"color\": \"green\"}}}, \"animation\": {}}}",
        "{\"type\": \"highlight\", \"queue\": \"default\", \"data\": {\"attributes\": {\"nodes\": {\"3\": {\"size\": \"1.2x\"}}}, \"animation\": {\"linger\": 0.7}}}",
        "{\"type\": \"pause\", \"queue\": \"default\", \"data\": {\"duration\": 0.5}}",
        "{\"type\": \"update\", \"queue\": \"default\", \"data\": {\"attributes\": {\"edges\": {\"3-4\": {\"color\": \"green\"}}}, \"animation\": {\"type\": \"traverse\"}}}",
        "{\"type\": \"pause\", \"queue\": \"default\", \"data\": {\"duration\": 0.5}}",
        "{\"type\": \"update\", \"queue\": \"default\", \"data\": {\"attributes\": {\"nodes\": {\"4\": {\"color\": \"green\"}}}, \"animation\": {}}}",
        "{\"type\": \"highlight\", \"queue\": \"default\", \"data\": {\"attributes\": {\"nodes\": {\"4\": {\"size\": \"1.2x\"}}}, \"animation\": {\"linger\": 0.7}}}",
        "{\"type\": \"pause\", \"queue\": \"default\", \"data\": {\"duration\": 0.5}}",
        "{\"type\": \"update\", \"queue\": \"default\", \"data\": {\"attributes\": {\"edges\": {\"4-5\": {\"color\": \"green\"}}}, \"animation\": {\"type\": \"traverse\"}}}",
        "{\"type\": \"pause\", \"queue\": \"default\", \"data\": {\"duration\": 0.5}}",
        "{\"type\": \"update\", \"queue\": \"default\", \"data\": {\"attributes\": {\"nodes\": {\"5\": {\"color\": \"green\"}}}, \"animation\": {}}}",
        "{\"type\": \"highlight\", \"queue\": \"default\", \"data\": {\"attributes\": {\"nodes\": {\"5\": {\"size\": \"1.2x\"}}}, \"animation\": {\"linger\": 0.7}}}",
        "{\"type\": \"pause\", \"queue\": \"default\", \"data\": {\"duration\": 0.5}}",
        "{\"type\": \"update\", \"queue\": \"default\", \"data\": {\"attributes\": {\"edges\": {\"5-6\": {\"color\": \"green\"}}}, \"animation\": {\"type\": \"traverse\"}}}",
        "{\"type\": \"pause\", \"queue\": \"default\", \"data\": {\"duration\": 0.5}}",
        "{\"type\": \"update\", \"queue\": \"default\", \"data\": {\"attributes\": {\"nodes\": {\"6\": {\"color\": \"green\"}}}, \"animation\": {}}}",
        "{\"type\": \"highlight\", \"queue\": \"default\", \"data\": {\"attributes\": {\"nodes\": {\"6\": {\"size\": \"1.2x\"}}}, \"animation\": {\"linger\": 0.7}}}",
        "{\"type\": \"pause\", \"queue\": \"default\", \"data\": {\"duration\": 0.5}}",
        "{\"type\": \"update\", \"queue\": \"default\", \"data\": {\"attributes\": {\"edges\": {\"6-7\": {\"color\": \"green\"}}}, \"animation\": {\"type\": \"traverse\"}}}",
        "{\"type\": \"pause\", \"queue\": \"default\", \"data\": {\"duration\": 0.5}}",
        "{\"type\": \"update\", \"queue\": \"default\", \"data\": {\"attributes\": {\"nodes\": {\"7\": {\"color\": \"green\"}}}, \"animation\": {}}}",
        "{\"type\": \"highlight\", \"queue\": \"default\", \"data\": {\"attributes\": {\"nodes\": {\"7\": {\"size\": \"1.2x\"}}}, \"animation\": {\"linger\": 0.7}}}",
        "{\"type\": \"pause\", \"queue\": \"default\", \"data\": {\"duration\": 0.5}}",
        "{\"type\": \"update\", \"queue\": \"default\", \"data\": {\"attributes\": {\"edges\": {\"7-8\": {\"color\": \"green\"}}}, \"animation\": {\"type\": \"traverse\"}}}"
       ],
       "_model_module_version": "^1.0.0",
       "_show_buttons": true,
       "_view_module_version": "^1.0.0",
       "_view_name": "CanvasView",
       "layout": "IPY_MODEL_1c380d5b9eba476e937d6a0a03139d58"
      }
     },
     "627628b0b82642249790a7a246692f2c": {
      "model_module": "@jupyter-widgets/base",
      "model_module_version": "1.1.0",
      "model_name": "LayoutModel",
      "state": {}
     },
     "62fb8a63087a443dae94bd62f5a77254": {
      "model_module": "@jupyter-widgets/base",
      "model_module_version": "1.1.0",
      "model_name": "LayoutModel",
      "state": {}
     },
     "633f70b7820d4d40b3ffd1b4cafa06da": {
      "model_module": "algorithmx-jupyter",
      "model_module_version": "^1.0.0",
      "model_name": "CanvasModel",
      "state": {
       "_dispatch_events": [
        "{\"type\": \"update\", \"queue\": \"default\", \"data\": {\"attributes\": {\"size\": [200, 200]}, \"animation\": {\"duration\": 0}}}",
        "{\"type\": \"update\", \"queue\": \"default\", \"data\": {\"attributes\": {\"nodes\": {\"1\": {\"visible\": true}, \"2\": {\"visible\": true}}}, \"animation\": {}}}",
        "{\"type\": \"update\", \"queue\": \"default\", \"data\": {\"attributes\": {\"edges\": {\"1-2\": {\"visible\": true, \"source\": \"1\", \"target\": \"2\"}}}, \"animation\": {}}}"
       ],
       "_model_module_version": "^1.0.0",
       "_view_module_version": "^1.0.0",
       "_view_name": "CanvasView",
       "layout": "IPY_MODEL_02ee74ad1db64c61b69cfa9ab704b133"
      }
     },
     "63fc3082e43c4e4280b7d55fe528d173": {
      "model_module": "@jupyter-widgets/controls",
      "model_module_version": "1.4.0",
      "model_name": "ButtonModel",
      "state": {
       "description": "Replay",
       "layout": "IPY_MODEL_fef1ce03566244769e95347778f2ae8e",
       "style": "IPY_MODEL_584338a6d37844b5909d04b21ab0f4a1"
      }
     },
     "648d1fe86b924e32825deb1815dc39b1": {
      "model_module": "@jupyter-widgets/base",
      "model_module_version": "1.1.0",
      "model_name": "LayoutModel",
      "state": {}
     },
     "65528b28193246b192cc2b213c65df47": {
      "model_module": "@jupyter-widgets/base",
      "model_module_version": "1.1.0",
      "model_name": "LayoutModel",
      "state": {}
     },
     "65f725ff8d7d4356bb8c395565103587": {
      "model_module": "algorithmx-jupyter",
      "model_module_version": "^1.0.0",
      "model_name": "CanvasModel",
      "state": {
       "_dispatch_events": [
        "{\"type\": \"update\", \"queue\": \"default\", \"data\": {\"attributes\": {\"size\": [200, 200]}, \"animation\": {\"duration\": 0}}}",
        "{\"type\": \"update\", \"queue\": \"default\", \"data\": {\"attributes\": {\"nodes\": {\"1\": {\"visible\": true}, \"2\": {\"visible\": true}}}, \"animation\": {}}}",
        "{\"type\": \"update\", \"queue\": \"default\", \"data\": {\"attributes\": {\"edges\": {\"1-2\": {\"visible\": true, \"source\": \"1\", \"target\": \"2\"}}}, \"animation\": {}}}"
       ],
       "_model_module_version": "^1.0.0",
       "_view_module_version": "^1.0.0",
       "_view_name": "CanvasView",
       "layout": "IPY_MODEL_9483414a3274404e83bcf296f95efaaf"
      }
     },
     "673609b6c4504f31bdcd4416c92e7b6d": {
      "model_module": "algorithmx-jupyter",
      "model_module_version": "^1.0.0",
      "model_name": "CanvasModel",
      "state": {
       "_dispatch_events": [
        "{\"type\": \"cancel\", \"queue\": \"None\", \"data\": {\"queues\": null}}",
        "{\"type\": \"update\", \"queue\": \"default\", \"data\": {\"attributes\": null, \"animation\": {}}}",
        "{\"type\": \"update\", \"queue\": \"default\", \"data\": {\"attributes\": {\"size\": [200, 200]}, \"animation\": {\"duration\": 0}}}",
        "{\"type\": \"update\", \"queue\": \"default\", \"data\": {\"attributes\": {\"nodes\": {\"1\": {\"visible\": true}, \"2\": {\"visible\": true}}}, \"animation\": {}}}",
        "{\"type\": \"update\", \"queue\": \"default\", \"data\": {\"attributes\": {\"edges\": {\"1-2\": {\"visible\": true, \"source\": \"1\", \"target\": \"2\"}}}, \"animation\": {}}}",
        "{\"type\": \"pause\", \"queue\": \"default\", \"data\": {\"duration\": 0.5}}",
        "{\"type\": \"highlight\", \"queue\": \"default\", \"data\": {\"attributes\": {\"nodes\": {\"1\": {\"size\": \"1.5x\"}}}, \"animation\": {}}}",
        "{\"type\": \"pause\", \"queue\": \"default\", \"data\": {\"duration\": 0.5}}",
        "{\"type\": \"update\", \"queue\": \"default\", \"data\": {\"attributes\": {\"edges\": {\"1-2\": {\"color\": \"blue\"}}}, \"animation\": {\"type\": \"traverse\"}}}"
       ],
       "_model_module_version": "^1.0.0",
       "_view_module_version": "^1.0.0",
       "_view_name": "CanvasView",
       "layout": "IPY_MODEL_f87228efc4d04ac3ac163eaf803be601"
      }
     },
     "6805c6ec52dd456186b4c5ae728a4f95": {
      "model_module": "@jupyter-widgets/base",
      "model_module_version": "1.1.0",
      "model_name": "LayoutModel",
      "state": {}
     },
     "681ea2c0572041608a200947d441d209": {
      "model_module": "algorithmx-jupyter",
      "model_module_version": "^1.0.0",
      "model_name": "CanvasModel",
      "state": {
       "_dispatch_events": [
        "{\"type\": \"cancel\", \"queue\": \"None\", \"data\": {\"queues\": null}}",
        "{\"type\": \"update\", \"queue\": \"default\", \"data\": {\"attributes\": null, \"animation\": {}}}",
        "{\"type\": \"update\", \"queue\": \"default\", \"data\": {\"attributes\": {\"size\": [200, 200]}, \"animation\": {\"duration\": 0}}}",
        "{\"type\": \"update\", \"queue\": \"default\", \"data\": {\"attributes\": {\"nodes\": {\"1\": {\"visible\": true}, \"2\": {\"visible\": true}}}, \"animation\": {}}}",
        "{\"type\": \"update\", \"queue\": \"default\", \"data\": {\"attributes\": {\"edges\": {\"1-2\": {\"visible\": true, \"source\": \"1\", \"target\": \"2\"}}}, \"animation\": {}}}",
        "{\"type\": \"pause\", \"queue\": \"default\", \"data\": {\"duration\": 0.5}}",
        "{\"type\": \"highlight\", \"queue\": \"default\", \"data\": {\"attributes\": {\"nodes\": {\"1\": {\"size\": \"1.5x\"}}}, \"animation\": {}}}",
        "{\"type\": \"pause\", \"queue\": \"default\", \"data\": {\"duration\": 0.5}}",
        "{\"type\": \"update\", \"queue\": \"default\", \"data\": {\"attributes\": {\"edges\": {\"1-2\": {\"color\": \"blue\"}}}, \"animation\": {\"type\": \"traverse\"}}}"
       ],
       "_model_module_version": "^1.0.0",
       "_view_module_version": "^1.0.0",
       "_view_name": "CanvasView",
       "layout": "IPY_MODEL_2e2775a3d4cc4ba39eb7caff89b774c8"
      }
     },
     "6aff93d73e0f48159e5fbc93bab48e93": {
      "model_module": "algorithmx-jupyter",
      "model_module_version": "^1.0.0",
      "model_name": "CanvasModel",
      "state": {
       "_dispatch_events": [
        "{\"type\": \"cancel\", \"queue\": \"None\", \"data\": {\"queues\": null}}",
        "{\"type\": \"update\", \"queue\": \"default\", \"data\": {\"attributes\": null, \"animation\": {}}}",
        "{\"type\": \"update\", \"queue\": \"default\", \"data\": {\"attributes\": {\"size\": [200, 200]}, \"animation\": {\"duration\": 0}}}",
        "{\"type\": \"update\", \"queue\": \"default\", \"data\": {\"attributes\": {\"nodes\": {\"1\": {\"visible\": true}, \"2\": {\"visible\": true}}}, \"animation\": {}}}",
        "{\"type\": \"update\", \"queue\": \"default\", \"data\": {\"attributes\": {\"edges\": {\"1-2\": {\"visible\": true, \"source\": \"1\", \"target\": \"2\"}}}, \"animation\": {}}}",
        "{\"type\": \"pause\", \"queue\": \"default\", \"data\": {\"duration\": 0.5}}",
        "{\"type\": \"highlight\", \"queue\": \"default\", \"data\": {\"attributes\": {\"nodes\": {\"1\": {\"size\": \"1.5x\"}}}, \"animation\": {}}}",
        "{\"type\": \"pause\", \"queue\": \"default\", \"data\": {\"duration\": 0.5}}",
        "{\"type\": \"update\", \"queue\": \"default\", \"data\": {\"attributes\": {\"edges\": {\"1-2\": {\"color\": \"blue\"}}}, \"animation\": {\"type\": \"traverse\"}}}",
        "{\"type\": \"cancel\", \"queue\": \"None\", \"data\": {\"queues\": null}}",
        "{\"type\": \"update\", \"queue\": \"default\", \"data\": {\"attributes\": null, \"animation\": {}}}",
        "{\"type\": \"update\", \"queue\": \"default\", \"data\": {\"attributes\": {\"size\": [200, 200]}, \"animation\": {\"duration\": 0}}}",
        "{\"type\": \"update\", \"queue\": \"default\", \"data\": {\"attributes\": {\"nodes\": {\"1\": {\"visible\": true}, \"2\": {\"visible\": true}}}, \"animation\": {}}}",
        "{\"type\": \"update\", \"queue\": \"default\", \"data\": {\"attributes\": {\"edges\": {\"1-2\": {\"visible\": true, \"source\": \"1\", \"target\": \"2\"}}}, \"animation\": {}}}",
        "{\"type\": \"pause\", \"queue\": \"default\", \"data\": {\"duration\": 0.5}}",
        "{\"type\": \"highlight\", \"queue\": \"default\", \"data\": {\"attributes\": {\"nodes\": {\"1\": {\"size\": \"1.5x\"}}}, \"animation\": {}}}",
        "{\"type\": \"pause\", \"queue\": \"default\", \"data\": {\"duration\": 0.5}}",
        "{\"type\": \"update\", \"queue\": \"default\", \"data\": {\"attributes\": {\"edges\": {\"1-2\": {\"color\": \"blue\"}}}, \"animation\": {\"type\": \"traverse\"}}}"
       ],
       "_model_module_version": "^1.0.0",
       "_view_module_version": "^1.0.0",
       "_view_name": "CanvasView",
       "layout": "IPY_MODEL_b0b02e1582b1450c9d93dfc21b3efce1"
      }
     },
     "6b9ed2bc4c094a7f8ba4e16e9af330fe": {
      "model_module": "@jupyter-widgets/base",
      "model_module_version": "1.1.0",
      "model_name": "LayoutModel",
      "state": {}
     },
     "6c26ef8335cf4051b83ceb3e8ea6a915": {
      "model_module": "algorithmx-jupyter",
      "model_module_version": "^1.0.0",
      "model_name": "CanvasModel",
      "state": {
       "_dispatch_events": [
        "{\"type\": \"update\", \"queue\": \"default\", \"data\": {\"attributes\": {\"nodes\": {\"1\": {\"visible\": true}, \"2\": {\"visible\": true}}}, \"animation\": {}}}",
        "{\"type\": \"update\", \"queue\": \"default\", \"data\": {\"attributes\": {\"edges\": {\"1-2\": {\"visible\": true, \"source\": \"1\", \"target\": \"2\"}}}, \"animation\": {}}}"
       ],
       "_model_module_version": "^1.0.0",
       "_show_buttons": false,
       "_view_module_version": "^1.0.0",
       "_view_name": "CanvasView",
       "layout": "IPY_MODEL_55f42ae6c2644971b905aa91ea7dc477"
      }
     },
     "6df65c8a2af3431daef536303e392023": {
      "model_module": "@jupyter-widgets/controls",
      "model_module_version": "1.4.0",
      "model_name": "ButtonModel",
      "state": {
       "description": "Replay",
       "layout": "IPY_MODEL_e7e335707c30412b98c406b33961f49a",
       "style": "IPY_MODEL_8860b4c3ba59482cb8f1905de22e6fe0"
      }
     },
     "6f4f2e35d9404e2bb99d3bbab0ab5fd5": {
      "model_module": "@jupyter-widgets/controls",
      "model_module_version": "1.4.0",
      "model_name": "ButtonStyleModel",
      "state": {}
     },
     "6f6a4023b6724dfeb7436740420b001f": {
      "model_module": "@jupyter-widgets/base",
      "model_module_version": "1.1.0",
      "model_name": "LayoutModel",
      "state": {}
     },
     "6fe7a8d85d6c4fb99e3d3bef4b938262": {
      "model_module": "@jupyter-widgets/base",
      "model_module_version": "1.1.0",
      "model_name": "LayoutModel",
      "state": {}
     },
     "710a200243dd4c53b86ca8431c28aa36": {
      "model_module": "@jupyter-widgets/base",
      "model_module_version": "1.1.0",
      "model_name": "LayoutModel",
      "state": {}
     },
     "7284b3e32dad4e8c807046ac66e64553": {
      "model_module": "@jupyter-widgets/base",
      "model_module_version": "1.1.0",
      "model_name": "LayoutModel",
      "state": {}
     },
     "735398712c194203bd43ac97ec7ec0e4": {
      "model_module": "algorithmx-jupyter",
      "model_module_version": "latest",
      "model_name": "CanvasModel",
      "state": {
       "_dispatch_events": [
        "{\"type\": \"update\", \"queue\": \"default\", \"data\": {\"attributes\": {\"nodes\": {\"1\": {\"visible\": true}, \"2\": {\"visible\": true}, \"3\": {\"visible\": true}, \"4\": {\"visible\": true}, \"5\": {\"visible\": true}, \"6\": {\"visible\": true}, \"7\": {\"visible\": true}}}, \"animation\": {}}}",
        "{\"type\": \"update\", \"queue\": \"default\", \"data\": {\"attributes\": {\"edges\": {\"1-2\": {\"visible\": true, \"source\": \"1\", \"target\": \"2\"}, \"2-3\": {\"visible\": true, \"source\": \"2\", \"target\": \"3\"}, \"3-4\": {\"visible\": true, \"source\": \"3\", \"target\": \"4\"}, \"4-5\": {\"visible\": true, \"source\": \"4\", \"target\": \"5\"}, \"5-6\": {\"visible\": true, \"source\": \"5\", \"target\": \"6\"}, \"6-7\": {\"visible\": true, \"source\": \"6\", \"target\": \"7\"}, \"1-3\": {\"visible\": true, \"source\": \"1\", \"target\": \"3\"}, \"2-4\": {\"visible\": true, \"source\": \"2\", \"target\": \"4\"}, \"2-7\": {\"visible\": true, \"source\": \"2\", \"target\": \"7\"}}}, \"animation\": {}}}",
        "{\"type\": \"pause\", \"queue\": \"default\", \"data\": {\"duration\": 0.5}}",
        "{\"type\": \"update\", \"queue\": \"default\", \"data\": {\"attributes\": {\"nodes\": {\"1\": {\"color\": \"green\"}}}, \"animation\": {}}}",
        "{\"type\": \"highlight\", \"queue\": \"default\", \"data\": {\"attributes\": {\"nodes\": {\"1\": {\"size\": \"1.25x\"}}}, \"animation\": {\"**\": {\"linger\": 0.7}}}}",
        "{\"type\": \"pause\", \"queue\": \"default\", \"data\": {\"duration\": 0.5}}",
        "{\"type\": \"update\", \"queue\": \"default\", \"data\": {\"attributes\": {\"edges\": {\"1-2\": {\"color\": \"green\"}}}, \"animation\": {\"edges\": {\"1-2\": {\"**\": {\"type\": \"traverse\", \"data\": {\"source\": \"1\"}}}}}}}",
        "{\"type\": \"pause\", \"queue\": \"default\", \"data\": {\"duration\": 0.5}}",
        "{\"type\": \"update\", \"queue\": \"default\", \"data\": {\"attributes\": {\"nodes\": {\"2\": {\"color\": \"green\"}}}, \"animation\": {}}}",
        "{\"type\": \"highlight\", \"queue\": \"default\", \"data\": {\"attributes\": {\"nodes\": {\"2\": {\"size\": \"1.25x\"}}}, \"animation\": {\"**\": {\"linger\": 0.7}}}}",
        "{\"type\": \"pause\", \"queue\": \"default\", \"data\": {\"duration\": 0.5}}",
        "{\"type\": \"update\", \"queue\": \"default\", \"data\": {\"attributes\": {\"edges\": {\"2-3\": {\"color\": \"green\"}}}, \"animation\": {\"edges\": {\"2-3\": {\"**\": {\"type\": \"traverse\", \"data\": {\"source\": \"2\"}}}}}}}",
        "{\"type\": \"pause\", \"queue\": \"default\", \"data\": {\"duration\": 0.5}}",
        "{\"type\": \"update\", \"queue\": \"default\", \"data\": {\"attributes\": {\"nodes\": {\"3\": {\"color\": \"green\"}}}, \"animation\": {}}}",
        "{\"type\": \"highlight\", \"queue\": \"default\", \"data\": {\"attributes\": {\"nodes\": {\"3\": {\"size\": \"1.25x\"}}}, \"animation\": {\"**\": {\"linger\": 0.7}}}}",
        "{\"type\": \"pause\", \"queue\": \"default\", \"data\": {\"duration\": 0.5}}",
        "{\"type\": \"update\", \"queue\": \"default\", \"data\": {\"attributes\": {\"edges\": {\"3-4\": {\"color\": \"green\"}}}, \"animation\": {\"edges\": {\"3-4\": {\"**\": {\"type\": \"traverse\", \"data\": {\"source\": \"3\"}}}}}}}",
        "{\"type\": \"pause\", \"queue\": \"default\", \"data\": {\"duration\": 0.5}}",
        "{\"type\": \"update\", \"queue\": \"default\", \"data\": {\"attributes\": {\"nodes\": {\"4\": {\"color\": \"green\"}}}, \"animation\": {}}}",
        "{\"type\": \"highlight\", \"queue\": \"default\", \"data\": {\"attributes\": {\"nodes\": {\"4\": {\"size\": \"1.25x\"}}}, \"animation\": {\"**\": {\"linger\": 0.7}}}}",
        "{\"type\": \"pause\", \"queue\": \"default\", \"data\": {\"duration\": 0.5}}",
        "{\"type\": \"update\", \"queue\": \"default\", \"data\": {\"attributes\": {\"edges\": {\"4-5\": {\"color\": \"green\"}}}, \"animation\": {\"edges\": {\"4-5\": {\"**\": {\"type\": \"traverse\", \"data\": {\"source\": \"4\"}}}}}}}",
        "{\"type\": \"pause\", \"queue\": \"default\", \"data\": {\"duration\": 0.5}}",
        "{\"type\": \"update\", \"queue\": \"default\", \"data\": {\"attributes\": {\"nodes\": {\"5\": {\"color\": \"green\"}}}, \"animation\": {}}}",
        "{\"type\": \"highlight\", \"queue\": \"default\", \"data\": {\"attributes\": {\"nodes\": {\"5\": {\"size\": \"1.25x\"}}}, \"animation\": {\"**\": {\"linger\": 0.7}}}}",
        "{\"type\": \"pause\", \"queue\": \"default\", \"data\": {\"duration\": 0.5}}",
        "{\"type\": \"update\", \"queue\": \"default\", \"data\": {\"attributes\": {\"edges\": {\"5-6\": {\"color\": \"green\"}}}, \"animation\": {\"edges\": {\"5-6\": {\"**\": {\"type\": \"traverse\", \"data\": {\"source\": \"5\"}}}}}}}",
        "{\"type\": \"pause\", \"queue\": \"default\", \"data\": {\"duration\": 0.5}}",
        "{\"type\": \"update\", \"queue\": \"default\", \"data\": {\"attributes\": {\"nodes\": {\"6\": {\"color\": \"green\"}}}, \"animation\": {}}}",
        "{\"type\": \"highlight\", \"queue\": \"default\", \"data\": {\"attributes\": {\"nodes\": {\"6\": {\"size\": \"1.25x\"}}}, \"animation\": {\"**\": {\"linger\": 0.7}}}}",
        "{\"type\": \"pause\", \"queue\": \"default\", \"data\": {\"duration\": 0.5}}",
        "{\"type\": \"update\", \"queue\": \"default\", \"data\": {\"attributes\": {\"edges\": {\"6-7\": {\"color\": \"green\"}}}, \"animation\": {\"edges\": {\"6-7\": {\"**\": {\"type\": \"traverse\", \"data\": {\"source\": \"6\"}}}}}}}",
        "{\"type\": \"pause\", \"queue\": \"default\", \"data\": {\"duration\": 0.5}}",
        "{\"type\": \"update\", \"queue\": \"default\", \"data\": {\"attributes\": {\"nodes\": {\"7\": {\"color\": \"green\"}}}, \"animation\": {}}}",
        "{\"type\": \"highlight\", \"queue\": \"default\", \"data\": {\"attributes\": {\"nodes\": {\"7\": {\"size\": \"1.25x\"}}}, \"animation\": {\"**\": {\"linger\": 0.7}}}}",
        "{\"type\": \"pause\", \"queue\": \"default\", \"data\": {\"duration\": 0.5}}",
        "{\"type\": \"update\", \"queue\": \"default\", \"data\": {\"attributes\": {\"edges\": {\"7-8\": {\"color\": \"green\"}}}, \"animation\": {\"edges\": {\"7-8\": {\"**\": {\"type\": \"traverse\", \"data\": {\"source\": \"7\"}}}}}}}"
       ],
       "_model_module_version": "latest",
       "_show_buttons": true,
       "_view_module_version": "latest",
       "_view_name": "CanvasView",
       "layout": "IPY_MODEL_562ce79eca054cc49ac8f73d580168a1"
      }
     },
     "743f8ffa888542afb8d304a9f6e163eb": {
      "model_module": "@jupyter-widgets/base",
      "model_module_version": "1.1.0",
      "model_name": "LayoutModel",
      "state": {}
     },
     "753e820a3f054f25950c83a9edbdfac0": {
      "model_module": "@jupyter-widgets/base",
      "model_module_version": "1.1.0",
      "model_name": "LayoutModel",
      "state": {}
     },
     "7694bf23fa8e4809b7dd2acf4a4f680b": {
      "model_module": "@jupyter-widgets/base",
      "model_module_version": "1.1.0",
      "model_name": "LayoutModel",
      "state": {}
     },
     "7891015953be4d7d9292c92af505f989": {
      "model_module": "@jupyter-widgets/base",
      "model_module_version": "1.1.0",
      "model_name": "LayoutModel",
      "state": {}
     },
     "79acd4c439e64ab7966737109839b0e0": {
      "model_module": "@jupyter-widgets/base",
      "model_module_version": "1.1.0",
      "model_name": "LayoutModel",
      "state": {}
     },
     "7b9f8af83535436a951609f5b694dc0c": {
      "model_module": "algorithmx-jupyter",
      "model_module_version": "^1.0.0",
      "model_name": "CanvasModel",
      "state": {
       "_dispatch_events": [
        "{\"type\": \"update\", \"queue\": \"default\", \"data\": {\"attributes\": {\"size\": [200, 200]}, \"animation\": {\"duration\": 0}}}",
        "{\"type\": \"update\", \"queue\": \"default\", \"data\": {\"attributes\": {\"nodes\": {\"1\": {\"visible\": true}, \"2\": {\"visible\": true}}}, \"animation\": {}}}",
        "{\"type\": \"update\", \"queue\": \"default\", \"data\": {\"attributes\": {\"edges\": {\"1-2\": {\"visible\": true, \"source\": \"1\", \"target\": \"2\"}}}, \"animation\": {}}}"
       ],
       "_model_module_version": "^1.0.0",
       "_view_module_version": "^1.0.0",
       "_view_name": "CanvasView",
       "layout": "IPY_MODEL_370dbba6edf2424a9406daacdccc532f"
      }
     },
     "7c7c4fdf7cca4569b602c76016a5a8d0": {
      "model_module": "algorithmx-jupyter",
      "model_module_version": "^1.0.0",
      "model_name": "CanvasModel",
      "state": {
       "_dispatch_events": [
        "{\"type\": \"update\", \"queue\": \"default\", \"data\": {\"attributes\": {\"size\": [300, 200]}, \"animation\": {}}}",
        "{\"type\": \"update\", \"queue\": \"default\", \"data\": {\"attributes\": {\"nodes\": {\"1\": {\"visible\": true}, \"2\": {\"visible\": true}}}, \"animation\": {}}}",
        "{\"type\": \"update\", \"queue\": \"default\", \"data\": {\"attributes\": {\"edges\": {\"1-2\": {\"visible\": true, \"source\": \"1\", \"target\": \"2\"}}}, \"animation\": {}}}",
        "{\"type\": \"pause\", \"queue\": \"default\", \"data\": {\"duration\": 0.5}}",
        "{\"type\": \"highlight\", \"queue\": \"default\", \"data\": {\"attributes\": {\"nodes\": {\"1\": {\"size\": \"1.5x\"}}}, \"animation\": {\"linger\": 1.0}}}",
        "{\"type\": \"pause\", \"queue\": \"default\", \"data\": {\"duration\": 0.5}}",
        "{\"type\": \"update\", \"queue\": \"default\", \"data\": {\"attributes\": {\"edges\": {\"1-2\": {\"color\": \"blue\"}}}, \"animation\": {\"type\": \"traverse\"}}}"
       ],
       "_model_module_version": "^1.0.0",
       "_show_buttons": true,
       "_view_module_version": "^1.0.0",
       "_view_name": "CanvasView",
       "layout": "IPY_MODEL_cf3487e48ec247faa887adb16c3883d1"
      }
     },
     "7e8100de6425490290917bf8bb4cb507": {
      "model_module": "@jupyter-widgets/base",
      "model_module_version": "1.1.0",
      "model_name": "LayoutModel",
      "state": {}
     },
     "7ecccb25a6c54b84b06a395e9a62818b": {
      "model_module": "algorithmx-jupyter",
      "model_module_version": "latest",
      "model_name": "CanvasModel",
      "state": {
       "_dispatch_events": [
        "{\"type\": \"update\", \"queue\": \"default\", \"data\": {\"attributes\": {\"nodes\": {\"1\": {\"visible\": true}, \"2\": {\"visible\": true}, \"3\": {\"visible\": true}, \"4\": {\"visible\": true}, \"5\": {\"visible\": true}, \"6\": {\"visible\": true}, \"7\": {\"visible\": true}}}, \"animation\": {}}}",
        "{\"type\": \"update\", \"queue\": \"default\", \"data\": {\"attributes\": {\"edges\": {\"1-2\": {\"visible\": true, \"source\": \"1\", \"target\": \"2\"}, \"2-3\": {\"visible\": true, \"source\": \"2\", \"target\": \"3\"}, \"3-4\": {\"visible\": true, \"source\": \"3\", \"target\": \"4\"}, \"4-5\": {\"visible\": true, \"source\": \"4\", \"target\": \"5\"}, \"5-6\": {\"visible\": true, \"source\": \"5\", \"target\": \"6\"}, \"6-7\": {\"visible\": true, \"source\": \"6\", \"target\": \"7\"}, \"1-3\": {\"visible\": true, \"source\": \"1\", \"target\": \"3\"}, \"2-4\": {\"visible\": true, \"source\": \"2\", \"target\": \"4\"}, \"2-7\": {\"visible\": true, \"source\": \"2\", \"target\": \"7\"}}}, \"animation\": {}}}",
        "{\"type\": \"pause\", \"queue\": \"default\", \"data\": {\"duration\": 0.5}}",
        "{\"type\": \"update\", \"queue\": \"default\", \"data\": {\"attributes\": {\"nodes\": {\"1\": {\"color\": \"green\"}}}, \"animation\": {}}}",
        "{\"type\": \"highlight\", \"queue\": \"default\", \"data\": {\"attributes\": {\"nodes\": {\"1\": {\"size\": \"1.25x\"}}}, \"animation\": {\"**\": {\"linger\": 0.7}}}}",
        "{\"type\": \"pause\", \"queue\": \"default\", \"data\": {\"duration\": 0.5}}",
        "{\"type\": \"update\", \"queue\": \"default\", \"data\": {\"attributes\": {\"edges\": {\"1-2\": {\"color\": \"green\"}}}, \"animation\": {\"edges\": {\"1-2\": {\"**\": {\"type\": \"traverse\", \"data\": {\"source\": \"1\"}}}}}}}",
        "{\"type\": \"pause\", \"queue\": \"default\", \"data\": {\"duration\": 0.5}}",
        "{\"type\": \"update\", \"queue\": \"default\", \"data\": {\"attributes\": {\"nodes\": {\"2\": {\"color\": \"green\"}}}, \"animation\": {}}}",
        "{\"type\": \"highlight\", \"queue\": \"default\", \"data\": {\"attributes\": {\"nodes\": {\"2\": {\"size\": \"1.25x\"}}}, \"animation\": {\"**\": {\"linger\": 0.7}}}}",
        "{\"type\": \"pause\", \"queue\": \"default\", \"data\": {\"duration\": 0.5}}",
        "{\"type\": \"update\", \"queue\": \"default\", \"data\": {\"attributes\": {\"edges\": {\"2-3\": {\"color\": \"green\"}}}, \"animation\": {\"edges\": {\"2-3\": {\"**\": {\"type\": \"traverse\", \"data\": {\"source\": \"2\"}}}}}}}",
        "{\"type\": \"pause\", \"queue\": \"default\", \"data\": {\"duration\": 0.5}}",
        "{\"type\": \"update\", \"queue\": \"default\", \"data\": {\"attributes\": {\"nodes\": {\"3\": {\"color\": \"green\"}}}, \"animation\": {}}}",
        "{\"type\": \"highlight\", \"queue\": \"default\", \"data\": {\"attributes\": {\"nodes\": {\"3\": {\"size\": \"1.25x\"}}}, \"animation\": {\"**\": {\"linger\": 0.7}}}}",
        "{\"type\": \"pause\", \"queue\": \"default\", \"data\": {\"duration\": 0.5}}",
        "{\"type\": \"update\", \"queue\": \"default\", \"data\": {\"attributes\": {\"edges\": {\"3-4\": {\"color\": \"green\"}}}, \"animation\": {\"edges\": {\"3-4\": {\"**\": {\"type\": \"traverse\", \"data\": {\"source\": \"3\"}}}}}}}",
        "{\"type\": \"pause\", \"queue\": \"default\", \"data\": {\"duration\": 0.5}}",
        "{\"type\": \"update\", \"queue\": \"default\", \"data\": {\"attributes\": {\"nodes\": {\"4\": {\"color\": \"green\"}}}, \"animation\": {}}}",
        "{\"type\": \"highlight\", \"queue\": \"default\", \"data\": {\"attributes\": {\"nodes\": {\"4\": {\"size\": \"1.25x\"}}}, \"animation\": {\"**\": {\"linger\": 0.7}}}}",
        "{\"type\": \"pause\", \"queue\": \"default\", \"data\": {\"duration\": 0.5}}",
        "{\"type\": \"update\", \"queue\": \"default\", \"data\": {\"attributes\": {\"edges\": {\"4-5\": {\"color\": \"green\"}}}, \"animation\": {\"edges\": {\"4-5\": {\"**\": {\"type\": \"traverse\", \"data\": {\"source\": \"4\"}}}}}}}",
        "{\"type\": \"pause\", \"queue\": \"default\", \"data\": {\"duration\": 0.5}}",
        "{\"type\": \"update\", \"queue\": \"default\", \"data\": {\"attributes\": {\"nodes\": {\"5\": {\"color\": \"green\"}}}, \"animation\": {}}}",
        "{\"type\": \"highlight\", \"queue\": \"default\", \"data\": {\"attributes\": {\"nodes\": {\"5\": {\"size\": \"1.25x\"}}}, \"animation\": {\"**\": {\"linger\": 0.7}}}}",
        "{\"type\": \"pause\", \"queue\": \"default\", \"data\": {\"duration\": 0.5}}",
        "{\"type\": \"update\", \"queue\": \"default\", \"data\": {\"attributes\": {\"edges\": {\"5-6\": {\"color\": \"green\"}}}, \"animation\": {\"edges\": {\"5-6\": {\"**\": {\"type\": \"traverse\", \"data\": {\"source\": \"5\"}}}}}}}",
        "{\"type\": \"pause\", \"queue\": \"default\", \"data\": {\"duration\": 0.5}}",
        "{\"type\": \"update\", \"queue\": \"default\", \"data\": {\"attributes\": {\"nodes\": {\"6\": {\"color\": \"green\"}}}, \"animation\": {}}}",
        "{\"type\": \"highlight\", \"queue\": \"default\", \"data\": {\"attributes\": {\"nodes\": {\"6\": {\"size\": \"1.25x\"}}}, \"animation\": {\"**\": {\"linger\": 0.7}}}}",
        "{\"type\": \"pause\", \"queue\": \"default\", \"data\": {\"duration\": 0.5}}",
        "{\"type\": \"update\", \"queue\": \"default\", \"data\": {\"attributes\": {\"edges\": {\"6-7\": {\"color\": \"green\"}}}, \"animation\": {\"edges\": {\"6-7\": {\"**\": {\"type\": \"traverse\", \"data\": {\"source\": \"6\"}}}}}}}",
        "{\"type\": \"pause\", \"queue\": \"default\", \"data\": {\"duration\": 0.5}}",
        "{\"type\": \"update\", \"queue\": \"default\", \"data\": {\"attributes\": {\"nodes\": {\"7\": {\"color\": \"green\"}}}, \"animation\": {}}}",
        "{\"type\": \"highlight\", \"queue\": \"default\", \"data\": {\"attributes\": {\"nodes\": {\"7\": {\"size\": \"1.25x\"}}}, \"animation\": {\"**\": {\"linger\": 0.7}}}}",
        "{\"type\": \"pause\", \"queue\": \"default\", \"data\": {\"duration\": 0.5}}",
        "{\"type\": \"update\", \"queue\": \"default\", \"data\": {\"attributes\": {\"edges\": {\"7-8\": {\"color\": \"green\"}}}, \"animation\": {\"edges\": {\"7-8\": {\"**\": {\"type\": \"traverse\", \"data\": {\"source\": \"7\"}}}}}}}"
       ],
       "_model_module_version": "latest",
       "_show_buttons": true,
       "_view_module_version": "latest",
       "_view_name": "CanvasView",
       "layout": "IPY_MODEL_e1ce9e9ae18a4e279bb79e4448bf6a09"
      }
     },
     "7f24b29f7fad46169c9663bc4f24e72e": {
      "model_module": "@jupyter-widgets/base",
      "model_module_version": "1.1.0",
      "model_name": "LayoutModel",
      "state": {}
     },
     "7fd740a095ed4df3bafb3499dbfc3443": {
      "model_module": "algorithmx-jupyter",
      "model_module_version": "^1.0.0",
      "model_name": "CanvasModel",
      "state": {
       "_dispatch_events": [
        "{\"type\": \"update\", \"queue\": \"default\", \"data\": {\"attributes\": {\"size\": [300, 200]}, \"animation\": {\"duration\": 0}}}",
        "{\"type\": \"update\", \"queue\": \"default\", \"data\": {\"attributes\": {\"nodes\": {\"1\": {\"visible\": true}, \"2\": {\"visible\": true}}}, \"animation\": {}}}",
        "{\"type\": \"update\", \"queue\": \"default\", \"data\": {\"attributes\": {\"edges\": {\"1-2\": {\"visible\": true, \"source\": \"1\", \"target\": \"2\"}}}, \"animation\": {}}}"
       ],
       "_model_module_version": "^1.0.0",
       "_show_buttons": false,
       "_view_module_version": "^1.0.0",
       "_view_name": "CanvasView",
       "layout": "IPY_MODEL_455760061d7b4a7285e3ec569c82404e"
      }
     },
     "804cc4187f304783b9f4d0ed261988b1": {
      "model_module": "algorithmx-jupyter",
      "model_module_version": "^1.0.0",
      "model_name": "CanvasModel",
      "state": {
       "_dispatch_events": [
        "{\"type\": \"update\", \"queue\": \"default\", \"data\": {\"attributes\": {\"size\": [200, 200]}, \"animation\": {\"duration\": 0}}}",
        "{\"type\": \"update\", \"queue\": \"default\", \"data\": {\"attributes\": {\"nodes\": {\"1\": {\"visible\": true}, \"2\": {\"visible\": true}}}, \"animation\": {}}}",
        "{\"type\": \"update\", \"queue\": \"default\", \"data\": {\"attributes\": {\"edges\": {\"1-2\": {\"visible\": true, \"source\": \"1\", \"target\": \"2\"}}}, \"animation\": {}}}"
       ],
       "_model_module_version": "^1.0.0",
       "_view_module_version": "^1.0.0",
       "_view_name": "CanvasView",
       "layout": "IPY_MODEL_8b523697bdcc48aba103a6d619024e7d"
      }
     },
     "825762ccac154d199f45aacb327e63a0": {
      "model_module": "@jupyter-widgets/base",
      "model_module_version": "1.1.0",
      "model_name": "LayoutModel",
      "state": {}
     },
     "825d3b8e5832466c8281ae2560e1d33e": {
      "model_module": "algorithmx-jupyter",
      "model_module_version": "latest",
      "model_name": "CanvasModel",
      "state": {
       "_dispatch_events": [
        "{\"type\": \"update\", \"queue\": \"default\", \"data\": {\"attributes\": {\"size\": [300, 200]}, \"animation\": {}}}",
        "{\"type\": \"update\", \"queue\": \"default\", \"data\": {\"attributes\": {\"nodes\": {\"1\": {\"visible\": true}, \"2\": {\"visible\": true}}}, \"animation\": {}}}",
        "{\"type\": \"update\", \"queue\": \"default\", \"data\": {\"attributes\": {\"edges\": {\"1-2\": {\"visible\": true, \"source\": \"1\", \"target\": \"2\"}}}, \"animation\": {}}}",
        "{\"type\": \"pause\", \"queue\": \"default\", \"data\": {\"duration\": 0.5}}",
        "{\"type\": \"highlight\", \"queue\": \"default\", \"data\": {\"attributes\": {\"nodes\": {\"1\": {\"size\": \"1.25x\"}}}, \"animation\": {\"**\": {\"linger\": 1.0}}}}",
        "{\"type\": \"pause\", \"queue\": \"default\", \"data\": {\"duration\": 0.5}}",
        "{\"type\": \"update\", \"queue\": \"default\", \"data\": {\"attributes\": {\"edges\": {\"1-2\": {\"color\": \"blue\"}}}, \"animation\": {\"edges\": {\"1-2\": {\"**\": {\"type\": \"traverse\", \"data\": {\"source\": \"1\"}}}}}}}"
       ],
       "_model_module_version": "latest",
       "_show_buttons": true,
       "_view_module_version": "latest",
       "_view_name": "CanvasView",
       "layout": "IPY_MODEL_3a43f2efe73d40b18ac04821b64634db"
      }
     },
     "8337e8d10c39463d8ddc236881d72ae5": {
      "model_module": "algorithmx-jupyter",
      "model_module_version": "^1.0.0",
      "model_name": "CanvasModel",
      "state": {
       "_dispatch_events": [
        "{\"type\": \"update\", \"queue\": \"default\", \"data\": {\"attributes\": {\"size\": [200, 200]}, \"animation\": {}}}",
        "{\"type\": \"update\", \"queue\": \"default\", \"data\": {\"attributes\": {\"nodes\": {\"1\": {\"visible\": true}, \"2\": {\"visible\": true}}}, \"animation\": {}}}",
        "{\"type\": \"update\", \"queue\": \"default\", \"data\": {\"attributes\": {\"edges\": {\"1-2\": {\"visible\": true, \"source\": \"1\", \"target\": \"2\"}}}, \"animation\": {}}}"
       ],
       "_model_module_version": "^1.0.0",
       "_show_buttons": false,
       "_view_module_version": "^1.0.0",
       "_view_name": "CanvasView",
       "layout": "IPY_MODEL_a36e5e1b1dee4561af8607028e4f2fa0"
      }
     },
     "8383c77fbc9e4b228b891186247d5a19": {
      "model_module": "algorithmx-jupyter",
      "model_module_version": "^1.0.0",
      "model_name": "CanvasModel",
      "state": {
       "_dispatch_events": [
        "{\"type\": \"update\", \"queue\": \"default\", \"data\": {\"attributes\": {\"size\": [200, 200]}, \"animation\": {}}}",
        "{\"type\": \"update\", \"queue\": \"default\", \"data\": {\"attributes\": {\"nodes\": {\"1\": {\"visible\": true}, \"2\": {\"visible\": true}}}, \"animation\": {}}}",
        "{\"type\": \"update\", \"queue\": \"default\", \"data\": {\"attributes\": {\"edges\": {\"1-2\": {\"visible\": true, \"source\": \"1\", \"target\": \"2\"}}}, \"animation\": {}}}"
       ],
       "_model_module_version": "^1.0.0",
       "_view_module_version": "^1.0.0",
       "_view_name": "CanvasView",
       "layout": "IPY_MODEL_2ca23297cfab41c6bbb388376ff59b56"
      }
     },
     "869e4884c4cb40118821b3b55111c785": {
      "model_module": "algorithmx-jupyter",
      "model_module_version": "^1.0.0",
      "model_name": "CanvasModel",
      "state": {
       "_dispatch_events": [
        "{\"type\": \"cancel\", \"queue\": \"None\", \"data\": {\"queues\": null}}",
        "{\"type\": \"update\", \"queue\": \"default\", \"data\": {\"attributes\": null, \"animation\": {}}}",
        "{\"type\": \"update\", \"queue\": \"default\", \"data\": {\"attributes\": {\"nodes\": {\"1\": {\"visible\": true}, \"2\": {\"visible\": true}}}, \"animation\": {}}}",
        "{\"type\": \"update\", \"queue\": \"default\", \"data\": {\"attributes\": {\"edges\": {\"1-2\": {\"visible\": true, \"source\": \"1\", \"target\": \"2\"}}}, \"animation\": {}}}",
        "{\"type\": \"pause\", \"queue\": \"default\", \"data\": {\"duration\": 0.5}}",
        "{\"type\": \"highlight\", \"queue\": \"default\", \"data\": {\"attributes\": {\"nodes\": {\"1\": {\"size\": \"1.5x\"}}}, \"animation\": {}}}",
        "{\"type\": \"pause\", \"queue\": \"default\", \"data\": {\"duration\": 0.5}}",
        "{\"type\": \"update\", \"queue\": \"default\", \"data\": {\"attributes\": {\"edges\": {\"1-2\": {\"color\": \"blue\"}}}, \"animation\": {\"type\": \"traverse\"}}}"
       ],
       "_model_module_version": "^1.0.0",
       "_view_module_version": "^1.0.0",
       "_view_name": "CanvasView",
       "layout": "IPY_MODEL_edfabea6ee8241a2ab5ad99b068682d9"
      }
     },
     "870204892c66438d8ec19e049ad3bac6": {
      "model_module": "@jupyter-widgets/base",
      "model_module_version": "1.1.0",
      "model_name": "LayoutModel",
      "state": {}
     },
     "8860b4c3ba59482cb8f1905de22e6fe0": {
      "model_module": "@jupyter-widgets/controls",
      "model_module_version": "1.4.0",
      "model_name": "ButtonStyleModel",
      "state": {}
     },
     "89c24405347d4a0c99577fea7357acce": {
      "model_module": "@jupyter-widgets/base",
      "model_module_version": "1.1.0",
      "model_name": "LayoutModel",
      "state": {}
     },
     "89cbf186fe544ecd96af731996007948": {
      "model_module": "algorithmx-jupyter",
      "model_module_version": "^1.0.0",
      "model_name": "CanvasModel",
      "state": {
       "_dispatch_events": [
        "{\"type\": \"update\", \"queue\": \"default\", \"data\": {\"attributes\": {\"size\": [300, 200]}, \"animation\": {}}}",
        "{\"type\": \"update\", \"queue\": \"default\", \"data\": {\"attributes\": {\"nodes\": {\"1\": {\"visible\": true}, \"2\": {\"visible\": true}}}, \"animation\": {}}}",
        "{\"type\": \"update\", \"queue\": \"default\", \"data\": {\"attributes\": {\"edges\": {\"1-2\": {\"visible\": true, \"source\": \"1\", \"target\": \"2\"}}}, \"animation\": {}}}",
        "{\"type\": \"pause\", \"queue\": \"default\", \"data\": {\"duration\": 0.5}}",
        "{\"type\": \"highlight\", \"queue\": \"default\", \"data\": {\"attributes\": {\"nodes\": {\"1\": {\"size\": \"1.5x\"}}}, \"animation\": {\"linger\": 1.0}}}",
        "{\"type\": \"pause\", \"queue\": \"default\", \"data\": {\"duration\": 0.5}}",
        "{\"type\": \"update\", \"queue\": \"default\", \"data\": {\"attributes\": {\"edges\": {\"1-2\": {\"color\": \"blue\"}}}, \"animation\": {\"type\": \"traverse\"}}}"
       ],
       "_model_module_version": "^1.0.0",
       "_show_buttons": true,
       "_view_module_version": "^1.0.0",
       "_view_name": "CanvasView",
       "layout": "IPY_MODEL_0e9ed44906ad40859077ca1feb6b3ae4"
      }
     },
     "8ab4379fdb1843eeb60466c1db5692e5": {
      "model_module": "@jupyter-widgets/base",
      "model_module_version": "1.1.0",
      "model_name": "LayoutModel",
      "state": {}
     },
     "8b523697bdcc48aba103a6d619024e7d": {
      "model_module": "@jupyter-widgets/base",
      "model_module_version": "1.1.0",
      "model_name": "LayoutModel",
      "state": {}
     },
     "8c43511d47ad4d30a62ea931f6ccdcce": {
      "model_module": "@jupyter-widgets/controls",
      "model_module_version": "1.4.0",
      "model_name": "ButtonModel",
      "state": {
       "description": "Replay",
       "layout": "IPY_MODEL_2efbfa69244f482fb24fe526b6241c3a",
       "style": "IPY_MODEL_eaddf51942ab4ad9a0fa25243155151d"
      }
     },
     "8c67375bca5b4dd1a4a884cd2730aabf": {
      "model_module": "@jupyter-widgets/controls",
      "model_module_version": "1.4.0",
      "model_name": "ButtonModel",
      "state": {
       "description": "Replay",
       "layout": "IPY_MODEL_9b4b7e65900d4b7bb644ca357804d198",
       "style": "IPY_MODEL_f77ff46344b443289e764a5e226ea357"
      }
     },
     "8ec1694f7fc544e486a0206f0f1b35cc": {
      "model_module": "@jupyter-widgets/base",
      "model_module_version": "1.1.0",
      "model_name": "LayoutModel",
      "state": {}
     },
     "8ee44172ba2248fcb02e9ecad88b1cda": {
      "model_module": "algorithmx-jupyter",
      "model_module_version": "latest",
      "model_name": "CanvasModel",
      "state": {
       "_dispatch_events": [
        "{\"type\": \"update\", \"queue\": \"default\", \"data\": {\"attributes\": {\"nodes\": {\"1\": {\"visible\": true}, \"2\": {\"visible\": true}, \"3\": {\"visible\": true}, \"4\": {\"visible\": true}, \"5\": {\"visible\": true}, \"6\": {\"visible\": true}, \"7\": {\"visible\": true}}}, \"animation\": {}}}",
        "{\"type\": \"update\", \"queue\": \"default\", \"data\": {\"attributes\": {\"edges\": {\"1-2\": {\"visible\": true, \"source\": \"1\", \"target\": \"2\"}, \"2-3\": {\"visible\": true, \"source\": \"2\", \"target\": \"3\"}, \"3-4\": {\"visible\": true, \"source\": \"3\", \"target\": \"4\"}, \"4-5\": {\"visible\": true, \"source\": \"4\", \"target\": \"5\"}, \"5-6\": {\"visible\": true, \"source\": \"5\", \"target\": \"6\"}, \"6-7\": {\"visible\": true, \"source\": \"6\", \"target\": \"7\"}, \"1-3\": {\"visible\": true, \"source\": \"1\", \"target\": \"3\"}, \"2-4\": {\"visible\": true, \"source\": \"2\", \"target\": \"4\"}, \"2-7\": {\"visible\": true, \"source\": \"2\", \"target\": \"7\"}}}, \"animation\": {}}}",
        "{\"type\": \"pause\", \"queue\": \"default\", \"data\": {\"duration\": 0.5}}",
        "{\"type\": \"update\", \"queue\": \"default\", \"data\": {\"attributes\": {\"nodes\": {\"1\": {\"color\": \"green\"}}}, \"animation\": {}}}",
        "{\"type\": \"highlight\", \"queue\": \"default\", \"data\": {\"attributes\": {\"nodes\": {\"1\": {\"size\": \"1.25x\"}}}, \"animation\": {\"**\": {\"linger\": 0.7}}}}",
        "{\"type\": \"pause\", \"queue\": \"default\", \"data\": {\"duration\": 0.5}}",
        "{\"type\": \"update\", \"queue\": \"default\", \"data\": {\"attributes\": {\"edges\": {\"1-2\": {\"color\": \"green\"}}}, \"animation\": {\"edges\": {\"1-2\": {\"**\": {\"type\": \"traverse\", \"data\": {\"source\": \"1\"}}}}}}}",
        "{\"type\": \"pause\", \"queue\": \"default\", \"data\": {\"duration\": 0.5}}",
        "{\"type\": \"update\", \"queue\": \"default\", \"data\": {\"attributes\": {\"nodes\": {\"2\": {\"color\": \"green\"}}}, \"animation\": {}}}",
        "{\"type\": \"highlight\", \"queue\": \"default\", \"data\": {\"attributes\": {\"nodes\": {\"2\": {\"size\": \"1.25x\"}}}, \"animation\": {\"**\": {\"linger\": 0.7}}}}",
        "{\"type\": \"pause\", \"queue\": \"default\", \"data\": {\"duration\": 0.5}}",
        "{\"type\": \"update\", \"queue\": \"default\", \"data\": {\"attributes\": {\"edges\": {\"2-3\": {\"color\": \"green\"}}}, \"animation\": {\"edges\": {\"2-3\": {\"**\": {\"type\": \"traverse\", \"data\": {\"source\": \"2\"}}}}}}}",
        "{\"type\": \"pause\", \"queue\": \"default\", \"data\": {\"duration\": 0.5}}",
        "{\"type\": \"update\", \"queue\": \"default\", \"data\": {\"attributes\": {\"nodes\": {\"3\": {\"color\": \"green\"}}}, \"animation\": {}}}",
        "{\"type\": \"highlight\", \"queue\": \"default\", \"data\": {\"attributes\": {\"nodes\": {\"3\": {\"size\": \"1.25x\"}}}, \"animation\": {\"**\": {\"linger\": 0.7}}}}",
        "{\"type\": \"pause\", \"queue\": \"default\", \"data\": {\"duration\": 0.5}}",
        "{\"type\": \"update\", \"queue\": \"default\", \"data\": {\"attributes\": {\"edges\": {\"3-4\": {\"color\": \"green\"}}}, \"animation\": {\"edges\": {\"3-4\": {\"**\": {\"type\": \"traverse\", \"data\": {\"source\": \"3\"}}}}}}}",
        "{\"type\": \"pause\", \"queue\": \"default\", \"data\": {\"duration\": 0.5}}",
        "{\"type\": \"update\", \"queue\": \"default\", \"data\": {\"attributes\": {\"nodes\": {\"4\": {\"color\": \"green\"}}}, \"animation\": {}}}",
        "{\"type\": \"highlight\", \"queue\": \"default\", \"data\": {\"attributes\": {\"nodes\": {\"4\": {\"size\": \"1.25x\"}}}, \"animation\": {\"**\": {\"linger\": 0.7}}}}",
        "{\"type\": \"pause\", \"queue\": \"default\", \"data\": {\"duration\": 0.5}}",
        "{\"type\": \"update\", \"queue\": \"default\", \"data\": {\"attributes\": {\"edges\": {\"4-5\": {\"color\": \"green\"}}}, \"animation\": {\"edges\": {\"4-5\": {\"**\": {\"type\": \"traverse\", \"data\": {\"source\": \"4\"}}}}}}}",
        "{\"type\": \"pause\", \"queue\": \"default\", \"data\": {\"duration\": 0.5}}",
        "{\"type\": \"update\", \"queue\": \"default\", \"data\": {\"attributes\": {\"nodes\": {\"5\": {\"color\": \"green\"}}}, \"animation\": {}}}",
        "{\"type\": \"highlight\", \"queue\": \"default\", \"data\": {\"attributes\": {\"nodes\": {\"5\": {\"size\": \"1.25x\"}}}, \"animation\": {\"**\": {\"linger\": 0.7}}}}",
        "{\"type\": \"pause\", \"queue\": \"default\", \"data\": {\"duration\": 0.5}}",
        "{\"type\": \"update\", \"queue\": \"default\", \"data\": {\"attributes\": {\"edges\": {\"5-6\": {\"color\": \"green\"}}}, \"animation\": {\"edges\": {\"5-6\": {\"**\": {\"type\": \"traverse\", \"data\": {\"source\": \"5\"}}}}}}}",
        "{\"type\": \"pause\", \"queue\": \"default\", \"data\": {\"duration\": 0.5}}",
        "{\"type\": \"update\", \"queue\": \"default\", \"data\": {\"attributes\": {\"nodes\": {\"6\": {\"color\": \"green\"}}}, \"animation\": {}}}",
        "{\"type\": \"highlight\", \"queue\": \"default\", \"data\": {\"attributes\": {\"nodes\": {\"6\": {\"size\": \"1.25x\"}}}, \"animation\": {\"**\": {\"linger\": 0.7}}}}",
        "{\"type\": \"pause\", \"queue\": \"default\", \"data\": {\"duration\": 0.5}}",
        "{\"type\": \"update\", \"queue\": \"default\", \"data\": {\"attributes\": {\"edges\": {\"6-7\": {\"color\": \"green\"}}}, \"animation\": {\"edges\": {\"6-7\": {\"**\": {\"type\": \"traverse\", \"data\": {\"source\": \"6\"}}}}}}}",
        "{\"type\": \"pause\", \"queue\": \"default\", \"data\": {\"duration\": 0.5}}",
        "{\"type\": \"update\", \"queue\": \"default\", \"data\": {\"attributes\": {\"nodes\": {\"7\": {\"color\": \"green\"}}}, \"animation\": {}}}",
        "{\"type\": \"highlight\", \"queue\": \"default\", \"data\": {\"attributes\": {\"nodes\": {\"7\": {\"size\": \"1.25x\"}}}, \"animation\": {\"**\": {\"linger\": 0.7}}}}",
        "{\"type\": \"pause\", \"queue\": \"default\", \"data\": {\"duration\": 0.5}}",
        "{\"type\": \"update\", \"queue\": \"default\", \"data\": {\"attributes\": {\"edges\": {\"7-8\": {\"color\": \"green\"}}}, \"animation\": {\"edges\": {\"7-8\": {\"**\": {\"type\": \"traverse\", \"data\": {\"source\": \"7\"}}}}}}}"
       ],
       "_model_module_version": "latest",
       "_show_buttons": true,
       "_view_module_version": "latest",
       "_view_name": "CanvasView",
       "layout": "IPY_MODEL_97fddf3a6b46461bb78e413d8b4e6c6d"
      }
     },
     "8fbb4fc980b24be78dcd1a8e3ce68467": {
      "model_module": "algorithmx-jupyter",
      "model_module_version": "^1.0.0",
      "model_name": "CanvasModel",
      "state": {
       "_model_module_version": "^1.0.0",
       "_show_buttons": true,
       "_view_module_version": "^1.0.0",
       "_view_name": "CanvasView",
       "layout": "IPY_MODEL_c3ffea8e17364270923ae054c8833d0a"
      }
     },
     "8ffc8b306e4441e39e2fd6c1081d5698": {
      "model_module": "algorithmx-jupyter",
      "model_module_version": "^1.0.0",
      "model_name": "CanvasModel",
      "state": {
       "_dispatch_events": [
        "{\"type\": \"update\", \"queue\": \"default\", \"data\": {\"attributes\": {\"nodes\": {\"1\": {\"visible\": true}, \"2\": {\"visible\": true}}}, \"animation\": {}}}",
        "{\"type\": \"update\", \"queue\": \"default\", \"data\": {\"attributes\": {\"edges\": {\"1-2\": {\"visible\": true, \"source\": \"1\", \"target\": \"2\"}}}, \"animation\": {}}}"
       ],
       "_model_module_version": "^1.0.0",
       "_show_buttons": false,
       "_view_module_version": "^1.0.0",
       "_view_name": "CanvasView",
       "layout": "IPY_MODEL_9e44d1e920f54b57b1c23b1dec5f0256"
      }
     },
     "928b2f7a945448838db02c185494a586": {
      "model_module": "algorithmx-jupyter",
      "model_module_version": "^1.0.0",
      "model_name": "CanvasModel",
      "state": {
       "_dispatch_events": [
        "{\"type\": \"update\", \"queue\": \"default\", \"data\": {\"attributes\": {\"nodes\": {\"1\": {\"visible\": true}, \"2\": {\"visible\": true}}}, \"animation\": {}}}",
        "{\"type\": \"update\", \"queue\": \"default\", \"data\": {\"attributes\": {\"edges\": {\"1-2\": {\"visible\": true, \"source\": \"1\", \"target\": \"2\"}}}, \"animation\": {}}}"
       ],
       "_model_module_version": "^1.0.0",
       "_view_module_version": "^1.0.0",
       "_view_name": "CanvasView",
       "layout": "IPY_MODEL_fda1023757854544bd98af88d83bdd4b"
      }
     },
     "94313bc9864e4d42834e71c74e5fc172": {
      "model_module": "@jupyter-widgets/controls",
      "model_module_version": "1.4.0",
      "model_name": "ButtonStyleModel",
      "state": {}
     },
     "9483414a3274404e83bcf296f95efaaf": {
      "model_module": "@jupyter-widgets/base",
      "model_module_version": "1.1.0",
      "model_name": "LayoutModel",
      "state": {}
     },
     "94861b516af540c0a72389062aad4091": {
      "model_module": "algorithmx-jupyter",
      "model_module_version": "^1.0.0",
      "model_name": "CanvasModel",
      "state": {
       "_dispatch_events": [
        "{\"type\": \"update\", \"queue\": \"default\", \"data\": {\"attributes\": {\"svgattr\": {\"border\": \"2px solid red\"}}, \"animation\": {}}}",
        "{\"type\": \"update\", \"queue\": \"default\", \"data\": {\"attributes\": {\"size\": [300, 200]}, \"animation\": {\"duration\": 0}}}",
        "{\"type\": \"update\", \"queue\": \"default\", \"data\": {\"attributes\": {\"nodes\": {\"1\": {\"visible\": true}, \"2\": {\"visible\": true}}}, \"animation\": {}}}",
        "{\"type\": \"update\", \"queue\": \"default\", \"data\": {\"attributes\": {\"edges\": {\"1-2\": {\"visible\": true, \"source\": \"1\", \"target\": \"2\"}}}, \"animation\": {}}}"
       ],
       "_model_module_version": "^1.0.0",
       "_show_buttons": false,
       "_view_module_version": "^1.0.0",
       "_view_name": "CanvasView",
       "layout": "IPY_MODEL_7e8100de6425490290917bf8bb4cb507"
      }
     },
     "953001385c4b49b497aa3f61c8642270": {
      "model_module": "@jupyter-widgets/base",
      "model_module_version": "1.1.0",
      "model_name": "LayoutModel",
      "state": {}
     },
     "95acf469b83d4547b6aeaa3a48454464": {
      "model_module": "@jupyter-widgets/base",
      "model_module_version": "1.1.0",
      "model_name": "LayoutModel",
      "state": {}
     },
     "961e6d2587ac4646b76749de36252a01": {
      "model_module": "@jupyter-widgets/base",
      "model_module_version": "1.1.0",
      "model_name": "LayoutModel",
      "state": {}
     },
     "97a2d1ccaa4f4e9c84e330fb732e69a4": {
      "model_module": "@jupyter-widgets/base",
      "model_module_version": "1.1.0",
      "model_name": "LayoutModel",
      "state": {}
     },
     "97fddf3a6b46461bb78e413d8b4e6c6d": {
      "model_module": "@jupyter-widgets/base",
      "model_module_version": "1.1.0",
      "model_name": "LayoutModel",
      "state": {}
     },
     "980356b42e0f4cada3ace7a1d4ece625": {
      "model_module": "algorithmx-jupyter",
      "model_module_version": "^1.0.0",
      "model_name": "CanvasModel",
      "state": {
       "_dispatch_events": [
        "{\"type\": \"update\", \"queue\": \"default\", \"data\": {\"attributes\": {\"size\": [200, 200]}, \"animation\": {\"duration\": 0}}}",
        "{\"type\": \"update\", \"queue\": \"default\", \"data\": {\"attributes\": {\"nodes\": {\"1\": {\"visible\": true}, \"2\": {\"visible\": true}}}, \"animation\": {}}}",
        "{\"type\": \"update\", \"queue\": \"default\", \"data\": {\"attributes\": {\"edges\": {\"1-2\": {\"visible\": true, \"source\": \"1\", \"target\": \"2\"}}}, \"animation\": {}}}"
       ],
       "_model_module_version": "^1.0.0",
       "_view_module_version": "^1.0.0",
       "_view_name": "CanvasView",
       "layout": "IPY_MODEL_a6b560b922e544e5986826f0d1b190e4"
      }
     },
     "99fea8dd76bd47a6bdbc795537a177a2": {
      "model_module": "@jupyter-widgets/controls",
      "model_module_version": "1.4.0",
      "model_name": "ButtonModel",
      "state": {
       "description": "Replay",
       "layout": "IPY_MODEL_95acf469b83d4547b6aeaa3a48454464",
       "style": "IPY_MODEL_a05894f22fac4afcbc5250eaad19cf58"
      }
     },
     "9b4b7e65900d4b7bb644ca357804d198": {
      "model_module": "@jupyter-widgets/base",
      "model_module_version": "1.1.0",
      "model_name": "LayoutModel",
      "state": {}
     },
     "9b5f58095d3e49889bf5b2f1303bbad1": {
      "model_module": "algorithmx-jupyter",
      "model_module_version": "^1.0.0",
      "model_name": "CanvasModel",
      "state": {
       "_dispatch_events": [
        "{\"type\": \"update\", \"queue\": \"default\", \"data\": {\"attributes\": {\"svgattr\": {\"border\": \"2px solid red\"}}, \"animation\": {}}}",
        "{\"type\": \"update\", \"queue\": \"default\", \"data\": {\"attributes\": {\"nodes\": {\"1\": {\"visible\": true}, \"2\": {\"visible\": true}}}, \"animation\": {}}}",
        "{\"type\": \"update\", \"queue\": \"default\", \"data\": {\"attributes\": {\"edges\": {\"1-2\": {\"visible\": true, \"source\": \"1\", \"target\": \"2\"}}}, \"animation\": {}}}"
       ],
       "_model_module_version": "^1.0.0",
       "_show_buttons": false,
       "_view_module_version": "^1.0.0",
       "_view_name": "CanvasView",
       "layout": "IPY_MODEL_b2b72b5ba3a949df92f5ca98b686d32d"
      }
     },
     "9b776b029e974dfaa69158ea37b2def0": {
      "model_module": "@jupyter-widgets/controls",
      "model_module_version": "1.4.0",
      "model_name": "ButtonStyleModel",
      "state": {}
     },
     "9e0d401c334e4ab7915ffab208a0088c": {
      "model_module": "algorithmx-jupyter",
      "model_module_version": "latest",
      "model_name": "CanvasModel",
      "state": {
       "_dispatch_events": [
        "{\"type\": \"update\", \"queue\": \"default\", \"data\": {\"attributes\": {\"nodes\": {\"1\": {\"visible\": true}, \"2\": {\"visible\": true}, \"3\": {\"visible\": true}, \"4\": {\"visible\": true}, \"5\": {\"visible\": true}, \"6\": {\"visible\": true}, \"7\": {\"visible\": true}}}, \"animation\": {}}}",
        "{\"type\": \"update\", \"queue\": \"default\", \"data\": {\"attributes\": {\"edges\": {\"1-2\": {\"visible\": true, \"source\": \"1\", \"target\": \"2\"}, \"2-3\": {\"visible\": true, \"source\": \"2\", \"target\": \"3\"}, \"3-4\": {\"visible\": true, \"source\": \"3\", \"target\": \"4\"}, \"4-5\": {\"visible\": true, \"source\": \"4\", \"target\": \"5\"}, \"5-6\": {\"visible\": true, \"source\": \"5\", \"target\": \"6\"}, \"6-7\": {\"visible\": true, \"source\": \"6\", \"target\": \"7\"}, \"1-3\": {\"visible\": true, \"source\": \"1\", \"target\": \"3\"}, \"2-4\": {\"visible\": true, \"source\": \"2\", \"target\": \"4\"}, \"2-7\": {\"visible\": true, \"source\": \"2\", \"target\": \"7\"}}}, \"animation\": {}}}",
        "{\"type\": \"pause\", \"queue\": \"default\", \"data\": {\"duration\": 0.5}}",
        "{\"type\": \"update\", \"queue\": \"default\", \"data\": {\"attributes\": {\"nodes\": {\"1\": {\"color\": \"green\"}}}, \"animation\": {}}}",
        "{\"type\": \"highlight\", \"queue\": \"default\", \"data\": {\"attributes\": {\"nodes\": {\"1\": {\"size\": \"1.25x\"}}}, \"animation\": {\"**\": {\"linger\": 0.7}}}}",
        "{\"type\": \"pause\", \"queue\": \"default\", \"data\": {\"duration\": 0.5}}",
        "{\"type\": \"update\", \"queue\": \"default\", \"data\": {\"attributes\": {\"edges\": {\"1-2\": {\"color\": \"green\"}}}, \"animation\": {\"edges\": {\"1-2\": {\"**\": {\"type\": \"traverse\", \"data\": {\"source\": \"1\"}}}}}}}",
        "{\"type\": \"pause\", \"queue\": \"default\", \"data\": {\"duration\": 0.5}}",
        "{\"type\": \"update\", \"queue\": \"default\", \"data\": {\"attributes\": {\"nodes\": {\"2\": {\"color\": \"green\"}}}, \"animation\": {}}}",
        "{\"type\": \"highlight\", \"queue\": \"default\", \"data\": {\"attributes\": {\"nodes\": {\"2\": {\"size\": \"1.25x\"}}}, \"animation\": {\"**\": {\"linger\": 0.7}}}}",
        "{\"type\": \"pause\", \"queue\": \"default\", \"data\": {\"duration\": 0.5}}",
        "{\"type\": \"update\", \"queue\": \"default\", \"data\": {\"attributes\": {\"edges\": {\"2-3\": {\"color\": \"green\"}}}, \"animation\": {\"edges\": {\"2-3\": {\"**\": {\"type\": \"traverse\", \"data\": {\"source\": \"2\"}}}}}}}",
        "{\"type\": \"pause\", \"queue\": \"default\", \"data\": {\"duration\": 0.5}}",
        "{\"type\": \"update\", \"queue\": \"default\", \"data\": {\"attributes\": {\"nodes\": {\"3\": {\"color\": \"green\"}}}, \"animation\": {}}}",
        "{\"type\": \"highlight\", \"queue\": \"default\", \"data\": {\"attributes\": {\"nodes\": {\"3\": {\"size\": \"1.25x\"}}}, \"animation\": {\"**\": {\"linger\": 0.7}}}}",
        "{\"type\": \"pause\", \"queue\": \"default\", \"data\": {\"duration\": 0.5}}",
        "{\"type\": \"update\", \"queue\": \"default\", \"data\": {\"attributes\": {\"edges\": {\"3-4\": {\"color\": \"green\"}}}, \"animation\": {\"edges\": {\"3-4\": {\"**\": {\"type\": \"traverse\", \"data\": {\"source\": \"3\"}}}}}}}",
        "{\"type\": \"pause\", \"queue\": \"default\", \"data\": {\"duration\": 0.5}}",
        "{\"type\": \"update\", \"queue\": \"default\", \"data\": {\"attributes\": {\"nodes\": {\"4\": {\"color\": \"green\"}}}, \"animation\": {}}}",
        "{\"type\": \"highlight\", \"queue\": \"default\", \"data\": {\"attributes\": {\"nodes\": {\"4\": {\"size\": \"1.25x\"}}}, \"animation\": {\"**\": {\"linger\": 0.7}}}}",
        "{\"type\": \"pause\", \"queue\": \"default\", \"data\": {\"duration\": 0.5}}",
        "{\"type\": \"update\", \"queue\": \"default\", \"data\": {\"attributes\": {\"edges\": {\"4-5\": {\"color\": \"green\"}}}, \"animation\": {\"edges\": {\"4-5\": {\"**\": {\"type\": \"traverse\", \"data\": {\"source\": \"4\"}}}}}}}",
        "{\"type\": \"pause\", \"queue\": \"default\", \"data\": {\"duration\": 0.5}}",
        "{\"type\": \"update\", \"queue\": \"default\", \"data\": {\"attributes\": {\"nodes\": {\"5\": {\"color\": \"green\"}}}, \"animation\": {}}}",
        "{\"type\": \"highlight\", \"queue\": \"default\", \"data\": {\"attributes\": {\"nodes\": {\"5\": {\"size\": \"1.25x\"}}}, \"animation\": {\"**\": {\"linger\": 0.7}}}}",
        "{\"type\": \"pause\", \"queue\": \"default\", \"data\": {\"duration\": 0.5}}",
        "{\"type\": \"update\", \"queue\": \"default\", \"data\": {\"attributes\": {\"edges\": {\"5-6\": {\"color\": \"green\"}}}, \"animation\": {\"edges\": {\"5-6\": {\"**\": {\"type\": \"traverse\", \"data\": {\"source\": \"5\"}}}}}}}",
        "{\"type\": \"pause\", \"queue\": \"default\", \"data\": {\"duration\": 0.5}}",
        "{\"type\": \"update\", \"queue\": \"default\", \"data\": {\"attributes\": {\"nodes\": {\"6\": {\"color\": \"green\"}}}, \"animation\": {}}}",
        "{\"type\": \"highlight\", \"queue\": \"default\", \"data\": {\"attributes\": {\"nodes\": {\"6\": {\"size\": \"1.25x\"}}}, \"animation\": {\"**\": {\"linger\": 0.7}}}}",
        "{\"type\": \"pause\", \"queue\": \"default\", \"data\": {\"duration\": 0.5}}",
        "{\"type\": \"update\", \"queue\": \"default\", \"data\": {\"attributes\": {\"edges\": {\"6-7\": {\"color\": \"green\"}}}, \"animation\": {\"edges\": {\"6-7\": {\"**\": {\"type\": \"traverse\", \"data\": {\"source\": \"6\"}}}}}}}",
        "{\"type\": \"pause\", \"queue\": \"default\", \"data\": {\"duration\": 0.5}}",
        "{\"type\": \"update\", \"queue\": \"default\", \"data\": {\"attributes\": {\"nodes\": {\"7\": {\"color\": \"green\"}}}, \"animation\": {}}}",
        "{\"type\": \"highlight\", \"queue\": \"default\", \"data\": {\"attributes\": {\"nodes\": {\"7\": {\"size\": \"1.25x\"}}}, \"animation\": {\"**\": {\"linger\": 0.7}}}}",
        "{\"type\": \"pause\", \"queue\": \"default\", \"data\": {\"duration\": 0.5}}",
        "{\"type\": \"update\", \"queue\": \"default\", \"data\": {\"attributes\": {\"edges\": {\"7-8\": {\"color\": \"green\"}}}, \"animation\": {\"edges\": {\"7-8\": {\"**\": {\"type\": \"traverse\", \"data\": {\"source\": \"7\"}}}}}}}"
       ],
       "_model_module_version": "latest",
       "_show_buttons": true,
       "_view_module_version": "latest",
       "_view_name": "CanvasView",
       "layout": "IPY_MODEL_158166fe6c6c423cb247089371fb1435"
      }
     },
     "9e44d1e920f54b57b1c23b1dec5f0256": {
      "model_module": "@jupyter-widgets/base",
      "model_module_version": "1.1.0",
      "model_name": "LayoutModel",
      "state": {}
     },
     "9ec9b0d385e444c3afc0dde3b1202fb0": {
      "model_module": "algorithmx-jupyter",
      "model_module_version": "^1.0.0",
      "model_name": "CanvasModel",
      "state": {
       "_dispatch_events": [
        "{\"type\": \"update\", \"queue\": \"default\", \"data\": {\"attributes\": {\"zoomlimit\": [1, 1]}, \"animation\": {}}}",
        "{\"type\": \"update\", \"queue\": \"default\", \"data\": {\"attributes\": {\"nodes\": {\"1\": {\"visible\": true}, \"2\": {\"visible\": true}, \"3\": {\"visible\": true}, \"4\": {\"visible\": true}, \"5\": {\"visible\": true}, \"6\": {\"visible\": true}, \"7\": {\"visible\": true}}}, \"animation\": {}}}",
        "{\"type\": \"update\", \"queue\": \"default\", \"data\": {\"attributes\": {\"edges\": {\"1-2\": {\"visible\": true, \"source\": \"1\", \"target\": \"2\"}, \"2-3\": {\"visible\": true, \"source\": \"2\", \"target\": \"3\"}, \"3-4\": {\"visible\": true, \"source\": \"3\", \"target\": \"4\"}, \"4-5\": {\"visible\": true, \"source\": \"4\", \"target\": \"5\"}, \"5-6\": {\"visible\": true, \"source\": \"5\", \"target\": \"6\"}, \"6-7\": {\"visible\": true, \"source\": \"6\", \"target\": \"7\"}, \"1-3\": {\"visible\": true, \"source\": \"1\", \"target\": \"3\"}, \"2-4\": {\"visible\": true, \"source\": \"2\", \"target\": \"4\"}, \"2-7\": {\"visible\": true, \"source\": \"2\", \"target\": \"7\"}}}, \"animation\": {}}}",
        "{\"type\": \"pause\", \"queue\": \"default\", \"data\": {\"duration\": 0.5}}",
        "{\"type\": \"update\", \"queue\": \"default\", \"data\": {\"attributes\": {\"nodes\": {\"1\": {\"color\": \"green\"}}}, \"animation\": {}}}",
        "{\"type\": \"highlight\", \"queue\": \"default\", \"data\": {\"attributes\": {\"nodes\": {\"1\": {\"size\": \"1.2x\"}}}, \"animation\": {\"linger\": 0.7}}}",
        "{\"type\": \"pause\", \"queue\": \"default\", \"data\": {\"duration\": 0.5}}",
        "{\"type\": \"update\", \"queue\": \"default\", \"data\": {\"attributes\": {\"edges\": {\"1-2\": {\"color\": \"green\"}}}, \"animation\": {\"type\": \"traverse\"}}}",
        "{\"type\": \"pause\", \"queue\": \"default\", \"data\": {\"duration\": 0.5}}",
        "{\"type\": \"update\", \"queue\": \"default\", \"data\": {\"attributes\": {\"nodes\": {\"2\": {\"color\": \"green\"}}}, \"animation\": {}}}",
        "{\"type\": \"highlight\", \"queue\": \"default\", \"data\": {\"attributes\": {\"nodes\": {\"2\": {\"size\": \"1.2x\"}}}, \"animation\": {\"linger\": 0.7}}}",
        "{\"type\": \"pause\", \"queue\": \"default\", \"data\": {\"duration\": 0.5}}",
        "{\"type\": \"update\", \"queue\": \"default\", \"data\": {\"attributes\": {\"edges\": {\"2-3\": {\"color\": \"green\"}}}, \"animation\": {\"type\": \"traverse\"}}}",
        "{\"type\": \"pause\", \"queue\": \"default\", \"data\": {\"duration\": 0.5}}",
        "{\"type\": \"update\", \"queue\": \"default\", \"data\": {\"attributes\": {\"nodes\": {\"3\": {\"color\": \"green\"}}}, \"animation\": {}}}",
        "{\"type\": \"highlight\", \"queue\": \"default\", \"data\": {\"attributes\": {\"nodes\": {\"3\": {\"size\": \"1.2x\"}}}, \"animation\": {\"linger\": 0.7}}}",
        "{\"type\": \"pause\", \"queue\": \"default\", \"data\": {\"duration\": 0.5}}",
        "{\"type\": \"update\", \"queue\": \"default\", \"data\": {\"attributes\": {\"edges\": {\"3-4\": {\"color\": \"green\"}}}, \"animation\": {\"type\": \"traverse\"}}}",
        "{\"type\": \"pause\", \"queue\": \"default\", \"data\": {\"duration\": 0.5}}",
        "{\"type\": \"update\", \"queue\": \"default\", \"data\": {\"attributes\": {\"nodes\": {\"4\": {\"color\": \"green\"}}}, \"animation\": {}}}",
        "{\"type\": \"highlight\", \"queue\": \"default\", \"data\": {\"attributes\": {\"nodes\": {\"4\": {\"size\": \"1.2x\"}}}, \"animation\": {\"linger\": 0.7}}}",
        "{\"type\": \"pause\", \"queue\": \"default\", \"data\": {\"duration\": 0.5}}",
        "{\"type\": \"update\", \"queue\": \"default\", \"data\": {\"attributes\": {\"edges\": {\"4-5\": {\"color\": \"green\"}}}, \"animation\": {\"type\": \"traverse\"}}}",
        "{\"type\": \"pause\", \"queue\": \"default\", \"data\": {\"duration\": 0.5}}",
        "{\"type\": \"update\", \"queue\": \"default\", \"data\": {\"attributes\": {\"nodes\": {\"5\": {\"color\": \"green\"}}}, \"animation\": {}}}",
        "{\"type\": \"highlight\", \"queue\": \"default\", \"data\": {\"attributes\": {\"nodes\": {\"5\": {\"size\": \"1.2x\"}}}, \"animation\": {\"linger\": 0.7}}}",
        "{\"type\": \"pause\", \"queue\": \"default\", \"data\": {\"duration\": 0.5}}",
        "{\"type\": \"update\", \"queue\": \"default\", \"data\": {\"attributes\": {\"edges\": {\"5-6\": {\"color\": \"green\"}}}, \"animation\": {\"type\": \"traverse\"}}}",
        "{\"type\": \"pause\", \"queue\": \"default\", \"data\": {\"duration\": 0.5}}",
        "{\"type\": \"update\", \"queue\": \"default\", \"data\": {\"attributes\": {\"nodes\": {\"6\": {\"color\": \"green\"}}}, \"animation\": {}}}",
        "{\"type\": \"highlight\", \"queue\": \"default\", \"data\": {\"attributes\": {\"nodes\": {\"6\": {\"size\": \"1.2x\"}}}, \"animation\": {\"linger\": 0.7}}}",
        "{\"type\": \"pause\", \"queue\": \"default\", \"data\": {\"duration\": 0.5}}",
        "{\"type\": \"update\", \"queue\": \"default\", \"data\": {\"attributes\": {\"edges\": {\"6-7\": {\"color\": \"green\"}}}, \"animation\": {\"type\": \"traverse\"}}}",
        "{\"type\": \"pause\", \"queue\": \"default\", \"data\": {\"duration\": 0.5}}",
        "{\"type\": \"update\", \"queue\": \"default\", \"data\": {\"attributes\": {\"nodes\": {\"7\": {\"color\": \"green\"}}}, \"animation\": {}}}",
        "{\"type\": \"highlight\", \"queue\": \"default\", \"data\": {\"attributes\": {\"nodes\": {\"7\": {\"size\": \"1.2x\"}}}, \"animation\": {\"linger\": 0.7}}}",
        "{\"type\": \"pause\", \"queue\": \"default\", \"data\": {\"duration\": 0.5}}",
        "{\"type\": \"update\", \"queue\": \"default\", \"data\": {\"attributes\": {\"edges\": {\"7-8\": {\"color\": \"green\"}}}, \"animation\": {\"type\": \"traverse\"}}}"
       ],
       "_model_module_version": "^1.0.0",
       "_show_buttons": true,
       "_view_module_version": "^1.0.0",
       "_view_name": "CanvasView",
       "layout": "IPY_MODEL_961e6d2587ac4646b76749de36252a01"
      }
     },
     "9ee0866906ed47c396145674a517d849": {
      "model_module": "algorithmx-jupyter",
      "model_module_version": "^1.0.0",
      "model_name": "CanvasModel",
      "state": {
       "_dispatch_events": [
        "{\"type\": \"update\", \"queue\": \"default\", \"data\": {\"attributes\": {\"nodes\": {\"1\": {\"visible\": true}, \"2\": {\"visible\": true}, \"3\": {\"visible\": true}, \"4\": {\"visible\": true}, \"5\": {\"visible\": true}, \"6\": {\"visible\": true}, \"7\": {\"visible\": true}}}, \"animation\": {}}}",
        "{\"type\": \"update\", \"queue\": \"default\", \"data\": {\"attributes\": {\"edges\": {\"1-2\": {\"visible\": true, \"source\": \"1\", \"target\": \"2\"}, \"2-3\": {\"visible\": true, \"source\": \"2\", \"target\": \"3\"}, \"3-4\": {\"visible\": true, \"source\": \"3\", \"target\": \"4\"}, \"4-5\": {\"visible\": true, \"source\": \"4\", \"target\": \"5\"}, \"5-6\": {\"visible\": true, \"source\": \"5\", \"target\": \"6\"}, \"6-7\": {\"visible\": true, \"source\": \"6\", \"target\": \"7\"}, \"1-3\": {\"visible\": true, \"source\": \"1\", \"target\": \"3\"}, \"2-4\": {\"visible\": true, \"source\": \"2\", \"target\": \"4\"}, \"2-7\": {\"visible\": true, \"source\": \"2\", \"target\": \"7\"}}}, \"animation\": {}}}",
        "{\"type\": \"pause\", \"queue\": \"default\", \"data\": {\"duration\": 0.5}}",
        "{\"type\": \"update\", \"queue\": \"default\", \"data\": {\"attributes\": {\"nodes\": {\"1\": {\"color\": \"green\"}}}, \"animation\": {}}}",
        "{\"type\": \"highlight\", \"queue\": \"default\", \"data\": {\"attributes\": {\"nodes\": {\"1\": {\"size\": \"1.2x\"}}}, \"animation\": {\"linger\": 0.7}}}",
        "{\"type\": \"pause\", \"queue\": \"default\", \"data\": {\"duration\": 0.5}}",
        "{\"type\": \"update\", \"queue\": \"default\", \"data\": {\"attributes\": {\"edges\": {\"1-2\": {\"color\": \"green\"}}}, \"animation\": {\"type\": \"traverse\"}}}",
        "{\"type\": \"pause\", \"queue\": \"default\", \"data\": {\"duration\": 0.5}}",
        "{\"type\": \"update\", \"queue\": \"default\", \"data\": {\"attributes\": {\"nodes\": {\"2\": {\"color\": \"green\"}}}, \"animation\": {}}}",
        "{\"type\": \"highlight\", \"queue\": \"default\", \"data\": {\"attributes\": {\"nodes\": {\"2\": {\"size\": \"1.2x\"}}}, \"animation\": {\"linger\": 0.7}}}",
        "{\"type\": \"pause\", \"queue\": \"default\", \"data\": {\"duration\": 0.5}}",
        "{\"type\": \"update\", \"queue\": \"default\", \"data\": {\"attributes\": {\"edges\": {\"2-3\": {\"color\": \"green\"}}}, \"animation\": {\"type\": \"traverse\"}}}",
        "{\"type\": \"pause\", \"queue\": \"default\", \"data\": {\"duration\": 0.5}}",
        "{\"type\": \"update\", \"queue\": \"default\", \"data\": {\"attributes\": {\"nodes\": {\"3\": {\"color\": \"green\"}}}, \"animation\": {}}}",
        "{\"type\": \"highlight\", \"queue\": \"default\", \"data\": {\"attributes\": {\"nodes\": {\"3\": {\"size\": \"1.2x\"}}}, \"animation\": {\"linger\": 0.7}}}",
        "{\"type\": \"pause\", \"queue\": \"default\", \"data\": {\"duration\": 0.5}}",
        "{\"type\": \"update\", \"queue\": \"default\", \"data\": {\"attributes\": {\"edges\": {\"3-4\": {\"color\": \"green\"}}}, \"animation\": {\"type\": \"traverse\"}}}",
        "{\"type\": \"pause\", \"queue\": \"default\", \"data\": {\"duration\": 0.5}}",
        "{\"type\": \"update\", \"queue\": \"default\", \"data\": {\"attributes\": {\"nodes\": {\"4\": {\"color\": \"green\"}}}, \"animation\": {}}}",
        "{\"type\": \"highlight\", \"queue\": \"default\", \"data\": {\"attributes\": {\"nodes\": {\"4\": {\"size\": \"1.2x\"}}}, \"animation\": {\"linger\": 0.7}}}",
        "{\"type\": \"pause\", \"queue\": \"default\", \"data\": {\"duration\": 0.5}}",
        "{\"type\": \"update\", \"queue\": \"default\", \"data\": {\"attributes\": {\"edges\": {\"4-5\": {\"color\": \"green\"}}}, \"animation\": {\"type\": \"traverse\"}}}",
        "{\"type\": \"pause\", \"queue\": \"default\", \"data\": {\"duration\": 0.5}}",
        "{\"type\": \"update\", \"queue\": \"default\", \"data\": {\"attributes\": {\"nodes\": {\"5\": {\"color\": \"green\"}}}, \"animation\": {}}}",
        "{\"type\": \"highlight\", \"queue\": \"default\", \"data\": {\"attributes\": {\"nodes\": {\"5\": {\"size\": \"1.2x\"}}}, \"animation\": {\"linger\": 0.7}}}",
        "{\"type\": \"pause\", \"queue\": \"default\", \"data\": {\"duration\": 0.5}}",
        "{\"type\": \"update\", \"queue\": \"default\", \"data\": {\"attributes\": {\"edges\": {\"5-6\": {\"color\": \"green\"}}}, \"animation\": {\"type\": \"traverse\"}}}",
        "{\"type\": \"pause\", \"queue\": \"default\", \"data\": {\"duration\": 0.5}}",
        "{\"type\": \"update\", \"queue\": \"default\", \"data\": {\"attributes\": {\"nodes\": {\"6\": {\"color\": \"green\"}}}, \"animation\": {}}}",
        "{\"type\": \"highlight\", \"queue\": \"default\", \"data\": {\"attributes\": {\"nodes\": {\"6\": {\"size\": \"1.2x\"}}}, \"animation\": {\"linger\": 0.7}}}",
        "{\"type\": \"pause\", \"queue\": \"default\", \"data\": {\"duration\": 0.5}}",
        "{\"type\": \"update\", \"queue\": \"default\", \"data\": {\"attributes\": {\"edges\": {\"6-7\": {\"color\": \"green\"}}}, \"animation\": {\"type\": \"traverse\"}}}",
        "{\"type\": \"pause\", \"queue\": \"default\", \"data\": {\"duration\": 0.5}}",
        "{\"type\": \"update\", \"queue\": \"default\", \"data\": {\"attributes\": {\"nodes\": {\"7\": {\"color\": \"green\"}}}, \"animation\": {}}}",
        "{\"type\": \"highlight\", \"queue\": \"default\", \"data\": {\"attributes\": {\"nodes\": {\"7\": {\"size\": \"1.2x\"}}}, \"animation\": {\"linger\": 0.7}}}",
        "{\"type\": \"pause\", \"queue\": \"default\", \"data\": {\"duration\": 0.5}}",
        "{\"type\": \"update\", \"queue\": \"default\", \"data\": {\"attributes\": {\"edges\": {\"7-8\": {\"color\": \"green\"}}}, \"animation\": {\"type\": \"traverse\"}}}"
       ],
       "_model_module_version": "^1.0.0",
       "_show_buttons": true,
       "_view_module_version": "^1.0.0",
       "_view_name": "CanvasView",
       "layout": "IPY_MODEL_97a2d1ccaa4f4e9c84e330fb732e69a4"
      }
     },
     "9f4206fe7016427d8156bd60db3345c7": {
      "model_module": "algorithmx-jupyter",
      "model_module_version": "^1.0.0",
      "model_name": "CanvasModel",
      "state": {
       "_dispatch_events": [
        "{\"type\": \"update\", \"queue\": \"default\", \"data\": {\"attributes\": {\"nodes\": {\"1\": {\"visible\": true}, \"2\": {\"visible\": true}, \"3\": {\"visible\": true}, \"4\": {\"visible\": true}, \"5\": {\"visible\": true}, \"6\": {\"visible\": true}, \"7\": {\"visible\": true}}}, \"animation\": {}}}",
        "{\"type\": \"update\", \"queue\": \"default\", \"data\": {\"attributes\": {\"edges\": {\"1-2\": {\"visible\": true, \"source\": \"1\", \"target\": \"2\"}, \"2-3\": {\"visible\": true, \"source\": \"2\", \"target\": \"3\"}, \"3-4\": {\"visible\": true, \"source\": \"3\", \"target\": \"4\"}, \"4-5\": {\"visible\": true, \"source\": \"4\", \"target\": \"5\"}, \"5-6\": {\"visible\": true, \"source\": \"5\", \"target\": \"6\"}, \"6-7\": {\"visible\": true, \"source\": \"6\", \"target\": \"7\"}, \"1-3\": {\"visible\": true, \"source\": \"1\", \"target\": \"3\"}, \"2-4\": {\"visible\": true, \"source\": \"2\", \"target\": \"4\"}, \"2-7\": {\"visible\": true, \"source\": \"2\", \"target\": \"7\"}}}, \"animation\": {}}}",
        "{\"type\": \"pause\", \"queue\": \"default\", \"data\": {\"duration\": 0.5}}",
        "{\"type\": \"update\", \"queue\": \"default\", \"data\": {\"attributes\": {\"nodes\": {\"1\": {\"color\": \"green\"}}}, \"animation\": {}}}",
        "{\"type\": \"highlight\", \"queue\": \"default\", \"data\": {\"attributes\": {\"nodes\": {\"1\": {\"size\": \"1.2x\"}}}, \"animation\": {\"linger\": 0.7}}}",
        "{\"type\": \"pause\", \"queue\": \"default\", \"data\": {\"duration\": 0.5}}",
        "{\"type\": \"update\", \"queue\": \"default\", \"data\": {\"attributes\": {\"edges\": {\"1-2\": {\"color\": \"green\"}}}, \"animation\": {\"type\": \"traverse\"}}}",
        "{\"type\": \"pause\", \"queue\": \"default\", \"data\": {\"duration\": 0.5}}",
        "{\"type\": \"update\", \"queue\": \"default\", \"data\": {\"attributes\": {\"nodes\": {\"2\": {\"color\": \"green\"}}}, \"animation\": {}}}",
        "{\"type\": \"highlight\", \"queue\": \"default\", \"data\": {\"attributes\": {\"nodes\": {\"2\": {\"size\": \"1.2x\"}}}, \"animation\": {\"linger\": 0.7}}}",
        "{\"type\": \"pause\", \"queue\": \"default\", \"data\": {\"duration\": 0.5}}",
        "{\"type\": \"update\", \"queue\": \"default\", \"data\": {\"attributes\": {\"edges\": {\"2-3\": {\"color\": \"green\"}}}, \"animation\": {\"type\": \"traverse\"}}}",
        "{\"type\": \"pause\", \"queue\": \"default\", \"data\": {\"duration\": 0.5}}",
        "{\"type\": \"update\", \"queue\": \"default\", \"data\": {\"attributes\": {\"nodes\": {\"3\": {\"color\": \"green\"}}}, \"animation\": {}}}",
        "{\"type\": \"highlight\", \"queue\": \"default\", \"data\": {\"attributes\": {\"nodes\": {\"3\": {\"size\": \"1.2x\"}}}, \"animation\": {\"linger\": 0.7}}}",
        "{\"type\": \"pause\", \"queue\": \"default\", \"data\": {\"duration\": 0.5}}",
        "{\"type\": \"update\", \"queue\": \"default\", \"data\": {\"attributes\": {\"edges\": {\"3-4\": {\"color\": \"green\"}}}, \"animation\": {\"type\": \"traverse\"}}}",
        "{\"type\": \"pause\", \"queue\": \"default\", \"data\": {\"duration\": 0.5}}",
        "{\"type\": \"update\", \"queue\": \"default\", \"data\": {\"attributes\": {\"nodes\": {\"4\": {\"color\": \"green\"}}}, \"animation\": {}}}",
        "{\"type\": \"highlight\", \"queue\": \"default\", \"data\": {\"attributes\": {\"nodes\": {\"4\": {\"size\": \"1.2x\"}}}, \"animation\": {\"linger\": 0.7}}}",
        "{\"type\": \"pause\", \"queue\": \"default\", \"data\": {\"duration\": 0.5}}",
        "{\"type\": \"update\", \"queue\": \"default\", \"data\": {\"attributes\": {\"edges\": {\"4-5\": {\"color\": \"green\"}}}, \"animation\": {\"type\": \"traverse\"}}}",
        "{\"type\": \"pause\", \"queue\": \"default\", \"data\": {\"duration\": 0.5}}",
        "{\"type\": \"update\", \"queue\": \"default\", \"data\": {\"attributes\": {\"nodes\": {\"5\": {\"color\": \"green\"}}}, \"animation\": {}}}",
        "{\"type\": \"highlight\", \"queue\": \"default\", \"data\": {\"attributes\": {\"nodes\": {\"5\": {\"size\": \"1.2x\"}}}, \"animation\": {\"linger\": 0.7}}}",
        "{\"type\": \"pause\", \"queue\": \"default\", \"data\": {\"duration\": 0.5}}",
        "{\"type\": \"update\", \"queue\": \"default\", \"data\": {\"attributes\": {\"edges\": {\"5-6\": {\"color\": \"green\"}}}, \"animation\": {\"type\": \"traverse\"}}}",
        "{\"type\": \"pause\", \"queue\": \"default\", \"data\": {\"duration\": 0.5}}",
        "{\"type\": \"update\", \"queue\": \"default\", \"data\": {\"attributes\": {\"nodes\": {\"6\": {\"color\": \"green\"}}}, \"animation\": {}}}",
        "{\"type\": \"highlight\", \"queue\": \"default\", \"data\": {\"attributes\": {\"nodes\": {\"6\": {\"size\": \"1.2x\"}}}, \"animation\": {\"linger\": 0.7}}}",
        "{\"type\": \"pause\", \"queue\": \"default\", \"data\": {\"duration\": 0.5}}",
        "{\"type\": \"update\", \"queue\": \"default\", \"data\": {\"attributes\": {\"edges\": {\"6-7\": {\"color\": \"green\"}}}, \"animation\": {\"type\": \"traverse\"}}}",
        "{\"type\": \"pause\", \"queue\": \"default\", \"data\": {\"duration\": 0.5}}",
        "{\"type\": \"update\", \"queue\": \"default\", \"data\": {\"attributes\": {\"nodes\": {\"7\": {\"color\": \"green\"}}}, \"animation\": {}}}",
        "{\"type\": \"highlight\", \"queue\": \"default\", \"data\": {\"attributes\": {\"nodes\": {\"7\": {\"size\": \"1.2x\"}}}, \"animation\": {\"linger\": 0.7}}}",
        "{\"type\": \"pause\", \"queue\": \"default\", \"data\": {\"duration\": 0.5}}",
        "{\"type\": \"update\", \"queue\": \"default\", \"data\": {\"attributes\": {\"edges\": {\"7-8\": {\"color\": \"green\"}}}, \"animation\": {\"type\": \"traverse\"}}}"
       ],
       "_model_module_version": "^1.0.0",
       "_show_buttons": true,
       "_view_module_version": "^1.0.0",
       "_view_name": "CanvasView",
       "layout": "IPY_MODEL_825762ccac154d199f45aacb327e63a0"
      }
     },
     "9f7936b2387b4c9eb6522a15bfc262af": {
      "model_module": "@jupyter-widgets/base",
      "model_module_version": "1.1.0",
      "model_name": "LayoutModel",
      "state": {}
     },
     "a05894f22fac4afcbc5250eaad19cf58": {
      "model_module": "@jupyter-widgets/controls",
      "model_module_version": "1.4.0",
      "model_name": "ButtonStyleModel",
      "state": {}
     },
     "a36e5e1b1dee4561af8607028e4f2fa0": {
      "model_module": "@jupyter-widgets/base",
      "model_module_version": "1.1.0",
      "model_name": "LayoutModel",
      "state": {}
     },
     "a4022928c1874ddca90b8481fde3a4f4": {
      "model_module": "algorithmx-jupyter",
      "model_module_version": "^1.0.0",
      "model_name": "CanvasModel",
      "state": {
       "_dispatch_events": [
        "{\"type\": \"update\", \"queue\": \"default\", \"data\": {\"attributes\": {\"size\": [200, 200]}, \"animation\": {}}}",
        "{\"type\": \"update\", \"queue\": \"default\", \"data\": {\"attributes\": {\"nodes\": {\"1\": {\"visible\": true}, \"2\": {\"visible\": true}}}, \"animation\": {}}}",
        "{\"type\": \"update\", \"queue\": \"default\", \"data\": {\"attributes\": {\"edges\": {\"1-2\": {\"visible\": true, \"source\": \"1\", \"target\": \"2\"}}}, \"animation\": {}}}"
       ],
       "_model_module_version": "^1.0.0",
       "_view_module_version": "^1.0.0",
       "_view_name": "CanvasView",
       "layout": "IPY_MODEL_6f6a4023b6724dfeb7436740420b001f"
      }
     },
     "a40589eea410456ca864e0b7b7630c21": {
      "model_module": "algorithmx-jupyter",
      "model_module_version": "latest",
      "model_name": "CanvasModel",
      "state": {
       "_dispatch_events": [
        "{\"type\": \"update\", \"queue\": \"default\", \"data\": {\"attributes\": {\"size\": [300, 200]}, \"animation\": {}}}",
        "{\"type\": \"update\", \"queue\": \"default\", \"data\": {\"attributes\": {\"nodes\": {\"1\": {\"visible\": true}, \"2\": {\"visible\": true}}}, \"animation\": {}}}",
        "{\"type\": \"update\", \"queue\": \"default\", \"data\": {\"attributes\": {\"edges\": {\"1-2\": {\"visible\": true, \"source\": \"1\", \"target\": \"2\"}}}, \"animation\": {}}}"
       ],
       "_model_module_version": "latest",
       "_show_buttons": false,
       "_view_module_version": "latest",
       "_view_name": "CanvasView",
       "layout": "IPY_MODEL_d53a4e9d65ef484ca85822aefa96217d"
      }
     },
     "a4441657ab244821b8ecbe037574ebad": {
      "model_module": "@jupyter-widgets/controls",
      "model_module_version": "1.4.0",
      "model_name": "ButtonModel",
      "state": {
       "description": "Replay",
       "layout": "IPY_MODEL_51f181eaefcd4f148414f114b0862c8d",
       "style": "IPY_MODEL_012e26874b0e418f964d0bf6675778a5"
      }
     },
     "a5c5604ef67a4026a55d6ae1b3ea93ce": {
      "model_module": "algorithmx-jupyter",
      "model_module_version": "^1.0.0",
      "model_name": "CanvasModel",
      "state": {
       "_dispatch_events": [
        "{\"type\": \"update\", \"queue\": \"default\", \"data\": {\"attributes\": {\"size\": [300, 200]}, \"animation\": {\"duration\": 0}}}",
        "{\"type\": \"update\", \"queue\": \"default\", \"data\": {\"attributes\": {\"nodes\": {\"1\": {\"visible\": true}, \"2\": {\"visible\": true}}}, \"animation\": {}}}",
        "{\"type\": \"update\", \"queue\": \"default\", \"data\": {\"attributes\": {\"edges\": {\"1-2\": {\"visible\": true, \"source\": \"1\", \"target\": \"2\"}}}, \"animation\": {}}}",
        "{\"type\": \"pause\", \"queue\": \"default\", \"data\": {\"duration\": 0.5}}",
        "{\"type\": \"highlight\", \"queue\": \"default\", \"data\": {\"attributes\": {\"nodes\": {\"1\": {\"size\": \"1.5x\"}}}, \"animation\": {\"linger\": 1.0}}}",
        "{\"type\": \"pause\", \"queue\": \"default\", \"data\": {\"duration\": 0.5}}",
        "{\"type\": \"update\", \"queue\": \"default\", \"data\": {\"attributes\": {\"edges\": {\"1-2\": {\"color\": \"blue\"}}}, \"animation\": {\"type\": \"traverse\"}}}"
       ],
       "_model_module_version": "^1.0.0",
       "_show_buttons": true,
       "_view_module_version": "^1.0.0",
       "_view_name": "CanvasView",
       "layout": "IPY_MODEL_dcbd04644b1747f7bc645cf213ff1a34"
      }
     },
     "a6b560b922e544e5986826f0d1b190e4": {
      "model_module": "@jupyter-widgets/base",
      "model_module_version": "1.1.0",
      "model_name": "LayoutModel",
      "state": {}
     },
     "a835e3020e6848cc84154e41e962cad5": {
      "model_module": "@jupyter-widgets/base",
      "model_module_version": "1.1.0",
      "model_name": "LayoutModel",
      "state": {}
     },
     "a9cc60d70673454a9dd1875492912589": {
      "model_module": "algorithmx-jupyter",
      "model_module_version": "^1.0.0",
      "model_name": "CanvasModel",
      "state": {
       "_dispatch_events": [
        "{\"type\": \"cancel\", \"queue\": \"None\", \"data\": {\"queues\": null}}",
        "{\"type\": \"update\", \"queue\": \"default\", \"data\": {\"attributes\": {\"size\": [200, 200]}, \"animation\": {}}}",
        "{\"type\": \"update\", \"queue\": \"default\", \"data\": {\"attributes\": {\"nodes\": {\"1\": {\"visible\": true}, \"2\": {\"visible\": true}}}, \"animation\": {}}}",
        "{\"type\": \"update\", \"queue\": \"default\", \"data\": {\"attributes\": {\"edges\": {\"1-2\": {\"visible\": true, \"source\": \"1\", \"target\": \"2\"}}}, \"animation\": {}}}",
        "{\"type\": \"pause\", \"queue\": \"default\", \"data\": {\"duration\": 0.5}}",
        "{\"type\": \"highlight\", \"queue\": \"default\", \"data\": {\"attributes\": {\"nodes\": {\"1\": {\"size\": \"1.5x\"}}}, \"animation\": {}}}",
        "{\"type\": \"pause\", \"queue\": \"default\", \"data\": {\"duration\": 0.5}}",
        "{\"type\": \"update\", \"queue\": \"default\", \"data\": {\"attributes\": {\"edges\": {\"1-2\": {\"color\": \"blue\"}}}, \"animation\": {\"type\": \"traverse\"}}}"
       ],
       "_model_module_version": "^1.0.0",
       "_view_module_version": "^1.0.0",
       "_view_name": "CanvasView",
       "layout": "IPY_MODEL_d8cd2e960839469c94dd8d7350cf246f"
      }
     },
     "aa8fd3e8025048e6a4ac6d7f061af36b": {
      "model_module": "algorithmx-jupyter",
      "model_module_version": "^1.0.0",
      "model_name": "CanvasModel",
      "state": {
       "_dispatch_events": [
        "{\"type\": \"update\", \"queue\": \"default\", \"data\": {\"attributes\": {\"svgattr\": {\"stroke\": \"red\"}}, \"animation\": {}}}",
        "{\"type\": \"update\", \"queue\": \"default\", \"data\": {\"attributes\": {\"nodes\": {\"1\": {\"visible\": true}, \"2\": {\"visible\": true}}}, \"animation\": {}}}",
        "{\"type\": \"update\", \"queue\": \"default\", \"data\": {\"attributes\": {\"edges\": {\"1-2\": {\"visible\": true, \"source\": \"1\", \"target\": \"2\"}}}, \"animation\": {}}}"
       ],
       "_model_module_version": "^1.0.0",
       "_show_buttons": false,
       "_view_module_version": "^1.0.0",
       "_view_name": "CanvasView",
       "layout": "IPY_MODEL_4ff6c4e3d24f428b9dcd118490c93223"
      }
     },
     "abf3a6959950411fac62d3cf5c8093ec": {
      "model_module": "algorithmx-jupyter",
      "model_module_version": "^1.0.0",
      "model_name": "CanvasModel",
      "state": {
       "_dispatch_events": [
        "{\"type\": \"update\", \"queue\": \"default\", \"data\": {\"attributes\": {\"svgattr\": {\"border-right\": \"2px solid red\"}}, \"animation\": {}}}",
        "{\"type\": \"update\", \"queue\": \"default\", \"data\": {\"attributes\": {\"nodes\": {\"1\": {\"visible\": true}, \"2\": {\"visible\": true}}}, \"animation\": {}}}",
        "{\"type\": \"update\", \"queue\": \"default\", \"data\": {\"attributes\": {\"edges\": {\"1-2\": {\"visible\": true, \"source\": \"1\", \"target\": \"2\"}}}, \"animation\": {}}}"
       ],
       "_model_module_version": "^1.0.0",
       "_show_buttons": false,
       "_view_module_version": "^1.0.0",
       "_view_name": "CanvasView",
       "layout": "IPY_MODEL_6fe7a8d85d6c4fb99e3d3bef4b938262"
      }
     },
     "abfbf9071d034c98854b30be7ef07ee9": {
      "model_module": "@jupyter-widgets/base",
      "model_module_version": "1.1.0",
      "model_name": "LayoutModel",
      "state": {}
     },
     "ae88c17b27f74d30953bdcccceee3f98": {
      "model_module": "algorithmx-jupyter",
      "model_module_version": "^1.0.0",
      "model_name": "CanvasModel",
      "state": {
       "_dispatch_events": [
        "{\"type\": \"update\", \"queue\": \"default\", \"data\": {\"attributes\": {\"size\": [300, 200]}, \"animation\": {\"duration\": 0}}}",
        "{\"type\": \"update\", \"queue\": \"default\", \"data\": {\"attributes\": {\"nodes\": {\"1\": {\"visible\": true}, \"2\": {\"visible\": true}}}, \"animation\": {}}}",
        "{\"type\": \"update\", \"queue\": \"default\", \"data\": {\"attributes\": {\"edges\": {\"1-2\": {\"visible\": true, \"source\": \"1\", \"target\": \"2\"}}}, \"animation\": {}}}",
        "{\"type\": \"pause\", \"queue\": \"default\", \"data\": {\"duration\": 0.5}}",
        "{\"type\": \"highlight\", \"queue\": \"default\", \"data\": {\"attributes\": {\"nodes\": {\"1\": {\"size\": \"1.5x\"}}}, \"animation\": {\"linger\": 1.0}}}",
        "{\"type\": \"pause\", \"queue\": \"default\", \"data\": {\"duration\": 0.5}}",
        "{\"type\": \"update\", \"queue\": \"default\", \"data\": {\"attributes\": {\"edges\": {\"1-2\": {\"color\": \"blue\"}}}, \"animation\": {\"type\": \"traverse\"}}}"
       ],
       "_model_module_version": "^1.0.0",
       "_show_buttons": true,
       "_view_module_version": "^1.0.0",
       "_view_name": "CanvasView",
       "layout": "IPY_MODEL_7f24b29f7fad46169c9663bc4f24e72e"
      }
     },
     "ae8b06d6f1784e9eaeec8833218428a6": {
      "model_module": "@jupyter-widgets/base",
      "model_module_version": "1.1.0",
      "model_name": "LayoutModel",
      "state": {}
     },
     "ae8f710c697a46bca7ba8be2cc008fc5": {
      "model_module": "@jupyter-widgets/base",
      "model_module_version": "1.1.0",
      "model_name": "LayoutModel",
      "state": {}
     },
     "aec7a021c6014a80a4bfdf600389a00d": {
      "model_module": "@jupyter-widgets/base",
      "model_module_version": "1.1.0",
      "model_name": "LayoutModel",
      "state": {}
     },
     "b088c677567e4d76a72870ef528ae401": {
      "model_module": "@jupyter-widgets/controls",
      "model_module_version": "1.4.0",
      "model_name": "ButtonModel",
      "state": {
       "description": "Replay",
       "layout": "IPY_MODEL_ae8f710c697a46bca7ba8be2cc008fc5",
       "style": "IPY_MODEL_9b776b029e974dfaa69158ea37b2def0"
      }
     },
     "b0b02e1582b1450c9d93dfc21b3efce1": {
      "model_module": "@jupyter-widgets/base",
      "model_module_version": "1.1.0",
      "model_name": "LayoutModel",
      "state": {}
     },
     "b11b01511d1e414aaf8bd02c10e0ea58": {
      "model_module": "algorithmx-jupyter",
      "model_module_version": "^1.0.0",
      "model_name": "CanvasModel",
      "state": {
       "_dispatch_events": [
        "{\"type\": \"update\", \"queue\": \"default\", \"data\": {\"attributes\": {\"nodes\": {\"1\": {\"visible\": true}, \"2\": {\"visible\": true}}}, \"animation\": {}}}",
        "{\"type\": \"update\", \"queue\": \"default\", \"data\": {\"attributes\": {\"edges\": {\"1-2\": {\"visible\": true, \"source\": \"1\", \"target\": \"2\"}}}, \"animation\": {}}}"
       ],
       "_model_module_version": "^1.0.0",
       "_show_buttons": false,
       "_view_module_version": "^1.0.0",
       "_view_name": "CanvasView",
       "layout": "IPY_MODEL_59fd1c76cbc742cf8a481341d2de33f2"
      }
     },
     "b15db5fca86740328750c9c3855d27b9": {
      "model_module": "algorithmx-jupyter",
      "model_module_version": "^1.0.0",
      "model_name": "CanvasModel",
      "state": {
       "_dispatch_events": [
        "{\"type\": \"update\", \"queue\": \"default\", \"data\": {\"attributes\": {\"edgelengths\": \"individual\"}, \"animation\": {}}}",
        "{\"type\": \"update\", \"queue\": \"default\", \"data\": {\"attributes\": {\"nodes\": {\"center\": {\"visible\": true}}}, \"animation\": {}}}",
        "{\"type\": \"update\", \"queue\": \"default\", \"data\": {\"attributes\": {\"nodes\": {\"center\": {\"shape\": \"rect\"}}}, \"animation\": {\"duration\": 0}}}",
        "{\"type\": \"update\", \"queue\": \"default\", \"data\": {\"attributes\": {\"nodes\": {\"center\": {\"size\": [90, 50]}}}, \"animation\": {\"duration\": 0}}}",
        "{\"type\": \"update\", \"queue\": \"default\", \"data\": {\"attributes\": {\"nodes\": {\"center\": {\"labels\": {\"text\": {\"visible\": true}}}}}, \"animation\": {\"duration\": 0}}}",
        "{\"type\": \"update\", \"queue\": \"default\", \"data\": {\"attributes\": {\"nodes\": {\"center\": {\"labels\": {\"text\": {\"radius\": 0}}}}}, \"animation\": {\"duration\": 0}}}",
        "{\"type\": \"update\", \"queue\": \"default\", \"data\": {\"attributes\": {\"nodes\": {\"center\": {\"labels\": {\"text\": {\"size\": 12}}}}}, \"animation\": {\"duration\": 0}}}",
        "{\"type\": \"update\", \"queue\": \"default\", \"data\": {\"attributes\": {\"nodes\": {\"center\": {\"labels\": {\"text\": {\"align\": \"middle-left\"}}}}}, \"animation\": {\"duration\": 0}}}",
        "{\"type\": \"update\", \"queue\": \"default\", \"data\": {\"attributes\": {\"nodes\": {\"center\": {\"labels\": {\"text\": {\"pos\": [\"-0.5x\", 0]}}}}}, \"animation\": {\"duration\": 0}}}",
        "{\"type\": \"update\", \"queue\": \"default\", \"data\": {\"attributes\": {\"nodes\": {\"center\": {\"labels\": {\"text\": {\"color\": \"white\"}}}}}, \"animation\": {\"duration\": 0}}}",
        "{\"type\": \"update\", \"queue\": \"default\", \"data\": {\"attributes\": {\"nodes\": {\"center\": {\"labels\": {\"text\": {\"size\": 13}}}}}, \"animation\": {\"duration\": 0}}}",
        "{\"type\": \"update\", \"queue\": \"default\", \"data\": {\"attributes\": {\"nodes\": {\"center\": {\"labels\": {\"text\": {\"text\": \"A library for network\\nvisualization and\\nalgorithm simulation\"}}}}}, \"animation\": {\"duration\": 0}}}",
        "{\"type\": \"update\", \"queue\": \"default\", \"data\": {\"attributes\": {\"nodes\": {\"center\": {\"labels\": {\"value\": {\"align\": \"top-middle\"}}}}}, \"animation\": {\"duration\": 0}}}",
        "{\"type\": \"update\", \"queue\": \"default\", \"data\": {\"attributes\": {\"nodes\": {\"center\": {\"labels\": {\"value\": {\"rotate\": true}}}}}, \"animation\": {\"duration\": 0}}}",
        "{\"type\": \"update\", \"queue\": \"default\", \"data\": {\"attributes\": {\"nodes\": {\"center\": {\"labels\": {\"value\": {\"angle\": 0}}}}}, \"animation\": {\"duration\": 0}}}",
        "{\"type\": \"update\", \"queue\": \"default\", \"data\": {\"attributes\": {\"nodes\": {\"center\": {\"labels\": {\"value\": {\"pos\": [\"-0.8x\", 0]}}}}}, \"animation\": {\"duration\": 0}}}",
        "{\"type\": \"update\", \"queue\": \"default\", \"data\": {\"attributes\": {\"nodes\": {\"center\": {\"labels\": {\"value\": {\"size\": 15}}}}}, \"animation\": {\"duration\": 0}}}",
        "{\"type\": \"update\", \"queue\": \"default\", \"data\": {\"attributes\": {\"nodes\": {\"center\": {\"labels\": {\"value\": {\"text\": \"AlgorithmX\"}}}}}, \"animation\": {\"duration\": 0}}}",
        "{\"type\": \"update\", \"queue\": \"default\", \"data\": {\"attributes\": {\"nodes\": {\"r.1\": {\"visible\": true}, \"r.2\": {\"visible\": true}, \"r.3\": {\"visible\": true}, \"r.4\": {\"visible\": true}, \"r.5\": {\"visible\": true}, \"r.6\": {\"visible\": true}}}, \"animation\": {}}}",
        "{\"type\": \"update\", \"queue\": \"default\", \"data\": {\"attributes\": {\"nodes\": {\"r.1\": {\"labels\": {\"value\": {\"text\": 1}}}}}, \"animation\": {}}}",
        "{\"type\": \"update\", \"queue\": \"default\", \"data\": {\"attributes\": {\"edges\": {\"center-r.1\": {\"visible\": true, \"source\": \"r.1\", \"target\": \"center\"}}}, \"animation\": {}}}",
        "{\"type\": \"update\", \"queue\": \"default\", \"data\": {\"attributes\": {\"edges\": {\"center-r.1\": {\"length\": 130}}}, \"animation\": {\"duration\": 0}}}",
        "{\"type\": \"update\", \"queue\": \"default\", \"data\": {\"attributes\": {\"edges\": {\"center-r.1\": {\"directed\": true}}}, \"animation\": {\"duration\": 0}}}",
        "{\"type\": \"update\", \"queue\": \"default\", \"data\": {\"attributes\": {\"edges\": {\"r.1-r.2\": {\"visible\": true, \"source\": \"r.1\", \"target\": \"r.2\"}}}, \"animation\": {}}}",
        "{\"type\": \"update\", \"queue\": \"default\", \"data\": {\"attributes\": {\"edges\": {\"r.1-r.2\": {\"length\": 120}}}, \"animation\": {\"duration\": 0}}}",
        "{\"type\": \"update\", \"queue\": \"default\", \"data\": {\"attributes\": {\"nodes\": {\"r.2\": {\"labels\": {\"value\": {\"text\": 2}}}}}, \"animation\": {}}}",
        "{\"type\": \"update\", \"queue\": \"default\", \"data\": {\"attributes\": {\"edges\": {\"center-r.2\": {\"visible\": true, \"source\": \"r.2\", \"target\": \"center\"}}}, \"animation\": {}}}",
        "{\"type\": \"update\", \"queue\": \"default\", \"data\": {\"attributes\": {\"edges\": {\"center-r.2\": {\"length\": 130}}}, \"animation\": {\"duration\": 0}}}",
        "{\"type\": \"update\", \"queue\": \"default\", \"data\": {\"attributes\": {\"edges\": {\"center-r.2\": {\"directed\": true}}}, \"animation\": {\"duration\": 0}}}",
        "{\"type\": \"update\", \"queue\": \"default\", \"data\": {\"attributes\": {\"edges\": {\"r.2-r.3\": {\"visible\": true, \"source\": \"r.2\", \"target\": \"r.3\"}}}, \"animation\": {}}}",
        "{\"type\": \"update\", \"queue\": \"default\", \"data\": {\"attributes\": {\"edges\": {\"r.2-r.3\": {\"length\": 120}}}, \"animation\": {\"duration\": 0}}}",
        "{\"type\": \"update\", \"queue\": \"default\", \"data\": {\"attributes\": {\"nodes\": {\"r.3\": {\"labels\": {\"value\": {\"text\": 3}}}}}, \"animation\": {}}}",
        "{\"type\": \"update\", \"queue\": \"default\", \"data\": {\"attributes\": {\"edges\": {\"center-r.3\": {\"visible\": true, \"source\": \"r.3\", \"target\": \"center\"}}}, \"animation\": {}}}",
        "{\"type\": \"update\", \"queue\": \"default\", \"data\": {\"attributes\": {\"edges\": {\"center-r.3\": {\"length\": 130}}}, \"animation\": {\"duration\": 0}}}",
        "{\"type\": \"update\", \"queue\": \"default\", \"data\": {\"attributes\": {\"edges\": {\"center-r.3\": {\"directed\": true}}}, \"animation\": {\"duration\": 0}}}",
        "{\"type\": \"update\", \"queue\": \"default\", \"data\": {\"attributes\": {\"edges\": {\"r.3-r.4\": {\"visible\": true, \"source\": \"r.3\", \"target\": \"r.4\"}}}, \"animation\": {}}}",
        "{\"type\": \"update\", \"queue\": \"default\", \"data\": {\"attributes\": {\"edges\": {\"r.3-r.4\": {\"length\": 120}}}, \"animation\": {\"duration\": 0}}}",
        "{\"type\": \"update\", \"queue\": \"default\", \"data\": {\"attributes\": {\"nodes\": {\"r.4\": {\"labels\": {\"value\": {\"text\": 4}}}}}, \"animation\": {}}}",
        "{\"type\": \"update\", \"queue\": \"default\", \"data\": {\"attributes\": {\"edges\": {\"center-r.4\": {\"visible\": true, \"source\": \"r.4\", \"target\": \"center\"}}}, \"animation\": {}}}",
        "{\"type\": \"update\", \"queue\": \"default\", \"data\": {\"attributes\": {\"edges\": {\"center-r.4\": {\"length\": 130}}}, \"animation\": {\"duration\": 0}}}",
        "{\"type\": \"update\", \"queue\": \"default\", \"data\": {\"attributes\": {\"edges\": {\"center-r.4\": {\"directed\": true}}}, \"animation\": {\"duration\": 0}}}",
        "{\"type\": \"update\", \"queue\": \"default\", \"data\": {\"attributes\": {\"edges\": {\"r.4-r.5\": {\"visible\": true, \"source\": \"r.4\", \"target\": \"r.5\"}}}, \"animation\": {}}}",
        "{\"type\": \"update\", \"queue\": \"default\", \"data\": {\"attributes\": {\"edges\": {\"r.4-r.5\": {\"length\": 120}}}, \"animation\": {\"duration\": 0}}}",
        "{\"type\": \"update\", \"queue\": \"default\", \"data\": {\"attributes\": {\"nodes\": {\"r.5\": {\"labels\": {\"value\": {\"text\": 5}}}}}, \"animation\": {}}}",
        "{\"type\": \"update\", \"queue\": \"default\", \"data\": {\"attributes\": {\"edges\": {\"center-r.5\": {\"visible\": true, \"source\": \"r.5\", \"target\": \"center\"}}}, \"animation\": {}}}",
        "{\"type\": \"update\", \"queue\": \"default\", \"data\": {\"attributes\": {\"edges\": {\"center-r.5\": {\"length\": 130}}}, \"animation\": {\"duration\": 0}}}",
        "{\"type\": \"update\", \"queue\": \"default\", \"data\": {\"attributes\": {\"edges\": {\"center-r.5\": {\"directed\": true}}}, \"animation\": {\"duration\": 0}}}",
        "{\"type\": \"update\", \"queue\": \"default\", \"data\": {\"attributes\": {\"edges\": {\"r.5-r.6\": {\"visible\": true, \"source\": \"r.5\", \"target\": \"r.6\"}}}, \"animation\": {}}}",
        "{\"type\": \"update\", \"queue\": \"default\", \"data\": {\"attributes\": {\"edges\": {\"r.5-r.6\": {\"length\": 120}}}, \"animation\": {\"duration\": 0}}}",
        "{\"type\": \"update\", \"queue\": \"default\", \"data\": {\"attributes\": {\"nodes\": {\"r.6\": {\"labels\": {\"value\": {\"text\": 6}}}}}, \"animation\": {}}}",
        "{\"type\": \"update\", \"queue\": \"default\", \"data\": {\"attributes\": {\"edges\": {\"center-r.6\": {\"visible\": true, \"source\": \"r.6\", \"target\": \"center\"}}}, \"animation\": {}}}",
        "{\"type\": \"update\", \"queue\": \"default\", \"data\": {\"attributes\": {\"edges\": {\"center-r.6\": {\"length\": 130}}}, \"animation\": {\"duration\": 0}}}",
        "{\"type\": \"update\", \"queue\": \"default\", \"data\": {\"attributes\": {\"edges\": {\"center-r.6\": {\"directed\": true}}}, \"animation\": {\"duration\": 0}}}",
        "{\"type\": \"update\", \"queue\": \"default\", \"data\": {\"attributes\": {\"edges\": {\"r.1-r.6\": {\"visible\": true, \"source\": \"r.6\", \"target\": \"r.1\"}}}, \"animation\": {}}}",
        "{\"type\": \"update\", \"queue\": \"default\", \"data\": {\"attributes\": {\"edges\": {\"r.1-r.6\": {\"length\": 120}}}, \"animation\": {\"duration\": 0}}}",
        "{\"type\": \"update\", \"queue\": \"default\", \"data\": {\"attributes\": {\"nodes\": {\"r.1\": {\"color\": \"red\"}}}, \"animation\": {}}}",
        "{\"type\": \"update\", \"queue\": \"default\", \"data\": {\"attributes\": {\"nodes\": {\"r.2\": {\"color\": \"blue\"}}}, \"animation\": {}}}",
        "{\"type\": \"update\", \"queue\": \"default\", \"data\": {\"attributes\": {\"nodes\": {\"r.3\": {\"color\": \"green\"}}}, \"animation\": {}}}",
        "{\"type\": \"update\", \"queue\": \"default\", \"data\": {\"attributes\": {\"nodes\": {\"r.4\": {\"color\": \"orange\"}}}, \"animation\": {}}}",
        "{\"type\": \"update\", \"queue\": \"default\", \"data\": {\"attributes\": {\"nodes\": {\"r.5\": {\"color\": \"green\"}}}, \"animation\": {}}}",
        "{\"type\": \"update\", \"queue\": \"default\", \"data\": {\"attributes\": {\"nodes\": {\"r.6\": {\"color\": \"blue\"}}}, \"animation\": {}}}",
        "{\"type\": \"update\", \"queue\": \"default\", \"data\": {\"attributes\": {\"edges\": {\"r.6-r.6-1\": {\"visible\": true, \"source\": \"r.6\", \"target\": \"r.6\"}, \"r.6-r.6-2\": {\"visible\": true, \"source\": \"r.6\", \"target\": \"r.6\"}}}, \"animation\": {}}}",
        "{\"type\": \"update\", \"queue\": \"default\", \"data\": {\"attributes\": {\"nodes\": {\"D3\": {\"visible\": true}}}, \"animation\": {}}}",
        "{\"type\": \"update\", \"queue\": \"default\", \"data\": {\"attributes\": {\"nodes\": {\"D3\": {\"size\": 40}}}, \"animation\": {\"duration\": 0}}}",
        "{\"type\": \"update\", \"queue\": \"default\", \"data\": {\"attributes\": {\"nodes\": {\"D3\": {\"labels\": {\"value\": {\"text\": \"Rendered\\nwith D3\"}}}}}, \"animation\": {\"duration\": 0}}}",
        "{\"type\": \"update\", \"queue\": \"default\", \"data\": {\"attributes\": {\"edges\": {\"D3-r.1-1\": {\"visible\": true, \"source\": \"r.1\", \"target\": \"D3\"}, \"D3-r.1-2\": {\"visible\": true, \"source\": \"r.1\", \"target\": \"D3\"}, \"D3-r.1-3\": {\"visible\": true, \"source\": \"r.1\", \"target\": \"D3\"}, \"D3-r.1-4\": {\"visible\": true, \"source\": \"r.1\", \"target\": \"D3\"}, \"D3-r.1-5\": {\"visible\": true, \"source\": \"r.1\", \"target\": \"D3\"}}}, \"animation\": {}}}",
        "{\"type\": \"update\", \"queue\": \"default\", \"data\": {\"attributes\": {\"edges\": {\"D3-r.1-1\": {\"length\": 100}, \"D3-r.1-2\": {\"length\": 100}, \"D3-r.1-3\": {\"length\": 100}, \"D3-r.1-4\": {\"length\": 100}, \"D3-r.1-5\": {\"length\": 100}}}, \"animation\": {\"duration\": 0}}}",
        "{\"type\": \"update\", \"queue\": \"default\", \"data\": {\"attributes\": {\"nodes\": {\"cola\": {\"visible\": true}}}, \"animation\": {}}}",
        "{\"type\": \"update\", \"queue\": \"default\", \"data\": {\"attributes\": {\"nodes\": {\"cola\": {\"shape\": \"rect\"}}}, \"animation\": {\"duration\": 0}}}",
        "{\"type\": \"update\", \"queue\": \"default\", \"data\": {\"attributes\": {\"nodes\": {\"cola\": {\"size\": [40, 25]}}}, \"animation\": {\"duration\": 0}}}",
        "{\"type\": \"update\", \"queue\": \"default\", \"data\": {\"attributes\": {\"nodes\": {\"cola\": {\"labels\": {\"value\": {\"text\": \"Layout by\\nWebCola\"}}}}}, \"animation\": {\"duration\": 0}}}",
        "{\"type\": \"update\", \"queue\": \"default\", \"data\": {\"attributes\": {\"edges\": {\"cola-r.4\": {\"visible\": true, \"source\": \"r.4\", \"target\": \"cola\"}}}, \"animation\": {}}}",
        "{\"type\": \"update\", \"queue\": \"default\", \"data\": {\"attributes\": {\"edges\": {\"cola-r.4\": {\"path\": [[-5, 10], [5, -10]]}}}, \"animation\": {\"duration\": 0}}}",
        "{\"type\": \"update\", \"queue\": \"default\", \"data\": {\"attributes\": {\"edges\": {\"cola-r.4\": {\"length\": 100}}}, \"animation\": {\"duration\": 0}}}",
        "{\"type\": \"update\", \"queue\": \"default\", \"data\": {\"attributes\": {\"edges\": {\"cola-r.4\": {\"flip\": false}}}, \"animation\": {\"duration\": 0}}}",
        "{\"type\": \"update\", \"queue\": \"default\", \"data\": {\"attributes\": {\"nodes\": {\"clock\": {\"visible\": true}}}, \"animation\": {}}}",
        "{\"type\": \"update\", \"queue\": \"default\", \"data\": {\"attributes\": {\"nodes\": {\"clock\": {\"size\": 25}}}, \"animation\": {\"duration\": 0}}}",
        "{\"type\": \"update\", \"queue\": \"default\", \"data\": {\"attributes\": {\"nodes\": {\"clock\": {\"labels\": {\"value\": {\"text\": \"\\ud83d\\udd53\"}}}}}, \"animation\": {\"duration\": 0}}}",
        "{\"type\": \"update\", \"queue\": \"default\", \"data\": {\"attributes\": {\"nodes\": {\"clock\": {\"labels\": {\"value\": {\"size\": 18}}}}}, \"animation\": {\"duration\": 0}}}",
        "{\"type\": \"update\", \"queue\": \"default\", \"data\": {\"attributes\": {\"nodes\": {\"clock\": {\"labels\": {\"value\": {\"pos\": [0, -3]}}}}}, \"animation\": {\"duration\": 0}}}",
        "{\"type\": \"update\", \"queue\": \"default\", \"data\": {\"attributes\": {\"nodes\": {\"clock\": {\"labels\": {\"1\": {\"visible\": true}}}}}, \"animation\": {}}}",
        "{\"type\": \"update\", \"queue\": \"default\", \"data\": {\"attributes\": {\"nodes\": {\"clock\": {\"labels\": {\"1\": {\"radius\": \"r+5\"}}}}}, \"animation\": {\"duration\": 0}}}",
        "{\"type\": \"update\", \"queue\": \"default\", \"data\": {\"attributes\": {\"nodes\": {\"clock\": {\"labels\": {\"1\": {\"angle\": 60}}}}}, \"animation\": {\"duration\": 0}}}",
        "{\"type\": \"update\", \"queue\": \"default\", \"data\": {\"attributes\": {\"nodes\": {\"clock\": {\"labels\": {\"1\": {\"size\": 11}}}}}, \"animation\": {\"duration\": 0}}}",
        "{\"type\": \"update\", \"queue\": \"default\", \"data\": {\"attributes\": {\"nodes\": {\"clock\": {\"labels\": {\"1\": {\"rotate\": true}}}}}, \"animation\": {\"duration\": 0}}}",
        "{\"type\": \"update\", \"queue\": \"default\", \"data\": {\"attributes\": {\"nodes\": {\"clock\": {\"labels\": {\"2\": {\"visible\": true}}}}}, \"animation\": {}}}",
        "{\"type\": \"update\", \"queue\": \"default\", \"data\": {\"attributes\": {\"nodes\": {\"clock\": {\"labels\": {\"2\": {\"radius\": \"r+5\"}}}}}, \"animation\": {\"duration\": 0}}}",
        "{\"type\": \"update\", \"queue\": \"default\", \"data\": {\"attributes\": {\"nodes\": {\"clock\": {\"labels\": {\"2\": {\"angle\": 30}}}}}, \"animation\": {\"duration\": 0}}}",
        "{\"type\": \"update\", \"queue\": \"default\", \"data\": {\"attributes\": {\"nodes\": {\"clock\": {\"labels\": {\"2\": {\"size\": 11}}}}}, \"animation\": {\"duration\": 0}}}",
        "{\"type\": \"update\", \"queue\": \"default\", \"data\": {\"attributes\": {\"nodes\": {\"clock\": {\"labels\": {\"2\": {\"rotate\": true}}}}}, \"animation\": {\"duration\": 0}}}",
        "{\"type\": \"update\", \"queue\": \"default\", \"data\": {\"attributes\": {\"nodes\": {\"clock\": {\"labels\": {\"3\": {\"visible\": true}}}}}, \"animation\": {}}}",
        "{\"type\": \"update\", \"queue\": \"default\", \"data\": {\"attributes\": {\"nodes\": {\"clock\": {\"labels\": {\"3\": {\"radius\": \"r+5\"}}}}}, \"animation\": {\"duration\": 0}}}",
        "{\"type\": \"update\", \"queue\": \"default\", \"data\": {\"attributes\": {\"nodes\": {\"clock\": {\"labels\": {\"3\": {\"angle\": 0}}}}}, \"animation\": {\"duration\": 0}}}",
        "{\"type\": \"update\", \"queue\": \"default\", \"data\": {\"attributes\": {\"nodes\": {\"clock\": {\"labels\": {\"3\": {\"size\": 11}}}}}, \"animation\": {\"duration\": 0}}}",
        "{\"type\": \"update\", \"queue\": \"default\", \"data\": {\"attributes\": {\"nodes\": {\"clock\": {\"labels\": {\"3\": {\"rotate\": true}}}}}, \"animation\": {\"duration\": 0}}}",
        "{\"type\": \"update\", \"queue\": \"default\", \"data\": {\"attributes\": {\"nodes\": {\"clock\": {\"labels\": {\"4\": {\"visible\": true}}}}}, \"animation\": {}}}",
        "{\"type\": \"update\", \"queue\": \"default\", \"data\": {\"attributes\": {\"nodes\": {\"clock\": {\"labels\": {\"4\": {\"radius\": \"r+5\"}}}}}, \"animation\": {\"duration\": 0}}}",
        "{\"type\": \"update\", \"queue\": \"default\", \"data\": {\"attributes\": {\"nodes\": {\"clock\": {\"labels\": {\"4\": {\"angle\": -30}}}}}, \"animation\": {\"duration\": 0}}}",
        "{\"type\": \"update\", \"queue\": \"default\", \"data\": {\"attributes\": {\"nodes\": {\"clock\": {\"labels\": {\"4\": {\"size\": 11}}}}}, \"animation\": {\"duration\": 0}}}",
        "{\"type\": \"update\", \"queue\": \"default\", \"data\": {\"attributes\": {\"nodes\": {\"clock\": {\"labels\": {\"4\": {\"rotate\": true}}}}}, \"animation\": {\"duration\": 0}}}",
        "{\"type\": \"update\", \"queue\": \"default\", \"data\": {\"attributes\": {\"nodes\": {\"clock\": {\"labels\": {\"5\": {\"visible\": true}}}}}, \"animation\": {}}}",
        "{\"type\": \"update\", \"queue\": \"default\", \"data\": {\"attributes\": {\"nodes\": {\"clock\": {\"labels\": {\"5\": {\"radius\": \"r+5\"}}}}}, \"animation\": {\"duration\": 0}}}",
        "{\"type\": \"update\", \"queue\": \"default\", \"data\": {\"attributes\": {\"nodes\": {\"clock\": {\"labels\": {\"5\": {\"angle\": -60}}}}}, \"animation\": {\"duration\": 0}}}",
        "{\"type\": \"update\", \"queue\": \"default\", \"data\": {\"attributes\": {\"nodes\": {\"clock\": {\"labels\": {\"5\": {\"size\": 11}}}}}, \"animation\": {\"duration\": 0}}}",
        "{\"type\": \"update\", \"queue\": \"default\", \"data\": {\"attributes\": {\"nodes\": {\"clock\": {\"labels\": {\"5\": {\"rotate\": true}}}}}, \"animation\": {\"duration\": 0}}}",
        "{\"type\": \"update\", \"queue\": \"default\", \"data\": {\"attributes\": {\"nodes\": {\"clock\": {\"labels\": {\"6\": {\"visible\": true}}}}}, \"animation\": {}}}",
        "{\"type\": \"update\", \"queue\": \"default\", \"data\": {\"attributes\": {\"nodes\": {\"clock\": {\"labels\": {\"6\": {\"radius\": \"r+5\"}}}}}, \"animation\": {\"duration\": 0}}}",
        "{\"type\": \"update\", \"queue\": \"default\", \"data\": {\"attributes\": {\"nodes\": {\"clock\": {\"labels\": {\"6\": {\"angle\": -90}}}}}, \"animation\": {\"duration\": 0}}}",
        "{\"type\": \"update\", \"queue\": \"default\", \"data\": {\"attributes\": {\"nodes\": {\"clock\": {\"labels\": {\"6\": {\"size\": 11}}}}}, \"animation\": {\"duration\": 0}}}",
        "{\"type\": \"update\", \"queue\": \"default\", \"data\": {\"attributes\": {\"nodes\": {\"clock\": {\"labels\": {\"6\": {\"rotate\": true}}}}}, \"animation\": {\"duration\": 0}}}",
        "{\"type\": \"update\", \"queue\": \"default\", \"data\": {\"attributes\": {\"nodes\": {\"clock\": {\"labels\": {\"7\": {\"visible\": true}}}}}, \"animation\": {}}}",
        "{\"type\": \"update\", \"queue\": \"default\", \"data\": {\"attributes\": {\"nodes\": {\"clock\": {\"labels\": {\"7\": {\"radius\": \"r+5\"}}}}}, \"animation\": {\"duration\": 0}}}",
        "{\"type\": \"update\", \"queue\": \"default\", \"data\": {\"attributes\": {\"nodes\": {\"clock\": {\"labels\": {\"7\": {\"angle\": -120}}}}}, \"animation\": {\"duration\": 0}}}",
        "{\"type\": \"update\", \"queue\": \"default\", \"data\": {\"attributes\": {\"nodes\": {\"clock\": {\"labels\": {\"7\": {\"size\": 11}}}}}, \"animation\": {\"duration\": 0}}}",
        "{\"type\": \"update\", \"queue\": \"default\", \"data\": {\"attributes\": {\"nodes\": {\"clock\": {\"labels\": {\"7\": {\"rotate\": true}}}}}, \"animation\": {\"duration\": 0}}}",
        "{\"type\": \"update\", \"queue\": \"default\", \"data\": {\"attributes\": {\"nodes\": {\"clock\": {\"labels\": {\"8\": {\"visible\": true}}}}}, \"animation\": {}}}",
        "{\"type\": \"update\", \"queue\": \"default\", \"data\": {\"attributes\": {\"nodes\": {\"clock\": {\"labels\": {\"8\": {\"radius\": \"r+5\"}}}}}, \"animation\": {\"duration\": 0}}}",
        "{\"type\": \"update\", \"queue\": \"default\", \"data\": {\"attributes\": {\"nodes\": {\"clock\": {\"labels\": {\"8\": {\"angle\": -150}}}}}, \"animation\": {\"duration\": 0}}}",
        "{\"type\": \"update\", \"queue\": \"default\", \"data\": {\"attributes\": {\"nodes\": {\"clock\": {\"labels\": {\"8\": {\"size\": 11}}}}}, \"animation\": {\"duration\": 0}}}",
        "{\"type\": \"update\", \"queue\": \"default\", \"data\": {\"attributes\": {\"nodes\": {\"clock\": {\"labels\": {\"8\": {\"rotate\": true}}}}}, \"animation\": {\"duration\": 0}}}",
        "{\"type\": \"update\", \"queue\": \"default\", \"data\": {\"attributes\": {\"nodes\": {\"clock\": {\"labels\": {\"9\": {\"visible\": true}}}}}, \"animation\": {}}}",
        "{\"type\": \"update\", \"queue\": \"default\", \"data\": {\"attributes\": {\"nodes\": {\"clock\": {\"labels\": {\"9\": {\"radius\": \"r+5\"}}}}}, \"animation\": {\"duration\": 0}}}",
        "{\"type\": \"update\", \"queue\": \"default\", \"data\": {\"attributes\": {\"nodes\": {\"clock\": {\"labels\": {\"9\": {\"angle\": -180}}}}}, \"animation\": {\"duration\": 0}}}",
        "{\"type\": \"update\", \"queue\": \"default\", \"data\": {\"attributes\": {\"nodes\": {\"clock\": {\"labels\": {\"9\": {\"size\": 11}}}}}, \"animation\": {\"duration\": 0}}}",
        "{\"type\": \"update\", \"queue\": \"default\", \"data\": {\"attributes\": {\"nodes\": {\"clock\": {\"labels\": {\"9\": {\"rotate\": true}}}}}, \"animation\": {\"duration\": 0}}}",
        "{\"type\": \"update\", \"queue\": \"default\", \"data\": {\"attributes\": {\"nodes\": {\"clock\": {\"labels\": {\"10\": {\"visible\": true}}}}}, \"animation\": {}}}",
        "{\"type\": \"update\", \"queue\": \"default\", \"data\": {\"attributes\": {\"nodes\": {\"clock\": {\"labels\": {\"10\": {\"radius\": \"r+5\"}}}}}, \"animation\": {\"duration\": 0}}}",
        "{\"type\": \"update\", \"queue\": \"default\", \"data\": {\"attributes\": {\"nodes\": {\"clock\": {\"labels\": {\"10\": {\"angle\": -210}}}}}, \"animation\": {\"duration\": 0}}}",
        "{\"type\": \"update\", \"queue\": \"default\", \"data\": {\"attributes\": {\"nodes\": {\"clock\": {\"labels\": {\"10\": {\"size\": 11}}}}}, \"animation\": {\"duration\": 0}}}",
        "{\"type\": \"update\", \"queue\": \"default\", \"data\": {\"attributes\": {\"nodes\": {\"clock\": {\"labels\": {\"10\": {\"rotate\": true}}}}}, \"animation\": {\"duration\": 0}}}",
        "{\"type\": \"update\", \"queue\": \"default\", \"data\": {\"attributes\": {\"nodes\": {\"clock\": {\"labels\": {\"11\": {\"visible\": true}}}}}, \"animation\": {}}}",
        "{\"type\": \"update\", \"queue\": \"default\", \"data\": {\"attributes\": {\"nodes\": {\"clock\": {\"labels\": {\"11\": {\"radius\": \"r+5\"}}}}}, \"animation\": {\"duration\": 0}}}",
        "{\"type\": \"update\", \"queue\": \"default\", \"data\": {\"attributes\": {\"nodes\": {\"clock\": {\"labels\": {\"11\": {\"angle\": -240}}}}}, \"animation\": {\"duration\": 0}}}",
        "{\"type\": \"update\", \"queue\": \"default\", \"data\": {\"attributes\": {\"nodes\": {\"clock\": {\"labels\": {\"11\": {\"size\": 11}}}}}, \"animation\": {\"duration\": 0}}}",
        "{\"type\": \"update\", \"queue\": \"default\", \"data\": {\"attributes\": {\"nodes\": {\"clock\": {\"labels\": {\"11\": {\"rotate\": true}}}}}, \"animation\": {\"duration\": 0}}}",
        "{\"type\": \"update\", \"queue\": \"default\", \"data\": {\"attributes\": {\"nodes\": {\"clock\": {\"labels\": {\"12\": {\"visible\": true}}}}}, \"animation\": {}}}",
        "{\"type\": \"update\", \"queue\": \"default\", \"data\": {\"attributes\": {\"nodes\": {\"clock\": {\"labels\": {\"12\": {\"radius\": \"r+5\"}}}}}, \"animation\": {\"duration\": 0}}}",
        "{\"type\": \"update\", \"queue\": \"default\", \"data\": {\"attributes\": {\"nodes\": {\"clock\": {\"labels\": {\"12\": {\"angle\": -270}}}}}, \"animation\": {\"duration\": 0}}}",
        "{\"type\": \"update\", \"queue\": \"default\", \"data\": {\"attributes\": {\"nodes\": {\"clock\": {\"labels\": {\"12\": {\"size\": 11}}}}}, \"animation\": {\"duration\": 0}}}",
        "{\"type\": \"update\", \"queue\": \"default\", \"data\": {\"attributes\": {\"nodes\": {\"clock\": {\"labels\": {\"12\": {\"rotate\": true}}}}}, \"animation\": {\"duration\": 0}}}",
        "{\"type\": \"update\", \"queue\": \"default\", \"data\": {\"attributes\": {\"edges\": {\"clock-r.2\": {\"visible\": true, \"source\": \"r.2\", \"target\": \"clock\"}}}, \"animation\": {}}}",
        "{\"type\": \"update\", \"queue\": \"default\", \"data\": {\"attributes\": {\"nodes\": {\"g.1\": {\"visible\": true}, \"g.2\": {\"visible\": true}, \"g.3\": {\"visible\": true}, \"g.4\": {\"visible\": true}, \"g.5\": {\"visible\": true}, \"g.6\": {\"visible\": true}, \"g.8\": {\"visible\": true}, \"g.9\": {\"visible\": true}}}, \"animation\": {}}}",
        "{\"type\": \"update\", \"queue\": \"default\", \"data\": {\"attributes\": {\"nodes\": {\"g.1\": {\"pos\": [-50, -50]}, \"g.2\": {\"pos\": [-50, -50]}, \"g.3\": {\"pos\": [-50, -50]}, \"g.4\": {\"pos\": [-50, -50]}, \"g.5\": {\"pos\": [-50, -50]}, \"g.6\": {\"pos\": [-50, -50]}, \"g.8\": {\"pos\": [-50, -50]}, \"g.9\": {\"pos\": [-50, -50]}}}, \"animation\": {\"duration\": 0}}}",
        "{\"type\": \"update\", \"queue\": \"default\", \"data\": {\"attributes\": {\"nodes\": {\"g.1\": {\"labels\": {\"value\": null}}, \"g.2\": {\"labels\": {\"value\": null}}, \"g.3\": {\"labels\": {\"value\": null}}, \"g.4\": {\"labels\": {\"value\": null}}, \"g.5\": {\"labels\": {\"value\": null}}, \"g.6\": {\"labels\": {\"value\": null}}, \"g.8\": {\"labels\": {\"value\": null}}, \"g.9\": {\"labels\": {\"value\": null}}}}, \"animation\": {\"duration\": 0}}}",
        "{\"type\": \"update\", \"queue\": \"default\", \"data\": {\"attributes\": {\"edges\": {\"g.1-r.5\": {\"visible\": true, \"source\": \"g.1\", \"target\": \"r.5\"}}}, \"animation\": {}}}",
        "{\"type\": \"update\", \"queue\": \"default\", \"data\": {\"attributes\": {\"edges\": {\"g.2-r.4\": {\"visible\": true, \"source\": \"g.2\", \"target\": \"r.4\"}}}, \"animation\": {}}}",
        "{\"type\": \"update\", \"queue\": \"default\", \"data\": {\"attributes\": {\"edges\": {\"g.1-g.2\": {\"visible\": true, \"source\": \"g.1\", \"target\": \"g.2\"}, \"g.1-g.3\": {\"visible\": true, \"source\": \"g.1\", \"target\": \"g.3\"}, \"g.2-g.3\": {\"visible\": true, \"source\": \"g.3\", \"target\": \"g.2\"}, \"g.3-g.4\": {\"visible\": true, \"source\": \"g.3\", \"target\": \"g.4\"}, \"g.2-g.4\": {\"visible\": true, \"source\": \"g.4\", \"target\": \"g.2\"}, \"g.3-g.5\": {\"visible\": true, \"source\": \"g.5\", \"target\": \"g.3\"}, \"g.5-g.6\": {\"visible\": true, \"source\": \"g.6\", \"target\": \"g.5\"}, \"g.4-g.5\": {\"visible\": true, \"source\": \"g.5\", \"target\": \"g.4\"}, \"g.4-g.6\": {\"visible\": true, \"source\": \"g.6\", \"target\": \"g.4\"}, \"g.8-g.9\": {\"visible\": true, \"source\": \"g.8\", \"target\": \"g.9\"}, \"g.1-g.9\": {\"visible\": true, \"source\": \"g.9\", \"target\": \"g.1\"}, \"g.3-g.8\": {\"visible\": true, \"source\": \"g.3\", \"target\": \"g.8\"}, \"g.3-g.9\": {\"visible\": true, \"source\": \"g.3\", \"target\": \"g.9\"}}}, \"animation\": {}}}",
        "{\"type\": \"update\", \"queue\": \"default\", \"data\": {\"attributes\": {\"edges\": {\"g.1-g.2\": {\"labels\": {\"weight\": {\"visible\": true}}}, \"g.1-g.3\": {\"labels\": {\"weight\": {\"visible\": true}}}, \"g.2-g.3\": {\"labels\": {\"weight\": {\"visible\": true}}}, \"g.3-g.4\": {\"labels\": {\"weight\": {\"visible\": true}}}, \"g.2-g.4\": {\"labels\": {\"weight\": {\"visible\": true}}}, \"g.3-g.5\": {\"labels\": {\"weight\": {\"visible\": true}}}, \"g.5-g.6\": {\"labels\": {\"weight\": {\"visible\": true}}}, \"g.4-g.5\": {\"labels\": {\"weight\": {\"visible\": true}}}, \"g.4-g.6\": {\"labels\": {\"weight\": {\"visible\": true}}}, \"g.8-g.9\": {\"labels\": {\"weight\": {\"visible\": true}}}, \"g.1-g.9\": {\"labels\": {\"weight\": {\"visible\": true}}}, \"g.3-g.8\": {\"labels\": {\"weight\": {\"visible\": true}}}, \"g.3-g.9\": {\"labels\": {\"weight\": {\"visible\": true}}}}}, \"animation\": {\"duration\": 0}}}",
        "{\"type\": \"update\", \"queue\": \"default\", \"data\": {\"attributes\": {\"edges\": {\"g.1-g.2\": {\"labels\": {\"weight\": {\"text\": 6}}}, \"g.1-g.3\": {\"labels\": {\"weight\": {\"text\": 14}}}, \"g.2-g.3\": {\"labels\": {\"weight\": {\"text\": 10}}}, \"g.3-g.4\": {\"labels\": {\"weight\": {\"text\": 16}}}, \"g.2-g.4\": {\"labels\": {\"weight\": {\"text\": 6}}}, \"g.3-g.5\": {\"labels\": {\"weight\": {\"text\": 9}}}, \"g.5-g.6\": {\"labels\": {\"weight\": {\"text\": 18}}}, \"g.4-g.5\": {\"labels\": {\"weight\": {\"text\": 7}}}, \"g.4-g.6\": {\"labels\": {\"weight\": {\"text\": 9}}}, \"g.8-g.9\": {\"labels\": {\"weight\": {\"text\": 17}}}, \"g.1-g.9\": {\"labels\": {\"weight\": {\"text\": 6}}}, \"g.3-g.8\": {\"labels\": {\"weight\": {\"text\": 9}}}, \"g.3-g.9\": {\"labels\": {\"weight\": {\"text\": 19}}}}}, \"animation\": {\"duration\": 0}}}",
        "{\"type\": \"update\", \"queue\": \"default\", \"data\": {\"attributes\": {\"nodes\": {\"colorful\": {\"visible\": true}}}, \"animation\": {}}}",
        "{\"type\": \"update\", \"queue\": \"default\", \"data\": {\"attributes\": {\"nodes\": {\"colorful\": {\"shape\": \"rect\"}}}, \"animation\": {\"duration\": 0}}}",
        "{\"type\": \"update\", \"queue\": \"default\", \"data\": {\"attributes\": {\"nodes\": {\"colorful\": {\"size\": [30, 30]}}}, \"animation\": {\"duration\": 0}}}",
        "{\"type\": \"update\", \"queue\": \"default\", \"data\": {\"attributes\": {\"nodes\": {\"colorful\": {\"labels\": {\"value\": null}}}}, \"animation\": {\"duration\": 0}}}",
        "{\"type\": \"update\", \"queue\": \"default\", \"data\": {\"attributes\": {\"nodes\": {\"colorful\": {\"labels\": {\"green\": {\"visible\": true}}}}}, \"animation\": {\"duration\": 0}}}",
        "{\"type\": \"update\", \"queue\": \"default\", \"data\": {\"attributes\": {\"nodes\": {\"colorful\": {\"labels\": {\"green\": {\"radius\": 0}}}}}, \"animation\": {\"duration\": 0}}}",
        "{\"type\": \"update\", \"queue\": \"default\", \"data\": {\"attributes\": {\"nodes\": {\"colorful\": {\"labels\": {\"green\": {\"align\": \"middle\"}}}}}, \"animation\": {\"duration\": 0}}}",
        "{\"type\": \"update\", \"queue\": \"default\", \"data\": {\"attributes\": {\"nodes\": {\"colorful\": {\"labels\": {\"green\": {\"pos\": [0, \"0.5y\"]}}}}}, \"animation\": {\"duration\": 0}}}",
        "{\"type\": \"update\", \"queue\": \"default\", \"data\": {\"attributes\": {\"nodes\": {\"colorful\": {\"labels\": {\"green\": {\"text\": \"green\"}}}}}, \"animation\": {\"duration\": 0}}}",
        "{\"type\": \"update\", \"queue\": \"default\", \"data\": {\"attributes\": {\"nodes\": {\"colorful\": {\"labels\": {\"green\": {\"color\": \"green\"}}}}}, \"animation\": {\"duration\": 0}}}",
        "{\"type\": \"update\", \"queue\": \"default\", \"data\": {\"attributes\": {\"nodes\": {\"colorful\": {\"labels\": {\"yellow\": {\"visible\": true}}}}}, \"animation\": {\"duration\": 0}}}",
        "{\"type\": \"update\", \"queue\": \"default\", \"data\": {\"attributes\": {\"nodes\": {\"colorful\": {\"labels\": {\"yellow\": {\"radius\": 0}}}}}, \"animation\": {\"duration\": 0}}}",
        "{\"type\": \"update\", \"queue\": \"default\", \"data\": {\"attributes\": {\"nodes\": {\"colorful\": {\"labels\": {\"yellow\": {\"align\": \"middle\"}}}}}, \"animation\": {\"duration\": 0}}}",
        "{\"type\": \"update\", \"queue\": \"default\", \"data\": {\"attributes\": {\"nodes\": {\"colorful\": {\"labels\": {\"yellow\": {\"pos\": [0, 0]}}}}}, \"animation\": {\"duration\": 0}}}",
        "{\"type\": \"update\", \"queue\": \"default\", \"data\": {\"attributes\": {\"nodes\": {\"colorful\": {\"labels\": {\"yellow\": {\"text\": \"yellow\"}}}}}, \"animation\": {\"duration\": 0}}}",
        "{\"type\": \"update\", \"queue\": \"default\", \"data\": {\"attributes\": {\"nodes\": {\"colorful\": {\"labels\": {\"yellow\": {\"color\": \"yellow\"}}}}}, \"animation\": {\"duration\": 0}}}",
        "{\"type\": \"update\", \"queue\": \"default\", \"data\": {\"attributes\": {\"nodes\": {\"colorful\": {\"labels\": {\"pink\": {\"visible\": true}}}}}, \"animation\": {\"duration\": 0}}}",
        "{\"type\": \"update\", \"queue\": \"default\", \"data\": {\"attributes\": {\"nodes\": {\"colorful\": {\"labels\": {\"pink\": {\"radius\": 0}}}}}, \"animation\": {\"duration\": 0}}}",
        "{\"type\": \"update\", \"queue\": \"default\", \"data\": {\"attributes\": {\"nodes\": {\"colorful\": {\"labels\": {\"pink\": {\"align\": \"middle\"}}}}}, \"animation\": {\"duration\": 0}}}",
        "{\"type\": \"update\", \"queue\": \"default\", \"data\": {\"attributes\": {\"nodes\": {\"colorful\": {\"labels\": {\"pink\": {\"pos\": [0, \"-0.5y\"]}}}}}, \"animation\": {\"duration\": 0}}}",
        "{\"type\": \"update\", \"queue\": \"default\", \"data\": {\"attributes\": {\"nodes\": {\"colorful\": {\"labels\": {\"pink\": {\"text\": \"pink\"}}}}}, \"animation\": {\"duration\": 0}}}",
        "{\"type\": \"update\", \"queue\": \"default\", \"data\": {\"attributes\": {\"nodes\": {\"colorful\": {\"labels\": {\"pink\": {\"color\": \"pink\"}}}}}, \"animation\": {\"duration\": 0}}}",
        "{\"type\": \"update\", \"queue\": \"default\", \"data\": {\"attributes\": {\"nodes\": {\"colorful\": {\"labels\": {\"top-\\nleft\": {\"visible\": true}}}}}, \"animation\": {\"duration\": 0}}}",
        "{\"type\": \"update\", \"queue\": \"default\", \"data\": {\"attributes\": {\"nodes\": {\"colorful\": {\"labels\": {\"top-\\nleft\": {\"angle\": 135}}}}}, \"animation\": {\"duration\": 0}}}",
        "{\"type\": \"update\", \"queue\": \"default\", \"data\": {\"attributes\": {\"nodes\": {\"colorful\": {\"labels\": {\"top-\\nleft\": {\"rotate\": true}}}}}, \"animation\": {\"duration\": 0}}}",
        "{\"type\": \"update\", \"queue\": \"default\", \"data\": {\"attributes\": {\"nodes\": {\"colorful\": {\"labels\": {\"top-\\nleft\": {\"radius\": \"r+6\"}}}}}, \"animation\": {\"duration\": 0}}}",
        "{\"type\": \"update\", \"queue\": \"default\", \"data\": {\"attributes\": {\"nodes\": {\"colorful\": {\"labels\": {\"top-\\nright\": {\"visible\": true}}}}}, \"animation\": {\"duration\": 0}}}",
        "{\"type\": \"update\", \"queue\": \"default\", \"data\": {\"attributes\": {\"nodes\": {\"colorful\": {\"labels\": {\"top-\\nright\": {\"angle\": 45}}}}}, \"animation\": {\"duration\": 0}}}",
        "{\"type\": \"update\", \"queue\": \"default\", \"data\": {\"attributes\": {\"nodes\": {\"colorful\": {\"labels\": {\"top-\\nright\": {\"rotate\": true}}}}}, \"animation\": {\"duration\": 0}}}",
        "{\"type\": \"update\", \"queue\": \"default\", \"data\": {\"attributes\": {\"nodes\": {\"colorful\": {\"labels\": {\"top-\\nright\": {\"radius\": \"r+6\"}}}}}, \"animation\": {\"duration\": 0}}}",
        "{\"type\": \"update\", \"queue\": \"default\", \"data\": {\"attributes\": {\"nodes\": {\"colorful\": {\"labels\": {\"bottom-\\nright\": {\"visible\": true}}}}}, \"animation\": {\"duration\": 0}}}",
        "{\"type\": \"update\", \"queue\": \"default\", \"data\": {\"attributes\": {\"nodes\": {\"colorful\": {\"labels\": {\"bottom-\\nright\": {\"angle\": -45}}}}}, \"animation\": {\"duration\": 0}}}",
        "{\"type\": \"update\", \"queue\": \"default\", \"data\": {\"attributes\": {\"nodes\": {\"colorful\": {\"labels\": {\"bottom-\\nright\": {\"rotate\": true}}}}}, \"animation\": {\"duration\": 0}}}",
        "{\"type\": \"update\", \"queue\": \"default\", \"data\": {\"attributes\": {\"nodes\": {\"colorful\": {\"labels\": {\"bottom-\\nleft\": {\"visible\": true}}}}}, \"animation\": {\"duration\": 0}}}",
        "{\"type\": \"update\", \"queue\": \"default\", \"data\": {\"attributes\": {\"nodes\": {\"colorful\": {\"labels\": {\"bottom-\\nleft\": {\"angle\": 225}}}}}, \"animation\": {\"duration\": 0}}}",
        "{\"type\": \"update\", \"queue\": \"default\", \"data\": {\"attributes\": {\"nodes\": {\"colorful\": {\"labels\": {\"bottom-\\nleft\": {\"rotate\": true}}}}}, \"animation\": {\"duration\": 0}}}",
        "{\"type\": \"update\", \"queue\": \"default\", \"data\": {\"attributes\": {\"edges\": {\"colorful-r.3\": {\"visible\": true, \"source\": \"r.3\", \"target\": \"colorful\"}}}, \"animation\": {}}}",
        "{\"type\": \"update\", \"queue\": \"default\", \"data\": {\"attributes\": {\"edges\": {\"colorful-r.3\": {\"color\": \"green\"}}}, \"animation\": {\"duration\": 0}}}"
       ],
       "_model_module_version": "^1.0.0",
       "_show_buttons": true,
       "_view_module_version": "^1.0.0",
       "_view_name": "CanvasView",
       "layout": "IPY_MODEL_2324653c52a142c5b13423fef26b5c5b"
      }
     },
     "b2b72b5ba3a949df92f5ca98b686d32d": {
      "model_module": "@jupyter-widgets/base",
      "model_module_version": "1.1.0",
      "model_name": "LayoutModel",
      "state": {}
     },
     "b2dab582610548d99a03aee2afe7e46b": {
      "model_module": "algorithmx-jupyter",
      "model_module_version": "^1.0.0",
      "model_name": "CanvasModel",
      "state": {
       "_dispatch_events": [
        "{\"type\": \"update\", \"queue\": \"default\", \"data\": {\"attributes\": {\"size\": [200, 200]}, \"animation\": {}}}",
        "{\"type\": \"cancel\", \"queue\": \"None\", \"data\": {\"queues\": null}}",
        "{\"type\": \"update\", \"queue\": \"default\", \"data\": {\"attributes\": null, \"animation\": {}}}",
        "{\"type\": \"update\", \"queue\": \"default\", \"data\": {\"attributes\": {\"size\": [200, 200]}, \"animation\": {}}}",
        "{\"type\": \"update\", \"queue\": \"default\", \"data\": {\"attributes\": {\"nodes\": {\"1\": {\"visible\": true}, \"2\": {\"visible\": true}}}, \"animation\": {}}}",
        "{\"type\": \"update\", \"queue\": \"default\", \"data\": {\"attributes\": {\"edges\": {\"1-2\": {\"visible\": true, \"source\": \"1\", \"target\": \"2\"}}}, \"animation\": {}}}",
        "{\"type\": \"pause\", \"queue\": \"default\", \"data\": {\"duration\": 0.5}}",
        "{\"type\": \"highlight\", \"queue\": \"default\", \"data\": {\"attributes\": {\"nodes\": {\"1\": {\"size\": \"1.5x\"}}}, \"animation\": {}}}",
        "{\"type\": \"pause\", \"queue\": \"default\", \"data\": {\"duration\": 0.5}}",
        "{\"type\": \"update\", \"queue\": \"default\", \"data\": {\"attributes\": {\"edges\": {\"1-2\": {\"color\": \"blue\"}}}, \"animation\": {\"type\": \"traverse\"}}}"
       ],
       "_model_module_version": "^1.0.0",
       "_view_module_version": "^1.0.0",
       "_view_name": "CanvasView",
       "layout": "IPY_MODEL_132aa6432a914776bc30cd51a64d20d6"
      }
     },
     "b43ed109bf214c5ea3e79bee605dcfe9": {
      "model_module": "algorithmx-jupyter",
      "model_module_version": "^1.0.0",
      "model_name": "CanvasModel",
      "state": {
       "_dispatch_events": [
        "{\"type\": \"update\", \"queue\": \"default\", \"data\": {\"attributes\": {\"edgelengths\": \"individual\"}, \"animation\": {}}}",
        "{\"type\": \"update\", \"queue\": \"default\", \"data\": {\"attributes\": {\"nodes\": {\"center\": {\"visible\": true}}}, \"animation\": {}}}",
        "{\"type\": \"update\", \"queue\": \"default\", \"data\": {\"attributes\": {\"nodes\": {\"center\": {\"shape\": \"rect\"}}}, \"animation\": {\"duration\": 0}}}",
        "{\"type\": \"update\", \"queue\": \"default\", \"data\": {\"attributes\": {\"nodes\": {\"center\": {\"size\": [90, 50]}}}, \"animation\": {\"duration\": 0}}}",
        "{\"type\": \"update\", \"queue\": \"default\", \"data\": {\"attributes\": {\"nodes\": {\"center\": {\"labels\": {\"text\": {\"visible\": true}}}}}, \"animation\": {\"duration\": 0}}}",
        "{\"type\": \"update\", \"queue\": \"default\", \"data\": {\"attributes\": {\"nodes\": {\"center\": {\"labels\": {\"text\": {\"radius\": 0}}}}}, \"animation\": {\"duration\": 0}}}",
        "{\"type\": \"update\", \"queue\": \"default\", \"data\": {\"attributes\": {\"nodes\": {\"center\": {\"labels\": {\"text\": {\"size\": 12}}}}}, \"animation\": {\"duration\": 0}}}",
        "{\"type\": \"update\", \"queue\": \"default\", \"data\": {\"attributes\": {\"nodes\": {\"center\": {\"labels\": {\"text\": {\"align\": \"middle-left\"}}}}}, \"animation\": {\"duration\": 0}}}",
        "{\"type\": \"update\", \"queue\": \"default\", \"data\": {\"attributes\": {\"nodes\": {\"center\": {\"labels\": {\"text\": {\"pos\": [\"-0.5x\", 0]}}}}}, \"animation\": {\"duration\": 0}}}",
        "{\"type\": \"update\", \"queue\": \"default\", \"data\": {\"attributes\": {\"nodes\": {\"center\": {\"labels\": {\"text\": {\"color\": \"white\"}}}}}, \"animation\": {\"duration\": 0}}}",
        "{\"type\": \"update\", \"queue\": \"default\", \"data\": {\"attributes\": {\"nodes\": {\"center\": {\"labels\": {\"text\": {\"size\": 13}}}}}, \"animation\": {\"duration\": 0}}}",
        "{\"type\": \"update\", \"queue\": \"default\", \"data\": {\"attributes\": {\"nodes\": {\"center\": {\"labels\": {\"text\": {\"text\": \"A library for network\\nvisualization and\\nalgorithm simulation\"}}}}}, \"animation\": {\"duration\": 0}}}",
        "{\"type\": \"update\", \"queue\": \"default\", \"data\": {\"attributes\": {\"nodes\": {\"center\": {\"labels\": {\"value\": {\"align\": \"top-middle\"}}}}}, \"animation\": {\"duration\": 0}}}",
        "{\"type\": \"update\", \"queue\": \"default\", \"data\": {\"attributes\": {\"nodes\": {\"center\": {\"labels\": {\"value\": {\"rotate\": true}}}}}, \"animation\": {\"duration\": 0}}}",
        "{\"type\": \"update\", \"queue\": \"default\", \"data\": {\"attributes\": {\"nodes\": {\"center\": {\"labels\": {\"value\": {\"angle\": 0}}}}}, \"animation\": {\"duration\": 0}}}",
        "{\"type\": \"update\", \"queue\": \"default\", \"data\": {\"attributes\": {\"nodes\": {\"center\": {\"labels\": {\"value\": {\"pos\": [\"-0.8x\", 0]}}}}}, \"animation\": {\"duration\": 0}}}",
        "{\"type\": \"update\", \"queue\": \"default\", \"data\": {\"attributes\": {\"nodes\": {\"center\": {\"labels\": {\"value\": {\"size\": 15}}}}}, \"animation\": {\"duration\": 0}}}",
        "{\"type\": \"update\", \"queue\": \"default\", \"data\": {\"attributes\": {\"nodes\": {\"center\": {\"labels\": {\"value\": {\"text\": \"AlgorithmX\"}}}}}, \"animation\": {\"duration\": 0}}}",
        "{\"type\": \"update\", \"queue\": \"default\", \"data\": {\"attributes\": {\"nodes\": {\"r.1\": {\"visible\": true}, \"r.2\": {\"visible\": true}, \"r.3\": {\"visible\": true}, \"r.4\": {\"visible\": true}, \"r.5\": {\"visible\": true}, \"r.6\": {\"visible\": true}}}, \"animation\": {}}}",
        "{\"type\": \"update\", \"queue\": \"default\", \"data\": {\"attributes\": {\"nodes\": {\"r.1\": {\"labels\": {\"value\": {\"text\": 1}}}}}, \"animation\": {}}}",
        "{\"type\": \"update\", \"queue\": \"default\", \"data\": {\"attributes\": {\"edges\": {\"center-r.1\": {\"visible\": true, \"source\": \"r.1\", \"target\": \"center\"}}}, \"animation\": {}}}",
        "{\"type\": \"update\", \"queue\": \"default\", \"data\": {\"attributes\": {\"edges\": {\"center-r.1\": {\"length\": 130}}}, \"animation\": {\"duration\": 0}}}",
        "{\"type\": \"update\", \"queue\": \"default\", \"data\": {\"attributes\": {\"edges\": {\"center-r.1\": {\"directed\": true}}}, \"animation\": {\"duration\": 0}}}",
        "{\"type\": \"update\", \"queue\": \"default\", \"data\": {\"attributes\": {\"edges\": {\"r.1-r.2\": {\"visible\": true, \"source\": \"r.1\", \"target\": \"r.2\"}}}, \"animation\": {}}}",
        "{\"type\": \"update\", \"queue\": \"default\", \"data\": {\"attributes\": {\"edges\": {\"r.1-r.2\": {\"length\": 120}}}, \"animation\": {\"duration\": 0}}}",
        "{\"type\": \"update\", \"queue\": \"default\", \"data\": {\"attributes\": {\"nodes\": {\"r.2\": {\"labels\": {\"value\": {\"text\": 2}}}}}, \"animation\": {}}}",
        "{\"type\": \"update\", \"queue\": \"default\", \"data\": {\"attributes\": {\"edges\": {\"center-r.2\": {\"visible\": true, \"source\": \"r.2\", \"target\": \"center\"}}}, \"animation\": {}}}",
        "{\"type\": \"update\", \"queue\": \"default\", \"data\": {\"attributes\": {\"edges\": {\"center-r.2\": {\"length\": 130}}}, \"animation\": {\"duration\": 0}}}",
        "{\"type\": \"update\", \"queue\": \"default\", \"data\": {\"attributes\": {\"edges\": {\"center-r.2\": {\"directed\": true}}}, \"animation\": {\"duration\": 0}}}",
        "{\"type\": \"update\", \"queue\": \"default\", \"data\": {\"attributes\": {\"edges\": {\"r.2-r.3\": {\"visible\": true, \"source\": \"r.2\", \"target\": \"r.3\"}}}, \"animation\": {}}}",
        "{\"type\": \"update\", \"queue\": \"default\", \"data\": {\"attributes\": {\"edges\": {\"r.2-r.3\": {\"length\": 120}}}, \"animation\": {\"duration\": 0}}}",
        "{\"type\": \"update\", \"queue\": \"default\", \"data\": {\"attributes\": {\"nodes\": {\"r.3\": {\"labels\": {\"value\": {\"text\": 3}}}}}, \"animation\": {}}}",
        "{\"type\": \"update\", \"queue\": \"default\", \"data\": {\"attributes\": {\"edges\": {\"center-r.3\": {\"visible\": true, \"source\": \"r.3\", \"target\": \"center\"}}}, \"animation\": {}}}",
        "{\"type\": \"update\", \"queue\": \"default\", \"data\": {\"attributes\": {\"edges\": {\"center-r.3\": {\"length\": 130}}}, \"animation\": {\"duration\": 0}}}",
        "{\"type\": \"update\", \"queue\": \"default\", \"data\": {\"attributes\": {\"edges\": {\"center-r.3\": {\"directed\": true}}}, \"animation\": {\"duration\": 0}}}",
        "{\"type\": \"update\", \"queue\": \"default\", \"data\": {\"attributes\": {\"edges\": {\"r.3-r.4\": {\"visible\": true, \"source\": \"r.3\", \"target\": \"r.4\"}}}, \"animation\": {}}}",
        "{\"type\": \"update\", \"queue\": \"default\", \"data\": {\"attributes\": {\"edges\": {\"r.3-r.4\": {\"length\": 120}}}, \"animation\": {\"duration\": 0}}}",
        "{\"type\": \"update\", \"queue\": \"default\", \"data\": {\"attributes\": {\"nodes\": {\"r.4\": {\"labels\": {\"value\": {\"text\": 4}}}}}, \"animation\": {}}}",
        "{\"type\": \"update\", \"queue\": \"default\", \"data\": {\"attributes\": {\"edges\": {\"center-r.4\": {\"visible\": true, \"source\": \"r.4\", \"target\": \"center\"}}}, \"animation\": {}}}",
        "{\"type\": \"update\", \"queue\": \"default\", \"data\": {\"attributes\": {\"edges\": {\"center-r.4\": {\"length\": 130}}}, \"animation\": {\"duration\": 0}}}",
        "{\"type\": \"update\", \"queue\": \"default\", \"data\": {\"attributes\": {\"edges\": {\"center-r.4\": {\"directed\": true}}}, \"animation\": {\"duration\": 0}}}",
        "{\"type\": \"update\", \"queue\": \"default\", \"data\": {\"attributes\": {\"edges\": {\"r.4-r.5\": {\"visible\": true, \"source\": \"r.4\", \"target\": \"r.5\"}}}, \"animation\": {}}}",
        "{\"type\": \"update\", \"queue\": \"default\", \"data\": {\"attributes\": {\"edges\": {\"r.4-r.5\": {\"length\": 120}}}, \"animation\": {\"duration\": 0}}}",
        "{\"type\": \"update\", \"queue\": \"default\", \"data\": {\"attributes\": {\"nodes\": {\"r.5\": {\"labels\": {\"value\": {\"text\": 5}}}}}, \"animation\": {}}}",
        "{\"type\": \"update\", \"queue\": \"default\", \"data\": {\"attributes\": {\"edges\": {\"center-r.5\": {\"visible\": true, \"source\": \"r.5\", \"target\": \"center\"}}}, \"animation\": {}}}",
        "{\"type\": \"update\", \"queue\": \"default\", \"data\": {\"attributes\": {\"edges\": {\"center-r.5\": {\"length\": 130}}}, \"animation\": {\"duration\": 0}}}",
        "{\"type\": \"update\", \"queue\": \"default\", \"data\": {\"attributes\": {\"edges\": {\"center-r.5\": {\"directed\": true}}}, \"animation\": {\"duration\": 0}}}",
        "{\"type\": \"update\", \"queue\": \"default\", \"data\": {\"attributes\": {\"edges\": {\"r.5-r.6\": {\"visible\": true, \"source\": \"r.5\", \"target\": \"r.6\"}}}, \"animation\": {}}}",
        "{\"type\": \"update\", \"queue\": \"default\", \"data\": {\"attributes\": {\"edges\": {\"r.5-r.6\": {\"length\": 120}}}, \"animation\": {\"duration\": 0}}}",
        "{\"type\": \"update\", \"queue\": \"default\", \"data\": {\"attributes\": {\"nodes\": {\"r.6\": {\"labels\": {\"value\": {\"text\": 6}}}}}, \"animation\": {}}}",
        "{\"type\": \"update\", \"queue\": \"default\", \"data\": {\"attributes\": {\"edges\": {\"center-r.6\": {\"visible\": true, \"source\": \"r.6\", \"target\": \"center\"}}}, \"animation\": {}}}",
        "{\"type\": \"update\", \"queue\": \"default\", \"data\": {\"attributes\": {\"edges\": {\"center-r.6\": {\"length\": 130}}}, \"animation\": {\"duration\": 0}}}",
        "{\"type\": \"update\", \"queue\": \"default\", \"data\": {\"attributes\": {\"edges\": {\"center-r.6\": {\"directed\": true}}}, \"animation\": {\"duration\": 0}}}",
        "{\"type\": \"update\", \"queue\": \"default\", \"data\": {\"attributes\": {\"edges\": {\"r.1-r.6\": {\"visible\": true, \"source\": \"r.6\", \"target\": \"r.1\"}}}, \"animation\": {}}}",
        "{\"type\": \"update\", \"queue\": \"default\", \"data\": {\"attributes\": {\"edges\": {\"r.1-r.6\": {\"length\": 120}}}, \"animation\": {\"duration\": 0}}}",
        "{\"type\": \"update\", \"queue\": \"default\", \"data\": {\"attributes\": {\"nodes\": {\"r.1\": {\"color\": \"red\"}}}, \"animation\": {}}}",
        "{\"type\": \"update\", \"queue\": \"default\", \"data\": {\"attributes\": {\"nodes\": {\"r.2\": {\"color\": \"blue\"}}}, \"animation\": {}}}",
        "{\"type\": \"update\", \"queue\": \"default\", \"data\": {\"attributes\": {\"nodes\": {\"r.3\": {\"color\": \"green\"}}}, \"animation\": {}}}",
        "{\"type\": \"update\", \"queue\": \"default\", \"data\": {\"attributes\": {\"nodes\": {\"r.4\": {\"color\": \"orange\"}}}, \"animation\": {}}}",
        "{\"type\": \"update\", \"queue\": \"default\", \"data\": {\"attributes\": {\"nodes\": {\"r.5\": {\"color\": \"green\"}}}, \"animation\": {}}}",
        "{\"type\": \"update\", \"queue\": \"default\", \"data\": {\"attributes\": {\"nodes\": {\"r.6\": {\"color\": \"blue\"}}}, \"animation\": {}}}",
        "{\"type\": \"update\", \"queue\": \"default\", \"data\": {\"attributes\": {\"edges\": {\"r.6-r.6-1\": {\"visible\": true, \"source\": \"r.6\", \"target\": \"r.6\"}, \"r.6-r.6-2\": {\"visible\": true, \"source\": \"r.6\", \"target\": \"r.6\"}}}, \"animation\": {}}}",
        "{\"type\": \"update\", \"queue\": \"default\", \"data\": {\"attributes\": {\"nodes\": {\"D3\": {\"visible\": true}}}, \"animation\": {}}}",
        "{\"type\": \"update\", \"queue\": \"default\", \"data\": {\"attributes\": {\"nodes\": {\"D3\": {\"size\": 40}}}, \"animation\": {\"duration\": 0}}}",
        "{\"type\": \"update\", \"queue\": \"default\", \"data\": {\"attributes\": {\"nodes\": {\"D3\": {\"labels\": {\"value\": {\"text\": \"Rendered\\nwith D3\"}}}}}, \"animation\": {\"duration\": 0}}}",
        "{\"type\": \"update\", \"queue\": \"default\", \"data\": {\"attributes\": {\"edges\": {\"D3-r.1-1\": {\"visible\": true, \"source\": \"r.1\", \"target\": \"D3\"}, \"D3-r.1-2\": {\"visible\": true, \"source\": \"r.1\", \"target\": \"D3\"}, \"D3-r.1-3\": {\"visible\": true, \"source\": \"r.1\", \"target\": \"D3\"}, \"D3-r.1-4\": {\"visible\": true, \"source\": \"r.1\", \"target\": \"D3\"}, \"D3-r.1-5\": {\"visible\": true, \"source\": \"r.1\", \"target\": \"D3\"}}}, \"animation\": {}}}",
        "{\"type\": \"update\", \"queue\": \"default\", \"data\": {\"attributes\": {\"edges\": {\"D3-r.1-1\": {\"length\": 100}, \"D3-r.1-2\": {\"length\": 100}, \"D3-r.1-3\": {\"length\": 100}, \"D3-r.1-4\": {\"length\": 100}, \"D3-r.1-5\": {\"length\": 100}}}, \"animation\": {\"duration\": 0}}}",
        "{\"type\": \"update\", \"queue\": \"default\", \"data\": {\"attributes\": {\"nodes\": {\"cola\": {\"visible\": true}}}, \"animation\": {}}}",
        "{\"type\": \"update\", \"queue\": \"default\", \"data\": {\"attributes\": {\"nodes\": {\"cola\": {\"shape\": \"rect\"}}}, \"animation\": {\"duration\": 0}}}",
        "{\"type\": \"update\", \"queue\": \"default\", \"data\": {\"attributes\": {\"nodes\": {\"cola\": {\"size\": [40, 25]}}}, \"animation\": {\"duration\": 0}}}",
        "{\"type\": \"update\", \"queue\": \"default\", \"data\": {\"attributes\": {\"nodes\": {\"cola\": {\"labels\": {\"value\": {\"text\": \"Layout by\\nWebCola\"}}}}}, \"animation\": {\"duration\": 0}}}",
        "{\"type\": \"update\", \"queue\": \"default\", \"data\": {\"attributes\": {\"edges\": {\"cola-r.4\": {\"visible\": true, \"source\": \"r.4\", \"target\": \"cola\"}}}, \"animation\": {}}}",
        "{\"type\": \"update\", \"queue\": \"default\", \"data\": {\"attributes\": {\"edges\": {\"cola-r.4\": {\"path\": [[-5, 10], [5, -10]]}}}, \"animation\": {\"duration\": 0}}}",
        "{\"type\": \"update\", \"queue\": \"default\", \"data\": {\"attributes\": {\"edges\": {\"cola-r.4\": {\"length\": 100}}}, \"animation\": {\"duration\": 0}}}",
        "{\"type\": \"update\", \"queue\": \"default\", \"data\": {\"attributes\": {\"edges\": {\"cola-r.4\": {\"flip\": false}}}, \"animation\": {\"duration\": 0}}}",
        "{\"type\": \"update\", \"queue\": \"default\", \"data\": {\"attributes\": {\"nodes\": {\"clock\": {\"visible\": true}}}, \"animation\": {}}}",
        "{\"type\": \"update\", \"queue\": \"default\", \"data\": {\"attributes\": {\"nodes\": {\"clock\": {\"size\": 25}}}, \"animation\": {\"duration\": 0}}}",
        "{\"type\": \"update\", \"queue\": \"default\", \"data\": {\"attributes\": {\"nodes\": {\"clock\": {\"labels\": {\"value\": {\"text\": \"\\ud83d\\udd53\"}}}}}, \"animation\": {\"duration\": 0}}}",
        "{\"type\": \"update\", \"queue\": \"default\", \"data\": {\"attributes\": {\"nodes\": {\"clock\": {\"labels\": {\"value\": {\"size\": 18}}}}}, \"animation\": {\"duration\": 0}}}",
        "{\"type\": \"update\", \"queue\": \"default\", \"data\": {\"attributes\": {\"nodes\": {\"clock\": {\"labels\": {\"value\": {\"pos\": [0, -3]}}}}}, \"animation\": {\"duration\": 0}}}",
        "{\"type\": \"update\", \"queue\": \"default\", \"data\": {\"attributes\": {\"nodes\": {\"clock\": {\"labels\": {\"1\": {\"visible\": true}}}}}, \"animation\": {}}}",
        "{\"type\": \"update\", \"queue\": \"default\", \"data\": {\"attributes\": {\"nodes\": {\"clock\": {\"labels\": {\"1\": {\"radius\": \"r+5\"}}}}}, \"animation\": {\"duration\": 0}}}",
        "{\"type\": \"update\", \"queue\": \"default\", \"data\": {\"attributes\": {\"nodes\": {\"clock\": {\"labels\": {\"1\": {\"angle\": 60}}}}}, \"animation\": {\"duration\": 0}}}",
        "{\"type\": \"update\", \"queue\": \"default\", \"data\": {\"attributes\": {\"nodes\": {\"clock\": {\"labels\": {\"1\": {\"size\": 11}}}}}, \"animation\": {\"duration\": 0}}}",
        "{\"type\": \"update\", \"queue\": \"default\", \"data\": {\"attributes\": {\"nodes\": {\"clock\": {\"labels\": {\"1\": {\"rotate\": true}}}}}, \"animation\": {\"duration\": 0}}}",
        "{\"type\": \"update\", \"queue\": \"default\", \"data\": {\"attributes\": {\"nodes\": {\"clock\": {\"labels\": {\"2\": {\"visible\": true}}}}}, \"animation\": {}}}",
        "{\"type\": \"update\", \"queue\": \"default\", \"data\": {\"attributes\": {\"nodes\": {\"clock\": {\"labels\": {\"2\": {\"radius\": \"r+5\"}}}}}, \"animation\": {\"duration\": 0}}}",
        "{\"type\": \"update\", \"queue\": \"default\", \"data\": {\"attributes\": {\"nodes\": {\"clock\": {\"labels\": {\"2\": {\"angle\": 30}}}}}, \"animation\": {\"duration\": 0}}}",
        "{\"type\": \"update\", \"queue\": \"default\", \"data\": {\"attributes\": {\"nodes\": {\"clock\": {\"labels\": {\"2\": {\"size\": 11}}}}}, \"animation\": {\"duration\": 0}}}",
        "{\"type\": \"update\", \"queue\": \"default\", \"data\": {\"attributes\": {\"nodes\": {\"clock\": {\"labels\": {\"2\": {\"rotate\": true}}}}}, \"animation\": {\"duration\": 0}}}",
        "{\"type\": \"update\", \"queue\": \"default\", \"data\": {\"attributes\": {\"nodes\": {\"clock\": {\"labels\": {\"3\": {\"visible\": true}}}}}, \"animation\": {}}}",
        "{\"type\": \"update\", \"queue\": \"default\", \"data\": {\"attributes\": {\"nodes\": {\"clock\": {\"labels\": {\"3\": {\"radius\": \"r+5\"}}}}}, \"animation\": {\"duration\": 0}}}",
        "{\"type\": \"update\", \"queue\": \"default\", \"data\": {\"attributes\": {\"nodes\": {\"clock\": {\"labels\": {\"3\": {\"angle\": 0}}}}}, \"animation\": {\"duration\": 0}}}",
        "{\"type\": \"update\", \"queue\": \"default\", \"data\": {\"attributes\": {\"nodes\": {\"clock\": {\"labels\": {\"3\": {\"size\": 11}}}}}, \"animation\": {\"duration\": 0}}}",
        "{\"type\": \"update\", \"queue\": \"default\", \"data\": {\"attributes\": {\"nodes\": {\"clock\": {\"labels\": {\"3\": {\"rotate\": true}}}}}, \"animation\": {\"duration\": 0}}}",
        "{\"type\": \"update\", \"queue\": \"default\", \"data\": {\"attributes\": {\"nodes\": {\"clock\": {\"labels\": {\"4\": {\"visible\": true}}}}}, \"animation\": {}}}",
        "{\"type\": \"update\", \"queue\": \"default\", \"data\": {\"attributes\": {\"nodes\": {\"clock\": {\"labels\": {\"4\": {\"radius\": \"r+5\"}}}}}, \"animation\": {\"duration\": 0}}}",
        "{\"type\": \"update\", \"queue\": \"default\", \"data\": {\"attributes\": {\"nodes\": {\"clock\": {\"labels\": {\"4\": {\"angle\": -30}}}}}, \"animation\": {\"duration\": 0}}}",
        "{\"type\": \"update\", \"queue\": \"default\", \"data\": {\"attributes\": {\"nodes\": {\"clock\": {\"labels\": {\"4\": {\"size\": 11}}}}}, \"animation\": {\"duration\": 0}}}",
        "{\"type\": \"update\", \"queue\": \"default\", \"data\": {\"attributes\": {\"nodes\": {\"clock\": {\"labels\": {\"4\": {\"rotate\": true}}}}}, \"animation\": {\"duration\": 0}}}",
        "{\"type\": \"update\", \"queue\": \"default\", \"data\": {\"attributes\": {\"nodes\": {\"clock\": {\"labels\": {\"5\": {\"visible\": true}}}}}, \"animation\": {}}}",
        "{\"type\": \"update\", \"queue\": \"default\", \"data\": {\"attributes\": {\"nodes\": {\"clock\": {\"labels\": {\"5\": {\"radius\": \"r+5\"}}}}}, \"animation\": {\"duration\": 0}}}",
        "{\"type\": \"update\", \"queue\": \"default\", \"data\": {\"attributes\": {\"nodes\": {\"clock\": {\"labels\": {\"5\": {\"angle\": -60}}}}}, \"animation\": {\"duration\": 0}}}",
        "{\"type\": \"update\", \"queue\": \"default\", \"data\": {\"attributes\": {\"nodes\": {\"clock\": {\"labels\": {\"5\": {\"size\": 11}}}}}, \"animation\": {\"duration\": 0}}}",
        "{\"type\": \"update\", \"queue\": \"default\", \"data\": {\"attributes\": {\"nodes\": {\"clock\": {\"labels\": {\"5\": {\"rotate\": true}}}}}, \"animation\": {\"duration\": 0}}}",
        "{\"type\": \"update\", \"queue\": \"default\", \"data\": {\"attributes\": {\"nodes\": {\"clock\": {\"labels\": {\"6\": {\"visible\": true}}}}}, \"animation\": {}}}",
        "{\"type\": \"update\", \"queue\": \"default\", \"data\": {\"attributes\": {\"nodes\": {\"clock\": {\"labels\": {\"6\": {\"radius\": \"r+5\"}}}}}, \"animation\": {\"duration\": 0}}}",
        "{\"type\": \"update\", \"queue\": \"default\", \"data\": {\"attributes\": {\"nodes\": {\"clock\": {\"labels\": {\"6\": {\"angle\": -90}}}}}, \"animation\": {\"duration\": 0}}}",
        "{\"type\": \"update\", \"queue\": \"default\", \"data\": {\"attributes\": {\"nodes\": {\"clock\": {\"labels\": {\"6\": {\"size\": 11}}}}}, \"animation\": {\"duration\": 0}}}",
        "{\"type\": \"update\", \"queue\": \"default\", \"data\": {\"attributes\": {\"nodes\": {\"clock\": {\"labels\": {\"6\": {\"rotate\": true}}}}}, \"animation\": {\"duration\": 0}}}",
        "{\"type\": \"update\", \"queue\": \"default\", \"data\": {\"attributes\": {\"nodes\": {\"clock\": {\"labels\": {\"7\": {\"visible\": true}}}}}, \"animation\": {}}}",
        "{\"type\": \"update\", \"queue\": \"default\", \"data\": {\"attributes\": {\"nodes\": {\"clock\": {\"labels\": {\"7\": {\"radius\": \"r+5\"}}}}}, \"animation\": {\"duration\": 0}}}",
        "{\"type\": \"update\", \"queue\": \"default\", \"data\": {\"attributes\": {\"nodes\": {\"clock\": {\"labels\": {\"7\": {\"angle\": -120}}}}}, \"animation\": {\"duration\": 0}}}",
        "{\"type\": \"update\", \"queue\": \"default\", \"data\": {\"attributes\": {\"nodes\": {\"clock\": {\"labels\": {\"7\": {\"size\": 11}}}}}, \"animation\": {\"duration\": 0}}}",
        "{\"type\": \"update\", \"queue\": \"default\", \"data\": {\"attributes\": {\"nodes\": {\"clock\": {\"labels\": {\"7\": {\"rotate\": true}}}}}, \"animation\": {\"duration\": 0}}}",
        "{\"type\": \"update\", \"queue\": \"default\", \"data\": {\"attributes\": {\"nodes\": {\"clock\": {\"labels\": {\"8\": {\"visible\": true}}}}}, \"animation\": {}}}",
        "{\"type\": \"update\", \"queue\": \"default\", \"data\": {\"attributes\": {\"nodes\": {\"clock\": {\"labels\": {\"8\": {\"radius\": \"r+5\"}}}}}, \"animation\": {\"duration\": 0}}}",
        "{\"type\": \"update\", \"queue\": \"default\", \"data\": {\"attributes\": {\"nodes\": {\"clock\": {\"labels\": {\"8\": {\"angle\": -150}}}}}, \"animation\": {\"duration\": 0}}}",
        "{\"type\": \"update\", \"queue\": \"default\", \"data\": {\"attributes\": {\"nodes\": {\"clock\": {\"labels\": {\"8\": {\"size\": 11}}}}}, \"animation\": {\"duration\": 0}}}",
        "{\"type\": \"update\", \"queue\": \"default\", \"data\": {\"attributes\": {\"nodes\": {\"clock\": {\"labels\": {\"8\": {\"rotate\": true}}}}}, \"animation\": {\"duration\": 0}}}",
        "{\"type\": \"update\", \"queue\": \"default\", \"data\": {\"attributes\": {\"nodes\": {\"clock\": {\"labels\": {\"9\": {\"visible\": true}}}}}, \"animation\": {}}}",
        "{\"type\": \"update\", \"queue\": \"default\", \"data\": {\"attributes\": {\"nodes\": {\"clock\": {\"labels\": {\"9\": {\"radius\": \"r+5\"}}}}}, \"animation\": {\"duration\": 0}}}",
        "{\"type\": \"update\", \"queue\": \"default\", \"data\": {\"attributes\": {\"nodes\": {\"clock\": {\"labels\": {\"9\": {\"angle\": -180}}}}}, \"animation\": {\"duration\": 0}}}",
        "{\"type\": \"update\", \"queue\": \"default\", \"data\": {\"attributes\": {\"nodes\": {\"clock\": {\"labels\": {\"9\": {\"size\": 11}}}}}, \"animation\": {\"duration\": 0}}}",
        "{\"type\": \"update\", \"queue\": \"default\", \"data\": {\"attributes\": {\"nodes\": {\"clock\": {\"labels\": {\"9\": {\"rotate\": true}}}}}, \"animation\": {\"duration\": 0}}}",
        "{\"type\": \"update\", \"queue\": \"default\", \"data\": {\"attributes\": {\"nodes\": {\"clock\": {\"labels\": {\"10\": {\"visible\": true}}}}}, \"animation\": {}}}",
        "{\"type\": \"update\", \"queue\": \"default\", \"data\": {\"attributes\": {\"nodes\": {\"clock\": {\"labels\": {\"10\": {\"radius\": \"r+5\"}}}}}, \"animation\": {\"duration\": 0}}}",
        "{\"type\": \"update\", \"queue\": \"default\", \"data\": {\"attributes\": {\"nodes\": {\"clock\": {\"labels\": {\"10\": {\"angle\": -210}}}}}, \"animation\": {\"duration\": 0}}}",
        "{\"type\": \"update\", \"queue\": \"default\", \"data\": {\"attributes\": {\"nodes\": {\"clock\": {\"labels\": {\"10\": {\"size\": 11}}}}}, \"animation\": {\"duration\": 0}}}",
        "{\"type\": \"update\", \"queue\": \"default\", \"data\": {\"attributes\": {\"nodes\": {\"clock\": {\"labels\": {\"10\": {\"rotate\": true}}}}}, \"animation\": {\"duration\": 0}}}",
        "{\"type\": \"update\", \"queue\": \"default\", \"data\": {\"attributes\": {\"nodes\": {\"clock\": {\"labels\": {\"11\": {\"visible\": true}}}}}, \"animation\": {}}}",
        "{\"type\": \"update\", \"queue\": \"default\", \"data\": {\"attributes\": {\"nodes\": {\"clock\": {\"labels\": {\"11\": {\"radius\": \"r+5\"}}}}}, \"animation\": {\"duration\": 0}}}",
        "{\"type\": \"update\", \"queue\": \"default\", \"data\": {\"attributes\": {\"nodes\": {\"clock\": {\"labels\": {\"11\": {\"angle\": -240}}}}}, \"animation\": {\"duration\": 0}}}",
        "{\"type\": \"update\", \"queue\": \"default\", \"data\": {\"attributes\": {\"nodes\": {\"clock\": {\"labels\": {\"11\": {\"size\": 11}}}}}, \"animation\": {\"duration\": 0}}}",
        "{\"type\": \"update\", \"queue\": \"default\", \"data\": {\"attributes\": {\"nodes\": {\"clock\": {\"labels\": {\"11\": {\"rotate\": true}}}}}, \"animation\": {\"duration\": 0}}}",
        "{\"type\": \"update\", \"queue\": \"default\", \"data\": {\"attributes\": {\"nodes\": {\"clock\": {\"labels\": {\"12\": {\"visible\": true}}}}}, \"animation\": {}}}",
        "{\"type\": \"update\", \"queue\": \"default\", \"data\": {\"attributes\": {\"nodes\": {\"clock\": {\"labels\": {\"12\": {\"radius\": \"r+5\"}}}}}, \"animation\": {\"duration\": 0}}}",
        "{\"type\": \"update\", \"queue\": \"default\", \"data\": {\"attributes\": {\"nodes\": {\"clock\": {\"labels\": {\"12\": {\"angle\": -270}}}}}, \"animation\": {\"duration\": 0}}}",
        "{\"type\": \"update\", \"queue\": \"default\", \"data\": {\"attributes\": {\"nodes\": {\"clock\": {\"labels\": {\"12\": {\"size\": 11}}}}}, \"animation\": {\"duration\": 0}}}",
        "{\"type\": \"update\", \"queue\": \"default\", \"data\": {\"attributes\": {\"nodes\": {\"clock\": {\"labels\": {\"12\": {\"rotate\": true}}}}}, \"animation\": {\"duration\": 0}}}",
        "{\"type\": \"update\", \"queue\": \"default\", \"data\": {\"attributes\": {\"edges\": {\"clock-r.2\": {\"visible\": true, \"source\": \"r.2\", \"target\": \"clock\"}}}, \"animation\": {}}}",
        "{\"type\": \"update\", \"queue\": \"default\", \"data\": {\"attributes\": {\"nodes\": {\"g.1\": {\"visible\": true}, \"g.2\": {\"visible\": true}, \"g.3\": {\"visible\": true}, \"g.4\": {\"visible\": true}, \"g.5\": {\"visible\": true}, \"g.6\": {\"visible\": true}, \"g.8\": {\"visible\": true}, \"g.9\": {\"visible\": true}}}, \"animation\": {}}}",
        "{\"type\": \"update\", \"queue\": \"default\", \"data\": {\"attributes\": {\"nodes\": {\"g.1\": {\"pos\": [-50, -50]}, \"g.2\": {\"pos\": [-50, -50]}, \"g.3\": {\"pos\": [-50, -50]}, \"g.4\": {\"pos\": [-50, -50]}, \"g.5\": {\"pos\": [-50, -50]}, \"g.6\": {\"pos\": [-50, -50]}, \"g.8\": {\"pos\": [-50, -50]}, \"g.9\": {\"pos\": [-50, -50]}}}, \"animation\": {\"duration\": 0}}}",
        "{\"type\": \"update\", \"queue\": \"default\", \"data\": {\"attributes\": {\"nodes\": {\"g.1\": {\"labels\": {\"value\": null}}, \"g.2\": {\"labels\": {\"value\": null}}, \"g.3\": {\"labels\": {\"value\": null}}, \"g.4\": {\"labels\": {\"value\": null}}, \"g.5\": {\"labels\": {\"value\": null}}, \"g.6\": {\"labels\": {\"value\": null}}, \"g.8\": {\"labels\": {\"value\": null}}, \"g.9\": {\"labels\": {\"value\": null}}}}, \"animation\": {\"duration\": 0}}}",
        "{\"type\": \"update\", \"queue\": \"default\", \"data\": {\"attributes\": {\"edges\": {\"g.1-r.5\": {\"visible\": true, \"source\": \"g.1\", \"target\": \"r.5\"}}}, \"animation\": {}}}",
        "{\"type\": \"update\", \"queue\": \"default\", \"data\": {\"attributes\": {\"edges\": {\"g.2-r.4\": {\"visible\": true, \"source\": \"g.2\", \"target\": \"r.4\"}}}, \"animation\": {}}}",
        "{\"type\": \"update\", \"queue\": \"default\", \"data\": {\"attributes\": {\"edges\": {\"g.1-g.2\": {\"visible\": true, \"source\": \"g.1\", \"target\": \"g.2\"}, \"g.1-g.3\": {\"visible\": true, \"source\": \"g.1\", \"target\": \"g.3\"}, \"g.2-g.3\": {\"visible\": true, \"source\": \"g.3\", \"target\": \"g.2\"}, \"g.3-g.4\": {\"visible\": true, \"source\": \"g.3\", \"target\": \"g.4\"}, \"g.2-g.4\": {\"visible\": true, \"source\": \"g.4\", \"target\": \"g.2\"}, \"g.3-g.5\": {\"visible\": true, \"source\": \"g.5\", \"target\": \"g.3\"}, \"g.5-g.6\": {\"visible\": true, \"source\": \"g.6\", \"target\": \"g.5\"}, \"g.4-g.5\": {\"visible\": true, \"source\": \"g.5\", \"target\": \"g.4\"}, \"g.4-g.6\": {\"visible\": true, \"source\": \"g.6\", \"target\": \"g.4\"}, \"g.8-g.9\": {\"visible\": true, \"source\": \"g.8\", \"target\": \"g.9\"}, \"g.1-g.9\": {\"visible\": true, \"source\": \"g.9\", \"target\": \"g.1\"}, \"g.3-g.8\": {\"visible\": true, \"source\": \"g.3\", \"target\": \"g.8\"}, \"g.3-g.9\": {\"visible\": true, \"source\": \"g.3\", \"target\": \"g.9\"}}}, \"animation\": {}}}",
        "{\"type\": \"update\", \"queue\": \"default\", \"data\": {\"attributes\": {\"edges\": {\"g.1-g.2\": {\"labels\": {\"weight\": {\"visible\": true}}}, \"g.1-g.3\": {\"labels\": {\"weight\": {\"visible\": true}}}, \"g.2-g.3\": {\"labels\": {\"weight\": {\"visible\": true}}}, \"g.3-g.4\": {\"labels\": {\"weight\": {\"visible\": true}}}, \"g.2-g.4\": {\"labels\": {\"weight\": {\"visible\": true}}}, \"g.3-g.5\": {\"labels\": {\"weight\": {\"visible\": true}}}, \"g.5-g.6\": {\"labels\": {\"weight\": {\"visible\": true}}}, \"g.4-g.5\": {\"labels\": {\"weight\": {\"visible\": true}}}, \"g.4-g.6\": {\"labels\": {\"weight\": {\"visible\": true}}}, \"g.8-g.9\": {\"labels\": {\"weight\": {\"visible\": true}}}, \"g.1-g.9\": {\"labels\": {\"weight\": {\"visible\": true}}}, \"g.3-g.8\": {\"labels\": {\"weight\": {\"visible\": true}}}, \"g.3-g.9\": {\"labels\": {\"weight\": {\"visible\": true}}}}}, \"animation\": {\"duration\": 0}}}",
        "{\"type\": \"update\", \"queue\": \"default\", \"data\": {\"attributes\": {\"edges\": {\"g.1-g.2\": {\"labels\": {\"weight\": {\"text\": 19}}}, \"g.1-g.3\": {\"labels\": {\"weight\": {\"text\": 12}}}, \"g.2-g.3\": {\"labels\": {\"weight\": {\"text\": 6}}}, \"g.3-g.4\": {\"labels\": {\"weight\": {\"text\": 16}}}, \"g.2-g.4\": {\"labels\": {\"weight\": {\"text\": 12}}}, \"g.3-g.5\": {\"labels\": {\"weight\": {\"text\": 5}}}, \"g.5-g.6\": {\"labels\": {\"weight\": {\"text\": 5}}}, \"g.4-g.5\": {\"labels\": {\"weight\": {\"text\": 14}}}, \"g.4-g.6\": {\"labels\": {\"weight\": {\"text\": 9}}}, \"g.8-g.9\": {\"labels\": {\"weight\": {\"text\": 14}}}, \"g.1-g.9\": {\"labels\": {\"weight\": {\"text\": 14}}}, \"g.3-g.8\": {\"labels\": {\"weight\": {\"text\": 12}}}, \"g.3-g.9\": {\"labels\": {\"weight\": {\"text\": 6}}}}}, \"animation\": {\"duration\": 0}}}",
        "{\"type\": \"update\", \"queue\": \"default\", \"data\": {\"attributes\": {\"nodes\": {\"colorful\": {\"visible\": true}}}, \"animation\": {}}}",
        "{\"type\": \"update\", \"queue\": \"default\", \"data\": {\"attributes\": {\"nodes\": {\"colorful\": {\"shape\": \"rect\"}}}, \"animation\": {\"duration\": 0}}}",
        "{\"type\": \"update\", \"queue\": \"default\", \"data\": {\"attributes\": {\"nodes\": {\"colorful\": {\"size\": [30, 30]}}}, \"animation\": {\"duration\": 0}}}",
        "{\"type\": \"update\", \"queue\": \"default\", \"data\": {\"attributes\": {\"nodes\": {\"colorful\": {\"labels\": {\"value\": null}}}}, \"animation\": {\"duration\": 0}}}",
        "{\"type\": \"update\", \"queue\": \"default\", \"data\": {\"attributes\": {\"nodes\": {\"colorful\": {\"labels\": {\"green\": {\"visible\": true}}}}}, \"animation\": {\"duration\": 0}}}",
        "{\"type\": \"update\", \"queue\": \"default\", \"data\": {\"attributes\": {\"nodes\": {\"colorful\": {\"labels\": {\"green\": {\"radius\": 0}}}}}, \"animation\": {\"duration\": 0}}}",
        "{\"type\": \"update\", \"queue\": \"default\", \"data\": {\"attributes\": {\"nodes\": {\"colorful\": {\"labels\": {\"green\": {\"align\": \"middle\"}}}}}, \"animation\": {\"duration\": 0}}}",
        "{\"type\": \"update\", \"queue\": \"default\", \"data\": {\"attributes\": {\"nodes\": {\"colorful\": {\"labels\": {\"green\": {\"pos\": [0, \"0.5y\"]}}}}}, \"animation\": {\"duration\": 0}}}",
        "{\"type\": \"update\", \"queue\": \"default\", \"data\": {\"attributes\": {\"nodes\": {\"colorful\": {\"labels\": {\"green\": {\"text\": \"green\"}}}}}, \"animation\": {\"duration\": 0}}}",
        "{\"type\": \"update\", \"queue\": \"default\", \"data\": {\"attributes\": {\"nodes\": {\"colorful\": {\"labels\": {\"green\": {\"color\": \"green\"}}}}}, \"animation\": {\"duration\": 0}}}",
        "{\"type\": \"update\", \"queue\": \"default\", \"data\": {\"attributes\": {\"nodes\": {\"colorful\": {\"labels\": {\"yellow\": {\"visible\": true}}}}}, \"animation\": {\"duration\": 0}}}",
        "{\"type\": \"update\", \"queue\": \"default\", \"data\": {\"attributes\": {\"nodes\": {\"colorful\": {\"labels\": {\"yellow\": {\"radius\": 0}}}}}, \"animation\": {\"duration\": 0}}}",
        "{\"type\": \"update\", \"queue\": \"default\", \"data\": {\"attributes\": {\"nodes\": {\"colorful\": {\"labels\": {\"yellow\": {\"align\": \"middle\"}}}}}, \"animation\": {\"duration\": 0}}}",
        "{\"type\": \"update\", \"queue\": \"default\", \"data\": {\"attributes\": {\"nodes\": {\"colorful\": {\"labels\": {\"yellow\": {\"pos\": [0, 0]}}}}}, \"animation\": {\"duration\": 0}}}",
        "{\"type\": \"update\", \"queue\": \"default\", \"data\": {\"attributes\": {\"nodes\": {\"colorful\": {\"labels\": {\"yellow\": {\"text\": \"yellow\"}}}}}, \"animation\": {\"duration\": 0}}}",
        "{\"type\": \"update\", \"queue\": \"default\", \"data\": {\"attributes\": {\"nodes\": {\"colorful\": {\"labels\": {\"yellow\": {\"color\": \"yellow\"}}}}}, \"animation\": {\"duration\": 0}}}",
        "{\"type\": \"update\", \"queue\": \"default\", \"data\": {\"attributes\": {\"nodes\": {\"colorful\": {\"labels\": {\"pink\": {\"visible\": true}}}}}, \"animation\": {\"duration\": 0}}}",
        "{\"type\": \"update\", \"queue\": \"default\", \"data\": {\"attributes\": {\"nodes\": {\"colorful\": {\"labels\": {\"pink\": {\"radius\": 0}}}}}, \"animation\": {\"duration\": 0}}}",
        "{\"type\": \"update\", \"queue\": \"default\", \"data\": {\"attributes\": {\"nodes\": {\"colorful\": {\"labels\": {\"pink\": {\"align\": \"middle\"}}}}}, \"animation\": {\"duration\": 0}}}",
        "{\"type\": \"update\", \"queue\": \"default\", \"data\": {\"attributes\": {\"nodes\": {\"colorful\": {\"labels\": {\"pink\": {\"pos\": [0, \"-0.5y\"]}}}}}, \"animation\": {\"duration\": 0}}}",
        "{\"type\": \"update\", \"queue\": \"default\", \"data\": {\"attributes\": {\"nodes\": {\"colorful\": {\"labels\": {\"pink\": {\"text\": \"pink\"}}}}}, \"animation\": {\"duration\": 0}}}",
        "{\"type\": \"update\", \"queue\": \"default\", \"data\": {\"attributes\": {\"nodes\": {\"colorful\": {\"labels\": {\"pink\": {\"color\": \"pink\"}}}}}, \"animation\": {\"duration\": 0}}}",
        "{\"type\": \"update\", \"queue\": \"default\", \"data\": {\"attributes\": {\"nodes\": {\"colorful\": {\"labels\": {\"top-\\nleft\": {\"visible\": true}}}}}, \"animation\": {\"duration\": 0}}}",
        "{\"type\": \"update\", \"queue\": \"default\", \"data\": {\"attributes\": {\"nodes\": {\"colorful\": {\"labels\": {\"top-\\nleft\": {\"angle\": 135}}}}}, \"animation\": {\"duration\": 0}}}",
        "{\"type\": \"update\", \"queue\": \"default\", \"data\": {\"attributes\": {\"nodes\": {\"colorful\": {\"labels\": {\"top-\\nleft\": {\"rotate\": true}}}}}, \"animation\": {\"duration\": 0}}}",
        "{\"type\": \"update\", \"queue\": \"default\", \"data\": {\"attributes\": {\"nodes\": {\"colorful\": {\"labels\": {\"top-\\nleft\": {\"radius\": \"r+6\"}}}}}, \"animation\": {\"duration\": 0}}}",
        "{\"type\": \"update\", \"queue\": \"default\", \"data\": {\"attributes\": {\"nodes\": {\"colorful\": {\"labels\": {\"top-\\nright\": {\"visible\": true}}}}}, \"animation\": {\"duration\": 0}}}",
        "{\"type\": \"update\", \"queue\": \"default\", \"data\": {\"attributes\": {\"nodes\": {\"colorful\": {\"labels\": {\"top-\\nright\": {\"angle\": 45}}}}}, \"animation\": {\"duration\": 0}}}",
        "{\"type\": \"update\", \"queue\": \"default\", \"data\": {\"attributes\": {\"nodes\": {\"colorful\": {\"labels\": {\"top-\\nright\": {\"rotate\": true}}}}}, \"animation\": {\"duration\": 0}}}",
        "{\"type\": \"update\", \"queue\": \"default\", \"data\": {\"attributes\": {\"nodes\": {\"colorful\": {\"labels\": {\"top-\\nright\": {\"radius\": \"r+6\"}}}}}, \"animation\": {\"duration\": 0}}}",
        "{\"type\": \"update\", \"queue\": \"default\", \"data\": {\"attributes\": {\"nodes\": {\"colorful\": {\"labels\": {\"bottom-\\nright\": {\"visible\": true}}}}}, \"animation\": {\"duration\": 0}}}",
        "{\"type\": \"update\", \"queue\": \"default\", \"data\": {\"attributes\": {\"nodes\": {\"colorful\": {\"labels\": {\"bottom-\\nright\": {\"angle\": -45}}}}}, \"animation\": {\"duration\": 0}}}",
        "{\"type\": \"update\", \"queue\": \"default\", \"data\": {\"attributes\": {\"nodes\": {\"colorful\": {\"labels\": {\"bottom-\\nright\": {\"rotate\": true}}}}}, \"animation\": {\"duration\": 0}}}",
        "{\"type\": \"update\", \"queue\": \"default\", \"data\": {\"attributes\": {\"nodes\": {\"colorful\": {\"labels\": {\"bottom-\\nleft\": {\"visible\": true}}}}}, \"animation\": {\"duration\": 0}}}",
        "{\"type\": \"update\", \"queue\": \"default\", \"data\": {\"attributes\": {\"nodes\": {\"colorful\": {\"labels\": {\"bottom-\\nleft\": {\"angle\": 225}}}}}, \"animation\": {\"duration\": 0}}}",
        "{\"type\": \"update\", \"queue\": \"default\", \"data\": {\"attributes\": {\"nodes\": {\"colorful\": {\"labels\": {\"bottom-\\nleft\": {\"rotate\": true}}}}}, \"animation\": {\"duration\": 0}}}",
        "{\"type\": \"update\", \"queue\": \"default\", \"data\": {\"attributes\": {\"edges\": {\"colorful-r.3\": {\"visible\": true, \"source\": \"r.3\", \"target\": \"colorful\"}}}, \"animation\": {}}}",
        "{\"type\": \"update\", \"queue\": \"default\", \"data\": {\"attributes\": {\"edges\": {\"colorful-r.3\": {\"color\": \"green\"}}}, \"animation\": {\"duration\": 0}}}"
       ],
       "_model_module_version": "^1.0.0",
       "_show_buttons": true,
       "_view_module_version": "^1.0.0",
       "_view_name": "CanvasView",
       "layout": "IPY_MODEL_7694bf23fa8e4809b7dd2acf4a4f680b"
      }
     },
     "b484017ee9814394b1549222df02c1a0": {
      "model_module": "algorithmx-jupyter",
      "model_module_version": "^1.0.0",
      "model_name": "CanvasModel",
      "state": {
       "_dispatch_events": [
        "{\"type\": \"update\", \"queue\": \"default\", \"data\": {\"attributes\": {\"size\": [200, 200]}, \"animation\": {}}}",
        "{\"type\": \"update\", \"queue\": \"default\", \"data\": {\"attributes\": {\"nodes\": {\"1\": {\"visible\": true}, \"2\": {\"visible\": true}}}, \"animation\": {}}}",
        "{\"type\": \"update\", \"queue\": \"default\", \"data\": {\"attributes\": {\"edges\": {\"1-2\": {\"visible\": true, \"source\": \"1\", \"target\": \"2\"}}}, \"animation\": {}}}"
       ],
       "_model_module_version": "^1.0.0",
       "_view_module_version": "^1.0.0",
       "_view_name": "CanvasView",
       "layout": "IPY_MODEL_0478f61ca9354450b9d8fcdca2438fab"
      }
     },
     "b73218112fe748f89d88145a81f828e0": {
      "model_module": "@jupyter-widgets/base",
      "model_module_version": "1.1.0",
      "model_name": "LayoutModel",
      "state": {}
     },
     "bb187e802e8747529027e0aeeeb1cfda": {
      "model_module": "@jupyter-widgets/base",
      "model_module_version": "1.1.0",
      "model_name": "LayoutModel",
      "state": {}
     },
     "bca88444de5944cdb8f1aad916c11a7d": {
      "model_module": "@jupyter-widgets/base",
      "model_module_version": "1.1.0",
      "model_name": "LayoutModel",
      "state": {}
     },
     "bcd22f566eb34e6e8f7b3258e2d99426": {
      "model_module": "algorithmx-jupyter",
      "model_module_version": "^1.0.0",
      "model_name": "CanvasModel",
      "state": {
       "_dispatch_events": [
        "{\"type\": \"cancel\", \"queue\": \"None\", \"data\": {\"queues\": null}}",
        "{\"type\": \"update\", \"queue\": \"default\", \"data\": {\"attributes\": null, \"animation\": {}}}",
        "{\"type\": \"update\", \"queue\": \"default\", \"data\": {\"attributes\": {\"size\": [200, 200]}, \"animation\": {\"duration\": 0}}}",
        "{\"type\": \"update\", \"queue\": \"default\", \"data\": {\"attributes\": {\"nodes\": {\"1\": {\"visible\": true}, \"2\": {\"visible\": true}}}, \"animation\": {}}}",
        "{\"type\": \"update\", \"queue\": \"default\", \"data\": {\"attributes\": {\"edges\": {\"1-2\": {\"visible\": true, \"source\": \"1\", \"target\": \"2\"}}}, \"animation\": {}}}",
        "{\"type\": \"pause\", \"queue\": \"default\", \"data\": {\"duration\": 0.5}}",
        "{\"type\": \"highlight\", \"queue\": \"default\", \"data\": {\"attributes\": {\"nodes\": {\"1\": {\"size\": \"1.5x\"}}}, \"animation\": {}}}",
        "{\"type\": \"pause\", \"queue\": \"default\", \"data\": {\"duration\": 0.5}}",
        "{\"type\": \"update\", \"queue\": \"default\", \"data\": {\"attributes\": {\"edges\": {\"1-2\": {\"color\": \"blue\"}}}, \"animation\": {\"type\": \"traverse\"}}}"
       ],
       "_model_module_version": "^1.0.0",
       "_view_module_version": "^1.0.0",
       "_view_name": "CanvasView",
       "layout": "IPY_MODEL_c5ba31a14b084a0ca0b7cff55a3dd8f8"
      }
     },
     "bdcf7766fda94543a104a647847b17d7": {
      "model_module": "algorithmx-jupyter",
      "model_module_version": "^1.0.0",
      "model_name": "CanvasModel",
      "state": {
       "_dispatch_events": [
        "{\"type\": \"update\", \"queue\": \"default\", \"data\": {\"attributes\": {\"svgattr\": {\"style\": \"overflow: visible\"}}, \"animation\": {}}}",
        "{\"type\": \"update\", \"queue\": \"default\", \"data\": {\"attributes\": {\"nodes\": {\"1\": {\"visible\": true}, \"2\": {\"visible\": true}}}, \"animation\": {}}}",
        "{\"type\": \"update\", \"queue\": \"default\", \"data\": {\"attributes\": {\"edges\": {\"1-2\": {\"visible\": true, \"source\": \"1\", \"target\": \"2\"}}}, \"animation\": {}}}"
       ],
       "_model_module_version": "^1.0.0",
       "_show_buttons": false,
       "_view_module_version": "^1.0.0",
       "_view_name": "CanvasView",
       "layout": "IPY_MODEL_d21d2c52bc1b497e819ed70b82dd1880"
      }
     },
     "be66bfcd9595445dad44499072fcf003": {
      "model_module": "algorithmx-jupyter",
      "model_module_version": "^1.0.0",
      "model_name": "CanvasModel",
      "state": {
       "_dispatch_events": [
        "{\"type\": \"update\", \"queue\": \"default\", \"data\": {\"attributes\": {\"size\": [200, 200]}, \"animation\": {\"duration\": 0}}}",
        "{\"type\": \"update\", \"queue\": \"default\", \"data\": {\"attributes\": {\"nodes\": {\"1\": {\"visible\": true}, \"2\": {\"visible\": true}}}, \"animation\": {}}}",
        "{\"type\": \"update\", \"queue\": \"default\", \"data\": {\"attributes\": {\"edges\": {\"1-2\": {\"visible\": true, \"source\": \"1\", \"target\": \"2\"}}}, \"animation\": {}}}"
       ],
       "_model_module_version": "^1.0.0",
       "_view_module_version": "^1.0.0",
       "_view_name": "CanvasView",
       "layout": "IPY_MODEL_d51ada03df824e6189cec7b6c9502b9a"
      }
     },
     "c30abc20a32b426d975c8ddee7cc2397": {
      "model_module": "@jupyter-widgets/base",
      "model_module_version": "1.1.0",
      "model_name": "LayoutModel",
      "state": {}
     },
     "c3ffea8e17364270923ae054c8833d0a": {
      "model_module": "@jupyter-widgets/base",
      "model_module_version": "1.1.0",
      "model_name": "LayoutModel",
      "state": {}
     },
     "c42072940aaa4950962ee68e6faa7428": {
      "model_module": "algorithmx-jupyter",
      "model_module_version": "^1.0.0",
      "model_name": "CanvasModel",
      "state": {
       "_dispatch_events": [
        "{\"type\": \"update\", \"queue\": \"default\", \"data\": {\"attributes\": {\"size\": [200, 200]}, \"animation\": {\"duration\": 0}}}",
        "{\"type\": \"update\", \"queue\": \"default\", \"data\": {\"attributes\": {\"nodes\": {\"1\": {\"visible\": true}, \"2\": {\"visible\": true}}}, \"animation\": {}}}",
        "{\"type\": \"update\", \"queue\": \"default\", \"data\": {\"attributes\": {\"edges\": {\"1-2\": {\"visible\": true, \"source\": \"1\", \"target\": \"2\"}}}, \"animation\": {}}}",
        "{\"type\": \"update\", \"queue\": \"default\", \"data\": {\"attributes\": {\"edges\": {\"1-2\": {\"visible\": true, \"source\": \"1\", \"target\": \"2\"}}}, \"animation\": {}}}"
       ],
       "_model_module_version": "^1.0.0",
       "_view_module_version": "^1.0.0",
       "_view_name": "CanvasView",
       "layout": "IPY_MODEL_202f2cd999ed4e2b8aae30145bac36e4"
      }
     },
     "c49764cd28134c91aac75320f38a5bc7": {
      "model_module": "@jupyter-widgets/base",
      "model_module_version": "1.1.0",
      "model_name": "LayoutModel",
      "state": {}
     },
     "c5ba31a14b084a0ca0b7cff55a3dd8f8": {
      "model_module": "@jupyter-widgets/base",
      "model_module_version": "1.1.0",
      "model_name": "LayoutModel",
      "state": {}
     },
     "c994fa2563e442269321fe1baea90676": {
      "model_module": "algorithmx-jupyter",
      "model_module_version": "latest",
      "model_name": "CanvasModel",
      "state": {
       "_dispatch_events": [
        "{\"type\": \"update\", \"queue\": \"default\", \"data\": {\"attributes\": {\"nodes\": {\"1\": {\"visible\": true}, \"2\": {\"visible\": true}, \"3\": {\"visible\": true}, \"4\": {\"visible\": true}, \"5\": {\"visible\": true}, \"6\": {\"visible\": true}, \"7\": {\"visible\": true}}}, \"animation\": {}}}",
        "{\"type\": \"update\", \"queue\": \"default\", \"data\": {\"attributes\": {\"edges\": {\"1-2\": {\"visible\": true, \"source\": \"1\", \"target\": \"2\"}, \"2-3\": {\"visible\": true, \"source\": \"2\", \"target\": \"3\"}, \"3-4\": {\"visible\": true, \"source\": \"3\", \"target\": \"4\"}, \"4-5\": {\"visible\": true, \"source\": \"4\", \"target\": \"5\"}, \"5-6\": {\"visible\": true, \"source\": \"5\", \"target\": \"6\"}, \"6-7\": {\"visible\": true, \"source\": \"6\", \"target\": \"7\"}, \"1-3\": {\"visible\": true, \"source\": \"1\", \"target\": \"3\"}, \"2-4\": {\"visible\": true, \"source\": \"2\", \"target\": \"4\"}, \"2-7\": {\"visible\": true, \"source\": \"2\", \"target\": \"7\"}}}, \"animation\": {}}}",
        "{\"type\": \"pause\", \"queue\": \"default\", \"data\": {\"duration\": 0.5}}",
        "{\"type\": \"update\", \"queue\": \"default\", \"data\": {\"attributes\": {\"nodes\": {\"1\": {\"color\": \"green\"}}}, \"animation\": {}}}",
        "{\"type\": \"highlight\", \"queue\": \"default\", \"data\": {\"attributes\": {\"nodes\": {\"1\": {\"size\": \"1.25x\"}}}, \"animation\": {\"**\": {\"linger\": 0.7}}}}",
        "{\"type\": \"pause\", \"queue\": \"default\", \"data\": {\"duration\": 0.5}}",
        "{\"type\": \"update\", \"queue\": \"default\", \"data\": {\"attributes\": {\"edges\": {\"1-2\": {\"color\": \"green\"}}}, \"animation\": {\"edges\": {\"1-2\": {\"**\": {\"type\": \"traverse\", \"data\": {\"source\": \"1\"}}}}}}}",
        "{\"type\": \"pause\", \"queue\": \"default\", \"data\": {\"duration\": 0.5}}",
        "{\"type\": \"update\", \"queue\": \"default\", \"data\": {\"attributes\": {\"nodes\": {\"2\": {\"color\": \"green\"}}}, \"animation\": {}}}",
        "{\"type\": \"highlight\", \"queue\": \"default\", \"data\": {\"attributes\": {\"nodes\": {\"2\": {\"size\": \"1.25x\"}}}, \"animation\": {\"**\": {\"linger\": 0.7}}}}",
        "{\"type\": \"pause\", \"queue\": \"default\", \"data\": {\"duration\": 0.5}}",
        "{\"type\": \"update\", \"queue\": \"default\", \"data\": {\"attributes\": {\"edges\": {\"2-3\": {\"color\": \"green\"}}}, \"animation\": {\"edges\": {\"2-3\": {\"**\": {\"type\": \"traverse\", \"data\": {\"source\": \"2\"}}}}}}}",
        "{\"type\": \"pause\", \"queue\": \"default\", \"data\": {\"duration\": 0.5}}",
        "{\"type\": \"update\", \"queue\": \"default\", \"data\": {\"attributes\": {\"nodes\": {\"3\": {\"color\": \"green\"}}}, \"animation\": {}}}",
        "{\"type\": \"highlight\", \"queue\": \"default\", \"data\": {\"attributes\": {\"nodes\": {\"3\": {\"size\": \"1.25x\"}}}, \"animation\": {\"**\": {\"linger\": 0.7}}}}",
        "{\"type\": \"pause\", \"queue\": \"default\", \"data\": {\"duration\": 0.5}}",
        "{\"type\": \"update\", \"queue\": \"default\", \"data\": {\"attributes\": {\"edges\": {\"3-4\": {\"color\": \"green\"}}}, \"animation\": {\"edges\": {\"3-4\": {\"**\": {\"type\": \"traverse\", \"data\": {\"source\": \"3\"}}}}}}}",
        "{\"type\": \"pause\", \"queue\": \"default\", \"data\": {\"duration\": 0.5}}",
        "{\"type\": \"update\", \"queue\": \"default\", \"data\": {\"attributes\": {\"nodes\": {\"4\": {\"color\": \"green\"}}}, \"animation\": {}}}",
        "{\"type\": \"highlight\", \"queue\": \"default\", \"data\": {\"attributes\": {\"nodes\": {\"4\": {\"size\": \"1.25x\"}}}, \"animation\": {\"**\": {\"linger\": 0.7}}}}",
        "{\"type\": \"pause\", \"queue\": \"default\", \"data\": {\"duration\": 0.5}}",
        "{\"type\": \"update\", \"queue\": \"default\", \"data\": {\"attributes\": {\"edges\": {\"4-5\": {\"color\": \"green\"}}}, \"animation\": {\"edges\": {\"4-5\": {\"**\": {\"type\": \"traverse\", \"data\": {\"source\": \"4\"}}}}}}}",
        "{\"type\": \"pause\", \"queue\": \"default\", \"data\": {\"duration\": 0.5}}",
        "{\"type\": \"update\", \"queue\": \"default\", \"data\": {\"attributes\": {\"nodes\": {\"5\": {\"color\": \"green\"}}}, \"animation\": {}}}",
        "{\"type\": \"highlight\", \"queue\": \"default\", \"data\": {\"attributes\": {\"nodes\": {\"5\": {\"size\": \"1.25x\"}}}, \"animation\": {\"**\": {\"linger\": 0.7}}}}",
        "{\"type\": \"pause\", \"queue\": \"default\", \"data\": {\"duration\": 0.5}}",
        "{\"type\": \"update\", \"queue\": \"default\", \"data\": {\"attributes\": {\"edges\": {\"5-6\": {\"color\": \"green\"}}}, \"animation\": {\"edges\": {\"5-6\": {\"**\": {\"type\": \"traverse\", \"data\": {\"source\": \"5\"}}}}}}}",
        "{\"type\": \"pause\", \"queue\": \"default\", \"data\": {\"duration\": 0.5}}",
        "{\"type\": \"update\", \"queue\": \"default\", \"data\": {\"attributes\": {\"nodes\": {\"6\": {\"color\": \"green\"}}}, \"animation\": {}}}",
        "{\"type\": \"highlight\", \"queue\": \"default\", \"data\": {\"attributes\": {\"nodes\": {\"6\": {\"size\": \"1.25x\"}}}, \"animation\": {\"**\": {\"linger\": 0.7}}}}",
        "{\"type\": \"pause\", \"queue\": \"default\", \"data\": {\"duration\": 0.5}}",
        "{\"type\": \"update\", \"queue\": \"default\", \"data\": {\"attributes\": {\"edges\": {\"6-7\": {\"color\": \"green\"}}}, \"animation\": {\"edges\": {\"6-7\": {\"**\": {\"type\": \"traverse\", \"data\": {\"source\": \"6\"}}}}}}}",
        "{\"type\": \"pause\", \"queue\": \"default\", \"data\": {\"duration\": 0.5}}",
        "{\"type\": \"update\", \"queue\": \"default\", \"data\": {\"attributes\": {\"nodes\": {\"7\": {\"color\": \"green\"}}}, \"animation\": {}}}",
        "{\"type\": \"highlight\", \"queue\": \"default\", \"data\": {\"attributes\": {\"nodes\": {\"7\": {\"size\": \"1.25x\"}}}, \"animation\": {\"**\": {\"linger\": 0.7}}}}",
        "{\"type\": \"pause\", \"queue\": \"default\", \"data\": {\"duration\": 0.5}}",
        "{\"type\": \"update\", \"queue\": \"default\", \"data\": {\"attributes\": {\"edges\": {\"7-8\": {\"color\": \"green\"}}}, \"animation\": {\"edges\": {\"7-8\": {\"**\": {\"type\": \"traverse\", \"data\": {\"source\": \"7\"}}}}}}}"
       ],
       "_model_module_version": "latest",
       "_show_buttons": true,
       "_view_module_version": "latest",
       "_view_name": "CanvasView",
       "layout": "IPY_MODEL_f8fe73c1a69c4acda8d7573d91df719f"
      }
     },
     "cc6933dc01a944faa8c6d277e3a18c4c": {
      "model_module": "@jupyter-widgets/controls",
      "model_module_version": "1.4.0",
      "model_name": "ButtonModel",
      "state": {
       "description": "Replay",
       "layout": "IPY_MODEL_6805c6ec52dd456186b4c5ae728a4f95",
       "style": "IPY_MODEL_e02d36b8cc92442185e64ddd7e9df085"
      }
     },
     "ce28bc0250b44791acbced94d128dcaf": {
      "model_module": "@jupyter-widgets/base",
      "model_module_version": "1.1.0",
      "model_name": "LayoutModel",
      "state": {}
     },
     "ce4cb5dd817a4fdfbeeb695db9fedd54": {
      "model_module": "algorithmx-jupyter",
      "model_module_version": "^1.0.0",
      "model_name": "CanvasModel",
      "state": {
       "_dispatch_events": [
        "{\"type\": \"update\", \"queue\": \"default\", \"data\": {\"attributes\": {\"size\": [300, 200]}, \"animation\": {}}}",
        "{\"type\": \"update\", \"queue\": \"default\", \"data\": {\"attributes\": {\"nodes\": {\"1\": {\"visible\": true}, \"2\": {\"visible\": true}}}, \"animation\": {}}}",
        "{\"type\": \"update\", \"queue\": \"default\", \"data\": {\"attributes\": {\"edges\": {\"1-2\": {\"visible\": true, \"source\": \"1\", \"target\": \"2\"}}}, \"animation\": {}}}"
       ],
       "_model_module_version": "^1.0.0",
       "_show_buttons": false,
       "_view_module_version": "^1.0.0",
       "_view_name": "CanvasView",
       "layout": "IPY_MODEL_79acd4c439e64ab7966737109839b0e0"
      }
     },
     "ce6908fccef64db3963611516ffa5f84": {
      "model_module": "algorithmx-jupyter",
      "model_module_version": "^1.0.0",
      "model_name": "CanvasModel",
      "state": {
       "_dispatch_events": [
        "{\"type\": \"update\", \"queue\": \"default\", \"data\": {\"attributes\": {\"size\": [200, 200]}, \"animation\": {\"duration\": 0}}}",
        "{\"type\": \"update\", \"queue\": \"default\", \"data\": {\"attributes\": {\"nodes\": {\"1\": {\"visible\": true}, \"2\": {\"visible\": true}}}, \"animation\": {}}}",
        "{\"type\": \"update\", \"queue\": \"default\", \"data\": {\"attributes\": {\"edges\": {\"1-2\": {\"visible\": true, \"source\": \"1\", \"target\": \"2\"}}}, \"animation\": {}}}"
       ],
       "_model_module_version": "^1.0.0",
       "_view_module_version": "^1.0.0",
       "_view_name": "CanvasView",
       "layout": "IPY_MODEL_c30abc20a32b426d975c8ddee7cc2397"
      }
     },
     "cf3487e48ec247faa887adb16c3883d1": {
      "model_module": "@jupyter-widgets/base",
      "model_module_version": "1.1.0",
      "model_name": "LayoutModel",
      "state": {}
     },
     "d0184b6332b84ea78cbadcf4254bfb34": {
      "model_module": "@jupyter-widgets/controls",
      "model_module_version": "1.4.0",
      "model_name": "ButtonModel",
      "state": {
       "description": "Replay",
       "layout": "IPY_MODEL_bca88444de5944cdb8f1aad916c11a7d",
       "style": "IPY_MODEL_d6d4472d4fce443e805c228b5068ff2d"
      }
     },
     "d09d2bcf10664c2cbafa08c0f2022897": {
      "model_module": "algorithmx-jupyter",
      "model_module_version": "^1.0.0",
      "model_name": "CanvasModel",
      "state": {
       "_dispatch_events": [
        "{\"type\": \"update\", \"queue\": \"default\", \"data\": {\"attributes\": {\"size\": [200, 200]}, \"animation\": {}}}",
        "{\"type\": \"update\", \"queue\": \"default\", \"data\": {\"attributes\": {\"nodes\": {\"1\": {\"visible\": true}, \"2\": {\"visible\": true}}}, \"animation\": {}}}",
        "{\"type\": \"update\", \"queue\": \"default\", \"data\": {\"attributes\": {\"edges\": {\"1-2\": {\"visible\": true, \"source\": \"1\", \"target\": \"2\"}}}, \"animation\": {}}}"
       ],
       "_model_module_version": "^1.0.0",
       "_view_module_version": "^1.0.0",
       "_view_name": "CanvasView",
       "layout": "IPY_MODEL_5e58426b2a204f5e95c9d1c2c6997136"
      }
     },
     "d21d2c52bc1b497e819ed70b82dd1880": {
      "model_module": "@jupyter-widgets/base",
      "model_module_version": "1.1.0",
      "model_name": "LayoutModel",
      "state": {}
     },
     "d272ff4132e542048132c11aad974560": {
      "model_module": "@jupyter-widgets/base",
      "model_module_version": "1.1.0",
      "model_name": "LayoutModel",
      "state": {}
     },
     "d3b1753b03c441f5acd562e24981bad5": {
      "model_module": "@jupyter-widgets/base",
      "model_module_version": "1.1.0",
      "model_name": "LayoutModel",
      "state": {}
     },
     "d51ada03df824e6189cec7b6c9502b9a": {
      "model_module": "@jupyter-widgets/base",
      "model_module_version": "1.1.0",
      "model_name": "LayoutModel",
      "state": {}
     },
     "d53a4e9d65ef484ca85822aefa96217d": {
      "model_module": "@jupyter-widgets/base",
      "model_module_version": "1.1.0",
      "model_name": "LayoutModel",
      "state": {}
     },
     "d66bb4fbb8e2414282847e89bf13b9bb": {
      "model_module": "@jupyter-widgets/base",
      "model_module_version": "1.1.0",
      "model_name": "LayoutModel",
      "state": {}
     },
     "d688ece84ed84c84b9ac7d0d460756d9": {
      "model_module": "@jupyter-widgets/base",
      "model_module_version": "1.1.0",
      "model_name": "LayoutModel",
      "state": {}
     },
     "d6d4472d4fce443e805c228b5068ff2d": {
      "model_module": "@jupyter-widgets/controls",
      "model_module_version": "1.4.0",
      "model_name": "ButtonStyleModel",
      "state": {}
     },
     "d8cd2e960839469c94dd8d7350cf246f": {
      "model_module": "@jupyter-widgets/base",
      "model_module_version": "1.1.0",
      "model_name": "LayoutModel",
      "state": {}
     },
     "db1c1febc904462290c6088197ad39ed": {
      "model_module": "algorithmx-jupyter",
      "model_module_version": "latest",
      "model_name": "CanvasModel",
      "state": {
       "_dispatch_events": [
        "{\"type\": \"update\", \"queue\": \"default\", \"data\": {\"attributes\": {\"size\": [300, 200]}, \"animation\": {}}}",
        "{\"type\": \"update\", \"queue\": \"default\", \"data\": {\"attributes\": {\"nodes\": {\"1\": {\"visible\": true}, \"2\": {\"visible\": true}}}, \"animation\": {}}}",
        "{\"type\": \"update\", \"queue\": \"default\", \"data\": {\"attributes\": {\"edges\": {\"1-2\": {\"visible\": true, \"source\": \"1\", \"target\": \"2\"}}}, \"animation\": {}}}"
       ],
       "_model_module_version": "latest",
       "_show_buttons": false,
       "_view_module_version": "latest",
       "_view_name": "CanvasView",
       "layout": "IPY_MODEL_3cca710cf4d943d1a7c7dce8049db512"
      }
     },
     "dbe1a1db19cf43cc99a97902c6947073": {
      "model_module": "algorithmx-jupyter",
      "model_module_version": "^1.0.0",
      "model_name": "CanvasModel",
      "state": {
       "_dispatch_events": [
        "{\"type\": \"update\", \"queue\": \"default\", \"data\": {\"attributes\": {\"size\": [200, 200]}, \"animation\": {}}}",
        "{\"type\": \"update\", \"queue\": \"default\", \"data\": {\"attributes\": {\"nodes\": {\"1\": {\"visible\": true}, \"2\": {\"visible\": true}}}, \"animation\": {}}}",
        "{\"type\": \"update\", \"queue\": \"default\", \"data\": {\"attributes\": {\"edges\": {\"1-2\": {\"visible\": true, \"source\": \"1\", \"target\": \"2\"}}}, \"animation\": {}}}"
       ],
       "_model_module_version": "^1.0.0",
       "_view_module_version": "^1.0.0",
       "_view_name": "CanvasView",
       "layout": "IPY_MODEL_503f884a01e945d19ab27bf32ae9cd5d"
      }
     },
     "dc067884b9df4615a81e5ed1f4e98115": {
      "model_module": "@jupyter-widgets/controls",
      "model_module_version": "1.4.0",
      "model_name": "ButtonStyleModel",
      "state": {}
     },
     "dcbd04644b1747f7bc645cf213ff1a34": {
      "model_module": "@jupyter-widgets/base",
      "model_module_version": "1.1.0",
      "model_name": "LayoutModel",
      "state": {}
     },
     "e02d36b8cc92442185e64ddd7e9df085": {
      "model_module": "@jupyter-widgets/controls",
      "model_module_version": "1.4.0",
      "model_name": "ButtonStyleModel",
      "state": {}
     },
     "e065718243a2480583b87d0ce9e75fee": {
      "model_module": "algorithmx-jupyter",
      "model_module_version": "^1.0.0",
      "model_name": "CanvasModel",
      "state": {
       "_dispatch_events": [
        "{\"type\": \"update\", \"queue\": \"default\", \"data\": {\"attributes\": {\"edgelengths\": \"individual\"}, \"animation\": {}}}",
        "{\"type\": \"update\", \"queue\": \"default\", \"data\": {\"attributes\": {\"nodes\": {\"center\": {\"visible\": true}}}, \"animation\": {}}}",
        "{\"type\": \"update\", \"queue\": \"default\", \"data\": {\"attributes\": {\"nodes\": {\"center\": {\"shape\": \"rect\"}}}, \"animation\": {\"duration\": 0}}}",
        "{\"type\": \"update\", \"queue\": \"default\", \"data\": {\"attributes\": {\"nodes\": {\"center\": {\"size\": [90, 50]}}}, \"animation\": {\"duration\": 0}}}",
        "{\"type\": \"update\", \"queue\": \"default\", \"data\": {\"attributes\": {\"nodes\": {\"center\": {\"labels\": {\"text\": {\"visible\": true}}}}}, \"animation\": {\"duration\": 0}}}",
        "{\"type\": \"update\", \"queue\": \"default\", \"data\": {\"attributes\": {\"nodes\": {\"center\": {\"labels\": {\"text\": {\"radius\": 0}}}}}, \"animation\": {\"duration\": 0}}}",
        "{\"type\": \"update\", \"queue\": \"default\", \"data\": {\"attributes\": {\"nodes\": {\"center\": {\"labels\": {\"text\": {\"size\": 12}}}}}, \"animation\": {\"duration\": 0}}}",
        "{\"type\": \"update\", \"queue\": \"default\", \"data\": {\"attributes\": {\"nodes\": {\"center\": {\"labels\": {\"text\": {\"align\": \"middle-left\"}}}}}, \"animation\": {\"duration\": 0}}}",
        "{\"type\": \"update\", \"queue\": \"default\", \"data\": {\"attributes\": {\"nodes\": {\"center\": {\"labels\": {\"text\": {\"pos\": [\"-0.5x\", 0]}}}}}, \"animation\": {\"duration\": 0}}}",
        "{\"type\": \"update\", \"queue\": \"default\", \"data\": {\"attributes\": {\"nodes\": {\"center\": {\"labels\": {\"text\": {\"color\": \"white\"}}}}}, \"animation\": {\"duration\": 0}}}",
        "{\"type\": \"update\", \"queue\": \"default\", \"data\": {\"attributes\": {\"nodes\": {\"center\": {\"labels\": {\"text\": {\"size\": 13}}}}}, \"animation\": {\"duration\": 0}}}",
        "{\"type\": \"update\", \"queue\": \"default\", \"data\": {\"attributes\": {\"nodes\": {\"center\": {\"labels\": {\"text\": {\"text\": \"A library for network\\nvisualization and\\nalgorithm simulation\"}}}}}, \"animation\": {\"duration\": 0}}}",
        "{\"type\": \"update\", \"queue\": \"default\", \"data\": {\"attributes\": {\"nodes\": {\"center\": {\"labels\": {\"value\": {\"align\": \"top-middle\"}}}}}, \"animation\": {\"duration\": 0}}}",
        "{\"type\": \"update\", \"queue\": \"default\", \"data\": {\"attributes\": {\"nodes\": {\"center\": {\"labels\": {\"value\": {\"rotate\": true}}}}}, \"animation\": {\"duration\": 0}}}",
        "{\"type\": \"update\", \"queue\": \"default\", \"data\": {\"attributes\": {\"nodes\": {\"center\": {\"labels\": {\"value\": {\"angle\": 0}}}}}, \"animation\": {\"duration\": 0}}}",
        "{\"type\": \"update\", \"queue\": \"default\", \"data\": {\"attributes\": {\"nodes\": {\"center\": {\"labels\": {\"value\": {\"pos\": [\"-0.8x\", 0]}}}}}, \"animation\": {\"duration\": 0}}}",
        "{\"type\": \"update\", \"queue\": \"default\", \"data\": {\"attributes\": {\"nodes\": {\"center\": {\"labels\": {\"value\": {\"size\": 15}}}}}, \"animation\": {\"duration\": 0}}}",
        "{\"type\": \"update\", \"queue\": \"default\", \"data\": {\"attributes\": {\"nodes\": {\"center\": {\"labels\": {\"value\": {\"text\": \"AlgorithmX\"}}}}}, \"animation\": {\"duration\": 0}}}",
        "{\"type\": \"update\", \"queue\": \"default\", \"data\": {\"attributes\": {\"nodes\": {\"r.1\": {\"visible\": true}, \"r.2\": {\"visible\": true}, \"r.3\": {\"visible\": true}, \"r.4\": {\"visible\": true}, \"r.5\": {\"visible\": true}, \"r.6\": {\"visible\": true}}}, \"animation\": {}}}",
        "{\"type\": \"update\", \"queue\": \"default\", \"data\": {\"attributes\": {\"nodes\": {\"r.1\": {\"labels\": {\"value\": {\"text\": 1}}}}}, \"animation\": {}}}",
        "{\"type\": \"update\", \"queue\": \"default\", \"data\": {\"attributes\": {\"edges\": {\"center-r.1\": {\"visible\": true, \"source\": \"r.1\", \"target\": \"center\"}}}, \"animation\": {}}}",
        "{\"type\": \"update\", \"queue\": \"default\", \"data\": {\"attributes\": {\"edges\": {\"center-r.1\": {\"length\": 130}}}, \"animation\": {\"duration\": 0}}}",
        "{\"type\": \"update\", \"queue\": \"default\", \"data\": {\"attributes\": {\"edges\": {\"center-r.1\": {\"directed\": true}}}, \"animation\": {\"duration\": 0}}}",
        "{\"type\": \"update\", \"queue\": \"default\", \"data\": {\"attributes\": {\"edges\": {\"r.1-r.2\": {\"visible\": true, \"source\": \"r.1\", \"target\": \"r.2\"}}}, \"animation\": {}}}",
        "{\"type\": \"update\", \"queue\": \"default\", \"data\": {\"attributes\": {\"edges\": {\"r.1-r.2\": {\"length\": 120}}}, \"animation\": {\"duration\": 0}}}",
        "{\"type\": \"update\", \"queue\": \"default\", \"data\": {\"attributes\": {\"nodes\": {\"r.2\": {\"labels\": {\"value\": {\"text\": 2}}}}}, \"animation\": {}}}",
        "{\"type\": \"update\", \"queue\": \"default\", \"data\": {\"attributes\": {\"edges\": {\"center-r.2\": {\"visible\": true, \"source\": \"r.2\", \"target\": \"center\"}}}, \"animation\": {}}}",
        "{\"type\": \"update\", \"queue\": \"default\", \"data\": {\"attributes\": {\"edges\": {\"center-r.2\": {\"length\": 130}}}, \"animation\": {\"duration\": 0}}}",
        "{\"type\": \"update\", \"queue\": \"default\", \"data\": {\"attributes\": {\"edges\": {\"center-r.2\": {\"directed\": true}}}, \"animation\": {\"duration\": 0}}}",
        "{\"type\": \"update\", \"queue\": \"default\", \"data\": {\"attributes\": {\"edges\": {\"r.2-r.3\": {\"visible\": true, \"source\": \"r.2\", \"target\": \"r.3\"}}}, \"animation\": {}}}",
        "{\"type\": \"update\", \"queue\": \"default\", \"data\": {\"attributes\": {\"edges\": {\"r.2-r.3\": {\"length\": 120}}}, \"animation\": {\"duration\": 0}}}",
        "{\"type\": \"update\", \"queue\": \"default\", \"data\": {\"attributes\": {\"nodes\": {\"r.3\": {\"labels\": {\"value\": {\"text\": 3}}}}}, \"animation\": {}}}",
        "{\"type\": \"update\", \"queue\": \"default\", \"data\": {\"attributes\": {\"edges\": {\"center-r.3\": {\"visible\": true, \"source\": \"r.3\", \"target\": \"center\"}}}, \"animation\": {}}}",
        "{\"type\": \"update\", \"queue\": \"default\", \"data\": {\"attributes\": {\"edges\": {\"center-r.3\": {\"length\": 130}}}, \"animation\": {\"duration\": 0}}}",
        "{\"type\": \"update\", \"queue\": \"default\", \"data\": {\"attributes\": {\"edges\": {\"center-r.3\": {\"directed\": true}}}, \"animation\": {\"duration\": 0}}}",
        "{\"type\": \"update\", \"queue\": \"default\", \"data\": {\"attributes\": {\"edges\": {\"r.3-r.4\": {\"visible\": true, \"source\": \"r.3\", \"target\": \"r.4\"}}}, \"animation\": {}}}",
        "{\"type\": \"update\", \"queue\": \"default\", \"data\": {\"attributes\": {\"edges\": {\"r.3-r.4\": {\"length\": 120}}}, \"animation\": {\"duration\": 0}}}",
        "{\"type\": \"update\", \"queue\": \"default\", \"data\": {\"attributes\": {\"nodes\": {\"r.4\": {\"labels\": {\"value\": {\"text\": 4}}}}}, \"animation\": {}}}",
        "{\"type\": \"update\", \"queue\": \"default\", \"data\": {\"attributes\": {\"edges\": {\"center-r.4\": {\"visible\": true, \"source\": \"r.4\", \"target\": \"center\"}}}, \"animation\": {}}}",
        "{\"type\": \"update\", \"queue\": \"default\", \"data\": {\"attributes\": {\"edges\": {\"center-r.4\": {\"length\": 130}}}, \"animation\": {\"duration\": 0}}}",
        "{\"type\": \"update\", \"queue\": \"default\", \"data\": {\"attributes\": {\"edges\": {\"center-r.4\": {\"directed\": true}}}, \"animation\": {\"duration\": 0}}}",
        "{\"type\": \"update\", \"queue\": \"default\", \"data\": {\"attributes\": {\"edges\": {\"r.4-r.5\": {\"visible\": true, \"source\": \"r.4\", \"target\": \"r.5\"}}}, \"animation\": {}}}",
        "{\"type\": \"update\", \"queue\": \"default\", \"data\": {\"attributes\": {\"edges\": {\"r.4-r.5\": {\"length\": 120}}}, \"animation\": {\"duration\": 0}}}",
        "{\"type\": \"update\", \"queue\": \"default\", \"data\": {\"attributes\": {\"nodes\": {\"r.5\": {\"labels\": {\"value\": {\"text\": 5}}}}}, \"animation\": {}}}",
        "{\"type\": \"update\", \"queue\": \"default\", \"data\": {\"attributes\": {\"edges\": {\"center-r.5\": {\"visible\": true, \"source\": \"r.5\", \"target\": \"center\"}}}, \"animation\": {}}}",
        "{\"type\": \"update\", \"queue\": \"default\", \"data\": {\"attributes\": {\"edges\": {\"center-r.5\": {\"length\": 130}}}, \"animation\": {\"duration\": 0}}}",
        "{\"type\": \"update\", \"queue\": \"default\", \"data\": {\"attributes\": {\"edges\": {\"center-r.5\": {\"directed\": true}}}, \"animation\": {\"duration\": 0}}}",
        "{\"type\": \"update\", \"queue\": \"default\", \"data\": {\"attributes\": {\"edges\": {\"r.5-r.6\": {\"visible\": true, \"source\": \"r.5\", \"target\": \"r.6\"}}}, \"animation\": {}}}",
        "{\"type\": \"update\", \"queue\": \"default\", \"data\": {\"attributes\": {\"edges\": {\"r.5-r.6\": {\"length\": 120}}}, \"animation\": {\"duration\": 0}}}",
        "{\"type\": \"update\", \"queue\": \"default\", \"data\": {\"attributes\": {\"nodes\": {\"r.6\": {\"labels\": {\"value\": {\"text\": 6}}}}}, \"animation\": {}}}",
        "{\"type\": \"update\", \"queue\": \"default\", \"data\": {\"attributes\": {\"edges\": {\"center-r.6\": {\"visible\": true, \"source\": \"r.6\", \"target\": \"center\"}}}, \"animation\": {}}}",
        "{\"type\": \"update\", \"queue\": \"default\", \"data\": {\"attributes\": {\"edges\": {\"center-r.6\": {\"length\": 130}}}, \"animation\": {\"duration\": 0}}}",
        "{\"type\": \"update\", \"queue\": \"default\", \"data\": {\"attributes\": {\"edges\": {\"center-r.6\": {\"directed\": true}}}, \"animation\": {\"duration\": 0}}}",
        "{\"type\": \"update\", \"queue\": \"default\", \"data\": {\"attributes\": {\"edges\": {\"r.1-r.6\": {\"visible\": true, \"source\": \"r.6\", \"target\": \"r.1\"}}}, \"animation\": {}}}",
        "{\"type\": \"update\", \"queue\": \"default\", \"data\": {\"attributes\": {\"edges\": {\"r.1-r.6\": {\"length\": 120}}}, \"animation\": {\"duration\": 0}}}",
        "{\"type\": \"update\", \"queue\": \"default\", \"data\": {\"attributes\": {\"nodes\": {\"r.1\": {\"color\": \"red\"}}}, \"animation\": {}}}",
        "{\"type\": \"update\", \"queue\": \"default\", \"data\": {\"attributes\": {\"nodes\": {\"r.2\": {\"color\": \"blue\"}}}, \"animation\": {}}}",
        "{\"type\": \"update\", \"queue\": \"default\", \"data\": {\"attributes\": {\"nodes\": {\"r.3\": {\"color\": \"green\"}}}, \"animation\": {}}}",
        "{\"type\": \"update\", \"queue\": \"default\", \"data\": {\"attributes\": {\"nodes\": {\"r.4\": {\"color\": \"orange\"}}}, \"animation\": {}}}",
        "{\"type\": \"update\", \"queue\": \"default\", \"data\": {\"attributes\": {\"nodes\": {\"r.5\": {\"color\": \"green\"}}}, \"animation\": {}}}",
        "{\"type\": \"update\", \"queue\": \"default\", \"data\": {\"attributes\": {\"nodes\": {\"r.6\": {\"color\": \"blue\"}}}, \"animation\": {}}}",
        "{\"type\": \"update\", \"queue\": \"default\", \"data\": {\"attributes\": {\"edges\": {\"r.6-r.6-1\": {\"visible\": true, \"source\": \"r.6\", \"target\": \"r.6\"}, \"r.6-r.6-2\": {\"visible\": true, \"source\": \"r.6\", \"target\": \"r.6\"}}}, \"animation\": {}}}",
        "{\"type\": \"update\", \"queue\": \"default\", \"data\": {\"attributes\": {\"nodes\": {\"D3\": {\"visible\": true}}}, \"animation\": {}}}",
        "{\"type\": \"update\", \"queue\": \"default\", \"data\": {\"attributes\": {\"nodes\": {\"D3\": {\"size\": 40}}}, \"animation\": {\"duration\": 0}}}",
        "{\"type\": \"update\", \"queue\": \"default\", \"data\": {\"attributes\": {\"nodes\": {\"D3\": {\"labels\": {\"value\": {\"text\": \"Rendered\\nwith D3\"}}}}}, \"animation\": {\"duration\": 0}}}",
        "{\"type\": \"update\", \"queue\": \"default\", \"data\": {\"attributes\": {\"edges\": {\"D3-r.1-1\": {\"visible\": true, \"source\": \"r.1\", \"target\": \"D3\"}, \"D3-r.1-2\": {\"visible\": true, \"source\": \"r.1\", \"target\": \"D3\"}, \"D3-r.1-3\": {\"visible\": true, \"source\": \"r.1\", \"target\": \"D3\"}, \"D3-r.1-4\": {\"visible\": true, \"source\": \"r.1\", \"target\": \"D3\"}, \"D3-r.1-5\": {\"visible\": true, \"source\": \"r.1\", \"target\": \"D3\"}}}, \"animation\": {}}}",
        "{\"type\": \"update\", \"queue\": \"default\", \"data\": {\"attributes\": {\"edges\": {\"D3-r.1-1\": {\"length\": 100}, \"D3-r.1-2\": {\"length\": 100}, \"D3-r.1-3\": {\"length\": 100}, \"D3-r.1-4\": {\"length\": 100}, \"D3-r.1-5\": {\"length\": 100}}}, \"animation\": {\"duration\": 0}}}",
        "{\"type\": \"update\", \"queue\": \"default\", \"data\": {\"attributes\": {\"nodes\": {\"cola\": {\"visible\": true}}}, \"animation\": {}}}",
        "{\"type\": \"update\", \"queue\": \"default\", \"data\": {\"attributes\": {\"nodes\": {\"cola\": {\"shape\": \"rect\"}}}, \"animation\": {\"duration\": 0}}}",
        "{\"type\": \"update\", \"queue\": \"default\", \"data\": {\"attributes\": {\"nodes\": {\"cola\": {\"size\": [40, 25]}}}, \"animation\": {\"duration\": 0}}}",
        "{\"type\": \"update\", \"queue\": \"default\", \"data\": {\"attributes\": {\"nodes\": {\"cola\": {\"labels\": {\"value\": {\"text\": \"Layout by\\nWebCola\"}}}}}, \"animation\": {\"duration\": 0}}}",
        "{\"type\": \"update\", \"queue\": \"default\", \"data\": {\"attributes\": {\"edges\": {\"cola-r.4\": {\"visible\": true, \"source\": \"r.4\", \"target\": \"cola\"}}}, \"animation\": {}}}",
        "{\"type\": \"update\", \"queue\": \"default\", \"data\": {\"attributes\": {\"edges\": {\"cola-r.4\": {\"path\": [[-5, 10], [5, -10]]}}}, \"animation\": {\"duration\": 0}}}",
        "{\"type\": \"update\", \"queue\": \"default\", \"data\": {\"attributes\": {\"edges\": {\"cola-r.4\": {\"length\": 100}}}, \"animation\": {\"duration\": 0}}}",
        "{\"type\": \"update\", \"queue\": \"default\", \"data\": {\"attributes\": {\"edges\": {\"cola-r.4\": {\"flip\": false}}}, \"animation\": {\"duration\": 0}}}",
        "{\"type\": \"update\", \"queue\": \"default\", \"data\": {\"attributes\": {\"nodes\": {\"clock\": {\"visible\": true}}}, \"animation\": {}}}",
        "{\"type\": \"update\", \"queue\": \"default\", \"data\": {\"attributes\": {\"nodes\": {\"clock\": {\"size\": 25}}}, \"animation\": {\"duration\": 0}}}",
        "{\"type\": \"update\", \"queue\": \"default\", \"data\": {\"attributes\": {\"nodes\": {\"clock\": {\"labels\": {\"value\": {\"text\": \"\\ud83d\\udd53\"}}}}}, \"animation\": {\"duration\": 0}}}",
        "{\"type\": \"update\", \"queue\": \"default\", \"data\": {\"attributes\": {\"nodes\": {\"clock\": {\"labels\": {\"value\": {\"size\": 18}}}}}, \"animation\": {\"duration\": 0}}}",
        "{\"type\": \"update\", \"queue\": \"default\", \"data\": {\"attributes\": {\"nodes\": {\"clock\": {\"labels\": {\"value\": {\"pos\": [0, -3]}}}}}, \"animation\": {\"duration\": 0}}}",
        "{\"type\": \"update\", \"queue\": \"default\", \"data\": {\"attributes\": {\"nodes\": {\"clock\": {\"labels\": {\"1\": {\"visible\": true}}}}}, \"animation\": {}}}",
        "{\"type\": \"update\", \"queue\": \"default\", \"data\": {\"attributes\": {\"nodes\": {\"clock\": {\"labels\": {\"1\": {\"radius\": \"r+5\"}}}}}, \"animation\": {\"duration\": 0}}}",
        "{\"type\": \"update\", \"queue\": \"default\", \"data\": {\"attributes\": {\"nodes\": {\"clock\": {\"labels\": {\"1\": {\"angle\": 60}}}}}, \"animation\": {\"duration\": 0}}}",
        "{\"type\": \"update\", \"queue\": \"default\", \"data\": {\"attributes\": {\"nodes\": {\"clock\": {\"labels\": {\"1\": {\"size\": 11}}}}}, \"animation\": {\"duration\": 0}}}",
        "{\"type\": \"update\", \"queue\": \"default\", \"data\": {\"attributes\": {\"nodes\": {\"clock\": {\"labels\": {\"1\": {\"rotate\": true}}}}}, \"animation\": {\"duration\": 0}}}",
        "{\"type\": \"update\", \"queue\": \"default\", \"data\": {\"attributes\": {\"nodes\": {\"clock\": {\"labels\": {\"2\": {\"visible\": true}}}}}, \"animation\": {}}}",
        "{\"type\": \"update\", \"queue\": \"default\", \"data\": {\"attributes\": {\"nodes\": {\"clock\": {\"labels\": {\"2\": {\"radius\": \"r+5\"}}}}}, \"animation\": {\"duration\": 0}}}",
        "{\"type\": \"update\", \"queue\": \"default\", \"data\": {\"attributes\": {\"nodes\": {\"clock\": {\"labels\": {\"2\": {\"angle\": 30}}}}}, \"animation\": {\"duration\": 0}}}",
        "{\"type\": \"update\", \"queue\": \"default\", \"data\": {\"attributes\": {\"nodes\": {\"clock\": {\"labels\": {\"2\": {\"size\": 11}}}}}, \"animation\": {\"duration\": 0}}}",
        "{\"type\": \"update\", \"queue\": \"default\", \"data\": {\"attributes\": {\"nodes\": {\"clock\": {\"labels\": {\"2\": {\"rotate\": true}}}}}, \"animation\": {\"duration\": 0}}}",
        "{\"type\": \"update\", \"queue\": \"default\", \"data\": {\"attributes\": {\"nodes\": {\"clock\": {\"labels\": {\"3\": {\"visible\": true}}}}}, \"animation\": {}}}",
        "{\"type\": \"update\", \"queue\": \"default\", \"data\": {\"attributes\": {\"nodes\": {\"clock\": {\"labels\": {\"3\": {\"radius\": \"r+5\"}}}}}, \"animation\": {\"duration\": 0}}}",
        "{\"type\": \"update\", \"queue\": \"default\", \"data\": {\"attributes\": {\"nodes\": {\"clock\": {\"labels\": {\"3\": {\"angle\": 0}}}}}, \"animation\": {\"duration\": 0}}}",
        "{\"type\": \"update\", \"queue\": \"default\", \"data\": {\"attributes\": {\"nodes\": {\"clock\": {\"labels\": {\"3\": {\"size\": 11}}}}}, \"animation\": {\"duration\": 0}}}",
        "{\"type\": \"update\", \"queue\": \"default\", \"data\": {\"attributes\": {\"nodes\": {\"clock\": {\"labels\": {\"3\": {\"rotate\": true}}}}}, \"animation\": {\"duration\": 0}}}",
        "{\"type\": \"update\", \"queue\": \"default\", \"data\": {\"attributes\": {\"nodes\": {\"clock\": {\"labels\": {\"4\": {\"visible\": true}}}}}, \"animation\": {}}}",
        "{\"type\": \"update\", \"queue\": \"default\", \"data\": {\"attributes\": {\"nodes\": {\"clock\": {\"labels\": {\"4\": {\"radius\": \"r+5\"}}}}}, \"animation\": {\"duration\": 0}}}",
        "{\"type\": \"update\", \"queue\": \"default\", \"data\": {\"attributes\": {\"nodes\": {\"clock\": {\"labels\": {\"4\": {\"angle\": -30}}}}}, \"animation\": {\"duration\": 0}}}",
        "{\"type\": \"update\", \"queue\": \"default\", \"data\": {\"attributes\": {\"nodes\": {\"clock\": {\"labels\": {\"4\": {\"size\": 11}}}}}, \"animation\": {\"duration\": 0}}}",
        "{\"type\": \"update\", \"queue\": \"default\", \"data\": {\"attributes\": {\"nodes\": {\"clock\": {\"labels\": {\"4\": {\"rotate\": true}}}}}, \"animation\": {\"duration\": 0}}}",
        "{\"type\": \"update\", \"queue\": \"default\", \"data\": {\"attributes\": {\"nodes\": {\"clock\": {\"labels\": {\"5\": {\"visible\": true}}}}}, \"animation\": {}}}",
        "{\"type\": \"update\", \"queue\": \"default\", \"data\": {\"attributes\": {\"nodes\": {\"clock\": {\"labels\": {\"5\": {\"radius\": \"r+5\"}}}}}, \"animation\": {\"duration\": 0}}}",
        "{\"type\": \"update\", \"queue\": \"default\", \"data\": {\"attributes\": {\"nodes\": {\"clock\": {\"labels\": {\"5\": {\"angle\": -60}}}}}, \"animation\": {\"duration\": 0}}}",
        "{\"type\": \"update\", \"queue\": \"default\", \"data\": {\"attributes\": {\"nodes\": {\"clock\": {\"labels\": {\"5\": {\"size\": 11}}}}}, \"animation\": {\"duration\": 0}}}",
        "{\"type\": \"update\", \"queue\": \"default\", \"data\": {\"attributes\": {\"nodes\": {\"clock\": {\"labels\": {\"5\": {\"rotate\": true}}}}}, \"animation\": {\"duration\": 0}}}",
        "{\"type\": \"update\", \"queue\": \"default\", \"data\": {\"attributes\": {\"nodes\": {\"clock\": {\"labels\": {\"6\": {\"visible\": true}}}}}, \"animation\": {}}}",
        "{\"type\": \"update\", \"queue\": \"default\", \"data\": {\"attributes\": {\"nodes\": {\"clock\": {\"labels\": {\"6\": {\"radius\": \"r+5\"}}}}}, \"animation\": {\"duration\": 0}}}",
        "{\"type\": \"update\", \"queue\": \"default\", \"data\": {\"attributes\": {\"nodes\": {\"clock\": {\"labels\": {\"6\": {\"angle\": -90}}}}}, \"animation\": {\"duration\": 0}}}",
        "{\"type\": \"update\", \"queue\": \"default\", \"data\": {\"attributes\": {\"nodes\": {\"clock\": {\"labels\": {\"6\": {\"size\": 11}}}}}, \"animation\": {\"duration\": 0}}}",
        "{\"type\": \"update\", \"queue\": \"default\", \"data\": {\"attributes\": {\"nodes\": {\"clock\": {\"labels\": {\"6\": {\"rotate\": true}}}}}, \"animation\": {\"duration\": 0}}}",
        "{\"type\": \"update\", \"queue\": \"default\", \"data\": {\"attributes\": {\"nodes\": {\"clock\": {\"labels\": {\"7\": {\"visible\": true}}}}}, \"animation\": {}}}",
        "{\"type\": \"update\", \"queue\": \"default\", \"data\": {\"attributes\": {\"nodes\": {\"clock\": {\"labels\": {\"7\": {\"radius\": \"r+5\"}}}}}, \"animation\": {\"duration\": 0}}}",
        "{\"type\": \"update\", \"queue\": \"default\", \"data\": {\"attributes\": {\"nodes\": {\"clock\": {\"labels\": {\"7\": {\"angle\": -120}}}}}, \"animation\": {\"duration\": 0}}}",
        "{\"type\": \"update\", \"queue\": \"default\", \"data\": {\"attributes\": {\"nodes\": {\"clock\": {\"labels\": {\"7\": {\"size\": 11}}}}}, \"animation\": {\"duration\": 0}}}",
        "{\"type\": \"update\", \"queue\": \"default\", \"data\": {\"attributes\": {\"nodes\": {\"clock\": {\"labels\": {\"7\": {\"rotate\": true}}}}}, \"animation\": {\"duration\": 0}}}",
        "{\"type\": \"update\", \"queue\": \"default\", \"data\": {\"attributes\": {\"nodes\": {\"clock\": {\"labels\": {\"8\": {\"visible\": true}}}}}, \"animation\": {}}}",
        "{\"type\": \"update\", \"queue\": \"default\", \"data\": {\"attributes\": {\"nodes\": {\"clock\": {\"labels\": {\"8\": {\"radius\": \"r+5\"}}}}}, \"animation\": {\"duration\": 0}}}",
        "{\"type\": \"update\", \"queue\": \"default\", \"data\": {\"attributes\": {\"nodes\": {\"clock\": {\"labels\": {\"8\": {\"angle\": -150}}}}}, \"animation\": {\"duration\": 0}}}",
        "{\"type\": \"update\", \"queue\": \"default\", \"data\": {\"attributes\": {\"nodes\": {\"clock\": {\"labels\": {\"8\": {\"size\": 11}}}}}, \"animation\": {\"duration\": 0}}}",
        "{\"type\": \"update\", \"queue\": \"default\", \"data\": {\"attributes\": {\"nodes\": {\"clock\": {\"labels\": {\"8\": {\"rotate\": true}}}}}, \"animation\": {\"duration\": 0}}}",
        "{\"type\": \"update\", \"queue\": \"default\", \"data\": {\"attributes\": {\"nodes\": {\"clock\": {\"labels\": {\"9\": {\"visible\": true}}}}}, \"animation\": {}}}",
        "{\"type\": \"update\", \"queue\": \"default\", \"data\": {\"attributes\": {\"nodes\": {\"clock\": {\"labels\": {\"9\": {\"radius\": \"r+5\"}}}}}, \"animation\": {\"duration\": 0}}}",
        "{\"type\": \"update\", \"queue\": \"default\", \"data\": {\"attributes\": {\"nodes\": {\"clock\": {\"labels\": {\"9\": {\"angle\": -180}}}}}, \"animation\": {\"duration\": 0}}}",
        "{\"type\": \"update\", \"queue\": \"default\", \"data\": {\"attributes\": {\"nodes\": {\"clock\": {\"labels\": {\"9\": {\"size\": 11}}}}}, \"animation\": {\"duration\": 0}}}",
        "{\"type\": \"update\", \"queue\": \"default\", \"data\": {\"attributes\": {\"nodes\": {\"clock\": {\"labels\": {\"9\": {\"rotate\": true}}}}}, \"animation\": {\"duration\": 0}}}",
        "{\"type\": \"update\", \"queue\": \"default\", \"data\": {\"attributes\": {\"nodes\": {\"clock\": {\"labels\": {\"10\": {\"visible\": true}}}}}, \"animation\": {}}}",
        "{\"type\": \"update\", \"queue\": \"default\", \"data\": {\"attributes\": {\"nodes\": {\"clock\": {\"labels\": {\"10\": {\"radius\": \"r+5\"}}}}}, \"animation\": {\"duration\": 0}}}",
        "{\"type\": \"update\", \"queue\": \"default\", \"data\": {\"attributes\": {\"nodes\": {\"clock\": {\"labels\": {\"10\": {\"angle\": -210}}}}}, \"animation\": {\"duration\": 0}}}",
        "{\"type\": \"update\", \"queue\": \"default\", \"data\": {\"attributes\": {\"nodes\": {\"clock\": {\"labels\": {\"10\": {\"size\": 11}}}}}, \"animation\": {\"duration\": 0}}}",
        "{\"type\": \"update\", \"queue\": \"default\", \"data\": {\"attributes\": {\"nodes\": {\"clock\": {\"labels\": {\"10\": {\"rotate\": true}}}}}, \"animation\": {\"duration\": 0}}}",
        "{\"type\": \"update\", \"queue\": \"default\", \"data\": {\"attributes\": {\"nodes\": {\"clock\": {\"labels\": {\"11\": {\"visible\": true}}}}}, \"animation\": {}}}",
        "{\"type\": \"update\", \"queue\": \"default\", \"data\": {\"attributes\": {\"nodes\": {\"clock\": {\"labels\": {\"11\": {\"radius\": \"r+5\"}}}}}, \"animation\": {\"duration\": 0}}}",
        "{\"type\": \"update\", \"queue\": \"default\", \"data\": {\"attributes\": {\"nodes\": {\"clock\": {\"labels\": {\"11\": {\"angle\": -240}}}}}, \"animation\": {\"duration\": 0}}}",
        "{\"type\": \"update\", \"queue\": \"default\", \"data\": {\"attributes\": {\"nodes\": {\"clock\": {\"labels\": {\"11\": {\"size\": 11}}}}}, \"animation\": {\"duration\": 0}}}",
        "{\"type\": \"update\", \"queue\": \"default\", \"data\": {\"attributes\": {\"nodes\": {\"clock\": {\"labels\": {\"11\": {\"rotate\": true}}}}}, \"animation\": {\"duration\": 0}}}",
        "{\"type\": \"update\", \"queue\": \"default\", \"data\": {\"attributes\": {\"nodes\": {\"clock\": {\"labels\": {\"12\": {\"visible\": true}}}}}, \"animation\": {}}}",
        "{\"type\": \"update\", \"queue\": \"default\", \"data\": {\"attributes\": {\"nodes\": {\"clock\": {\"labels\": {\"12\": {\"radius\": \"r+5\"}}}}}, \"animation\": {\"duration\": 0}}}",
        "{\"type\": \"update\", \"queue\": \"default\", \"data\": {\"attributes\": {\"nodes\": {\"clock\": {\"labels\": {\"12\": {\"angle\": -270}}}}}, \"animation\": {\"duration\": 0}}}",
        "{\"type\": \"update\", \"queue\": \"default\", \"data\": {\"attributes\": {\"nodes\": {\"clock\": {\"labels\": {\"12\": {\"size\": 11}}}}}, \"animation\": {\"duration\": 0}}}",
        "{\"type\": \"update\", \"queue\": \"default\", \"data\": {\"attributes\": {\"nodes\": {\"clock\": {\"labels\": {\"12\": {\"rotate\": true}}}}}, \"animation\": {\"duration\": 0}}}",
        "{\"type\": \"update\", \"queue\": \"default\", \"data\": {\"attributes\": {\"edges\": {\"clock-r.2\": {\"visible\": true, \"source\": \"r.2\", \"target\": \"clock\"}}}, \"animation\": {}}}",
        "{\"type\": \"update\", \"queue\": \"default\", \"data\": {\"attributes\": {\"nodes\": {\"g.1\": {\"visible\": true}, \"g.2\": {\"visible\": true}, \"g.3\": {\"visible\": true}, \"g.4\": {\"visible\": true}, \"g.5\": {\"visible\": true}, \"g.6\": {\"visible\": true}, \"g.8\": {\"visible\": true}, \"g.9\": {\"visible\": true}}}, \"animation\": {}}}",
        "{\"type\": \"update\", \"queue\": \"default\", \"data\": {\"attributes\": {\"nodes\": {\"g.1\": {\"pos\": [-50, -50]}, \"g.2\": {\"pos\": [-50, -50]}, \"g.3\": {\"pos\": [-50, -50]}, \"g.4\": {\"pos\": [-50, -50]}, \"g.5\": {\"pos\": [-50, -50]}, \"g.6\": {\"pos\": [-50, -50]}, \"g.8\": {\"pos\": [-50, -50]}, \"g.9\": {\"pos\": [-50, -50]}}}, \"animation\": {\"duration\": 0}}}",
        "{\"type\": \"update\", \"queue\": \"default\", \"data\": {\"attributes\": {\"nodes\": {\"g.1\": {\"labels\": {\"value\": null}}, \"g.2\": {\"labels\": {\"value\": null}}, \"g.3\": {\"labels\": {\"value\": null}}, \"g.4\": {\"labels\": {\"value\": null}}, \"g.5\": {\"labels\": {\"value\": null}}, \"g.6\": {\"labels\": {\"value\": null}}, \"g.8\": {\"labels\": {\"value\": null}}, \"g.9\": {\"labels\": {\"value\": null}}}}, \"animation\": {\"duration\": 0}}}",
        "{\"type\": \"update\", \"queue\": \"default\", \"data\": {\"attributes\": {\"edges\": {\"g.1-r.5\": {\"visible\": true, \"source\": \"g.1\", \"target\": \"r.5\"}}}, \"animation\": {}}}",
        "{\"type\": \"update\", \"queue\": \"default\", \"data\": {\"attributes\": {\"edges\": {\"g.2-r.4\": {\"visible\": true, \"source\": \"g.2\", \"target\": \"r.4\"}}}, \"animation\": {}}}",
        "{\"type\": \"update\", \"queue\": \"default\", \"data\": {\"attributes\": {\"edges\": {\"g.1-g.2\": {\"visible\": true, \"source\": \"g.1\", \"target\": \"g.2\"}, \"g.1-g.3\": {\"visible\": true, \"source\": \"g.1\", \"target\": \"g.3\"}, \"g.2-g.3\": {\"visible\": true, \"source\": \"g.3\", \"target\": \"g.2\"}, \"g.3-g.4\": {\"visible\": true, \"source\": \"g.3\", \"target\": \"g.4\"}, \"g.2-g.4\": {\"visible\": true, \"source\": \"g.4\", \"target\": \"g.2\"}, \"g.3-g.5\": {\"visible\": true, \"source\": \"g.5\", \"target\": \"g.3\"}, \"g.5-g.6\": {\"visible\": true, \"source\": \"g.6\", \"target\": \"g.5\"}, \"g.4-g.5\": {\"visible\": true, \"source\": \"g.5\", \"target\": \"g.4\"}, \"g.4-g.6\": {\"visible\": true, \"source\": \"g.6\", \"target\": \"g.4\"}, \"g.8-g.9\": {\"visible\": true, \"source\": \"g.8\", \"target\": \"g.9\"}, \"g.1-g.9\": {\"visible\": true, \"source\": \"g.9\", \"target\": \"g.1\"}, \"g.3-g.8\": {\"visible\": true, \"source\": \"g.3\", \"target\": \"g.8\"}, \"g.3-g.9\": {\"visible\": true, \"source\": \"g.3\", \"target\": \"g.9\"}}}, \"animation\": {}}}",
        "{\"type\": \"update\", \"queue\": \"default\", \"data\": {\"attributes\": {\"edges\": {\"g.1-g.2\": {\"labels\": {\"weight\": {\"visible\": true}}}, \"g.1-g.3\": {\"labels\": {\"weight\": {\"visible\": true}}}, \"g.2-g.3\": {\"labels\": {\"weight\": {\"visible\": true}}}, \"g.3-g.4\": {\"labels\": {\"weight\": {\"visible\": true}}}, \"g.2-g.4\": {\"labels\": {\"weight\": {\"visible\": true}}}, \"g.3-g.5\": {\"labels\": {\"weight\": {\"visible\": true}}}, \"g.5-g.6\": {\"labels\": {\"weight\": {\"visible\": true}}}, \"g.4-g.5\": {\"labels\": {\"weight\": {\"visible\": true}}}, \"g.4-g.6\": {\"labels\": {\"weight\": {\"visible\": true}}}, \"g.8-g.9\": {\"labels\": {\"weight\": {\"visible\": true}}}, \"g.1-g.9\": {\"labels\": {\"weight\": {\"visible\": true}}}, \"g.3-g.8\": {\"labels\": {\"weight\": {\"visible\": true}}}, \"g.3-g.9\": {\"labels\": {\"weight\": {\"visible\": true}}}}}, \"animation\": {\"duration\": 0}}}",
        "{\"type\": \"update\", \"queue\": \"default\", \"data\": {\"attributes\": {\"edges\": {\"g.1-g.2\": {\"labels\": {\"weight\": {\"text\": 11}}}, \"g.1-g.3\": {\"labels\": {\"weight\": {\"text\": 14}}}, \"g.2-g.3\": {\"labels\": {\"weight\": {\"text\": 17}}}, \"g.3-g.4\": {\"labels\": {\"weight\": {\"text\": 19}}}, \"g.2-g.4\": {\"labels\": {\"weight\": {\"text\": 10}}}, \"g.3-g.5\": {\"labels\": {\"weight\": {\"text\": 14}}}, \"g.5-g.6\": {\"labels\": {\"weight\": {\"text\": 19}}}, \"g.4-g.5\": {\"labels\": {\"weight\": {\"text\": 5}}}, \"g.4-g.6\": {\"labels\": {\"weight\": {\"text\": 17}}}, \"g.8-g.9\": {\"labels\": {\"weight\": {\"text\": 12}}}, \"g.1-g.9\": {\"labels\": {\"weight\": {\"text\": 7}}}, \"g.3-g.8\": {\"labels\": {\"weight\": {\"text\": 7}}}, \"g.3-g.9\": {\"labels\": {\"weight\": {\"text\": 7}}}}}, \"animation\": {\"duration\": 0}}}",
        "{\"type\": \"update\", \"queue\": \"default\", \"data\": {\"attributes\": {\"nodes\": {\"colorful\": {\"visible\": true}}}, \"animation\": {}}}",
        "{\"type\": \"update\", \"queue\": \"default\", \"data\": {\"attributes\": {\"nodes\": {\"colorful\": {\"shape\": \"rect\"}}}, \"animation\": {\"duration\": 0}}}",
        "{\"type\": \"update\", \"queue\": \"default\", \"data\": {\"attributes\": {\"nodes\": {\"colorful\": {\"size\": [30, 30]}}}, \"animation\": {\"duration\": 0}}}",
        "{\"type\": \"update\", \"queue\": \"default\", \"data\": {\"attributes\": {\"nodes\": {\"colorful\": {\"labels\": {\"value\": null}}}}, \"animation\": {\"duration\": 0}}}",
        "{\"type\": \"update\", \"queue\": \"default\", \"data\": {\"attributes\": {\"nodes\": {\"colorful\": {\"labels\": {\"green\": {\"visible\": true}}}}}, \"animation\": {\"duration\": 0}}}",
        "{\"type\": \"update\", \"queue\": \"default\", \"data\": {\"attributes\": {\"nodes\": {\"colorful\": {\"labels\": {\"green\": {\"radius\": 0}}}}}, \"animation\": {\"duration\": 0}}}",
        "{\"type\": \"update\", \"queue\": \"default\", \"data\": {\"attributes\": {\"nodes\": {\"colorful\": {\"labels\": {\"green\": {\"align\": \"middle\"}}}}}, \"animation\": {\"duration\": 0}}}",
        "{\"type\": \"update\", \"queue\": \"default\", \"data\": {\"attributes\": {\"nodes\": {\"colorful\": {\"labels\": {\"green\": {\"pos\": [0, \"0.5y\"]}}}}}, \"animation\": {\"duration\": 0}}}",
        "{\"type\": \"update\", \"queue\": \"default\", \"data\": {\"attributes\": {\"nodes\": {\"colorful\": {\"labels\": {\"green\": {\"text\": \"green\"}}}}}, \"animation\": {\"duration\": 0}}}",
        "{\"type\": \"update\", \"queue\": \"default\", \"data\": {\"attributes\": {\"nodes\": {\"colorful\": {\"labels\": {\"green\": {\"color\": \"green\"}}}}}, \"animation\": {\"duration\": 0}}}",
        "{\"type\": \"update\", \"queue\": \"default\", \"data\": {\"attributes\": {\"nodes\": {\"colorful\": {\"labels\": {\"yellow\": {\"visible\": true}}}}}, \"animation\": {\"duration\": 0}}}",
        "{\"type\": \"update\", \"queue\": \"default\", \"data\": {\"attributes\": {\"nodes\": {\"colorful\": {\"labels\": {\"yellow\": {\"radius\": 0}}}}}, \"animation\": {\"duration\": 0}}}",
        "{\"type\": \"update\", \"queue\": \"default\", \"data\": {\"attributes\": {\"nodes\": {\"colorful\": {\"labels\": {\"yellow\": {\"align\": \"middle\"}}}}}, \"animation\": {\"duration\": 0}}}",
        "{\"type\": \"update\", \"queue\": \"default\", \"data\": {\"attributes\": {\"nodes\": {\"colorful\": {\"labels\": {\"yellow\": {\"pos\": [0, 0]}}}}}, \"animation\": {\"duration\": 0}}}",
        "{\"type\": \"update\", \"queue\": \"default\", \"data\": {\"attributes\": {\"nodes\": {\"colorful\": {\"labels\": {\"yellow\": {\"text\": \"yellow\"}}}}}, \"animation\": {\"duration\": 0}}}",
        "{\"type\": \"update\", \"queue\": \"default\", \"data\": {\"attributes\": {\"nodes\": {\"colorful\": {\"labels\": {\"yellow\": {\"color\": \"yellow\"}}}}}, \"animation\": {\"duration\": 0}}}",
        "{\"type\": \"update\", \"queue\": \"default\", \"data\": {\"attributes\": {\"nodes\": {\"colorful\": {\"labels\": {\"pink\": {\"visible\": true}}}}}, \"animation\": {\"duration\": 0}}}",
        "{\"type\": \"update\", \"queue\": \"default\", \"data\": {\"attributes\": {\"nodes\": {\"colorful\": {\"labels\": {\"pink\": {\"radius\": 0}}}}}, \"animation\": {\"duration\": 0}}}",
        "{\"type\": \"update\", \"queue\": \"default\", \"data\": {\"attributes\": {\"nodes\": {\"colorful\": {\"labels\": {\"pink\": {\"align\": \"middle\"}}}}}, \"animation\": {\"duration\": 0}}}",
        "{\"type\": \"update\", \"queue\": \"default\", \"data\": {\"attributes\": {\"nodes\": {\"colorful\": {\"labels\": {\"pink\": {\"pos\": [0, \"-0.5y\"]}}}}}, \"animation\": {\"duration\": 0}}}",
        "{\"type\": \"update\", \"queue\": \"default\", \"data\": {\"attributes\": {\"nodes\": {\"colorful\": {\"labels\": {\"pink\": {\"text\": \"pink\"}}}}}, \"animation\": {\"duration\": 0}}}",
        "{\"type\": \"update\", \"queue\": \"default\", \"data\": {\"attributes\": {\"nodes\": {\"colorful\": {\"labels\": {\"pink\": {\"color\": \"pink\"}}}}}, \"animation\": {\"duration\": 0}}}",
        "{\"type\": \"update\", \"queue\": \"default\", \"data\": {\"attributes\": {\"nodes\": {\"colorful\": {\"labels\": {\"top-\\nleft\": {\"visible\": true}}}}}, \"animation\": {\"duration\": 0}}}",
        "{\"type\": \"update\", \"queue\": \"default\", \"data\": {\"attributes\": {\"nodes\": {\"colorful\": {\"labels\": {\"top-\\nleft\": {\"angle\": 135}}}}}, \"animation\": {\"duration\": 0}}}",
        "{\"type\": \"update\", \"queue\": \"default\", \"data\": {\"attributes\": {\"nodes\": {\"colorful\": {\"labels\": {\"top-\\nleft\": {\"rotate\": true}}}}}, \"animation\": {\"duration\": 0}}}",
        "{\"type\": \"update\", \"queue\": \"default\", \"data\": {\"attributes\": {\"nodes\": {\"colorful\": {\"labels\": {\"top-\\nleft\": {\"radius\": \"r+6\"}}}}}, \"animation\": {\"duration\": 0}}}",
        "{\"type\": \"update\", \"queue\": \"default\", \"data\": {\"attributes\": {\"nodes\": {\"colorful\": {\"labels\": {\"top-\\nright\": {\"visible\": true}}}}}, \"animation\": {\"duration\": 0}}}",
        "{\"type\": \"update\", \"queue\": \"default\", \"data\": {\"attributes\": {\"nodes\": {\"colorful\": {\"labels\": {\"top-\\nright\": {\"angle\": 45}}}}}, \"animation\": {\"duration\": 0}}}",
        "{\"type\": \"update\", \"queue\": \"default\", \"data\": {\"attributes\": {\"nodes\": {\"colorful\": {\"labels\": {\"top-\\nright\": {\"rotate\": true}}}}}, \"animation\": {\"duration\": 0}}}",
        "{\"type\": \"update\", \"queue\": \"default\", \"data\": {\"attributes\": {\"nodes\": {\"colorful\": {\"labels\": {\"top-\\nright\": {\"radius\": \"r+6\"}}}}}, \"animation\": {\"duration\": 0}}}",
        "{\"type\": \"update\", \"queue\": \"default\", \"data\": {\"attributes\": {\"nodes\": {\"colorful\": {\"labels\": {\"bottom-\\nright\": {\"visible\": true}}}}}, \"animation\": {\"duration\": 0}}}",
        "{\"type\": \"update\", \"queue\": \"default\", \"data\": {\"attributes\": {\"nodes\": {\"colorful\": {\"labels\": {\"bottom-\\nright\": {\"angle\": -45}}}}}, \"animation\": {\"duration\": 0}}}",
        "{\"type\": \"update\", \"queue\": \"default\", \"data\": {\"attributes\": {\"nodes\": {\"colorful\": {\"labels\": {\"bottom-\\nright\": {\"rotate\": true}}}}}, \"animation\": {\"duration\": 0}}}",
        "{\"type\": \"update\", \"queue\": \"default\", \"data\": {\"attributes\": {\"nodes\": {\"colorful\": {\"labels\": {\"bottom-\\nleft\": {\"visible\": true}}}}}, \"animation\": {\"duration\": 0}}}",
        "{\"type\": \"update\", \"queue\": \"default\", \"data\": {\"attributes\": {\"nodes\": {\"colorful\": {\"labels\": {\"bottom-\\nleft\": {\"angle\": 225}}}}}, \"animation\": {\"duration\": 0}}}",
        "{\"type\": \"update\", \"queue\": \"default\", \"data\": {\"attributes\": {\"nodes\": {\"colorful\": {\"labels\": {\"bottom-\\nleft\": {\"rotate\": true}}}}}, \"animation\": {\"duration\": 0}}}",
        "{\"type\": \"update\", \"queue\": \"default\", \"data\": {\"attributes\": {\"edges\": {\"colorful-r.3\": {\"visible\": true, \"source\": \"r.3\", \"target\": \"colorful\"}}}, \"animation\": {}}}",
        "{\"type\": \"update\", \"queue\": \"default\", \"data\": {\"attributes\": {\"edges\": {\"colorful-r.3\": {\"color\": \"green\"}}}, \"animation\": {\"duration\": 0}}}"
       ],
       "_model_module_version": "^1.0.0",
       "_show_buttons": true,
       "_view_module_version": "^1.0.0",
       "_view_name": "CanvasView",
       "layout": "IPY_MODEL_648d1fe86b924e32825deb1815dc39b1"
      }
     },
     "e1ce9e9ae18a4e279bb79e4448bf6a09": {
      "model_module": "@jupyter-widgets/base",
      "model_module_version": "1.1.0",
      "model_name": "LayoutModel",
      "state": {}
     },
     "e39582dcb95648a19e011c6e9aa353ac": {
      "model_module": "@jupyter-widgets/base",
      "model_module_version": "1.1.0",
      "model_name": "LayoutModel",
      "state": {}
     },
     "e60e8f05870f4856bc5bc46fb41b3aa8": {
      "model_module": "@jupyter-widgets/controls",
      "model_module_version": "1.4.0",
      "model_name": "ButtonModel",
      "state": {
       "description": "Replay",
       "layout": "IPY_MODEL_743f8ffa888542afb8d304a9f6e163eb",
       "style": "IPY_MODEL_172eb22aacce42839cf8be2cbebcf00b"
      }
     },
     "e682761b718440c684e4fa65e2f02090": {
      "model_module": "@jupyter-widgets/base",
      "model_module_version": "1.1.0",
      "model_name": "LayoutModel",
      "state": {}
     },
     "e7e335707c30412b98c406b33961f49a": {
      "model_module": "@jupyter-widgets/base",
      "model_module_version": "1.1.0",
      "model_name": "LayoutModel",
      "state": {}
     },
     "e9cb0c5280ef4de484c4457f7e3de5d3": {
      "model_module": "algorithmx-jupyter",
      "model_module_version": "^1.0.0",
      "model_name": "CanvasModel",
      "state": {
       "_dispatch_events": [
        "{\"type\": \"cancel\", \"queue\": \"None\", \"data\": {\"queues\": null}}",
        "{\"type\": \"update\", \"queue\": \"default\", \"data\": {\"attributes\": null, \"animation\": {}}}",
        "{\"type\": \"update\", \"queue\": \"default\", \"data\": {\"attributes\": {\"size\": [200, 200]}, \"animation\": {}}}",
        "{\"type\": \"update\", \"queue\": \"default\", \"data\": {\"attributes\": {\"nodes\": {\"1\": {\"visible\": true}, \"2\": {\"visible\": true}}}, \"animation\": {}}}",
        "{\"type\": \"update\", \"queue\": \"default\", \"data\": {\"attributes\": {\"edges\": {\"1-2\": {\"visible\": true, \"source\": \"1\", \"target\": \"2\"}}}, \"animation\": {}}}",
        "{\"type\": \"pause\", \"queue\": \"default\", \"data\": {\"duration\": 0.5}}",
        "{\"type\": \"highlight\", \"queue\": \"default\", \"data\": {\"attributes\": {\"nodes\": {\"1\": {\"size\": \"1.5x\"}}}, \"animation\": {}}}",
        "{\"type\": \"pause\", \"queue\": \"default\", \"data\": {\"duration\": 0.5}}",
        "{\"type\": \"update\", \"queue\": \"default\", \"data\": {\"attributes\": {\"edges\": {\"1-2\": {\"color\": \"blue\"}}}, \"animation\": {\"type\": \"traverse\"}}}"
       ],
       "_model_module_version": "^1.0.0",
       "_view_module_version": "^1.0.0",
       "_view_name": "CanvasView",
       "layout": "IPY_MODEL_ebcf56b6eee04e108cfde9744d2ea01d"
      }
     },
     "e9ec7696b4324db9b5d4a32b1a86f64d": {
      "model_module": "algorithmx-jupyter",
      "model_module_version": "^1.0.0",
      "model_name": "CanvasModel",
      "state": {
       "_dispatch_events": [
        "{\"type\": \"cancel\", \"queue\": \"None\", \"data\": {\"queues\": null}}",
        "{\"type\": \"update\", \"queue\": \"default\", \"data\": {\"attributes\": {\"nodes\": {\"1\": {\"visible\": true}, \"2\": {\"visible\": true}}}, \"animation\": {}}}",
        "{\"type\": \"update\", \"queue\": \"default\", \"data\": {\"attributes\": {\"edges\": {\"1-2\": {\"visible\": true, \"source\": \"1\", \"target\": \"2\"}}}, \"animation\": {}}}",
        "{\"type\": \"pause\", \"queue\": \"default\", \"data\": {\"duration\": 0.5}}",
        "{\"type\": \"highlight\", \"queue\": \"default\", \"data\": {\"attributes\": {\"nodes\": {\"1\": {\"size\": \"1.5x\"}}}, \"animation\": {}}}",
        "{\"type\": \"pause\", \"queue\": \"default\", \"data\": {\"duration\": 0.5}}",
        "{\"type\": \"update\", \"queue\": \"default\", \"data\": {\"attributes\": {\"edges\": {\"1-2\": {\"color\": \"blue\"}}}, \"animation\": {\"type\": \"traverse\"}}}"
       ],
       "_model_module_version": "^1.0.0",
       "_view_module_version": "^1.0.0",
       "_view_name": "CanvasView",
       "layout": "IPY_MODEL_209bed88718242539ab29bb6b2c3d8e8"
      }
     },
     "e9f1cc1d08ca41429dca339abaf1051f": {
      "model_module": "algorithmx-jupyter",
      "model_module_version": "^1.0.0",
      "model_name": "CanvasModel",
      "state": {
       "_dispatch_events": [
        "{\"type\": \"update\", \"queue\": \"default\", \"data\": {\"attributes\": {\"nodes\": {\"1\": {\"visible\": true}, \"2\": {\"visible\": true}}}, \"animation\": {}}}",
        "{\"type\": \"update\", \"queue\": \"default\", \"data\": {\"attributes\": {\"edges\": {\"1-2\": {\"visible\": true, \"source\": \"1\", \"target\": \"2\"}}}, \"animation\": {}}}"
       ],
       "_model_module_version": "^1.0.0",
       "_show_buttons": false,
       "_view_module_version": "^1.0.0",
       "_view_name": "CanvasView",
       "layout": "IPY_MODEL_d688ece84ed84c84b9ac7d0d460756d9"
      }
     },
     "ead98f4398fe4e16a31715da4a7857f6": {
      "model_module": "algorithmx-jupyter",
      "model_module_version": "latest",
      "model_name": "CanvasModel",
      "state": {
       "_dispatch_events": [
        "{\"type\": \"update\", \"queue\": \"default\", \"data\": {\"attributes\": {\"size\": [300, 200]}, \"animation\": {}}}",
        "{\"type\": \"update\", \"queue\": \"default\", \"data\": {\"attributes\": {\"nodes\": {\"1\": {\"visible\": true}, \"2\": {\"visible\": true}}}, \"animation\": {}}}",
        "{\"type\": \"update\", \"queue\": \"default\", \"data\": {\"attributes\": {\"edges\": {\"1-2\": {\"visible\": true, \"source\": \"1\", \"target\": \"2\"}}}, \"animation\": {}}}",
        "{\"type\": \"pause\", \"queue\": \"default\", \"data\": {\"duration\": 0.5}}",
        "{\"type\": \"highlight\", \"queue\": \"default\", \"data\": {\"attributes\": {\"nodes\": {\"1\": {\"size\": \"1.5x\"}}}, \"animation\": {\"**\": {\"linger\": 1.0}}}}",
        "{\"type\": \"pause\", \"queue\": \"default\", \"data\": {\"duration\": 0.5}}",
        "{\"type\": \"update\", \"queue\": \"default\", \"data\": {\"attributes\": {\"edges\": {\"1-2\": {\"color\": \"blue\"}}}, \"animation\": {\"edges\": {\"1-2\": {\"**\": {\"type\": \"traverse\", \"data\": {\"source\": \"1\"}}}}}}}"
       ],
       "_model_module_version": "latest",
       "_show_buttons": true,
       "_view_module_version": "latest",
       "_view_name": "CanvasView",
       "layout": "IPY_MODEL_1d3b272e62044c9195eb91c16306ce5c"
      }
     },
     "eaddf51942ab4ad9a0fa25243155151d": {
      "model_module": "@jupyter-widgets/controls",
      "model_module_version": "1.4.0",
      "model_name": "ButtonStyleModel",
      "state": {}
     },
     "eb2641217e914c62acf499a596fedd3d": {
      "model_module": "@jupyter-widgets/base",
      "model_module_version": "1.1.0",
      "model_name": "LayoutModel",
      "state": {}
     },
     "ebcf56b6eee04e108cfde9744d2ea01d": {
      "model_module": "@jupyter-widgets/base",
      "model_module_version": "1.1.0",
      "model_name": "LayoutModel",
      "state": {}
     },
     "ed5fd43bfdff49bdbcdeb3b063c6aa17": {
      "model_module": "algorithmx-jupyter",
      "model_module_version": "latest",
      "model_name": "CanvasModel",
      "state": {
       "_dispatch_events": [
        "{\"type\": \"update\", \"queue\": \"default\", \"data\": {\"attributes\": {\"size\": [300, 200]}, \"animation\": {}}}",
        "{\"type\": \"update\", \"queue\": \"default\", \"data\": {\"attributes\": {\"nodes\": {\"1\": {\"visible\": true}, \"2\": {\"visible\": true}}}, \"animation\": {}}}",
        "{\"type\": \"update\", \"queue\": \"default\", \"data\": {\"attributes\": {\"edges\": {\"1-2\": {\"visible\": true, \"source\": \"1\", \"target\": \"2\"}}}, \"animation\": {}}}"
       ],
       "_model_module_version": "latest",
       "_show_buttons": false,
       "_view_module_version": "latest",
       "_view_name": "CanvasView",
       "layout": "IPY_MODEL_2a45847573a14074bf9ab6dd5eec0a14"
      }
     },
     "edbf57eaca9f4d749d02c641d64fb9d8": {
      "model_module": "@jupyter-widgets/base",
      "model_module_version": "1.1.0",
      "model_name": "LayoutModel",
      "state": {}
     },
     "edfabea6ee8241a2ab5ad99b068682d9": {
      "model_module": "@jupyter-widgets/base",
      "model_module_version": "1.1.0",
      "model_name": "LayoutModel",
      "state": {}
     },
     "ef940088785f43ffb7758f719a5fe0c0": {
      "model_module": "@jupyter-widgets/controls",
      "model_module_version": "1.4.0",
      "model_name": "ButtonModel",
      "state": {
       "description": "Replay",
       "layout": "IPY_MODEL_26315a58b5864d8888b99bdda455a479",
       "style": "IPY_MODEL_fc7a53439bba4526938a7a0ee7226d5d"
      }
     },
     "f0ed67a0a1d54e7d88a8d9bf4566aa05": {
      "model_module": "algorithmx-jupyter",
      "model_module_version": "^1.0.0",
      "model_name": "CanvasModel",
      "state": {
       "_dispatch_events": [
        "{\"type\": \"cancel\", \"queue\": \"None\", \"data\": {\"queues\": null}}",
        "{\"type\": \"update\", \"queue\": \"default\", \"data\": {\"attributes\": null, \"animation\": {}}}",
        "{\"type\": \"update\", \"queue\": \"default\", \"data\": {\"attributes\": {\"size\": [200, 200]}, \"animation\": {\"duration\": 0}}}",
        "{\"type\": \"update\", \"queue\": \"default\", \"data\": {\"attributes\": {\"nodes\": {\"1\": {\"visible\": true}, \"2\": {\"visible\": true}}}, \"animation\": {}}}",
        "{\"type\": \"update\", \"queue\": \"default\", \"data\": {\"attributes\": {\"edges\": {\"1-2\": {\"visible\": true, \"source\": \"1\", \"target\": \"2\"}}}, \"animation\": {}}}",
        "{\"type\": \"pause\", \"queue\": \"default\", \"data\": {\"duration\": 0.5}}",
        "{\"type\": \"highlight\", \"queue\": \"default\", \"data\": {\"attributes\": {\"nodes\": {\"1\": {\"size\": \"1.5x\"}}}, \"animation\": {}}}",
        "{\"type\": \"pause\", \"queue\": \"default\", \"data\": {\"duration\": 0.5}}",
        "{\"type\": \"update\", \"queue\": \"default\", \"data\": {\"attributes\": {\"edges\": {\"1-2\": {\"color\": \"blue\"}}}, \"animation\": {\"type\": \"traverse\"}}}"
       ],
       "_model_module_version": "^1.0.0",
       "_view_module_version": "^1.0.0",
       "_view_name": "CanvasView",
       "layout": "IPY_MODEL_89c24405347d4a0c99577fea7357acce"
      }
     },
     "f771f76507994c6aaea4b7c84ce26ce0": {
      "model_module": "algorithmx-jupyter",
      "model_module_version": "^1.0.0",
      "model_name": "CanvasModel",
      "state": {
       "_dispatch_events": [
        "{\"type\": \"update\", \"queue\": \"default\", \"data\": {\"attributes\": {\"size\": [300, 200]}, \"animation\": {}}}",
        "{\"type\": \"update\", \"queue\": \"default\", \"data\": {\"attributes\": {\"nodes\": {\"1\": {\"visible\": true}, \"2\": {\"visible\": true}}}, \"animation\": {}}}",
        "{\"type\": \"update\", \"queue\": \"default\", \"data\": {\"attributes\": {\"edges\": {\"1-2\": {\"visible\": true, \"source\": \"1\", \"target\": \"2\"}}}, \"animation\": {}}}"
       ],
       "_model_module_version": "^1.0.0",
       "_show_buttons": false,
       "_view_module_version": "^1.0.0",
       "_view_name": "CanvasView",
       "layout": "IPY_MODEL_abfbf9071d034c98854b30be7ef07ee9"
      }
     },
     "f77ff46344b443289e764a5e226ea357": {
      "model_module": "@jupyter-widgets/controls",
      "model_module_version": "1.4.0",
      "model_name": "ButtonStyleModel",
      "state": {}
     },
     "f8481df5ea254cd5a28697c19aa91b83": {
      "model_module": "algorithmx-jupyter",
      "model_module_version": "latest",
      "model_name": "CanvasModel",
      "state": {
       "_dispatch_events": [
        "{\"type\": \"update\", \"queue\": \"default\", \"data\": {\"attributes\": {\"size\": [300, 200]}, \"animation\": {}}}",
        "{\"type\": \"update\", \"queue\": \"default\", \"data\": {\"attributes\": {\"nodes\": {\"1\": {\"visible\": true}, \"2\": {\"visible\": true}}}, \"animation\": {}}}",
        "{\"type\": \"update\", \"queue\": \"default\", \"data\": {\"attributes\": {\"edges\": {\"1-2\": {\"visible\": true, \"source\": \"1\", \"target\": \"2\"}}}, \"animation\": {}}}",
        "{\"type\": \"pause\", \"queue\": \"default\", \"data\": {\"duration\": 0.5}}",
        "{\"type\": \"highlight\", \"queue\": \"default\", \"data\": {\"attributes\": {\"nodes\": {\"1\": {\"size\": \"1.25x\"}}}, \"animation\": {\"**\": {\"linger\": 1.0}}}}",
        "{\"type\": \"pause\", \"queue\": \"default\", \"data\": {\"duration\": 0.5}}",
        "{\"type\": \"update\", \"queue\": \"default\", \"data\": {\"attributes\": {\"edges\": {\"1-2\": {\"color\": \"blue\"}}}, \"animation\": {\"edges\": {\"1-2\": {\"**\": {\"type\": \"traverse\", \"data\": {\"source\": \"1\"}}}}}}}"
       ],
       "_model_module_version": "latest",
       "_show_buttons": true,
       "_view_module_version": "latest",
       "_view_name": "CanvasView",
       "layout": "IPY_MODEL_0931c0e119d24351b05d3cf0805f90d0"
      }
     },
     "f87228efc4d04ac3ac163eaf803be601": {
      "model_module": "@jupyter-widgets/base",
      "model_module_version": "1.1.0",
      "model_name": "LayoutModel",
      "state": {}
     },
     "f8fe73c1a69c4acda8d7573d91df719f": {
      "model_module": "@jupyter-widgets/base",
      "model_module_version": "1.1.0",
      "model_name": "LayoutModel",
      "state": {}
     },
     "f99359b7a16849da9c7765f5c140abd1": {
      "model_module": "algorithmx-jupyter",
      "model_module_version": "^1.0.0",
      "model_name": "CanvasModel",
      "state": {
       "_dispatch_events": [
        "{\"type\": \"update\", \"queue\": \"default\", \"data\": {\"attributes\": {\"svgattr\": {\"style\": \"overflow: hidden\"}}, \"animation\": {}}}",
        "{\"type\": \"update\", \"queue\": \"default\", \"data\": {\"attributes\": {\"nodes\": {\"1\": {\"visible\": true}, \"2\": {\"visible\": true}}}, \"animation\": {}}}",
        "{\"type\": \"update\", \"queue\": \"default\", \"data\": {\"attributes\": {\"edges\": {\"1-2\": {\"visible\": true, \"source\": \"1\", \"target\": \"2\"}}}, \"animation\": {}}}"
       ],
       "_model_module_version": "^1.0.0",
       "_show_buttons": false,
       "_view_module_version": "^1.0.0",
       "_view_name": "CanvasView",
       "layout": "IPY_MODEL_e39582dcb95648a19e011c6e9aa353ac"
      }
     },
     "fa7c88983b694d3393682c9aa7103894": {
      "model_module": "algorithmx-jupyter",
      "model_module_version": "^1.0.0",
      "model_name": "CanvasModel",
      "state": {
       "_dispatch_events": [
        "{\"type\": \"update\", \"queue\": \"default\", \"data\": {\"attributes\": {\"nodes\": {\"1\": {\"visible\": true}, \"2\": {\"visible\": true}}}, \"animation\": {}}}",
        "{\"type\": \"update\", \"queue\": \"default\", \"data\": {\"attributes\": {\"edges\": {\"1-2\": {\"visible\": true, \"source\": \"1\", \"target\": \"2\"}}}, \"animation\": {}}}"
       ],
       "_model_module_version": "^1.0.0",
       "_show_buttons": false,
       "_view_module_version": "^1.0.0",
       "_view_name": "CanvasView",
       "layout": "IPY_MODEL_aec7a021c6014a80a4bfdf600389a00d"
      }
     },
     "faf0cbb4b5374f66a8c93f5d73ed2937": {
      "model_module": "@jupyter-widgets/controls",
      "model_module_version": "1.4.0",
      "model_name": "ButtonModel",
      "state": {
       "description": "Replay",
       "layout": "IPY_MODEL_627628b0b82642249790a7a246692f2c",
       "style": "IPY_MODEL_11fceb9ae45e470cb7f3126b406b5980"
      }
     },
     "fc0aabe9f55240d9bad5fe0d04d71b32": {
      "model_module": "algorithmx-jupyter",
      "model_module_version": "^1.0.0",
      "model_name": "CanvasModel",
      "state": {
       "_dispatch_events": [
        "{\"type\": \"cancel\", \"queue\": \"None\", \"data\": {\"queues\": null}}",
        "{\"type\": \"update\", \"queue\": \"default\", \"data\": {\"attributes\": null, \"animation\": {}}}",
        "{\"type\": \"update\", \"queue\": \"default\", \"data\": {\"attributes\": {\"size\": [200, 200]}, \"animation\": {}}}",
        "{\"type\": \"update\", \"queue\": \"default\", \"data\": {\"attributes\": {\"nodes\": {\"1\": {\"visible\": true}, \"2\": {\"visible\": true}}}, \"animation\": {}}}",
        "{\"type\": \"update\", \"queue\": \"default\", \"data\": {\"attributes\": {\"edges\": {\"1-2\": {\"visible\": true, \"source\": \"1\", \"target\": \"2\"}}}, \"animation\": {}}}",
        "{\"type\": \"pause\", \"queue\": \"default\", \"data\": {\"duration\": 0.5}}",
        "{\"type\": \"highlight\", \"queue\": \"default\", \"data\": {\"attributes\": {\"nodes\": {\"1\": {\"size\": \"1.5x\"}}}, \"animation\": {}}}",
        "{\"type\": \"pause\", \"queue\": \"default\", \"data\": {\"duration\": 0.5}}",
        "{\"type\": \"update\", \"queue\": \"default\", \"data\": {\"attributes\": {\"edges\": {\"1-2\": {\"color\": \"blue\"}}}, \"animation\": {\"type\": \"traverse\"}}}"
       ],
       "_model_module_version": "^1.0.0",
       "_view_module_version": "^1.0.0",
       "_view_name": "CanvasView",
       "layout": "IPY_MODEL_0ef6e2354f2448dfb852163fcaf5b9d5"
      }
     },
     "fc7a53439bba4526938a7a0ee7226d5d": {
      "model_module": "@jupyter-widgets/controls",
      "model_module_version": "1.4.0",
      "model_name": "ButtonStyleModel",
      "state": {}
     },
     "fda1023757854544bd98af88d83bdd4b": {
      "model_module": "@jupyter-widgets/base",
      "model_module_version": "1.1.0",
      "model_name": "LayoutModel",
      "state": {}
     },
     "fef1ce03566244769e95347778f2ae8e": {
      "model_module": "@jupyter-widgets/base",
      "model_module_version": "1.1.0",
      "model_name": "LayoutModel",
      "state": {}
     }
    },
    "version_major": 2,
    "version_minor": 0
   }
  }
 },
 "nbformat": 4,
 "nbformat_minor": 2
}
