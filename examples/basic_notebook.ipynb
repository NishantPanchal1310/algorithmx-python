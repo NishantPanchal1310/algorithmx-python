{
 "cells": [
  {
   "cell_type": "code",
   "execution_count": 1,
   "metadata": {},
   "outputs": [
    {
     "data": {
      "application/vnd.jupyter.widget-view+json": {
       "model_id": "6154b7f03a3c49bfabf9559f08ba27e1",
       "version_major": 2,
       "version_minor": 0
      },
      "text/plain": [
       "JupyterWidget(events=['{\"attrs\": {\"nodes\": {\"1\": {}, \"2\": {}}}}', '{\"attrs\": {\"edges\": {\"1-2\": {\"source\": 1, \"…"
      ]
     },
     "metadata": {},
     "output_type": "display_data"
    }
   ],
   "source": [
    "from algorithmx import jupyter_canvas\n",
    "\n",
    "canvas = jupyter_canvas()\n",
    "\n",
    "canvas.nodes([1, 2]).add()\n",
    "canvas.edge((1, 2)).add()\n",
    "\n",
    "canvas"
   ]
  },
  {
   "cell_type": "code",
   "execution_count": null,
   "metadata": {},
   "outputs": [],
   "source": []
  }
 ],
 "metadata": {
  "kernelspec": {
   "display_name": "Python 3",
   "language": "python",
   "name": "python3"
  },
  "language_info": {
   "codemirror_mode": {
    "name": "ipython",
    "version": 3
   },
   "file_extension": ".py",
   "mimetype": "text/x-python",
   "name": "python",
   "nbconvert_exporter": "python",
   "pygments_lexer": "ipython3",
   "version": "3.7.0"
  },
  "widgets": {
   "application/vnd.jupyter.widget-state+json": {
    "state": {
     "0f460900255e4be5903e4a230316dcde": {
      "model_module": "@jupyter-widgets/base",
      "model_module_version": "1.2.0",
      "model_name": "LayoutModel",
      "state": {}
     },
     "208bf356c4414d7388242a1ec7457f90": {
      "model_module": "@jupyter-widgets/base",
      "model_module_version": "1.2.0",
      "model_name": "LayoutModel",
      "state": {}
     },
     "2838caf11f034a988577f27598010b5f": {
      "model_module": "@jupyter-widgets/base",
      "model_module_version": "1.2.0",
      "model_name": "LayoutModel",
      "state": {}
     },
     "6154b7f03a3c49bfabf9559f08ba27e1": {
      "model_module": "algorithmx-jupyter",
      "model_module_version": "^3.0.0",
      "model_name": "AlgorithmXModel",
      "state": {
       "_model_module_version": "^3.0.0",
       "_view_module_version": "^3.0.0",
       "events": [
        "{\"attrs\": {\"nodes\": {\"1\": {}, \"2\": {}}}}",
        "{\"attrs\": {\"edges\": {\"1-2\": {\"source\": 1, \"target\": 2}}}}"
       ],
       "layout": "IPY_MODEL_208bf356c4414d7388242a1ec7457f90"
      }
     },
     "973a6faa1f0243b48b196fa4a062aaef": {
      "model_module": "@jupyter-widgets/base",
      "model_module_version": "1.2.0",
      "model_name": "LayoutModel",
      "state": {}
     },
     "ca2f41b308874054af67a137ce2d9786": {
      "model_module": "algorithmx-jupyter",
      "model_module_version": "^3.0.0",
      "model_name": "AlgorithmXModel",
      "state": {
       "_model_module_version": "^3.0.0",
       "_view_module_version": "^3.0.0",
       "events": [
        "{\"attrs\": {\"nodes\": {\"1\": {}, \"2\": {}}}}",
        "{\"attrs\": {\"edges\": {\"1-2\": {\"source\": 1, \"target\": 2}}}}"
       ],
       "layout": "IPY_MODEL_2838caf11f034a988577f27598010b5f"
      }
     },
     "cd19b9540ea74148a7a3e591ee0fc3fb": {
      "model_module": "algorithmx-jupyter",
      "model_module_version": "^3.0.0",
      "model_name": "AlgorithmXModel",
      "state": {
       "_model_module_version": "^3.0.0",
       "_view_module_version": "^3.0.0",
       "events": [
        "{\"attrs\": {\"nodes\": {\"1\": {}, \"2\": {}}}}",
        "{\"attrs\": {\"edges\": {\"1-2\": {\"source\": 1, \"target\": 2}}}}"
       ],
       "layout": "IPY_MODEL_0f460900255e4be5903e4a230316dcde"
      }
     },
     "d6d70bad67a641808e946df8fcbb132a": {
      "model_module": "algorithmx-jupyter",
      "model_module_version": "^3.0.0",
      "model_name": "AlgorithmXModel",
      "state": {
       "_model_module_version": "^3.0.0",
       "_view_module_version": "^3.0.0",
       "events": [
        "{\"attrs\": {\"nodes\": {\"1\": {}, \"2\": {}}}}",
        "{\"attrs\": {\"edges\": {\"1-2\": {\"source\": 1, \"target\": 2}}}}"
       ],
       "layout": "IPY_MODEL_973a6faa1f0243b48b196fa4a062aaef"
      }
     },
     "e0516575d1db46f38c0885427df663e8": {
      "model_module": "algorithmx-jupyter",
      "model_module_version": "^3.0.0",
      "model_name": "AlgorithmXModel",
      "state": {
       "_model_module_version": "^3.0.0",
       "_view_module_version": "^3.0.0",
       "events": [
        "{\"attrs\": {\"nodes\": {\"1\": {}, \"2\": {}}}}",
        "{\"attrs\": {\"edges\": {\"1-2\": {\"source\": 1, \"target\": 2}}}}"
       ],
       "layout": "IPY_MODEL_eded3868ebcf45e38e1514872e621edb"
      }
     },
     "eded3868ebcf45e38e1514872e621edb": {
      "model_module": "@jupyter-widgets/base",
      "model_module_version": "1.2.0",
      "model_name": "LayoutModel",
      "state": {}
     }
    },
    "version_major": 2,
    "version_minor": 0
   }
  }
 },
 "nbformat": 4,
 "nbformat_minor": 4
}
