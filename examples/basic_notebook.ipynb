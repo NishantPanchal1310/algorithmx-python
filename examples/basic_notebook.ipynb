{
 "cells": [
  {
   "cell_type": "code",
   "execution_count": 1,
   "metadata": {},
   "outputs": [
    {
     "data": {
      "application/vnd.jupyter.widget-view+json": {
       "model_id": "dd2f525576f040f3915acd3e00a4f87b",
       "version_major": 2,
       "version_minor": 0
      },
      "text/plain": [
       "JupyterClient(events=['{\"type\": \"update\", \"queue\": \"default\", \"data\": {\"attributes\": {\"nodes\": {\"1\": {\"visible…"
      ]
     },
     "metadata": {},
     "output_type": "display_data"
    }
   ],
   "source": [
    "import algorithmx\n",
    "\n",
    "canvas = algorithmx.jupyter_canvas()\n",
    "\n",
    "canvas.nodes([1, 2]).add()\n",
    "canvas.edge((1, 2)).add()\n",
    "\n",
    "display(canvas)"
   ]
  },
  {
   "cell_type": "code",
   "execution_count": null,
   "metadata": {},
   "outputs": [],
   "source": []
  }
 ],
 "metadata": {
  "kernelspec": {
   "display_name": "Python 3",
   "language": "python",
   "name": "python3"
  },
  "language_info": {
   "codemirror_mode": {
    "name": "ipython",
    "version": 3
   },
   "file_extension": ".py",
   "mimetype": "text/x-python",
   "name": "python",
   "nbconvert_exporter": "python",
   "pygments_lexer": "ipython3",
   "version": "3.7.6"
  },
  "widgets": {
   "application/vnd.jupyter.widget-state+json": {
    "state": {
     "1997234107de431d8f4abe6a91cca3a3": {
      "model_module": "@jupyter-widgets/base",
      "model_module_version": "1.2.0",
      "model_name": "LayoutModel",
      "state": {}
     },
     "21df8b62f33e4d28b33af3c7cadf4cb5": {
      "model_module": "@jupyter-widgets/output",
      "model_module_version": "1.0.0",
      "model_name": "OutputModel",
      "state": {
       "layout": "IPY_MODEL_1997234107de431d8f4abe6a91cca3a3"
      }
     },
     "3be44d94605d4fce9d1362626dd6a9a1": {
      "model_module": "@jupyter-widgets/base",
      "model_module_version": "1.2.0",
      "model_name": "LayoutModel",
      "state": {}
     },
     "4e89d499852044d2946c0328323549c0": {
      "model_module": "@jupyter-widgets/controls",
      "model_module_version": "1.5.0",
      "model_name": "SliderStyleModel",
      "state": {
       "description_width": ""
      }
     },
     "64e521f370b745ca82ef531717862d84": {
      "model_module": "@jupyter-widgets/base",
      "model_module_version": "1.2.0",
      "model_name": "LayoutModel",
      "state": {}
     },
     "8d93e7fd13c7484ea3082b9a24b6480a": {
      "model_module": "@jupyter-widgets/controls",
      "model_module_version": "1.5.0",
      "model_name": "IntSliderModel",
      "state": {
       "description": "x",
       "layout": "IPY_MODEL_64e521f370b745ca82ef531717862d84",
       "step": 10,
       "style": "IPY_MODEL_4e89d499852044d2946c0328323549c0",
       "value": 50
      }
     },
     "c23a3a886ab4445296cce408efca6f90": {
      "model_module": "algorithmx-jupyter",
      "model_module_version": "^2.0.0",
      "model_name": "AlgorithmxModel",
      "state": {
       "_model_module_version": "^2.0.0",
       "_view_module_version": "^2.0.0",
       "events": [
        "{\"type\": \"update\", \"queue\": \"default\", \"data\": {\"attributes\": {\"nodes\": {\"1\": {\"visible\": true}, \"2\": {\"visible\": true}}}, \"animation\": {}}}",
        "{\"type\": \"update\", \"queue\": \"default\", \"data\": {\"attributes\": {\"edges\": {\"1-2\": {\"visible\": true, \"source\": \"1\", \"target\": \"2\"}}}, \"animation\": {}}}"
       ],
       "layout": "IPY_MODEL_3be44d94605d4fce9d1362626dd6a9a1"
      }
     },
     "cf874c3a04ec4271ae51cbbce2f9f605": {
      "model_module": "@jupyter-widgets/base",
      "model_module_version": "1.2.0",
      "model_name": "LayoutModel",
      "state": {}
     },
     "dc5f9b4743d544c3aadea45b58f3c12f": {
      "model_module": "@jupyter-widgets/base",
      "model_module_version": "1.2.0",
      "model_name": "LayoutModel",
      "state": {}
     },
     "dc6280755d54401f824a9d63fa168efd": {
      "model_module": "@jupyter-widgets/controls",
      "model_module_version": "1.5.0",
      "model_name": "VBoxModel",
      "state": {
       "_dom_classes": [
        "widget-interact"
       ],
       "children": [
        "IPY_MODEL_8d93e7fd13c7484ea3082b9a24b6480a",
        "IPY_MODEL_21df8b62f33e4d28b33af3c7cadf4cb5"
       ],
       "layout": "IPY_MODEL_cf874c3a04ec4271ae51cbbce2f9f605"
      }
     },
     "dd2f525576f040f3915acd3e00a4f87b": {
      "model_module": "algorithmx-jupyter",
      "model_module_version": "^2.0.0",
      "model_name": "AlgorithmxModel",
      "state": {
       "_model_module_version": "^2.0.0",
       "_view_module_version": "^2.0.0",
       "events": [
        "{\"type\": \"update\", \"queue\": \"default\", \"data\": {\"attributes\": {\"nodes\": {\"1\": {\"visible\": true}, \"2\": {\"visible\": true}}}, \"animation\": {}}}",
        "{\"type\": \"update\", \"queue\": \"default\", \"data\": {\"attributes\": {\"edges\": {\"1-2\": {\"visible\": true, \"source\": \"1\", \"target\": \"2\"}}}, \"animation\": {}}}"
       ],
       "layout": "IPY_MODEL_dc5f9b4743d544c3aadea45b58f3c12f"
      }
     }
    },
    "version_major": 2,
    "version_minor": 0
   }
  }
 },
 "nbformat": 4,
 "nbformat_minor": 4
}
